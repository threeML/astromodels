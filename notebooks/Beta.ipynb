{
 "cells": [
  {
   "cell_type": "markdown",
   "id": "ebd09f54",
   "metadata": {
    "papermill": {
     "duration": 0.007094,
     "end_time": "2025-09-26T22:01:39.430543",
     "exception": false,
     "start_time": "2025-09-26T22:01:39.423449",
     "status": "completed"
    },
    "tags": []
   },
   "source": [
    "# Beta"
   ]
  },
  {
   "cell_type": "code",
   "execution_count": 1,
   "id": "7d9f9a86",
   "metadata": {
    "execution": {
     "iopub.execute_input": "2025-09-26T22:01:39.444331Z",
     "iopub.status.busy": "2025-09-26T22:01:39.443848Z",
     "iopub.status.idle": "2025-09-26T22:01:41.586564Z",
     "shell.execute_reply": "2025-09-26T22:01:41.585824Z"
    },
    "nbsphinx": "hidden",
    "papermill": {
     "duration": 2.151849,
     "end_time": "2025-09-26T22:01:41.588879",
     "exception": false,
     "start_time": "2025-09-26T22:01:39.437030",
     "status": "completed"
    },
    "tags": []
   },
   "outputs": [],
   "source": [
    "%%capture\n",
    "\n",
    "import numpy as np\n",
    "\n",
    "import matplotlib.pyplot as plt\n",
    "\n",
    "import warnings\n",
    "warnings.simplefilter(\"ignore\")\n",
    "\n",
    "from astromodels.functions.function import _known_functions\n",
    "\n",
    "\n",
    "from jupyterthemes import jtplot\n",
    "jtplot.style(context=\"talk\", fscale=1, ticks=True, grid=False)\n",
    "%matplotlib inline"
   ]
  },
  {
   "cell_type": "code",
   "execution_count": 2,
   "id": "61fc005e",
   "metadata": {
    "execution": {
     "iopub.execute_input": "2025-09-26T22:01:41.593144Z",
     "iopub.status.busy": "2025-09-26T22:01:41.592736Z",
     "iopub.status.idle": "2025-09-26T22:01:41.599766Z",
     "shell.execute_reply": "2025-09-26T22:01:41.599210Z"
    },
    "nbsphinx": "hidden",
    "papermill": {
     "duration": 0.010784,
     "end_time": "2025-09-26T22:01:41.601222",
     "exception": false,
     "start_time": "2025-09-26T22:01:41.590438",
     "status": "completed"
    },
    "tags": [
     "parameters"
    ]
   },
   "outputs": [],
   "source": [
    "func_name = \"TbAbs\"\n",
    "\n",
    "positive_prior = False\n"
   ]
  },
  {
   "cell_type": "code",
   "execution_count": 3,
   "id": "6fa46c02",
   "metadata": {
    "execution": {
     "iopub.execute_input": "2025-09-26T22:01:41.604576Z",
     "iopub.status.busy": "2025-09-26T22:01:41.604403Z",
     "iopub.status.idle": "2025-09-26T22:01:41.606602Z",
     "shell.execute_reply": "2025-09-26T22:01:41.606127Z"
    },
    "papermill": {
     "duration": 0.005316,
     "end_time": "2025-09-26T22:01:41.607814",
     "exception": false,
     "start_time": "2025-09-26T22:01:41.602498",
     "status": "completed"
    },
    "tags": [
     "injected-parameters"
    ]
   },
   "outputs": [],
   "source": [
    "# Parameters\n",
    "func_name = \"Beta\"\n",
    "positive_prior = True\n"
   ]
  },
  {
   "cell_type": "code",
   "execution_count": 4,
   "id": "d7af0463",
   "metadata": {
    "execution": {
     "iopub.execute_input": "2025-09-26T22:01:41.611213Z",
     "iopub.status.busy": "2025-09-26T22:01:41.611045Z",
     "iopub.status.idle": "2025-09-26T22:01:41.614767Z",
     "shell.execute_reply": "2025-09-26T22:01:41.614199Z"
    },
    "lines_to_next_cell": 0,
    "nbsphinx": "hidden",
    "papermill": {
     "duration": 0.007389,
     "end_time": "2025-09-26T22:01:41.616697",
     "exception": false,
     "start_time": "2025-09-26T22:01:41.609308",
     "status": "completed"
    },
    "tags": []
   },
   "outputs": [],
   "source": [
    "func = _known_functions[func_name]()\n",
    "\n",
    "if not positive_prior:\n",
    "\n",
    "\tenergy_grid = np.linspace(-5,5,1000)\n",
    "\n",
    "else:\n",
    "    \n",
    "    energy_grid = np.linspace(0,1,1000)\n",
    "    \n",
    "    \n",
    "    \n",
    "    \n",
    "blue = \"#4152E3\"\n",
    "red = \"#E3414B\"\n",
    "green = \"#41E39E\""
   ]
  },
  {
   "cell_type": "markdown",
   "id": "2de76b47",
   "metadata": {
    "lines_to_next_cell": 0,
    "papermill": {
     "duration": 0.001311,
     "end_time": "2025-09-26T22:01:41.619445",
     "exception": false,
     "start_time": "2025-09-26T22:01:41.618134",
     "status": "completed"
    },
    "tags": []
   },
   "source": [
    "## Description"
   ]
  },
  {
   "cell_type": "code",
   "execution_count": 5,
   "id": "7203c501",
   "metadata": {
    "execution": {
     "iopub.execute_input": "2025-09-26T22:01:41.622674Z",
     "iopub.status.busy": "2025-09-26T22:01:41.622500Z",
     "iopub.status.idle": "2025-09-26T22:01:41.627405Z",
     "shell.execute_reply": "2025-09-26T22:01:41.626620Z"
    },
    "papermill": {
     "duration": 0.009037,
     "end_time": "2025-09-26T22:01:41.629556",
     "exception": false,
     "start_time": "2025-09-26T22:01:41.620519",
     "status": "completed"
    },
    "tags": []
   },
   "outputs": [
    {
     "data": {
      "text/html": [
       "<ul>\n",
       "\n",
       "<li>description: A beta distribution function</li>\n",
       "\n",
       "<li>formula: $ f(x, a, b)=\\frac{\\Gamma(a+b) x^{a-1}(1-x)^{b-1}}{\\Gamma(a) \\Gamma(b)}$</li>\n",
       "\n",
       "<li>parameters: \n",
       "<ul>\n",
       "\n",
       "<li>a: \n",
       "<ul>\n",
       "\n",
       "<li>value: 0.5</li>\n",
       "\n",
       "<li>desc: first shape parameter</li>\n",
       "\n",
       "<li>min_value: 0.0</li>\n",
       "\n",
       "<li>max_value: None</li>\n",
       "\n",
       "<li>unit: </li>\n",
       "\n",
       "<li>is_normalization: False</li>\n",
       "\n",
       "<li>delta: 0.05</li>\n",
       "\n",
       "<li>free: True</li>\n",
       "\n",
       "</ul>\n",
       "\n",
       "</li>\n",
       "\n",
       "<li>b: \n",
       "<ul>\n",
       "\n",
       "<li>value: 0.5</li>\n",
       "\n",
       "<li>desc: second shape parameter</li>\n",
       "\n",
       "<li>min_value: 0.0</li>\n",
       "\n",
       "<li>max_value: None</li>\n",
       "\n",
       "<li>unit: </li>\n",
       "\n",
       "<li>is_normalization: False</li>\n",
       "\n",
       "<li>delta: 0.05</li>\n",
       "\n",
       "<li>free: True</li>\n",
       "\n",
       "</ul>\n",
       "\n",
       "</li>\n",
       "\n",
       "</ul>\n",
       "\n",
       "</li>\n",
       "\n",
       "</ul>\n"
      ],
      "text/plain": [
       "  * description: A beta distribution function\n",
       "  * formula: $ f(x, a, b)=\\frac{\\Gamma(a+b) x^{a-1}(1-x)^{b-1}}{\\Gamma(a) \\Gamma(b)}$\n",
       "  * parameters:\n",
       "    * a:\n",
       "      * value: 0.5\n",
       "      * desc: first shape parameter\n",
       "      * min_value: 0.0\n",
       "      * max_value: null\n",
       "      * unit: ''\n",
       "      * is_normalization: false\n",
       "      * delta: 0.05\n",
       "      * free: true\n",
       "    * b:\n",
       "      * value: 0.5\n",
       "      * desc: second shape parameter\n",
       "      * min_value: 0.0\n",
       "      * max_value: null\n",
       "      * unit: ''\n",
       "      * is_normalization: false\n",
       "      * delta: 0.05\n",
       "      * free: true"
      ]
     },
     "metadata": {},
     "output_type": "display_data"
    }
   ],
   "source": [
    "func.display()"
   ]
  },
  {
   "cell_type": "markdown",
   "id": "cbac3b19",
   "metadata": {
    "papermill": {
     "duration": 0.001221,
     "end_time": "2025-09-26T22:01:41.632355",
     "exception": false,
     "start_time": "2025-09-26T22:01:41.631134",
     "status": "completed"
    },
    "tags": []
   },
   "source": [
    "## Shape \n",
    "\n",
    "The shape of the function. \n",
    "\n",
    "*If this is not a photon model but a prior or linear function then ignore the units as these docs are auto-generated*"
   ]
  },
  {
   "cell_type": "code",
   "execution_count": 6,
   "id": "6078fa6b",
   "metadata": {
    "execution": {
     "iopub.execute_input": "2025-09-26T22:01:41.635614Z",
     "iopub.status.busy": "2025-09-26T22:01:41.635438Z",
     "iopub.status.idle": "2025-09-26T22:01:41.764500Z",
     "shell.execute_reply": "2025-09-26T22:01:41.761862Z"
    },
    "papermill": {
     "duration": 0.132338,
     "end_time": "2025-09-26T22:01:41.765930",
     "exception": false,
     "start_time": "2025-09-26T22:01:41.633592",
     "status": "completed"
    },
    "tags": [
     "nbsphinx-thumbnail"
    ]
   },
   "outputs": [
    {
     "data": {
      "text/plain": [
       "Text(0, 0.5, 'probability')"
      ]
     },
     "execution_count": 6,
     "metadata": {},
     "output_type": "execute_result"
    },
    {
     "data": {
      "image/png": "[encoded data removed]",
      "text/plain": [
       "<Figure size 1040x910 with 1 Axes>"
      ]
     },
     "metadata": {},
     "output_type": "display_data"
    }
   ],
   "source": [
    "fig, ax = plt.subplots()\n",
    "\n",
    "\n",
    "ax.plot(energy_grid, func(energy_grid), color=blue, lw=3)\n",
    "\n",
    "ax.set_xlabel(\"x\")\n",
    "ax.set_ylabel(\"probability\")\n"
   ]
  },
  {
   "cell_type": "markdown",
   "id": "34cd6dd6",
   "metadata": {
    "papermill": {
     "duration": 0.001805,
     "end_time": "2025-09-26T22:01:41.769669",
     "exception": false,
     "start_time": "2025-09-26T22:01:41.767864",
     "status": "completed"
    },
    "tags": []
   },
   "source": [
    "## Random Number Generation\n",
    "\n",
    "This is how we can generate random numbers from the prior.\n"
   ]
  },
  {
   "cell_type": "code",
   "execution_count": 7,
   "id": "680fe39e",
   "metadata": {
    "execution": {
     "iopub.execute_input": "2025-09-26T22:01:41.774946Z",
     "iopub.status.busy": "2025-09-26T22:01:41.774754Z",
     "iopub.status.idle": "2025-09-26T22:01:42.217330Z",
     "shell.execute_reply": "2025-09-26T22:01:42.210183Z"
    },
    "papermill": {
     "duration": 0.468919,
     "end_time": "2025-09-26T22:01:42.240564",
     "exception": false,
     "start_time": "2025-09-26T22:01:41.771645",
     "status": "completed"
    },
    "tags": []
   },
   "outputs": [
    {
     "data": {
      "text/plain": [
       "Text(0, 0.5, 'N')"
      ]
     },
     "execution_count": 7,
     "metadata": {},
     "output_type": "execute_result"
    },
    {
     "data": {
      "image/png": "[encoded data removed]",
      "text/plain": [
       "<Figure size 1040x910 with 1 Axes>"
      ]
     },
     "metadata": {},
     "output_type": "display_data"
    }
   ],
   "source": [
    "\n",
    "\n",
    "u = np.random.uniform(0,1, size=5000)\n",
    "\n",
    "draws = [func.from_unit_cube(x) for x in u]\n",
    "\n",
    "\n",
    "fig, ax = plt.subplots()\n",
    "\n",
    "\n",
    "ax.hist(draws, color=green, bins=50)\n",
    "\n",
    "ax.set_xlabel(\"value\")\n",
    "ax.set_ylabel(\"N\")\n",
    "\n"
   ]
  }
 ],
 "metadata": {
  "jupytext": {
   "formats": "ipynb,md"
  },
  "kernelspec": {
   "display_name": "Python 3 (ipykernel)",
   "language": "python",
   "name": "python3"
  },
  "language_info": {
   "codemirror_mode": {
    "name": "ipython",
    "version": 3
   },
   "file_extension": ".py",
   "mimetype": "text/x-python",
   "name": "python",
   "nbconvert_exporter": "python",
   "pygments_lexer": "ipython3",
   "version": "3.9.13"
  },
  "papermill": {
   "default_parameters": {},
   "duration": 3.779341,
   "end_time": "2025-09-26T22:01:42.681122",
   "environment_variables": {},
   "exception": null,
   "input_path": "Beta.ipynb",
   "output_path": "/Users/runner/work/astromodels/astromodels/docs/notebooks/Beta.ipynb",
   "parameters": {
    "func_name": "Beta",
    "positive_prior": true
   },
   "start_time": "2025-09-26T22:01:38.901781",
   "version": "2.6.0"
  }
 },
 "nbformat": 4,
 "nbformat_minor": 5
}
