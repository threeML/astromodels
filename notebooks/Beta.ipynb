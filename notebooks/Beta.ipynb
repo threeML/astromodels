{
 "cells": [
  {
   "cell_type": "markdown",
   "id": "8cceff88",
   "metadata": {
    "papermill": {
     "duration": 0.004558,
     "end_time": "2025-09-27T03:51:39.405338",
     "exception": false,
     "start_time": "2025-09-27T03:51:39.400780",
     "status": "completed"
    },
    "tags": []
   },
   "source": [
    "# Beta"
   ]
  },
  {
   "cell_type": "code",
   "execution_count": 1,
   "id": "901d44ae",
   "metadata": {
    "execution": {
     "iopub.execute_input": "2025-09-27T03:51:39.415126Z",
     "iopub.status.busy": "2025-09-27T03:51:39.414870Z",
     "iopub.status.idle": "2025-09-27T03:51:43.796170Z",
     "shell.execute_reply": "2025-09-27T03:51:43.792900Z"
    },
    "nbsphinx": "hidden",
    "papermill": {
     "duration": 4.401335,
     "end_time": "2025-09-27T03:51:43.812187",
     "exception": false,
     "start_time": "2025-09-27T03:51:39.410852",
     "status": "completed"
    },
    "tags": []
   },
   "outputs": [],
   "source": [
    "%%capture\n",
    "\n",
    "import numpy as np\n",
    "\n",
    "import matplotlib.pyplot as plt\n",
    "\n",
    "import warnings\n",
    "warnings.simplefilter(\"ignore\")\n",
    "\n",
    "from astromodels.functions.function import _known_functions\n",
    "\n",
    "\n",
    "from jupyterthemes import jtplot\n",
    "jtplot.style(context=\"talk\", fscale=1, ticks=True, grid=False)\n",
    "%matplotlib inline"
   ]
  },
  {
   "cell_type": "code",
   "execution_count": 2,
   "id": "b1ff2bd4",
   "metadata": {
    "execution": {
     "iopub.execute_input": "2025-09-27T03:51:43.834620Z",
     "iopub.status.busy": "2025-09-27T03:51:43.833998Z",
     "iopub.status.idle": "2025-09-27T03:51:43.841049Z",
     "shell.execute_reply": "2025-09-27T03:51:43.840379Z"
    },
    "nbsphinx": "hidden",
    "papermill": {
     "duration": 0.016242,
     "end_time": "2025-09-27T03:51:43.842388",
     "exception": false,
     "start_time": "2025-09-27T03:51:43.826146",
     "status": "completed"
    },
    "tags": [
     "parameters"
    ]
   },
   "outputs": [],
   "source": [
    "func_name = \"TbAbs\"\n",
    "\n",
    "positive_prior = False\n"
   ]
  },
  {
   "cell_type": "code",
   "execution_count": 3,
   "id": "c5b3d8c5",
   "metadata": {
    "execution": {
     "iopub.execute_input": "2025-09-27T03:51:43.847560Z",
     "iopub.status.busy": "2025-09-27T03:51:43.847348Z",
     "iopub.status.idle": "2025-09-27T03:51:43.854388Z",
     "shell.execute_reply": "2025-09-27T03:51:43.853420Z"
    },
    "papermill": {
     "duration": 0.01232,
     "end_time": "2025-09-27T03:51:43.856209",
     "exception": false,
     "start_time": "2025-09-27T03:51:43.843889",
     "status": "completed"
    },
    "tags": [
     "injected-parameters"
    ]
   },
   "outputs": [],
   "source": [
    "# Parameters\n",
    "func_name = \"Beta\"\n",
    "positive_prior = True\n"
   ]
  },
  {
   "cell_type": "code",
   "execution_count": 4,
   "id": "92e42277",
   "metadata": {
    "execution": {
     "iopub.execute_input": "2025-09-27T03:51:43.862163Z",
     "iopub.status.busy": "2025-09-27T03:51:43.861937Z",
     "iopub.status.idle": "2025-09-27T03:51:43.868054Z",
     "shell.execute_reply": "2025-09-27T03:51:43.867491Z"
    },
    "lines_to_next_cell": 0,
    "nbsphinx": "hidden",
    "papermill": {
     "duration": 0.010151,
     "end_time": "2025-09-27T03:51:43.869270",
     "exception": false,
     "start_time": "2025-09-27T03:51:43.859119",
     "status": "completed"
    },
    "tags": []
   },
   "outputs": [],
   "source": [
    "func = _known_functions[func_name]()\n",
    "\n",
    "if not positive_prior:\n",
    "\n",
    "\tenergy_grid = np.linspace(-5,5,1000)\n",
    "\n",
    "else:\n",
    "    \n",
    "    energy_grid = np.linspace(0,1,1000)\n",
    "    \n",
    "    \n",
    "    \n",
    "    \n",
    "blue = \"#4152E3\"\n",
    "red = \"#E3414B\"\n",
    "green = \"#41E39E\""
   ]
  },
  {
   "cell_type": "markdown",
   "id": "f8e4133c",
   "metadata": {
    "lines_to_next_cell": 0,
    "papermill": {
     "duration": 0.001963,
     "end_time": "2025-09-27T03:51:43.872729",
     "exception": false,
     "start_time": "2025-09-27T03:51:43.870766",
     "status": "completed"
    },
    "tags": []
   },
   "source": [
    "## Description"
   ]
  },
  {
   "cell_type": "code",
   "execution_count": 5,
   "id": "18157064",
   "metadata": {
    "execution": {
     "iopub.execute_input": "2025-09-27T03:51:43.876876Z",
     "iopub.status.busy": "2025-09-27T03:51:43.876683Z",
     "iopub.status.idle": "2025-09-27T03:51:43.887403Z",
     "shell.execute_reply": "2025-09-27T03:51:43.885670Z"
    },
    "papermill": {
     "duration": 0.01609,
     "end_time": "2025-09-27T03:51:43.890557",
     "exception": false,
     "start_time": "2025-09-27T03:51:43.874467",
     "status": "completed"
    },
    "tags": []
   },
   "outputs": [
    {
     "data": {
      "text/html": [
       "<ul>\n",
       "\n",
       "<li>description: A beta distribution function</li>\n",
       "\n",
       "<li>formula: $ f(x, a, b)=\\frac{\\Gamma(a+b) x^{a-1}(1-x)^{b-1}}{\\Gamma(a) \\Gamma(b)}$</li>\n",
       "\n",
       "<li>parameters: \n",
       "<ul>\n",
       "\n",
       "<li>a: \n",
       "<ul>\n",
       "\n",
       "<li>value: 0.5</li>\n",
       "\n",
       "<li>desc: first shape parameter</li>\n",
       "\n",
       "<li>min_value: 0.0</li>\n",
       "\n",
       "<li>max_value: None</li>\n",
       "\n",
       "<li>unit: </li>\n",
       "\n",
       "<li>is_normalization: False</li>\n",
       "\n",
       "<li>delta: 0.05</li>\n",
       "\n",
       "<li>free: True</li>\n",
       "\n",
       "</ul>\n",
       "\n",
       "</li>\n",
       "\n",
       "<li>b: \n",
       "<ul>\n",
       "\n",
       "<li>value: 0.5</li>\n",
       "\n",
       "<li>desc: second shape parameter</li>\n",
       "\n",
       "<li>min_value: 0.0</li>\n",
       "\n",
       "<li>max_value: None</li>\n",
       "\n",
       "<li>unit: </li>\n",
       "\n",
       "<li>is_normalization: False</li>\n",
       "\n",
       "<li>delta: 0.05</li>\n",
       "\n",
       "<li>free: True</li>\n",
       "\n",
       "</ul>\n",
       "\n",
       "</li>\n",
       "\n",
       "</ul>\n",
       "\n",
       "</li>\n",
       "\n",
       "</ul>\n"
      ],
      "text/plain": [
       "  * description: A beta distribution function\n",
       "  * formula: $ f(x, a, b)=\\frac{\\Gamma(a+b) x^{a-1}(1-x)^{b-1}}{\\Gamma(a) \\Gamma(b)}$\n",
       "  * parameters:\n",
       "    * a:\n",
       "      * value: 0.5\n",
       "      * desc: first shape parameter\n",
       "      * min_value: 0.0\n",
       "      * max_value: null\n",
       "      * unit: ''\n",
       "      * is_normalization: false\n",
       "      * delta: 0.05\n",
       "      * free: true\n",
       "    * b:\n",
       "      * value: 0.5\n",
       "      * desc: second shape parameter\n",
       "      * min_value: 0.0\n",
       "      * max_value: null\n",
       "      * unit: ''\n",
       "      * is_normalization: false\n",
       "      * delta: 0.05\n",
       "      * free: true"
      ]
     },
     "metadata": {},
     "output_type": "display_data"
    }
   ],
   "source": [
    "func.display()"
   ]
  },
  {
   "cell_type": "markdown",
   "id": "f1d808a9",
   "metadata": {
    "papermill": {
     "duration": 0.01128,
     "end_time": "2025-09-27T03:51:43.905382",
     "exception": false,
     "start_time": "2025-09-27T03:51:43.894102",
     "status": "completed"
    },
    "tags": []
   },
   "source": [
    "## Shape \n",
    "\n",
    "The shape of the function. \n",
    "\n",
    "*If this is not a photon model but a prior or linear function then ignore the units as these docs are auto-generated*"
   ]
  },
  {
   "cell_type": "code",
   "execution_count": 6,
   "id": "e7c8676e",
   "metadata": {
    "execution": {
     "iopub.execute_input": "2025-09-27T03:51:43.912649Z",
     "iopub.status.busy": "2025-09-27T03:51:43.912403Z",
     "iopub.status.idle": "2025-09-27T03:51:44.105978Z",
     "shell.execute_reply": "2025-09-27T03:51:44.104616Z"
    },
    "papermill": {
     "duration": 0.198587,
     "end_time": "2025-09-27T03:51:44.108309",
     "exception": false,
     "start_time": "2025-09-27T03:51:43.909722",
     "status": "completed"
    },
    "tags": [
     "nbsphinx-thumbnail"
    ]
   },
   "outputs": [
    {
     "data": {
      "text/plain": [
       "Text(0, 0.5, 'probability')"
      ]
     },
     "execution_count": 6,
     "metadata": {},
     "output_type": "execute_result"
    },
    {
     "data": {
      "image/png": "[encoded data removed]",
      "text/plain": [
       "<Figure size 1040x910 with 1 Axes>"
      ]
     },
     "metadata": {},
     "output_type": "display_data"
    }
   ],
   "source": [
    "fig, ax = plt.subplots()\n",
    "\n",
    "\n",
    "ax.plot(energy_grid, func(energy_grid), color=blue, lw=3)\n",
    "\n",
    "ax.set_xlabel(\"x\")\n",
    "ax.set_ylabel(\"probability\")\n"
   ]
  },
  {
   "cell_type": "markdown",
   "id": "fb8198f3",
   "metadata": {
    "papermill": {
     "duration": 0.001884,
     "end_time": "2025-09-27T03:51:44.112239",
     "exception": false,
     "start_time": "2025-09-27T03:51:44.110355",
     "status": "completed"
    },
    "tags": []
   },
   "source": [
    "## Random Number Generation\n",
    "\n",
    "This is how we can generate random numbers from the prior.\n"
   ]
  },
  {
   "cell_type": "code",
   "execution_count": 7,
   "id": "4bf61fd7",
   "metadata": {
    "execution": {
     "iopub.execute_input": "2025-09-27T03:51:44.126684Z",
     "iopub.status.busy": "2025-09-27T03:51:44.125999Z",
     "iopub.status.idle": "2025-09-27T03:51:44.814713Z",
     "shell.execute_reply": "2025-09-27T03:51:44.813187Z"
    },
    "papermill": {
     "duration": 0.701719,
     "end_time": "2025-09-27T03:51:44.817795",
     "exception": false,
     "start_time": "2025-09-27T03:51:44.116076",
     "status": "completed"
    },
    "tags": []
   },
   "outputs": [
    {
     "data": {
      "text/plain": [
       "Text(0, 0.5, 'N')"
      ]
     },
     "execution_count": 7,
     "metadata": {},
     "output_type": "execute_result"
    },
    {
     "data": {
      "image/png": "[encoded data removed]",
      "text/plain": [
       "<Figure size 1040x910 with 1 Axes>"
      ]
     },
     "metadata": {},
     "output_type": "display_data"
    }
   ],
   "source": [
    "\n",
    "\n",
    "u = np.random.uniform(0,1, size=5000)\n",
    "\n",
    "draws = [func.from_unit_cube(x) for x in u]\n",
    "\n",
    "\n",
    "fig, ax = plt.subplots()\n",
    "\n",
    "\n",
    "ax.hist(draws, color=green, bins=50)\n",
    "\n",
    "ax.set_xlabel(\"value\")\n",
    "ax.set_ylabel(\"N\")\n",
    "\n"
   ]
  }
 ],
 "metadata": {
  "jupytext": {
   "formats": "ipynb,md"
  },
  "kernelspec": {
   "display_name": "Python 3 (ipykernel)",
   "language": "python",
   "name": "python3"
  },
  "language_info": {
   "codemirror_mode": {
    "name": "ipython",
    "version": 3
   },
   "file_extension": ".py",
   "mimetype": "text/x-python",
   "name": "python",
   "nbconvert_exporter": "python",
   "pygments_lexer": "ipython3",
   "version": "3.9.13"
  },
  "papermill": {
   "default_parameters": {},
   "duration": 7.072401,
   "end_time": "2025-09-27T03:51:45.567808",
   "environment_variables": {},
   "exception": null,
   "input_path": "Beta.ipynb",
   "output_path": "/Users/runner/work/astromodels/astromodels/docs/notebooks/Beta.ipynb",
   "parameters": {
    "func_name": "Beta",
    "positive_prior": true
   },
   "start_time": "2025-09-27T03:51:38.495407",
   "version": "2.6.0"
  }
 },
 "nbformat": 4,
 "nbformat_minor": 5
}
