{
 "cells": [
  {
   "cell_type": "markdown",
   "id": "dbd48daf",
   "metadata": {
    "papermill": {
     "duration": 0.002547,
     "end_time": "2025-10-03T17:17:06.211857",
     "exception": false,
     "start_time": "2025-10-03T17:17:06.209310",
     "status": "completed"
    },
    "tags": []
   },
   "source": [
    "# Beta"
   ]
  },
  {
   "cell_type": "code",
   "execution_count": 1,
   "id": "d741a237",
   "metadata": {
    "execution": {
     "iopub.execute_input": "2025-10-03T17:17:06.215573Z",
     "iopub.status.busy": "2025-10-03T17:17:06.215389Z",
     "iopub.status.idle": "2025-10-03T17:17:09.173361Z",
     "shell.execute_reply": "2025-10-03T17:17:09.172237Z"
    },
    "nbsphinx": "hidden",
    "papermill": {
     "duration": 2.962387,
     "end_time": "2025-10-03T17:17:09.175629",
     "exception": false,
     "start_time": "2025-10-03T17:17:06.213242",
     "status": "completed"
    },
    "tags": []
   },
   "outputs": [],
   "source": [
    "%%capture\n",
    "\n",
    "import numpy as np\n",
    "\n",
    "import matplotlib.pyplot as plt\n",
    "\n",
    "import warnings\n",
    "warnings.simplefilter(\"ignore\")\n",
    "\n",
    "from astromodels.functions.function import _known_functions\n",
    "\n",
    "\n",
    "from jupyterthemes import jtplot\n",
    "jtplot.style(context=\"talk\", fscale=1, ticks=True, grid=False)\n",
    "%matplotlib inline"
   ]
  },
  {
   "cell_type": "code",
   "execution_count": 2,
   "id": "11d535b0",
   "metadata": {
    "execution": {
     "iopub.execute_input": "2025-10-03T17:17:09.181672Z",
     "iopub.status.busy": "2025-10-03T17:17:09.181222Z",
     "iopub.status.idle": "2025-10-03T17:17:09.183761Z",
     "shell.execute_reply": "2025-10-03T17:17:09.183334Z"
    },
    "nbsphinx": "hidden",
    "papermill": {
     "duration": 0.008042,
     "end_time": "2025-10-03T17:17:09.186659",
     "exception": false,
     "start_time": "2025-10-03T17:17:09.178617",
     "status": "completed"
    },
    "tags": [
     "parameters"
    ]
   },
   "outputs": [],
   "source": [
    "func_name = \"TbAbs\"\n",
    "\n",
    "positive_prior = False\n"
   ]
  },
  {
   "cell_type": "code",
   "execution_count": 3,
   "id": "180a3a46",
   "metadata": {
    "execution": {
     "iopub.execute_input": "2025-10-03T17:17:09.196742Z",
     "iopub.status.busy": "2025-10-03T17:17:09.195914Z",
     "iopub.status.idle": "2025-10-03T17:17:09.201469Z",
     "shell.execute_reply": "2025-10-03T17:17:09.200875Z"
    },
    "papermill": {
     "duration": 0.014709,
     "end_time": "2025-10-03T17:17:09.203742",
     "exception": false,
     "start_time": "2025-10-03T17:17:09.189033",
     "status": "completed"
    },
    "tags": [
     "injected-parameters"
    ]
   },
   "outputs": [],
   "source": [
    "# Parameters\n",
    "func_name = \"Beta\"\n",
    "positive_prior = True\n"
   ]
  },
  {
   "cell_type": "code",
   "execution_count": 4,
   "id": "b4c5f086",
   "metadata": {
    "execution": {
     "iopub.execute_input": "2025-10-03T17:17:09.209248Z",
     "iopub.status.busy": "2025-10-03T17:17:09.209035Z",
     "iopub.status.idle": "2025-10-03T17:17:09.214015Z",
     "shell.execute_reply": "2025-10-03T17:17:09.212889Z"
    },
    "lines_to_next_cell": 0,
    "nbsphinx": "hidden",
    "papermill": {
     "duration": 0.009865,
     "end_time": "2025-10-03T17:17:09.216844",
     "exception": false,
     "start_time": "2025-10-03T17:17:09.206979",
     "status": "completed"
    },
    "tags": []
   },
   "outputs": [],
   "source": [
    "func = _known_functions[func_name]()\n",
    "\n",
    "if not positive_prior:\n",
    "\n",
    "\tenergy_grid = np.linspace(-5,5,1000)\n",
    "\n",
    "else:\n",
    "    \n",
    "    energy_grid = np.linspace(0,1,1000)\n",
    "    \n",
    "    \n",
    "    \n",
    "    \n",
    "blue = \"#4152E3\"\n",
    "red = \"#E3414B\"\n",
    "green = \"#41E39E\""
   ]
  },
  {
   "cell_type": "markdown",
   "id": "e94f4bfe",
   "metadata": {
    "lines_to_next_cell": 0,
    "papermill": {
     "duration": 0.001884,
     "end_time": "2025-10-03T17:17:09.222154",
     "exception": false,
     "start_time": "2025-10-03T17:17:09.220270",
     "status": "completed"
    },
    "tags": []
   },
   "source": [
    "## Description"
   ]
  },
  {
   "cell_type": "code",
   "execution_count": 5,
   "id": "2a92b646",
   "metadata": {
    "execution": {
     "iopub.execute_input": "2025-10-03T17:17:09.226652Z",
     "iopub.status.busy": "2025-10-03T17:17:09.226350Z",
     "iopub.status.idle": "2025-10-03T17:17:09.234666Z",
     "shell.execute_reply": "2025-10-03T17:17:09.234213Z"
    },
    "papermill": {
     "duration": 0.012729,
     "end_time": "2025-10-03T17:17:09.237034",
     "exception": false,
     "start_time": "2025-10-03T17:17:09.224305",
     "status": "completed"
    },
    "tags": []
   },
   "outputs": [
    {
     "data": {
      "text/html": [
       "<ul>\n",
       "\n",
       "<li>description: A beta distribution function</li>\n",
       "\n",
       "<li>formula: $ f(x, a, b)=\\frac{\\Gamma(a+b) x^{a-1}(1-x)^{b-1}}{\\Gamma(a) \\Gamma(b)}$</li>\n",
       "\n",
       "<li>parameters: \n",
       "<ul>\n",
       "\n",
       "<li>a: \n",
       "<ul>\n",
       "\n",
       "<li>value: 0.5</li>\n",
       "\n",
       "<li>desc: first shape parameter</li>\n",
       "\n",
       "<li>min_value: 0.0</li>\n",
       "\n",
       "<li>max_value: None</li>\n",
       "\n",
       "<li>unit: </li>\n",
       "\n",
       "<li>is_normalization: False</li>\n",
       "\n",
       "<li>delta: 0.05</li>\n",
       "\n",
       "<li>free: True</li>\n",
       "\n",
       "</ul>\n",
       "\n",
       "</li>\n",
       "\n",
       "<li>b: \n",
       "<ul>\n",
       "\n",
       "<li>value: 0.5</li>\n",
       "\n",
       "<li>desc: second shape parameter</li>\n",
       "\n",
       "<li>min_value: 0.0</li>\n",
       "\n",
       "<li>max_value: None</li>\n",
       "\n",
       "<li>unit: </li>\n",
       "\n",
       "<li>is_normalization: False</li>\n",
       "\n",
       "<li>delta: 0.05</li>\n",
       "\n",
       "<li>free: True</li>\n",
       "\n",
       "</ul>\n",
       "\n",
       "</li>\n",
       "\n",
       "</ul>\n",
       "\n",
       "</li>\n",
       "\n",
       "</ul>\n"
      ],
      "text/plain": [
       "  * description: A beta distribution function\n",
       "  * formula: $ f(x, a, b)=\\frac{\\Gamma(a+b) x^{a-1}(1-x)^{b-1}}{\\Gamma(a) \\Gamma(b)}$\n",
       "  * parameters:\n",
       "    * a:\n",
       "      * value: 0.5\n",
       "      * desc: first shape parameter\n",
       "      * min_value: 0.0\n",
       "      * max_value: null\n",
       "      * unit: ''\n",
       "      * is_normalization: false\n",
       "      * delta: 0.05\n",
       "      * free: true\n",
       "    * b:\n",
       "      * value: 0.5\n",
       "      * desc: second shape parameter\n",
       "      * min_value: 0.0\n",
       "      * max_value: null\n",
       "      * unit: ''\n",
       "      * is_normalization: false\n",
       "      * delta: 0.05\n",
       "      * free: true"
      ]
     },
     "metadata": {},
     "output_type": "display_data"
    }
   ],
   "source": [
    "func.display()"
   ]
  },
  {
   "cell_type": "markdown",
   "id": "9da4be32",
   "metadata": {
    "papermill": {
     "duration": 0.001449,
     "end_time": "2025-10-03T17:17:09.240016",
     "exception": false,
     "start_time": "2025-10-03T17:17:09.238567",
     "status": "completed"
    },
    "tags": []
   },
   "source": [
    "## Shape \n",
    "\n",
    "The shape of the function. \n",
    "\n",
    "*If this is not a photon model but a prior or linear function then ignore the units as these docs are auto-generated*"
   ]
  },
  {
   "cell_type": "code",
   "execution_count": 6,
   "id": "b9125f69",
   "metadata": {
    "execution": {
     "iopub.execute_input": "2025-10-03T17:17:09.247236Z",
     "iopub.status.busy": "2025-10-03T17:17:09.246820Z",
     "iopub.status.idle": "2025-10-03T17:17:09.388480Z",
     "shell.execute_reply": "2025-10-03T17:17:09.388005Z"
    },
    "papermill": {
     "duration": 0.146774,
     "end_time": "2025-10-03T17:17:09.390180",
     "exception": false,
     "start_time": "2025-10-03T17:17:09.243406",
     "status": "completed"
    },
    "tags": [
     "nbsphinx-thumbnail"
    ]
   },
   "outputs": [
    {
     "data": {
      "text/plain": [
       "Text(0, 0.5, 'probability')"
      ]
     },
     "execution_count": 6,
     "metadata": {},
     "output_type": "execute_result"
    },
    {
     "data": {
      "image/png": "[encoded data removed]",
      "text/plain": [
       "<Figure size 1040x910 with 1 Axes>"
      ]
     },
     "metadata": {},
     "output_type": "display_data"
    }
   ],
   "source": [
    "fig, ax = plt.subplots()\n",
    "\n",
    "\n",
    "ax.plot(energy_grid, func(energy_grid), color=blue, lw=3)\n",
    "\n",
    "ax.set_xlabel(\"x\")\n",
    "ax.set_ylabel(\"probability\")\n"
   ]
  },
  {
   "cell_type": "markdown",
   "id": "303557f1",
   "metadata": {
    "papermill": {
     "duration": 0.001923,
     "end_time": "2025-10-03T17:17:09.394652",
     "exception": false,
     "start_time": "2025-10-03T17:17:09.392729",
     "status": "completed"
    },
    "tags": []
   },
   "source": [
    "## Random Number Generation\n",
    "\n",
    "This is how we can generate random numbers from the prior.\n"
   ]
  },
  {
   "cell_type": "code",
   "execution_count": 7,
   "id": "32ce5295",
   "metadata": {
    "execution": {
     "iopub.execute_input": "2025-10-03T17:17:09.400753Z",
     "iopub.status.busy": "2025-10-03T17:17:09.400570Z",
     "iopub.status.idle": "2025-10-03T17:17:09.839298Z",
     "shell.execute_reply": "2025-10-03T17:17:09.837782Z"
    },
    "papermill": {
     "duration": 0.443469,
     "end_time": "2025-10-03T17:17:09.841246",
     "exception": false,
     "start_time": "2025-10-03T17:17:09.397777",
     "status": "completed"
    },
    "tags": []
   },
   "outputs": [
    {
     "data": {
      "text/plain": [
       "Text(0, 0.5, 'N')"
      ]
     },
     "execution_count": 7,
     "metadata": {},
     "output_type": "execute_result"
    },
    {
     "data": {
      "image/png": "[encoded data removed]",
      "text/plain": [
       "<Figure size 1040x910 with 1 Axes>"
      ]
     },
     "metadata": {},
     "output_type": "display_data"
    }
   ],
   "source": [
    "\n",
    "\n",
    "u = np.random.uniform(0,1, size=5000)\n",
    "\n",
    "draws = [func.from_unit_cube(x) for x in u]\n",
    "\n",
    "\n",
    "fig, ax = plt.subplots()\n",
    "\n",
    "\n",
    "ax.hist(draws, color=green, bins=50)\n",
    "\n",
    "ax.set_xlabel(\"value\")\n",
    "ax.set_ylabel(\"N\")\n",
    "\n"
   ]
  }
 ],
 "metadata": {
  "jupytext": {
   "formats": "ipynb,md"
  },
  "kernelspec": {
   "display_name": "Python 3 (ipykernel)",
   "language": "python",
   "name": "python3"
  },
  "language_info": {
   "codemirror_mode": {
    "name": "ipython",
    "version": 3
   },
   "file_extension": ".py",
   "mimetype": "text/x-python",
   "name": "python",
   "nbconvert_exporter": "python",
   "pygments_lexer": "ipython3",
   "version": "3.9.13"
  },
  "papermill": {
   "default_parameters": {},
   "duration": 5.229352,
   "end_time": "2025-10-03T17:17:10.480456",
   "environment_variables": {},
   "exception": null,
   "input_path": "Beta.ipynb",
   "output_path": "/Users/runner/work/astromodels/astromodels/docs/notebooks/Beta.ipynb",
   "parameters": {
    "func_name": "Beta",
    "positive_prior": true
   },
   "start_time": "2025-10-03T17:17:05.251104",
   "version": "2.6.0"
  }
 },
 "nbformat": 4,
 "nbformat_minor": 5
}
