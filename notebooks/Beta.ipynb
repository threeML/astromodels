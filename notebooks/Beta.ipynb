{
 "cells": [
  {
   "cell_type": "markdown",
   "id": "281ee15e",
   "metadata": {
    "papermill": {
     "duration": 0.001433,
     "end_time": "2025-10-02T02:20:44.617663",
     "exception": false,
     "start_time": "2025-10-02T02:20:44.616230",
     "status": "completed"
    },
    "tags": []
   },
   "source": [
    "# Beta"
   ]
  },
  {
   "cell_type": "code",
   "execution_count": 1,
   "id": "60512aa6",
   "metadata": {
    "execution": {
     "iopub.execute_input": "2025-10-02T02:20:44.620860Z",
     "iopub.status.busy": "2025-10-02T02:20:44.620688Z",
     "iopub.status.idle": "2025-10-02T02:20:46.683428Z",
     "shell.execute_reply": "2025-10-02T02:20:46.682814Z"
    },
    "nbsphinx": "hidden",
    "papermill": {
     "duration": 2.066167,
     "end_time": "2025-10-02T02:20:46.684985",
     "exception": false,
     "start_time": "2025-10-02T02:20:44.618818",
     "status": "completed"
    },
    "tags": []
   },
   "outputs": [],
   "source": [
    "%%capture\n",
    "\n",
    "import numpy as np\n",
    "\n",
    "import matplotlib.pyplot as plt\n",
    "\n",
    "import warnings\n",
    "warnings.simplefilter(\"ignore\")\n",
    "\n",
    "from astromodels.functions.function import _known_functions\n",
    "\n",
    "\n",
    "from jupyterthemes import jtplot\n",
    "jtplot.style(context=\"talk\", fscale=1, ticks=True, grid=False)\n",
    "%matplotlib inline"
   ]
  },
  {
   "cell_type": "code",
   "execution_count": 2,
   "id": "969dba9f",
   "metadata": {
    "execution": {
     "iopub.execute_input": "2025-10-02T02:20:46.688449Z",
     "iopub.status.busy": "2025-10-02T02:20:46.688045Z",
     "iopub.status.idle": "2025-10-02T02:20:46.690403Z",
     "shell.execute_reply": "2025-10-02T02:20:46.689974Z"
    },
    "nbsphinx": "hidden",
    "papermill": {
     "duration": 0.005362,
     "end_time": "2025-10-02T02:20:46.691736",
     "exception": false,
     "start_time": "2025-10-02T02:20:46.686374",
     "status": "completed"
    },
    "tags": [
     "parameters"
    ]
   },
   "outputs": [],
   "source": [
    "func_name = \"TbAbs\"\n",
    "\n",
    "positive_prior = False\n"
   ]
  },
  {
   "cell_type": "code",
   "execution_count": 3,
   "id": "f69323d1",
   "metadata": {
    "execution": {
     "iopub.execute_input": "2025-10-02T02:20:46.694795Z",
     "iopub.status.busy": "2025-10-02T02:20:46.694610Z",
     "iopub.status.idle": "2025-10-02T02:20:46.700988Z",
     "shell.execute_reply": "2025-10-02T02:20:46.700422Z"
    },
    "papermill": {
     "duration": 0.009349,
     "end_time": "2025-10-02T02:20:46.702398",
     "exception": false,
     "start_time": "2025-10-02T02:20:46.693049",
     "status": "completed"
    },
    "tags": [
     "injected-parameters"
    ]
   },
   "outputs": [],
   "source": [
    "# Parameters\n",
    "func_name = \"Beta\"\n",
    "positive_prior = True\n"
   ]
  },
  {
   "cell_type": "code",
   "execution_count": 4,
   "id": "b6525ea3",
   "metadata": {
    "execution": {
     "iopub.execute_input": "2025-10-02T02:20:46.705859Z",
     "iopub.status.busy": "2025-10-02T02:20:46.705681Z",
     "iopub.status.idle": "2025-10-02T02:20:46.709149Z",
     "shell.execute_reply": "2025-10-02T02:20:46.708544Z"
    },
    "lines_to_next_cell": 0,
    "nbsphinx": "hidden",
    "papermill": {
     "duration": 0.006611,
     "end_time": "2025-10-02T02:20:46.710451",
     "exception": false,
     "start_time": "2025-10-02T02:20:46.703840",
     "status": "completed"
    },
    "tags": []
   },
   "outputs": [],
   "source": [
    "func = _known_functions[func_name]()\n",
    "\n",
    "if not positive_prior:\n",
    "\n",
    "\tenergy_grid = np.linspace(-5,5,1000)\n",
    "\n",
    "else:\n",
    "    \n",
    "    energy_grid = np.linspace(0,1,1000)\n",
    "    \n",
    "    \n",
    "    \n",
    "    \n",
    "blue = \"#4152E3\"\n",
    "red = \"#E3414B\"\n",
    "green = \"#41E39E\""
   ]
  },
  {
   "cell_type": "markdown",
   "id": "345edddf",
   "metadata": {
    "lines_to_next_cell": 0,
    "papermill": {
     "duration": 0.001119,
     "end_time": "2025-10-02T02:20:46.712925",
     "exception": false,
     "start_time": "2025-10-02T02:20:46.711806",
     "status": "completed"
    },
    "tags": []
   },
   "source": [
    "## Description"
   ]
  },
  {
   "cell_type": "code",
   "execution_count": 5,
   "id": "39aa15b2",
   "metadata": {
    "execution": {
     "iopub.execute_input": "2025-10-02T02:20:46.715910Z",
     "iopub.status.busy": "2025-10-02T02:20:46.715719Z",
     "iopub.status.idle": "2025-10-02T02:20:46.725480Z",
     "shell.execute_reply": "2025-10-02T02:20:46.724990Z"
    },
    "papermill": {
     "duration": 0.012705,
     "end_time": "2025-10-02T02:20:46.726724",
     "exception": false,
     "start_time": "2025-10-02T02:20:46.714019",
     "status": "completed"
    },
    "tags": []
   },
   "outputs": [
    {
     "data": {
      "text/html": [
       "<ul>\n",
       "\n",
       "<li>description: A beta distribution function</li>\n",
       "\n",
       "<li>formula: $ f(x, a, b)=\\frac{\\Gamma(a+b) x^{a-1}(1-x)^{b-1}}{\\Gamma(a) \\Gamma(b)}$</li>\n",
       "\n",
       "<li>parameters: \n",
       "<ul>\n",
       "\n",
       "<li>a: \n",
       "<ul>\n",
       "\n",
       "<li>value: 0.5</li>\n",
       "\n",
       "<li>desc: first shape parameter</li>\n",
       "\n",
       "<li>min_value: 0.0</li>\n",
       "\n",
       "<li>max_value: None</li>\n",
       "\n",
       "<li>unit: </li>\n",
       "\n",
       "<li>is_normalization: False</li>\n",
       "\n",
       "<li>delta: 0.05</li>\n",
       "\n",
       "<li>free: True</li>\n",
       "\n",
       "</ul>\n",
       "\n",
       "</li>\n",
       "\n",
       "<li>b: \n",
       "<ul>\n",
       "\n",
       "<li>value: 0.5</li>\n",
       "\n",
       "<li>desc: second shape parameter</li>\n",
       "\n",
       "<li>min_value: 0.0</li>\n",
       "\n",
       "<li>max_value: None</li>\n",
       "\n",
       "<li>unit: </li>\n",
       "\n",
       "<li>is_normalization: False</li>\n",
       "\n",
       "<li>delta: 0.05</li>\n",
       "\n",
       "<li>free: True</li>\n",
       "\n",
       "</ul>\n",
       "\n",
       "</li>\n",
       "\n",
       "</ul>\n",
       "\n",
       "</li>\n",
       "\n",
       "</ul>\n"
      ],
      "text/plain": [
       "  * description: A beta distribution function\n",
       "  * formula: $ f(x, a, b)=\\frac{\\Gamma(a+b) x^{a-1}(1-x)^{b-1}}{\\Gamma(a) \\Gamma(b)}$\n",
       "  * parameters:\n",
       "    * a:\n",
       "      * value: 0.5\n",
       "      * desc: first shape parameter\n",
       "      * min_value: 0.0\n",
       "      * max_value: null\n",
       "      * unit: ''\n",
       "      * is_normalization: false\n",
       "      * delta: 0.05\n",
       "      * free: true\n",
       "    * b:\n",
       "      * value: 0.5\n",
       "      * desc: second shape parameter\n",
       "      * min_value: 0.0\n",
       "      * max_value: null\n",
       "      * unit: ''\n",
       "      * is_normalization: false\n",
       "      * delta: 0.05\n",
       "      * free: true"
      ]
     },
     "metadata": {},
     "output_type": "display_data"
    }
   ],
   "source": [
    "func.display()"
   ]
  },
  {
   "cell_type": "markdown",
   "id": "9885cfb4",
   "metadata": {
    "papermill": {
     "duration": 0.001221,
     "end_time": "2025-10-02T02:20:46.729417",
     "exception": false,
     "start_time": "2025-10-02T02:20:46.728196",
     "status": "completed"
    },
    "tags": []
   },
   "source": [
    "## Shape \n",
    "\n",
    "The shape of the function. \n",
    "\n",
    "*If this is not a photon model but a prior or linear function then ignore the units as these docs are auto-generated*"
   ]
  },
  {
   "cell_type": "code",
   "execution_count": 6,
   "id": "41d423c4",
   "metadata": {
    "execution": {
     "iopub.execute_input": "2025-10-02T02:20:46.732582Z",
     "iopub.status.busy": "2025-10-02T02:20:46.732413Z",
     "iopub.status.idle": "2025-10-02T02:20:46.846316Z",
     "shell.execute_reply": "2025-10-02T02:20:46.845865Z"
    },
    "papermill": {
     "duration": 0.116806,
     "end_time": "2025-10-02T02:20:46.847411",
     "exception": false,
     "start_time": "2025-10-02T02:20:46.730605",
     "status": "completed"
    },
    "tags": [
     "nbsphinx-thumbnail"
    ]
   },
   "outputs": [
    {
     "data": {
      "text/plain": [
       "Text(0, 0.5, 'probability')"
      ]
     },
     "execution_count": 6,
     "metadata": {},
     "output_type": "execute_result"
    },
    {
     "data": {
      "image/png": "[encoded data removed]",
      "text/plain": [
       "<Figure size 1040x910 with 1 Axes>"
      ]
     },
     "metadata": {},
     "output_type": "display_data"
    }
   ],
   "source": [
    "fig, ax = plt.subplots()\n",
    "\n",
    "\n",
    "ax.plot(energy_grid, func(energy_grid), color=blue, lw=3)\n",
    "\n",
    "ax.set_xlabel(\"x\")\n",
    "ax.set_ylabel(\"probability\")\n"
   ]
  },
  {
   "cell_type": "markdown",
   "id": "9e00de76",
   "metadata": {
    "papermill": {
     "duration": 0.001524,
     "end_time": "2025-10-02T02:20:46.850771",
     "exception": false,
     "start_time": "2025-10-02T02:20:46.849247",
     "status": "completed"
    },
    "tags": []
   },
   "source": [
    "## Random Number Generation\n",
    "\n",
    "This is how we can generate random numbers from the prior.\n"
   ]
  },
  {
   "cell_type": "code",
   "execution_count": 7,
   "id": "ee552d3e",
   "metadata": {
    "execution": {
     "iopub.execute_input": "2025-10-02T02:20:46.855064Z",
     "iopub.status.busy": "2025-10-02T02:20:46.854885Z",
     "iopub.status.idle": "2025-10-02T02:20:47.232597Z",
     "shell.execute_reply": "2025-10-02T02:20:47.231603Z"
    },
    "papermill": {
     "duration": 0.381726,
     "end_time": "2025-10-02T02:20:47.234370",
     "exception": false,
     "start_time": "2025-10-02T02:20:46.852644",
     "status": "completed"
    },
    "tags": []
   },
   "outputs": [
    {
     "data": {
      "text/plain": [
       "Text(0, 0.5, 'N')"
      ]
     },
     "execution_count": 7,
     "metadata": {},
     "output_type": "execute_result"
    },
    {
     "data": {
      "image/png": "[encoded data removed]",
      "text/plain": [
       "<Figure size 1040x910 with 1 Axes>"
      ]
     },
     "metadata": {},
     "output_type": "display_data"
    }
   ],
   "source": [
    "\n",
    "\n",
    "u = np.random.uniform(0,1, size=5000)\n",
    "\n",
    "draws = [func.from_unit_cube(x) for x in u]\n",
    "\n",
    "\n",
    "fig, ax = plt.subplots()\n",
    "\n",
    "\n",
    "ax.hist(draws, color=green, bins=50)\n",
    "\n",
    "ax.set_xlabel(\"value\")\n",
    "ax.set_ylabel(\"N\")\n",
    "\n"
   ]
  }
 ],
 "metadata": {
  "jupytext": {
   "formats": "ipynb,md"
  },
  "kernelspec": {
   "display_name": "Python 3 (ipykernel)",
   "language": "python",
   "name": "python3"
  },
  "language_info": {
   "codemirror_mode": {
    "name": "ipython",
    "version": 3
   },
   "file_extension": ".py",
   "mimetype": "text/x-python",
   "name": "python",
   "nbconvert_exporter": "python",
   "pygments_lexer": "ipython3",
   "version": "3.9.13"
  },
  "papermill": {
   "default_parameters": {},
   "duration": 3.633393,
   "end_time": "2025-10-02T02:20:47.665305",
   "environment_variables": {},
   "exception": null,
   "input_path": "Beta.ipynb",
   "output_path": "/Users/runner/work/astromodels/astromodels/docs/notebooks/Beta.ipynb",
   "parameters": {
    "func_name": "Beta",
    "positive_prior": true
   },
   "start_time": "2025-10-02T02:20:44.031912",
   "version": "2.6.0"
  }
 },
 "nbformat": 4,
 "nbformat_minor": 5
}
