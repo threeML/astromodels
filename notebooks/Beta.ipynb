{
 "cells": [
  {
   "cell_type": "markdown",
   "id": "7d8867d2",
   "metadata": {
    "papermill": {
     "duration": 0.001517,
     "end_time": "2025-09-24T17:09:14.775655",
     "exception": false,
     "start_time": "2025-09-24T17:09:14.774138",
     "status": "completed"
    },
    "tags": []
   },
   "source": [
    "# Beta"
   ]
  },
  {
   "cell_type": "code",
   "execution_count": 1,
   "id": "00c21fd9",
   "metadata": {
    "execution": {
     "iopub.execute_input": "2025-09-24T17:09:14.778896Z",
     "iopub.status.busy": "2025-09-24T17:09:14.778713Z",
     "iopub.status.idle": "2025-09-24T17:09:17.127990Z",
     "shell.execute_reply": "2025-09-24T17:09:17.126687Z"
    },
    "nbsphinx": "hidden",
    "papermill": {
     "duration": 2.354278,
     "end_time": "2025-09-24T17:09:17.131173",
     "exception": false,
     "start_time": "2025-09-24T17:09:14.776895",
     "status": "completed"
    },
    "tags": []
   },
   "outputs": [],
   "source": [
    "%%capture\n",
    "\n",
    "import numpy as np\n",
    "\n",
    "import matplotlib.pyplot as plt\n",
    "\n",
    "import warnings\n",
    "warnings.simplefilter(\"ignore\")\n",
    "\n",
    "from astromodels.functions.function import _known_functions\n",
    "\n",
    "\n",
    "from jupyterthemes import jtplot\n",
    "jtplot.style(context=\"talk\", fscale=1, ticks=True, grid=False)\n",
    "%matplotlib inline"
   ]
  },
  {
   "cell_type": "code",
   "execution_count": 2,
   "id": "05aab934",
   "metadata": {
    "execution": {
     "iopub.execute_input": "2025-09-24T17:09:17.141450Z",
     "iopub.status.busy": "2025-09-24T17:09:17.140546Z",
     "iopub.status.idle": "2025-09-24T17:09:17.147391Z",
     "shell.execute_reply": "2025-09-24T17:09:17.146123Z"
    },
    "nbsphinx": "hidden",
    "papermill": {
     "duration": 0.01529,
     "end_time": "2025-09-24T17:09:17.150403",
     "exception": false,
     "start_time": "2025-09-24T17:09:17.135113",
     "status": "completed"
    },
    "tags": [
     "parameters"
    ]
   },
   "outputs": [],
   "source": [
    "func_name = \"TbAbs\"\n",
    "\n",
    "positive_prior = False\n"
   ]
  },
  {
   "cell_type": "code",
   "execution_count": 3,
   "id": "8e6eccf8",
   "metadata": {
    "execution": {
     "iopub.execute_input": "2025-09-24T17:09:17.156170Z",
     "iopub.status.busy": "2025-09-24T17:09:17.155826Z",
     "iopub.status.idle": "2025-09-24T17:09:17.159484Z",
     "shell.execute_reply": "2025-09-24T17:09:17.158408Z"
    },
    "papermill": {
     "duration": 0.009385,
     "end_time": "2025-09-24T17:09:17.161824",
     "exception": false,
     "start_time": "2025-09-24T17:09:17.152439",
     "status": "completed"
    },
    "tags": [
     "injected-parameters"
    ]
   },
   "outputs": [],
   "source": [
    "# Parameters\n",
    "func_name = \"Beta\"\n",
    "positive_prior = True\n"
   ]
  },
  {
   "cell_type": "code",
   "execution_count": 4,
   "id": "3b2cd365",
   "metadata": {
    "execution": {
     "iopub.execute_input": "2025-09-24T17:09:17.167902Z",
     "iopub.status.busy": "2025-09-24T17:09:17.167437Z",
     "iopub.status.idle": "2025-09-24T17:09:17.172525Z",
     "shell.execute_reply": "2025-09-24T17:09:17.171566Z"
    },
    "lines_to_next_cell": 0,
    "nbsphinx": "hidden",
    "papermill": {
     "duration": 0.010365,
     "end_time": "2025-09-24T17:09:17.175449",
     "exception": false,
     "start_time": "2025-09-24T17:09:17.165084",
     "status": "completed"
    },
    "tags": []
   },
   "outputs": [],
   "source": [
    "func = _known_functions[func_name]()\n",
    "\n",
    "if not positive_prior:\n",
    "\n",
    "\tenergy_grid = np.linspace(-5,5,1000)\n",
    "\n",
    "else:\n",
    "    \n",
    "    energy_grid = np.linspace(0,1,1000)\n",
    "    \n",
    "    \n",
    "    \n",
    "    \n",
    "blue = \"#4152E3\"\n",
    "red = \"#E3414B\"\n",
    "green = \"#41E39E\""
   ]
  },
  {
   "cell_type": "markdown",
   "id": "11e8fc61",
   "metadata": {
    "lines_to_next_cell": 0,
    "papermill": {
     "duration": 0.001475,
     "end_time": "2025-09-24T17:09:17.180419",
     "exception": false,
     "start_time": "2025-09-24T17:09:17.178944",
     "status": "completed"
    },
    "tags": []
   },
   "source": [
    "## Description"
   ]
  },
  {
   "cell_type": "code",
   "execution_count": 5,
   "id": "55432ea7",
   "metadata": {
    "execution": {
     "iopub.execute_input": "2025-09-24T17:09:17.187583Z",
     "iopub.status.busy": "2025-09-24T17:09:17.187212Z",
     "iopub.status.idle": "2025-09-24T17:09:17.193116Z",
     "shell.execute_reply": "2025-09-24T17:09:17.192697Z"
    },
    "papermill": {
     "duration": 0.012824,
     "end_time": "2025-09-24T17:09:17.196670",
     "exception": false,
     "start_time": "2025-09-24T17:09:17.183846",
     "status": "completed"
    },
    "tags": []
   },
   "outputs": [
    {
     "data": {
      "text/html": [
       "<ul>\n",
       "\n",
       "<li>description: A beta distribution function</li>\n",
       "\n",
       "<li>formula: $ f(x, a, b)=\\frac{\\Gamma(a+b) x^{a-1}(1-x)^{b-1}}{\\Gamma(a) \\Gamma(b)}$</li>\n",
       "\n",
       "<li>parameters: \n",
       "<ul>\n",
       "\n",
       "<li>a: \n",
       "<ul>\n",
       "\n",
       "<li>value: 0.5</li>\n",
       "\n",
       "<li>desc: first shape parameter</li>\n",
       "\n",
       "<li>min_value: 0.0</li>\n",
       "\n",
       "<li>max_value: None</li>\n",
       "\n",
       "<li>unit: </li>\n",
       "\n",
       "<li>is_normalization: False</li>\n",
       "\n",
       "<li>delta: 0.05</li>\n",
       "\n",
       "<li>free: True</li>\n",
       "\n",
       "</ul>\n",
       "\n",
       "</li>\n",
       "\n",
       "<li>b: \n",
       "<ul>\n",
       "\n",
       "<li>value: 0.5</li>\n",
       "\n",
       "<li>desc: second shape parameter</li>\n",
       "\n",
       "<li>min_value: 0.0</li>\n",
       "\n",
       "<li>max_value: None</li>\n",
       "\n",
       "<li>unit: </li>\n",
       "\n",
       "<li>is_normalization: False</li>\n",
       "\n",
       "<li>delta: 0.05</li>\n",
       "\n",
       "<li>free: True</li>\n",
       "\n",
       "</ul>\n",
       "\n",
       "</li>\n",
       "\n",
       "</ul>\n",
       "\n",
       "</li>\n",
       "\n",
       "</ul>\n"
      ],
      "text/plain": [
       "  * description: A beta distribution function\n",
       "  * formula: $ f(x, a, b)=\\frac{\\Gamma(a+b) x^{a-1}(1-x)^{b-1}}{\\Gamma(a) \\Gamma(b)}$\n",
       "  * parameters:\n",
       "    * a:\n",
       "      * value: 0.5\n",
       "      * desc: first shape parameter\n",
       "      * min_value: 0.0\n",
       "      * max_value: null\n",
       "      * unit: ''\n",
       "      * is_normalization: false\n",
       "      * delta: 0.05\n",
       "      * free: true\n",
       "    * b:\n",
       "      * value: 0.5\n",
       "      * desc: second shape parameter\n",
       "      * min_value: 0.0\n",
       "      * max_value: null\n",
       "      * unit: ''\n",
       "      * is_normalization: false\n",
       "      * delta: 0.05\n",
       "      * free: true"
      ]
     },
     "metadata": {},
     "output_type": "display_data"
    }
   ],
   "source": [
    "func.display()"
   ]
  },
  {
   "cell_type": "markdown",
   "id": "9f3ef353",
   "metadata": {
    "papermill": {
     "duration": 0.001984,
     "end_time": "2025-09-24T17:09:17.202586",
     "exception": false,
     "start_time": "2025-09-24T17:09:17.200602",
     "status": "completed"
    },
    "tags": []
   },
   "source": [
    "## Shape \n",
    "\n",
    "The shape of the function. \n",
    "\n",
    "*If this is not a photon model but a prior or linear function then ignore the units as these docs are auto-generated*"
   ]
  },
  {
   "cell_type": "code",
   "execution_count": 6,
   "id": "e35976b4",
   "metadata": {
    "execution": {
     "iopub.execute_input": "2025-09-24T17:09:17.207610Z",
     "iopub.status.busy": "2025-09-24T17:09:17.207194Z",
     "iopub.status.idle": "2025-09-24T17:09:17.387862Z",
     "shell.execute_reply": "2025-09-24T17:09:17.386334Z"
    },
    "papermill": {
     "duration": 0.184879,
     "end_time": "2025-09-24T17:09:17.388979",
     "exception": false,
     "start_time": "2025-09-24T17:09:17.204100",
     "status": "completed"
    },
    "tags": [
     "nbsphinx-thumbnail"
    ]
   },
   "outputs": [
    {
     "data": {
      "text/plain": [
       "Text(0, 0.5, 'probability')"
      ]
     },
     "execution_count": 6,
     "metadata": {},
     "output_type": "execute_result"
    },
    {
     "data": {
      "image/png": "[encoded data removed]",
      "text/plain": [
       "<Figure size 1040x910 with 1 Axes>"
      ]
     },
     "metadata": {},
     "output_type": "display_data"
    }
   ],
   "source": [
    "fig, ax = plt.subplots()\n",
    "\n",
    "\n",
    "ax.plot(energy_grid, func(energy_grid), color=blue, lw=3)\n",
    "\n",
    "ax.set_xlabel(\"x\")\n",
    "ax.set_ylabel(\"probability\")\n"
   ]
  },
  {
   "cell_type": "markdown",
   "id": "e0d4ebe6",
   "metadata": {
    "papermill": {
     "duration": 0.00152,
     "end_time": "2025-09-24T17:09:17.392251",
     "exception": false,
     "start_time": "2025-09-24T17:09:17.390731",
     "status": "completed"
    },
    "tags": []
   },
   "source": [
    "## Random Number Generation\n",
    "\n",
    "This is how we can generate random numbers from the prior.\n"
   ]
  },
  {
   "cell_type": "code",
   "execution_count": 7,
   "id": "f95571dc",
   "metadata": {
    "execution": {
     "iopub.execute_input": "2025-09-24T17:09:17.398430Z",
     "iopub.status.busy": "2025-09-24T17:09:17.398237Z",
     "iopub.status.idle": "2025-09-24T17:09:17.891275Z",
     "shell.execute_reply": "2025-09-24T17:09:17.889853Z"
    },
    "papermill": {
     "duration": 0.500375,
     "end_time": "2025-09-24T17:09:17.893960",
     "exception": false,
     "start_time": "2025-09-24T17:09:17.393585",
     "status": "completed"
    },
    "tags": []
   },
   "outputs": [
    {
     "data": {
      "text/plain": [
       "Text(0, 0.5, 'N')"
      ]
     },
     "execution_count": 7,
     "metadata": {},
     "output_type": "execute_result"
    },
    {
     "data": {
      "image/png": "[encoded data removed]",
      "text/plain": [
       "<Figure size 1040x910 with 1 Axes>"
      ]
     },
     "metadata": {},
     "output_type": "display_data"
    }
   ],
   "source": [
    "\n",
    "\n",
    "u = np.random.uniform(0,1, size=5000)\n",
    "\n",
    "draws = [func.from_unit_cube(x) for x in u]\n",
    "\n",
    "\n",
    "fig, ax = plt.subplots()\n",
    "\n",
    "\n",
    "ax.hist(draws, color=green, bins=50)\n",
    "\n",
    "ax.set_xlabel(\"value\")\n",
    "ax.set_ylabel(\"N\")\n",
    "\n"
   ]
  }
 ],
 "metadata": {
  "jupytext": {
   "formats": "ipynb,md"
  },
  "kernelspec": {
   "display_name": "Python 3 (ipykernel)",
   "language": "python",
   "name": "python3"
  },
  "language_info": {
   "codemirror_mode": {
    "name": "ipython",
    "version": 3
   },
   "file_extension": ".py",
   "mimetype": "text/x-python",
   "name": "python",
   "nbconvert_exporter": "python",
   "pygments_lexer": "ipython3",
   "version": "3.9.13"
  },
  "papermill": {
   "default_parameters": {},
   "duration": 4.581266,
   "end_time": "2025-09-24T17:09:18.547755",
   "environment_variables": {},
   "exception": null,
   "input_path": "Beta.ipynb",
   "output_path": "/Users/runner/work/astromodels/astromodels/docs/notebooks/Beta.ipynb",
   "parameters": {
    "func_name": "Beta",
    "positive_prior": true
   },
   "start_time": "2025-09-24T17:09:13.966489",
   "version": "2.6.0"
  }
 },
 "nbformat": 4,
 "nbformat_minor": 5
}
