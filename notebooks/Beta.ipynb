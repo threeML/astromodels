{
 "cells": [
  {
   "cell_type": "markdown",
   "id": "75f18849",
   "metadata": {
    "papermill": {
     "duration": 0.002151,
     "end_time": "2025-09-23T20:59:27.915560",
     "exception": false,
     "start_time": "2025-09-23T20:59:27.913409",
     "status": "completed"
    },
    "tags": []
   },
   "source": [
    "# Beta"
   ]
  },
  {
   "cell_type": "code",
   "execution_count": 1,
   "id": "f3edd119",
   "metadata": {
    "execution": {
     "iopub.execute_input": "2025-09-23T20:59:27.922802Z",
     "iopub.status.busy": "2025-09-23T20:59:27.922389Z",
     "iopub.status.idle": "2025-09-23T20:59:30.960586Z",
     "shell.execute_reply": "2025-09-23T20:59:30.959163Z"
    },
    "nbsphinx": "hidden",
    "papermill": {
     "duration": 3.045707,
     "end_time": "2025-09-23T20:59:30.962810",
     "exception": false,
     "start_time": "2025-09-23T20:59:27.917103",
     "status": "completed"
    },
    "tags": []
   },
   "outputs": [],
   "source": [
    "%%capture\n",
    "\n",
    "import numpy as np\n",
    "\n",
    "import matplotlib.pyplot as plt\n",
    "\n",
    "import warnings\n",
    "warnings.simplefilter(\"ignore\")\n",
    "\n",
    "from astromodels.functions.function import _known_functions\n",
    "\n",
    "\n",
    "from jupyterthemes import jtplot\n",
    "jtplot.style(context=\"talk\", fscale=1, ticks=True, grid=False)\n",
    "%matplotlib inline"
   ]
  },
  {
   "cell_type": "code",
   "execution_count": 2,
   "id": "74b596f2",
   "metadata": {
    "execution": {
     "iopub.execute_input": "2025-09-23T20:59:30.967674Z",
     "iopub.status.busy": "2025-09-23T20:59:30.967229Z",
     "iopub.status.idle": "2025-09-23T20:59:30.970621Z",
     "shell.execute_reply": "2025-09-23T20:59:30.969752Z"
    },
    "nbsphinx": "hidden",
    "papermill": {
     "duration": 0.007795,
     "end_time": "2025-09-23T20:59:30.972121",
     "exception": false,
     "start_time": "2025-09-23T20:59:30.964326",
     "status": "completed"
    },
    "tags": [
     "parameters"
    ]
   },
   "outputs": [],
   "source": [
    "func_name = \"TbAbs\"\n",
    "\n",
    "positive_prior = False\n"
   ]
  },
  {
   "cell_type": "code",
   "execution_count": 3,
   "id": "72ceaa34",
   "metadata": {
    "execution": {
     "iopub.execute_input": "2025-09-23T20:59:30.975515Z",
     "iopub.status.busy": "2025-09-23T20:59:30.975313Z",
     "iopub.status.idle": "2025-09-23T20:59:30.977455Z",
     "shell.execute_reply": "2025-09-23T20:59:30.977082Z"
    },
    "papermill": {
     "duration": 0.005141,
     "end_time": "2025-09-23T20:59:30.978624",
     "exception": false,
     "start_time": "2025-09-23T20:59:30.973483",
     "status": "completed"
    },
    "tags": [
     "injected-parameters"
    ]
   },
   "outputs": [],
   "source": [
    "# Parameters\n",
    "func_name = \"Beta\"\n",
    "positive_prior = True\n"
   ]
  },
  {
   "cell_type": "code",
   "execution_count": 4,
   "id": "5a399f90",
   "metadata": {
    "execution": {
     "iopub.execute_input": "2025-09-23T20:59:30.982401Z",
     "iopub.status.busy": "2025-09-23T20:59:30.982204Z",
     "iopub.status.idle": "2025-09-23T20:59:30.985863Z",
     "shell.execute_reply": "2025-09-23T20:59:30.985141Z"
    },
    "lines_to_next_cell": 0,
    "nbsphinx": "hidden",
    "papermill": {
     "duration": 0.007282,
     "end_time": "2025-09-23T20:59:30.987341",
     "exception": false,
     "start_time": "2025-09-23T20:59:30.980059",
     "status": "completed"
    },
    "tags": []
   },
   "outputs": [],
   "source": [
    "func = _known_functions[func_name]()\n",
    "\n",
    "if not positive_prior:\n",
    "\n",
    "\tenergy_grid = np.linspace(-5,5,1000)\n",
    "\n",
    "else:\n",
    "    \n",
    "    energy_grid = np.linspace(0,1,1000)\n",
    "    \n",
    "    \n",
    "    \n",
    "    \n",
    "blue = \"#4152E3\"\n",
    "red = \"#E3414B\"\n",
    "green = \"#41E39E\""
   ]
  },
  {
   "cell_type": "markdown",
   "id": "2c4626b2",
   "metadata": {
    "lines_to_next_cell": 0,
    "papermill": {
     "duration": 0.003548,
     "end_time": "2025-09-23T20:59:30.993911",
     "exception": false,
     "start_time": "2025-09-23T20:59:30.990363",
     "status": "completed"
    },
    "tags": []
   },
   "source": [
    "## Description"
   ]
  },
  {
   "cell_type": "code",
   "execution_count": 5,
   "id": "0ad7f30b",
   "metadata": {
    "execution": {
     "iopub.execute_input": "2025-09-23T20:59:30.999075Z",
     "iopub.status.busy": "2025-09-23T20:59:30.998855Z",
     "iopub.status.idle": "2025-09-23T20:59:31.008547Z",
     "shell.execute_reply": "2025-09-23T20:59:31.007531Z"
    },
    "papermill": {
     "duration": 0.015214,
     "end_time": "2025-09-23T20:59:31.011638",
     "exception": false,
     "start_time": "2025-09-23T20:59:30.996424",
     "status": "completed"
    },
    "tags": []
   },
   "outputs": [
    {
     "data": {
      "text/html": [
       "<ul>\n",
       "\n",
       "<li>description: A beta distribution function</li>\n",
       "\n",
       "<li>formula: $ f(x, a, b)=\\frac{\\Gamma(a+b) x^{a-1}(1-x)^{b-1}}{\\Gamma(a) \\Gamma(b)}$</li>\n",
       "\n",
       "<li>parameters: \n",
       "<ul>\n",
       "\n",
       "<li>a: \n",
       "<ul>\n",
       "\n",
       "<li>value: 0.5</li>\n",
       "\n",
       "<li>desc: first shape parameter</li>\n",
       "\n",
       "<li>min_value: 0.0</li>\n",
       "\n",
       "<li>max_value: None</li>\n",
       "\n",
       "<li>unit: </li>\n",
       "\n",
       "<li>is_normalization: False</li>\n",
       "\n",
       "<li>delta: 0.05</li>\n",
       "\n",
       "<li>free: True</li>\n",
       "\n",
       "</ul>\n",
       "\n",
       "</li>\n",
       "\n",
       "<li>b: \n",
       "<ul>\n",
       "\n",
       "<li>value: 0.5</li>\n",
       "\n",
       "<li>desc: second shape parameter</li>\n",
       "\n",
       "<li>min_value: 0.0</li>\n",
       "\n",
       "<li>max_value: None</li>\n",
       "\n",
       "<li>unit: </li>\n",
       "\n",
       "<li>is_normalization: False</li>\n",
       "\n",
       "<li>delta: 0.05</li>\n",
       "\n",
       "<li>free: True</li>\n",
       "\n",
       "</ul>\n",
       "\n",
       "</li>\n",
       "\n",
       "</ul>\n",
       "\n",
       "</li>\n",
       "\n",
       "</ul>\n"
      ],
      "text/plain": [
       "  * description: A beta distribution function\n",
       "  * formula: $ f(x, a, b)=\\frac{\\Gamma(a+b) x^{a-1}(1-x)^{b-1}}{\\Gamma(a) \\Gamma(b)}$\n",
       "  * parameters:\n",
       "    * a:\n",
       "      * value: 0.5\n",
       "      * desc: first shape parameter\n",
       "      * min_value: 0.0\n",
       "      * max_value: null\n",
       "      * unit: ''\n",
       "      * is_normalization: false\n",
       "      * delta: 0.05\n",
       "      * free: true\n",
       "    * b:\n",
       "      * value: 0.5\n",
       "      * desc: second shape parameter\n",
       "      * min_value: 0.0\n",
       "      * max_value: null\n",
       "      * unit: ''\n",
       "      * is_normalization: false\n",
       "      * delta: 0.05\n",
       "      * free: true"
      ]
     },
     "metadata": {},
     "output_type": "display_data"
    }
   ],
   "source": [
    "func.display()"
   ]
  },
  {
   "cell_type": "markdown",
   "id": "c5d455a8",
   "metadata": {
    "papermill": {
     "duration": 0.001959,
     "end_time": "2025-09-23T20:59:31.018064",
     "exception": false,
     "start_time": "2025-09-23T20:59:31.016105",
     "status": "completed"
    },
    "tags": []
   },
   "source": [
    "## Shape \n",
    "\n",
    "The shape of the function. \n",
    "\n",
    "*If this is not a photon model but a prior or linear function then ignore the units as these docs are auto-generated*"
   ]
  },
  {
   "cell_type": "code",
   "execution_count": 6,
   "id": "b37add6a",
   "metadata": {
    "execution": {
     "iopub.execute_input": "2025-09-23T20:59:31.022144Z",
     "iopub.status.busy": "2025-09-23T20:59:31.021934Z",
     "iopub.status.idle": "2025-09-23T20:59:31.135104Z",
     "shell.execute_reply": "2025-09-23T20:59:31.134080Z"
    },
    "papermill": {
     "duration": 0.118654,
     "end_time": "2025-09-23T20:59:31.138299",
     "exception": false,
     "start_time": "2025-09-23T20:59:31.019645",
     "status": "completed"
    },
    "tags": [
     "nbsphinx-thumbnail"
    ]
   },
   "outputs": [
    {
     "data": {
      "text/plain": [
       "Text(0, 0.5, 'probability')"
      ]
     },
     "execution_count": 6,
     "metadata": {},
     "output_type": "execute_result"
    },
    {
     "data": {
      "image/png": "[encoded data removed]",
      "text/plain": [
       "<Figure size 1040x910 with 1 Axes>"
      ]
     },
     "metadata": {},
     "output_type": "display_data"
    }
   ],
   "source": [
    "fig, ax = plt.subplots()\n",
    "\n",
    "\n",
    "ax.plot(energy_grid, func(energy_grid), color=blue, lw=3)\n",
    "\n",
    "ax.set_xlabel(\"x\")\n",
    "ax.set_ylabel(\"probability\")\n"
   ]
  },
  {
   "cell_type": "markdown",
   "id": "46df63d4",
   "metadata": {
    "papermill": {
     "duration": 0.002708,
     "end_time": "2025-09-23T20:59:31.143553",
     "exception": false,
     "start_time": "2025-09-23T20:59:31.140845",
     "status": "completed"
    },
    "tags": []
   },
   "source": [
    "## Random Number Generation\n",
    "\n",
    "This is how we can generate random numbers from the prior.\n"
   ]
  },
  {
   "cell_type": "code",
   "execution_count": 7,
   "id": "e6ffc659",
   "metadata": {
    "execution": {
     "iopub.execute_input": "2025-09-23T20:59:31.147822Z",
     "iopub.status.busy": "2025-09-23T20:59:31.147649Z",
     "iopub.status.idle": "2025-09-23T20:59:31.683455Z",
     "shell.execute_reply": "2025-09-23T20:59:31.681962Z"
    },
    "papermill": {
     "duration": 0.540406,
     "end_time": "2025-09-23T20:59:31.685773",
     "exception": false,
     "start_time": "2025-09-23T20:59:31.145367",
     "status": "completed"
    },
    "tags": []
   },
   "outputs": [
    {
     "data": {
      "text/plain": [
       "Text(0, 0.5, 'N')"
      ]
     },
     "execution_count": 7,
     "metadata": {},
     "output_type": "execute_result"
    },
    {
     "data": {
      "image/png": "[encoded data removed]",
      "text/plain": [
       "<Figure size 1040x910 with 1 Axes>"
      ]
     },
     "metadata": {},
     "output_type": "display_data"
    }
   ],
   "source": [
    "\n",
    "\n",
    "u = np.random.uniform(0,1, size=5000)\n",
    "\n",
    "draws = [func.from_unit_cube(x) for x in u]\n",
    "\n",
    "\n",
    "fig, ax = plt.subplots()\n",
    "\n",
    "\n",
    "ax.hist(draws, color=green, bins=50)\n",
    "\n",
    "ax.set_xlabel(\"value\")\n",
    "ax.set_ylabel(\"N\")\n",
    "\n"
   ]
  }
 ],
 "metadata": {
  "jupytext": {
   "formats": "ipynb,md"
  },
  "kernelspec": {
   "display_name": "Python 3 (ipykernel)",
   "language": "python",
   "name": "python3"
  },
  "language_info": {
   "codemirror_mode": {
    "name": "ipython",
    "version": 3
   },
   "file_extension": ".py",
   "mimetype": "text/x-python",
   "name": "python",
   "nbconvert_exporter": "python",
   "pygments_lexer": "ipython3",
   "version": "3.9.13"
  },
  "papermill": {
   "default_parameters": {},
   "duration": 5.00728,
   "end_time": "2025-09-23T20:59:32.221840",
   "environment_variables": {},
   "exception": null,
   "input_path": "Beta.ipynb",
   "output_path": "/Users/runner/work/astromodels/astromodels/docs/notebooks/Beta.ipynb",
   "parameters": {
    "func_name": "Beta",
    "positive_prior": true
   },
   "start_time": "2025-09-23T20:59:27.214560",
   "version": "2.6.0"
  }
 },
 "nbformat": 4,
 "nbformat_minor": 5
}
