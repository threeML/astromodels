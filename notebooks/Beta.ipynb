{
 "cells": [
  {
   "cell_type": "markdown",
   "id": "79d57bb3",
   "metadata": {
    "papermill": {
     "duration": 0.0018,
     "end_time": "2025-09-23T20:04:52.006408",
     "exception": false,
     "start_time": "2025-09-23T20:04:52.004608",
     "status": "completed"
    },
    "tags": []
   },
   "source": [
    "# Beta"
   ]
  },
  {
   "cell_type": "code",
   "execution_count": 1,
   "id": "983af670",
   "metadata": {
    "execution": {
     "iopub.execute_input": "2025-09-23T20:04:52.011794Z",
     "iopub.status.busy": "2025-09-23T20:04:52.011503Z",
     "iopub.status.idle": "2025-09-23T20:04:54.823718Z",
     "shell.execute_reply": "2025-09-23T20:04:54.823067Z"
    },
    "nbsphinx": "hidden",
    "papermill": {
     "duration": 2.817009,
     "end_time": "2025-09-23T20:04:54.825128",
     "exception": false,
     "start_time": "2025-09-23T20:04:52.008119",
     "status": "completed"
    },
    "tags": []
   },
   "outputs": [],
   "source": [
    "%%capture\n",
    "\n",
    "import numpy as np\n",
    "\n",
    "import matplotlib.pyplot as plt\n",
    "\n",
    "import warnings\n",
    "warnings.simplefilter(\"ignore\")\n",
    "\n",
    "from astromodels.functions.function import _known_functions\n",
    "\n",
    "\n",
    "from jupyterthemes import jtplot\n",
    "jtplot.style(context=\"talk\", fscale=1, ticks=True, grid=False)\n",
    "%matplotlib inline"
   ]
  },
  {
   "cell_type": "code",
   "execution_count": 2,
   "id": "807637b3",
   "metadata": {
    "execution": {
     "iopub.execute_input": "2025-09-23T20:04:54.828757Z",
     "iopub.status.busy": "2025-09-23T20:04:54.828402Z",
     "iopub.status.idle": "2025-09-23T20:04:54.830747Z",
     "shell.execute_reply": "2025-09-23T20:04:54.830270Z"
    },
    "nbsphinx": "hidden",
    "papermill": {
     "duration": 0.005492,
     "end_time": "2025-09-23T20:04:54.832029",
     "exception": false,
     "start_time": "2025-09-23T20:04:54.826537",
     "status": "completed"
    },
    "tags": [
     "parameters"
    ]
   },
   "outputs": [],
   "source": [
    "func_name = \"TbAbs\"\n",
    "\n",
    "positive_prior = False\n"
   ]
  },
  {
   "cell_type": "code",
   "execution_count": 3,
   "id": "525042f8",
   "metadata": {
    "execution": {
     "iopub.execute_input": "2025-09-23T20:04:54.834963Z",
     "iopub.status.busy": "2025-09-23T20:04:54.834816Z",
     "iopub.status.idle": "2025-09-23T20:04:54.840849Z",
     "shell.execute_reply": "2025-09-23T20:04:54.840358Z"
    },
    "papermill": {
     "duration": 0.008901,
     "end_time": "2025-09-23T20:04:54.842129",
     "exception": false,
     "start_time": "2025-09-23T20:04:54.833228",
     "status": "completed"
    },
    "tags": [
     "injected-parameters"
    ]
   },
   "outputs": [],
   "source": [
    "# Parameters\n",
    "func_name = \"Beta\"\n",
    "positive_prior = True\n"
   ]
  },
  {
   "cell_type": "code",
   "execution_count": 4,
   "id": "c79aeddf",
   "metadata": {
    "execution": {
     "iopub.execute_input": "2025-09-23T20:04:54.845487Z",
     "iopub.status.busy": "2025-09-23T20:04:54.845153Z",
     "iopub.status.idle": "2025-09-23T20:04:54.851329Z",
     "shell.execute_reply": "2025-09-23T20:04:54.850313Z"
    },
    "lines_to_next_cell": 0,
    "nbsphinx": "hidden",
    "papermill": {
     "duration": 0.009398,
     "end_time": "2025-09-23T20:04:54.852743",
     "exception": false,
     "start_time": "2025-09-23T20:04:54.843345",
     "status": "completed"
    },
    "tags": []
   },
   "outputs": [],
   "source": [
    "func = _known_functions[func_name]()\n",
    "\n",
    "if not positive_prior:\n",
    "\n",
    "\tenergy_grid = np.linspace(-5,5,1000)\n",
    "\n",
    "else:\n",
    "    \n",
    "    energy_grid = np.linspace(0,1,1000)\n",
    "    \n",
    "    \n",
    "    \n",
    "    \n",
    "blue = \"#4152E3\"\n",
    "red = \"#E3414B\"\n",
    "green = \"#41E39E\""
   ]
  },
  {
   "cell_type": "markdown",
   "id": "10139963",
   "metadata": {
    "lines_to_next_cell": 0,
    "papermill": {
     "duration": 0.001209,
     "end_time": "2025-09-23T20:04:54.855258",
     "exception": false,
     "start_time": "2025-09-23T20:04:54.854049",
     "status": "completed"
    },
    "tags": []
   },
   "source": [
    "## Description"
   ]
  },
  {
   "cell_type": "code",
   "execution_count": 5,
   "id": "51fb448c",
   "metadata": {
    "execution": {
     "iopub.execute_input": "2025-09-23T20:04:54.858796Z",
     "iopub.status.busy": "2025-09-23T20:04:54.858234Z",
     "iopub.status.idle": "2025-09-23T20:04:54.864542Z",
     "shell.execute_reply": "2025-09-23T20:04:54.864066Z"
    },
    "papermill": {
     "duration": 0.009241,
     "end_time": "2025-09-23T20:04:54.865661",
     "exception": false,
     "start_time": "2025-09-23T20:04:54.856420",
     "status": "completed"
    },
    "tags": []
   },
   "outputs": [
    {
     "data": {
      "text/html": [
       "<ul>\n",
       "\n",
       "<li>description: A beta distribution function</li>\n",
       "\n",
       "<li>formula: $ f(x, a, b)=\\frac{\\Gamma(a+b) x^{a-1}(1-x)^{b-1}}{\\Gamma(a) \\Gamma(b)}$</li>\n",
       "\n",
       "<li>parameters: \n",
       "<ul>\n",
       "\n",
       "<li>a: \n",
       "<ul>\n",
       "\n",
       "<li>value: 0.5</li>\n",
       "\n",
       "<li>desc: first shape parameter</li>\n",
       "\n",
       "<li>min_value: 0.0</li>\n",
       "\n",
       "<li>max_value: None</li>\n",
       "\n",
       "<li>unit: </li>\n",
       "\n",
       "<li>is_normalization: False</li>\n",
       "\n",
       "<li>delta: 0.05</li>\n",
       "\n",
       "<li>free: True</li>\n",
       "\n",
       "</ul>\n",
       "\n",
       "</li>\n",
       "\n",
       "<li>b: \n",
       "<ul>\n",
       "\n",
       "<li>value: 0.5</li>\n",
       "\n",
       "<li>desc: second shape parameter</li>\n",
       "\n",
       "<li>min_value: 0.0</li>\n",
       "\n",
       "<li>max_value: None</li>\n",
       "\n",
       "<li>unit: </li>\n",
       "\n",
       "<li>is_normalization: False</li>\n",
       "\n",
       "<li>delta: 0.05</li>\n",
       "\n",
       "<li>free: True</li>\n",
       "\n",
       "</ul>\n",
       "\n",
       "</li>\n",
       "\n",
       "</ul>\n",
       "\n",
       "</li>\n",
       "\n",
       "</ul>\n"
      ],
      "text/plain": [
       "  * description: A beta distribution function\n",
       "  * formula: $ f(x, a, b)=\\frac{\\Gamma(a+b) x^{a-1}(1-x)^{b-1}}{\\Gamma(a) \\Gamma(b)}$\n",
       "  * parameters:\n",
       "    * a:\n",
       "      * value: 0.5\n",
       "      * desc: first shape parameter\n",
       "      * min_value: 0.0\n",
       "      * max_value: null\n",
       "      * unit: ''\n",
       "      * is_normalization: false\n",
       "      * delta: 0.05\n",
       "      * free: true\n",
       "    * b:\n",
       "      * value: 0.5\n",
       "      * desc: second shape parameter\n",
       "      * min_value: 0.0\n",
       "      * max_value: null\n",
       "      * unit: ''\n",
       "      * is_normalization: false\n",
       "      * delta: 0.05\n",
       "      * free: true"
      ]
     },
     "metadata": {},
     "output_type": "display_data"
    }
   ],
   "source": [
    "func.display()"
   ]
  },
  {
   "cell_type": "markdown",
   "id": "3821c229",
   "metadata": {
    "papermill": {
     "duration": 0.001216,
     "end_time": "2025-09-23T20:04:54.868396",
     "exception": false,
     "start_time": "2025-09-23T20:04:54.867180",
     "status": "completed"
    },
    "tags": []
   },
   "source": [
    "## Shape \n",
    "\n",
    "The shape of the function. \n",
    "\n",
    "*If this is not a photon model but a prior or linear function then ignore the units as these docs are auto-generated*"
   ]
  },
  {
   "cell_type": "code",
   "execution_count": 6,
   "id": "f807d9fc",
   "metadata": {
    "execution": {
     "iopub.execute_input": "2025-09-23T20:04:54.871950Z",
     "iopub.status.busy": "2025-09-23T20:04:54.871597Z",
     "iopub.status.idle": "2025-09-23T20:04:55.169419Z",
     "shell.execute_reply": "2025-09-23T20:04:55.168107Z"
    },
    "papermill": {
     "duration": 0.301766,
     "end_time": "2025-09-23T20:04:55.171365",
     "exception": false,
     "start_time": "2025-09-23T20:04:54.869599",
     "status": "completed"
    },
    "tags": [
     "nbsphinx-thumbnail"
    ]
   },
   "outputs": [
    {
     "data": {
      "text/plain": [
       "Text(0, 0.5, 'probability')"
      ]
     },
     "execution_count": 6,
     "metadata": {},
     "output_type": "execute_result"
    },
    {
     "data": {
      "image/png": "[encoded data removed]",
      "text/plain": [
       "<Figure size 1040x910 with 1 Axes>"
      ]
     },
     "metadata": {},
     "output_type": "display_data"
    }
   ],
   "source": [
    "fig, ax = plt.subplots()\n",
    "\n",
    "\n",
    "ax.plot(energy_grid, func(energy_grid), color=blue, lw=3)\n",
    "\n",
    "ax.set_xlabel(\"x\")\n",
    "ax.set_ylabel(\"probability\")\n"
   ]
  },
  {
   "cell_type": "markdown",
   "id": "f211e991",
   "metadata": {
    "papermill": {
     "duration": 0.002843,
     "end_time": "2025-09-23T20:04:55.177483",
     "exception": false,
     "start_time": "2025-09-23T20:04:55.174640",
     "status": "completed"
    },
    "tags": []
   },
   "source": [
    "## Random Number Generation\n",
    "\n",
    "This is how we can generate random numbers from the prior.\n"
   ]
  },
  {
   "cell_type": "code",
   "execution_count": 7,
   "id": "33fb1eaa",
   "metadata": {
    "execution": {
     "iopub.execute_input": "2025-09-23T20:04:55.181559Z",
     "iopub.status.busy": "2025-09-23T20:04:55.181382Z",
     "iopub.status.idle": "2025-09-23T20:04:55.668260Z",
     "shell.execute_reply": "2025-09-23T20:04:55.651790Z"
    },
    "papermill": {
     "duration": 0.49031,
     "end_time": "2025-09-23T20:04:55.669513",
     "exception": false,
     "start_time": "2025-09-23T20:04:55.179203",
     "status": "completed"
    },
    "tags": []
   },
   "outputs": [
    {
     "data": {
      "text/plain": [
       "Text(0, 0.5, 'N')"
      ]
     },
     "execution_count": 7,
     "metadata": {},
     "output_type": "execute_result"
    },
    {
     "data": {
      "image/png": "[encoded data removed]",
      "text/plain": [
       "<Figure size 1040x910 with 1 Axes>"
      ]
     },
     "metadata": {},
     "output_type": "display_data"
    }
   ],
   "source": [
    "\n",
    "\n",
    "u = np.random.uniform(0,1, size=5000)\n",
    "\n",
    "draws = [func.from_unit_cube(x) for x in u]\n",
    "\n",
    "\n",
    "fig, ax = plt.subplots()\n",
    "\n",
    "\n",
    "ax.hist(draws, color=green, bins=50)\n",
    "\n",
    "ax.set_xlabel(\"value\")\n",
    "ax.set_ylabel(\"N\")\n",
    "\n"
   ]
  }
 ],
 "metadata": {
  "jupytext": {
   "formats": "ipynb,md"
  },
  "kernelspec": {
   "display_name": "Python 3 (ipykernel)",
   "language": "python",
   "name": "python3"
  },
  "language_info": {
   "codemirror_mode": {
    "name": "ipython",
    "version": 3
   },
   "file_extension": ".py",
   "mimetype": "text/x-python",
   "name": "python",
   "nbconvert_exporter": "python",
   "pygments_lexer": "ipython3",
   "version": "3.9.13"
  },
  "papermill": {
   "default_parameters": {},
   "duration": 4.973665,
   "end_time": "2025-09-23T20:04:56.203199",
   "environment_variables": {},
   "exception": null,
   "input_path": "Beta.ipynb",
   "output_path": "/Users/runner/work/astromodels/astromodels/docs/notebooks/Beta.ipynb",
   "parameters": {
    "func_name": "Beta",
    "positive_prior": true
   },
   "start_time": "2025-09-23T20:04:51.229534",
   "version": "2.6.0"
  }
 },
 "nbformat": 4,
 "nbformat_minor": 5
}
