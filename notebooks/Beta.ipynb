{
 "cells": [
  {
   "cell_type": "markdown",
   "id": "58d61f71",
   "metadata": {
    "papermill": {
     "duration": 0.001488,
     "end_time": "2025-09-27T00:39:57.856271",
     "exception": false,
     "start_time": "2025-09-27T00:39:57.854783",
     "status": "completed"
    },
    "tags": []
   },
   "source": [
    "# Beta"
   ]
  },
  {
   "cell_type": "code",
   "execution_count": 1,
   "id": "a7b793e2",
   "metadata": {
    "execution": {
     "iopub.execute_input": "2025-09-27T00:39:57.860046Z",
     "iopub.status.busy": "2025-09-27T00:39:57.859721Z",
     "iopub.status.idle": "2025-09-27T00:39:59.956107Z",
     "shell.execute_reply": "2025-09-27T00:39:59.955564Z"
    },
    "nbsphinx": "hidden",
    "papermill": {
     "duration": 2.100046,
     "end_time": "2025-09-27T00:39:59.957506",
     "exception": false,
     "start_time": "2025-09-27T00:39:57.857460",
     "status": "completed"
    },
    "tags": []
   },
   "outputs": [],
   "source": [
    "%%capture\n",
    "\n",
    "import numpy as np\n",
    "\n",
    "import matplotlib.pyplot as plt\n",
    "\n",
    "import warnings\n",
    "warnings.simplefilter(\"ignore\")\n",
    "\n",
    "from astromodels.functions.function import _known_functions\n",
    "\n",
    "\n",
    "from jupyterthemes import jtplot\n",
    "jtplot.style(context=\"talk\", fscale=1, ticks=True, grid=False)\n",
    "%matplotlib inline"
   ]
  },
  {
   "cell_type": "code",
   "execution_count": 2,
   "id": "f9172c10",
   "metadata": {
    "execution": {
     "iopub.execute_input": "2025-09-27T00:39:59.960895Z",
     "iopub.status.busy": "2025-09-27T00:39:59.960490Z",
     "iopub.status.idle": "2025-09-27T00:39:59.969132Z",
     "shell.execute_reply": "2025-09-27T00:39:59.968591Z"
    },
    "nbsphinx": "hidden",
    "papermill": {
     "duration": 0.011673,
     "end_time": "2025-09-27T00:39:59.970525",
     "exception": false,
     "start_time": "2025-09-27T00:39:59.958852",
     "status": "completed"
    },
    "tags": [
     "parameters"
    ]
   },
   "outputs": [],
   "source": [
    "func_name = \"TbAbs\"\n",
    "\n",
    "positive_prior = False\n"
   ]
  },
  {
   "cell_type": "code",
   "execution_count": 3,
   "id": "606b3e83",
   "metadata": {
    "execution": {
     "iopub.execute_input": "2025-09-27T00:39:59.973679Z",
     "iopub.status.busy": "2025-09-27T00:39:59.973514Z",
     "iopub.status.idle": "2025-09-27T00:39:59.981488Z",
     "shell.execute_reply": "2025-09-27T00:39:59.981099Z"
    },
    "papermill": {
     "duration": 0.010757,
     "end_time": "2025-09-27T00:39:59.982615",
     "exception": false,
     "start_time": "2025-09-27T00:39:59.971858",
     "status": "completed"
    },
    "tags": [
     "injected-parameters"
    ]
   },
   "outputs": [],
   "source": [
    "# Parameters\n",
    "func_name = \"Beta\"\n",
    "positive_prior = True\n"
   ]
  },
  {
   "cell_type": "code",
   "execution_count": 4,
   "id": "b7bfa742",
   "metadata": {
    "execution": {
     "iopub.execute_input": "2025-09-27T00:39:59.985368Z",
     "iopub.status.busy": "2025-09-27T00:39:59.985241Z",
     "iopub.status.idle": "2025-09-27T00:39:59.987994Z",
     "shell.execute_reply": "2025-09-27T00:39:59.987592Z"
    },
    "lines_to_next_cell": 0,
    "nbsphinx": "hidden",
    "papermill": {
     "duration": 0.005206,
     "end_time": "2025-09-27T00:39:59.989022",
     "exception": false,
     "start_time": "2025-09-27T00:39:59.983816",
     "status": "completed"
    },
    "tags": []
   },
   "outputs": [],
   "source": [
    "func = _known_functions[func_name]()\n",
    "\n",
    "if not positive_prior:\n",
    "\n",
    "\tenergy_grid = np.linspace(-5,5,1000)\n",
    "\n",
    "else:\n",
    "    \n",
    "    energy_grid = np.linspace(0,1,1000)\n",
    "    \n",
    "    \n",
    "    \n",
    "    \n",
    "blue = \"#4152E3\"\n",
    "red = \"#E3414B\"\n",
    "green = \"#41E39E\""
   ]
  },
  {
   "cell_type": "markdown",
   "id": "5f3f89fc",
   "metadata": {
    "lines_to_next_cell": 0,
    "papermill": {
     "duration": 0.001002,
     "end_time": "2025-09-27T00:39:59.991115",
     "exception": false,
     "start_time": "2025-09-27T00:39:59.990113",
     "status": "completed"
    },
    "tags": []
   },
   "source": [
    "## Description"
   ]
  },
  {
   "cell_type": "code",
   "execution_count": 5,
   "id": "93bdd8a9",
   "metadata": {
    "execution": {
     "iopub.execute_input": "2025-09-27T00:39:59.993623Z",
     "iopub.status.busy": "2025-09-27T00:39:59.993474Z",
     "iopub.status.idle": "2025-09-27T00:39:59.997441Z",
     "shell.execute_reply": "2025-09-27T00:39:59.996979Z"
    },
    "papermill": {
     "duration": 0.006448,
     "end_time": "2025-09-27T00:39:59.998524",
     "exception": false,
     "start_time": "2025-09-27T00:39:59.992076",
     "status": "completed"
    },
    "tags": []
   },
   "outputs": [
    {
     "data": {
      "text/html": [
       "<ul>\n",
       "\n",
       "<li>description: A beta distribution function</li>\n",
       "\n",
       "<li>formula: $ f(x, a, b)=\\frac{\\Gamma(a+b) x^{a-1}(1-x)^{b-1}}{\\Gamma(a) \\Gamma(b)}$</li>\n",
       "\n",
       "<li>parameters: \n",
       "<ul>\n",
       "\n",
       "<li>a: \n",
       "<ul>\n",
       "\n",
       "<li>value: 0.5</li>\n",
       "\n",
       "<li>desc: first shape parameter</li>\n",
       "\n",
       "<li>min_value: 0.0</li>\n",
       "\n",
       "<li>max_value: None</li>\n",
       "\n",
       "<li>unit: </li>\n",
       "\n",
       "<li>is_normalization: False</li>\n",
       "\n",
       "<li>delta: 0.05</li>\n",
       "\n",
       "<li>free: True</li>\n",
       "\n",
       "</ul>\n",
       "\n",
       "</li>\n",
       "\n",
       "<li>b: \n",
       "<ul>\n",
       "\n",
       "<li>value: 0.5</li>\n",
       "\n",
       "<li>desc: second shape parameter</li>\n",
       "\n",
       "<li>min_value: 0.0</li>\n",
       "\n",
       "<li>max_value: None</li>\n",
       "\n",
       "<li>unit: </li>\n",
       "\n",
       "<li>is_normalization: False</li>\n",
       "\n",
       "<li>delta: 0.05</li>\n",
       "\n",
       "<li>free: True</li>\n",
       "\n",
       "</ul>\n",
       "\n",
       "</li>\n",
       "\n",
       "</ul>\n",
       "\n",
       "</li>\n",
       "\n",
       "</ul>\n"
      ],
      "text/plain": [
       "  * description: A beta distribution function\n",
       "  * formula: $ f(x, a, b)=\\frac{\\Gamma(a+b) x^{a-1}(1-x)^{b-1}}{\\Gamma(a) \\Gamma(b)}$\n",
       "  * parameters:\n",
       "    * a:\n",
       "      * value: 0.5\n",
       "      * desc: first shape parameter\n",
       "      * min_value: 0.0\n",
       "      * max_value: null\n",
       "      * unit: ''\n",
       "      * is_normalization: false\n",
       "      * delta: 0.05\n",
       "      * free: true\n",
       "    * b:\n",
       "      * value: 0.5\n",
       "      * desc: second shape parameter\n",
       "      * min_value: 0.0\n",
       "      * max_value: null\n",
       "      * unit: ''\n",
       "      * is_normalization: false\n",
       "      * delta: 0.05\n",
       "      * free: true"
      ]
     },
     "metadata": {},
     "output_type": "display_data"
    }
   ],
   "source": [
    "func.display()"
   ]
  },
  {
   "cell_type": "markdown",
   "id": "369dc900",
   "metadata": {
    "papermill": {
     "duration": 0.001189,
     "end_time": "2025-09-27T00:40:00.001102",
     "exception": false,
     "start_time": "2025-09-27T00:39:59.999913",
     "status": "completed"
    },
    "tags": []
   },
   "source": [
    "## Shape \n",
    "\n",
    "The shape of the function. \n",
    "\n",
    "*If this is not a photon model but a prior or linear function then ignore the units as these docs are auto-generated*"
   ]
  },
  {
   "cell_type": "code",
   "execution_count": 6,
   "id": "9d8f445d",
   "metadata": {
    "execution": {
     "iopub.execute_input": "2025-09-27T00:40:00.006680Z",
     "iopub.status.busy": "2025-09-27T00:40:00.006494Z",
     "iopub.status.idle": "2025-09-27T00:40:00.094710Z",
     "shell.execute_reply": "2025-09-27T00:40:00.094142Z"
    },
    "papermill": {
     "duration": 0.093182,
     "end_time": "2025-09-27T00:40:00.096041",
     "exception": false,
     "start_time": "2025-09-27T00:40:00.002859",
     "status": "completed"
    },
    "tags": [
     "nbsphinx-thumbnail"
    ]
   },
   "outputs": [
    {
     "data": {
      "text/plain": [
       "Text(0, 0.5, 'probability')"
      ]
     },
     "execution_count": 6,
     "metadata": {},
     "output_type": "execute_result"
    },
    {
     "data": {
      "image/png": "[encoded data removed]",
      "text/plain": [
       "<Figure size 1040x910 with 1 Axes>"
      ]
     },
     "metadata": {},
     "output_type": "display_data"
    }
   ],
   "source": [
    "fig, ax = plt.subplots()\n",
    "\n",
    "\n",
    "ax.plot(energy_grid, func(energy_grid), color=blue, lw=3)\n",
    "\n",
    "ax.set_xlabel(\"x\")\n",
    "ax.set_ylabel(\"probability\")\n"
   ]
  },
  {
   "cell_type": "markdown",
   "id": "6e33572d",
   "metadata": {
    "papermill": {
     "duration": 0.001564,
     "end_time": "2025-09-27T00:40:00.099474",
     "exception": false,
     "start_time": "2025-09-27T00:40:00.097910",
     "status": "completed"
    },
    "tags": []
   },
   "source": [
    "## Random Number Generation\n",
    "\n",
    "This is how we can generate random numbers from the prior.\n"
   ]
  },
  {
   "cell_type": "code",
   "execution_count": 7,
   "id": "45f1de4a",
   "metadata": {
    "execution": {
     "iopub.execute_input": "2025-09-27T00:40:00.102904Z",
     "iopub.status.busy": "2025-09-27T00:40:00.102766Z",
     "iopub.status.idle": "2025-09-27T00:40:00.432214Z",
     "shell.execute_reply": "2025-09-27T00:40:00.431157Z"
    },
    "papermill": {
     "duration": 0.332611,
     "end_time": "2025-09-27T00:40:00.433406",
     "exception": false,
     "start_time": "2025-09-27T00:40:00.100795",
     "status": "completed"
    },
    "tags": []
   },
   "outputs": [
    {
     "data": {
      "text/plain": [
       "Text(0, 0.5, 'N')"
      ]
     },
     "execution_count": 7,
     "metadata": {},
     "output_type": "execute_result"
    },
    {
     "data": {
      "image/png": "[encoded data removed]",
      "text/plain": [
       "<Figure size 1040x910 with 1 Axes>"
      ]
     },
     "metadata": {},
     "output_type": "display_data"
    }
   ],
   "source": [
    "\n",
    "\n",
    "u = np.random.uniform(0,1, size=5000)\n",
    "\n",
    "draws = [func.from_unit_cube(x) for x in u]\n",
    "\n",
    "\n",
    "fig, ax = plt.subplots()\n",
    "\n",
    "\n",
    "ax.hist(draws, color=green, bins=50)\n",
    "\n",
    "ax.set_xlabel(\"value\")\n",
    "ax.set_ylabel(\"N\")\n",
    "\n"
   ]
  }
 ],
 "metadata": {
  "jupytext": {
   "formats": "ipynb,md"
  },
  "kernelspec": {
   "display_name": "Python 3 (ipykernel)",
   "language": "python",
   "name": "python3"
  },
  "language_info": {
   "codemirror_mode": {
    "name": "ipython",
    "version": 3
   },
   "file_extension": ".py",
   "mimetype": "text/x-python",
   "name": "python",
   "nbconvert_exporter": "python",
   "pygments_lexer": "ipython3",
   "version": "3.9.13"
  },
  "papermill": {
   "default_parameters": {},
   "duration": 3.54701,
   "end_time": "2025-09-27T00:40:00.872284",
   "environment_variables": {},
   "exception": null,
   "input_path": "Beta.ipynb",
   "output_path": "/Users/runner/work/astromodels/astromodels/docs/notebooks/Beta.ipynb",
   "parameters": {
    "func_name": "Beta",
    "positive_prior": true
   },
   "start_time": "2025-09-27T00:39:57.325274",
   "version": "2.6.0"
  }
 },
 "nbformat": 4,
 "nbformat_minor": 5
}
