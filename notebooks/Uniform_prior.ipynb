{
 "cells": [
  {
   "cell_type": "markdown",
   "id": "80953d3f",
   "metadata": {
    "papermill": {
     "duration": 0.0058,
     "end_time": "2025-10-02T18:41:54.077787",
     "exception": false,
     "start_time": "2025-10-02T18:41:54.071987",
     "status": "completed"
    },
    "tags": []
   },
   "source": [
    "# Uniform prior"
   ]
  },
  {
   "cell_type": "code",
   "execution_count": 1,
   "id": "7008c5ad",
   "metadata": {
    "execution": {
     "iopub.execute_input": "2025-10-02T18:41:54.085926Z",
     "iopub.status.busy": "2025-10-02T18:41:54.085563Z",
     "iopub.status.idle": "2025-10-02T18:41:57.040129Z",
     "shell.execute_reply": "2025-10-02T18:41:57.037295Z"
    },
    "nbsphinx": "hidden",
    "papermill": {
     "duration": 2.962623,
     "end_time": "2025-10-02T18:41:57.043500",
     "exception": false,
     "start_time": "2025-10-02T18:41:54.080877",
     "status": "completed"
    },
    "tags": []
   },
   "outputs": [],
   "source": [
    "%%capture\n",
    "\n",
    "import numpy as np\n",
    "\n",
    "import matplotlib.pyplot as plt\n",
    "\n",
    "import warnings\n",
    "warnings.simplefilter(\"ignore\")\n",
    "\n",
    "from astromodels.functions.function import _known_functions\n",
    "\n",
    "\n",
    "from jupyterthemes import jtplot\n",
    "jtplot.style(context=\"talk\", fscale=1, ticks=True, grid=False)\n",
    "%matplotlib inline"
   ]
  },
  {
   "cell_type": "code",
   "execution_count": 2,
   "id": "79621a52",
   "metadata": {
    "execution": {
     "iopub.execute_input": "2025-10-02T18:41:57.063594Z",
     "iopub.status.busy": "2025-10-02T18:41:57.063128Z",
     "iopub.status.idle": "2025-10-02T18:41:57.065961Z",
     "shell.execute_reply": "2025-10-02T18:41:57.065438Z"
    },
    "nbsphinx": "hidden",
    "papermill": {
     "duration": 0.013297,
     "end_time": "2025-10-02T18:41:57.067160",
     "exception": false,
     "start_time": "2025-10-02T18:41:57.053863",
     "status": "completed"
    },
    "tags": [
     "parameters"
    ]
   },
   "outputs": [],
   "source": [
    "func_name = \"TbAbs\"\n",
    "\n",
    "positive_prior = False\n"
   ]
  },
  {
   "cell_type": "code",
   "execution_count": 3,
   "id": "2c295b81",
   "metadata": {
    "execution": {
     "iopub.execute_input": "2025-10-02T18:41:57.071226Z",
     "iopub.status.busy": "2025-10-02T18:41:57.071033Z",
     "iopub.status.idle": "2025-10-02T18:41:57.077789Z",
     "shell.execute_reply": "2025-10-02T18:41:57.076782Z"
    },
    "papermill": {
     "duration": 0.010638,
     "end_time": "2025-10-02T18:41:57.079267",
     "exception": false,
     "start_time": "2025-10-02T18:41:57.068629",
     "status": "completed"
    },
    "tags": [
     "injected-parameters"
    ]
   },
   "outputs": [],
   "source": [
    "# Parameters\n",
    "func_name = \"Uniform_prior\"\n",
    "positive_prior = False\n"
   ]
  },
  {
   "cell_type": "code",
   "execution_count": 4,
   "id": "4eb09a26",
   "metadata": {
    "execution": {
     "iopub.execute_input": "2025-10-02T18:41:57.082685Z",
     "iopub.status.busy": "2025-10-02T18:41:57.082485Z",
     "iopub.status.idle": "2025-10-02T18:41:57.092193Z",
     "shell.execute_reply": "2025-10-02T18:41:57.091510Z"
    },
    "lines_to_next_cell": 0,
    "nbsphinx": "hidden",
    "papermill": {
     "duration": 0.012894,
     "end_time": "2025-10-02T18:41:57.093519",
     "exception": false,
     "start_time": "2025-10-02T18:41:57.080625",
     "status": "completed"
    },
    "tags": []
   },
   "outputs": [],
   "source": [
    "func = _known_functions[func_name]()\n",
    "\n",
    "if not positive_prior:\n",
    "\n",
    "\tenergy_grid = np.linspace(-5,5,1000)\n",
    "\n",
    "else:\n",
    "    \n",
    "    energy_grid = np.linspace(0,1,1000)\n",
    "    \n",
    "    \n",
    "    \n",
    "    \n",
    "blue = \"#4152E3\"\n",
    "red = \"#E3414B\"\n",
    "green = \"#41E39E\""
   ]
  },
  {
   "cell_type": "markdown",
   "id": "77c5a980",
   "metadata": {
    "lines_to_next_cell": 0,
    "papermill": {
     "duration": 0.00224,
     "end_time": "2025-10-02T18:41:57.097169",
     "exception": false,
     "start_time": "2025-10-02T18:41:57.094929",
     "status": "completed"
    },
    "tags": []
   },
   "source": [
    "## Description"
   ]
  },
  {
   "cell_type": "code",
   "execution_count": 5,
   "id": "e079e038",
   "metadata": {
    "execution": {
     "iopub.execute_input": "2025-10-02T18:41:57.103053Z",
     "iopub.status.busy": "2025-10-02T18:41:57.102862Z",
     "iopub.status.idle": "2025-10-02T18:41:57.115420Z",
     "shell.execute_reply": "2025-10-02T18:41:57.114799Z"
    },
    "papermill": {
     "duration": 0.01871,
     "end_time": "2025-10-02T18:41:57.119508",
     "exception": false,
     "start_time": "2025-10-02T18:41:57.100798",
     "status": "completed"
    },
    "tags": []
   },
   "outputs": [
    {
     "data": {
      "text/html": [
       "<ul>\n",
       "\n",
       "<li>description: A function which is constant on the interval lower_bound - upper_bound and 0 outside the interval. The extremes of the interval are counted as part of the interval.</li>\n",
       "\n",
       "<li>formula: $ f(x)=\\begin{cases}0 & x < \\text{lower_bound} \\\\\\text{value} & \\text{lower_bound} \\le x \\le \\text{upper_bound} \\\\ 0 & x > \\text{upper_bound} \\end{cases}$</li>\n",
       "\n",
       "<li>parameters: \n",
       "<ul>\n",
       "\n",
       "<li>lower_bound: \n",
       "<ul>\n",
       "\n",
       "<li>value: 0.0</li>\n",
       "\n",
       "<li>desc: Lower bound for the interval</li>\n",
       "\n",
       "<li>min_value: -inf</li>\n",
       "\n",
       "<li>max_value: inf</li>\n",
       "\n",
       "<li>unit: </li>\n",
       "\n",
       "<li>is_normalization: False</li>\n",
       "\n",
       "<li>delta: 0.1</li>\n",
       "\n",
       "<li>free: True</li>\n",
       "\n",
       "</ul>\n",
       "\n",
       "</li>\n",
       "\n",
       "<li>upper_bound: \n",
       "<ul>\n",
       "\n",
       "<li>value: 1.0</li>\n",
       "\n",
       "<li>desc: Upper bound for the interval</li>\n",
       "\n",
       "<li>min_value: -inf</li>\n",
       "\n",
       "<li>max_value: inf</li>\n",
       "\n",
       "<li>unit: </li>\n",
       "\n",
       "<li>is_normalization: False</li>\n",
       "\n",
       "<li>delta: 0.1</li>\n",
       "\n",
       "<li>free: True</li>\n",
       "\n",
       "</ul>\n",
       "\n",
       "</li>\n",
       "\n",
       "<li>value: \n",
       "<ul>\n",
       "\n",
       "<li>value: 1.0</li>\n",
       "\n",
       "<li>desc: Value in the interval</li>\n",
       "\n",
       "<li>min_value: None</li>\n",
       "\n",
       "<li>max_value: None</li>\n",
       "\n",
       "<li>unit: </li>\n",
       "\n",
       "<li>is_normalization: False</li>\n",
       "\n",
       "<li>delta: 0.1</li>\n",
       "\n",
       "<li>free: True</li>\n",
       "\n",
       "</ul>\n",
       "\n",
       "</li>\n",
       "\n",
       "</ul>\n",
       "\n",
       "</li>\n",
       "\n",
       "</ul>\n"
      ],
      "text/plain": [
       "  * description: A function which is constant on the interval lower_bound - upper_bound\n",
       "    * and 0 outside the interval. The extremes of the interval are counted as part of\n",
       "    * the interval.\n",
       "  * formula: $ f(x)=\\begin{cases}0 & x < \\text{lower_bound} \\\\\\text{value} & \\text{lower_bound}\n",
       "    * \\le x \\le \\text{upper_bound} \\\\ 0 & x > \\text{upper_bound} \\end{cases}$\n",
       "  * parameters:\n",
       "    * lower_bound:\n",
       "      * value: 0.0\n",
       "      * desc: Lower bound for the interval\n",
       "      * min_value: -.inf\n",
       "      * max_value: .inf\n",
       "      * unit: ''\n",
       "      * is_normalization: false\n",
       "      * delta: 0.1\n",
       "      * free: true\n",
       "    * upper_bound:\n",
       "      * value: 1.0\n",
       "      * desc: Upper bound for the interval\n",
       "      * min_value: -.inf\n",
       "      * max_value: .inf\n",
       "      * unit: ''\n",
       "      * is_normalization: false\n",
       "      * delta: 0.1\n",
       "      * free: true\n",
       "    * value:\n",
       "      * value: 1.0\n",
       "      * desc: Value in the interval\n",
       "      * min_value: null\n",
       "      * max_value: null\n",
       "      * unit: ''\n",
       "      * is_normalization: false\n",
       "      * delta: 0.1\n",
       "      * free: true"
      ]
     },
     "metadata": {},
     "output_type": "display_data"
    }
   ],
   "source": [
    "func.display()"
   ]
  },
  {
   "cell_type": "markdown",
   "id": "5661ea8b",
   "metadata": {
    "papermill": {
     "duration": 0.00201,
     "end_time": "2025-10-02T18:41:57.125248",
     "exception": false,
     "start_time": "2025-10-02T18:41:57.123238",
     "status": "completed"
    },
    "tags": []
   },
   "source": [
    "## Shape \n",
    "\n",
    "The shape of the function. \n",
    "\n",
    "*If this is not a photon model but a prior or linear function then ignore the units as these docs are auto-generated*"
   ]
  },
  {
   "cell_type": "code",
   "execution_count": 6,
   "id": "9e46767b",
   "metadata": {
    "execution": {
     "iopub.execute_input": "2025-10-02T18:41:57.128922Z",
     "iopub.status.busy": "2025-10-02T18:41:57.128742Z",
     "iopub.status.idle": "2025-10-02T18:41:57.213202Z",
     "shell.execute_reply": "2025-10-02T18:41:57.212719Z"
    },
    "papermill": {
     "duration": 0.088938,
     "end_time": "2025-10-02T18:41:57.215652",
     "exception": false,
     "start_time": "2025-10-02T18:41:57.126714",
     "status": "completed"
    },
    "tags": [
     "nbsphinx-thumbnail"
    ]
   },
   "outputs": [
    {
     "data": {
      "text/plain": [
       "Text(0, 0.5, 'probability')"
      ]
     },
     "execution_count": 6,
     "metadata": {},
     "output_type": "execute_result"
    },
    {
     "data": {
      "image/png": "[encoded data removed]",
      "text/plain": [
       "<Figure size 1040x910 with 1 Axes>"
      ]
     },
     "metadata": {},
     "output_type": "display_data"
    }
   ],
   "source": [
    "fig, ax = plt.subplots()\n",
    "\n",
    "\n",
    "ax.plot(energy_grid, func(energy_grid), color=blue, lw=3)\n",
    "\n",
    "ax.set_xlabel(\"x\")\n",
    "ax.set_ylabel(\"probability\")\n"
   ]
  },
  {
   "cell_type": "markdown",
   "id": "27eee392",
   "metadata": {
    "papermill": {
     "duration": 0.003196,
     "end_time": "2025-10-02T18:41:57.221611",
     "exception": false,
     "start_time": "2025-10-02T18:41:57.218415",
     "status": "completed"
    },
    "tags": []
   },
   "source": [
    "## Random Number Generation\n",
    "\n",
    "This is how we can generate random numbers from the prior.\n"
   ]
  },
  {
   "cell_type": "code",
   "execution_count": 7,
   "id": "a71b411d",
   "metadata": {
    "execution": {
     "iopub.execute_input": "2025-10-02T18:41:57.231564Z",
     "iopub.status.busy": "2025-10-02T18:41:57.231291Z",
     "iopub.status.idle": "2025-10-02T18:41:57.342400Z",
     "shell.execute_reply": "2025-10-02T18:41:57.341776Z"
    },
    "papermill": {
     "duration": 0.118855,
     "end_time": "2025-10-02T18:41:57.343751",
     "exception": false,
     "start_time": "2025-10-02T18:41:57.224896",
     "status": "completed"
    },
    "tags": []
   },
   "outputs": [
    {
     "data": {
      "text/plain": [
       "Text(0, 0.5, 'N')"
      ]
     },
     "execution_count": 7,
     "metadata": {},
     "output_type": "execute_result"
    },
    {
     "data": {
      "image/png": "[encoded data removed]",
      "text/plain": [
       "<Figure size 1040x910 with 1 Axes>"
      ]
     },
     "metadata": {},
     "output_type": "display_data"
    }
   ],
   "source": [
    "\n",
    "\n",
    "u = np.random.uniform(0,1, size=5000)\n",
    "\n",
    "draws = [func.from_unit_cube(x) for x in u]\n",
    "\n",
    "\n",
    "fig, ax = plt.subplots()\n",
    "\n",
    "\n",
    "ax.hist(draws, color=green, bins=50)\n",
    "\n",
    "ax.set_xlabel(\"value\")\n",
    "ax.set_ylabel(\"N\")\n",
    "\n"
   ]
  }
 ],
 "metadata": {
  "jupytext": {
   "formats": "ipynb,md"
  },
  "kernelspec": {
   "display_name": "Python 3 (ipykernel)",
   "language": "python",
   "name": "python3"
  },
  "language_info": {
   "codemirror_mode": {
    "name": "ipython",
    "version": 3
   },
   "file_extension": ".py",
   "mimetype": "text/x-python",
   "name": "python",
   "nbconvert_exporter": "python",
   "pygments_lexer": "ipython3",
   "version": "3.9.13"
  },
  "papermill": {
   "default_parameters": {},
   "duration": 4.686088,
   "end_time": "2025-10-02T18:41:57.979241",
   "environment_variables": {},
   "exception": null,
   "input_path": "Uniform_prior.ipynb",
   "output_path": "/Users/runner/work/astromodels/astromodels/docs/notebooks/Uniform_prior.ipynb",
   "parameters": {
    "func_name": "Uniform_prior",
    "positive_prior": false
   },
   "start_time": "2025-10-02T18:41:53.293153",
   "version": "2.6.0"
  }
 },
 "nbformat": 4,
 "nbformat_minor": 5
}
