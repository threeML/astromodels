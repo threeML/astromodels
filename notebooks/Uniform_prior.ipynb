{
 "cells": [
  {
   "cell_type": "markdown",
   "id": "cb323c64",
   "metadata": {
    "papermill": {
     "duration": 0.008056,
     "end_time": "2025-09-26T21:05:43.489702",
     "exception": false,
     "start_time": "2025-09-26T21:05:43.481646",
     "status": "completed"
    },
    "tags": []
   },
   "source": [
    "# Uniform prior"
   ]
  },
  {
   "cell_type": "code",
   "execution_count": 1,
   "id": "d573c59d",
   "metadata": {
    "execution": {
     "iopub.execute_input": "2025-09-26T21:05:43.499047Z",
     "iopub.status.busy": "2025-09-26T21:05:43.498857Z",
     "iopub.status.idle": "2025-09-26T21:05:45.821916Z",
     "shell.execute_reply": "2025-09-26T21:05:45.821261Z"
    },
    "nbsphinx": "hidden",
    "papermill": {
     "duration": 2.327037,
     "end_time": "2025-09-26T21:05:45.823905",
     "exception": false,
     "start_time": "2025-09-26T21:05:43.496868",
     "status": "completed"
    },
    "tags": []
   },
   "outputs": [],
   "source": [
    "%%capture\n",
    "\n",
    "import numpy as np\n",
    "\n",
    "import matplotlib.pyplot as plt\n",
    "\n",
    "import warnings\n",
    "warnings.simplefilter(\"ignore\")\n",
    "\n",
    "from astromodels.functions.function import _known_functions\n",
    "\n",
    "\n",
    "from jupyterthemes import jtplot\n",
    "jtplot.style(context=\"talk\", fscale=1, ticks=True, grid=False)\n",
    "%matplotlib inline"
   ]
  },
  {
   "cell_type": "code",
   "execution_count": 2,
   "id": "c7c91e98",
   "metadata": {
    "execution": {
     "iopub.execute_input": "2025-09-26T21:05:45.827736Z",
     "iopub.status.busy": "2025-09-26T21:05:45.827319Z",
     "iopub.status.idle": "2025-09-26T21:05:45.835914Z",
     "shell.execute_reply": "2025-09-26T21:05:45.835359Z"
    },
    "nbsphinx": "hidden",
    "papermill": {
     "duration": 0.011846,
     "end_time": "2025-09-26T21:05:45.837180",
     "exception": false,
     "start_time": "2025-09-26T21:05:45.825334",
     "status": "completed"
    },
    "tags": [
     "parameters"
    ]
   },
   "outputs": [],
   "source": [
    "func_name = \"TbAbs\"\n",
    "\n",
    "positive_prior = False\n"
   ]
  },
  {
   "cell_type": "code",
   "execution_count": 3,
   "id": "95902d1b",
   "metadata": {
    "execution": {
     "iopub.execute_input": "2025-09-26T21:05:45.840651Z",
     "iopub.status.busy": "2025-09-26T21:05:45.840477Z",
     "iopub.status.idle": "2025-09-26T21:05:45.843046Z",
     "shell.execute_reply": "2025-09-26T21:05:45.842563Z"
    },
    "papermill": {
     "duration": 0.005735,
     "end_time": "2025-09-26T21:05:45.844213",
     "exception": false,
     "start_time": "2025-09-26T21:05:45.838478",
     "status": "completed"
    },
    "tags": [
     "injected-parameters"
    ]
   },
   "outputs": [],
   "source": [
    "# Parameters\n",
    "func_name = \"Uniform_prior\"\n",
    "positive_prior = False\n"
   ]
  },
  {
   "cell_type": "code",
   "execution_count": 4,
   "id": "69a08773",
   "metadata": {
    "execution": {
     "iopub.execute_input": "2025-09-26T21:05:45.847231Z",
     "iopub.status.busy": "2025-09-26T21:05:45.847075Z",
     "iopub.status.idle": "2025-09-26T21:05:45.850447Z",
     "shell.execute_reply": "2025-09-26T21:05:45.849908Z"
    },
    "lines_to_next_cell": 0,
    "nbsphinx": "hidden",
    "papermill": {
     "duration": 0.00613,
     "end_time": "2025-09-26T21:05:45.851602",
     "exception": false,
     "start_time": "2025-09-26T21:05:45.845472",
     "status": "completed"
    },
    "tags": []
   },
   "outputs": [],
   "source": [
    "func = _known_functions[func_name]()\n",
    "\n",
    "if not positive_prior:\n",
    "\n",
    "\tenergy_grid = np.linspace(-5,5,1000)\n",
    "\n",
    "else:\n",
    "    \n",
    "    energy_grid = np.linspace(0,1,1000)\n",
    "    \n",
    "    \n",
    "    \n",
    "    \n",
    "blue = \"#4152E3\"\n",
    "red = \"#E3414B\"\n",
    "green = \"#41E39E\""
   ]
  },
  {
   "cell_type": "markdown",
   "id": "4d132b63",
   "metadata": {
    "lines_to_next_cell": 0,
    "papermill": {
     "duration": 0.001221,
     "end_time": "2025-09-26T21:05:45.854113",
     "exception": false,
     "start_time": "2025-09-26T21:05:45.852892",
     "status": "completed"
    },
    "tags": []
   },
   "source": [
    "## Description"
   ]
  },
  {
   "cell_type": "code",
   "execution_count": 5,
   "id": "7cbeb808",
   "metadata": {
    "execution": {
     "iopub.execute_input": "2025-09-26T21:05:45.857048Z",
     "iopub.status.busy": "2025-09-26T21:05:45.856876Z",
     "iopub.status.idle": "2025-09-26T21:05:45.866704Z",
     "shell.execute_reply": "2025-09-26T21:05:45.865856Z"
    },
    "papermill": {
     "duration": 0.01284,
     "end_time": "2025-09-26T21:05:45.868064",
     "exception": false,
     "start_time": "2025-09-26T21:05:45.855224",
     "status": "completed"
    },
    "tags": []
   },
   "outputs": [
    {
     "data": {
      "text/html": [
       "<ul>\n",
       "\n",
       "<li>description: A function which is constant on the interval lower_bound - upper_bound and 0 outside the interval. The extremes of the interval are counted as part of the interval.</li>\n",
       "\n",
       "<li>formula: $ f(x)=\\begin{cases}0 & x < \\text{lower_bound} \\\\\\text{value} & \\text{lower_bound} \\le x \\le \\text{upper_bound} \\\\ 0 & x > \\text{upper_bound} \\end{cases}$</li>\n",
       "\n",
       "<li>parameters: \n",
       "<ul>\n",
       "\n",
       "<li>lower_bound: \n",
       "<ul>\n",
       "\n",
       "<li>value: 0.0</li>\n",
       "\n",
       "<li>desc: Lower bound for the interval</li>\n",
       "\n",
       "<li>min_value: -inf</li>\n",
       "\n",
       "<li>max_value: inf</li>\n",
       "\n",
       "<li>unit: </li>\n",
       "\n",
       "<li>is_normalization: False</li>\n",
       "\n",
       "<li>delta: 0.1</li>\n",
       "\n",
       "<li>free: True</li>\n",
       "\n",
       "</ul>\n",
       "\n",
       "</li>\n",
       "\n",
       "<li>upper_bound: \n",
       "<ul>\n",
       "\n",
       "<li>value: 1.0</li>\n",
       "\n",
       "<li>desc: Upper bound for the interval</li>\n",
       "\n",
       "<li>min_value: -inf</li>\n",
       "\n",
       "<li>max_value: inf</li>\n",
       "\n",
       "<li>unit: </li>\n",
       "\n",
       "<li>is_normalization: False</li>\n",
       "\n",
       "<li>delta: 0.1</li>\n",
       "\n",
       "<li>free: True</li>\n",
       "\n",
       "</ul>\n",
       "\n",
       "</li>\n",
       "\n",
       "<li>value: \n",
       "<ul>\n",
       "\n",
       "<li>value: 1.0</li>\n",
       "\n",
       "<li>desc: Value in the interval</li>\n",
       "\n",
       "<li>min_value: None</li>\n",
       "\n",
       "<li>max_value: None</li>\n",
       "\n",
       "<li>unit: </li>\n",
       "\n",
       "<li>is_normalization: False</li>\n",
       "\n",
       "<li>delta: 0.1</li>\n",
       "\n",
       "<li>free: True</li>\n",
       "\n",
       "</ul>\n",
       "\n",
       "</li>\n",
       "\n",
       "</ul>\n",
       "\n",
       "</li>\n",
       "\n",
       "</ul>\n"
      ],
      "text/plain": [
       "  * description: A function which is constant on the interval lower_bound - upper_bound\n",
       "    * and 0 outside the interval. The extremes of the interval are counted as part of\n",
       "    * the interval.\n",
       "  * formula: $ f(x)=\\begin{cases}0 & x < \\text{lower_bound} \\\\\\text{value} & \\text{lower_bound}\n",
       "    * \\le x \\le \\text{upper_bound} \\\\ 0 & x > \\text{upper_bound} \\end{cases}$\n",
       "  * parameters:\n",
       "    * lower_bound:\n",
       "      * value: 0.0\n",
       "      * desc: Lower bound for the interval\n",
       "      * min_value: -.inf\n",
       "      * max_value: .inf\n",
       "      * unit: ''\n",
       "      * is_normalization: false\n",
       "      * delta: 0.1\n",
       "      * free: true\n",
       "    * upper_bound:\n",
       "      * value: 1.0\n",
       "      * desc: Upper bound for the interval\n",
       "      * min_value: -.inf\n",
       "      * max_value: .inf\n",
       "      * unit: ''\n",
       "      * is_normalization: false\n",
       "      * delta: 0.1\n",
       "      * free: true\n",
       "    * value:\n",
       "      * value: 1.0\n",
       "      * desc: Value in the interval\n",
       "      * min_value: null\n",
       "      * max_value: null\n",
       "      * unit: ''\n",
       "      * is_normalization: false\n",
       "      * delta: 0.1\n",
       "      * free: true"
      ]
     },
     "metadata": {},
     "output_type": "display_data"
    }
   ],
   "source": [
    "func.display()"
   ]
  },
  {
   "cell_type": "markdown",
   "id": "ffd3ecae",
   "metadata": {
    "papermill": {
     "duration": 0.001162,
     "end_time": "2025-09-26T21:05:45.870761",
     "exception": false,
     "start_time": "2025-09-26T21:05:45.869599",
     "status": "completed"
    },
    "tags": []
   },
   "source": [
    "## Shape \n",
    "\n",
    "The shape of the function. \n",
    "\n",
    "*If this is not a photon model but a prior or linear function then ignore the units as these docs are auto-generated*"
   ]
  },
  {
   "cell_type": "code",
   "execution_count": 6,
   "id": "6359037e",
   "metadata": {
    "execution": {
     "iopub.execute_input": "2025-09-26T21:05:45.873854Z",
     "iopub.status.busy": "2025-09-26T21:05:45.873677Z",
     "iopub.status.idle": "2025-09-26T21:05:45.995964Z",
     "shell.execute_reply": "2025-09-26T21:05:45.973791Z"
    },
    "papermill": {
     "duration": 0.130441,
     "end_time": "2025-09-26T21:05:46.002322",
     "exception": false,
     "start_time": "2025-09-26T21:05:45.871881",
     "status": "completed"
    },
    "tags": [
     "nbsphinx-thumbnail"
    ]
   },
   "outputs": [
    {
     "data": {
      "text/plain": [
       "Text(0, 0.5, 'probability')"
      ]
     },
     "execution_count": 6,
     "metadata": {},
     "output_type": "execute_result"
    },
    {
     "data": {
      "image/png": "[encoded data removed]",
      "text/plain": [
       "<Figure size 1040x910 with 1 Axes>"
      ]
     },
     "metadata": {},
     "output_type": "display_data"
    }
   ],
   "source": [
    "fig, ax = plt.subplots()\n",
    "\n",
    "\n",
    "ax.plot(energy_grid, func(energy_grid), color=blue, lw=3)\n",
    "\n",
    "ax.set_xlabel(\"x\")\n",
    "ax.set_ylabel(\"probability\")\n"
   ]
  },
  {
   "cell_type": "markdown",
   "id": "e2a13000",
   "metadata": {
    "papermill": {
     "duration": 0.001817,
     "end_time": "2025-09-26T21:05:46.005805",
     "exception": false,
     "start_time": "2025-09-26T21:05:46.003988",
     "status": "completed"
    },
    "tags": []
   },
   "source": [
    "## Random Number Generation\n",
    "\n",
    "This is how we can generate random numbers from the prior.\n"
   ]
  },
  {
   "cell_type": "code",
   "execution_count": 7,
   "id": "e085a067",
   "metadata": {
    "execution": {
     "iopub.execute_input": "2025-09-26T21:05:46.009827Z",
     "iopub.status.busy": "2025-09-26T21:05:46.009647Z",
     "iopub.status.idle": "2025-09-26T21:05:46.160640Z",
     "shell.execute_reply": "2025-09-26T21:05:46.157149Z"
    },
    "papermill": {
     "duration": 0.154728,
     "end_time": "2025-09-26T21:05:46.161916",
     "exception": false,
     "start_time": "2025-09-26T21:05:46.007188",
     "status": "completed"
    },
    "tags": []
   },
   "outputs": [
    {
     "data": {
      "text/plain": [
       "Text(0, 0.5, 'N')"
      ]
     },
     "execution_count": 7,
     "metadata": {},
     "output_type": "execute_result"
    },
    {
     "data": {
      "image/png": "[encoded data removed]",
      "text/plain": [
       "<Figure size 1040x910 with 1 Axes>"
      ]
     },
     "metadata": {},
     "output_type": "display_data"
    }
   ],
   "source": [
    "\n",
    "\n",
    "u = np.random.uniform(0,1, size=5000)\n",
    "\n",
    "draws = [func.from_unit_cube(x) for x in u]\n",
    "\n",
    "\n",
    "fig, ax = plt.subplots()\n",
    "\n",
    "\n",
    "ax.hist(draws, color=green, bins=50)\n",
    "\n",
    "ax.set_xlabel(\"value\")\n",
    "ax.set_ylabel(\"N\")\n",
    "\n"
   ]
  }
 ],
 "metadata": {
  "jupytext": {
   "formats": "ipynb,md"
  },
  "kernelspec": {
   "display_name": "Python 3 (ipykernel)",
   "language": "python",
   "name": "python3"
  },
  "language_info": {
   "codemirror_mode": {
    "name": "ipython",
    "version": 3
   },
   "file_extension": ".py",
   "mimetype": "text/x-python",
   "name": "python",
   "nbconvert_exporter": "python",
   "pygments_lexer": "ipython3",
   "version": "3.9.13"
  },
  "papermill": {
   "default_parameters": {},
   "duration": 3.913388,
   "end_time": "2025-09-26T21:05:46.690383",
   "environment_variables": {},
   "exception": null,
   "input_path": "Uniform_prior.ipynb",
   "output_path": "/Users/runner/work/astromodels/astromodels/docs/notebooks/Uniform_prior.ipynb",
   "parameters": {
    "func_name": "Uniform_prior",
    "positive_prior": false
   },
   "start_time": "2025-09-26T21:05:42.776995",
   "version": "2.6.0"
  }
 },
 "nbformat": 4,
 "nbformat_minor": 5
}
