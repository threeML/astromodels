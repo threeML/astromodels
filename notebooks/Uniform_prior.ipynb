{
 "cells": [
  {
   "cell_type": "markdown",
   "id": "b617ca0e",
   "metadata": {
    "papermill": {
     "duration": 0.005468,
     "end_time": "2025-09-27T03:51:27.164759",
     "exception": false,
     "start_time": "2025-09-27T03:51:27.159291",
     "status": "completed"
    },
    "tags": []
   },
   "source": [
    "# Uniform prior"
   ]
  },
  {
   "cell_type": "code",
   "execution_count": 1,
   "id": "59c06c36",
   "metadata": {
    "execution": {
     "iopub.execute_input": "2025-09-27T03:51:27.171021Z",
     "iopub.status.busy": "2025-09-27T03:51:27.170776Z",
     "iopub.status.idle": "2025-09-27T03:51:30.747236Z",
     "shell.execute_reply": "2025-09-27T03:51:30.745332Z"
    },
    "nbsphinx": "hidden",
    "papermill": {
     "duration": 3.586298,
     "end_time": "2025-09-27T03:51:30.752679",
     "exception": false,
     "start_time": "2025-09-27T03:51:27.166381",
     "status": "completed"
    },
    "tags": []
   },
   "outputs": [],
   "source": [
    "%%capture\n",
    "\n",
    "import numpy as np\n",
    "\n",
    "import matplotlib.pyplot as plt\n",
    "\n",
    "import warnings\n",
    "warnings.simplefilter(\"ignore\")\n",
    "\n",
    "from astromodels.functions.function import _known_functions\n",
    "\n",
    "\n",
    "from jupyterthemes import jtplot\n",
    "jtplot.style(context=\"talk\", fscale=1, ticks=True, grid=False)\n",
    "%matplotlib inline"
   ]
  },
  {
   "cell_type": "code",
   "execution_count": 2,
   "id": "fdf99b1f",
   "metadata": {
    "execution": {
     "iopub.execute_input": "2025-09-27T03:51:30.769288Z",
     "iopub.status.busy": "2025-09-27T03:51:30.768743Z",
     "iopub.status.idle": "2025-09-27T03:51:30.775816Z",
     "shell.execute_reply": "2025-09-27T03:51:30.775141Z"
    },
    "nbsphinx": "hidden",
    "papermill": {
     "duration": 0.01475,
     "end_time": "2025-09-27T03:51:30.777525",
     "exception": false,
     "start_time": "2025-09-27T03:51:30.762775",
     "status": "completed"
    },
    "tags": [
     "parameters"
    ]
   },
   "outputs": [],
   "source": [
    "func_name = \"TbAbs\"\n",
    "\n",
    "positive_prior = False\n"
   ]
  },
  {
   "cell_type": "code",
   "execution_count": 3,
   "id": "59d937f4",
   "metadata": {
    "execution": {
     "iopub.execute_input": "2025-09-27T03:51:30.782615Z",
     "iopub.status.busy": "2025-09-27T03:51:30.781962Z",
     "iopub.status.idle": "2025-09-27T03:51:30.791683Z",
     "shell.execute_reply": "2025-09-27T03:51:30.788410Z"
    },
    "papermill": {
     "duration": 0.01351,
     "end_time": "2025-09-27T03:51:30.793264",
     "exception": false,
     "start_time": "2025-09-27T03:51:30.779754",
     "status": "completed"
    },
    "tags": [
     "injected-parameters"
    ]
   },
   "outputs": [],
   "source": [
    "# Parameters\n",
    "func_name = \"Uniform_prior\"\n",
    "positive_prior = False\n"
   ]
  },
  {
   "cell_type": "code",
   "execution_count": 4,
   "id": "8bc6b62f",
   "metadata": {
    "execution": {
     "iopub.execute_input": "2025-09-27T03:51:30.797055Z",
     "iopub.status.busy": "2025-09-27T03:51:30.796842Z",
     "iopub.status.idle": "2025-09-27T03:51:30.807883Z",
     "shell.execute_reply": "2025-09-27T03:51:30.802022Z"
    },
    "lines_to_next_cell": 0,
    "nbsphinx": "hidden",
    "papermill": {
     "duration": 0.019948,
     "end_time": "2025-09-27T03:51:30.814826",
     "exception": false,
     "start_time": "2025-09-27T03:51:30.794878",
     "status": "completed"
    },
    "tags": []
   },
   "outputs": [],
   "source": [
    "func = _known_functions[func_name]()\n",
    "\n",
    "if not positive_prior:\n",
    "\n",
    "\tenergy_grid = np.linspace(-5,5,1000)\n",
    "\n",
    "else:\n",
    "    \n",
    "    energy_grid = np.linspace(0,1,1000)\n",
    "    \n",
    "    \n",
    "    \n",
    "    \n",
    "blue = \"#4152E3\"\n",
    "red = \"#E3414B\"\n",
    "green = \"#41E39E\""
   ]
  },
  {
   "cell_type": "markdown",
   "id": "84c6f3d8",
   "metadata": {
    "lines_to_next_cell": 0,
    "papermill": {
     "duration": 0.006731,
     "end_time": "2025-09-27T03:51:30.823026",
     "exception": false,
     "start_time": "2025-09-27T03:51:30.816295",
     "status": "completed"
    },
    "tags": []
   },
   "source": [
    "## Description"
   ]
  },
  {
   "cell_type": "code",
   "execution_count": 5,
   "id": "62e2e0ff",
   "metadata": {
    "execution": {
     "iopub.execute_input": "2025-09-27T03:51:30.826849Z",
     "iopub.status.busy": "2025-09-27T03:51:30.826647Z",
     "iopub.status.idle": "2025-09-27T03:51:30.835798Z",
     "shell.execute_reply": "2025-09-27T03:51:30.835171Z"
    },
    "papermill": {
     "duration": 0.012775,
     "end_time": "2025-09-27T03:51:30.837175",
     "exception": false,
     "start_time": "2025-09-27T03:51:30.824400",
     "status": "completed"
    },
    "tags": []
   },
   "outputs": [
    {
     "data": {
      "text/html": [
       "<ul>\n",
       "\n",
       "<li>description: A function which is constant on the interval lower_bound - upper_bound and 0 outside the interval. The extremes of the interval are counted as part of the interval.</li>\n",
       "\n",
       "<li>formula: $ f(x)=\\begin{cases}0 & x < \\text{lower_bound} \\\\\\text{value} & \\text{lower_bound} \\le x \\le \\text{upper_bound} \\\\ 0 & x > \\text{upper_bound} \\end{cases}$</li>\n",
       "\n",
       "<li>parameters: \n",
       "<ul>\n",
       "\n",
       "<li>lower_bound: \n",
       "<ul>\n",
       "\n",
       "<li>value: 0.0</li>\n",
       "\n",
       "<li>desc: Lower bound for the interval</li>\n",
       "\n",
       "<li>min_value: -inf</li>\n",
       "\n",
       "<li>max_value: inf</li>\n",
       "\n",
       "<li>unit: </li>\n",
       "\n",
       "<li>is_normalization: False</li>\n",
       "\n",
       "<li>delta: 0.1</li>\n",
       "\n",
       "<li>free: True</li>\n",
       "\n",
       "</ul>\n",
       "\n",
       "</li>\n",
       "\n",
       "<li>upper_bound: \n",
       "<ul>\n",
       "\n",
       "<li>value: 1.0</li>\n",
       "\n",
       "<li>desc: Upper bound for the interval</li>\n",
       "\n",
       "<li>min_value: -inf</li>\n",
       "\n",
       "<li>max_value: inf</li>\n",
       "\n",
       "<li>unit: </li>\n",
       "\n",
       "<li>is_normalization: False</li>\n",
       "\n",
       "<li>delta: 0.1</li>\n",
       "\n",
       "<li>free: True</li>\n",
       "\n",
       "</ul>\n",
       "\n",
       "</li>\n",
       "\n",
       "<li>value: \n",
       "<ul>\n",
       "\n",
       "<li>value: 1.0</li>\n",
       "\n",
       "<li>desc: Value in the interval</li>\n",
       "\n",
       "<li>min_value: None</li>\n",
       "\n",
       "<li>max_value: None</li>\n",
       "\n",
       "<li>unit: </li>\n",
       "\n",
       "<li>is_normalization: False</li>\n",
       "\n",
       "<li>delta: 0.1</li>\n",
       "\n",
       "<li>free: True</li>\n",
       "\n",
       "</ul>\n",
       "\n",
       "</li>\n",
       "\n",
       "</ul>\n",
       "\n",
       "</li>\n",
       "\n",
       "</ul>\n"
      ],
      "text/plain": [
       "  * description: A function which is constant on the interval lower_bound - upper_bound\n",
       "    * and 0 outside the interval. The extremes of the interval are counted as part of\n",
       "    * the interval.\n",
       "  * formula: $ f(x)=\\begin{cases}0 & x < \\text{lower_bound} \\\\\\text{value} & \\text{lower_bound}\n",
       "    * \\le x \\le \\text{upper_bound} \\\\ 0 & x > \\text{upper_bound} \\end{cases}$\n",
       "  * parameters:\n",
       "    * lower_bound:\n",
       "      * value: 0.0\n",
       "      * desc: Lower bound for the interval\n",
       "      * min_value: -.inf\n",
       "      * max_value: .inf\n",
       "      * unit: ''\n",
       "      * is_normalization: false\n",
       "      * delta: 0.1\n",
       "      * free: true\n",
       "    * upper_bound:\n",
       "      * value: 1.0\n",
       "      * desc: Upper bound for the interval\n",
       "      * min_value: -.inf\n",
       "      * max_value: .inf\n",
       "      * unit: ''\n",
       "      * is_normalization: false\n",
       "      * delta: 0.1\n",
       "      * free: true\n",
       "    * value:\n",
       "      * value: 1.0\n",
       "      * desc: Value in the interval\n",
       "      * min_value: null\n",
       "      * max_value: null\n",
       "      * unit: ''\n",
       "      * is_normalization: false\n",
       "      * delta: 0.1\n",
       "      * free: true"
      ]
     },
     "metadata": {},
     "output_type": "display_data"
    }
   ],
   "source": [
    "func.display()"
   ]
  },
  {
   "cell_type": "markdown",
   "id": "72a2c52c",
   "metadata": {
    "papermill": {
     "duration": 0.002833,
     "end_time": "2025-09-27T03:51:30.841847",
     "exception": false,
     "start_time": "2025-09-27T03:51:30.839014",
     "status": "completed"
    },
    "tags": []
   },
   "source": [
    "## Shape \n",
    "\n",
    "The shape of the function. \n",
    "\n",
    "*If this is not a photon model but a prior or linear function then ignore the units as these docs are auto-generated*"
   ]
  },
  {
   "cell_type": "code",
   "execution_count": 6,
   "id": "74f38b97",
   "metadata": {
    "execution": {
     "iopub.execute_input": "2025-09-27T03:51:30.849293Z",
     "iopub.status.busy": "2025-09-27T03:51:30.848845Z",
     "iopub.status.idle": "2025-09-27T03:51:31.065860Z",
     "shell.execute_reply": "2025-09-27T03:51:31.063126Z"
    },
    "papermill": {
     "duration": 0.223227,
     "end_time": "2025-09-27T03:51:31.067819",
     "exception": false,
     "start_time": "2025-09-27T03:51:30.844592",
     "status": "completed"
    },
    "tags": [
     "nbsphinx-thumbnail"
    ]
   },
   "outputs": [
    {
     "data": {
      "text/plain": [
       "Text(0, 0.5, 'probability')"
      ]
     },
     "execution_count": 6,
     "metadata": {},
     "output_type": "execute_result"
    },
    {
     "data": {
      "image/png": "[encoded data removed]",
      "text/plain": [
       "<Figure size 1040x910 with 1 Axes>"
      ]
     },
     "metadata": {},
     "output_type": "display_data"
    }
   ],
   "source": [
    "fig, ax = plt.subplots()\n",
    "\n",
    "\n",
    "ax.plot(energy_grid, func(energy_grid), color=blue, lw=3)\n",
    "\n",
    "ax.set_xlabel(\"x\")\n",
    "ax.set_ylabel(\"probability\")\n"
   ]
  },
  {
   "cell_type": "markdown",
   "id": "4a0ad25c",
   "metadata": {
    "papermill": {
     "duration": 0.001782,
     "end_time": "2025-09-27T03:51:31.072415",
     "exception": false,
     "start_time": "2025-09-27T03:51:31.070633",
     "status": "completed"
    },
    "tags": []
   },
   "source": [
    "## Random Number Generation\n",
    "\n",
    "This is how we can generate random numbers from the prior.\n"
   ]
  },
  {
   "cell_type": "code",
   "execution_count": 7,
   "id": "3b373682",
   "metadata": {
    "execution": {
     "iopub.execute_input": "2025-09-27T03:51:31.079663Z",
     "iopub.status.busy": "2025-09-27T03:51:31.079043Z",
     "iopub.status.idle": "2025-09-27T03:51:31.549279Z",
     "shell.execute_reply": "2025-09-27T03:51:31.546260Z"
    },
    "papermill": {
     "duration": 0.480073,
     "end_time": "2025-09-27T03:51:31.553869",
     "exception": false,
     "start_time": "2025-09-27T03:51:31.073796",
     "status": "completed"
    },
    "tags": []
   },
   "outputs": [
    {
     "data": {
      "text/plain": [
       "Text(0, 0.5, 'N')"
      ]
     },
     "execution_count": 7,
     "metadata": {},
     "output_type": "execute_result"
    },
    {
     "data": {
      "image/png": "[encoded data removed]",
      "text/plain": [
       "<Figure size 1040x910 with 1 Axes>"
      ]
     },
     "metadata": {},
     "output_type": "display_data"
    }
   ],
   "source": [
    "\n",
    "\n",
    "u = np.random.uniform(0,1, size=5000)\n",
    "\n",
    "draws = [func.from_unit_cube(x) for x in u]\n",
    "\n",
    "\n",
    "fig, ax = plt.subplots()\n",
    "\n",
    "\n",
    "ax.hist(draws, color=green, bins=50)\n",
    "\n",
    "ax.set_xlabel(\"value\")\n",
    "ax.set_ylabel(\"N\")\n",
    "\n"
   ]
  }
 ],
 "metadata": {
  "jupytext": {
   "formats": "ipynb,md"
  },
  "kernelspec": {
   "display_name": "Python 3 (ipykernel)",
   "language": "python",
   "name": "python3"
  },
  "language_info": {
   "codemirror_mode": {
    "name": "ipython",
    "version": 3
   },
   "file_extension": ".py",
   "mimetype": "text/x-python",
   "name": "python",
   "nbconvert_exporter": "python",
   "pygments_lexer": "ipython3",
   "version": "3.9.13"
  },
  "papermill": {
   "default_parameters": {},
   "duration": 6.00088,
   "end_time": "2025-09-27T03:51:32.297853",
   "environment_variables": {},
   "exception": null,
   "input_path": "Uniform_prior.ipynb",
   "output_path": "/Users/runner/work/astromodels/astromodels/docs/notebooks/Uniform_prior.ipynb",
   "parameters": {
    "func_name": "Uniform_prior",
    "positive_prior": false
   },
   "start_time": "2025-09-27T03:51:26.296973",
   "version": "2.6.0"
  }
 },
 "nbformat": 4,
 "nbformat_minor": 5
}
