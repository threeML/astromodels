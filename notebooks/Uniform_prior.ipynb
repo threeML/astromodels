{
 "cells": [
  {
   "cell_type": "markdown",
   "id": "88fcb478",
   "metadata": {
    "papermill": {
     "duration": 0.002081,
     "end_time": "2025-10-01T20:54:32.491843",
     "exception": false,
     "start_time": "2025-10-01T20:54:32.489762",
     "status": "completed"
    },
    "tags": []
   },
   "source": [
    "# Uniform prior"
   ]
  },
  {
   "cell_type": "code",
   "execution_count": 1,
   "id": "f2920a86",
   "metadata": {
    "execution": {
     "iopub.execute_input": "2025-10-01T20:54:32.495928Z",
     "iopub.status.busy": "2025-10-01T20:54:32.495737Z",
     "iopub.status.idle": "2025-10-01T20:54:34.497185Z",
     "shell.execute_reply": "2025-10-01T20:54:34.496381Z"
    },
    "nbsphinx": "hidden",
    "papermill": {
     "duration": 2.005231,
     "end_time": "2025-10-01T20:54:34.498678",
     "exception": false,
     "start_time": "2025-10-01T20:54:32.493447",
     "status": "completed"
    },
    "tags": []
   },
   "outputs": [],
   "source": [
    "%%capture\n",
    "\n",
    "import numpy as np\n",
    "\n",
    "import matplotlib.pyplot as plt\n",
    "\n",
    "import warnings\n",
    "warnings.simplefilter(\"ignore\")\n",
    "\n",
    "from astromodels.functions.function import _known_functions\n",
    "\n",
    "\n",
    "from jupyterthemes import jtplot\n",
    "jtplot.style(context=\"talk\", fscale=1, ticks=True, grid=False)\n",
    "%matplotlib inline"
   ]
  },
  {
   "cell_type": "code",
   "execution_count": 2,
   "id": "6d9f0ed3",
   "metadata": {
    "execution": {
     "iopub.execute_input": "2025-10-01T20:54:34.502422Z",
     "iopub.status.busy": "2025-10-01T20:54:34.502032Z",
     "iopub.status.idle": "2025-10-01T20:54:34.504250Z",
     "shell.execute_reply": "2025-10-01T20:54:34.503869Z"
    },
    "nbsphinx": "hidden",
    "papermill": {
     "duration": 0.00527,
     "end_time": "2025-10-01T20:54:34.505369",
     "exception": false,
     "start_time": "2025-10-01T20:54:34.500099",
     "status": "completed"
    },
    "tags": [
     "parameters"
    ]
   },
   "outputs": [],
   "source": [
    "func_name = \"TbAbs\"\n",
    "\n",
    "positive_prior = False\n"
   ]
  },
  {
   "cell_type": "code",
   "execution_count": 3,
   "id": "54563c64",
   "metadata": {
    "execution": {
     "iopub.execute_input": "2025-10-01T20:54:34.508711Z",
     "iopub.status.busy": "2025-10-01T20:54:34.508511Z",
     "iopub.status.idle": "2025-10-01T20:54:34.514906Z",
     "shell.execute_reply": "2025-10-01T20:54:34.514294Z"
    },
    "papermill": {
     "duration": 0.009852,
     "end_time": "2025-10-01T20:54:34.516393",
     "exception": false,
     "start_time": "2025-10-01T20:54:34.506541",
     "status": "completed"
    },
    "tags": [
     "injected-parameters"
    ]
   },
   "outputs": [],
   "source": [
    "# Parameters\n",
    "func_name = \"Uniform_prior\"\n",
    "positive_prior = False\n"
   ]
  },
  {
   "cell_type": "code",
   "execution_count": 4,
   "id": "e35a321e",
   "metadata": {
    "execution": {
     "iopub.execute_input": "2025-10-01T20:54:34.519830Z",
     "iopub.status.busy": "2025-10-01T20:54:34.519643Z",
     "iopub.status.idle": "2025-10-01T20:54:34.523052Z",
     "shell.execute_reply": "2025-10-01T20:54:34.522582Z"
    },
    "lines_to_next_cell": 0,
    "nbsphinx": "hidden",
    "papermill": {
     "duration": 0.006414,
     "end_time": "2025-10-01T20:54:34.524192",
     "exception": false,
     "start_time": "2025-10-01T20:54:34.517778",
     "status": "completed"
    },
    "tags": []
   },
   "outputs": [],
   "source": [
    "func = _known_functions[func_name]()\n",
    "\n",
    "if not positive_prior:\n",
    "\n",
    "\tenergy_grid = np.linspace(-5,5,1000)\n",
    "\n",
    "else:\n",
    "    \n",
    "    energy_grid = np.linspace(0,1,1000)\n",
    "    \n",
    "    \n",
    "    \n",
    "    \n",
    "blue = \"#4152E3\"\n",
    "red = \"#E3414B\"\n",
    "green = \"#41E39E\""
   ]
  },
  {
   "cell_type": "markdown",
   "id": "43a634b4",
   "metadata": {
    "lines_to_next_cell": 0,
    "papermill": {
     "duration": 0.001041,
     "end_time": "2025-10-01T20:54:34.526474",
     "exception": false,
     "start_time": "2025-10-01T20:54:34.525433",
     "status": "completed"
    },
    "tags": []
   },
   "source": [
    "## Description"
   ]
  },
  {
   "cell_type": "code",
   "execution_count": 5,
   "id": "dbffcab0",
   "metadata": {
    "execution": {
     "iopub.execute_input": "2025-10-01T20:54:34.529536Z",
     "iopub.status.busy": "2025-10-01T20:54:34.529334Z",
     "iopub.status.idle": "2025-10-01T20:54:34.534078Z",
     "shell.execute_reply": "2025-10-01T20:54:34.533670Z"
    },
    "papermill": {
     "duration": 0.007755,
     "end_time": "2025-10-01T20:54:34.535343",
     "exception": false,
     "start_time": "2025-10-01T20:54:34.527588",
     "status": "completed"
    },
    "tags": []
   },
   "outputs": [
    {
     "data": {
      "text/html": [
       "<ul>\n",
       "\n",
       "<li>description: A function which is constant on the interval lower_bound - upper_bound and 0 outside the interval. The extremes of the interval are counted as part of the interval.</li>\n",
       "\n",
       "<li>formula: $ f(x)=\\begin{cases}0 & x < \\text{lower_bound} \\\\\\text{value} & \\text{lower_bound} \\le x \\le \\text{upper_bound} \\\\ 0 & x > \\text{upper_bound} \\end{cases}$</li>\n",
       "\n",
       "<li>parameters: \n",
       "<ul>\n",
       "\n",
       "<li>lower_bound: \n",
       "<ul>\n",
       "\n",
       "<li>value: 0.0</li>\n",
       "\n",
       "<li>desc: Lower bound for the interval</li>\n",
       "\n",
       "<li>min_value: -inf</li>\n",
       "\n",
       "<li>max_value: inf</li>\n",
       "\n",
       "<li>unit: </li>\n",
       "\n",
       "<li>is_normalization: False</li>\n",
       "\n",
       "<li>delta: 0.1</li>\n",
       "\n",
       "<li>free: True</li>\n",
       "\n",
       "</ul>\n",
       "\n",
       "</li>\n",
       "\n",
       "<li>upper_bound: \n",
       "<ul>\n",
       "\n",
       "<li>value: 1.0</li>\n",
       "\n",
       "<li>desc: Upper bound for the interval</li>\n",
       "\n",
       "<li>min_value: -inf</li>\n",
       "\n",
       "<li>max_value: inf</li>\n",
       "\n",
       "<li>unit: </li>\n",
       "\n",
       "<li>is_normalization: False</li>\n",
       "\n",
       "<li>delta: 0.1</li>\n",
       "\n",
       "<li>free: True</li>\n",
       "\n",
       "</ul>\n",
       "\n",
       "</li>\n",
       "\n",
       "<li>value: \n",
       "<ul>\n",
       "\n",
       "<li>value: 1.0</li>\n",
       "\n",
       "<li>desc: Value in the interval</li>\n",
       "\n",
       "<li>min_value: None</li>\n",
       "\n",
       "<li>max_value: None</li>\n",
       "\n",
       "<li>unit: </li>\n",
       "\n",
       "<li>is_normalization: False</li>\n",
       "\n",
       "<li>delta: 0.1</li>\n",
       "\n",
       "<li>free: True</li>\n",
       "\n",
       "</ul>\n",
       "\n",
       "</li>\n",
       "\n",
       "</ul>\n",
       "\n",
       "</li>\n",
       "\n",
       "</ul>\n"
      ],
      "text/plain": [
       "  * description: A function which is constant on the interval lower_bound - upper_bound\n",
       "    * and 0 outside the interval. The extremes of the interval are counted as part of\n",
       "    * the interval.\n",
       "  * formula: $ f(x)=\\begin{cases}0 & x < \\text{lower_bound} \\\\\\text{value} & \\text{lower_bound}\n",
       "    * \\le x \\le \\text{upper_bound} \\\\ 0 & x > \\text{upper_bound} \\end{cases}$\n",
       "  * parameters:\n",
       "    * lower_bound:\n",
       "      * value: 0.0\n",
       "      * desc: Lower bound for the interval\n",
       "      * min_value: -.inf\n",
       "      * max_value: .inf\n",
       "      * unit: ''\n",
       "      * is_normalization: false\n",
       "      * delta: 0.1\n",
       "      * free: true\n",
       "    * upper_bound:\n",
       "      * value: 1.0\n",
       "      * desc: Upper bound for the interval\n",
       "      * min_value: -.inf\n",
       "      * max_value: .inf\n",
       "      * unit: ''\n",
       "      * is_normalization: false\n",
       "      * delta: 0.1\n",
       "      * free: true\n",
       "    * value:\n",
       "      * value: 1.0\n",
       "      * desc: Value in the interval\n",
       "      * min_value: null\n",
       "      * max_value: null\n",
       "      * unit: ''\n",
       "      * is_normalization: false\n",
       "      * delta: 0.1\n",
       "      * free: true"
      ]
     },
     "metadata": {},
     "output_type": "display_data"
    }
   ],
   "source": [
    "func.display()"
   ]
  },
  {
   "cell_type": "markdown",
   "id": "92a20dc1",
   "metadata": {
    "papermill": {
     "duration": 0.001331,
     "end_time": "2025-10-01T20:54:34.538224",
     "exception": false,
     "start_time": "2025-10-01T20:54:34.536893",
     "status": "completed"
    },
    "tags": []
   },
   "source": [
    "## Shape \n",
    "\n",
    "The shape of the function. \n",
    "\n",
    "*If this is not a photon model but a prior or linear function then ignore the units as these docs are auto-generated*"
   ]
  },
  {
   "cell_type": "code",
   "execution_count": 6,
   "id": "c92c5da3",
   "metadata": {
    "execution": {
     "iopub.execute_input": "2025-10-01T20:54:34.541498Z",
     "iopub.status.busy": "2025-10-01T20:54:34.541328Z",
     "iopub.status.idle": "2025-10-01T20:54:34.653808Z",
     "shell.execute_reply": "2025-10-01T20:54:34.653425Z"
    },
    "papermill": {
     "duration": 0.115414,
     "end_time": "2025-10-01T20:54:34.654929",
     "exception": false,
     "start_time": "2025-10-01T20:54:34.539515",
     "status": "completed"
    },
    "tags": [
     "nbsphinx-thumbnail"
    ]
   },
   "outputs": [
    {
     "data": {
      "text/plain": [
       "Text(0, 0.5, 'probability')"
      ]
     },
     "execution_count": 6,
     "metadata": {},
     "output_type": "execute_result"
    },
    {
     "data": {
      "image/png": "[encoded data removed]",
      "text/plain": [
       "<Figure size 1040x910 with 1 Axes>"
      ]
     },
     "metadata": {},
     "output_type": "display_data"
    }
   ],
   "source": [
    "fig, ax = plt.subplots()\n",
    "\n",
    "\n",
    "ax.plot(energy_grid, func(energy_grid), color=blue, lw=3)\n",
    "\n",
    "ax.set_xlabel(\"x\")\n",
    "ax.set_ylabel(\"probability\")\n"
   ]
  },
  {
   "cell_type": "markdown",
   "id": "5acd08a2",
   "metadata": {
    "papermill": {
     "duration": 0.001688,
     "end_time": "2025-10-01T20:54:34.658319",
     "exception": false,
     "start_time": "2025-10-01T20:54:34.656631",
     "status": "completed"
    },
    "tags": []
   },
   "source": [
    "## Random Number Generation\n",
    "\n",
    "This is how we can generate random numbers from the prior.\n"
   ]
  },
  {
   "cell_type": "code",
   "execution_count": 7,
   "id": "915967dd",
   "metadata": {
    "execution": {
     "iopub.execute_input": "2025-10-01T20:54:34.662049Z",
     "iopub.status.busy": "2025-10-01T20:54:34.661882Z",
     "iopub.status.idle": "2025-10-01T20:54:34.898801Z",
     "shell.execute_reply": "2025-10-01T20:54:34.896360Z"
    },
    "papermill": {
     "duration": 0.240305,
     "end_time": "2025-10-01T20:54:34.900100",
     "exception": false,
     "start_time": "2025-10-01T20:54:34.659795",
     "status": "completed"
    },
    "tags": []
   },
   "outputs": [
    {
     "data": {
      "text/plain": [
       "Text(0, 0.5, 'N')"
      ]
     },
     "execution_count": 7,
     "metadata": {},
     "output_type": "execute_result"
    },
    {
     "data": {
      "image/png": "[encoded data removed]",
      "text/plain": [
       "<Figure size 1040x910 with 1 Axes>"
      ]
     },
     "metadata": {},
     "output_type": "display_data"
    }
   ],
   "source": [
    "\n",
    "\n",
    "u = np.random.uniform(0,1, size=5000)\n",
    "\n",
    "draws = [func.from_unit_cube(x) for x in u]\n",
    "\n",
    "\n",
    "fig, ax = plt.subplots()\n",
    "\n",
    "\n",
    "ax.hist(draws, color=green, bins=50)\n",
    "\n",
    "ax.set_xlabel(\"value\")\n",
    "ax.set_ylabel(\"N\")\n",
    "\n"
   ]
  }
 ],
 "metadata": {
  "jupytext": {
   "formats": "ipynb,md"
  },
  "kernelspec": {
   "display_name": "Python 3 (ipykernel)",
   "language": "python",
   "name": "python3"
  },
  "language_info": {
   "codemirror_mode": {
    "name": "ipython",
    "version": 3
   },
   "file_extension": ".py",
   "mimetype": "text/x-python",
   "name": "python",
   "nbconvert_exporter": "python",
   "pygments_lexer": "ipython3",
   "version": "3.9.13"
  },
  "papermill": {
   "default_parameters": {},
   "duration": 3.691916,
   "end_time": "2025-10-01T20:54:35.430077",
   "environment_variables": {},
   "exception": null,
   "input_path": "Uniform_prior.ipynb",
   "output_path": "/Users/runner/work/astromodels/astromodels/docs/notebooks/Uniform_prior.ipynb",
   "parameters": {
    "func_name": "Uniform_prior",
    "positive_prior": false
   },
   "start_time": "2025-10-01T20:54:31.738161",
   "version": "2.6.0"
  }
 },
 "nbformat": 4,
 "nbformat_minor": 5
}
