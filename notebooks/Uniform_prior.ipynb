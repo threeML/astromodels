{
 "cells": [
  {
   "cell_type": "markdown",
   "id": "34bc878e",
   "metadata": {
    "papermill": {
     "duration": 0.005904,
     "end_time": "2025-09-26T22:01:33.115443",
     "exception": false,
     "start_time": "2025-09-26T22:01:33.109539",
     "status": "completed"
    },
    "tags": []
   },
   "source": [
    "# Uniform prior"
   ]
  },
  {
   "cell_type": "code",
   "execution_count": 1,
   "id": "09415d9f",
   "metadata": {
    "execution": {
     "iopub.execute_input": "2025-09-26T22:01:33.126419Z",
     "iopub.status.busy": "2025-09-26T22:01:33.125991Z",
     "iopub.status.idle": "2025-09-26T22:01:34.972785Z",
     "shell.execute_reply": "2025-09-26T22:01:34.972116Z"
    },
    "nbsphinx": "hidden",
    "papermill": {
     "duration": 1.854499,
     "end_time": "2025-09-26T22:01:34.974357",
     "exception": false,
     "start_time": "2025-09-26T22:01:33.119858",
     "status": "completed"
    },
    "tags": []
   },
   "outputs": [],
   "source": [
    "%%capture\n",
    "\n",
    "import numpy as np\n",
    "\n",
    "import matplotlib.pyplot as plt\n",
    "\n",
    "import warnings\n",
    "warnings.simplefilter(\"ignore\")\n",
    "\n",
    "from astromodels.functions.function import _known_functions\n",
    "\n",
    "\n",
    "from jupyterthemes import jtplot\n",
    "jtplot.style(context=\"talk\", fscale=1, ticks=True, grid=False)\n",
    "%matplotlib inline"
   ]
  },
  {
   "cell_type": "code",
   "execution_count": 2,
   "id": "088f9499",
   "metadata": {
    "execution": {
     "iopub.execute_input": "2025-09-26T22:01:34.978360Z",
     "iopub.status.busy": "2025-09-26T22:01:34.977949Z",
     "iopub.status.idle": "2025-09-26T22:01:34.980428Z",
     "shell.execute_reply": "2025-09-26T22:01:34.979948Z"
    },
    "nbsphinx": "hidden",
    "papermill": {
     "duration": 0.005876,
     "end_time": "2025-09-26T22:01:34.981681",
     "exception": false,
     "start_time": "2025-09-26T22:01:34.975805",
     "status": "completed"
    },
    "tags": [
     "parameters"
    ]
   },
   "outputs": [],
   "source": [
    "func_name = \"TbAbs\"\n",
    "\n",
    "positive_prior = False\n"
   ]
  },
  {
   "cell_type": "code",
   "execution_count": 3,
   "id": "06e3ca7c",
   "metadata": {
    "execution": {
     "iopub.execute_input": "2025-09-26T22:01:34.984658Z",
     "iopub.status.busy": "2025-09-26T22:01:34.984491Z",
     "iopub.status.idle": "2025-09-26T22:01:34.990752Z",
     "shell.execute_reply": "2025-09-26T22:01:34.990155Z"
    },
    "papermill": {
     "duration": 0.009273,
     "end_time": "2025-09-26T22:01:34.992203",
     "exception": false,
     "start_time": "2025-09-26T22:01:34.982930",
     "status": "completed"
    },
    "tags": [
     "injected-parameters"
    ]
   },
   "outputs": [],
   "source": [
    "# Parameters\n",
    "func_name = \"Uniform_prior\"\n",
    "positive_prior = False\n"
   ]
  },
  {
   "cell_type": "code",
   "execution_count": 4,
   "id": "2b694902",
   "metadata": {
    "execution": {
     "iopub.execute_input": "2025-09-26T22:01:34.995315Z",
     "iopub.status.busy": "2025-09-26T22:01:34.995159Z",
     "iopub.status.idle": "2025-09-26T22:01:34.998038Z",
     "shell.execute_reply": "2025-09-26T22:01:34.997638Z"
    },
    "lines_to_next_cell": 0,
    "nbsphinx": "hidden",
    "papermill": {
     "duration": 0.005618,
     "end_time": "2025-09-26T22:01:34.999102",
     "exception": false,
     "start_time": "2025-09-26T22:01:34.993484",
     "status": "completed"
    },
    "tags": []
   },
   "outputs": [],
   "source": [
    "func = _known_functions[func_name]()\n",
    "\n",
    "if not positive_prior:\n",
    "\n",
    "\tenergy_grid = np.linspace(-5,5,1000)\n",
    "\n",
    "else:\n",
    "    \n",
    "    energy_grid = np.linspace(0,1,1000)\n",
    "    \n",
    "    \n",
    "    \n",
    "    \n",
    "blue = \"#4152E3\"\n",
    "red = \"#E3414B\"\n",
    "green = \"#41E39E\""
   ]
  },
  {
   "cell_type": "markdown",
   "id": "f4a87b1e",
   "metadata": {
    "lines_to_next_cell": 0,
    "papermill": {
     "duration": 0.001092,
     "end_time": "2025-09-26T22:01:35.001307",
     "exception": false,
     "start_time": "2025-09-26T22:01:35.000215",
     "status": "completed"
    },
    "tags": []
   },
   "source": [
    "## Description"
   ]
  },
  {
   "cell_type": "code",
   "execution_count": 5,
   "id": "60a3bc94",
   "metadata": {
    "execution": {
     "iopub.execute_input": "2025-09-26T22:01:35.004055Z",
     "iopub.status.busy": "2025-09-26T22:01:35.003913Z",
     "iopub.status.idle": "2025-09-26T22:01:35.008586Z",
     "shell.execute_reply": "2025-09-26T22:01:35.008205Z"
    },
    "papermill": {
     "duration": 0.007409,
     "end_time": "2025-09-26T22:01:35.009748",
     "exception": false,
     "start_time": "2025-09-26T22:01:35.002339",
     "status": "completed"
    },
    "tags": []
   },
   "outputs": [
    {
     "data": {
      "text/html": [
       "<ul>\n",
       "\n",
       "<li>description: A function which is constant on the interval lower_bound - upper_bound and 0 outside the interval. The extremes of the interval are counted as part of the interval.</li>\n",
       "\n",
       "<li>formula: $ f(x)=\\begin{cases}0 & x < \\text{lower_bound} \\\\\\text{value} & \\text{lower_bound} \\le x \\le \\text{upper_bound} \\\\ 0 & x > \\text{upper_bound} \\end{cases}$</li>\n",
       "\n",
       "<li>parameters: \n",
       "<ul>\n",
       "\n",
       "<li>lower_bound: \n",
       "<ul>\n",
       "\n",
       "<li>value: 0.0</li>\n",
       "\n",
       "<li>desc: Lower bound for the interval</li>\n",
       "\n",
       "<li>min_value: -inf</li>\n",
       "\n",
       "<li>max_value: inf</li>\n",
       "\n",
       "<li>unit: </li>\n",
       "\n",
       "<li>is_normalization: False</li>\n",
       "\n",
       "<li>delta: 0.1</li>\n",
       "\n",
       "<li>free: True</li>\n",
       "\n",
       "</ul>\n",
       "\n",
       "</li>\n",
       "\n",
       "<li>upper_bound: \n",
       "<ul>\n",
       "\n",
       "<li>value: 1.0</li>\n",
       "\n",
       "<li>desc: Upper bound for the interval</li>\n",
       "\n",
       "<li>min_value: -inf</li>\n",
       "\n",
       "<li>max_value: inf</li>\n",
       "\n",
       "<li>unit: </li>\n",
       "\n",
       "<li>is_normalization: False</li>\n",
       "\n",
       "<li>delta: 0.1</li>\n",
       "\n",
       "<li>free: True</li>\n",
       "\n",
       "</ul>\n",
       "\n",
       "</li>\n",
       "\n",
       "<li>value: \n",
       "<ul>\n",
       "\n",
       "<li>value: 1.0</li>\n",
       "\n",
       "<li>desc: Value in the interval</li>\n",
       "\n",
       "<li>min_value: None</li>\n",
       "\n",
       "<li>max_value: None</li>\n",
       "\n",
       "<li>unit: </li>\n",
       "\n",
       "<li>is_normalization: False</li>\n",
       "\n",
       "<li>delta: 0.1</li>\n",
       "\n",
       "<li>free: True</li>\n",
       "\n",
       "</ul>\n",
       "\n",
       "</li>\n",
       "\n",
       "</ul>\n",
       "\n",
       "</li>\n",
       "\n",
       "</ul>\n"
      ],
      "text/plain": [
       "  * description: A function which is constant on the interval lower_bound - upper_bound\n",
       "    * and 0 outside the interval. The extremes of the interval are counted as part of\n",
       "    * the interval.\n",
       "  * formula: $ f(x)=\\begin{cases}0 & x < \\text{lower_bound} \\\\\\text{value} & \\text{lower_bound}\n",
       "    * \\le x \\le \\text{upper_bound} \\\\ 0 & x > \\text{upper_bound} \\end{cases}$\n",
       "  * parameters:\n",
       "    * lower_bound:\n",
       "      * value: 0.0\n",
       "      * desc: Lower bound for the interval\n",
       "      * min_value: -.inf\n",
       "      * max_value: .inf\n",
       "      * unit: ''\n",
       "      * is_normalization: false\n",
       "      * delta: 0.1\n",
       "      * free: true\n",
       "    * upper_bound:\n",
       "      * value: 1.0\n",
       "      * desc: Upper bound for the interval\n",
       "      * min_value: -.inf\n",
       "      * max_value: .inf\n",
       "      * unit: ''\n",
       "      * is_normalization: false\n",
       "      * delta: 0.1\n",
       "      * free: true\n",
       "    * value:\n",
       "      * value: 1.0\n",
       "      * desc: Value in the interval\n",
       "      * min_value: null\n",
       "      * max_value: null\n",
       "      * unit: ''\n",
       "      * is_normalization: false\n",
       "      * delta: 0.1\n",
       "      * free: true"
      ]
     },
     "metadata": {},
     "output_type": "display_data"
    }
   ],
   "source": [
    "func.display()"
   ]
  },
  {
   "cell_type": "markdown",
   "id": "be6f225d",
   "metadata": {
    "papermill": {
     "duration": 0.001184,
     "end_time": "2025-09-26T22:01:35.012266",
     "exception": false,
     "start_time": "2025-09-26T22:01:35.011082",
     "status": "completed"
    },
    "tags": []
   },
   "source": [
    "## Shape \n",
    "\n",
    "The shape of the function. \n",
    "\n",
    "*If this is not a photon model but a prior or linear function then ignore the units as these docs are auto-generated*"
   ]
  },
  {
   "cell_type": "code",
   "execution_count": 6,
   "id": "7631d8b0",
   "metadata": {
    "execution": {
     "iopub.execute_input": "2025-09-26T22:01:35.015145Z",
     "iopub.status.busy": "2025-09-26T22:01:35.014995Z",
     "iopub.status.idle": "2025-09-26T22:01:35.089204Z",
     "shell.execute_reply": "2025-09-26T22:01:35.088807Z"
    },
    "papermill": {
     "duration": 0.077153,
     "end_time": "2025-09-26T22:01:35.090509",
     "exception": false,
     "start_time": "2025-09-26T22:01:35.013356",
     "status": "completed"
    },
    "tags": [
     "nbsphinx-thumbnail"
    ]
   },
   "outputs": [
    {
     "data": {
      "text/plain": [
       "Text(0, 0.5, 'probability')"
      ]
     },
     "execution_count": 6,
     "metadata": {},
     "output_type": "execute_result"
    },
    {
     "data": {
      "image/png": "[encoded data removed]",
      "text/plain": [
       "<Figure size 1040x910 with 1 Axes>"
      ]
     },
     "metadata": {},
     "output_type": "display_data"
    }
   ],
   "source": [
    "fig, ax = plt.subplots()\n",
    "\n",
    "\n",
    "ax.plot(energy_grid, func(energy_grid), color=blue, lw=3)\n",
    "\n",
    "ax.set_xlabel(\"x\")\n",
    "ax.set_ylabel(\"probability\")\n"
   ]
  },
  {
   "cell_type": "markdown",
   "id": "51998b67",
   "metadata": {
    "papermill": {
     "duration": 0.001446,
     "end_time": "2025-09-26T22:01:35.093647",
     "exception": false,
     "start_time": "2025-09-26T22:01:35.092201",
     "status": "completed"
    },
    "tags": []
   },
   "source": [
    "## Random Number Generation\n",
    "\n",
    "This is how we can generate random numbers from the prior.\n"
   ]
  },
  {
   "cell_type": "code",
   "execution_count": 7,
   "id": "a91024c0",
   "metadata": {
    "execution": {
     "iopub.execute_input": "2025-09-26T22:01:35.097446Z",
     "iopub.status.busy": "2025-09-26T22:01:35.097286Z",
     "iopub.status.idle": "2025-09-26T22:01:35.203320Z",
     "shell.execute_reply": "2025-09-26T22:01:35.202731Z"
    },
    "papermill": {
     "duration": 0.109553,
     "end_time": "2025-09-26T22:01:35.204676",
     "exception": false,
     "start_time": "2025-09-26T22:01:35.095123",
     "status": "completed"
    },
    "tags": []
   },
   "outputs": [
    {
     "data": {
      "text/plain": [
       "Text(0, 0.5, 'N')"
      ]
     },
     "execution_count": 7,
     "metadata": {},
     "output_type": "execute_result"
    },
    {
     "data": {
      "image/png": "[encoded data removed]",
      "text/plain": [
       "<Figure size 1040x910 with 1 Axes>"
      ]
     },
     "metadata": {},
     "output_type": "display_data"
    }
   ],
   "source": [
    "\n",
    "\n",
    "u = np.random.uniform(0,1, size=5000)\n",
    "\n",
    "draws = [func.from_unit_cube(x) for x in u]\n",
    "\n",
    "\n",
    "fig, ax = plt.subplots()\n",
    "\n",
    "\n",
    "ax.hist(draws, color=green, bins=50)\n",
    "\n",
    "ax.set_xlabel(\"value\")\n",
    "ax.set_ylabel(\"N\")\n",
    "\n"
   ]
  }
 ],
 "metadata": {
  "jupytext": {
   "formats": "ipynb,md"
  },
  "kernelspec": {
   "display_name": "Python 3 (ipykernel)",
   "language": "python",
   "name": "python3"
  },
  "language_info": {
   "codemirror_mode": {
    "name": "ipython",
    "version": 3
   },
   "file_extension": ".py",
   "mimetype": "text/x-python",
   "name": "python",
   "nbconvert_exporter": "python",
   "pygments_lexer": "ipython3",
   "version": "3.9.13"
  },
  "papermill": {
   "default_parameters": {},
   "duration": 3.083997,
   "end_time": "2025-09-26T22:01:35.644219",
   "environment_variables": {},
   "exception": null,
   "input_path": "Uniform_prior.ipynb",
   "output_path": "/Users/runner/work/astromodels/astromodels/docs/notebooks/Uniform_prior.ipynb",
   "parameters": {
    "func_name": "Uniform_prior",
    "positive_prior": false
   },
   "start_time": "2025-09-26T22:01:32.560222",
   "version": "2.6.0"
  }
 },
 "nbformat": 4,
 "nbformat_minor": 5
}
