{
 "cells": [
  {
   "cell_type": "markdown",
   "id": "da243b86",
   "metadata": {
    "papermill": {
     "duration": 0.006975,
     "end_time": "2025-09-24T17:09:06.506472",
     "exception": false,
     "start_time": "2025-09-24T17:09:06.499497",
     "status": "completed"
    },
    "tags": []
   },
   "source": [
    "# Uniform prior"
   ]
  },
  {
   "cell_type": "code",
   "execution_count": 1,
   "id": "81467199",
   "metadata": {
    "execution": {
     "iopub.execute_input": "2025-09-24T17:09:06.520269Z",
     "iopub.status.busy": "2025-09-24T17:09:06.519796Z",
     "iopub.status.idle": "2025-09-24T17:09:08.789143Z",
     "shell.execute_reply": "2025-09-24T17:09:08.787637Z"
    },
    "nbsphinx": "hidden",
    "papermill": {
     "duration": 2.279094,
     "end_time": "2025-09-24T17:09:08.792382",
     "exception": false,
     "start_time": "2025-09-24T17:09:06.513288",
     "status": "completed"
    },
    "tags": []
   },
   "outputs": [],
   "source": [
    "%%capture\n",
    "\n",
    "import numpy as np\n",
    "\n",
    "import matplotlib.pyplot as plt\n",
    "\n",
    "import warnings\n",
    "warnings.simplefilter(\"ignore\")\n",
    "\n",
    "from astromodels.functions.function import _known_functions\n",
    "\n",
    "\n",
    "from jupyterthemes import jtplot\n",
    "jtplot.style(context=\"talk\", fscale=1, ticks=True, grid=False)\n",
    "%matplotlib inline"
   ]
  },
  {
   "cell_type": "code",
   "execution_count": 2,
   "id": "dbdbe169",
   "metadata": {
    "execution": {
     "iopub.execute_input": "2025-09-24T17:09:08.801202Z",
     "iopub.status.busy": "2025-09-24T17:09:08.800413Z",
     "iopub.status.idle": "2025-09-24T17:09:08.810200Z",
     "shell.execute_reply": "2025-09-24T17:09:08.809191Z"
    },
    "nbsphinx": "hidden",
    "papermill": {
     "duration": 0.017357,
     "end_time": "2025-09-24T17:09:08.813273",
     "exception": false,
     "start_time": "2025-09-24T17:09:08.795916",
     "status": "completed"
    },
    "tags": [
     "parameters"
    ]
   },
   "outputs": [],
   "source": [
    "func_name = \"TbAbs\"\n",
    "\n",
    "positive_prior = False\n"
   ]
  },
  {
   "cell_type": "code",
   "execution_count": 3,
   "id": "92700a8e",
   "metadata": {
    "execution": {
     "iopub.execute_input": "2025-09-24T17:09:08.818058Z",
     "iopub.status.busy": "2025-09-24T17:09:08.817625Z",
     "iopub.status.idle": "2025-09-24T17:09:08.822136Z",
     "shell.execute_reply": "2025-09-24T17:09:08.821188Z"
    },
    "papermill": {
     "duration": 0.009972,
     "end_time": "2025-09-24T17:09:08.825212",
     "exception": false,
     "start_time": "2025-09-24T17:09:08.815240",
     "status": "completed"
    },
    "tags": [
     "injected-parameters"
    ]
   },
   "outputs": [],
   "source": [
    "# Parameters\n",
    "func_name = \"Uniform_prior\"\n",
    "positive_prior = False\n"
   ]
  },
  {
   "cell_type": "code",
   "execution_count": 4,
   "id": "2cdb15f0",
   "metadata": {
    "execution": {
     "iopub.execute_input": "2025-09-24T17:09:08.834078Z",
     "iopub.status.busy": "2025-09-24T17:09:08.833680Z",
     "iopub.status.idle": "2025-09-24T17:09:08.844731Z",
     "shell.execute_reply": "2025-09-24T17:09:08.843590Z"
    },
    "lines_to_next_cell": 0,
    "nbsphinx": "hidden",
    "papermill": {
     "duration": 0.018322,
     "end_time": "2025-09-24T17:09:08.847340",
     "exception": false,
     "start_time": "2025-09-24T17:09:08.829018",
     "status": "completed"
    },
    "tags": []
   },
   "outputs": [],
   "source": [
    "func = _known_functions[func_name]()\n",
    "\n",
    "if not positive_prior:\n",
    "\n",
    "\tenergy_grid = np.linspace(-5,5,1000)\n",
    "\n",
    "else:\n",
    "    \n",
    "    energy_grid = np.linspace(0,1,1000)\n",
    "    \n",
    "    \n",
    "    \n",
    "    \n",
    "blue = \"#4152E3\"\n",
    "red = \"#E3414B\"\n",
    "green = \"#41E39E\""
   ]
  },
  {
   "cell_type": "markdown",
   "id": "b572836c",
   "metadata": {
    "lines_to_next_cell": 0,
    "papermill": {
     "duration": 0.003077,
     "end_time": "2025-09-24T17:09:08.853803",
     "exception": false,
     "start_time": "2025-09-24T17:09:08.850726",
     "status": "completed"
    },
    "tags": []
   },
   "source": [
    "## Description"
   ]
  },
  {
   "cell_type": "code",
   "execution_count": 5,
   "id": "40c12992",
   "metadata": {
    "execution": {
     "iopub.execute_input": "2025-09-24T17:09:08.858130Z",
     "iopub.status.busy": "2025-09-24T17:09:08.857719Z",
     "iopub.status.idle": "2025-09-24T17:09:08.867945Z",
     "shell.execute_reply": "2025-09-24T17:09:08.866621Z"
    },
    "papermill": {
     "duration": 0.017391,
     "end_time": "2025-09-24T17:09:08.872679",
     "exception": false,
     "start_time": "2025-09-24T17:09:08.855288",
     "status": "completed"
    },
    "tags": []
   },
   "outputs": [
    {
     "data": {
      "text/html": [
       "<ul>\n",
       "\n",
       "<li>description: A function which is constant on the interval lower_bound - upper_bound and 0 outside the interval. The extremes of the interval are counted as part of the interval.</li>\n",
       "\n",
       "<li>formula: $ f(x)=\\begin{cases}0 & x < \\text{lower_bound} \\\\\\text{value} & \\text{lower_bound} \\le x \\le \\text{upper_bound} \\\\ 0 & x > \\text{upper_bound} \\end{cases}$</li>\n",
       "\n",
       "<li>parameters: \n",
       "<ul>\n",
       "\n",
       "<li>lower_bound: \n",
       "<ul>\n",
       "\n",
       "<li>value: 0.0</li>\n",
       "\n",
       "<li>desc: Lower bound for the interval</li>\n",
       "\n",
       "<li>min_value: -inf</li>\n",
       "\n",
       "<li>max_value: inf</li>\n",
       "\n",
       "<li>unit: </li>\n",
       "\n",
       "<li>is_normalization: False</li>\n",
       "\n",
       "<li>delta: 0.1</li>\n",
       "\n",
       "<li>free: True</li>\n",
       "\n",
       "</ul>\n",
       "\n",
       "</li>\n",
       "\n",
       "<li>upper_bound: \n",
       "<ul>\n",
       "\n",
       "<li>value: 1.0</li>\n",
       "\n",
       "<li>desc: Upper bound for the interval</li>\n",
       "\n",
       "<li>min_value: -inf</li>\n",
       "\n",
       "<li>max_value: inf</li>\n",
       "\n",
       "<li>unit: </li>\n",
       "\n",
       "<li>is_normalization: False</li>\n",
       "\n",
       "<li>delta: 0.1</li>\n",
       "\n",
       "<li>free: True</li>\n",
       "\n",
       "</ul>\n",
       "\n",
       "</li>\n",
       "\n",
       "<li>value: \n",
       "<ul>\n",
       "\n",
       "<li>value: 1.0</li>\n",
       "\n",
       "<li>desc: Value in the interval</li>\n",
       "\n",
       "<li>min_value: None</li>\n",
       "\n",
       "<li>max_value: None</li>\n",
       "\n",
       "<li>unit: </li>\n",
       "\n",
       "<li>is_normalization: False</li>\n",
       "\n",
       "<li>delta: 0.1</li>\n",
       "\n",
       "<li>free: True</li>\n",
       "\n",
       "</ul>\n",
       "\n",
       "</li>\n",
       "\n",
       "</ul>\n",
       "\n",
       "</li>\n",
       "\n",
       "</ul>\n"
      ],
      "text/plain": [
       "  * description: A function which is constant on the interval lower_bound - upper_bound\n",
       "    * and 0 outside the interval. The extremes of the interval are counted as part of\n",
       "    * the interval.\n",
       "  * formula: $ f(x)=\\begin{cases}0 & x < \\text{lower_bound} \\\\\\text{value} & \\text{lower_bound}\n",
       "    * \\le x \\le \\text{upper_bound} \\\\ 0 & x > \\text{upper_bound} \\end{cases}$\n",
       "  * parameters:\n",
       "    * lower_bound:\n",
       "      * value: 0.0\n",
       "      * desc: Lower bound for the interval\n",
       "      * min_value: -.inf\n",
       "      * max_value: .inf\n",
       "      * unit: ''\n",
       "      * is_normalization: false\n",
       "      * delta: 0.1\n",
       "      * free: true\n",
       "    * upper_bound:\n",
       "      * value: 1.0\n",
       "      * desc: Upper bound for the interval\n",
       "      * min_value: -.inf\n",
       "      * max_value: .inf\n",
       "      * unit: ''\n",
       "      * is_normalization: false\n",
       "      * delta: 0.1\n",
       "      * free: true\n",
       "    * value:\n",
       "      * value: 1.0\n",
       "      * desc: Value in the interval\n",
       "      * min_value: null\n",
       "      * max_value: null\n",
       "      * unit: ''\n",
       "      * is_normalization: false\n",
       "      * delta: 0.1\n",
       "      * free: true"
      ]
     },
     "metadata": {},
     "output_type": "display_data"
    }
   ],
   "source": [
    "func.display()"
   ]
  },
  {
   "cell_type": "markdown",
   "id": "a4853f28",
   "metadata": {
    "papermill": {
     "duration": 0.00342,
     "end_time": "2025-09-24T17:09:08.879897",
     "exception": false,
     "start_time": "2025-09-24T17:09:08.876477",
     "status": "completed"
    },
    "tags": []
   },
   "source": [
    "## Shape \n",
    "\n",
    "The shape of the function. \n",
    "\n",
    "*If this is not a photon model but a prior or linear function then ignore the units as these docs are auto-generated*"
   ]
  },
  {
   "cell_type": "code",
   "execution_count": 6,
   "id": "40c70262",
   "metadata": {
    "execution": {
     "iopub.execute_input": "2025-09-24T17:09:08.889467Z",
     "iopub.status.busy": "2025-09-24T17:09:08.889073Z",
     "iopub.status.idle": "2025-09-24T17:09:09.127077Z",
     "shell.execute_reply": "2025-09-24T17:09:09.123109Z"
    },
    "papermill": {
     "duration": 0.257453,
     "end_time": "2025-09-24T17:09:09.140610",
     "exception": false,
     "start_time": "2025-09-24T17:09:08.883157",
     "status": "completed"
    },
    "tags": [
     "nbsphinx-thumbnail"
    ]
   },
   "outputs": [
    {
     "data": {
      "text/plain": [
       "Text(0, 0.5, 'probability')"
      ]
     },
     "execution_count": 6,
     "metadata": {},
     "output_type": "execute_result"
    },
    {
     "data": {
      "image/png": "[encoded data removed]",
      "text/plain": [
       "<Figure size 1040x910 with 1 Axes>"
      ]
     },
     "metadata": {},
     "output_type": "display_data"
    }
   ],
   "source": [
    "fig, ax = plt.subplots()\n",
    "\n",
    "\n",
    "ax.plot(energy_grid, func(energy_grid), color=blue, lw=3)\n",
    "\n",
    "ax.set_xlabel(\"x\")\n",
    "ax.set_ylabel(\"probability\")\n"
   ]
  },
  {
   "cell_type": "markdown",
   "id": "4f3758d2",
   "metadata": {
    "papermill": {
     "duration": 0.004546,
     "end_time": "2025-09-24T17:09:09.147840",
     "exception": false,
     "start_time": "2025-09-24T17:09:09.143294",
     "status": "completed"
    },
    "tags": []
   },
   "source": [
    "## Random Number Generation\n",
    "\n",
    "This is how we can generate random numbers from the prior.\n"
   ]
  },
  {
   "cell_type": "code",
   "execution_count": 7,
   "id": "93d15b87",
   "metadata": {
    "execution": {
     "iopub.execute_input": "2025-09-24T17:09:09.154223Z",
     "iopub.status.busy": "2025-09-24T17:09:09.153931Z",
     "iopub.status.idle": "2025-09-24T17:09:09.323774Z",
     "shell.execute_reply": "2025-09-24T17:09:09.314542Z"
    },
    "papermill": {
     "duration": 0.182008,
     "end_time": "2025-09-24T17:09:09.331584",
     "exception": false,
     "start_time": "2025-09-24T17:09:09.149576",
     "status": "completed"
    },
    "tags": []
   },
   "outputs": [
    {
     "data": {
      "text/plain": [
       "Text(0, 0.5, 'N')"
      ]
     },
     "execution_count": 7,
     "metadata": {},
     "output_type": "execute_result"
    },
    {
     "data": {
      "image/png": "[encoded data removed]",
      "text/plain": [
       "<Figure size 1040x910 with 1 Axes>"
      ]
     },
     "metadata": {},
     "output_type": "display_data"
    }
   ],
   "source": [
    "\n",
    "\n",
    "u = np.random.uniform(0,1, size=5000)\n",
    "\n",
    "draws = [func.from_unit_cube(x) for x in u]\n",
    "\n",
    "\n",
    "fig, ax = plt.subplots()\n",
    "\n",
    "\n",
    "ax.hist(draws, color=green, bins=50)\n",
    "\n",
    "ax.set_xlabel(\"value\")\n",
    "ax.set_ylabel(\"N\")\n",
    "\n"
   ]
  }
 ],
 "metadata": {
  "jupytext": {
   "formats": "ipynb,md"
  },
  "kernelspec": {
   "display_name": "Python 3 (ipykernel)",
   "language": "python",
   "name": "python3"
  },
  "language_info": {
   "codemirror_mode": {
    "name": "ipython",
    "version": 3
   },
   "file_extension": ".py",
   "mimetype": "text/x-python",
   "name": "python",
   "nbconvert_exporter": "python",
   "pygments_lexer": "ipython3",
   "version": "3.9.13"
  },
  "papermill": {
   "default_parameters": {},
   "duration": 4.12316,
   "end_time": "2025-09-24T17:09:09.862835",
   "environment_variables": {},
   "exception": null,
   "input_path": "Uniform_prior.ipynb",
   "output_path": "/Users/runner/work/astromodels/astromodels/docs/notebooks/Uniform_prior.ipynb",
   "parameters": {
    "func_name": "Uniform_prior",
    "positive_prior": false
   },
   "start_time": "2025-09-24T17:09:05.739675",
   "version": "2.6.0"
  }
 },
 "nbformat": 4,
 "nbformat_minor": 5
}
