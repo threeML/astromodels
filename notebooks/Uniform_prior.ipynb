{
 "cells": [
  {
   "cell_type": "markdown",
   "id": "3271caa6",
   "metadata": {
    "papermill": {
     "duration": 0.009008,
     "end_time": "2025-10-01T23:26:31.191650",
     "exception": false,
     "start_time": "2025-10-01T23:26:31.182642",
     "status": "completed"
    },
    "tags": []
   },
   "source": [
    "# Uniform prior"
   ]
  },
  {
   "cell_type": "code",
   "execution_count": 1,
   "id": "a54c8f9d",
   "metadata": {
    "execution": {
     "iopub.execute_input": "2025-10-01T23:26:31.202280Z",
     "iopub.status.busy": "2025-10-01T23:26:31.201791Z",
     "iopub.status.idle": "2025-10-01T23:26:32.987902Z",
     "shell.execute_reply": "2025-10-01T23:26:32.987367Z"
    },
    "nbsphinx": "hidden",
    "papermill": {
     "duration": 1.792657,
     "end_time": "2025-10-01T23:26:32.989264",
     "exception": false,
     "start_time": "2025-10-01T23:26:31.196607",
     "status": "completed"
    },
    "tags": []
   },
   "outputs": [],
   "source": [
    "%%capture\n",
    "\n",
    "import numpy as np\n",
    "\n",
    "import matplotlib.pyplot as plt\n",
    "\n",
    "import warnings\n",
    "warnings.simplefilter(\"ignore\")\n",
    "\n",
    "from astromodels.functions.function import _known_functions\n",
    "\n",
    "\n",
    "from jupyterthemes import jtplot\n",
    "jtplot.style(context=\"talk\", fscale=1, ticks=True, grid=False)\n",
    "%matplotlib inline"
   ]
  },
  {
   "cell_type": "code",
   "execution_count": 2,
   "id": "6190aa6e",
   "metadata": {
    "execution": {
     "iopub.execute_input": "2025-10-01T23:26:32.992418Z",
     "iopub.status.busy": "2025-10-01T23:26:32.992114Z",
     "iopub.status.idle": "2025-10-01T23:26:33.000280Z",
     "shell.execute_reply": "2025-10-01T23:26:32.999896Z"
    },
    "nbsphinx": "hidden",
    "papermill": {
     "duration": 0.010849,
     "end_time": "2025-10-01T23:26:33.001360",
     "exception": false,
     "start_time": "2025-10-01T23:26:32.990511",
     "status": "completed"
    },
    "tags": [
     "parameters"
    ]
   },
   "outputs": [],
   "source": [
    "func_name = \"TbAbs\"\n",
    "\n",
    "positive_prior = False\n"
   ]
  },
  {
   "cell_type": "code",
   "execution_count": 3,
   "id": "6d13d57f",
   "metadata": {
    "execution": {
     "iopub.execute_input": "2025-10-01T23:26:33.003891Z",
     "iopub.status.busy": "2025-10-01T23:26:33.003770Z",
     "iopub.status.idle": "2025-10-01T23:26:33.011836Z",
     "shell.execute_reply": "2025-10-01T23:26:33.011294Z"
    },
    "papermill": {
     "duration": 0.010627,
     "end_time": "2025-10-01T23:26:33.013004",
     "exception": false,
     "start_time": "2025-10-01T23:26:33.002377",
     "status": "completed"
    },
    "tags": [
     "injected-parameters"
    ]
   },
   "outputs": [],
   "source": [
    "# Parameters\n",
    "func_name = \"Uniform_prior\"\n",
    "positive_prior = False\n"
   ]
  },
  {
   "cell_type": "code",
   "execution_count": 4,
   "id": "494763d7",
   "metadata": {
    "execution": {
     "iopub.execute_input": "2025-10-01T23:26:33.015810Z",
     "iopub.status.busy": "2025-10-01T23:26:33.015683Z",
     "iopub.status.idle": "2025-10-01T23:26:33.024773Z",
     "shell.execute_reply": "2025-10-01T23:26:33.024222Z"
    },
    "lines_to_next_cell": 0,
    "nbsphinx": "hidden",
    "papermill": {
     "duration": 0.011792,
     "end_time": "2025-10-01T23:26:33.026032",
     "exception": false,
     "start_time": "2025-10-01T23:26:33.014240",
     "status": "completed"
    },
    "tags": []
   },
   "outputs": [],
   "source": [
    "func = _known_functions[func_name]()\n",
    "\n",
    "if not positive_prior:\n",
    "\n",
    "\tenergy_grid = np.linspace(-5,5,1000)\n",
    "\n",
    "else:\n",
    "    \n",
    "    energy_grid = np.linspace(0,1,1000)\n",
    "    \n",
    "    \n",
    "    \n",
    "    \n",
    "blue = \"#4152E3\"\n",
    "red = \"#E3414B\"\n",
    "green = \"#41E39E\""
   ]
  },
  {
   "cell_type": "markdown",
   "id": "5b02570a",
   "metadata": {
    "lines_to_next_cell": 0,
    "papermill": {
     "duration": 0.001065,
     "end_time": "2025-10-01T23:26:33.028347",
     "exception": false,
     "start_time": "2025-10-01T23:26:33.027282",
     "status": "completed"
    },
    "tags": []
   },
   "source": [
    "## Description"
   ]
  },
  {
   "cell_type": "code",
   "execution_count": 5,
   "id": "e87799b4",
   "metadata": {
    "execution": {
     "iopub.execute_input": "2025-10-01T23:26:33.031047Z",
     "iopub.status.busy": "2025-10-01T23:26:33.030892Z",
     "iopub.status.idle": "2025-10-01T23:26:33.041666Z",
     "shell.execute_reply": "2025-10-01T23:26:33.041016Z"
    },
    "papermill": {
     "duration": 0.013549,
     "end_time": "2025-10-01T23:26:33.042903",
     "exception": false,
     "start_time": "2025-10-01T23:26:33.029354",
     "status": "completed"
    },
    "tags": []
   },
   "outputs": [
    {
     "data": {
      "text/html": [
       "<ul>\n",
       "\n",
       "<li>description: A function which is constant on the interval lower_bound - upper_bound and 0 outside the interval. The extremes of the interval are counted as part of the interval.</li>\n",
       "\n",
       "<li>formula: $ f(x)=\\begin{cases}0 & x < \\text{lower_bound} \\\\\\text{value} & \\text{lower_bound} \\le x \\le \\text{upper_bound} \\\\ 0 & x > \\text{upper_bound} \\end{cases}$</li>\n",
       "\n",
       "<li>parameters: \n",
       "<ul>\n",
       "\n",
       "<li>lower_bound: \n",
       "<ul>\n",
       "\n",
       "<li>value: 0.0</li>\n",
       "\n",
       "<li>desc: Lower bound for the interval</li>\n",
       "\n",
       "<li>min_value: -inf</li>\n",
       "\n",
       "<li>max_value: inf</li>\n",
       "\n",
       "<li>unit: </li>\n",
       "\n",
       "<li>is_normalization: False</li>\n",
       "\n",
       "<li>delta: 0.1</li>\n",
       "\n",
       "<li>free: True</li>\n",
       "\n",
       "</ul>\n",
       "\n",
       "</li>\n",
       "\n",
       "<li>upper_bound: \n",
       "<ul>\n",
       "\n",
       "<li>value: 1.0</li>\n",
       "\n",
       "<li>desc: Upper bound for the interval</li>\n",
       "\n",
       "<li>min_value: -inf</li>\n",
       "\n",
       "<li>max_value: inf</li>\n",
       "\n",
       "<li>unit: </li>\n",
       "\n",
       "<li>is_normalization: False</li>\n",
       "\n",
       "<li>delta: 0.1</li>\n",
       "\n",
       "<li>free: True</li>\n",
       "\n",
       "</ul>\n",
       "\n",
       "</li>\n",
       "\n",
       "<li>value: \n",
       "<ul>\n",
       "\n",
       "<li>value: 1.0</li>\n",
       "\n",
       "<li>desc: Value in the interval</li>\n",
       "\n",
       "<li>min_value: None</li>\n",
       "\n",
       "<li>max_value: None</li>\n",
       "\n",
       "<li>unit: </li>\n",
       "\n",
       "<li>is_normalization: False</li>\n",
       "\n",
       "<li>delta: 0.1</li>\n",
       "\n",
       "<li>free: True</li>\n",
       "\n",
       "</ul>\n",
       "\n",
       "</li>\n",
       "\n",
       "</ul>\n",
       "\n",
       "</li>\n",
       "\n",
       "</ul>\n"
      ],
      "text/plain": [
       "  * description: A function which is constant on the interval lower_bound - upper_bound\n",
       "    * and 0 outside the interval. The extremes of the interval are counted as part of\n",
       "    * the interval.\n",
       "  * formula: $ f(x)=\\begin{cases}0 & x < \\text{lower_bound} \\\\\\text{value} & \\text{lower_bound}\n",
       "    * \\le x \\le \\text{upper_bound} \\\\ 0 & x > \\text{upper_bound} \\end{cases}$\n",
       "  * parameters:\n",
       "    * lower_bound:\n",
       "      * value: 0.0\n",
       "      * desc: Lower bound for the interval\n",
       "      * min_value: -.inf\n",
       "      * max_value: .inf\n",
       "      * unit: ''\n",
       "      * is_normalization: false\n",
       "      * delta: 0.1\n",
       "      * free: true\n",
       "    * upper_bound:\n",
       "      * value: 1.0\n",
       "      * desc: Upper bound for the interval\n",
       "      * min_value: -.inf\n",
       "      * max_value: .inf\n",
       "      * unit: ''\n",
       "      * is_normalization: false\n",
       "      * delta: 0.1\n",
       "      * free: true\n",
       "    * value:\n",
       "      * value: 1.0\n",
       "      * desc: Value in the interval\n",
       "      * min_value: null\n",
       "      * max_value: null\n",
       "      * unit: ''\n",
       "      * is_normalization: false\n",
       "      * delta: 0.1\n",
       "      * free: true"
      ]
     },
     "metadata": {},
     "output_type": "display_data"
    }
   ],
   "source": [
    "func.display()"
   ]
  },
  {
   "cell_type": "markdown",
   "id": "81097407",
   "metadata": {
    "papermill": {
     "duration": 0.0011,
     "end_time": "2025-10-01T23:26:33.045439",
     "exception": false,
     "start_time": "2025-10-01T23:26:33.044339",
     "status": "completed"
    },
    "tags": []
   },
   "source": [
    "## Shape \n",
    "\n",
    "The shape of the function. \n",
    "\n",
    "*If this is not a photon model but a prior or linear function then ignore the units as these docs are auto-generated*"
   ]
  },
  {
   "cell_type": "code",
   "execution_count": 6,
   "id": "21ba92cc",
   "metadata": {
    "execution": {
     "iopub.execute_input": "2025-10-01T23:26:33.048124Z",
     "iopub.status.busy": "2025-10-01T23:26:33.047988Z",
     "iopub.status.idle": "2025-10-01T23:26:33.120735Z",
     "shell.execute_reply": "2025-10-01T23:26:33.120312Z"
    },
    "papermill": {
     "duration": 0.0756,
     "end_time": "2025-10-01T23:26:33.122085",
     "exception": false,
     "start_time": "2025-10-01T23:26:33.046485",
     "status": "completed"
    },
    "tags": [
     "nbsphinx-thumbnail"
    ]
   },
   "outputs": [
    {
     "data": {
      "text/plain": [
       "Text(0, 0.5, 'probability')"
      ]
     },
     "execution_count": 6,
     "metadata": {},
     "output_type": "execute_result"
    },
    {
     "data": {
      "image/png": "[encoded data removed]",
      "text/plain": [
       "<Figure size 1040x910 with 1 Axes>"
      ]
     },
     "metadata": {},
     "output_type": "display_data"
    }
   ],
   "source": [
    "fig, ax = plt.subplots()\n",
    "\n",
    "\n",
    "ax.plot(energy_grid, func(energy_grid), color=blue, lw=3)\n",
    "\n",
    "ax.set_xlabel(\"x\")\n",
    "ax.set_ylabel(\"probability\")\n"
   ]
  },
  {
   "cell_type": "markdown",
   "id": "6900e824",
   "metadata": {
    "papermill": {
     "duration": 0.001387,
     "end_time": "2025-10-01T23:26:33.125139",
     "exception": false,
     "start_time": "2025-10-01T23:26:33.123752",
     "status": "completed"
    },
    "tags": []
   },
   "source": [
    "## Random Number Generation\n",
    "\n",
    "This is how we can generate random numbers from the prior.\n"
   ]
  },
  {
   "cell_type": "code",
   "execution_count": 7,
   "id": "ae31dac2",
   "metadata": {
    "execution": {
     "iopub.execute_input": "2025-10-01T23:26:33.128685Z",
     "iopub.status.busy": "2025-10-01T23:26:33.128522Z",
     "iopub.status.idle": "2025-10-01T23:26:33.220515Z",
     "shell.execute_reply": "2025-10-01T23:26:33.220154Z"
    },
    "papermill": {
     "duration": 0.095176,
     "end_time": "2025-10-01T23:26:33.221740",
     "exception": false,
     "start_time": "2025-10-01T23:26:33.126564",
     "status": "completed"
    },
    "tags": []
   },
   "outputs": [
    {
     "data": {
      "text/plain": [
       "Text(0, 0.5, 'N')"
      ]
     },
     "execution_count": 7,
     "metadata": {},
     "output_type": "execute_result"
    },
    {
     "data": {
      "image/png": "[encoded data removed]",
      "text/plain": [
       "<Figure size 1040x910 with 1 Axes>"
      ]
     },
     "metadata": {},
     "output_type": "display_data"
    }
   ],
   "source": [
    "\n",
    "\n",
    "u = np.random.uniform(0,1, size=5000)\n",
    "\n",
    "draws = [func.from_unit_cube(x) for x in u]\n",
    "\n",
    "\n",
    "fig, ax = plt.subplots()\n",
    "\n",
    "\n",
    "ax.hist(draws, color=green, bins=50)\n",
    "\n",
    "ax.set_xlabel(\"value\")\n",
    "ax.set_ylabel(\"N\")\n",
    "\n"
   ]
  }
 ],
 "metadata": {
  "jupytext": {
   "formats": "ipynb,md"
  },
  "kernelspec": {
   "display_name": "Python 3 (ipykernel)",
   "language": "python",
   "name": "python3"
  },
  "language_info": {
   "codemirror_mode": {
    "name": "ipython",
    "version": 3
   },
   "file_extension": ".py",
   "mimetype": "text/x-python",
   "name": "python",
   "nbconvert_exporter": "python",
   "pygments_lexer": "ipython3",
   "version": "3.9.13"
  },
  "papermill": {
   "default_parameters": {},
   "duration": 3.186819,
   "end_time": "2025-10-01T23:26:33.660905",
   "environment_variables": {},
   "exception": null,
   "input_path": "Uniform_prior.ipynb",
   "output_path": "/Users/runner/work/astromodels/astromodels/docs/notebooks/Uniform_prior.ipynb",
   "parameters": {
    "func_name": "Uniform_prior",
    "positive_prior": false
   },
   "start_time": "2025-10-01T23:26:30.474086",
   "version": "2.6.0"
  }
 },
 "nbformat": 4,
 "nbformat_minor": 5
}
