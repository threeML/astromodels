{
 "cells": [
  {
   "cell_type": "markdown",
   "id": "3467d5dc",
   "metadata": {
    "papermill": {
     "duration": 0.001509,
     "end_time": "2025-09-23T20:04:43.213795",
     "exception": false,
     "start_time": "2025-09-23T20:04:43.212286",
     "status": "completed"
    },
    "tags": []
   },
   "source": [
    "# Uniform prior"
   ]
  },
  {
   "cell_type": "code",
   "execution_count": 1,
   "id": "e0014cca",
   "metadata": {
    "execution": {
     "iopub.execute_input": "2025-09-23T20:04:43.217153Z",
     "iopub.status.busy": "2025-09-23T20:04:43.216975Z",
     "iopub.status.idle": "2025-09-23T20:04:45.493814Z",
     "shell.execute_reply": "2025-09-23T20:04:45.492522Z"
    },
    "nbsphinx": "hidden",
    "papermill": {
     "duration": 2.280536,
     "end_time": "2025-09-23T20:04:45.495715",
     "exception": false,
     "start_time": "2025-09-23T20:04:43.215179",
     "status": "completed"
    },
    "tags": []
   },
   "outputs": [],
   "source": [
    "%%capture\n",
    "\n",
    "import numpy as np\n",
    "\n",
    "import matplotlib.pyplot as plt\n",
    "\n",
    "import warnings\n",
    "warnings.simplefilter(\"ignore\")\n",
    "\n",
    "from astromodels.functions.function import _known_functions\n",
    "\n",
    "\n",
    "from jupyterthemes import jtplot\n",
    "jtplot.style(context=\"talk\", fscale=1, ticks=True, grid=False)\n",
    "%matplotlib inline"
   ]
  },
  {
   "cell_type": "code",
   "execution_count": 2,
   "id": "7667eb38",
   "metadata": {
    "execution": {
     "iopub.execute_input": "2025-09-23T20:04:45.499830Z",
     "iopub.status.busy": "2025-09-23T20:04:45.499383Z",
     "iopub.status.idle": "2025-09-23T20:04:45.506646Z",
     "shell.execute_reply": "2025-09-23T20:04:45.505561Z"
    },
    "nbsphinx": "hidden",
    "papermill": {
     "duration": 0.012359,
     "end_time": "2025-09-23T20:04:45.509637",
     "exception": false,
     "start_time": "2025-09-23T20:04:45.497278",
     "status": "completed"
    },
    "tags": [
     "parameters"
    ]
   },
   "outputs": [],
   "source": [
    "func_name = \"TbAbs\"\n",
    "\n",
    "positive_prior = False\n"
   ]
  },
  {
   "cell_type": "code",
   "execution_count": 3,
   "id": "1a61b328",
   "metadata": {
    "execution": {
     "iopub.execute_input": "2025-09-23T20:04:45.514379Z",
     "iopub.status.busy": "2025-09-23T20:04:45.513926Z",
     "iopub.status.idle": "2025-09-23T20:04:45.525938Z",
     "shell.execute_reply": "2025-09-23T20:04:45.524859Z"
    },
    "papermill": {
     "duration": 0.016327,
     "end_time": "2025-09-23T20:04:45.528365",
     "exception": false,
     "start_time": "2025-09-23T20:04:45.512038",
     "status": "completed"
    },
    "tags": [
     "injected-parameters"
    ]
   },
   "outputs": [],
   "source": [
    "# Parameters\n",
    "func_name = \"Uniform_prior\"\n",
    "positive_prior = False\n"
   ]
  },
  {
   "cell_type": "code",
   "execution_count": 4,
   "id": "7cd452e9",
   "metadata": {
    "execution": {
     "iopub.execute_input": "2025-09-23T20:04:45.535055Z",
     "iopub.status.busy": "2025-09-23T20:04:45.534648Z",
     "iopub.status.idle": "2025-09-23T20:04:45.545650Z",
     "shell.execute_reply": "2025-09-23T20:04:45.544177Z"
    },
    "lines_to_next_cell": 0,
    "nbsphinx": "hidden",
    "papermill": {
     "duration": 0.016256,
     "end_time": "2025-09-23T20:04:45.548508",
     "exception": false,
     "start_time": "2025-09-23T20:04:45.532252",
     "status": "completed"
    },
    "tags": []
   },
   "outputs": [],
   "source": [
    "func = _known_functions[func_name]()\n",
    "\n",
    "if not positive_prior:\n",
    "\n",
    "\tenergy_grid = np.linspace(-5,5,1000)\n",
    "\n",
    "else:\n",
    "    \n",
    "    energy_grid = np.linspace(0,1,1000)\n",
    "    \n",
    "    \n",
    "    \n",
    "    \n",
    "blue = \"#4152E3\"\n",
    "red = \"#E3414B\"\n",
    "green = \"#41E39E\""
   ]
  },
  {
   "cell_type": "markdown",
   "id": "fd82f0ca",
   "metadata": {
    "lines_to_next_cell": 0,
    "papermill": {
     "duration": 0.003979,
     "end_time": "2025-09-23T20:04:45.556347",
     "exception": false,
     "start_time": "2025-09-23T20:04:45.552368",
     "status": "completed"
    },
    "tags": []
   },
   "source": [
    "## Description"
   ]
  },
  {
   "cell_type": "code",
   "execution_count": 5,
   "id": "e7aad316",
   "metadata": {
    "execution": {
     "iopub.execute_input": "2025-09-23T20:04:45.561846Z",
     "iopub.status.busy": "2025-09-23T20:04:45.561629Z",
     "iopub.status.idle": "2025-09-23T20:04:45.568844Z",
     "shell.execute_reply": "2025-09-23T20:04:45.567791Z"
    },
    "papermill": {
     "duration": 0.011658,
     "end_time": "2025-09-23T20:04:45.570545",
     "exception": false,
     "start_time": "2025-09-23T20:04:45.558887",
     "status": "completed"
    },
    "tags": []
   },
   "outputs": [
    {
     "data": {
      "text/html": [
       "<ul>\n",
       "\n",
       "<li>description: A function which is constant on the interval lower_bound - upper_bound and 0 outside the interval. The extremes of the interval are counted as part of the interval.</li>\n",
       "\n",
       "<li>formula: $ f(x)=\\begin{cases}0 & x < \\text{lower_bound} \\\\\\text{value} & \\text{lower_bound} \\le x \\le \\text{upper_bound} \\\\ 0 & x > \\text{upper_bound} \\end{cases}$</li>\n",
       "\n",
       "<li>parameters: \n",
       "<ul>\n",
       "\n",
       "<li>lower_bound: \n",
       "<ul>\n",
       "\n",
       "<li>value: 0.0</li>\n",
       "\n",
       "<li>desc: Lower bound for the interval</li>\n",
       "\n",
       "<li>min_value: -inf</li>\n",
       "\n",
       "<li>max_value: inf</li>\n",
       "\n",
       "<li>unit: </li>\n",
       "\n",
       "<li>is_normalization: False</li>\n",
       "\n",
       "<li>delta: 0.1</li>\n",
       "\n",
       "<li>free: True</li>\n",
       "\n",
       "</ul>\n",
       "\n",
       "</li>\n",
       "\n",
       "<li>upper_bound: \n",
       "<ul>\n",
       "\n",
       "<li>value: 1.0</li>\n",
       "\n",
       "<li>desc: Upper bound for the interval</li>\n",
       "\n",
       "<li>min_value: -inf</li>\n",
       "\n",
       "<li>max_value: inf</li>\n",
       "\n",
       "<li>unit: </li>\n",
       "\n",
       "<li>is_normalization: False</li>\n",
       "\n",
       "<li>delta: 0.1</li>\n",
       "\n",
       "<li>free: True</li>\n",
       "\n",
       "</ul>\n",
       "\n",
       "</li>\n",
       "\n",
       "<li>value: \n",
       "<ul>\n",
       "\n",
       "<li>value: 1.0</li>\n",
       "\n",
       "<li>desc: Value in the interval</li>\n",
       "\n",
       "<li>min_value: None</li>\n",
       "\n",
       "<li>max_value: None</li>\n",
       "\n",
       "<li>unit: </li>\n",
       "\n",
       "<li>is_normalization: False</li>\n",
       "\n",
       "<li>delta: 0.1</li>\n",
       "\n",
       "<li>free: True</li>\n",
       "\n",
       "</ul>\n",
       "\n",
       "</li>\n",
       "\n",
       "</ul>\n",
       "\n",
       "</li>\n",
       "\n",
       "</ul>\n"
      ],
      "text/plain": [
       "  * description: A function which is constant on the interval lower_bound - upper_bound\n",
       "    * and 0 outside the interval. The extremes of the interval are counted as part of\n",
       "    * the interval.\n",
       "  * formula: $ f(x)=\\begin{cases}0 & x < \\text{lower_bound} \\\\\\text{value} & \\text{lower_bound}\n",
       "    * \\le x \\le \\text{upper_bound} \\\\ 0 & x > \\text{upper_bound} \\end{cases}$\n",
       "  * parameters:\n",
       "    * lower_bound:\n",
       "      * value: 0.0\n",
       "      * desc: Lower bound for the interval\n",
       "      * min_value: -.inf\n",
       "      * max_value: .inf\n",
       "      * unit: ''\n",
       "      * is_normalization: false\n",
       "      * delta: 0.1\n",
       "      * free: true\n",
       "    * upper_bound:\n",
       "      * value: 1.0\n",
       "      * desc: Upper bound for the interval\n",
       "      * min_value: -.inf\n",
       "      * max_value: .inf\n",
       "      * unit: ''\n",
       "      * is_normalization: false\n",
       "      * delta: 0.1\n",
       "      * free: true\n",
       "    * value:\n",
       "      * value: 1.0\n",
       "      * desc: Value in the interval\n",
       "      * min_value: null\n",
       "      * max_value: null\n",
       "      * unit: ''\n",
       "      * is_normalization: false\n",
       "      * delta: 0.1\n",
       "      * free: true"
      ]
     },
     "metadata": {},
     "output_type": "display_data"
    }
   ],
   "source": [
    "func.display()"
   ]
  },
  {
   "cell_type": "markdown",
   "id": "aeb5328d",
   "metadata": {
    "papermill": {
     "duration": 0.00231,
     "end_time": "2025-09-23T20:04:45.574509",
     "exception": false,
     "start_time": "2025-09-23T20:04:45.572199",
     "status": "completed"
    },
    "tags": []
   },
   "source": [
    "## Shape \n",
    "\n",
    "The shape of the function. \n",
    "\n",
    "*If this is not a photon model but a prior or linear function then ignore the units as these docs are auto-generated*"
   ]
  },
  {
   "cell_type": "code",
   "execution_count": 6,
   "id": "d3123cf3",
   "metadata": {
    "execution": {
     "iopub.execute_input": "2025-09-23T20:04:45.578145Z",
     "iopub.status.busy": "2025-09-23T20:04:45.577957Z",
     "iopub.status.idle": "2025-09-23T20:04:45.675827Z",
     "shell.execute_reply": "2025-09-23T20:04:45.675346Z"
    },
    "papermill": {
     "duration": 0.101223,
     "end_time": "2025-09-23T20:04:45.677139",
     "exception": false,
     "start_time": "2025-09-23T20:04:45.575916",
     "status": "completed"
    },
    "tags": [
     "nbsphinx-thumbnail"
    ]
   },
   "outputs": [
    {
     "data": {
      "text/plain": [
       "Text(0, 0.5, 'probability')"
      ]
     },
     "execution_count": 6,
     "metadata": {},
     "output_type": "execute_result"
    },
    {
     "data": {
      "image/png": "[encoded data removed]",
      "text/plain": [
       "<Figure size 1040x910 with 1 Axes>"
      ]
     },
     "metadata": {},
     "output_type": "display_data"
    }
   ],
   "source": [
    "fig, ax = plt.subplots()\n",
    "\n",
    "\n",
    "ax.plot(energy_grid, func(energy_grid), color=blue, lw=3)\n",
    "\n",
    "ax.set_xlabel(\"x\")\n",
    "ax.set_ylabel(\"probability\")\n"
   ]
  },
  {
   "cell_type": "markdown",
   "id": "40f6e757",
   "metadata": {
    "papermill": {
     "duration": 0.001386,
     "end_time": "2025-09-23T20:04:45.680309",
     "exception": false,
     "start_time": "2025-09-23T20:04:45.678923",
     "status": "completed"
    },
    "tags": []
   },
   "source": [
    "## Random Number Generation\n",
    "\n",
    "This is how we can generate random numbers from the prior.\n"
   ]
  },
  {
   "cell_type": "code",
   "execution_count": 7,
   "id": "11b779f2",
   "metadata": {
    "execution": {
     "iopub.execute_input": "2025-09-23T20:04:45.684576Z",
     "iopub.status.busy": "2025-09-23T20:04:45.684402Z",
     "iopub.status.idle": "2025-09-23T20:04:45.802575Z",
     "shell.execute_reply": "2025-09-23T20:04:45.801470Z"
    },
    "papermill": {
     "duration": 0.122008,
     "end_time": "2025-09-23T20:04:45.803756",
     "exception": false,
     "start_time": "2025-09-23T20:04:45.681748",
     "status": "completed"
    },
    "tags": []
   },
   "outputs": [
    {
     "data": {
      "text/plain": [
       "Text(0, 0.5, 'N')"
      ]
     },
     "execution_count": 7,
     "metadata": {},
     "output_type": "execute_result"
    },
    {
     "data": {
      "image/png": "[encoded data removed]",
      "text/plain": [
       "<Figure size 1040x910 with 1 Axes>"
      ]
     },
     "metadata": {},
     "output_type": "display_data"
    }
   ],
   "source": [
    "\n",
    "\n",
    "u = np.random.uniform(0,1, size=5000)\n",
    "\n",
    "draws = [func.from_unit_cube(x) for x in u]\n",
    "\n",
    "\n",
    "fig, ax = plt.subplots()\n",
    "\n",
    "\n",
    "ax.hist(draws, color=green, bins=50)\n",
    "\n",
    "ax.set_xlabel(\"value\")\n",
    "ax.set_ylabel(\"N\")\n",
    "\n"
   ]
  }
 ],
 "metadata": {
  "jupytext": {
   "formats": "ipynb,md"
  },
  "kernelspec": {
   "display_name": "Python 3 (ipykernel)",
   "language": "python",
   "name": "python3"
  },
  "language_info": {
   "codemirror_mode": {
    "name": "ipython",
    "version": 3
   },
   "file_extension": ".py",
   "mimetype": "text/x-python",
   "name": "python",
   "nbconvert_exporter": "python",
   "pygments_lexer": "ipython3",
   "version": "3.9.13"
  },
  "papermill": {
   "default_parameters": {},
   "duration": 3.913719,
   "end_time": "2025-09-23T20:04:46.462840",
   "environment_variables": {},
   "exception": null,
   "input_path": "Uniform_prior.ipynb",
   "output_path": "/Users/runner/work/astromodels/astromodels/docs/notebooks/Uniform_prior.ipynb",
   "parameters": {
    "func_name": "Uniform_prior",
    "positive_prior": false
   },
   "start_time": "2025-09-23T20:04:42.549121",
   "version": "2.6.0"
  }
 },
 "nbformat": 4,
 "nbformat_minor": 5
}
