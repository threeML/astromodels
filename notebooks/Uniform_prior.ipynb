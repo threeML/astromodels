{
 "cells": [
  {
   "cell_type": "markdown",
   "id": "3ad24340",
   "metadata": {
    "papermill": {
     "duration": 0.001536,
     "end_time": "2025-09-23T21:48:41.959790",
     "exception": false,
     "start_time": "2025-09-23T21:48:41.958254",
     "status": "completed"
    },
    "tags": []
   },
   "source": [
    "# Uniform prior"
   ]
  },
  {
   "cell_type": "code",
   "execution_count": 1,
   "id": "2a39606e",
   "metadata": {
    "execution": {
     "iopub.execute_input": "2025-09-23T21:48:41.963293Z",
     "iopub.status.busy": "2025-09-23T21:48:41.963041Z",
     "iopub.status.idle": "2025-09-23T21:48:44.101183Z",
     "shell.execute_reply": "2025-09-23T21:48:44.100452Z"
    },
    "nbsphinx": "hidden",
    "papermill": {
     "duration": 2.141362,
     "end_time": "2025-09-23T21:48:44.102528",
     "exception": false,
     "start_time": "2025-09-23T21:48:41.961166",
     "status": "completed"
    },
    "tags": []
   },
   "outputs": [],
   "source": [
    "%%capture\n",
    "\n",
    "import numpy as np\n",
    "\n",
    "import matplotlib.pyplot as plt\n",
    "\n",
    "import warnings\n",
    "warnings.simplefilter(\"ignore\")\n",
    "\n",
    "from astromodels.functions.function import _known_functions\n",
    "\n",
    "\n",
    "from jupyterthemes import jtplot\n",
    "jtplot.style(context=\"talk\", fscale=1, ticks=True, grid=False)\n",
    "%matplotlib inline"
   ]
  },
  {
   "cell_type": "code",
   "execution_count": 2,
   "id": "70ac3aec",
   "metadata": {
    "execution": {
     "iopub.execute_input": "2025-09-23T21:48:44.106130Z",
     "iopub.status.busy": "2025-09-23T21:48:44.105722Z",
     "iopub.status.idle": "2025-09-23T21:48:44.112137Z",
     "shell.execute_reply": "2025-09-23T21:48:44.111585Z"
    },
    "nbsphinx": "hidden",
    "papermill": {
     "duration": 0.009437,
     "end_time": "2025-09-23T21:48:44.113333",
     "exception": false,
     "start_time": "2025-09-23T21:48:44.103896",
     "status": "completed"
    },
    "tags": [
     "parameters"
    ]
   },
   "outputs": [],
   "source": [
    "func_name = \"TbAbs\"\n",
    "\n",
    "positive_prior = False\n"
   ]
  },
  {
   "cell_type": "code",
   "execution_count": 3,
   "id": "939b0be6",
   "metadata": {
    "execution": {
     "iopub.execute_input": "2025-09-23T21:48:44.116270Z",
     "iopub.status.busy": "2025-09-23T21:48:44.116119Z",
     "iopub.status.idle": "2025-09-23T21:48:44.120315Z",
     "shell.execute_reply": "2025-09-23T21:48:44.119808Z"
    },
    "papermill": {
     "duration": 0.006774,
     "end_time": "2025-09-23T21:48:44.121367",
     "exception": false,
     "start_time": "2025-09-23T21:48:44.114593",
     "status": "completed"
    },
    "tags": [
     "injected-parameters"
    ]
   },
   "outputs": [],
   "source": [
    "# Parameters\n",
    "func_name = \"Uniform_prior\"\n",
    "positive_prior = False\n"
   ]
  },
  {
   "cell_type": "code",
   "execution_count": 4,
   "id": "f441b19b",
   "metadata": {
    "execution": {
     "iopub.execute_input": "2025-09-23T21:48:44.124421Z",
     "iopub.status.busy": "2025-09-23T21:48:44.124265Z",
     "iopub.status.idle": "2025-09-23T21:48:44.131300Z",
     "shell.execute_reply": "2025-09-23T21:48:44.130872Z"
    },
    "lines_to_next_cell": 0,
    "nbsphinx": "hidden",
    "papermill": {
     "duration": 0.009671,
     "end_time": "2025-09-23T21:48:44.132362",
     "exception": false,
     "start_time": "2025-09-23T21:48:44.122691",
     "status": "completed"
    },
    "tags": []
   },
   "outputs": [],
   "source": [
    "func = _known_functions[func_name]()\n",
    "\n",
    "if not positive_prior:\n",
    "\n",
    "\tenergy_grid = np.linspace(-5,5,1000)\n",
    "\n",
    "else:\n",
    "    \n",
    "    energy_grid = np.linspace(0,1,1000)\n",
    "    \n",
    "    \n",
    "    \n",
    "    \n",
    "blue = \"#4152E3\"\n",
    "red = \"#E3414B\"\n",
    "green = \"#41E39E\""
   ]
  },
  {
   "cell_type": "markdown",
   "id": "078eaa60",
   "metadata": {
    "lines_to_next_cell": 0,
    "papermill": {
     "duration": 0.001055,
     "end_time": "2025-09-23T21:48:44.134661",
     "exception": false,
     "start_time": "2025-09-23T21:48:44.133606",
     "status": "completed"
    },
    "tags": []
   },
   "source": [
    "## Description"
   ]
  },
  {
   "cell_type": "code",
   "execution_count": 5,
   "id": "87542561",
   "metadata": {
    "execution": {
     "iopub.execute_input": "2025-09-23T21:48:44.137513Z",
     "iopub.status.busy": "2025-09-23T21:48:44.137358Z",
     "iopub.status.idle": "2025-09-23T21:48:44.142056Z",
     "shell.execute_reply": "2025-09-23T21:48:44.141660Z"
    },
    "papermill": {
     "duration": 0.007383,
     "end_time": "2025-09-23T21:48:44.143139",
     "exception": false,
     "start_time": "2025-09-23T21:48:44.135756",
     "status": "completed"
    },
    "tags": []
   },
   "outputs": [
    {
     "data": {
      "text/html": [
       "<ul>\n",
       "\n",
       "<li>description: A function which is constant on the interval lower_bound - upper_bound and 0 outside the interval. The extremes of the interval are counted as part of the interval.</li>\n",
       "\n",
       "<li>formula: $ f(x)=\\begin{cases}0 & x < \\text{lower_bound} \\\\\\text{value} & \\text{lower_bound} \\le x \\le \\text{upper_bound} \\\\ 0 & x > \\text{upper_bound} \\end{cases}$</li>\n",
       "\n",
       "<li>parameters: \n",
       "<ul>\n",
       "\n",
       "<li>lower_bound: \n",
       "<ul>\n",
       "\n",
       "<li>value: 0.0</li>\n",
       "\n",
       "<li>desc: Lower bound for the interval</li>\n",
       "\n",
       "<li>min_value: -inf</li>\n",
       "\n",
       "<li>max_value: inf</li>\n",
       "\n",
       "<li>unit: </li>\n",
       "\n",
       "<li>is_normalization: False</li>\n",
       "\n",
       "<li>delta: 0.1</li>\n",
       "\n",
       "<li>free: True</li>\n",
       "\n",
       "</ul>\n",
       "\n",
       "</li>\n",
       "\n",
       "<li>upper_bound: \n",
       "<ul>\n",
       "\n",
       "<li>value: 1.0</li>\n",
       "\n",
       "<li>desc: Upper bound for the interval</li>\n",
       "\n",
       "<li>min_value: -inf</li>\n",
       "\n",
       "<li>max_value: inf</li>\n",
       "\n",
       "<li>unit: </li>\n",
       "\n",
       "<li>is_normalization: False</li>\n",
       "\n",
       "<li>delta: 0.1</li>\n",
       "\n",
       "<li>free: True</li>\n",
       "\n",
       "</ul>\n",
       "\n",
       "</li>\n",
       "\n",
       "<li>value: \n",
       "<ul>\n",
       "\n",
       "<li>value: 1.0</li>\n",
       "\n",
       "<li>desc: Value in the interval</li>\n",
       "\n",
       "<li>min_value: None</li>\n",
       "\n",
       "<li>max_value: None</li>\n",
       "\n",
       "<li>unit: </li>\n",
       "\n",
       "<li>is_normalization: False</li>\n",
       "\n",
       "<li>delta: 0.1</li>\n",
       "\n",
       "<li>free: True</li>\n",
       "\n",
       "</ul>\n",
       "\n",
       "</li>\n",
       "\n",
       "</ul>\n",
       "\n",
       "</li>\n",
       "\n",
       "</ul>\n"
      ],
      "text/plain": [
       "  * description: A function which is constant on the interval lower_bound - upper_bound\n",
       "    * and 0 outside the interval. The extremes of the interval are counted as part of\n",
       "    * the interval.\n",
       "  * formula: $ f(x)=\\begin{cases}0 & x < \\text{lower_bound} \\\\\\text{value} & \\text{lower_bound}\n",
       "    * \\le x \\le \\text{upper_bound} \\\\ 0 & x > \\text{upper_bound} \\end{cases}$\n",
       "  * parameters:\n",
       "    * lower_bound:\n",
       "      * value: 0.0\n",
       "      * desc: Lower bound for the interval\n",
       "      * min_value: -.inf\n",
       "      * max_value: .inf\n",
       "      * unit: ''\n",
       "      * is_normalization: false\n",
       "      * delta: 0.1\n",
       "      * free: true\n",
       "    * upper_bound:\n",
       "      * value: 1.0\n",
       "      * desc: Upper bound for the interval\n",
       "      * min_value: -.inf\n",
       "      * max_value: .inf\n",
       "      * unit: ''\n",
       "      * is_normalization: false\n",
       "      * delta: 0.1\n",
       "      * free: true\n",
       "    * value:\n",
       "      * value: 1.0\n",
       "      * desc: Value in the interval\n",
       "      * min_value: null\n",
       "      * max_value: null\n",
       "      * unit: ''\n",
       "      * is_normalization: false\n",
       "      * delta: 0.1\n",
       "      * free: true"
      ]
     },
     "metadata": {},
     "output_type": "display_data"
    }
   ],
   "source": [
    "func.display()"
   ]
  },
  {
   "cell_type": "markdown",
   "id": "37b79cb2",
   "metadata": {
    "papermill": {
     "duration": 0.001173,
     "end_time": "2025-09-23T21:48:44.145687",
     "exception": false,
     "start_time": "2025-09-23T21:48:44.144514",
     "status": "completed"
    },
    "tags": []
   },
   "source": [
    "## Shape \n",
    "\n",
    "The shape of the function. \n",
    "\n",
    "*If this is not a photon model but a prior or linear function then ignore the units as these docs are auto-generated*"
   ]
  },
  {
   "cell_type": "code",
   "execution_count": 6,
   "id": "5ae09724",
   "metadata": {
    "execution": {
     "iopub.execute_input": "2025-09-23T21:48:44.148627Z",
     "iopub.status.busy": "2025-09-23T21:48:44.148480Z",
     "iopub.status.idle": "2025-09-23T21:48:44.224658Z",
     "shell.execute_reply": "2025-09-23T21:48:44.224259Z"
    },
    "papermill": {
     "duration": 0.079051,
     "end_time": "2025-09-23T21:48:44.225920",
     "exception": false,
     "start_time": "2025-09-23T21:48:44.146869",
     "status": "completed"
    },
    "tags": [
     "nbsphinx-thumbnail"
    ]
   },
   "outputs": [
    {
     "data": {
      "text/plain": [
       "Text(0, 0.5, 'probability')"
      ]
     },
     "execution_count": 6,
     "metadata": {},
     "output_type": "execute_result"
    },
    {
     "data": {
      "image/png": "[encoded data removed]",
      "text/plain": [
       "<Figure size 1040x910 with 1 Axes>"
      ]
     },
     "metadata": {},
     "output_type": "display_data"
    }
   ],
   "source": [
    "fig, ax = plt.subplots()\n",
    "\n",
    "\n",
    "ax.plot(energy_grid, func(energy_grid), color=blue, lw=3)\n",
    "\n",
    "ax.set_xlabel(\"x\")\n",
    "ax.set_ylabel(\"probability\")\n"
   ]
  },
  {
   "cell_type": "markdown",
   "id": "4d43fe35",
   "metadata": {
    "papermill": {
     "duration": 0.001425,
     "end_time": "2025-09-23T21:48:44.228922",
     "exception": false,
     "start_time": "2025-09-23T21:48:44.227497",
     "status": "completed"
    },
    "tags": []
   },
   "source": [
    "## Random Number Generation\n",
    "\n",
    "This is how we can generate random numbers from the prior.\n"
   ]
  },
  {
   "cell_type": "code",
   "execution_count": 7,
   "id": "5f927c2e",
   "metadata": {
    "execution": {
     "iopub.execute_input": "2025-09-23T21:48:44.232284Z",
     "iopub.status.busy": "2025-09-23T21:48:44.232148Z",
     "iopub.status.idle": "2025-09-23T21:48:44.342729Z",
     "shell.execute_reply": "2025-09-23T21:48:44.333362Z"
    },
    "papermill": {
     "duration": 0.113762,
     "end_time": "2025-09-23T21:48:44.344023",
     "exception": false,
     "start_time": "2025-09-23T21:48:44.230261",
     "status": "completed"
    },
    "tags": []
   },
   "outputs": [
    {
     "data": {
      "text/plain": [
       "Text(0, 0.5, 'N')"
      ]
     },
     "execution_count": 7,
     "metadata": {},
     "output_type": "execute_result"
    },
    {
     "data": {
      "image/png": "[encoded data removed]",
      "text/plain": [
       "<Figure size 1040x910 with 1 Axes>"
      ]
     },
     "metadata": {},
     "output_type": "display_data"
    }
   ],
   "source": [
    "\n",
    "\n",
    "u = np.random.uniform(0,1, size=5000)\n",
    "\n",
    "draws = [func.from_unit_cube(x) for x in u]\n",
    "\n",
    "\n",
    "fig, ax = plt.subplots()\n",
    "\n",
    "\n",
    "ax.hist(draws, color=green, bins=50)\n",
    "\n",
    "ax.set_xlabel(\"value\")\n",
    "ax.set_ylabel(\"N\")\n",
    "\n"
   ]
  }
 ],
 "metadata": {
  "jupytext": {
   "formats": "ipynb,md"
  },
  "kernelspec": {
   "display_name": "Python 3 (ipykernel)",
   "language": "python",
   "name": "python3"
  },
  "language_info": {
   "codemirror_mode": {
    "name": "ipython",
    "version": 3
   },
   "file_extension": ".py",
   "mimetype": "text/x-python",
   "name": "python",
   "nbconvert_exporter": "python",
   "pygments_lexer": "ipython3",
   "version": "3.9.13"
  },
  "papermill": {
   "default_parameters": {},
   "duration": 6.44916,
   "end_time": "2025-09-23T21:48:47.680976",
   "environment_variables": {},
   "exception": null,
   "input_path": "Uniform_prior.ipynb",
   "output_path": "/Users/runner/work/astromodels/astromodels/docs/notebooks/Uniform_prior.ipynb",
   "parameters": {
    "func_name": "Uniform_prior",
    "positive_prior": false
   },
   "start_time": "2025-09-23T21:48:41.231816",
   "version": "2.6.0"
  }
 },
 "nbformat": 4,
 "nbformat_minor": 5
}
