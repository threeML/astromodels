{
 "cells": [
  {
   "cell_type": "markdown",
   "id": "57e0eb2f",
   "metadata": {
    "papermill": {
     "duration": 0.002836,
     "end_time": "2025-10-01T20:08:38.309467",
     "exception": false,
     "start_time": "2025-10-01T20:08:38.306631",
     "status": "completed"
    },
    "tags": []
   },
   "source": [
    "# Uniform prior"
   ]
  },
  {
   "cell_type": "code",
   "execution_count": 1,
   "id": "cafad5e1",
   "metadata": {
    "execution": {
     "iopub.execute_input": "2025-10-01T20:08:38.316482Z",
     "iopub.status.busy": "2025-10-01T20:08:38.316261Z",
     "iopub.status.idle": "2025-10-01T20:08:40.702560Z",
     "shell.execute_reply": "2025-10-01T20:08:40.702010Z"
    },
    "nbsphinx": "hidden",
    "papermill": {
     "duration": 2.391629,
     "end_time": "2025-10-01T20:08:40.704158",
     "exception": false,
     "start_time": "2025-10-01T20:08:38.312529",
     "status": "completed"
    },
    "tags": []
   },
   "outputs": [],
   "source": [
    "%%capture\n",
    "\n",
    "import numpy as np\n",
    "\n",
    "import matplotlib.pyplot as plt\n",
    "\n",
    "import warnings\n",
    "warnings.simplefilter(\"ignore\")\n",
    "\n",
    "from astromodels.functions.function import _known_functions\n",
    "\n",
    "\n",
    "from jupyterthemes import jtplot\n",
    "jtplot.style(context=\"talk\", fscale=1, ticks=True, grid=False)\n",
    "%matplotlib inline"
   ]
  },
  {
   "cell_type": "code",
   "execution_count": 2,
   "id": "ff93edb0",
   "metadata": {
    "execution": {
     "iopub.execute_input": "2025-10-01T20:08:40.707639Z",
     "iopub.status.busy": "2025-10-01T20:08:40.707284Z",
     "iopub.status.idle": "2025-10-01T20:08:40.709642Z",
     "shell.execute_reply": "2025-10-01T20:08:40.709163Z"
    },
    "nbsphinx": "hidden",
    "papermill": {
     "duration": 0.005209,
     "end_time": "2025-10-01T20:08:40.710752",
     "exception": false,
     "start_time": "2025-10-01T20:08:40.705543",
     "status": "completed"
    },
    "tags": [
     "parameters"
    ]
   },
   "outputs": [],
   "source": [
    "func_name = \"TbAbs\"\n",
    "\n",
    "positive_prior = False\n"
   ]
  },
  {
   "cell_type": "code",
   "execution_count": 3,
   "id": "9a45a6e1",
   "metadata": {
    "execution": {
     "iopub.execute_input": "2025-10-01T20:08:40.713456Z",
     "iopub.status.busy": "2025-10-01T20:08:40.713318Z",
     "iopub.status.idle": "2025-10-01T20:08:40.721397Z",
     "shell.execute_reply": "2025-10-01T20:08:40.720898Z"
    },
    "papermill": {
     "duration": 0.01071,
     "end_time": "2025-10-01T20:08:40.722533",
     "exception": false,
     "start_time": "2025-10-01T20:08:40.711823",
     "status": "completed"
    },
    "tags": [
     "injected-parameters"
    ]
   },
   "outputs": [],
   "source": [
    "# Parameters\n",
    "func_name = \"Uniform_prior\"\n",
    "positive_prior = False\n"
   ]
  },
  {
   "cell_type": "code",
   "execution_count": 4,
   "id": "ff369001",
   "metadata": {
    "execution": {
     "iopub.execute_input": "2025-10-01T20:08:40.725513Z",
     "iopub.status.busy": "2025-10-01T20:08:40.725344Z",
     "iopub.status.idle": "2025-10-01T20:08:40.734557Z",
     "shell.execute_reply": "2025-10-01T20:08:40.734031Z"
    },
    "lines_to_next_cell": 0,
    "nbsphinx": "hidden",
    "papermill": {
     "duration": 0.011983,
     "end_time": "2025-10-01T20:08:40.735746",
     "exception": false,
     "start_time": "2025-10-01T20:08:40.723763",
     "status": "completed"
    },
    "tags": []
   },
   "outputs": [],
   "source": [
    "func = _known_functions[func_name]()\n",
    "\n",
    "if not positive_prior:\n",
    "\n",
    "\tenergy_grid = np.linspace(-5,5,1000)\n",
    "\n",
    "else:\n",
    "    \n",
    "    energy_grid = np.linspace(0,1,1000)\n",
    "    \n",
    "    \n",
    "    \n",
    "    \n",
    "blue = \"#4152E3\"\n",
    "red = \"#E3414B\"\n",
    "green = \"#41E39E\""
   ]
  },
  {
   "cell_type": "markdown",
   "id": "35cd46fc",
   "metadata": {
    "lines_to_next_cell": 0,
    "papermill": {
     "duration": 0.001025,
     "end_time": "2025-10-01T20:08:40.738029",
     "exception": false,
     "start_time": "2025-10-01T20:08:40.737004",
     "status": "completed"
    },
    "tags": []
   },
   "source": [
    "## Description"
   ]
  },
  {
   "cell_type": "code",
   "execution_count": 5,
   "id": "6377977e",
   "metadata": {
    "execution": {
     "iopub.execute_input": "2025-10-01T20:08:40.740848Z",
     "iopub.status.busy": "2025-10-01T20:08:40.740689Z",
     "iopub.status.idle": "2025-10-01T20:08:40.745713Z",
     "shell.execute_reply": "2025-10-01T20:08:40.745314Z"
    },
    "papermill": {
     "duration": 0.007704,
     "end_time": "2025-10-01T20:08:40.746832",
     "exception": false,
     "start_time": "2025-10-01T20:08:40.739128",
     "status": "completed"
    },
    "tags": []
   },
   "outputs": [
    {
     "data": {
      "text/html": [
       "<ul>\n",
       "\n",
       "<li>description: A function which is constant on the interval lower_bound - upper_bound and 0 outside the interval. The extremes of the interval are counted as part of the interval.</li>\n",
       "\n",
       "<li>formula: $ f(x)=\\begin{cases}0 & x < \\text{lower_bound} \\\\\\text{value} & \\text{lower_bound} \\le x \\le \\text{upper_bound} \\\\ 0 & x > \\text{upper_bound} \\end{cases}$</li>\n",
       "\n",
       "<li>parameters: \n",
       "<ul>\n",
       "\n",
       "<li>lower_bound: \n",
       "<ul>\n",
       "\n",
       "<li>value: 0.0</li>\n",
       "\n",
       "<li>desc: Lower bound for the interval</li>\n",
       "\n",
       "<li>min_value: -inf</li>\n",
       "\n",
       "<li>max_value: inf</li>\n",
       "\n",
       "<li>unit: </li>\n",
       "\n",
       "<li>is_normalization: False</li>\n",
       "\n",
       "<li>delta: 0.1</li>\n",
       "\n",
       "<li>free: True</li>\n",
       "\n",
       "</ul>\n",
       "\n",
       "</li>\n",
       "\n",
       "<li>upper_bound: \n",
       "<ul>\n",
       "\n",
       "<li>value: 1.0</li>\n",
       "\n",
       "<li>desc: Upper bound for the interval</li>\n",
       "\n",
       "<li>min_value: -inf</li>\n",
       "\n",
       "<li>max_value: inf</li>\n",
       "\n",
       "<li>unit: </li>\n",
       "\n",
       "<li>is_normalization: False</li>\n",
       "\n",
       "<li>delta: 0.1</li>\n",
       "\n",
       "<li>free: True</li>\n",
       "\n",
       "</ul>\n",
       "\n",
       "</li>\n",
       "\n",
       "<li>value: \n",
       "<ul>\n",
       "\n",
       "<li>value: 1.0</li>\n",
       "\n",
       "<li>desc: Value in the interval</li>\n",
       "\n",
       "<li>min_value: None</li>\n",
       "\n",
       "<li>max_value: None</li>\n",
       "\n",
       "<li>unit: </li>\n",
       "\n",
       "<li>is_normalization: False</li>\n",
       "\n",
       "<li>delta: 0.1</li>\n",
       "\n",
       "<li>free: True</li>\n",
       "\n",
       "</ul>\n",
       "\n",
       "</li>\n",
       "\n",
       "</ul>\n",
       "\n",
       "</li>\n",
       "\n",
       "</ul>\n"
      ],
      "text/plain": [
       "  * description: A function which is constant on the interval lower_bound - upper_bound\n",
       "    * and 0 outside the interval. The extremes of the interval are counted as part of\n",
       "    * the interval.\n",
       "  * formula: $ f(x)=\\begin{cases}0 & x < \\text{lower_bound} \\\\\\text{value} & \\text{lower_bound}\n",
       "    * \\le x \\le \\text{upper_bound} \\\\ 0 & x > \\text{upper_bound} \\end{cases}$\n",
       "  * parameters:\n",
       "    * lower_bound:\n",
       "      * value: 0.0\n",
       "      * desc: Lower bound for the interval\n",
       "      * min_value: -.inf\n",
       "      * max_value: .inf\n",
       "      * unit: ''\n",
       "      * is_normalization: false\n",
       "      * delta: 0.1\n",
       "      * free: true\n",
       "    * upper_bound:\n",
       "      * value: 1.0\n",
       "      * desc: Upper bound for the interval\n",
       "      * min_value: -.inf\n",
       "      * max_value: .inf\n",
       "      * unit: ''\n",
       "      * is_normalization: false\n",
       "      * delta: 0.1\n",
       "      * free: true\n",
       "    * value:\n",
       "      * value: 1.0\n",
       "      * desc: Value in the interval\n",
       "      * min_value: null\n",
       "      * max_value: null\n",
       "      * unit: ''\n",
       "      * is_normalization: false\n",
       "      * delta: 0.1\n",
       "      * free: true"
      ]
     },
     "metadata": {},
     "output_type": "display_data"
    }
   ],
   "source": [
    "func.display()"
   ]
  },
  {
   "cell_type": "markdown",
   "id": "a2930b61",
   "metadata": {
    "papermill": {
     "duration": 0.001242,
     "end_time": "2025-10-01T20:08:40.749569",
     "exception": false,
     "start_time": "2025-10-01T20:08:40.748327",
     "status": "completed"
    },
    "tags": []
   },
   "source": [
    "## Shape \n",
    "\n",
    "The shape of the function. \n",
    "\n",
    "*If this is not a photon model but a prior or linear function then ignore the units as these docs are auto-generated*"
   ]
  },
  {
   "cell_type": "code",
   "execution_count": 6,
   "id": "056e0925",
   "metadata": {
    "execution": {
     "iopub.execute_input": "2025-10-01T20:08:40.752733Z",
     "iopub.status.busy": "2025-10-01T20:08:40.752570Z",
     "iopub.status.idle": "2025-10-01T20:08:40.872317Z",
     "shell.execute_reply": "2025-10-01T20:08:40.871954Z"
    },
    "papermill": {
     "duration": 0.122759,
     "end_time": "2025-10-01T20:08:40.873598",
     "exception": false,
     "start_time": "2025-10-01T20:08:40.750839",
     "status": "completed"
    },
    "tags": [
     "nbsphinx-thumbnail"
    ]
   },
   "outputs": [
    {
     "data": {
      "text/plain": [
       "Text(0, 0.5, 'probability')"
      ]
     },
     "execution_count": 6,
     "metadata": {},
     "output_type": "execute_result"
    },
    {
     "data": {
      "image/png": "[encoded data removed]",
      "text/plain": [
       "<Figure size 1040x910 with 1 Axes>"
      ]
     },
     "metadata": {},
     "output_type": "display_data"
    }
   ],
   "source": [
    "fig, ax = plt.subplots()\n",
    "\n",
    "\n",
    "ax.plot(energy_grid, func(energy_grid), color=blue, lw=3)\n",
    "\n",
    "ax.set_xlabel(\"x\")\n",
    "ax.set_ylabel(\"probability\")\n"
   ]
  },
  {
   "cell_type": "markdown",
   "id": "0c248358",
   "metadata": {
    "papermill": {
     "duration": 0.001518,
     "end_time": "2025-10-01T20:08:40.876868",
     "exception": false,
     "start_time": "2025-10-01T20:08:40.875350",
     "status": "completed"
    },
    "tags": []
   },
   "source": [
    "## Random Number Generation\n",
    "\n",
    "This is how we can generate random numbers from the prior.\n"
   ]
  },
  {
   "cell_type": "code",
   "execution_count": 7,
   "id": "feee3821",
   "metadata": {
    "execution": {
     "iopub.execute_input": "2025-10-01T20:08:40.880562Z",
     "iopub.status.busy": "2025-10-01T20:08:40.880389Z",
     "iopub.status.idle": "2025-10-01T20:08:41.032765Z",
     "shell.execute_reply": "2025-10-01T20:08:41.032279Z"
    },
    "papermill": {
     "duration": 0.155928,
     "end_time": "2025-10-01T20:08:41.034153",
     "exception": false,
     "start_time": "2025-10-01T20:08:40.878225",
     "status": "completed"
    },
    "tags": []
   },
   "outputs": [
    {
     "data": {
      "text/plain": [
       "Text(0, 0.5, 'N')"
      ]
     },
     "execution_count": 7,
     "metadata": {},
     "output_type": "execute_result"
    },
    {
     "data": {
      "image/png": "[encoded data removed]",
      "text/plain": [
       "<Figure size 1040x910 with 1 Axes>"
      ]
     },
     "metadata": {},
     "output_type": "display_data"
    }
   ],
   "source": [
    "\n",
    "\n",
    "u = np.random.uniform(0,1, size=5000)\n",
    "\n",
    "draws = [func.from_unit_cube(x) for x in u]\n",
    "\n",
    "\n",
    "fig, ax = plt.subplots()\n",
    "\n",
    "\n",
    "ax.hist(draws, color=green, bins=50)\n",
    "\n",
    "ax.set_xlabel(\"value\")\n",
    "ax.set_ylabel(\"N\")\n",
    "\n"
   ]
  }
 ],
 "metadata": {
  "jupytext": {
   "formats": "ipynb,md"
  },
  "kernelspec": {
   "display_name": "Python 3 (ipykernel)",
   "language": "python",
   "name": "python3"
  },
  "language_info": {
   "codemirror_mode": {
    "name": "ipython",
    "version": 3
   },
   "file_extension": ".py",
   "mimetype": "text/x-python",
   "name": "python",
   "nbconvert_exporter": "python",
   "pygments_lexer": "ipython3",
   "version": "3.9.13"
  },
  "papermill": {
   "default_parameters": {},
   "duration": 3.992316,
   "end_time": "2025-10-01T20:08:41.566215",
   "environment_variables": {},
   "exception": null,
   "input_path": "Uniform_prior.ipynb",
   "output_path": "/Users/runner/work/astromodels/astromodels/docs/notebooks/Uniform_prior.ipynb",
   "parameters": {
    "func_name": "Uniform_prior",
    "positive_prior": false
   },
   "start_time": "2025-10-01T20:08:37.573899",
   "version": "2.6.0"
  }
 },
 "nbformat": 4,
 "nbformat_minor": 5
}
