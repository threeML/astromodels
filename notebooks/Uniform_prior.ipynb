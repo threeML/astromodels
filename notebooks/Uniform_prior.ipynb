{
 "cells": [
  {
   "cell_type": "markdown",
   "id": "b5e1466e",
   "metadata": {
    "papermill": {
     "duration": 0.001787,
     "end_time": "2025-10-03T18:32:33.835129",
     "exception": false,
     "start_time": "2025-10-03T18:32:33.833342",
     "status": "completed"
    },
    "tags": []
   },
   "source": [
    "# Uniform prior"
   ]
  },
  {
   "cell_type": "code",
   "execution_count": 1,
   "id": "4b8e2632",
   "metadata": {
    "execution": {
     "iopub.execute_input": "2025-10-03T18:32:33.839161Z",
     "iopub.status.busy": "2025-10-03T18:32:33.838981Z",
     "iopub.status.idle": "2025-10-03T18:32:36.232546Z",
     "shell.execute_reply": "2025-10-03T18:32:36.231566Z"
    },
    "nbsphinx": "hidden",
    "papermill": {
     "duration": 2.397762,
     "end_time": "2025-10-03T18:32:36.234924",
     "exception": false,
     "start_time": "2025-10-03T18:32:33.837162",
     "status": "completed"
    },
    "tags": []
   },
   "outputs": [],
   "source": [
    "%%capture\n",
    "\n",
    "import numpy as np\n",
    "\n",
    "import matplotlib.pyplot as plt\n",
    "\n",
    "import warnings\n",
    "warnings.simplefilter(\"ignore\")\n",
    "\n",
    "from astromodels.functions.function import _known_functions\n",
    "\n",
    "\n",
    "from jupyterthemes import jtplot\n",
    "jtplot.style(context=\"talk\", fscale=1, ticks=True, grid=False)\n",
    "%matplotlib inline"
   ]
  },
  {
   "cell_type": "code",
   "execution_count": 2,
   "id": "aaec9ba8",
   "metadata": {
    "execution": {
     "iopub.execute_input": "2025-10-03T18:32:36.239340Z",
     "iopub.status.busy": "2025-10-03T18:32:36.238937Z",
     "iopub.status.idle": "2025-10-03T18:32:36.241316Z",
     "shell.execute_reply": "2025-10-03T18:32:36.240918Z"
    },
    "nbsphinx": "hidden",
    "papermill": {
     "duration": 0.005474,
     "end_time": "2025-10-03T18:32:36.242489",
     "exception": false,
     "start_time": "2025-10-03T18:32:36.237015",
     "status": "completed"
    },
    "tags": [
     "parameters"
    ]
   },
   "outputs": [],
   "source": [
    "func_name = \"TbAbs\"\n",
    "\n",
    "positive_prior = False\n"
   ]
  },
  {
   "cell_type": "code",
   "execution_count": 3,
   "id": "36bf0dbe",
   "metadata": {
    "execution": {
     "iopub.execute_input": "2025-10-03T18:32:36.245910Z",
     "iopub.status.busy": "2025-10-03T18:32:36.245720Z",
     "iopub.status.idle": "2025-10-03T18:32:36.247906Z",
     "shell.execute_reply": "2025-10-03T18:32:36.247305Z"
    },
    "papermill": {
     "duration": 0.005642,
     "end_time": "2025-10-03T18:32:36.249409",
     "exception": false,
     "start_time": "2025-10-03T18:32:36.243767",
     "status": "completed"
    },
    "tags": [
     "injected-parameters"
    ]
   },
   "outputs": [],
   "source": [
    "# Parameters\n",
    "func_name = \"Uniform_prior\"\n",
    "positive_prior = False\n"
   ]
  },
  {
   "cell_type": "code",
   "execution_count": 4,
   "id": "5b89c39e",
   "metadata": {
    "execution": {
     "iopub.execute_input": "2025-10-03T18:32:36.252990Z",
     "iopub.status.busy": "2025-10-03T18:32:36.252607Z",
     "iopub.status.idle": "2025-10-03T18:32:36.259259Z",
     "shell.execute_reply": "2025-10-03T18:32:36.258159Z"
    },
    "lines_to_next_cell": 0,
    "nbsphinx": "hidden",
    "papermill": {
     "duration": 0.009557,
     "end_time": "2025-10-03T18:32:36.260314",
     "exception": false,
     "start_time": "2025-10-03T18:32:36.250757",
     "status": "completed"
    },
    "tags": []
   },
   "outputs": [],
   "source": [
    "func = _known_functions[func_name]()\n",
    "\n",
    "if not positive_prior:\n",
    "\n",
    "\tenergy_grid = np.linspace(-5,5,1000)\n",
    "\n",
    "else:\n",
    "    \n",
    "    energy_grid = np.linspace(0,1,1000)\n",
    "    \n",
    "    \n",
    "    \n",
    "    \n",
    "blue = \"#4152E3\"\n",
    "red = \"#E3414B\"\n",
    "green = \"#41E39E\""
   ]
  },
  {
   "cell_type": "markdown",
   "id": "56ff47f5",
   "metadata": {
    "lines_to_next_cell": 0,
    "papermill": {
     "duration": 0.001162,
     "end_time": "2025-10-03T18:32:36.262779",
     "exception": false,
     "start_time": "2025-10-03T18:32:36.261617",
     "status": "completed"
    },
    "tags": []
   },
   "source": [
    "## Description"
   ]
  },
  {
   "cell_type": "code",
   "execution_count": 5,
   "id": "bcd94aef",
   "metadata": {
    "execution": {
     "iopub.execute_input": "2025-10-03T18:32:36.265620Z",
     "iopub.status.busy": "2025-10-03T18:32:36.265460Z",
     "iopub.status.idle": "2025-10-03T18:32:36.274717Z",
     "shell.execute_reply": "2025-10-03T18:32:36.274063Z"
    },
    "papermill": {
     "duration": 0.012111,
     "end_time": "2025-10-03T18:32:36.275923",
     "exception": false,
     "start_time": "2025-10-03T18:32:36.263812",
     "status": "completed"
    },
    "tags": []
   },
   "outputs": [
    {
     "data": {
      "text/html": [
       "<ul>\n",
       "\n",
       "<li>description: A function which is constant on the interval lower_bound - upper_bound and 0 outside the interval. The extremes of the interval are counted as part of the interval.</li>\n",
       "\n",
       "<li>formula: $ f(x)=\\begin{cases}0 & x < \\text{lower_bound} \\\\\\text{value} & \\text{lower_bound} \\le x \\le \\text{upper_bound} \\\\ 0 & x > \\text{upper_bound} \\end{cases}$</li>\n",
       "\n",
       "<li>parameters: \n",
       "<ul>\n",
       "\n",
       "<li>lower_bound: \n",
       "<ul>\n",
       "\n",
       "<li>value: 0.0</li>\n",
       "\n",
       "<li>desc: Lower bound for the interval</li>\n",
       "\n",
       "<li>min_value: -inf</li>\n",
       "\n",
       "<li>max_value: inf</li>\n",
       "\n",
       "<li>unit: </li>\n",
       "\n",
       "<li>is_normalization: False</li>\n",
       "\n",
       "<li>delta: 0.1</li>\n",
       "\n",
       "<li>free: True</li>\n",
       "\n",
       "</ul>\n",
       "\n",
       "</li>\n",
       "\n",
       "<li>upper_bound: \n",
       "<ul>\n",
       "\n",
       "<li>value: 1.0</li>\n",
       "\n",
       "<li>desc: Upper bound for the interval</li>\n",
       "\n",
       "<li>min_value: -inf</li>\n",
       "\n",
       "<li>max_value: inf</li>\n",
       "\n",
       "<li>unit: </li>\n",
       "\n",
       "<li>is_normalization: False</li>\n",
       "\n",
       "<li>delta: 0.1</li>\n",
       "\n",
       "<li>free: True</li>\n",
       "\n",
       "</ul>\n",
       "\n",
       "</li>\n",
       "\n",
       "<li>value: \n",
       "<ul>\n",
       "\n",
       "<li>value: 1.0</li>\n",
       "\n",
       "<li>desc: Value in the interval</li>\n",
       "\n",
       "<li>min_value: None</li>\n",
       "\n",
       "<li>max_value: None</li>\n",
       "\n",
       "<li>unit: </li>\n",
       "\n",
       "<li>is_normalization: False</li>\n",
       "\n",
       "<li>delta: 0.1</li>\n",
       "\n",
       "<li>free: True</li>\n",
       "\n",
       "</ul>\n",
       "\n",
       "</li>\n",
       "\n",
       "</ul>\n",
       "\n",
       "</li>\n",
       "\n",
       "</ul>\n"
      ],
      "text/plain": [
       "  * description: A function which is constant on the interval lower_bound - upper_bound\n",
       "    * and 0 outside the interval. The extremes of the interval are counted as part of\n",
       "    * the interval.\n",
       "  * formula: $ f(x)=\\begin{cases}0 & x < \\text{lower_bound} \\\\\\text{value} & \\text{lower_bound}\n",
       "    * \\le x \\le \\text{upper_bound} \\\\ 0 & x > \\text{upper_bound} \\end{cases}$\n",
       "  * parameters:\n",
       "    * lower_bound:\n",
       "      * value: 0.0\n",
       "      * desc: Lower bound for the interval\n",
       "      * min_value: -.inf\n",
       "      * max_value: .inf\n",
       "      * unit: ''\n",
       "      * is_normalization: false\n",
       "      * delta: 0.1\n",
       "      * free: true\n",
       "    * upper_bound:\n",
       "      * value: 1.0\n",
       "      * desc: Upper bound for the interval\n",
       "      * min_value: -.inf\n",
       "      * max_value: .inf\n",
       "      * unit: ''\n",
       "      * is_normalization: false\n",
       "      * delta: 0.1\n",
       "      * free: true\n",
       "    * value:\n",
       "      * value: 1.0\n",
       "      * desc: Value in the interval\n",
       "      * min_value: null\n",
       "      * max_value: null\n",
       "      * unit: ''\n",
       "      * is_normalization: false\n",
       "      * delta: 0.1\n",
       "      * free: true"
      ]
     },
     "metadata": {},
     "output_type": "display_data"
    }
   ],
   "source": [
    "func.display()"
   ]
  },
  {
   "cell_type": "markdown",
   "id": "d5060978",
   "metadata": {
    "papermill": {
     "duration": 0.001246,
     "end_time": "2025-10-03T18:32:36.278713",
     "exception": false,
     "start_time": "2025-10-03T18:32:36.277467",
     "status": "completed"
    },
    "tags": []
   },
   "source": [
    "## Shape \n",
    "\n",
    "The shape of the function. \n",
    "\n",
    "*If this is not a photon model but a prior or linear function then ignore the units as these docs are auto-generated*"
   ]
  },
  {
   "cell_type": "code",
   "execution_count": 6,
   "id": "d12c553e",
   "metadata": {
    "execution": {
     "iopub.execute_input": "2025-10-03T18:32:36.282112Z",
     "iopub.status.busy": "2025-10-03T18:32:36.281933Z",
     "iopub.status.idle": "2025-10-03T18:32:36.433222Z",
     "shell.execute_reply": "2025-10-03T18:32:36.428628Z"
    },
    "papermill": {
     "duration": 0.154922,
     "end_time": "2025-10-03T18:32:36.434984",
     "exception": false,
     "start_time": "2025-10-03T18:32:36.280062",
     "status": "completed"
    },
    "tags": [
     "nbsphinx-thumbnail"
    ]
   },
   "outputs": [
    {
     "data": {
      "text/plain": [
       "Text(0, 0.5, 'probability')"
      ]
     },
     "execution_count": 6,
     "metadata": {},
     "output_type": "execute_result"
    },
    {
     "data": {
      "image/png": "[encoded data removed]",
      "text/plain": [
       "<Figure size 1040x910 with 1 Axes>"
      ]
     },
     "metadata": {},
     "output_type": "display_data"
    }
   ],
   "source": [
    "fig, ax = plt.subplots()\n",
    "\n",
    "\n",
    "ax.plot(energy_grid, func(energy_grid), color=blue, lw=3)\n",
    "\n",
    "ax.set_xlabel(\"x\")\n",
    "ax.set_ylabel(\"probability\")\n"
   ]
  },
  {
   "cell_type": "markdown",
   "id": "c4b0d594",
   "metadata": {
    "papermill": {
     "duration": 0.001515,
     "end_time": "2025-10-03T18:32:36.440415",
     "exception": false,
     "start_time": "2025-10-03T18:32:36.438900",
     "status": "completed"
    },
    "tags": []
   },
   "source": [
    "## Random Number Generation\n",
    "\n",
    "This is how we can generate random numbers from the prior.\n"
   ]
  },
  {
   "cell_type": "code",
   "execution_count": 7,
   "id": "80644c50",
   "metadata": {
    "execution": {
     "iopub.execute_input": "2025-10-03T18:32:36.448650Z",
     "iopub.status.busy": "2025-10-03T18:32:36.447981Z",
     "iopub.status.idle": "2025-10-03T18:32:36.606546Z",
     "shell.execute_reply": "2025-10-03T18:32:36.605671Z"
    },
    "papermill": {
     "duration": 0.166256,
     "end_time": "2025-10-03T18:32:36.608063",
     "exception": false,
     "start_time": "2025-10-03T18:32:36.441807",
     "status": "completed"
    },
    "tags": []
   },
   "outputs": [
    {
     "data": {
      "text/plain": [
       "Text(0, 0.5, 'N')"
      ]
     },
     "execution_count": 7,
     "metadata": {},
     "output_type": "execute_result"
    },
    {
     "data": {
      "image/png": "[encoded data removed]",
      "text/plain": [
       "<Figure size 1040x910 with 1 Axes>"
      ]
     },
     "metadata": {},
     "output_type": "display_data"
    }
   ],
   "source": [
    "\n",
    "\n",
    "u = np.random.uniform(0,1, size=5000)\n",
    "\n",
    "draws = [func.from_unit_cube(x) for x in u]\n",
    "\n",
    "\n",
    "fig, ax = plt.subplots()\n",
    "\n",
    "\n",
    "ax.hist(draws, color=green, bins=50)\n",
    "\n",
    "ax.set_xlabel(\"value\")\n",
    "ax.set_ylabel(\"N\")\n",
    "\n"
   ]
  }
 ],
 "metadata": {
  "jupytext": {
   "formats": "ipynb,md"
  },
  "kernelspec": {
   "display_name": "Python 3 (ipykernel)",
   "language": "python",
   "name": "python3"
  },
  "language_info": {
   "codemirror_mode": {
    "name": "ipython",
    "version": 3
   },
   "file_extension": ".py",
   "mimetype": "text/x-python",
   "name": "python",
   "nbconvert_exporter": "python",
   "pygments_lexer": "ipython3",
   "version": "3.9.13"
  },
  "papermill": {
   "default_parameters": {},
   "duration": 3.859739,
   "end_time": "2025-10-03T18:32:37.143471",
   "environment_variables": {},
   "exception": null,
   "input_path": "Uniform_prior.ipynb",
   "output_path": "/Users/runner/work/astromodels/astromodels/docs/notebooks/Uniform_prior.ipynb",
   "parameters": {
    "func_name": "Uniform_prior",
    "positive_prior": false
   },
   "start_time": "2025-10-03T18:32:33.283732",
   "version": "2.6.0"
  }
 },
 "nbformat": 4,
 "nbformat_minor": 5
}
