{
 "cells": [
  {
   "cell_type": "markdown",
   "id": "3fe8f26c",
   "metadata": {
    "papermill": {
     "duration": 0.00723,
     "end_time": "2025-09-27T06:19:17.646968",
     "exception": false,
     "start_time": "2025-09-27T06:19:17.639738",
     "status": "completed"
    },
    "tags": []
   },
   "source": [
    "# Uniform prior"
   ]
  },
  {
   "cell_type": "code",
   "execution_count": 1,
   "id": "c656f382",
   "metadata": {
    "execution": {
     "iopub.execute_input": "2025-09-27T06:19:17.660494Z",
     "iopub.status.busy": "2025-09-27T06:19:17.660024Z",
     "iopub.status.idle": "2025-09-27T06:19:19.539819Z",
     "shell.execute_reply": "2025-09-27T06:19:19.539235Z"
    },
    "nbsphinx": "hidden",
    "papermill": {
     "duration": 1.887808,
     "end_time": "2025-09-27T06:19:19.541384",
     "exception": false,
     "start_time": "2025-09-27T06:19:17.653576",
     "status": "completed"
    },
    "tags": []
   },
   "outputs": [],
   "source": [
    "%%capture\n",
    "\n",
    "import numpy as np\n",
    "\n",
    "import matplotlib.pyplot as plt\n",
    "\n",
    "import warnings\n",
    "warnings.simplefilter(\"ignore\")\n",
    "\n",
    "from astromodels.functions.function import _known_functions\n",
    "\n",
    "\n",
    "from jupyterthemes import jtplot\n",
    "jtplot.style(context=\"talk\", fscale=1, ticks=True, grid=False)\n",
    "%matplotlib inline"
   ]
  },
  {
   "cell_type": "code",
   "execution_count": 2,
   "id": "0b41b3ba",
   "metadata": {
    "execution": {
     "iopub.execute_input": "2025-09-27T06:19:19.544830Z",
     "iopub.status.busy": "2025-09-27T06:19:19.544511Z",
     "iopub.status.idle": "2025-09-27T06:19:19.552997Z",
     "shell.execute_reply": "2025-09-27T06:19:19.552450Z"
    },
    "nbsphinx": "hidden",
    "papermill": {
     "duration": 0.011384,
     "end_time": "2025-09-27T06:19:19.554191",
     "exception": false,
     "start_time": "2025-09-27T06:19:19.542807",
     "status": "completed"
    },
    "tags": [
     "parameters"
    ]
   },
   "outputs": [],
   "source": [
    "func_name = \"TbAbs\"\n",
    "\n",
    "positive_prior = False\n"
   ]
  },
  {
   "cell_type": "code",
   "execution_count": 3,
   "id": "62fc5d9a",
   "metadata": {
    "execution": {
     "iopub.execute_input": "2025-09-27T06:19:19.556911Z",
     "iopub.status.busy": "2025-09-27T06:19:19.556770Z",
     "iopub.status.idle": "2025-09-27T06:19:19.564605Z",
     "shell.execute_reply": "2025-09-27T06:19:19.564240Z"
    },
    "papermill": {
     "duration": 0.010318,
     "end_time": "2025-09-27T06:19:19.565674",
     "exception": false,
     "start_time": "2025-09-27T06:19:19.555356",
     "status": "completed"
    },
    "tags": [
     "injected-parameters"
    ]
   },
   "outputs": [],
   "source": [
    "# Parameters\n",
    "func_name = \"Uniform_prior\"\n",
    "positive_prior = False\n"
   ]
  },
  {
   "cell_type": "code",
   "execution_count": 4,
   "id": "629e5a75",
   "metadata": {
    "execution": {
     "iopub.execute_input": "2025-09-27T06:19:19.568178Z",
     "iopub.status.busy": "2025-09-27T06:19:19.568063Z",
     "iopub.status.idle": "2025-09-27T06:19:19.571078Z",
     "shell.execute_reply": "2025-09-27T06:19:19.570597Z"
    },
    "lines_to_next_cell": 0,
    "nbsphinx": "hidden",
    "papermill": {
     "duration": 0.005607,
     "end_time": "2025-09-27T06:19:19.572277",
     "exception": false,
     "start_time": "2025-09-27T06:19:19.566670",
     "status": "completed"
    },
    "tags": []
   },
   "outputs": [],
   "source": [
    "func = _known_functions[func_name]()\n",
    "\n",
    "if not positive_prior:\n",
    "\n",
    "\tenergy_grid = np.linspace(-5,5,1000)\n",
    "\n",
    "else:\n",
    "    \n",
    "    energy_grid = np.linspace(0,1,1000)\n",
    "    \n",
    "    \n",
    "    \n",
    "    \n",
    "blue = \"#4152E3\"\n",
    "red = \"#E3414B\"\n",
    "green = \"#41E39E\""
   ]
  },
  {
   "cell_type": "markdown",
   "id": "555d6778",
   "metadata": {
    "lines_to_next_cell": 0,
    "papermill": {
     "duration": 0.000951,
     "end_time": "2025-09-27T06:19:19.574385",
     "exception": false,
     "start_time": "2025-09-27T06:19:19.573434",
     "status": "completed"
    },
    "tags": []
   },
   "source": [
    "## Description"
   ]
  },
  {
   "cell_type": "code",
   "execution_count": 5,
   "id": "4e9dbc00",
   "metadata": {
    "execution": {
     "iopub.execute_input": "2025-09-27T06:19:19.576792Z",
     "iopub.status.busy": "2025-09-27T06:19:19.576652Z",
     "iopub.status.idle": "2025-09-27T06:19:19.581194Z",
     "shell.execute_reply": "2025-09-27T06:19:19.580781Z"
    },
    "papermill": {
     "duration": 0.006972,
     "end_time": "2025-09-27T06:19:19.582274",
     "exception": false,
     "start_time": "2025-09-27T06:19:19.575302",
     "status": "completed"
    },
    "tags": []
   },
   "outputs": [
    {
     "data": {
      "text/html": [
       "<ul>\n",
       "\n",
       "<li>description: A function which is constant on the interval lower_bound - upper_bound and 0 outside the interval. The extremes of the interval are counted as part of the interval.</li>\n",
       "\n",
       "<li>formula: $ f(x)=\\begin{cases}0 & x < \\text{lower_bound} \\\\\\text{value} & \\text{lower_bound} \\le x \\le \\text{upper_bound} \\\\ 0 & x > \\text{upper_bound} \\end{cases}$</li>\n",
       "\n",
       "<li>parameters: \n",
       "<ul>\n",
       "\n",
       "<li>lower_bound: \n",
       "<ul>\n",
       "\n",
       "<li>value: 0.0</li>\n",
       "\n",
       "<li>desc: Lower bound for the interval</li>\n",
       "\n",
       "<li>min_value: -inf</li>\n",
       "\n",
       "<li>max_value: inf</li>\n",
       "\n",
       "<li>unit: </li>\n",
       "\n",
       "<li>is_normalization: False</li>\n",
       "\n",
       "<li>delta: 0.1</li>\n",
       "\n",
       "<li>free: True</li>\n",
       "\n",
       "</ul>\n",
       "\n",
       "</li>\n",
       "\n",
       "<li>upper_bound: \n",
       "<ul>\n",
       "\n",
       "<li>value: 1.0</li>\n",
       "\n",
       "<li>desc: Upper bound for the interval</li>\n",
       "\n",
       "<li>min_value: -inf</li>\n",
       "\n",
       "<li>max_value: inf</li>\n",
       "\n",
       "<li>unit: </li>\n",
       "\n",
       "<li>is_normalization: False</li>\n",
       "\n",
       "<li>delta: 0.1</li>\n",
       "\n",
       "<li>free: True</li>\n",
       "\n",
       "</ul>\n",
       "\n",
       "</li>\n",
       "\n",
       "<li>value: \n",
       "<ul>\n",
       "\n",
       "<li>value: 1.0</li>\n",
       "\n",
       "<li>desc: Value in the interval</li>\n",
       "\n",
       "<li>min_value: None</li>\n",
       "\n",
       "<li>max_value: None</li>\n",
       "\n",
       "<li>unit: </li>\n",
       "\n",
       "<li>is_normalization: False</li>\n",
       "\n",
       "<li>delta: 0.1</li>\n",
       "\n",
       "<li>free: True</li>\n",
       "\n",
       "</ul>\n",
       "\n",
       "</li>\n",
       "\n",
       "</ul>\n",
       "\n",
       "</li>\n",
       "\n",
       "</ul>\n"
      ],
      "text/plain": [
       "  * description: A function which is constant on the interval lower_bound - upper_bound\n",
       "    * and 0 outside the interval. The extremes of the interval are counted as part of\n",
       "    * the interval.\n",
       "  * formula: $ f(x)=\\begin{cases}0 & x < \\text{lower_bound} \\\\\\text{value} & \\text{lower_bound}\n",
       "    * \\le x \\le \\text{upper_bound} \\\\ 0 & x > \\text{upper_bound} \\end{cases}$\n",
       "  * parameters:\n",
       "    * lower_bound:\n",
       "      * value: 0.0\n",
       "      * desc: Lower bound for the interval\n",
       "      * min_value: -.inf\n",
       "      * max_value: .inf\n",
       "      * unit: ''\n",
       "      * is_normalization: false\n",
       "      * delta: 0.1\n",
       "      * free: true\n",
       "    * upper_bound:\n",
       "      * value: 1.0\n",
       "      * desc: Upper bound for the interval\n",
       "      * min_value: -.inf\n",
       "      * max_value: .inf\n",
       "      * unit: ''\n",
       "      * is_normalization: false\n",
       "      * delta: 0.1\n",
       "      * free: true\n",
       "    * value:\n",
       "      * value: 1.0\n",
       "      * desc: Value in the interval\n",
       "      * min_value: null\n",
       "      * max_value: null\n",
       "      * unit: ''\n",
       "      * is_normalization: false\n",
       "      * delta: 0.1\n",
       "      * free: true"
      ]
     },
     "metadata": {},
     "output_type": "display_data"
    }
   ],
   "source": [
    "func.display()"
   ]
  },
  {
   "cell_type": "markdown",
   "id": "e7336ab9",
   "metadata": {
    "papermill": {
     "duration": 0.001107,
     "end_time": "2025-09-27T06:19:19.584618",
     "exception": false,
     "start_time": "2025-09-27T06:19:19.583511",
     "status": "completed"
    },
    "tags": []
   },
   "source": [
    "## Shape \n",
    "\n",
    "The shape of the function. \n",
    "\n",
    "*If this is not a photon model but a prior or linear function then ignore the units as these docs are auto-generated*"
   ]
  },
  {
   "cell_type": "code",
   "execution_count": 6,
   "id": "5c95e679",
   "metadata": {
    "execution": {
     "iopub.execute_input": "2025-09-27T06:19:19.587961Z",
     "iopub.status.busy": "2025-09-27T06:19:19.587722Z",
     "iopub.status.idle": "2025-09-27T06:19:19.687012Z",
     "shell.execute_reply": "2025-09-27T06:19:19.686524Z"
    },
    "papermill": {
     "duration": 0.103246,
     "end_time": "2025-09-27T06:19:19.688881",
     "exception": false,
     "start_time": "2025-09-27T06:19:19.585635",
     "status": "completed"
    },
    "tags": [
     "nbsphinx-thumbnail"
    ]
   },
   "outputs": [
    {
     "data": {
      "text/plain": [
       "Text(0, 0.5, 'probability')"
      ]
     },
     "execution_count": 6,
     "metadata": {},
     "output_type": "execute_result"
    },
    {
     "data": {
      "image/png": "[encoded data removed]",
      "text/plain": [
       "<Figure size 1040x910 with 1 Axes>"
      ]
     },
     "metadata": {},
     "output_type": "display_data"
    }
   ],
   "source": [
    "fig, ax = plt.subplots()\n",
    "\n",
    "\n",
    "ax.plot(energy_grid, func(energy_grid), color=blue, lw=3)\n",
    "\n",
    "ax.set_xlabel(\"x\")\n",
    "ax.set_ylabel(\"probability\")\n"
   ]
  },
  {
   "cell_type": "markdown",
   "id": "a01d9887",
   "metadata": {
    "papermill": {
     "duration": 0.001686,
     "end_time": "2025-09-27T06:19:19.693485",
     "exception": false,
     "start_time": "2025-09-27T06:19:19.691799",
     "status": "completed"
    },
    "tags": []
   },
   "source": [
    "## Random Number Generation\n",
    "\n",
    "This is how we can generate random numbers from the prior.\n"
   ]
  },
  {
   "cell_type": "code",
   "execution_count": 7,
   "id": "64ec5f59",
   "metadata": {
    "execution": {
     "iopub.execute_input": "2025-09-27T06:19:19.697082Z",
     "iopub.status.busy": "2025-09-27T06:19:19.696916Z",
     "iopub.status.idle": "2025-09-27T06:19:19.820074Z",
     "shell.execute_reply": "2025-09-27T06:19:19.819727Z"
    },
    "papermill": {
     "duration": 0.127117,
     "end_time": "2025-09-27T06:19:19.821960",
     "exception": false,
     "start_time": "2025-09-27T06:19:19.694843",
     "status": "completed"
    },
    "tags": []
   },
   "outputs": [
    {
     "data": {
      "text/plain": [
       "Text(0, 0.5, 'N')"
      ]
     },
     "execution_count": 7,
     "metadata": {},
     "output_type": "execute_result"
    },
    {
     "data": {
      "image/png": "[encoded data removed]",
      "text/plain": [
       "<Figure size 1040x910 with 1 Axes>"
      ]
     },
     "metadata": {},
     "output_type": "display_data"
    }
   ],
   "source": [
    "\n",
    "\n",
    "u = np.random.uniform(0,1, size=5000)\n",
    "\n",
    "draws = [func.from_unit_cube(x) for x in u]\n",
    "\n",
    "\n",
    "fig, ax = plt.subplots()\n",
    "\n",
    "\n",
    "ax.hist(draws, color=green, bins=50)\n",
    "\n",
    "ax.set_xlabel(\"value\")\n",
    "ax.set_ylabel(\"N\")\n",
    "\n"
   ]
  }
 ],
 "metadata": {
  "jupytext": {
   "formats": "ipynb,md"
  },
  "kernelspec": {
   "display_name": "Python 3 (ipykernel)",
   "language": "python",
   "name": "python3"
  },
  "language_info": {
   "codemirror_mode": {
    "name": "ipython",
    "version": 3
   },
   "file_extension": ".py",
   "mimetype": "text/x-python",
   "name": "python",
   "nbconvert_exporter": "python",
   "pygments_lexer": "ipython3",
   "version": "3.9.13"
  },
  "papermill": {
   "default_parameters": {},
   "duration": 3.239418,
   "end_time": "2025-09-27T06:19:20.249516",
   "environment_variables": {},
   "exception": null,
   "input_path": "Uniform_prior.ipynb",
   "output_path": "/Users/runner/work/astromodels/astromodels/docs/notebooks/Uniform_prior.ipynb",
   "parameters": {
    "func_name": "Uniform_prior",
    "positive_prior": false
   },
   "start_time": "2025-09-27T06:19:17.010098",
   "version": "2.6.0"
  }
 },
 "nbformat": 4,
 "nbformat_minor": 5
}
