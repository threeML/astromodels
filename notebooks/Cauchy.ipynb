{
 "cells": [
  {
   "cell_type": "markdown",
   "id": "0efb64c0",
   "metadata": {
    "papermill": {
     "duration": 0.001427,
     "end_time": "2025-10-02T02:20:28.016365",
     "exception": false,
     "start_time": "2025-10-02T02:20:28.014938",
     "status": "completed"
    },
    "tags": []
   },
   "source": [
    "# Cauchy"
   ]
  },
  {
   "cell_type": "code",
   "execution_count": 1,
   "id": "038e875d",
   "metadata": {
    "execution": {
     "iopub.execute_input": "2025-10-02T02:20:28.019263Z",
     "iopub.status.busy": "2025-10-02T02:20:28.019104Z",
     "iopub.status.idle": "2025-10-02T02:20:29.938530Z",
     "shell.execute_reply": "2025-10-02T02:20:29.937910Z"
    },
    "nbsphinx": "hidden",
    "papermill": {
     "duration": 1.92257,
     "end_time": "2025-10-02T02:20:29.940082",
     "exception": false,
     "start_time": "2025-10-02T02:20:28.017512",
     "status": "completed"
    },
    "tags": []
   },
   "outputs": [],
   "source": [
    "%%capture\n",
    "\n",
    "import numpy as np\n",
    "\n",
    "import matplotlib.pyplot as plt\n",
    "\n",
    "import warnings\n",
    "warnings.simplefilter(\"ignore\")\n",
    "\n",
    "from astromodels.functions.function import _known_functions\n",
    "\n",
    "\n",
    "from jupyterthemes import jtplot\n",
    "jtplot.style(context=\"talk\", fscale=1, ticks=True, grid=False)\n",
    "%matplotlib inline"
   ]
  },
  {
   "cell_type": "code",
   "execution_count": 2,
   "id": "1048245a",
   "metadata": {
    "execution": {
     "iopub.execute_input": "2025-10-02T02:20:29.943923Z",
     "iopub.status.busy": "2025-10-02T02:20:29.943473Z",
     "iopub.status.idle": "2025-10-02T02:20:29.950354Z",
     "shell.execute_reply": "2025-10-02T02:20:29.949748Z"
    },
    "nbsphinx": "hidden",
    "papermill": {
     "duration": 0.0103,
     "end_time": "2025-10-02T02:20:29.951799",
     "exception": false,
     "start_time": "2025-10-02T02:20:29.941499",
     "status": "completed"
    },
    "tags": [
     "parameters"
    ]
   },
   "outputs": [],
   "source": [
    "func_name = \"TbAbs\"\n",
    "\n",
    "positive_prior = False\n"
   ]
  },
  {
   "cell_type": "code",
   "execution_count": 3,
   "id": "4d1ba1ec",
   "metadata": {
    "execution": {
     "iopub.execute_input": "2025-10-02T02:20:29.954998Z",
     "iopub.status.busy": "2025-10-02T02:20:29.954826Z",
     "iopub.status.idle": "2025-10-02T02:20:29.963146Z",
     "shell.execute_reply": "2025-10-02T02:20:29.962454Z"
    },
    "papermill": {
     "duration": 0.011574,
     "end_time": "2025-10-02T02:20:29.964661",
     "exception": false,
     "start_time": "2025-10-02T02:20:29.953087",
     "status": "completed"
    },
    "tags": [
     "injected-parameters"
    ]
   },
   "outputs": [],
   "source": [
    "# Parameters\n",
    "func_name = \"Cauchy\"\n",
    "positive_prior = False\n"
   ]
  },
  {
   "cell_type": "code",
   "execution_count": 4,
   "id": "d64918c8",
   "metadata": {
    "execution": {
     "iopub.execute_input": "2025-10-02T02:20:29.967765Z",
     "iopub.status.busy": "2025-10-02T02:20:29.967604Z",
     "iopub.status.idle": "2025-10-02T02:20:29.970520Z",
     "shell.execute_reply": "2025-10-02T02:20:29.970110Z"
    },
    "lines_to_next_cell": 0,
    "nbsphinx": "hidden",
    "papermill": {
     "duration": 0.005656,
     "end_time": "2025-10-02T02:20:29.971643",
     "exception": false,
     "start_time": "2025-10-02T02:20:29.965987",
     "status": "completed"
    },
    "tags": []
   },
   "outputs": [],
   "source": [
    "func = _known_functions[func_name]()\n",
    "\n",
    "if not positive_prior:\n",
    "\n",
    "\tenergy_grid = np.linspace(-5,5,1000)\n",
    "\n",
    "else:\n",
    "    \n",
    "    energy_grid = np.linspace(0,1,1000)\n",
    "    \n",
    "    \n",
    "    \n",
    "    \n",
    "blue = \"#4152E3\"\n",
    "red = \"#E3414B\"\n",
    "green = \"#41E39E\""
   ]
  },
  {
   "cell_type": "markdown",
   "id": "e79fcd68",
   "metadata": {
    "lines_to_next_cell": 0,
    "papermill": {
     "duration": 0.00099,
     "end_time": "2025-10-02T02:20:29.973738",
     "exception": false,
     "start_time": "2025-10-02T02:20:29.972748",
     "status": "completed"
    },
    "tags": []
   },
   "source": [
    "## Description"
   ]
  },
  {
   "cell_type": "code",
   "execution_count": 5,
   "id": "12761668",
   "metadata": {
    "execution": {
     "iopub.execute_input": "2025-10-02T02:20:29.976241Z",
     "iopub.status.busy": "2025-10-02T02:20:29.976109Z",
     "iopub.status.idle": "2025-10-02T02:20:29.980133Z",
     "shell.execute_reply": "2025-10-02T02:20:29.979756Z"
    },
    "papermill": {
     "duration": 0.006507,
     "end_time": "2025-10-02T02:20:29.981188",
     "exception": false,
     "start_time": "2025-10-02T02:20:29.974681",
     "status": "completed"
    },
    "tags": []
   },
   "outputs": [
    {
     "data": {
      "text/html": [
       "<ul>\n",
       "\n",
       "<li>description: The Cauchy distribution</li>\n",
       "\n",
       "<li>formula: $K\\frac{1}{\\gamma\\pi}\\left[\\frac{\\gamma^2}{(x-x_0)^2+\\gamma^2}\\right]$</li>\n",
       "\n",
       "<li>parameters: \n",
       "<ul>\n",
       "\n",
       "<li>K: \n",
       "<ul>\n",
       "\n",
       "<li>value: 1.0</li>\n",
       "\n",
       "<li>desc: Integral between -inf and +inf. Fix this to 1 to obtain a Cauchy distribution</li>\n",
       "\n",
       "<li>min_value: None</li>\n",
       "\n",
       "<li>max_value: None</li>\n",
       "\n",
       "<li>unit: </li>\n",
       "\n",
       "<li>is_normalization: False</li>\n",
       "\n",
       "<li>delta: 0.1</li>\n",
       "\n",
       "<li>free: True</li>\n",
       "\n",
       "</ul>\n",
       "\n",
       "</li>\n",
       "\n",
       "<li>x0: \n",
       "<ul>\n",
       "\n",
       "<li>value: 0.0</li>\n",
       "\n",
       "<li>desc: Central value</li>\n",
       "\n",
       "<li>min_value: None</li>\n",
       "\n",
       "<li>max_value: None</li>\n",
       "\n",
       "<li>unit: </li>\n",
       "\n",
       "<li>is_normalization: False</li>\n",
       "\n",
       "<li>delta: 0.1</li>\n",
       "\n",
       "<li>free: True</li>\n",
       "\n",
       "</ul>\n",
       "\n",
       "</li>\n",
       "\n",
       "<li>gamma: \n",
       "<ul>\n",
       "\n",
       "<li>value: 1.0</li>\n",
       "\n",
       "<li>desc: standard deviation</li>\n",
       "\n",
       "<li>min_value: 1e-12</li>\n",
       "\n",
       "<li>max_value: None</li>\n",
       "\n",
       "<li>unit: </li>\n",
       "\n",
       "<li>is_normalization: False</li>\n",
       "\n",
       "<li>delta: 0.1</li>\n",
       "\n",
       "<li>free: True</li>\n",
       "\n",
       "</ul>\n",
       "\n",
       "</li>\n",
       "\n",
       "</ul>\n",
       "\n",
       "</li>\n",
       "\n",
       "</ul>\n"
      ],
      "text/plain": [
       "  * description: The Cauchy distribution\n",
       "  * formula: $K\\frac{1}{\\gamma\\pi}\\left[\\frac{\\gamma^2}{(x-x_0)^2+\\gamma^2}\\right]$\n",
       "  * parameters:\n",
       "    * K:\n",
       "      * value: 1.0\n",
       "      * desc: Integral between -inf and +inf. Fix this to 1 to obtain a Cauchy distribution\n",
       "      * min_value: null\n",
       "      * max_value: null\n",
       "      * unit: ''\n",
       "      * is_normalization: false\n",
       "      * delta: 0.1\n",
       "      * free: true\n",
       "    * x0:\n",
       "      * value: 0.0\n",
       "      * desc: Central value\n",
       "      * min_value: null\n",
       "      * max_value: null\n",
       "      * unit: ''\n",
       "      * is_normalization: false\n",
       "      * delta: 0.1\n",
       "      * free: true\n",
       "    * gamma:\n",
       "      * value: 1.0\n",
       "      * desc: standard deviation\n",
       "      * min_value: 1.0e-12\n",
       "      * max_value: null\n",
       "      * unit: ''\n",
       "      * is_normalization: false\n",
       "      * delta: 0.1\n",
       "      * free: true"
      ]
     },
     "metadata": {},
     "output_type": "display_data"
    }
   ],
   "source": [
    "func.display()"
   ]
  },
  {
   "cell_type": "markdown",
   "id": "7cfd9c46",
   "metadata": {
    "papermill": {
     "duration": 0.001185,
     "end_time": "2025-10-02T02:20:29.983694",
     "exception": false,
     "start_time": "2025-10-02T02:20:29.982509",
     "status": "completed"
    },
    "tags": []
   },
   "source": [
    "## Shape \n",
    "\n",
    "The shape of the function. \n",
    "\n",
    "*If this is not a photon model but a prior or linear function then ignore the units as these docs are auto-generated*"
   ]
  },
  {
   "cell_type": "code",
   "execution_count": 6,
   "id": "3eaf58fe",
   "metadata": {
    "execution": {
     "iopub.execute_input": "2025-10-02T02:20:29.986640Z",
     "iopub.status.busy": "2025-10-02T02:20:29.986477Z",
     "iopub.status.idle": "2025-10-02T02:20:30.096917Z",
     "shell.execute_reply": "2025-10-02T02:20:30.092531Z"
    },
    "papermill": {
     "duration": 0.113657,
     "end_time": "2025-10-02T02:20:30.098454",
     "exception": false,
     "start_time": "2025-10-02T02:20:29.984797",
     "status": "completed"
    },
    "tags": [
     "nbsphinx-thumbnail"
    ]
   },
   "outputs": [
    {
     "data": {
      "text/plain": [
       "Text(0, 0.5, 'probability')"
      ]
     },
     "execution_count": 6,
     "metadata": {},
     "output_type": "execute_result"
    },
    {
     "data": {
      "image/png": "[encoded data removed]",
      "text/plain": [
       "<Figure size 1040x910 with 1 Axes>"
      ]
     },
     "metadata": {},
     "output_type": "display_data"
    }
   ],
   "source": [
    "fig, ax = plt.subplots()\n",
    "\n",
    "\n",
    "ax.plot(energy_grid, func(energy_grid), color=blue, lw=3)\n",
    "\n",
    "ax.set_xlabel(\"x\")\n",
    "ax.set_ylabel(\"probability\")\n"
   ]
  },
  {
   "cell_type": "markdown",
   "id": "4a03689e",
   "metadata": {
    "papermill": {
     "duration": 0.001985,
     "end_time": "2025-10-02T02:20:30.102521",
     "exception": false,
     "start_time": "2025-10-02T02:20:30.100536",
     "status": "completed"
    },
    "tags": []
   },
   "source": [
    "## Random Number Generation\n",
    "\n",
    "This is how we can generate random numbers from the prior.\n"
   ]
  },
  {
   "cell_type": "code",
   "execution_count": 7,
   "id": "c3c18ec0",
   "metadata": {
    "execution": {
     "iopub.execute_input": "2025-10-02T02:20:30.107019Z",
     "iopub.status.busy": "2025-10-02T02:20:30.106498Z",
     "iopub.status.idle": "2025-10-02T02:20:30.227717Z",
     "shell.execute_reply": "2025-10-02T02:20:30.226838Z"
    },
    "papermill": {
     "duration": 0.125141,
     "end_time": "2025-10-02T02:20:30.229231",
     "exception": false,
     "start_time": "2025-10-02T02:20:30.104090",
     "status": "completed"
    },
    "tags": []
   },
   "outputs": [
    {
     "data": {
      "text/plain": [
       "Text(0, 0.5, 'N')"
      ]
     },
     "execution_count": 7,
     "metadata": {},
     "output_type": "execute_result"
    },
    {
     "data": {
      "image/png": "[encoded data removed]",
      "text/plain": [
       "<Figure size 1040x910 with 1 Axes>"
      ]
     },
     "metadata": {},
     "output_type": "display_data"
    }
   ],
   "source": [
    "\n",
    "\n",
    "u = np.random.uniform(0,1, size=5000)\n",
    "\n",
    "draws = [func.from_unit_cube(x) for x in u]\n",
    "\n",
    "\n",
    "fig, ax = plt.subplots()\n",
    "\n",
    "\n",
    "ax.hist(draws, color=green, bins=50)\n",
    "\n",
    "ax.set_xlabel(\"value\")\n",
    "ax.set_ylabel(\"N\")\n",
    "\n"
   ]
  }
 ],
 "metadata": {
  "jupytext": {
   "formats": "ipynb,md"
  },
  "kernelspec": {
   "display_name": "Python 3 (ipykernel)",
   "language": "python",
   "name": "python3"
  },
  "language_info": {
   "codemirror_mode": {
    "name": "ipython",
    "version": 3
   },
   "file_extension": ".py",
   "mimetype": "text/x-python",
   "name": "python",
   "nbconvert_exporter": "python",
   "pygments_lexer": "ipython3",
   "version": "3.9.13"
  },
  "papermill": {
   "default_parameters": {},
   "duration": 3.469488,
   "end_time": "2025-10-02T02:20:30.669346",
   "environment_variables": {},
   "exception": null,
   "input_path": "Cauchy.ipynb",
   "output_path": "/Users/runner/work/astromodels/astromodels/docs/notebooks/Cauchy.ipynb",
   "parameters": {
    "func_name": "Cauchy",
    "positive_prior": false
   },
   "start_time": "2025-10-02T02:20:27.199858",
   "version": "2.6.0"
  }
 },
 "nbformat": 4,
 "nbformat_minor": 5
}
