{
 "cells": [
  {
   "cell_type": "markdown",
   "id": "b5c23d7f",
   "metadata": {
    "papermill": {
     "duration": 0.001532,
     "end_time": "2025-09-26T18:34:51.855743",
     "exception": false,
     "start_time": "2025-09-26T18:34:51.854211",
     "status": "completed"
    },
    "tags": []
   },
   "source": [
    "# Cauchy"
   ]
  },
  {
   "cell_type": "code",
   "execution_count": 1,
   "id": "c2b44ba0",
   "metadata": {
    "execution": {
     "iopub.execute_input": "2025-09-26T18:34:51.859023Z",
     "iopub.status.busy": "2025-09-26T18:34:51.858831Z",
     "iopub.status.idle": "2025-09-26T18:34:53.948400Z",
     "shell.execute_reply": "2025-09-26T18:34:53.947634Z"
    },
    "nbsphinx": "hidden",
    "papermill": {
     "duration": 2.093188,
     "end_time": "2025-09-26T18:34:53.950151",
     "exception": false,
     "start_time": "2025-09-26T18:34:51.856963",
     "status": "completed"
    },
    "tags": []
   },
   "outputs": [],
   "source": [
    "%%capture\n",
    "\n",
    "import numpy as np\n",
    "\n",
    "import matplotlib.pyplot as plt\n",
    "\n",
    "import warnings\n",
    "warnings.simplefilter(\"ignore\")\n",
    "\n",
    "from astromodels.functions.function import _known_functions\n",
    "\n",
    "\n",
    "from jupyterthemes import jtplot\n",
    "jtplot.style(context=\"talk\", fscale=1, ticks=True, grid=False)\n",
    "%matplotlib inline"
   ]
  },
  {
   "cell_type": "code",
   "execution_count": 2,
   "id": "c53d201b",
   "metadata": {
    "execution": {
     "iopub.execute_input": "2025-09-26T18:34:53.954033Z",
     "iopub.status.busy": "2025-09-26T18:34:53.953642Z",
     "iopub.status.idle": "2025-09-26T18:34:53.955862Z",
     "shell.execute_reply": "2025-09-26T18:34:53.955497Z"
    },
    "nbsphinx": "hidden",
    "papermill": {
     "duration": 0.005582,
     "end_time": "2025-09-26T18:34:53.957172",
     "exception": false,
     "start_time": "2025-09-26T18:34:53.951590",
     "status": "completed"
    },
    "tags": [
     "parameters"
    ]
   },
   "outputs": [],
   "source": [
    "func_name = \"TbAbs\"\n",
    "\n",
    "positive_prior = False\n"
   ]
  },
  {
   "cell_type": "code",
   "execution_count": 3,
   "id": "d48dbc2f",
   "metadata": {
    "execution": {
     "iopub.execute_input": "2025-09-26T18:34:53.960079Z",
     "iopub.status.busy": "2025-09-26T18:34:53.959916Z",
     "iopub.status.idle": "2025-09-26T18:34:53.965636Z",
     "shell.execute_reply": "2025-09-26T18:34:53.965076Z"
    },
    "papermill": {
     "duration": 0.008578,
     "end_time": "2025-09-26T18:34:53.966966",
     "exception": false,
     "start_time": "2025-09-26T18:34:53.958388",
     "status": "completed"
    },
    "tags": [
     "injected-parameters"
    ]
   },
   "outputs": [],
   "source": [
    "# Parameters\n",
    "func_name = \"Cauchy\"\n",
    "positive_prior = False\n"
   ]
  },
  {
   "cell_type": "code",
   "execution_count": 4,
   "id": "88fa493c",
   "metadata": {
    "execution": {
     "iopub.execute_input": "2025-09-26T18:34:53.969912Z",
     "iopub.status.busy": "2025-09-26T18:34:53.969753Z",
     "iopub.status.idle": "2025-09-26T18:34:53.972903Z",
     "shell.execute_reply": "2025-09-26T18:34:53.972364Z"
    },
    "lines_to_next_cell": 0,
    "nbsphinx": "hidden",
    "papermill": {
     "duration": 0.006025,
     "end_time": "2025-09-26T18:34:53.974245",
     "exception": false,
     "start_time": "2025-09-26T18:34:53.968220",
     "status": "completed"
    },
    "tags": []
   },
   "outputs": [],
   "source": [
    "func = _known_functions[func_name]()\n",
    "\n",
    "if not positive_prior:\n",
    "\n",
    "\tenergy_grid = np.linspace(-5,5,1000)\n",
    "\n",
    "else:\n",
    "    \n",
    "    energy_grid = np.linspace(0,1,1000)\n",
    "    \n",
    "    \n",
    "    \n",
    "    \n",
    "blue = \"#4152E3\"\n",
    "red = \"#E3414B\"\n",
    "green = \"#41E39E\""
   ]
  },
  {
   "cell_type": "markdown",
   "id": "fe4bcf64",
   "metadata": {
    "lines_to_next_cell": 0,
    "papermill": {
     "duration": 0.001068,
     "end_time": "2025-09-26T18:34:53.976668",
     "exception": false,
     "start_time": "2025-09-26T18:34:53.975600",
     "status": "completed"
    },
    "tags": []
   },
   "source": [
    "## Description"
   ]
  },
  {
   "cell_type": "code",
   "execution_count": 5,
   "id": "ace4f6cd",
   "metadata": {
    "execution": {
     "iopub.execute_input": "2025-09-26T18:34:53.979715Z",
     "iopub.status.busy": "2025-09-26T18:34:53.979533Z",
     "iopub.status.idle": "2025-09-26T18:34:53.985401Z",
     "shell.execute_reply": "2025-09-26T18:34:53.984559Z"
    },
    "papermill": {
     "duration": 0.009089,
     "end_time": "2025-09-26T18:34:53.986791",
     "exception": false,
     "start_time": "2025-09-26T18:34:53.977702",
     "status": "completed"
    },
    "tags": []
   },
   "outputs": [
    {
     "data": {
      "text/html": [
       "<ul>\n",
       "\n",
       "<li>description: The Cauchy distribution</li>\n",
       "\n",
       "<li>formula: $K\\frac{1}{\\gamma\\pi}\\left[\\frac{\\gamma^2}{(x-x_0)^2+\\gamma^2}\\right]$</li>\n",
       "\n",
       "<li>parameters: \n",
       "<ul>\n",
       "\n",
       "<li>K: \n",
       "<ul>\n",
       "\n",
       "<li>value: 1.0</li>\n",
       "\n",
       "<li>desc: Integral between -inf and +inf. Fix this to 1 to obtain a Cauchy distribution</li>\n",
       "\n",
       "<li>min_value: None</li>\n",
       "\n",
       "<li>max_value: None</li>\n",
       "\n",
       "<li>unit: </li>\n",
       "\n",
       "<li>is_normalization: False</li>\n",
       "\n",
       "<li>delta: 0.1</li>\n",
       "\n",
       "<li>free: True</li>\n",
       "\n",
       "</ul>\n",
       "\n",
       "</li>\n",
       "\n",
       "<li>x0: \n",
       "<ul>\n",
       "\n",
       "<li>value: 0.0</li>\n",
       "\n",
       "<li>desc: Central value</li>\n",
       "\n",
       "<li>min_value: None</li>\n",
       "\n",
       "<li>max_value: None</li>\n",
       "\n",
       "<li>unit: </li>\n",
       "\n",
       "<li>is_normalization: False</li>\n",
       "\n",
       "<li>delta: 0.1</li>\n",
       "\n",
       "<li>free: True</li>\n",
       "\n",
       "</ul>\n",
       "\n",
       "</li>\n",
       "\n",
       "<li>gamma: \n",
       "<ul>\n",
       "\n",
       "<li>value: 1.0</li>\n",
       "\n",
       "<li>desc: standard deviation</li>\n",
       "\n",
       "<li>min_value: 1e-12</li>\n",
       "\n",
       "<li>max_value: None</li>\n",
       "\n",
       "<li>unit: </li>\n",
       "\n",
       "<li>is_normalization: False</li>\n",
       "\n",
       "<li>delta: 0.1</li>\n",
       "\n",
       "<li>free: True</li>\n",
       "\n",
       "</ul>\n",
       "\n",
       "</li>\n",
       "\n",
       "</ul>\n",
       "\n",
       "</li>\n",
       "\n",
       "</ul>\n"
      ],
      "text/plain": [
       "  * description: The Cauchy distribution\n",
       "  * formula: $K\\frac{1}{\\gamma\\pi}\\left[\\frac{\\gamma^2}{(x-x_0)^2+\\gamma^2}\\right]$\n",
       "  * parameters:\n",
       "    * K:\n",
       "      * value: 1.0\n",
       "      * desc: Integral between -inf and +inf. Fix this to 1 to obtain a Cauchy distribution\n",
       "      * min_value: null\n",
       "      * max_value: null\n",
       "      * unit: ''\n",
       "      * is_normalization: false\n",
       "      * delta: 0.1\n",
       "      * free: true\n",
       "    * x0:\n",
       "      * value: 0.0\n",
       "      * desc: Central value\n",
       "      * min_value: null\n",
       "      * max_value: null\n",
       "      * unit: ''\n",
       "      * is_normalization: false\n",
       "      * delta: 0.1\n",
       "      * free: true\n",
       "    * gamma:\n",
       "      * value: 1.0\n",
       "      * desc: standard deviation\n",
       "      * min_value: 1.0e-12\n",
       "      * max_value: null\n",
       "      * unit: ''\n",
       "      * is_normalization: false\n",
       "      * delta: 0.1\n",
       "      * free: true"
      ]
     },
     "metadata": {},
     "output_type": "display_data"
    }
   ],
   "source": [
    "func.display()"
   ]
  },
  {
   "cell_type": "markdown",
   "id": "ba98aeed",
   "metadata": {
    "papermill": {
     "duration": 0.001247,
     "end_time": "2025-09-26T18:34:53.989578",
     "exception": false,
     "start_time": "2025-09-26T18:34:53.988331",
     "status": "completed"
    },
    "tags": []
   },
   "source": [
    "## Shape \n",
    "\n",
    "The shape of the function. \n",
    "\n",
    "*If this is not a photon model but a prior or linear function then ignore the units as these docs are auto-generated*"
   ]
  },
  {
   "cell_type": "code",
   "execution_count": 6,
   "id": "4a97fe02",
   "metadata": {
    "execution": {
     "iopub.execute_input": "2025-09-26T18:34:53.992829Z",
     "iopub.status.busy": "2025-09-26T18:34:53.992655Z",
     "iopub.status.idle": "2025-09-26T18:34:54.096960Z",
     "shell.execute_reply": "2025-09-26T18:34:54.096507Z"
    },
    "papermill": {
     "duration": 0.107367,
     "end_time": "2025-09-26T18:34:54.098096",
     "exception": false,
     "start_time": "2025-09-26T18:34:53.990729",
     "status": "completed"
    },
    "tags": [
     "nbsphinx-thumbnail"
    ]
   },
   "outputs": [
    {
     "data": {
      "text/plain": [
       "Text(0, 0.5, 'probability')"
      ]
     },
     "execution_count": 6,
     "metadata": {},
     "output_type": "execute_result"
    },
    {
     "data": {
      "image/png": "[encoded data removed]",
      "text/plain": [
       "<Figure size 1040x910 with 1 Axes>"
      ]
     },
     "metadata": {},
     "output_type": "display_data"
    }
   ],
   "source": [
    "fig, ax = plt.subplots()\n",
    "\n",
    "\n",
    "ax.plot(energy_grid, func(energy_grid), color=blue, lw=3)\n",
    "\n",
    "ax.set_xlabel(\"x\")\n",
    "ax.set_ylabel(\"probability\")\n"
   ]
  },
  {
   "cell_type": "markdown",
   "id": "02f85800",
   "metadata": {
    "papermill": {
     "duration": 0.001433,
     "end_time": "2025-09-26T18:34:54.101274",
     "exception": false,
     "start_time": "2025-09-26T18:34:54.099841",
     "status": "completed"
    },
    "tags": []
   },
   "source": [
    "## Random Number Generation\n",
    "\n",
    "This is how we can generate random numbers from the prior.\n"
   ]
  },
  {
   "cell_type": "code",
   "execution_count": 7,
   "id": "cb6aef7b",
   "metadata": {
    "execution": {
     "iopub.execute_input": "2025-09-26T18:34:54.104696Z",
     "iopub.status.busy": "2025-09-26T18:34:54.104528Z",
     "iopub.status.idle": "2025-09-26T18:34:54.264365Z",
     "shell.execute_reply": "2025-09-26T18:34:54.263939Z"
    },
    "papermill": {
     "duration": 0.16282,
     "end_time": "2025-09-26T18:34:54.265456",
     "exception": false,
     "start_time": "2025-09-26T18:34:54.102636",
     "status": "completed"
    },
    "tags": []
   },
   "outputs": [
    {
     "data": {
      "text/plain": [
       "Text(0, 0.5, 'N')"
      ]
     },
     "execution_count": 7,
     "metadata": {},
     "output_type": "execute_result"
    },
    {
     "data": {
      "image/png": "[encoded data removed]",
      "text/plain": [
       "<Figure size 1040x910 with 1 Axes>"
      ]
     },
     "metadata": {},
     "output_type": "display_data"
    }
   ],
   "source": [
    "\n",
    "\n",
    "u = np.random.uniform(0,1, size=5000)\n",
    "\n",
    "draws = [func.from_unit_cube(x) for x in u]\n",
    "\n",
    "\n",
    "fig, ax = plt.subplots()\n",
    "\n",
    "\n",
    "ax.hist(draws, color=green, bins=50)\n",
    "\n",
    "ax.set_xlabel(\"value\")\n",
    "ax.set_ylabel(\"N\")\n",
    "\n"
   ]
  }
 ],
 "metadata": {
  "jupytext": {
   "formats": "ipynb,md"
  },
  "kernelspec": {
   "display_name": "Python 3 (ipykernel)",
   "language": "python",
   "name": "python3"
  },
  "language_info": {
   "codemirror_mode": {
    "name": "ipython",
    "version": 3
   },
   "file_extension": ".py",
   "mimetype": "text/x-python",
   "name": "python",
   "nbconvert_exporter": "python",
   "pygments_lexer": "ipython3",
   "version": "3.9.13"
  },
  "papermill": {
   "default_parameters": {},
   "duration": 3.458508,
   "end_time": "2025-09-26T18:34:54.790986",
   "environment_variables": {},
   "exception": null,
   "input_path": "Cauchy.ipynb",
   "output_path": "/Users/runner/work/astromodels/astromodels/docs/notebooks/Cauchy.ipynb",
   "parameters": {
    "func_name": "Cauchy",
    "positive_prior": false
   },
   "start_time": "2025-09-26T18:34:51.332478",
   "version": "2.6.0"
  }
 },
 "nbformat": 4,
 "nbformat_minor": 5
}
