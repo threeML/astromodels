{
 "cells": [
  {
   "cell_type": "markdown",
   "id": "91c01641",
   "metadata": {
    "papermill": {
     "duration": 0.003163,
     "end_time": "2025-10-03T17:16:38.240993",
     "exception": false,
     "start_time": "2025-10-03T17:16:38.237830",
     "status": "completed"
    },
    "tags": []
   },
   "source": [
    "# Cauchy"
   ]
  },
  {
   "cell_type": "code",
   "execution_count": 1,
   "id": "61f21b83",
   "metadata": {
    "execution": {
     "iopub.execute_input": "2025-10-03T17:16:38.250374Z",
     "iopub.status.busy": "2025-10-03T17:16:38.250084Z",
     "iopub.status.idle": "2025-10-03T17:16:41.799587Z",
     "shell.execute_reply": "2025-10-03T17:16:41.798834Z"
    },
    "nbsphinx": "hidden",
    "papermill": {
     "duration": 3.558795,
     "end_time": "2025-10-03T17:16:41.803547",
     "exception": false,
     "start_time": "2025-10-03T17:16:38.244752",
     "status": "completed"
    },
    "tags": []
   },
   "outputs": [],
   "source": [
    "%%capture\n",
    "\n",
    "import numpy as np\n",
    "\n",
    "import matplotlib.pyplot as plt\n",
    "\n",
    "import warnings\n",
    "warnings.simplefilter(\"ignore\")\n",
    "\n",
    "from astromodels.functions.function import _known_functions\n",
    "\n",
    "\n",
    "from jupyterthemes import jtplot\n",
    "jtplot.style(context=\"talk\", fscale=1, ticks=True, grid=False)\n",
    "%matplotlib inline"
   ]
  },
  {
   "cell_type": "code",
   "execution_count": 2,
   "id": "20991939",
   "metadata": {
    "execution": {
     "iopub.execute_input": "2025-10-03T17:16:41.809402Z",
     "iopub.status.busy": "2025-10-03T17:16:41.808949Z",
     "iopub.status.idle": "2025-10-03T17:16:41.812520Z",
     "shell.execute_reply": "2025-10-03T17:16:41.811613Z"
    },
    "nbsphinx": "hidden",
    "papermill": {
     "duration": 0.009031,
     "end_time": "2025-10-03T17:16:41.814556",
     "exception": false,
     "start_time": "2025-10-03T17:16:41.805525",
     "status": "completed"
    },
    "tags": [
     "parameters"
    ]
   },
   "outputs": [],
   "source": [
    "func_name = \"TbAbs\"\n",
    "\n",
    "positive_prior = False\n"
   ]
  },
  {
   "cell_type": "code",
   "execution_count": 3,
   "id": "5e5746ef",
   "metadata": {
    "execution": {
     "iopub.execute_input": "2025-10-03T17:16:41.820609Z",
     "iopub.status.busy": "2025-10-03T17:16:41.820239Z",
     "iopub.status.idle": "2025-10-03T17:16:41.823619Z",
     "shell.execute_reply": "2025-10-03T17:16:41.822818Z"
    },
    "papermill": {
     "duration": 0.00902,
     "end_time": "2025-10-03T17:16:41.826296",
     "exception": false,
     "start_time": "2025-10-03T17:16:41.817276",
     "status": "completed"
    },
    "tags": [
     "injected-parameters"
    ]
   },
   "outputs": [],
   "source": [
    "# Parameters\n",
    "func_name = \"Cauchy\"\n",
    "positive_prior = False\n"
   ]
  },
  {
   "cell_type": "code",
   "execution_count": 4,
   "id": "8dcfe654",
   "metadata": {
    "execution": {
     "iopub.execute_input": "2025-10-03T17:16:41.832793Z",
     "iopub.status.busy": "2025-10-03T17:16:41.832579Z",
     "iopub.status.idle": "2025-10-03T17:16:41.836706Z",
     "shell.execute_reply": "2025-10-03T17:16:41.835909Z"
    },
    "lines_to_next_cell": 0,
    "nbsphinx": "hidden",
    "papermill": {
     "duration": 0.008049,
     "end_time": "2025-10-03T17:16:41.838216",
     "exception": false,
     "start_time": "2025-10-03T17:16:41.830167",
     "status": "completed"
    },
    "tags": []
   },
   "outputs": [],
   "source": [
    "func = _known_functions[func_name]()\n",
    "\n",
    "if not positive_prior:\n",
    "\n",
    "\tenergy_grid = np.linspace(-5,5,1000)\n",
    "\n",
    "else:\n",
    "    \n",
    "    energy_grid = np.linspace(0,1,1000)\n",
    "    \n",
    "    \n",
    "    \n",
    "    \n",
    "blue = \"#4152E3\"\n",
    "red = \"#E3414B\"\n",
    "green = \"#41E39E\""
   ]
  },
  {
   "cell_type": "markdown",
   "id": "a3d6837f",
   "metadata": {
    "lines_to_next_cell": 0,
    "papermill": {
     "duration": 0.001485,
     "end_time": "2025-10-03T17:16:41.841202",
     "exception": false,
     "start_time": "2025-10-03T17:16:41.839717",
     "status": "completed"
    },
    "tags": []
   },
   "source": [
    "## Description"
   ]
  },
  {
   "cell_type": "code",
   "execution_count": 5,
   "id": "2d298836",
   "metadata": {
    "execution": {
     "iopub.execute_input": "2025-10-03T17:16:41.847887Z",
     "iopub.status.busy": "2025-10-03T17:16:41.847684Z",
     "iopub.status.idle": "2025-10-03T17:16:41.857493Z",
     "shell.execute_reply": "2025-10-03T17:16:41.856287Z"
    },
    "papermill": {
     "duration": 0.014567,
     "end_time": "2025-10-03T17:16:41.859168",
     "exception": false,
     "start_time": "2025-10-03T17:16:41.844601",
     "status": "completed"
    },
    "tags": []
   },
   "outputs": [
    {
     "data": {
      "text/html": [
       "<ul>\n",
       "\n",
       "<li>description: The Cauchy distribution</li>\n",
       "\n",
       "<li>formula: $K\\frac{1}{\\gamma\\pi}\\left[\\frac{\\gamma^2}{(x-x_0)^2+\\gamma^2}\\right]$</li>\n",
       "\n",
       "<li>parameters: \n",
       "<ul>\n",
       "\n",
       "<li>K: \n",
       "<ul>\n",
       "\n",
       "<li>value: 1.0</li>\n",
       "\n",
       "<li>desc: Integral between -inf and +inf. Fix this to 1 to obtain a Cauchy distribution</li>\n",
       "\n",
       "<li>min_value: None</li>\n",
       "\n",
       "<li>max_value: None</li>\n",
       "\n",
       "<li>unit: </li>\n",
       "\n",
       "<li>is_normalization: False</li>\n",
       "\n",
       "<li>delta: 0.1</li>\n",
       "\n",
       "<li>free: True</li>\n",
       "\n",
       "</ul>\n",
       "\n",
       "</li>\n",
       "\n",
       "<li>x0: \n",
       "<ul>\n",
       "\n",
       "<li>value: 0.0</li>\n",
       "\n",
       "<li>desc: Central value</li>\n",
       "\n",
       "<li>min_value: None</li>\n",
       "\n",
       "<li>max_value: None</li>\n",
       "\n",
       "<li>unit: </li>\n",
       "\n",
       "<li>is_normalization: False</li>\n",
       "\n",
       "<li>delta: 0.1</li>\n",
       "\n",
       "<li>free: True</li>\n",
       "\n",
       "</ul>\n",
       "\n",
       "</li>\n",
       "\n",
       "<li>gamma: \n",
       "<ul>\n",
       "\n",
       "<li>value: 1.0</li>\n",
       "\n",
       "<li>desc: standard deviation</li>\n",
       "\n",
       "<li>min_value: 1e-12</li>\n",
       "\n",
       "<li>max_value: None</li>\n",
       "\n",
       "<li>unit: </li>\n",
       "\n",
       "<li>is_normalization: False</li>\n",
       "\n",
       "<li>delta: 0.1</li>\n",
       "\n",
       "<li>free: True</li>\n",
       "\n",
       "</ul>\n",
       "\n",
       "</li>\n",
       "\n",
       "</ul>\n",
       "\n",
       "</li>\n",
       "\n",
       "</ul>\n"
      ],
      "text/plain": [
       "  * description: The Cauchy distribution\n",
       "  * formula: $K\\frac{1}{\\gamma\\pi}\\left[\\frac{\\gamma^2}{(x-x_0)^2+\\gamma^2}\\right]$\n",
       "  * parameters:\n",
       "    * K:\n",
       "      * value: 1.0\n",
       "      * desc: Integral between -inf and +inf. Fix this to 1 to obtain a Cauchy distribution\n",
       "      * min_value: null\n",
       "      * max_value: null\n",
       "      * unit: ''\n",
       "      * is_normalization: false\n",
       "      * delta: 0.1\n",
       "      * free: true\n",
       "    * x0:\n",
       "      * value: 0.0\n",
       "      * desc: Central value\n",
       "      * min_value: null\n",
       "      * max_value: null\n",
       "      * unit: ''\n",
       "      * is_normalization: false\n",
       "      * delta: 0.1\n",
       "      * free: true\n",
       "    * gamma:\n",
       "      * value: 1.0\n",
       "      * desc: standard deviation\n",
       "      * min_value: 1.0e-12\n",
       "      * max_value: null\n",
       "      * unit: ''\n",
       "      * is_normalization: false\n",
       "      * delta: 0.1\n",
       "      * free: true"
      ]
     },
     "metadata": {},
     "output_type": "display_data"
    }
   ],
   "source": [
    "func.display()"
   ]
  },
  {
   "cell_type": "markdown",
   "id": "39dcee18",
   "metadata": {
    "papermill": {
     "duration": 0.00182,
     "end_time": "2025-10-03T17:16:41.862810",
     "exception": false,
     "start_time": "2025-10-03T17:16:41.860990",
     "status": "completed"
    },
    "tags": []
   },
   "source": [
    "## Shape \n",
    "\n",
    "The shape of the function. \n",
    "\n",
    "*If this is not a photon model but a prior or linear function then ignore the units as these docs are auto-generated*"
   ]
  },
  {
   "cell_type": "code",
   "execution_count": 6,
   "id": "75b1f9db",
   "metadata": {
    "execution": {
     "iopub.execute_input": "2025-10-03T17:16:41.868347Z",
     "iopub.status.busy": "2025-10-03T17:16:41.867779Z",
     "iopub.status.idle": "2025-10-03T17:16:42.126773Z",
     "shell.execute_reply": "2025-10-03T17:16:42.123061Z"
    },
    "papermill": {
     "duration": 0.265457,
     "end_time": "2025-10-03T17:16:42.129938",
     "exception": false,
     "start_time": "2025-10-03T17:16:41.864481",
     "status": "completed"
    },
    "tags": [
     "nbsphinx-thumbnail"
    ]
   },
   "outputs": [
    {
     "data": {
      "text/plain": [
       "Text(0, 0.5, 'probability')"
      ]
     },
     "execution_count": 6,
     "metadata": {},
     "output_type": "execute_result"
    },
    {
     "data": {
      "image/png": "[encoded data removed]",
      "text/plain": [
       "<Figure size 1040x910 with 1 Axes>"
      ]
     },
     "metadata": {},
     "output_type": "display_data"
    }
   ],
   "source": [
    "fig, ax = plt.subplots()\n",
    "\n",
    "\n",
    "ax.plot(energy_grid, func(energy_grid), color=blue, lw=3)\n",
    "\n",
    "ax.set_xlabel(\"x\")\n",
    "ax.set_ylabel(\"probability\")\n"
   ]
  },
  {
   "cell_type": "markdown",
   "id": "5eabfe09",
   "metadata": {
    "papermill": {
     "duration": 0.00561,
     "end_time": "2025-10-03T17:16:42.138543",
     "exception": false,
     "start_time": "2025-10-03T17:16:42.132933",
     "status": "completed"
    },
    "tags": []
   },
   "source": [
    "## Random Number Generation\n",
    "\n",
    "This is how we can generate random numbers from the prior.\n"
   ]
  },
  {
   "cell_type": "code",
   "execution_count": 7,
   "id": "9e62e0fd",
   "metadata": {
    "execution": {
     "iopub.execute_input": "2025-10-03T17:16:42.151585Z",
     "iopub.status.busy": "2025-10-03T17:16:42.151383Z",
     "iopub.status.idle": "2025-10-03T17:16:42.435466Z",
     "shell.execute_reply": "2025-10-03T17:16:42.433798Z"
    },
    "papermill": {
     "duration": 0.292858,
     "end_time": "2025-10-03T17:16:42.437150",
     "exception": false,
     "start_time": "2025-10-03T17:16:42.144292",
     "status": "completed"
    },
    "tags": []
   },
   "outputs": [
    {
     "data": {
      "text/plain": [
       "Text(0, 0.5, 'N')"
      ]
     },
     "execution_count": 7,
     "metadata": {},
     "output_type": "execute_result"
    },
    {
     "data": {
      "image/png": "[encoded data removed]",
      "text/plain": [
       "<Figure size 1040x910 with 1 Axes>"
      ]
     },
     "metadata": {},
     "output_type": "display_data"
    }
   ],
   "source": [
    "\n",
    "\n",
    "u = np.random.uniform(0,1, size=5000)\n",
    "\n",
    "draws = [func.from_unit_cube(x) for x in u]\n",
    "\n",
    "\n",
    "fig, ax = plt.subplots()\n",
    "\n",
    "\n",
    "ax.hist(draws, color=green, bins=50)\n",
    "\n",
    "ax.set_xlabel(\"value\")\n",
    "ax.set_ylabel(\"N\")\n",
    "\n"
   ]
  }
 ],
 "metadata": {
  "jupytext": {
   "formats": "ipynb,md"
  },
  "kernelspec": {
   "display_name": "Python 3 (ipykernel)",
   "language": "python",
   "name": "python3"
  },
  "language_info": {
   "codemirror_mode": {
    "name": "ipython",
    "version": 3
   },
   "file_extension": ".py",
   "mimetype": "text/x-python",
   "name": "python",
   "nbconvert_exporter": "python",
   "pygments_lexer": "ipython3",
   "version": "3.9.13"
  },
  "papermill": {
   "default_parameters": {},
   "duration": 5.751952,
   "end_time": "2025-10-03T17:16:43.177980",
   "environment_variables": {},
   "exception": null,
   "input_path": "Cauchy.ipynb",
   "output_path": "/Users/runner/work/astromodels/astromodels/docs/notebooks/Cauchy.ipynb",
   "parameters": {
    "func_name": "Cauchy",
    "positive_prior": false
   },
   "start_time": "2025-10-03T17:16:37.426028",
   "version": "2.6.0"
  }
 },
 "nbformat": 4,
 "nbformat_minor": 5
}
