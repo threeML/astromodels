{
 "cells": [
  {
   "cell_type": "markdown",
   "id": "7dcf4911",
   "metadata": {
    "papermill": {
     "duration": 0.002781,
     "end_time": "2025-10-01T20:54:19.299187",
     "exception": false,
     "start_time": "2025-10-01T20:54:19.296406",
     "status": "completed"
    },
    "tags": []
   },
   "source": [
    "# Cauchy"
   ]
  },
  {
   "cell_type": "code",
   "execution_count": 1,
   "id": "ca4f11b1",
   "metadata": {
    "execution": {
     "iopub.execute_input": "2025-10-01T20:54:19.305861Z",
     "iopub.status.busy": "2025-10-01T20:54:19.305669Z",
     "iopub.status.idle": "2025-10-01T20:54:22.102169Z",
     "shell.execute_reply": "2025-10-01T20:54:22.099786Z"
    },
    "nbsphinx": "hidden",
    "papermill": {
     "duration": 2.802315,
     "end_time": "2025-10-01T20:54:22.104987",
     "exception": false,
     "start_time": "2025-10-01T20:54:19.302672",
     "status": "completed"
    },
    "tags": []
   },
   "outputs": [],
   "source": [
    "%%capture\n",
    "\n",
    "import numpy as np\n",
    "\n",
    "import matplotlib.pyplot as plt\n",
    "\n",
    "import warnings\n",
    "warnings.simplefilter(\"ignore\")\n",
    "\n",
    "from astromodels.functions.function import _known_functions\n",
    "\n",
    "\n",
    "from jupyterthemes import jtplot\n",
    "jtplot.style(context=\"talk\", fscale=1, ticks=True, grid=False)\n",
    "%matplotlib inline"
   ]
  },
  {
   "cell_type": "code",
   "execution_count": 2,
   "id": "78cb6f47",
   "metadata": {
    "execution": {
     "iopub.execute_input": "2025-10-01T20:54:22.109088Z",
     "iopub.status.busy": "2025-10-01T20:54:22.108689Z",
     "iopub.status.idle": "2025-10-01T20:54:22.110987Z",
     "shell.execute_reply": "2025-10-01T20:54:22.110621Z"
    },
    "nbsphinx": "hidden",
    "papermill": {
     "duration": 0.005569,
     "end_time": "2025-10-01T20:54:22.112064",
     "exception": false,
     "start_time": "2025-10-01T20:54:22.106495",
     "status": "completed"
    },
    "tags": [
     "parameters"
    ]
   },
   "outputs": [],
   "source": [
    "func_name = \"TbAbs\"\n",
    "\n",
    "positive_prior = False\n"
   ]
  },
  {
   "cell_type": "code",
   "execution_count": 3,
   "id": "0241924c",
   "metadata": {
    "execution": {
     "iopub.execute_input": "2025-10-01T20:54:22.115408Z",
     "iopub.status.busy": "2025-10-01T20:54:22.115238Z",
     "iopub.status.idle": "2025-10-01T20:54:22.117335Z",
     "shell.execute_reply": "2025-10-01T20:54:22.116927Z"
    },
    "papermill": {
     "duration": 0.005069,
     "end_time": "2025-10-01T20:54:22.118524",
     "exception": false,
     "start_time": "2025-10-01T20:54:22.113455",
     "status": "completed"
    },
    "tags": [
     "injected-parameters"
    ]
   },
   "outputs": [],
   "source": [
    "# Parameters\n",
    "func_name = \"Cauchy\"\n",
    "positive_prior = False\n"
   ]
  },
  {
   "cell_type": "code",
   "execution_count": 4,
   "id": "6e1dca96",
   "metadata": {
    "execution": {
     "iopub.execute_input": "2025-10-01T20:54:22.121890Z",
     "iopub.status.busy": "2025-10-01T20:54:22.121711Z",
     "iopub.status.idle": "2025-10-01T20:54:22.125533Z",
     "shell.execute_reply": "2025-10-01T20:54:22.124949Z"
    },
    "lines_to_next_cell": 0,
    "nbsphinx": "hidden",
    "papermill": {
     "duration": 0.006764,
     "end_time": "2025-10-01T20:54:22.126650",
     "exception": false,
     "start_time": "2025-10-01T20:54:22.119886",
     "status": "completed"
    },
    "tags": []
   },
   "outputs": [],
   "source": [
    "func = _known_functions[func_name]()\n",
    "\n",
    "if not positive_prior:\n",
    "\n",
    "\tenergy_grid = np.linspace(-5,5,1000)\n",
    "\n",
    "else:\n",
    "    \n",
    "    energy_grid = np.linspace(0,1,1000)\n",
    "    \n",
    "    \n",
    "    \n",
    "    \n",
    "blue = \"#4152E3\"\n",
    "red = \"#E3414B\"\n",
    "green = \"#41E39E\""
   ]
  },
  {
   "cell_type": "markdown",
   "id": "4d91b80f",
   "metadata": {
    "lines_to_next_cell": 0,
    "papermill": {
     "duration": 0.001087,
     "end_time": "2025-10-01T20:54:22.129108",
     "exception": false,
     "start_time": "2025-10-01T20:54:22.128021",
     "status": "completed"
    },
    "tags": []
   },
   "source": [
    "## Description"
   ]
  },
  {
   "cell_type": "code",
   "execution_count": 5,
   "id": "1f7e19f6",
   "metadata": {
    "execution": {
     "iopub.execute_input": "2025-10-01T20:54:22.132291Z",
     "iopub.status.busy": "2025-10-01T20:54:22.132132Z",
     "iopub.status.idle": "2025-10-01T20:54:22.136778Z",
     "shell.execute_reply": "2025-10-01T20:54:22.136381Z"
    },
    "papermill": {
     "duration": 0.007612,
     "end_time": "2025-10-01T20:54:22.137803",
     "exception": false,
     "start_time": "2025-10-01T20:54:22.130191",
     "status": "completed"
    },
    "tags": []
   },
   "outputs": [
    {
     "data": {
      "text/html": [
       "<ul>\n",
       "\n",
       "<li>description: The Cauchy distribution</li>\n",
       "\n",
       "<li>formula: $K\\frac{1}{\\gamma\\pi}\\left[\\frac{\\gamma^2}{(x-x_0)^2+\\gamma^2}\\right]$</li>\n",
       "\n",
       "<li>parameters: \n",
       "<ul>\n",
       "\n",
       "<li>K: \n",
       "<ul>\n",
       "\n",
       "<li>value: 1.0</li>\n",
       "\n",
       "<li>desc: Integral between -inf and +inf. Fix this to 1 to obtain a Cauchy distribution</li>\n",
       "\n",
       "<li>min_value: None</li>\n",
       "\n",
       "<li>max_value: None</li>\n",
       "\n",
       "<li>unit: </li>\n",
       "\n",
       "<li>is_normalization: False</li>\n",
       "\n",
       "<li>delta: 0.1</li>\n",
       "\n",
       "<li>free: True</li>\n",
       "\n",
       "</ul>\n",
       "\n",
       "</li>\n",
       "\n",
       "<li>x0: \n",
       "<ul>\n",
       "\n",
       "<li>value: 0.0</li>\n",
       "\n",
       "<li>desc: Central value</li>\n",
       "\n",
       "<li>min_value: None</li>\n",
       "\n",
       "<li>max_value: None</li>\n",
       "\n",
       "<li>unit: </li>\n",
       "\n",
       "<li>is_normalization: False</li>\n",
       "\n",
       "<li>delta: 0.1</li>\n",
       "\n",
       "<li>free: True</li>\n",
       "\n",
       "</ul>\n",
       "\n",
       "</li>\n",
       "\n",
       "<li>gamma: \n",
       "<ul>\n",
       "\n",
       "<li>value: 1.0</li>\n",
       "\n",
       "<li>desc: standard deviation</li>\n",
       "\n",
       "<li>min_value: 1e-12</li>\n",
       "\n",
       "<li>max_value: None</li>\n",
       "\n",
       "<li>unit: </li>\n",
       "\n",
       "<li>is_normalization: False</li>\n",
       "\n",
       "<li>delta: 0.1</li>\n",
       "\n",
       "<li>free: True</li>\n",
       "\n",
       "</ul>\n",
       "\n",
       "</li>\n",
       "\n",
       "</ul>\n",
       "\n",
       "</li>\n",
       "\n",
       "</ul>\n"
      ],
      "text/plain": [
       "  * description: The Cauchy distribution\n",
       "  * formula: $K\\frac{1}{\\gamma\\pi}\\left[\\frac{\\gamma^2}{(x-x_0)^2+\\gamma^2}\\right]$\n",
       "  * parameters:\n",
       "    * K:\n",
       "      * value: 1.0\n",
       "      * desc: Integral between -inf and +inf. Fix this to 1 to obtain a Cauchy distribution\n",
       "      * min_value: null\n",
       "      * max_value: null\n",
       "      * unit: ''\n",
       "      * is_normalization: false\n",
       "      * delta: 0.1\n",
       "      * free: true\n",
       "    * x0:\n",
       "      * value: 0.0\n",
       "      * desc: Central value\n",
       "      * min_value: null\n",
       "      * max_value: null\n",
       "      * unit: ''\n",
       "      * is_normalization: false\n",
       "      * delta: 0.1\n",
       "      * free: true\n",
       "    * gamma:\n",
       "      * value: 1.0\n",
       "      * desc: standard deviation\n",
       "      * min_value: 1.0e-12\n",
       "      * max_value: null\n",
       "      * unit: ''\n",
       "      * is_normalization: false\n",
       "      * delta: 0.1\n",
       "      * free: true"
      ]
     },
     "metadata": {},
     "output_type": "display_data"
    }
   ],
   "source": [
    "func.display()"
   ]
  },
  {
   "cell_type": "markdown",
   "id": "a5be2d14",
   "metadata": {
    "papermill": {
     "duration": 0.00124,
     "end_time": "2025-10-01T20:54:22.140530",
     "exception": false,
     "start_time": "2025-10-01T20:54:22.139290",
     "status": "completed"
    },
    "tags": []
   },
   "source": [
    "## Shape \n",
    "\n",
    "The shape of the function. \n",
    "\n",
    "*If this is not a photon model but a prior or linear function then ignore the units as these docs are auto-generated*"
   ]
  },
  {
   "cell_type": "code",
   "execution_count": 6,
   "id": "4d823fbf",
   "metadata": {
    "execution": {
     "iopub.execute_input": "2025-10-01T20:54:22.143501Z",
     "iopub.status.busy": "2025-10-01T20:54:22.143340Z",
     "iopub.status.idle": "2025-10-01T20:54:22.286794Z",
     "shell.execute_reply": "2025-10-01T20:54:22.282252Z"
    },
    "papermill": {
     "duration": 0.147392,
     "end_time": "2025-10-01T20:54:22.289054",
     "exception": false,
     "start_time": "2025-10-01T20:54:22.141662",
     "status": "completed"
    },
    "tags": [
     "nbsphinx-thumbnail"
    ]
   },
   "outputs": [
    {
     "data": {
      "text/plain": [
       "Text(0, 0.5, 'probability')"
      ]
     },
     "execution_count": 6,
     "metadata": {},
     "output_type": "execute_result"
    },
    {
     "data": {
      "image/png": "[encoded data removed]",
      "text/plain": [
       "<Figure size 1040x910 with 1 Axes>"
      ]
     },
     "metadata": {},
     "output_type": "display_data"
    }
   ],
   "source": [
    "fig, ax = plt.subplots()\n",
    "\n",
    "\n",
    "ax.plot(energy_grid, func(energy_grid), color=blue, lw=3)\n",
    "\n",
    "ax.set_xlabel(\"x\")\n",
    "ax.set_ylabel(\"probability\")\n"
   ]
  },
  {
   "cell_type": "markdown",
   "id": "9dc4024c",
   "metadata": {
    "papermill": {
     "duration": 0.001873,
     "end_time": "2025-10-01T20:54:22.292961",
     "exception": false,
     "start_time": "2025-10-01T20:54:22.291088",
     "status": "completed"
    },
    "tags": []
   },
   "source": [
    "## Random Number Generation\n",
    "\n",
    "This is how we can generate random numbers from the prior.\n"
   ]
  },
  {
   "cell_type": "code",
   "execution_count": 7,
   "id": "a9603ed1",
   "metadata": {
    "execution": {
     "iopub.execute_input": "2025-10-01T20:54:22.298520Z",
     "iopub.status.busy": "2025-10-01T20:54:22.298291Z",
     "iopub.status.idle": "2025-10-01T20:54:22.490402Z",
     "shell.execute_reply": "2025-10-01T20:54:22.489795Z"
    },
    "papermill": {
     "duration": 0.196623,
     "end_time": "2025-10-01T20:54:22.491453",
     "exception": false,
     "start_time": "2025-10-01T20:54:22.294830",
     "status": "completed"
    },
    "tags": []
   },
   "outputs": [
    {
     "data": {
      "text/plain": [
       "Text(0, 0.5, 'N')"
      ]
     },
     "execution_count": 7,
     "metadata": {},
     "output_type": "execute_result"
    },
    {
     "data": {
      "image/png": "[encoded data removed]",
      "text/plain": [
       "<Figure size 1040x910 with 1 Axes>"
      ]
     },
     "metadata": {},
     "output_type": "display_data"
    }
   ],
   "source": [
    "\n",
    "\n",
    "u = np.random.uniform(0,1, size=5000)\n",
    "\n",
    "draws = [func.from_unit_cube(x) for x in u]\n",
    "\n",
    "\n",
    "fig, ax = plt.subplots()\n",
    "\n",
    "\n",
    "ax.hist(draws, color=green, bins=50)\n",
    "\n",
    "ax.set_xlabel(\"value\")\n",
    "ax.set_ylabel(\"N\")\n",
    "\n"
   ]
  }
 ],
 "metadata": {
  "jupytext": {
   "formats": "ipynb,md"
  },
  "kernelspec": {
   "display_name": "Python 3 (ipykernel)",
   "language": "python",
   "name": "python3"
  },
  "language_info": {
   "codemirror_mode": {
    "name": "ipython",
    "version": 3
   },
   "file_extension": ".py",
   "mimetype": "text/x-python",
   "name": "python",
   "nbconvert_exporter": "python",
   "pygments_lexer": "ipython3",
   "version": "3.9.13"
  },
  "papermill": {
   "default_parameters": {},
   "duration": 4.627365,
   "end_time": "2025-10-01T20:54:23.126263",
   "environment_variables": {},
   "exception": null,
   "input_path": "Cauchy.ipynb",
   "output_path": "/Users/runner/work/astromodels/astromodels/docs/notebooks/Cauchy.ipynb",
   "parameters": {
    "func_name": "Cauchy",
    "positive_prior": false
   },
   "start_time": "2025-10-01T20:54:18.498898",
   "version": "2.6.0"
  }
 },
 "nbformat": 4,
 "nbformat_minor": 5
}
