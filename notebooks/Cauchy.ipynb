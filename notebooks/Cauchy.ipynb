{
 "cells": [
  {
   "cell_type": "markdown",
   "id": "9cbc364c",
   "metadata": {
    "papermill": {
     "duration": 0.002272,
     "end_time": "2025-09-27T03:51:11.195701",
     "exception": false,
     "start_time": "2025-09-27T03:51:11.193429",
     "status": "completed"
    },
    "tags": []
   },
   "source": [
    "# Cauchy"
   ]
  },
  {
   "cell_type": "code",
   "execution_count": 1,
   "id": "0b55aab2",
   "metadata": {
    "execution": {
     "iopub.execute_input": "2025-09-27T03:51:11.199724Z",
     "iopub.status.busy": "2025-09-27T03:51:11.199518Z",
     "iopub.status.idle": "2025-09-27T03:51:14.207046Z",
     "shell.execute_reply": "2025-09-27T03:51:14.206324Z"
    },
    "nbsphinx": "hidden",
    "papermill": {
     "duration": 3.011962,
     "end_time": "2025-09-27T03:51:14.209416",
     "exception": false,
     "start_time": "2025-09-27T03:51:11.197454",
     "status": "completed"
    },
    "tags": []
   },
   "outputs": [],
   "source": [
    "%%capture\n",
    "\n",
    "import numpy as np\n",
    "\n",
    "import matplotlib.pyplot as plt\n",
    "\n",
    "import warnings\n",
    "warnings.simplefilter(\"ignore\")\n",
    "\n",
    "from astromodels.functions.function import _known_functions\n",
    "\n",
    "\n",
    "from jupyterthemes import jtplot\n",
    "jtplot.style(context=\"talk\", fscale=1, ticks=True, grid=False)\n",
    "%matplotlib inline"
   ]
  },
  {
   "cell_type": "code",
   "execution_count": 2,
   "id": "999beaa6",
   "metadata": {
    "execution": {
     "iopub.execute_input": "2025-09-27T03:51:14.217248Z",
     "iopub.status.busy": "2025-09-27T03:51:14.216633Z",
     "iopub.status.idle": "2025-09-27T03:51:14.220868Z",
     "shell.execute_reply": "2025-09-27T03:51:14.219964Z"
    },
    "nbsphinx": "hidden",
    "papermill": {
     "duration": 0.010908,
     "end_time": "2025-09-27T03:51:14.223480",
     "exception": false,
     "start_time": "2025-09-27T03:51:14.212572",
     "status": "completed"
    },
    "tags": [
     "parameters"
    ]
   },
   "outputs": [],
   "source": [
    "func_name = \"TbAbs\"\n",
    "\n",
    "positive_prior = False\n"
   ]
  },
  {
   "cell_type": "code",
   "execution_count": 3,
   "id": "e3134728",
   "metadata": {
    "execution": {
     "iopub.execute_input": "2025-09-27T03:51:14.229584Z",
     "iopub.status.busy": "2025-09-27T03:51:14.229297Z",
     "iopub.status.idle": "2025-09-27T03:51:14.237562Z",
     "shell.execute_reply": "2025-09-27T03:51:14.236699Z"
    },
    "papermill": {
     "duration": 0.013964,
     "end_time": "2025-09-27T03:51:14.239842",
     "exception": false,
     "start_time": "2025-09-27T03:51:14.225878",
     "status": "completed"
    },
    "tags": [
     "injected-parameters"
    ]
   },
   "outputs": [],
   "source": [
    "# Parameters\n",
    "func_name = \"Cauchy\"\n",
    "positive_prior = False\n"
   ]
  },
  {
   "cell_type": "code",
   "execution_count": 4,
   "id": "7fce69e9",
   "metadata": {
    "execution": {
     "iopub.execute_input": "2025-09-27T03:51:14.246327Z",
     "iopub.status.busy": "2025-09-27T03:51:14.245917Z",
     "iopub.status.idle": "2025-09-27T03:51:14.252146Z",
     "shell.execute_reply": "2025-09-27T03:51:14.251465Z"
    },
    "lines_to_next_cell": 0,
    "nbsphinx": "hidden",
    "papermill": {
     "duration": 0.012524,
     "end_time": "2025-09-27T03:51:14.254530",
     "exception": false,
     "start_time": "2025-09-27T03:51:14.242006",
     "status": "completed"
    },
    "tags": []
   },
   "outputs": [],
   "source": [
    "func = _known_functions[func_name]()\n",
    "\n",
    "if not positive_prior:\n",
    "\n",
    "\tenergy_grid = np.linspace(-5,5,1000)\n",
    "\n",
    "else:\n",
    "    \n",
    "    energy_grid = np.linspace(0,1,1000)\n",
    "    \n",
    "    \n",
    "    \n",
    "    \n",
    "blue = \"#4152E3\"\n",
    "red = \"#E3414B\"\n",
    "green = \"#41E39E\""
   ]
  },
  {
   "cell_type": "markdown",
   "id": "881c12ab",
   "metadata": {
    "lines_to_next_cell": 0,
    "papermill": {
     "duration": 0.001995,
     "end_time": "2025-09-27T03:51:14.259533",
     "exception": false,
     "start_time": "2025-09-27T03:51:14.257538",
     "status": "completed"
    },
    "tags": []
   },
   "source": [
    "## Description"
   ]
  },
  {
   "cell_type": "code",
   "execution_count": 5,
   "id": "dc7dfb09",
   "metadata": {
    "execution": {
     "iopub.execute_input": "2025-09-27T03:51:14.265527Z",
     "iopub.status.busy": "2025-09-27T03:51:14.265063Z",
     "iopub.status.idle": "2025-09-27T03:51:14.272351Z",
     "shell.execute_reply": "2025-09-27T03:51:14.271583Z"
    },
    "papermill": {
     "duration": 0.013362,
     "end_time": "2025-09-27T03:51:14.274776",
     "exception": false,
     "start_time": "2025-09-27T03:51:14.261414",
     "status": "completed"
    },
    "tags": []
   },
   "outputs": [
    {
     "data": {
      "text/html": [
       "<ul>\n",
       "\n",
       "<li>description: The Cauchy distribution</li>\n",
       "\n",
       "<li>formula: $K\\frac{1}{\\gamma\\pi}\\left[\\frac{\\gamma^2}{(x-x_0)^2+\\gamma^2}\\right]$</li>\n",
       "\n",
       "<li>parameters: \n",
       "<ul>\n",
       "\n",
       "<li>K: \n",
       "<ul>\n",
       "\n",
       "<li>value: 1.0</li>\n",
       "\n",
       "<li>desc: Integral between -inf and +inf. Fix this to 1 to obtain a Cauchy distribution</li>\n",
       "\n",
       "<li>min_value: None</li>\n",
       "\n",
       "<li>max_value: None</li>\n",
       "\n",
       "<li>unit: </li>\n",
       "\n",
       "<li>is_normalization: False</li>\n",
       "\n",
       "<li>delta: 0.1</li>\n",
       "\n",
       "<li>free: True</li>\n",
       "\n",
       "</ul>\n",
       "\n",
       "</li>\n",
       "\n",
       "<li>x0: \n",
       "<ul>\n",
       "\n",
       "<li>value: 0.0</li>\n",
       "\n",
       "<li>desc: Central value</li>\n",
       "\n",
       "<li>min_value: None</li>\n",
       "\n",
       "<li>max_value: None</li>\n",
       "\n",
       "<li>unit: </li>\n",
       "\n",
       "<li>is_normalization: False</li>\n",
       "\n",
       "<li>delta: 0.1</li>\n",
       "\n",
       "<li>free: True</li>\n",
       "\n",
       "</ul>\n",
       "\n",
       "</li>\n",
       "\n",
       "<li>gamma: \n",
       "<ul>\n",
       "\n",
       "<li>value: 1.0</li>\n",
       "\n",
       "<li>desc: standard deviation</li>\n",
       "\n",
       "<li>min_value: 1e-12</li>\n",
       "\n",
       "<li>max_value: None</li>\n",
       "\n",
       "<li>unit: </li>\n",
       "\n",
       "<li>is_normalization: False</li>\n",
       "\n",
       "<li>delta: 0.1</li>\n",
       "\n",
       "<li>free: True</li>\n",
       "\n",
       "</ul>\n",
       "\n",
       "</li>\n",
       "\n",
       "</ul>\n",
       "\n",
       "</li>\n",
       "\n",
       "</ul>\n"
      ],
      "text/plain": [
       "  * description: The Cauchy distribution\n",
       "  * formula: $K\\frac{1}{\\gamma\\pi}\\left[\\frac{\\gamma^2}{(x-x_0)^2+\\gamma^2}\\right]$\n",
       "  * parameters:\n",
       "    * K:\n",
       "      * value: 1.0\n",
       "      * desc: Integral between -inf and +inf. Fix this to 1 to obtain a Cauchy distribution\n",
       "      * min_value: null\n",
       "      * max_value: null\n",
       "      * unit: ''\n",
       "      * is_normalization: false\n",
       "      * delta: 0.1\n",
       "      * free: true\n",
       "    * x0:\n",
       "      * value: 0.0\n",
       "      * desc: Central value\n",
       "      * min_value: null\n",
       "      * max_value: null\n",
       "      * unit: ''\n",
       "      * is_normalization: false\n",
       "      * delta: 0.1\n",
       "      * free: true\n",
       "    * gamma:\n",
       "      * value: 1.0\n",
       "      * desc: standard deviation\n",
       "      * min_value: 1.0e-12\n",
       "      * max_value: null\n",
       "      * unit: ''\n",
       "      * is_normalization: false\n",
       "      * delta: 0.1\n",
       "      * free: true"
      ]
     },
     "metadata": {},
     "output_type": "display_data"
    }
   ],
   "source": [
    "func.display()"
   ]
  },
  {
   "cell_type": "markdown",
   "id": "0eab1147",
   "metadata": {
    "papermill": {
     "duration": 0.001724,
     "end_time": "2025-09-27T03:51:14.278204",
     "exception": false,
     "start_time": "2025-09-27T03:51:14.276480",
     "status": "completed"
    },
    "tags": []
   },
   "source": [
    "## Shape \n",
    "\n",
    "The shape of the function. \n",
    "\n",
    "*If this is not a photon model but a prior or linear function then ignore the units as these docs are auto-generated*"
   ]
  },
  {
   "cell_type": "code",
   "execution_count": 6,
   "id": "b62c6273",
   "metadata": {
    "execution": {
     "iopub.execute_input": "2025-09-27T03:51:14.283807Z",
     "iopub.status.busy": "2025-09-27T03:51:14.283619Z",
     "iopub.status.idle": "2025-09-27T03:51:14.452855Z",
     "shell.execute_reply": "2025-09-27T03:51:14.451514Z"
    },
    "papermill": {
     "duration": 0.174426,
     "end_time": "2025-09-27T03:51:14.454259",
     "exception": false,
     "start_time": "2025-09-27T03:51:14.279833",
     "status": "completed"
    },
    "tags": [
     "nbsphinx-thumbnail"
    ]
   },
   "outputs": [
    {
     "data": {
      "text/plain": [
       "Text(0, 0.5, 'probability')"
      ]
     },
     "execution_count": 6,
     "metadata": {},
     "output_type": "execute_result"
    },
    {
     "data": {
      "image/png": "[encoded data removed]",
      "text/plain": [
       "<Figure size 1040x910 with 1 Axes>"
      ]
     },
     "metadata": {},
     "output_type": "display_data"
    }
   ],
   "source": [
    "fig, ax = plt.subplots()\n",
    "\n",
    "\n",
    "ax.plot(energy_grid, func(energy_grid), color=blue, lw=3)\n",
    "\n",
    "ax.set_xlabel(\"x\")\n",
    "ax.set_ylabel(\"probability\")\n"
   ]
  },
  {
   "cell_type": "markdown",
   "id": "fe29f724",
   "metadata": {
    "papermill": {
     "duration": 0.002629,
     "end_time": "2025-09-27T03:51:14.458805",
     "exception": false,
     "start_time": "2025-09-27T03:51:14.456176",
     "status": "completed"
    },
    "tags": []
   },
   "source": [
    "## Random Number Generation\n",
    "\n",
    "This is how we can generate random numbers from the prior.\n"
   ]
  },
  {
   "cell_type": "code",
   "execution_count": 7,
   "id": "03d8db8a",
   "metadata": {
    "execution": {
     "iopub.execute_input": "2025-09-27T03:51:14.467632Z",
     "iopub.status.busy": "2025-09-27T03:51:14.466463Z",
     "iopub.status.idle": "2025-09-27T03:51:14.738502Z",
     "shell.execute_reply": "2025-09-27T03:51:14.737903Z"
    },
    "papermill": {
     "duration": 0.27896,
     "end_time": "2025-09-27T03:51:14.739681",
     "exception": false,
     "start_time": "2025-09-27T03:51:14.460721",
     "status": "completed"
    },
    "tags": []
   },
   "outputs": [
    {
     "data": {
      "text/plain": [
       "Text(0, 0.5, 'N')"
      ]
     },
     "execution_count": 7,
     "metadata": {},
     "output_type": "execute_result"
    },
    {
     "data": {
      "image/png": "[encoded data removed]",
      "text/plain": [
       "<Figure size 1040x910 with 1 Axes>"
      ]
     },
     "metadata": {},
     "output_type": "display_data"
    }
   ],
   "source": [
    "\n",
    "\n",
    "u = np.random.uniform(0,1, size=5000)\n",
    "\n",
    "draws = [func.from_unit_cube(x) for x in u]\n",
    "\n",
    "\n",
    "fig, ax = plt.subplots()\n",
    "\n",
    "\n",
    "ax.hist(draws, color=green, bins=50)\n",
    "\n",
    "ax.set_xlabel(\"value\")\n",
    "ax.set_ylabel(\"N\")\n",
    "\n"
   ]
  }
 ],
 "metadata": {
  "jupytext": {
   "formats": "ipynb,md"
  },
  "kernelspec": {
   "display_name": "Python 3 (ipykernel)",
   "language": "python",
   "name": "python3"
  },
  "language_info": {
   "codemirror_mode": {
    "name": "ipython",
    "version": 3
   },
   "file_extension": ".py",
   "mimetype": "text/x-python",
   "name": "python",
   "nbconvert_exporter": "python",
   "pygments_lexer": "ipython3",
   "version": "3.9.13"
  },
  "papermill": {
   "default_parameters": {},
   "duration": 5.144573,
   "end_time": "2025-09-27T03:51:15.381915",
   "environment_variables": {},
   "exception": null,
   "input_path": "Cauchy.ipynb",
   "output_path": "/Users/runner/work/astromodels/astromodels/docs/notebooks/Cauchy.ipynb",
   "parameters": {
    "func_name": "Cauchy",
    "positive_prior": false
   },
   "start_time": "2025-09-27T03:51:10.237342",
   "version": "2.6.0"
  }
 },
 "nbformat": 4,
 "nbformat_minor": 5
}
