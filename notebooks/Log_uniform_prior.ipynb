{
 "cells": [
  {
   "cell_type": "markdown",
   "id": "41613ad7",
   "metadata": {
    "papermill": {
     "duration": 0.001915,
     "end_time": "2025-09-27T03:51:33.254010",
     "exception": false,
     "start_time": "2025-09-27T03:51:33.252095",
     "status": "completed"
    },
    "tags": []
   },
   "source": [
    "# Log uniform prior"
   ]
  },
  {
   "cell_type": "code",
   "execution_count": 1,
   "id": "cb049bbd",
   "metadata": {
    "execution": {
     "iopub.execute_input": "2025-09-27T03:51:33.262603Z",
     "iopub.status.busy": "2025-09-27T03:51:33.262353Z",
     "iopub.status.idle": "2025-09-27T03:51:37.008520Z",
     "shell.execute_reply": "2025-09-27T03:51:37.006766Z"
    },
    "nbsphinx": "hidden",
    "papermill": {
     "duration": 3.766949,
     "end_time": "2025-09-27T03:51:37.022471",
     "exception": false,
     "start_time": "2025-09-27T03:51:33.255522",
     "status": "completed"
    },
    "tags": []
   },
   "outputs": [],
   "source": [
    "%%capture\n",
    "\n",
    "import numpy as np\n",
    "\n",
    "import matplotlib.pyplot as plt\n",
    "\n",
    "import warnings\n",
    "warnings.simplefilter(\"ignore\")\n",
    "\n",
    "from astromodels.functions.function import _known_functions\n",
    "\n",
    "\n",
    "from jupyterthemes import jtplot\n",
    "jtplot.style(context=\"talk\", fscale=1, ticks=True, grid=False)\n",
    "%matplotlib inline"
   ]
  },
  {
   "cell_type": "code",
   "execution_count": 2,
   "id": "71a335bf",
   "metadata": {
    "execution": {
     "iopub.execute_input": "2025-09-27T03:51:37.041132Z",
     "iopub.status.busy": "2025-09-27T03:51:37.040640Z",
     "iopub.status.idle": "2025-09-27T03:51:37.049463Z",
     "shell.execute_reply": "2025-09-27T03:51:37.048215Z"
    },
    "nbsphinx": "hidden",
    "papermill": {
     "duration": 0.024021,
     "end_time": "2025-09-27T03:51:37.053619",
     "exception": false,
     "start_time": "2025-09-27T03:51:37.029598",
     "status": "completed"
    },
    "tags": [
     "parameters"
    ]
   },
   "outputs": [],
   "source": [
    "func_name = \"TbAbs\"\n",
    "\n",
    "positive_prior = False\n"
   ]
  },
  {
   "cell_type": "code",
   "execution_count": 3,
   "id": "a0f704bd",
   "metadata": {
    "execution": {
     "iopub.execute_input": "2025-09-27T03:51:37.063884Z",
     "iopub.status.busy": "2025-09-27T03:51:37.063660Z",
     "iopub.status.idle": "2025-09-27T03:51:37.068271Z",
     "shell.execute_reply": "2025-09-27T03:51:37.066628Z"
    },
    "papermill": {
     "duration": 0.015938,
     "end_time": "2025-09-27T03:51:37.073373",
     "exception": false,
     "start_time": "2025-09-27T03:51:37.057435",
     "status": "completed"
    },
    "tags": [
     "injected-parameters"
    ]
   },
   "outputs": [],
   "source": [
    "# Parameters\n",
    "func_name = \"Log_uniform_prior\"\n",
    "positive_prior = True\n"
   ]
  },
  {
   "cell_type": "code",
   "execution_count": 4,
   "id": "20085cd9",
   "metadata": {
    "execution": {
     "iopub.execute_input": "2025-09-27T03:51:37.081544Z",
     "iopub.status.busy": "2025-09-27T03:51:37.080932Z",
     "iopub.status.idle": "2025-09-27T03:51:37.091304Z",
     "shell.execute_reply": "2025-09-27T03:51:37.089915Z"
    },
    "lines_to_next_cell": 0,
    "nbsphinx": "hidden",
    "papermill": {
     "duration": 0.019913,
     "end_time": "2025-09-27T03:51:37.097273",
     "exception": false,
     "start_time": "2025-09-27T03:51:37.077360",
     "status": "completed"
    },
    "tags": []
   },
   "outputs": [],
   "source": [
    "func = _known_functions[func_name]()\n",
    "\n",
    "if not positive_prior:\n",
    "\n",
    "\tenergy_grid = np.linspace(-5,5,1000)\n",
    "\n",
    "else:\n",
    "    \n",
    "    energy_grid = np.linspace(0,1,1000)\n",
    "    \n",
    "    \n",
    "    \n",
    "    \n",
    "blue = \"#4152E3\"\n",
    "red = \"#E3414B\"\n",
    "green = \"#41E39E\""
   ]
  },
  {
   "cell_type": "markdown",
   "id": "6b91c932",
   "metadata": {
    "lines_to_next_cell": 0,
    "papermill": {
     "duration": 0.002539,
     "end_time": "2025-09-27T03:51:37.102590",
     "exception": false,
     "start_time": "2025-09-27T03:51:37.100051",
     "status": "completed"
    },
    "tags": []
   },
   "source": [
    "## Description"
   ]
  },
  {
   "cell_type": "code",
   "execution_count": 5,
   "id": "40f1cda0",
   "metadata": {
    "execution": {
     "iopub.execute_input": "2025-09-27T03:51:37.111890Z",
     "iopub.status.busy": "2025-09-27T03:51:37.111680Z",
     "iopub.status.idle": "2025-09-27T03:51:37.121646Z",
     "shell.execute_reply": "2025-09-27T03:51:37.119906Z"
    },
    "papermill": {
     "duration": 0.029601,
     "end_time": "2025-09-27T03:51:37.133556",
     "exception": false,
     "start_time": "2025-09-27T03:51:37.103955",
     "status": "completed"
    },
    "tags": []
   },
   "outputs": [
    {
     "data": {
      "text/html": [
       "<ul>\n",
       "\n",
       "<li>description: A function which is K/x on the interval lower_bound - upper_bound and 0 outside the interval. The extremes of the interval are NOT counted as part of the interval. Lower_bound must be >= 0.</li>\n",
       "\n",
       "<li>formula: $ f(x)=K~\\begin{cases}0 & x \\le \\text{lower_bound} \\\\\\frac{1}{x} & \\text{lower_bound} < x < \\text{upper_bound} \\\\ 0 & x \\ge \\text{upper_bound} \\end{cases}$</li>\n",
       "\n",
       "<li>parameters: \n",
       "<ul>\n",
       "\n",
       "<li>lower_bound: \n",
       "<ul>\n",
       "\n",
       "<li>value: 1e-20</li>\n",
       "\n",
       "<li>desc: Lower bound for the interval</li>\n",
       "\n",
       "<li>min_value: 1e-30</li>\n",
       "\n",
       "<li>max_value: inf</li>\n",
       "\n",
       "<li>unit: </li>\n",
       "\n",
       "<li>is_normalization: False</li>\n",
       "\n",
       "<li>delta: 1e-21</li>\n",
       "\n",
       "<li>free: True</li>\n",
       "\n",
       "</ul>\n",
       "\n",
       "</li>\n",
       "\n",
       "<li>upper_bound: \n",
       "<ul>\n",
       "\n",
       "<li>value: 100.0</li>\n",
       "\n",
       "<li>desc: Upper bound for the interval</li>\n",
       "\n",
       "<li>min_value: 1e-30</li>\n",
       "\n",
       "<li>max_value: inf</li>\n",
       "\n",
       "<li>unit: </li>\n",
       "\n",
       "<li>is_normalization: False</li>\n",
       "\n",
       "<li>delta: 10.0</li>\n",
       "\n",
       "<li>free: True</li>\n",
       "\n",
       "</ul>\n",
       "\n",
       "</li>\n",
       "\n",
       "<li>K: \n",
       "<ul>\n",
       "\n",
       "<li>value: 1.0</li>\n",
       "\n",
       "<li>desc: Normalization</li>\n",
       "\n",
       "<li>min_value: None</li>\n",
       "\n",
       "<li>max_value: None</li>\n",
       "\n",
       "<li>unit: </li>\n",
       "\n",
       "<li>is_normalization: False</li>\n",
       "\n",
       "<li>delta: 0.1</li>\n",
       "\n",
       "<li>free: False</li>\n",
       "\n",
       "</ul>\n",
       "\n",
       "</li>\n",
       "\n",
       "</ul>\n",
       "\n",
       "</li>\n",
       "\n",
       "</ul>\n"
      ],
      "text/plain": [
       "  * description: A function which is K/x on the interval lower_bound - upper_bound and\n",
       "    * 0 outside the interval. The extremes of the interval are NOT counted as part of\n",
       "    * the interval. Lower_bound must be >= 0.\n",
       "  * formula: $ f(x)=K~\\begin{cases}0 & x \\le \\text{lower_bound} \\\\\\frac{1}{x} & \\text{lower_bound}\n",
       "    * < x < \\text{upper_bound} \\\\ 0 & x \\ge \\text{upper_bound} \\end{cases}$\n",
       "  * parameters:\n",
       "    * lower_bound:\n",
       "      * value: 1.0e-20\n",
       "      * desc: Lower bound for the interval\n",
       "      * min_value: 1.0e-30\n",
       "      * max_value: .inf\n",
       "      * unit: ''\n",
       "      * is_normalization: false\n",
       "      * delta: 1.0e-21\n",
       "      * free: true\n",
       "    * upper_bound:\n",
       "      * value: 100.0\n",
       "      * desc: Upper bound for the interval\n",
       "      * min_value: 1.0e-30\n",
       "      * max_value: .inf\n",
       "      * unit: ''\n",
       "      * is_normalization: false\n",
       "      * delta: 10.0\n",
       "      * free: true\n",
       "    * K:\n",
       "      * value: 1.0\n",
       "      * desc: Normalization\n",
       "      * min_value: null\n",
       "      * max_value: null\n",
       "      * unit: ''\n",
       "      * is_normalization: false\n",
       "      * delta: 0.1\n",
       "      * free: false"
      ]
     },
     "metadata": {},
     "output_type": "display_data"
    }
   ],
   "source": [
    "func.display()"
   ]
  },
  {
   "cell_type": "markdown",
   "id": "4649b9ff",
   "metadata": {
    "papermill": {
     "duration": 0.003105,
     "end_time": "2025-09-27T03:51:37.140034",
     "exception": false,
     "start_time": "2025-09-27T03:51:37.136929",
     "status": "completed"
    },
    "tags": []
   },
   "source": [
    "## Shape \n",
    "\n",
    "The shape of the function. \n",
    "\n",
    "*If this is not a photon model but a prior or linear function then ignore the units as these docs are auto-generated*"
   ]
  },
  {
   "cell_type": "code",
   "execution_count": 6,
   "id": "b8601933",
   "metadata": {
    "execution": {
     "iopub.execute_input": "2025-09-27T03:51:37.148489Z",
     "iopub.status.busy": "2025-09-27T03:51:37.148209Z",
     "iopub.status.idle": "2025-09-27T03:51:37.369432Z",
     "shell.execute_reply": "2025-09-27T03:51:37.365108Z"
    },
    "papermill": {
     "duration": 0.249579,
     "end_time": "2025-09-27T03:51:37.392397",
     "exception": false,
     "start_time": "2025-09-27T03:51:37.142818",
     "status": "completed"
    },
    "tags": [
     "nbsphinx-thumbnail"
    ]
   },
   "outputs": [
    {
     "data": {
      "text/plain": [
       "Text(0, 0.5, 'probability')"
      ]
     },
     "execution_count": 6,
     "metadata": {},
     "output_type": "execute_result"
    },
    {
     "data": {
      "image/png": "[encoded data removed]",
      "text/plain": [
       "<Figure size 1040x910 with 1 Axes>"
      ]
     },
     "metadata": {},
     "output_type": "display_data"
    }
   ],
   "source": [
    "fig, ax = plt.subplots()\n",
    "\n",
    "\n",
    "ax.plot(energy_grid, func(energy_grid), color=blue, lw=3)\n",
    "\n",
    "ax.set_xlabel(\"x\")\n",
    "ax.set_ylabel(\"probability\")\n"
   ]
  },
  {
   "cell_type": "markdown",
   "id": "f7cfc6e3",
   "metadata": {
    "papermill": {
     "duration": 0.0041,
     "end_time": "2025-09-27T03:51:37.398523",
     "exception": false,
     "start_time": "2025-09-27T03:51:37.394423",
     "status": "completed"
    },
    "tags": []
   },
   "source": [
    "## Random Number Generation\n",
    "\n",
    "This is how we can generate random numbers from the prior.\n"
   ]
  },
  {
   "cell_type": "code",
   "execution_count": 7,
   "id": "5db1f2c0",
   "metadata": {
    "execution": {
     "iopub.execute_input": "2025-09-27T03:51:37.411410Z",
     "iopub.status.busy": "2025-09-27T03:51:37.411192Z",
     "iopub.status.idle": "2025-09-27T03:51:37.674389Z",
     "shell.execute_reply": "2025-09-27T03:51:37.671199Z"
    },
    "papermill": {
     "duration": 0.279983,
     "end_time": "2025-09-27T03:51:37.680716",
     "exception": false,
     "start_time": "2025-09-27T03:51:37.400733",
     "status": "completed"
    },
    "tags": []
   },
   "outputs": [
    {
     "data": {
      "text/plain": [
       "Text(0, 0.5, 'N')"
      ]
     },
     "execution_count": 7,
     "metadata": {},
     "output_type": "execute_result"
    },
    {
     "data": {
      "image/png": "[encoded data removed]",
      "text/plain": [
       "<Figure size 1040x910 with 1 Axes>"
      ]
     },
     "metadata": {},
     "output_type": "display_data"
    }
   ],
   "source": [
    "\n",
    "\n",
    "u = np.random.uniform(0,1, size=5000)\n",
    "\n",
    "draws = [func.from_unit_cube(x) for x in u]\n",
    "\n",
    "\n",
    "fig, ax = plt.subplots()\n",
    "\n",
    "\n",
    "ax.hist(draws, color=green, bins=50)\n",
    "\n",
    "ax.set_xlabel(\"value\")\n",
    "ax.set_ylabel(\"N\")\n",
    "\n"
   ]
  }
 ],
 "metadata": {
  "jupytext": {
   "formats": "ipynb,md"
  },
  "kernelspec": {
   "display_name": "Python 3 (ipykernel)",
   "language": "python",
   "name": "python3"
  },
  "language_info": {
   "codemirror_mode": {
    "name": "ipython",
    "version": 3
   },
   "file_extension": ".py",
   "mimetype": "text/x-python",
   "name": "python",
   "nbconvert_exporter": "python",
   "pygments_lexer": "ipython3",
   "version": "3.9.13"
  },
  "papermill": {
   "default_parameters": {},
   "duration": 6.056763,
   "end_time": "2025-09-27T03:51:38.425416",
   "environment_variables": {},
   "exception": null,
   "input_path": "Log_uniform_prior.ipynb",
   "output_path": "/Users/runner/work/astromodels/astromodels/docs/notebooks/Log_uniform_prior.ipynb",
   "parameters": {
    "func_name": "Log_uniform_prior",
    "positive_prior": true
   },
   "start_time": "2025-09-27T03:51:32.368653",
   "version": "2.6.0"
  }
 },
 "nbformat": 4,
 "nbformat_minor": 5
}
