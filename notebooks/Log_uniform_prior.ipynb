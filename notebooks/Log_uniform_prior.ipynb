{
 "cells": [
  {
   "cell_type": "markdown",
   "id": "1c9b1bbc",
   "metadata": {
    "papermill": {
     "duration": 0.001583,
     "end_time": "2025-10-01T20:54:36.088778",
     "exception": false,
     "start_time": "2025-10-01T20:54:36.087195",
     "status": "completed"
    },
    "tags": []
   },
   "source": [
    "# Log uniform prior"
   ]
  },
  {
   "cell_type": "code",
   "execution_count": 1,
   "id": "0d7de548",
   "metadata": {
    "execution": {
     "iopub.execute_input": "2025-10-01T20:54:36.092035Z",
     "iopub.status.busy": "2025-10-01T20:54:36.091871Z",
     "iopub.status.idle": "2025-10-01T20:54:38.882521Z",
     "shell.execute_reply": "2025-10-01T20:54:38.881159Z"
    },
    "nbsphinx": "hidden",
    "papermill": {
     "duration": 2.794266,
     "end_time": "2025-10-01T20:54:38.884333",
     "exception": false,
     "start_time": "2025-10-01T20:54:36.090067",
     "status": "completed"
    },
    "tags": []
   },
   "outputs": [],
   "source": [
    "%%capture\n",
    "\n",
    "import numpy as np\n",
    "\n",
    "import matplotlib.pyplot as plt\n",
    "\n",
    "import warnings\n",
    "warnings.simplefilter(\"ignore\")\n",
    "\n",
    "from astromodels.functions.function import _known_functions\n",
    "\n",
    "\n",
    "from jupyterthemes import jtplot\n",
    "jtplot.style(context=\"talk\", fscale=1, ticks=True, grid=False)\n",
    "%matplotlib inline"
   ]
  },
  {
   "cell_type": "code",
   "execution_count": 2,
   "id": "5b040f81",
   "metadata": {
    "execution": {
     "iopub.execute_input": "2025-10-01T20:54:38.888188Z",
     "iopub.status.busy": "2025-10-01T20:54:38.887813Z",
     "iopub.status.idle": "2025-10-01T20:54:38.892019Z",
     "shell.execute_reply": "2025-10-01T20:54:38.891262Z"
    },
    "nbsphinx": "hidden",
    "papermill": {
     "duration": 0.00741,
     "end_time": "2025-10-01T20:54:38.893257",
     "exception": false,
     "start_time": "2025-10-01T20:54:38.885847",
     "status": "completed"
    },
    "tags": [
     "parameters"
    ]
   },
   "outputs": [],
   "source": [
    "func_name = \"TbAbs\"\n",
    "\n",
    "positive_prior = False\n"
   ]
  },
  {
   "cell_type": "code",
   "execution_count": 3,
   "id": "1b0900f2",
   "metadata": {
    "execution": {
     "iopub.execute_input": "2025-10-01T20:54:38.896411Z",
     "iopub.status.busy": "2025-10-01T20:54:38.896252Z",
     "iopub.status.idle": "2025-10-01T20:54:38.898524Z",
     "shell.execute_reply": "2025-10-01T20:54:38.898084Z"
    },
    "papermill": {
     "duration": 0.005171,
     "end_time": "2025-10-01T20:54:38.899730",
     "exception": false,
     "start_time": "2025-10-01T20:54:38.894559",
     "status": "completed"
    },
    "tags": [
     "injected-parameters"
    ]
   },
   "outputs": [],
   "source": [
    "# Parameters\n",
    "func_name = \"Log_uniform_prior\"\n",
    "positive_prior = True\n"
   ]
  },
  {
   "cell_type": "code",
   "execution_count": 4,
   "id": "3f7c6db7",
   "metadata": {
    "execution": {
     "iopub.execute_input": "2025-10-01T20:54:38.905220Z",
     "iopub.status.busy": "2025-10-01T20:54:38.904772Z",
     "iopub.status.idle": "2025-10-01T20:54:38.909894Z",
     "shell.execute_reply": "2025-10-01T20:54:38.909359Z"
    },
    "lines_to_next_cell": 0,
    "nbsphinx": "hidden",
    "papermill": {
     "duration": 0.010602,
     "end_time": "2025-10-01T20:54:38.911617",
     "exception": false,
     "start_time": "2025-10-01T20:54:38.901015",
     "status": "completed"
    },
    "tags": []
   },
   "outputs": [],
   "source": [
    "func = _known_functions[func_name]()\n",
    "\n",
    "if not positive_prior:\n",
    "\n",
    "\tenergy_grid = np.linspace(-5,5,1000)\n",
    "\n",
    "else:\n",
    "    \n",
    "    energy_grid = np.linspace(0,1,1000)\n",
    "    \n",
    "    \n",
    "    \n",
    "    \n",
    "blue = \"#4152E3\"\n",
    "red = \"#E3414B\"\n",
    "green = \"#41E39E\""
   ]
  },
  {
   "cell_type": "markdown",
   "id": "8b5fa608",
   "metadata": {
    "lines_to_next_cell": 0,
    "papermill": {
     "duration": 0.001524,
     "end_time": "2025-10-01T20:54:38.914576",
     "exception": false,
     "start_time": "2025-10-01T20:54:38.913052",
     "status": "completed"
    },
    "tags": []
   },
   "source": [
    "## Description"
   ]
  },
  {
   "cell_type": "code",
   "execution_count": 5,
   "id": "41a36d89",
   "metadata": {
    "execution": {
     "iopub.execute_input": "2025-10-01T20:54:38.919232Z",
     "iopub.status.busy": "2025-10-01T20:54:38.918814Z",
     "iopub.status.idle": "2025-10-01T20:54:38.937029Z",
     "shell.execute_reply": "2025-10-01T20:54:38.936392Z"
    },
    "papermill": {
     "duration": 0.023471,
     "end_time": "2025-10-01T20:54:38.939212",
     "exception": false,
     "start_time": "2025-10-01T20:54:38.915741",
     "status": "completed"
    },
    "tags": []
   },
   "outputs": [
    {
     "data": {
      "text/html": [
       "<ul>\n",
       "\n",
       "<li>description: A function which is K/x on the interval lower_bound - upper_bound and 0 outside the interval. The extremes of the interval are NOT counted as part of the interval. Lower_bound must be >= 0.</li>\n",
       "\n",
       "<li>formula: $ f(x)=K~\\begin{cases}0 & x \\le \\text{lower_bound} \\\\\\frac{1}{x} & \\text{lower_bound} < x < \\text{upper_bound} \\\\ 0 & x \\ge \\text{upper_bound} \\end{cases}$</li>\n",
       "\n",
       "<li>parameters: \n",
       "<ul>\n",
       "\n",
       "<li>lower_bound: \n",
       "<ul>\n",
       "\n",
       "<li>value: 1e-20</li>\n",
       "\n",
       "<li>desc: Lower bound for the interval</li>\n",
       "\n",
       "<li>min_value: 1e-30</li>\n",
       "\n",
       "<li>max_value: inf</li>\n",
       "\n",
       "<li>unit: </li>\n",
       "\n",
       "<li>is_normalization: False</li>\n",
       "\n",
       "<li>delta: 1e-21</li>\n",
       "\n",
       "<li>free: True</li>\n",
       "\n",
       "</ul>\n",
       "\n",
       "</li>\n",
       "\n",
       "<li>upper_bound: \n",
       "<ul>\n",
       "\n",
       "<li>value: 100.0</li>\n",
       "\n",
       "<li>desc: Upper bound for the interval</li>\n",
       "\n",
       "<li>min_value: 1e-30</li>\n",
       "\n",
       "<li>max_value: inf</li>\n",
       "\n",
       "<li>unit: </li>\n",
       "\n",
       "<li>is_normalization: False</li>\n",
       "\n",
       "<li>delta: 10.0</li>\n",
       "\n",
       "<li>free: True</li>\n",
       "\n",
       "</ul>\n",
       "\n",
       "</li>\n",
       "\n",
       "<li>K: \n",
       "<ul>\n",
       "\n",
       "<li>value: 1.0</li>\n",
       "\n",
       "<li>desc: Normalization</li>\n",
       "\n",
       "<li>min_value: None</li>\n",
       "\n",
       "<li>max_value: None</li>\n",
       "\n",
       "<li>unit: </li>\n",
       "\n",
       "<li>is_normalization: False</li>\n",
       "\n",
       "<li>delta: 0.1</li>\n",
       "\n",
       "<li>free: False</li>\n",
       "\n",
       "</ul>\n",
       "\n",
       "</li>\n",
       "\n",
       "</ul>\n",
       "\n",
       "</li>\n",
       "\n",
       "</ul>\n"
      ],
      "text/plain": [
       "  * description: A function which is K/x on the interval lower_bound - upper_bound and\n",
       "    * 0 outside the interval. The extremes of the interval are NOT counted as part of\n",
       "    * the interval. Lower_bound must be >= 0.\n",
       "  * formula: $ f(x)=K~\\begin{cases}0 & x \\le \\text{lower_bound} \\\\\\frac{1}{x} & \\text{lower_bound}\n",
       "    * < x < \\text{upper_bound} \\\\ 0 & x \\ge \\text{upper_bound} \\end{cases}$\n",
       "  * parameters:\n",
       "    * lower_bound:\n",
       "      * value: 1.0e-20\n",
       "      * desc: Lower bound for the interval\n",
       "      * min_value: 1.0e-30\n",
       "      * max_value: .inf\n",
       "      * unit: ''\n",
       "      * is_normalization: false\n",
       "      * delta: 1.0e-21\n",
       "      * free: true\n",
       "    * upper_bound:\n",
       "      * value: 100.0\n",
       "      * desc: Upper bound for the interval\n",
       "      * min_value: 1.0e-30\n",
       "      * max_value: .inf\n",
       "      * unit: ''\n",
       "      * is_normalization: false\n",
       "      * delta: 10.0\n",
       "      * free: true\n",
       "    * K:\n",
       "      * value: 1.0\n",
       "      * desc: Normalization\n",
       "      * min_value: null\n",
       "      * max_value: null\n",
       "      * unit: ''\n",
       "      * is_normalization: false\n",
       "      * delta: 0.1\n",
       "      * free: false"
      ]
     },
     "metadata": {},
     "output_type": "display_data"
    }
   ],
   "source": [
    "func.display()"
   ]
  },
  {
   "cell_type": "markdown",
   "id": "d7266d9f",
   "metadata": {
    "papermill": {
     "duration": 0.001279,
     "end_time": "2025-10-01T20:54:38.941982",
     "exception": false,
     "start_time": "2025-10-01T20:54:38.940703",
     "status": "completed"
    },
    "tags": []
   },
   "source": [
    "## Shape \n",
    "\n",
    "The shape of the function. \n",
    "\n",
    "*If this is not a photon model but a prior or linear function then ignore the units as these docs are auto-generated*"
   ]
  },
  {
   "cell_type": "code",
   "execution_count": 6,
   "id": "40dcd3f5",
   "metadata": {
    "execution": {
     "iopub.execute_input": "2025-10-01T20:54:38.945764Z",
     "iopub.status.busy": "2025-10-01T20:54:38.945526Z",
     "iopub.status.idle": "2025-10-01T20:54:39.163919Z",
     "shell.execute_reply": "2025-10-01T20:54:39.143957Z"
    },
    "papermill": {
     "duration": 0.226223,
     "end_time": "2025-10-01T20:54:39.169387",
     "exception": false,
     "start_time": "2025-10-01T20:54:38.943164",
     "status": "completed"
    },
    "tags": [
     "nbsphinx-thumbnail"
    ]
   },
   "outputs": [
    {
     "data": {
      "text/plain": [
       "Text(0, 0.5, 'probability')"
      ]
     },
     "execution_count": 6,
     "metadata": {},
     "output_type": "execute_result"
    },
    {
     "data": {
      "image/png": "[encoded data removed]",
      "text/plain": [
       "<Figure size 1040x910 with 1 Axes>"
      ]
     },
     "metadata": {},
     "output_type": "display_data"
    }
   ],
   "source": [
    "fig, ax = plt.subplots()\n",
    "\n",
    "\n",
    "ax.plot(energy_grid, func(energy_grid), color=blue, lw=3)\n",
    "\n",
    "ax.set_xlabel(\"x\")\n",
    "ax.set_ylabel(\"probability\")\n"
   ]
  },
  {
   "cell_type": "markdown",
   "id": "fbba187f",
   "metadata": {
    "papermill": {
     "duration": 0.001441,
     "end_time": "2025-10-01T20:54:39.172597",
     "exception": false,
     "start_time": "2025-10-01T20:54:39.171156",
     "status": "completed"
    },
    "tags": []
   },
   "source": [
    "## Random Number Generation\n",
    "\n",
    "This is how we can generate random numbers from the prior.\n"
   ]
  },
  {
   "cell_type": "code",
   "execution_count": 7,
   "id": "19276688",
   "metadata": {
    "execution": {
     "iopub.execute_input": "2025-10-01T20:54:39.177741Z",
     "iopub.status.busy": "2025-10-01T20:54:39.177099Z",
     "iopub.status.idle": "2025-10-01T20:54:39.427937Z",
     "shell.execute_reply": "2025-10-01T20:54:39.426749Z"
    },
    "papermill": {
     "duration": 0.255752,
     "end_time": "2025-10-01T20:54:39.429772",
     "exception": false,
     "start_time": "2025-10-01T20:54:39.174020",
     "status": "completed"
    },
    "tags": []
   },
   "outputs": [
    {
     "data": {
      "text/plain": [
       "Text(0, 0.5, 'N')"
      ]
     },
     "execution_count": 7,
     "metadata": {},
     "output_type": "execute_result"
    },
    {
     "data": {
      "image/png": "[encoded data removed]",
      "text/plain": [
       "<Figure size 1040x910 with 1 Axes>"
      ]
     },
     "metadata": {},
     "output_type": "display_data"
    }
   ],
   "source": [
    "\n",
    "\n",
    "u = np.random.uniform(0,1, size=5000)\n",
    "\n",
    "draws = [func.from_unit_cube(x) for x in u]\n",
    "\n",
    "\n",
    "fig, ax = plt.subplots()\n",
    "\n",
    "\n",
    "ax.hist(draws, color=green, bins=50)\n",
    "\n",
    "ax.set_xlabel(\"value\")\n",
    "ax.set_ylabel(\"N\")\n",
    "\n"
   ]
  }
 ],
 "metadata": {
  "jupytext": {
   "formats": "ipynb,md"
  },
  "kernelspec": {
   "display_name": "Python 3 (ipykernel)",
   "language": "python",
   "name": "python3"
  },
  "language_info": {
   "codemirror_mode": {
    "name": "ipython",
    "version": 3
   },
   "file_extension": ".py",
   "mimetype": "text/x-python",
   "name": "python",
   "nbconvert_exporter": "python",
   "pygments_lexer": "ipython3",
   "version": "3.9.13"
  },
  "papermill": {
   "default_parameters": {},
   "duration": 4.533001,
   "end_time": "2025-10-01T20:54:39.974229",
   "environment_variables": {},
   "exception": null,
   "input_path": "Log_uniform_prior.ipynb",
   "output_path": "/Users/runner/work/astromodels/astromodels/docs/notebooks/Log_uniform_prior.ipynb",
   "parameters": {
    "func_name": "Log_uniform_prior",
    "positive_prior": true
   },
   "start_time": "2025-10-01T20:54:35.441228",
   "version": "2.6.0"
  }
 },
 "nbformat": 4,
 "nbformat_minor": 5
}
