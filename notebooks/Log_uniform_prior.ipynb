{
 "cells": [
  {
   "cell_type": "markdown",
   "id": "07c93f2a",
   "metadata": {
    "papermill": {
     "duration": 0.001454,
     "end_time": "2025-10-02T02:20:41.228050",
     "exception": false,
     "start_time": "2025-10-02T02:20:41.226596",
     "status": "completed"
    },
    "tags": []
   },
   "source": [
    "# Log uniform prior"
   ]
  },
  {
   "cell_type": "code",
   "execution_count": 1,
   "id": "845e477f",
   "metadata": {
    "execution": {
     "iopub.execute_input": "2025-10-02T02:20:41.231557Z",
     "iopub.status.busy": "2025-10-02T02:20:41.231377Z",
     "iopub.status.idle": "2025-10-02T02:20:43.289379Z",
     "shell.execute_reply": "2025-10-02T02:20:43.288735Z"
    },
    "nbsphinx": "hidden",
    "papermill": {
     "duration": 2.06159,
     "end_time": "2025-10-02T02:20:43.291073",
     "exception": false,
     "start_time": "2025-10-02T02:20:41.229483",
     "status": "completed"
    },
    "tags": []
   },
   "outputs": [],
   "source": [
    "%%capture\n",
    "\n",
    "import numpy as np\n",
    "\n",
    "import matplotlib.pyplot as plt\n",
    "\n",
    "import warnings\n",
    "warnings.simplefilter(\"ignore\")\n",
    "\n",
    "from astromodels.functions.function import _known_functions\n",
    "\n",
    "\n",
    "from jupyterthemes import jtplot\n",
    "jtplot.style(context=\"talk\", fscale=1, ticks=True, grid=False)\n",
    "%matplotlib inline"
   ]
  },
  {
   "cell_type": "code",
   "execution_count": 2,
   "id": "5b9b1641",
   "metadata": {
    "execution": {
     "iopub.execute_input": "2025-10-02T02:20:43.294725Z",
     "iopub.status.busy": "2025-10-02T02:20:43.294286Z",
     "iopub.status.idle": "2025-10-02T02:20:43.302478Z",
     "shell.execute_reply": "2025-10-02T02:20:43.301952Z"
    },
    "nbsphinx": "hidden",
    "papermill": {
     "duration": 0.011361,
     "end_time": "2025-10-02T02:20:43.303832",
     "exception": false,
     "start_time": "2025-10-02T02:20:43.292471",
     "status": "completed"
    },
    "tags": [
     "parameters"
    ]
   },
   "outputs": [],
   "source": [
    "func_name = \"TbAbs\"\n",
    "\n",
    "positive_prior = False\n"
   ]
  },
  {
   "cell_type": "code",
   "execution_count": 3,
   "id": "8ae52470",
   "metadata": {
    "execution": {
     "iopub.execute_input": "2025-10-02T02:20:43.306755Z",
     "iopub.status.busy": "2025-10-02T02:20:43.306600Z",
     "iopub.status.idle": "2025-10-02T02:20:43.308505Z",
     "shell.execute_reply": "2025-10-02T02:20:43.308107Z"
    },
    "papermill": {
     "duration": 0.004621,
     "end_time": "2025-10-02T02:20:43.309712",
     "exception": false,
     "start_time": "2025-10-02T02:20:43.305091",
     "status": "completed"
    },
    "tags": [
     "injected-parameters"
    ]
   },
   "outputs": [],
   "source": [
    "# Parameters\n",
    "func_name = \"Log_uniform_prior\"\n",
    "positive_prior = True\n"
   ]
  },
  {
   "cell_type": "code",
   "execution_count": 4,
   "id": "e5c9d649",
   "metadata": {
    "execution": {
     "iopub.execute_input": "2025-10-02T02:20:43.312670Z",
     "iopub.status.busy": "2025-10-02T02:20:43.312527Z",
     "iopub.status.idle": "2025-10-02T02:20:43.315609Z",
     "shell.execute_reply": "2025-10-02T02:20:43.315210Z"
    },
    "lines_to_next_cell": 0,
    "nbsphinx": "hidden",
    "papermill": {
     "duration": 0.006073,
     "end_time": "2025-10-02T02:20:43.317013",
     "exception": false,
     "start_time": "2025-10-02T02:20:43.310940",
     "status": "completed"
    },
    "tags": []
   },
   "outputs": [],
   "source": [
    "func = _known_functions[func_name]()\n",
    "\n",
    "if not positive_prior:\n",
    "\n",
    "\tenergy_grid = np.linspace(-5,5,1000)\n",
    "\n",
    "else:\n",
    "    \n",
    "    energy_grid = np.linspace(0,1,1000)\n",
    "    \n",
    "    \n",
    "    \n",
    "    \n",
    "blue = \"#4152E3\"\n",
    "red = \"#E3414B\"\n",
    "green = \"#41E39E\""
   ]
  },
  {
   "cell_type": "markdown",
   "id": "ebf4e20d",
   "metadata": {
    "lines_to_next_cell": 0,
    "papermill": {
     "duration": 0.001182,
     "end_time": "2025-10-02T02:20:43.319431",
     "exception": false,
     "start_time": "2025-10-02T02:20:43.318249",
     "status": "completed"
    },
    "tags": []
   },
   "source": [
    "## Description"
   ]
  },
  {
   "cell_type": "code",
   "execution_count": 5,
   "id": "7159b2d6",
   "metadata": {
    "execution": {
     "iopub.execute_input": "2025-10-02T02:20:43.323040Z",
     "iopub.status.busy": "2025-10-02T02:20:43.322860Z",
     "iopub.status.idle": "2025-10-02T02:20:43.328103Z",
     "shell.execute_reply": "2025-10-02T02:20:43.327666Z"
    },
    "papermill": {
     "duration": 0.009039,
     "end_time": "2025-10-02T02:20:43.329584",
     "exception": false,
     "start_time": "2025-10-02T02:20:43.320545",
     "status": "completed"
    },
    "tags": []
   },
   "outputs": [
    {
     "data": {
      "text/html": [
       "<ul>\n",
       "\n",
       "<li>description: A function which is K/x on the interval lower_bound - upper_bound and 0 outside the interval. The extremes of the interval are NOT counted as part of the interval. Lower_bound must be >= 0.</li>\n",
       "\n",
       "<li>formula: $ f(x)=K~\\begin{cases}0 & x \\le \\text{lower_bound} \\\\\\frac{1}{x} & \\text{lower_bound} < x < \\text{upper_bound} \\\\ 0 & x \\ge \\text{upper_bound} \\end{cases}$</li>\n",
       "\n",
       "<li>parameters: \n",
       "<ul>\n",
       "\n",
       "<li>lower_bound: \n",
       "<ul>\n",
       "\n",
       "<li>value: 1e-20</li>\n",
       "\n",
       "<li>desc: Lower bound for the interval</li>\n",
       "\n",
       "<li>min_value: 1e-30</li>\n",
       "\n",
       "<li>max_value: inf</li>\n",
       "\n",
       "<li>unit: </li>\n",
       "\n",
       "<li>is_normalization: False</li>\n",
       "\n",
       "<li>delta: 1e-21</li>\n",
       "\n",
       "<li>free: True</li>\n",
       "\n",
       "</ul>\n",
       "\n",
       "</li>\n",
       "\n",
       "<li>upper_bound: \n",
       "<ul>\n",
       "\n",
       "<li>value: 100.0</li>\n",
       "\n",
       "<li>desc: Upper bound for the interval</li>\n",
       "\n",
       "<li>min_value: 1e-30</li>\n",
       "\n",
       "<li>max_value: inf</li>\n",
       "\n",
       "<li>unit: </li>\n",
       "\n",
       "<li>is_normalization: False</li>\n",
       "\n",
       "<li>delta: 10.0</li>\n",
       "\n",
       "<li>free: True</li>\n",
       "\n",
       "</ul>\n",
       "\n",
       "</li>\n",
       "\n",
       "<li>K: \n",
       "<ul>\n",
       "\n",
       "<li>value: 1.0</li>\n",
       "\n",
       "<li>desc: Normalization</li>\n",
       "\n",
       "<li>min_value: None</li>\n",
       "\n",
       "<li>max_value: None</li>\n",
       "\n",
       "<li>unit: </li>\n",
       "\n",
       "<li>is_normalization: False</li>\n",
       "\n",
       "<li>delta: 0.1</li>\n",
       "\n",
       "<li>free: False</li>\n",
       "\n",
       "</ul>\n",
       "\n",
       "</li>\n",
       "\n",
       "</ul>\n",
       "\n",
       "</li>\n",
       "\n",
       "</ul>\n"
      ],
      "text/plain": [
       "  * description: A function which is K/x on the interval lower_bound - upper_bound and\n",
       "    * 0 outside the interval. The extremes of the interval are NOT counted as part of\n",
       "    * the interval. Lower_bound must be >= 0.\n",
       "  * formula: $ f(x)=K~\\begin{cases}0 & x \\le \\text{lower_bound} \\\\\\frac{1}{x} & \\text{lower_bound}\n",
       "    * < x < \\text{upper_bound} \\\\ 0 & x \\ge \\text{upper_bound} \\end{cases}$\n",
       "  * parameters:\n",
       "    * lower_bound:\n",
       "      * value: 1.0e-20\n",
       "      * desc: Lower bound for the interval\n",
       "      * min_value: 1.0e-30\n",
       "      * max_value: .inf\n",
       "      * unit: ''\n",
       "      * is_normalization: false\n",
       "      * delta: 1.0e-21\n",
       "      * free: true\n",
       "    * upper_bound:\n",
       "      * value: 100.0\n",
       "      * desc: Upper bound for the interval\n",
       "      * min_value: 1.0e-30\n",
       "      * max_value: .inf\n",
       "      * unit: ''\n",
       "      * is_normalization: false\n",
       "      * delta: 10.0\n",
       "      * free: true\n",
       "    * K:\n",
       "      * value: 1.0\n",
       "      * desc: Normalization\n",
       "      * min_value: null\n",
       "      * max_value: null\n",
       "      * unit: ''\n",
       "      * is_normalization: false\n",
       "      * delta: 0.1\n",
       "      * free: false"
      ]
     },
     "metadata": {},
     "output_type": "display_data"
    }
   ],
   "source": [
    "func.display()"
   ]
  },
  {
   "cell_type": "markdown",
   "id": "ebd8aec2",
   "metadata": {
    "papermill": {
     "duration": 0.001248,
     "end_time": "2025-10-02T02:20:43.332273",
     "exception": false,
     "start_time": "2025-10-02T02:20:43.331025",
     "status": "completed"
    },
    "tags": []
   },
   "source": [
    "## Shape \n",
    "\n",
    "The shape of the function. \n",
    "\n",
    "*If this is not a photon model but a prior or linear function then ignore the units as these docs are auto-generated*"
   ]
  },
  {
   "cell_type": "code",
   "execution_count": 6,
   "id": "5baf5eaa",
   "metadata": {
    "execution": {
     "iopub.execute_input": "2025-10-02T02:20:43.335525Z",
     "iopub.status.busy": "2025-10-02T02:20:43.335346Z",
     "iopub.status.idle": "2025-10-02T02:20:43.440152Z",
     "shell.execute_reply": "2025-10-02T02:20:43.439731Z"
    },
    "papermill": {
     "duration": 0.107805,
     "end_time": "2025-10-02T02:20:43.441307",
     "exception": false,
     "start_time": "2025-10-02T02:20:43.333502",
     "status": "completed"
    },
    "tags": [
     "nbsphinx-thumbnail"
    ]
   },
   "outputs": [
    {
     "data": {
      "text/plain": [
       "Text(0, 0.5, 'probability')"
      ]
     },
     "execution_count": 6,
     "metadata": {},
     "output_type": "execute_result"
    },
    {
     "data": {
      "image/png": "[encoded data removed]",
      "text/plain": [
       "<Figure size 1040x910 with 1 Axes>"
      ]
     },
     "metadata": {},
     "output_type": "display_data"
    }
   ],
   "source": [
    "fig, ax = plt.subplots()\n",
    "\n",
    "\n",
    "ax.plot(energy_grid, func(energy_grid), color=blue, lw=3)\n",
    "\n",
    "ax.set_xlabel(\"x\")\n",
    "ax.set_ylabel(\"probability\")\n"
   ]
  },
  {
   "cell_type": "markdown",
   "id": "8f884e6c",
   "metadata": {
    "papermill": {
     "duration": 0.001444,
     "end_time": "2025-10-02T02:20:43.444510",
     "exception": false,
     "start_time": "2025-10-02T02:20:43.443066",
     "status": "completed"
    },
    "tags": []
   },
   "source": [
    "## Random Number Generation\n",
    "\n",
    "This is how we can generate random numbers from the prior.\n"
   ]
  },
  {
   "cell_type": "code",
   "execution_count": 7,
   "id": "a02df22f",
   "metadata": {
    "execution": {
     "iopub.execute_input": "2025-10-02T02:20:43.448165Z",
     "iopub.status.busy": "2025-10-02T02:20:43.447992Z",
     "iopub.status.idle": "2025-10-02T02:20:43.595179Z",
     "shell.execute_reply": "2025-10-02T02:20:43.594675Z"
    },
    "papermill": {
     "duration": 0.150449,
     "end_time": "2025-10-02T02:20:43.596401",
     "exception": false,
     "start_time": "2025-10-02T02:20:43.445952",
     "status": "completed"
    },
    "tags": []
   },
   "outputs": [
    {
     "data": {
      "text/plain": [
       "Text(0, 0.5, 'N')"
      ]
     },
     "execution_count": 7,
     "metadata": {},
     "output_type": "execute_result"
    },
    {
     "data": {
      "image/png": "[encoded data removed]",
      "text/plain": [
       "<Figure size 1040x910 with 1 Axes>"
      ]
     },
     "metadata": {},
     "output_type": "display_data"
    }
   ],
   "source": [
    "\n",
    "\n",
    "u = np.random.uniform(0,1, size=5000)\n",
    "\n",
    "draws = [func.from_unit_cube(x) for x in u]\n",
    "\n",
    "\n",
    "fig, ax = plt.subplots()\n",
    "\n",
    "\n",
    "ax.hist(draws, color=green, bins=50)\n",
    "\n",
    "ax.set_xlabel(\"value\")\n",
    "ax.set_ylabel(\"N\")\n",
    "\n"
   ]
  }
 ],
 "metadata": {
  "jupytext": {
   "formats": "ipynb,md"
  },
  "kernelspec": {
   "display_name": "Python 3 (ipykernel)",
   "language": "python",
   "name": "python3"
  },
  "language_info": {
   "codemirror_mode": {
    "name": "ipython",
    "version": 3
   },
   "file_extension": ".py",
   "mimetype": "text/x-python",
   "name": "python",
   "nbconvert_exporter": "python",
   "pygments_lexer": "ipython3",
   "version": "3.9.13"
  },
  "papermill": {
   "default_parameters": {},
   "duration": 3.363466,
   "end_time": "2025-10-02T02:20:44.022419",
   "environment_variables": {},
   "exception": null,
   "input_path": "Log_uniform_prior.ipynb",
   "output_path": "/Users/runner/work/astromodels/astromodels/docs/notebooks/Log_uniform_prior.ipynb",
   "parameters": {
    "func_name": "Log_uniform_prior",
    "positive_prior": true
   },
   "start_time": "2025-10-02T02:20:40.658953",
   "version": "2.6.0"
  }
 },
 "nbformat": 4,
 "nbformat_minor": 5
}
