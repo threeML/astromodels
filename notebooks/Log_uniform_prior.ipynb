{
 "cells": [
  {
   "cell_type": "markdown",
   "id": "50821f53",
   "metadata": {
    "papermill": {
     "duration": 0.001565,
     "end_time": "2025-09-27T00:39:54.542121",
     "exception": false,
     "start_time": "2025-09-27T00:39:54.540556",
     "status": "completed"
    },
    "tags": []
   },
   "source": [
    "# Log uniform prior"
   ]
  },
  {
   "cell_type": "code",
   "execution_count": 1,
   "id": "1ffb1ed4",
   "metadata": {
    "execution": {
     "iopub.execute_input": "2025-09-27T00:39:54.545465Z",
     "iopub.status.busy": "2025-09-27T00:39:54.545270Z",
     "iopub.status.idle": "2025-09-27T00:39:56.516914Z",
     "shell.execute_reply": "2025-09-27T00:39:56.516262Z"
    },
    "nbsphinx": "hidden",
    "papermill": {
     "duration": 1.975052,
     "end_time": "2025-09-27T00:39:56.518411",
     "exception": false,
     "start_time": "2025-09-27T00:39:54.543359",
     "status": "completed"
    },
    "tags": []
   },
   "outputs": [],
   "source": [
    "%%capture\n",
    "\n",
    "import numpy as np\n",
    "\n",
    "import matplotlib.pyplot as plt\n",
    "\n",
    "import warnings\n",
    "warnings.simplefilter(\"ignore\")\n",
    "\n",
    "from astromodels.functions.function import _known_functions\n",
    "\n",
    "\n",
    "from jupyterthemes import jtplot\n",
    "jtplot.style(context=\"talk\", fscale=1, ticks=True, grid=False)\n",
    "%matplotlib inline"
   ]
  },
  {
   "cell_type": "code",
   "execution_count": 2,
   "id": "dd7128d1",
   "metadata": {
    "execution": {
     "iopub.execute_input": "2025-09-27T00:39:56.522404Z",
     "iopub.status.busy": "2025-09-27T00:39:56.521928Z",
     "iopub.status.idle": "2025-09-27T00:39:56.524702Z",
     "shell.execute_reply": "2025-09-27T00:39:56.524290Z"
    },
    "nbsphinx": "hidden",
    "papermill": {
     "duration": 0.006155,
     "end_time": "2025-09-27T00:39:56.525932",
     "exception": false,
     "start_time": "2025-09-27T00:39:56.519777",
     "status": "completed"
    },
    "tags": [
     "parameters"
    ]
   },
   "outputs": [],
   "source": [
    "func_name = \"TbAbs\"\n",
    "\n",
    "positive_prior = False\n"
   ]
  },
  {
   "cell_type": "code",
   "execution_count": 3,
   "id": "ace3dcf2",
   "metadata": {
    "execution": {
     "iopub.execute_input": "2025-09-27T00:39:56.528878Z",
     "iopub.status.busy": "2025-09-27T00:39:56.528714Z",
     "iopub.status.idle": "2025-09-27T00:39:56.535658Z",
     "shell.execute_reply": "2025-09-27T00:39:56.534967Z"
    },
    "papermill": {
     "duration": 0.009943,
     "end_time": "2025-09-27T00:39:56.537124",
     "exception": false,
     "start_time": "2025-09-27T00:39:56.527181",
     "status": "completed"
    },
    "tags": [
     "injected-parameters"
    ]
   },
   "outputs": [],
   "source": [
    "# Parameters\n",
    "func_name = \"Log_uniform_prior\"\n",
    "positive_prior = True\n"
   ]
  },
  {
   "cell_type": "code",
   "execution_count": 4,
   "id": "5287f559",
   "metadata": {
    "execution": {
     "iopub.execute_input": "2025-09-27T00:39:56.540149Z",
     "iopub.status.busy": "2025-09-27T00:39:56.539980Z",
     "iopub.status.idle": "2025-09-27T00:39:56.543041Z",
     "shell.execute_reply": "2025-09-27T00:39:56.542552Z"
    },
    "lines_to_next_cell": 0,
    "nbsphinx": "hidden",
    "papermill": {
     "duration": 0.005765,
     "end_time": "2025-09-27T00:39:56.544143",
     "exception": false,
     "start_time": "2025-09-27T00:39:56.538378",
     "status": "completed"
    },
    "tags": []
   },
   "outputs": [],
   "source": [
    "func = _known_functions[func_name]()\n",
    "\n",
    "if not positive_prior:\n",
    "\n",
    "\tenergy_grid = np.linspace(-5,5,1000)\n",
    "\n",
    "else:\n",
    "    \n",
    "    energy_grid = np.linspace(0,1,1000)\n",
    "    \n",
    "    \n",
    "    \n",
    "    \n",
    "blue = \"#4152E3\"\n",
    "red = \"#E3414B\"\n",
    "green = \"#41E39E\""
   ]
  },
  {
   "cell_type": "markdown",
   "id": "541160ec",
   "metadata": {
    "lines_to_next_cell": 0,
    "papermill": {
     "duration": 0.001021,
     "end_time": "2025-09-27T00:39:56.546333",
     "exception": false,
     "start_time": "2025-09-27T00:39:56.545312",
     "status": "completed"
    },
    "tags": []
   },
   "source": [
    "## Description"
   ]
  },
  {
   "cell_type": "code",
   "execution_count": 5,
   "id": "51151fe3",
   "metadata": {
    "execution": {
     "iopub.execute_input": "2025-09-27T00:39:56.549711Z",
     "iopub.status.busy": "2025-09-27T00:39:56.549490Z",
     "iopub.status.idle": "2025-09-27T00:39:56.554917Z",
     "shell.execute_reply": "2025-09-27T00:39:56.554543Z"
    },
    "papermill": {
     "duration": 0.008806,
     "end_time": "2025-09-27T00:39:56.556139",
     "exception": false,
     "start_time": "2025-09-27T00:39:56.547333",
     "status": "completed"
    },
    "tags": []
   },
   "outputs": [
    {
     "data": {
      "text/html": [
       "<ul>\n",
       "\n",
       "<li>description: A function which is K/x on the interval lower_bound - upper_bound and 0 outside the interval. The extremes of the interval are NOT counted as part of the interval. Lower_bound must be >= 0.</li>\n",
       "\n",
       "<li>formula: $ f(x)=K~\\begin{cases}0 & x \\le \\text{lower_bound} \\\\\\frac{1}{x} & \\text{lower_bound} < x < \\text{upper_bound} \\\\ 0 & x \\ge \\text{upper_bound} \\end{cases}$</li>\n",
       "\n",
       "<li>parameters: \n",
       "<ul>\n",
       "\n",
       "<li>lower_bound: \n",
       "<ul>\n",
       "\n",
       "<li>value: 1e-20</li>\n",
       "\n",
       "<li>desc: Lower bound for the interval</li>\n",
       "\n",
       "<li>min_value: 1e-30</li>\n",
       "\n",
       "<li>max_value: inf</li>\n",
       "\n",
       "<li>unit: </li>\n",
       "\n",
       "<li>is_normalization: False</li>\n",
       "\n",
       "<li>delta: 1e-21</li>\n",
       "\n",
       "<li>free: True</li>\n",
       "\n",
       "</ul>\n",
       "\n",
       "</li>\n",
       "\n",
       "<li>upper_bound: \n",
       "<ul>\n",
       "\n",
       "<li>value: 100.0</li>\n",
       "\n",
       "<li>desc: Upper bound for the interval</li>\n",
       "\n",
       "<li>min_value: 1e-30</li>\n",
       "\n",
       "<li>max_value: inf</li>\n",
       "\n",
       "<li>unit: </li>\n",
       "\n",
       "<li>is_normalization: False</li>\n",
       "\n",
       "<li>delta: 10.0</li>\n",
       "\n",
       "<li>free: True</li>\n",
       "\n",
       "</ul>\n",
       "\n",
       "</li>\n",
       "\n",
       "<li>K: \n",
       "<ul>\n",
       "\n",
       "<li>value: 1.0</li>\n",
       "\n",
       "<li>desc: Normalization</li>\n",
       "\n",
       "<li>min_value: None</li>\n",
       "\n",
       "<li>max_value: None</li>\n",
       "\n",
       "<li>unit: </li>\n",
       "\n",
       "<li>is_normalization: False</li>\n",
       "\n",
       "<li>delta: 0.1</li>\n",
       "\n",
       "<li>free: False</li>\n",
       "\n",
       "</ul>\n",
       "\n",
       "</li>\n",
       "\n",
       "</ul>\n",
       "\n",
       "</li>\n",
       "\n",
       "</ul>\n"
      ],
      "text/plain": [
       "  * description: A function which is K/x on the interval lower_bound - upper_bound and\n",
       "    * 0 outside the interval. The extremes of the interval are NOT counted as part of\n",
       "    * the interval. Lower_bound must be >= 0.\n",
       "  * formula: $ f(x)=K~\\begin{cases}0 & x \\le \\text{lower_bound} \\\\\\frac{1}{x} & \\text{lower_bound}\n",
       "    * < x < \\text{upper_bound} \\\\ 0 & x \\ge \\text{upper_bound} \\end{cases}$\n",
       "  * parameters:\n",
       "    * lower_bound:\n",
       "      * value: 1.0e-20\n",
       "      * desc: Lower bound for the interval\n",
       "      * min_value: 1.0e-30\n",
       "      * max_value: .inf\n",
       "      * unit: ''\n",
       "      * is_normalization: false\n",
       "      * delta: 1.0e-21\n",
       "      * free: true\n",
       "    * upper_bound:\n",
       "      * value: 100.0\n",
       "      * desc: Upper bound for the interval\n",
       "      * min_value: 1.0e-30\n",
       "      * max_value: .inf\n",
       "      * unit: ''\n",
       "      * is_normalization: false\n",
       "      * delta: 10.0\n",
       "      * free: true\n",
       "    * K:\n",
       "      * value: 1.0\n",
       "      * desc: Normalization\n",
       "      * min_value: null\n",
       "      * max_value: null\n",
       "      * unit: ''\n",
       "      * is_normalization: false\n",
       "      * delta: 0.1\n",
       "      * free: false"
      ]
     },
     "metadata": {},
     "output_type": "display_data"
    }
   ],
   "source": [
    "func.display()"
   ]
  },
  {
   "cell_type": "markdown",
   "id": "31edb3ce",
   "metadata": {
    "papermill": {
     "duration": 0.001576,
     "end_time": "2025-09-27T00:39:56.559543",
     "exception": false,
     "start_time": "2025-09-27T00:39:56.557967",
     "status": "completed"
    },
    "tags": []
   },
   "source": [
    "## Shape \n",
    "\n",
    "The shape of the function. \n",
    "\n",
    "*If this is not a photon model but a prior or linear function then ignore the units as these docs are auto-generated*"
   ]
  },
  {
   "cell_type": "code",
   "execution_count": 6,
   "id": "833f12df",
   "metadata": {
    "execution": {
     "iopub.execute_input": "2025-09-27T00:39:56.562852Z",
     "iopub.status.busy": "2025-09-27T00:39:56.562677Z",
     "iopub.status.idle": "2025-09-27T00:39:56.671941Z",
     "shell.execute_reply": "2025-09-27T00:39:56.669573Z"
    },
    "papermill": {
     "duration": 0.144924,
     "end_time": "2025-09-27T00:39:56.705751",
     "exception": false,
     "start_time": "2025-09-27T00:39:56.560827",
     "status": "completed"
    },
    "tags": [
     "nbsphinx-thumbnail"
    ]
   },
   "outputs": [
    {
     "data": {
      "text/plain": [
       "Text(0, 0.5, 'probability')"
      ]
     },
     "execution_count": 6,
     "metadata": {},
     "output_type": "execute_result"
    },
    {
     "data": {
      "image/png": "[encoded data removed]",
      "text/plain": [
       "<Figure size 1040x910 with 1 Axes>"
      ]
     },
     "metadata": {},
     "output_type": "display_data"
    }
   ],
   "source": [
    "fig, ax = plt.subplots()\n",
    "\n",
    "\n",
    "ax.plot(energy_grid, func(energy_grid), color=blue, lw=3)\n",
    "\n",
    "ax.set_xlabel(\"x\")\n",
    "ax.set_ylabel(\"probability\")\n"
   ]
  },
  {
   "cell_type": "markdown",
   "id": "bdf5527e",
   "metadata": {
    "papermill": {
     "duration": 0.001826,
     "end_time": "2025-09-27T00:39:56.709368",
     "exception": false,
     "start_time": "2025-09-27T00:39:56.707542",
     "status": "completed"
    },
    "tags": []
   },
   "source": [
    "## Random Number Generation\n",
    "\n",
    "This is how we can generate random numbers from the prior.\n"
   ]
  },
  {
   "cell_type": "code",
   "execution_count": 7,
   "id": "2ede04d4",
   "metadata": {
    "execution": {
     "iopub.execute_input": "2025-09-27T00:39:56.721892Z",
     "iopub.status.busy": "2025-09-27T00:39:56.720348Z",
     "iopub.status.idle": "2025-09-27T00:39:56.870849Z",
     "shell.execute_reply": "2025-09-27T00:39:56.869447Z"
    },
    "papermill": {
     "duration": 0.174245,
     "end_time": "2025-09-27T00:39:56.885782",
     "exception": false,
     "start_time": "2025-09-27T00:39:56.711537",
     "status": "completed"
    },
    "tags": []
   },
   "outputs": [
    {
     "data": {
      "text/plain": [
       "Text(0, 0.5, 'N')"
      ]
     },
     "execution_count": 7,
     "metadata": {},
     "output_type": "execute_result"
    },
    {
     "data": {
      "image/png": "[encoded data removed]",
      "text/plain": [
       "<Figure size 1040x910 with 1 Axes>"
      ]
     },
     "metadata": {},
     "output_type": "display_data"
    }
   ],
   "source": [
    "\n",
    "\n",
    "u = np.random.uniform(0,1, size=5000)\n",
    "\n",
    "draws = [func.from_unit_cube(x) for x in u]\n",
    "\n",
    "\n",
    "fig, ax = plt.subplots()\n",
    "\n",
    "\n",
    "ax.hist(draws, color=green, bins=50)\n",
    "\n",
    "ax.set_xlabel(\"value\")\n",
    "ax.set_ylabel(\"N\")\n",
    "\n"
   ]
  }
 ],
 "metadata": {
  "jupytext": {
   "formats": "ipynb,md"
  },
  "kernelspec": {
   "display_name": "Python 3 (ipykernel)",
   "language": "python",
   "name": "python3"
  },
  "language_info": {
   "codemirror_mode": {
    "name": "ipython",
    "version": 3
   },
   "file_extension": ".py",
   "mimetype": "text/x-python",
   "name": "python",
   "nbconvert_exporter": "python",
   "pygments_lexer": "ipython3",
   "version": "3.9.13"
  },
  "papermill": {
   "default_parameters": {},
   "duration": 3.355198,
   "end_time": "2025-09-27T00:39:57.315242",
   "environment_variables": {},
   "exception": null,
   "input_path": "Log_uniform_prior.ipynb",
   "output_path": "/Users/runner/work/astromodels/astromodels/docs/notebooks/Log_uniform_prior.ipynb",
   "parameters": {
    "func_name": "Log_uniform_prior",
    "positive_prior": true
   },
   "start_time": "2025-09-27T00:39:53.960044",
   "version": "2.6.0"
  }
 },
 "nbformat": 4,
 "nbformat_minor": 5
}
