{
 "cells": [
  {
   "cell_type": "markdown",
   "id": "9986c9c7",
   "metadata": {
    "papermill": {
     "duration": 0.006274,
     "end_time": "2025-10-02T21:52:11.496910",
     "exception": false,
     "start_time": "2025-10-02T21:52:11.490636",
     "status": "completed"
    },
    "tags": []
   },
   "source": [
    "# Log uniform prior"
   ]
  },
  {
   "cell_type": "code",
   "execution_count": 1,
   "id": "b02d8eec",
   "metadata": {
    "execution": {
     "iopub.execute_input": "2025-10-02T21:52:11.511054Z",
     "iopub.status.busy": "2025-10-02T21:52:11.510604Z",
     "iopub.status.idle": "2025-10-02T21:52:13.470505Z",
     "shell.execute_reply": "2025-10-02T21:52:13.469900Z"
    },
    "nbsphinx": "hidden",
    "papermill": {
     "duration": 1.968589,
     "end_time": "2025-10-02T21:52:13.471985",
     "exception": false,
     "start_time": "2025-10-02T21:52:11.503396",
     "status": "completed"
    },
    "tags": []
   },
   "outputs": [],
   "source": [
    "%%capture\n",
    "\n",
    "import numpy as np\n",
    "\n",
    "import matplotlib.pyplot as plt\n",
    "\n",
    "import warnings\n",
    "warnings.simplefilter(\"ignore\")\n",
    "\n",
    "from astromodels.functions.function import _known_functions\n",
    "\n",
    "\n",
    "from jupyterthemes import jtplot\n",
    "jtplot.style(context=\"talk\", fscale=1, ticks=True, grid=False)\n",
    "%matplotlib inline"
   ]
  },
  {
   "cell_type": "code",
   "execution_count": 2,
   "id": "90ac80af",
   "metadata": {
    "execution": {
     "iopub.execute_input": "2025-10-02T21:52:13.475486Z",
     "iopub.status.busy": "2025-10-02T21:52:13.475024Z",
     "iopub.status.idle": "2025-10-02T21:52:13.481726Z",
     "shell.execute_reply": "2025-10-02T21:52:13.481162Z"
    },
    "nbsphinx": "hidden",
    "papermill": {
     "duration": 0.009762,
     "end_time": "2025-10-02T21:52:13.483095",
     "exception": false,
     "start_time": "2025-10-02T21:52:13.473333",
     "status": "completed"
    },
    "tags": [
     "parameters"
    ]
   },
   "outputs": [],
   "source": [
    "func_name = \"TbAbs\"\n",
    "\n",
    "positive_prior = False\n"
   ]
  },
  {
   "cell_type": "code",
   "execution_count": 3,
   "id": "dcf0dd97",
   "metadata": {
    "execution": {
     "iopub.execute_input": "2025-10-02T21:52:13.486347Z",
     "iopub.status.busy": "2025-10-02T21:52:13.486154Z",
     "iopub.status.idle": "2025-10-02T21:52:13.494526Z",
     "shell.execute_reply": "2025-10-02T21:52:13.493868Z"
    },
    "papermill": {
     "duration": 0.011575,
     "end_time": "2025-10-02T21:52:13.495975",
     "exception": false,
     "start_time": "2025-10-02T21:52:13.484400",
     "status": "completed"
    },
    "tags": [
     "injected-parameters"
    ]
   },
   "outputs": [],
   "source": [
    "# Parameters\n",
    "func_name = \"Log_uniform_prior\"\n",
    "positive_prior = True\n"
   ]
  },
  {
   "cell_type": "code",
   "execution_count": 4,
   "id": "27926b57",
   "metadata": {
    "execution": {
     "iopub.execute_input": "2025-10-02T21:52:13.499216Z",
     "iopub.status.busy": "2025-10-02T21:52:13.499028Z",
     "iopub.status.idle": "2025-10-02T21:52:13.502151Z",
     "shell.execute_reply": "2025-10-02T21:52:13.501707Z"
    },
    "lines_to_next_cell": 0,
    "nbsphinx": "hidden",
    "papermill": {
     "duration": 0.006017,
     "end_time": "2025-10-02T21:52:13.503350",
     "exception": false,
     "start_time": "2025-10-02T21:52:13.497333",
     "status": "completed"
    },
    "tags": []
   },
   "outputs": [],
   "source": [
    "func = _known_functions[func_name]()\n",
    "\n",
    "if not positive_prior:\n",
    "\n",
    "\tenergy_grid = np.linspace(-5,5,1000)\n",
    "\n",
    "else:\n",
    "    \n",
    "    energy_grid = np.linspace(0,1,1000)\n",
    "    \n",
    "    \n",
    "    \n",
    "    \n",
    "blue = \"#4152E3\"\n",
    "red = \"#E3414B\"\n",
    "green = \"#41E39E\""
   ]
  },
  {
   "cell_type": "markdown",
   "id": "75037dc2",
   "metadata": {
    "lines_to_next_cell": 0,
    "papermill": {
     "duration": 0.001054,
     "end_time": "2025-10-02T21:52:13.505624",
     "exception": false,
     "start_time": "2025-10-02T21:52:13.504570",
     "status": "completed"
    },
    "tags": []
   },
   "source": [
    "## Description"
   ]
  },
  {
   "cell_type": "code",
   "execution_count": 5,
   "id": "31c3e052",
   "metadata": {
    "execution": {
     "iopub.execute_input": "2025-10-02T21:52:13.508858Z",
     "iopub.status.busy": "2025-10-02T21:52:13.508709Z",
     "iopub.status.idle": "2025-10-02T21:52:13.517499Z",
     "shell.execute_reply": "2025-10-02T21:52:13.516976Z"
    },
    "papermill": {
     "duration": 0.012028,
     "end_time": "2025-10-02T21:52:13.518654",
     "exception": false,
     "start_time": "2025-10-02T21:52:13.506626",
     "status": "completed"
    },
    "tags": []
   },
   "outputs": [
    {
     "data": {
      "text/html": [
       "<ul>\n",
       "\n",
       "<li>description: A function which is K/x on the interval lower_bound - upper_bound and 0 outside the interval. The extremes of the interval are NOT counted as part of the interval. Lower_bound must be >= 0.</li>\n",
       "\n",
       "<li>formula: $ f(x)=K~\\begin{cases}0 & x \\le \\text{lower_bound} \\\\\\frac{1}{x} & \\text{lower_bound} < x < \\text{upper_bound} \\\\ 0 & x \\ge \\text{upper_bound} \\end{cases}$</li>\n",
       "\n",
       "<li>parameters: \n",
       "<ul>\n",
       "\n",
       "<li>lower_bound: \n",
       "<ul>\n",
       "\n",
       "<li>value: 1e-20</li>\n",
       "\n",
       "<li>desc: Lower bound for the interval</li>\n",
       "\n",
       "<li>min_value: 1e-30</li>\n",
       "\n",
       "<li>max_value: inf</li>\n",
       "\n",
       "<li>unit: </li>\n",
       "\n",
       "<li>is_normalization: False</li>\n",
       "\n",
       "<li>delta: 1e-21</li>\n",
       "\n",
       "<li>free: True</li>\n",
       "\n",
       "</ul>\n",
       "\n",
       "</li>\n",
       "\n",
       "<li>upper_bound: \n",
       "<ul>\n",
       "\n",
       "<li>value: 100.0</li>\n",
       "\n",
       "<li>desc: Upper bound for the interval</li>\n",
       "\n",
       "<li>min_value: 1e-30</li>\n",
       "\n",
       "<li>max_value: inf</li>\n",
       "\n",
       "<li>unit: </li>\n",
       "\n",
       "<li>is_normalization: False</li>\n",
       "\n",
       "<li>delta: 10.0</li>\n",
       "\n",
       "<li>free: True</li>\n",
       "\n",
       "</ul>\n",
       "\n",
       "</li>\n",
       "\n",
       "<li>K: \n",
       "<ul>\n",
       "\n",
       "<li>value: 1.0</li>\n",
       "\n",
       "<li>desc: Normalization</li>\n",
       "\n",
       "<li>min_value: None</li>\n",
       "\n",
       "<li>max_value: None</li>\n",
       "\n",
       "<li>unit: </li>\n",
       "\n",
       "<li>is_normalization: False</li>\n",
       "\n",
       "<li>delta: 0.1</li>\n",
       "\n",
       "<li>free: False</li>\n",
       "\n",
       "</ul>\n",
       "\n",
       "</li>\n",
       "\n",
       "</ul>\n",
       "\n",
       "</li>\n",
       "\n",
       "</ul>\n"
      ],
      "text/plain": [
       "  * description: A function which is K/x on the interval lower_bound - upper_bound and\n",
       "    * 0 outside the interval. The extremes of the interval are NOT counted as part of\n",
       "    * the interval. Lower_bound must be >= 0.\n",
       "  * formula: $ f(x)=K~\\begin{cases}0 & x \\le \\text{lower_bound} \\\\\\frac{1}{x} & \\text{lower_bound}\n",
       "    * < x < \\text{upper_bound} \\\\ 0 & x \\ge \\text{upper_bound} \\end{cases}$\n",
       "  * parameters:\n",
       "    * lower_bound:\n",
       "      * value: 1.0e-20\n",
       "      * desc: Lower bound for the interval\n",
       "      * min_value: 1.0e-30\n",
       "      * max_value: .inf\n",
       "      * unit: ''\n",
       "      * is_normalization: false\n",
       "      * delta: 1.0e-21\n",
       "      * free: true\n",
       "    * upper_bound:\n",
       "      * value: 100.0\n",
       "      * desc: Upper bound for the interval\n",
       "      * min_value: 1.0e-30\n",
       "      * max_value: .inf\n",
       "      * unit: ''\n",
       "      * is_normalization: false\n",
       "      * delta: 10.0\n",
       "      * free: true\n",
       "    * K:\n",
       "      * value: 1.0\n",
       "      * desc: Normalization\n",
       "      * min_value: null\n",
       "      * max_value: null\n",
       "      * unit: ''\n",
       "      * is_normalization: false\n",
       "      * delta: 0.1\n",
       "      * free: false"
      ]
     },
     "metadata": {},
     "output_type": "display_data"
    }
   ],
   "source": [
    "func.display()"
   ]
  },
  {
   "cell_type": "markdown",
   "id": "6684eb5c",
   "metadata": {
    "papermill": {
     "duration": 0.001165,
     "end_time": "2025-10-02T21:52:13.521249",
     "exception": false,
     "start_time": "2025-10-02T21:52:13.520084",
     "status": "completed"
    },
    "tags": []
   },
   "source": [
    "## Shape \n",
    "\n",
    "The shape of the function. \n",
    "\n",
    "*If this is not a photon model but a prior or linear function then ignore the units as these docs are auto-generated*"
   ]
  },
  {
   "cell_type": "code",
   "execution_count": 6,
   "id": "02a039fc",
   "metadata": {
    "execution": {
     "iopub.execute_input": "2025-10-02T21:52:13.524332Z",
     "iopub.status.busy": "2025-10-02T21:52:13.524134Z",
     "iopub.status.idle": "2025-10-02T21:52:13.621202Z",
     "shell.execute_reply": "2025-10-02T21:52:13.619881Z"
    },
    "papermill": {
     "duration": 0.100996,
     "end_time": "2025-10-02T21:52:13.623348",
     "exception": false,
     "start_time": "2025-10-02T21:52:13.522352",
     "status": "completed"
    },
    "tags": [
     "nbsphinx-thumbnail"
    ]
   },
   "outputs": [
    {
     "data": {
      "text/plain": [
       "Text(0, 0.5, 'probability')"
      ]
     },
     "execution_count": 6,
     "metadata": {},
     "output_type": "execute_result"
    },
    {
     "data": {
      "image/png": "[encoded data removed]",
      "text/plain": [
       "<Figure size 1040x910 with 1 Axes>"
      ]
     },
     "metadata": {},
     "output_type": "display_data"
    }
   ],
   "source": [
    "fig, ax = plt.subplots()\n",
    "\n",
    "\n",
    "ax.plot(energy_grid, func(energy_grid), color=blue, lw=3)\n",
    "\n",
    "ax.set_xlabel(\"x\")\n",
    "ax.set_ylabel(\"probability\")\n"
   ]
  },
  {
   "cell_type": "markdown",
   "id": "7fae3e28",
   "metadata": {
    "papermill": {
     "duration": 0.001604,
     "end_time": "2025-10-02T21:52:13.628167",
     "exception": false,
     "start_time": "2025-10-02T21:52:13.626563",
     "status": "completed"
    },
    "tags": []
   },
   "source": [
    "## Random Number Generation\n",
    "\n",
    "This is how we can generate random numbers from the prior.\n"
   ]
  },
  {
   "cell_type": "code",
   "execution_count": 7,
   "id": "3885424f",
   "metadata": {
    "execution": {
     "iopub.execute_input": "2025-10-02T21:52:13.633233Z",
     "iopub.status.busy": "2025-10-02T21:52:13.632962Z",
     "iopub.status.idle": "2025-10-02T21:52:13.741265Z",
     "shell.execute_reply": "2025-10-02T21:52:13.740903Z"
    },
    "papermill": {
     "duration": 0.111947,
     "end_time": "2025-10-02T21:52:13.742503",
     "exception": false,
     "start_time": "2025-10-02T21:52:13.630556",
     "status": "completed"
    },
    "tags": []
   },
   "outputs": [
    {
     "data": {
      "text/plain": [
       "Text(0, 0.5, 'N')"
      ]
     },
     "execution_count": 7,
     "metadata": {},
     "output_type": "execute_result"
    },
    {
     "data": {
      "image/png": "[encoded data removed]",
      "text/plain": [
       "<Figure size 1040x910 with 1 Axes>"
      ]
     },
     "metadata": {},
     "output_type": "display_data"
    }
   ],
   "source": [
    "\n",
    "\n",
    "u = np.random.uniform(0,1, size=5000)\n",
    "\n",
    "draws = [func.from_unit_cube(x) for x in u]\n",
    "\n",
    "\n",
    "fig, ax = plt.subplots()\n",
    "\n",
    "\n",
    "ax.hist(draws, color=green, bins=50)\n",
    "\n",
    "ax.set_xlabel(\"value\")\n",
    "ax.set_ylabel(\"N\")\n",
    "\n"
   ]
  }
 ],
 "metadata": {
  "jupytext": {
   "formats": "ipynb,md"
  },
  "kernelspec": {
   "display_name": "Python 3 (ipykernel)",
   "language": "python",
   "name": "python3"
  },
  "language_info": {
   "codemirror_mode": {
    "name": "ipython",
    "version": 3
   },
   "file_extension": ".py",
   "mimetype": "text/x-python",
   "name": "python",
   "nbconvert_exporter": "python",
   "pygments_lexer": "ipython3",
   "version": "3.9.13"
  },
  "papermill": {
   "default_parameters": {},
   "duration": 6.363466,
   "end_time": "2025-10-02T21:52:17.117147",
   "environment_variables": {},
   "exception": null,
   "input_path": "Log_uniform_prior.ipynb",
   "output_path": "/Users/runner/work/astromodels/astromodels/docs/notebooks/Log_uniform_prior.ipynb",
   "parameters": {
    "func_name": "Log_uniform_prior",
    "positive_prior": true
   },
   "start_time": "2025-10-02T21:52:10.753681",
   "version": "2.6.0"
  }
 },
 "nbformat": 4,
 "nbformat_minor": 5
}
