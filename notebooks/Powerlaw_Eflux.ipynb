{
 "cells": [
  {
   "cell_type": "markdown",
   "id": "ae560b02",
   "metadata": {
    "papermill": {
     "duration": 0.003667,
     "end_time": "2025-10-01T22:35:19.040147",
     "exception": false,
     "start_time": "2025-10-01T22:35:19.036480",
     "status": "completed"
    },
    "tags": []
   },
   "source": [
    "# Powerlaw Eflux"
   ]
  },
  {
   "cell_type": "code",
   "execution_count": 1,
   "id": "d8053662",
   "metadata": {
    "execution": {
     "iopub.execute_input": "2025-10-01T22:35:19.045752Z",
     "iopub.status.busy": "2025-10-01T22:35:19.045539Z",
     "iopub.status.idle": "2025-10-01T22:35:21.813025Z",
     "shell.execute_reply": "2025-10-01T22:35:21.811409Z"
    },
    "nbsphinx": "hidden",
    "papermill": {
     "duration": 2.773787,
     "end_time": "2025-10-01T22:35:21.816628",
     "exception": false,
     "start_time": "2025-10-01T22:35:19.042841",
     "status": "completed"
    },
    "tags": []
   },
   "outputs": [],
   "source": [
    "%%capture\n",
    "\n",
    "import numpy as np\n",
    "\n",
    "import matplotlib.pyplot as plt\n",
    "\n",
    "import warnings\n",
    "warnings.simplefilter(\"ignore\")\n",
    "\n",
    "from astromodels.functions.function import _known_functions\n",
    "\n",
    "\n",
    "from jupyterthemes import jtplot\n",
    "jtplot.style(context=\"talk\", fscale=1, ticks=True, grid=False)\n",
    "%matplotlib inline"
   ]
  },
  {
   "cell_type": "code",
   "execution_count": 2,
   "id": "8174e72e",
   "metadata": {
    "execution": {
     "iopub.execute_input": "2025-10-01T22:35:21.822090Z",
     "iopub.status.busy": "2025-10-01T22:35:21.821679Z",
     "iopub.status.idle": "2025-10-01T22:35:21.824229Z",
     "shell.execute_reply": "2025-10-01T22:35:21.823841Z"
    },
    "nbsphinx": "hidden",
    "papermill": {
     "duration": 0.006252,
     "end_time": "2025-10-01T22:35:21.825617",
     "exception": false,
     "start_time": "2025-10-01T22:35:21.819365",
     "status": "completed"
    },
    "tags": [
     "parameters"
    ]
   },
   "outputs": [],
   "source": [
    "func_name = \"TbAbs\"\n",
    "\n",
    "x_scale=\"log\"\n",
    "y_scale=\"log\"\n",
    "\n",
    "linear_range = False\n",
    "\n",
    "wide_energy_range = False"
   ]
  },
  {
   "cell_type": "code",
   "execution_count": 3,
   "id": "c0be3857",
   "metadata": {
    "execution": {
     "iopub.execute_input": "2025-10-01T22:35:21.829819Z",
     "iopub.status.busy": "2025-10-01T22:35:21.829373Z",
     "iopub.status.idle": "2025-10-01T22:35:21.835807Z",
     "shell.execute_reply": "2025-10-01T22:35:21.834006Z"
    },
    "papermill": {
     "duration": 0.01153,
     "end_time": "2025-10-01T22:35:21.838620",
     "exception": false,
     "start_time": "2025-10-01T22:35:21.827090",
     "status": "completed"
    },
    "tags": [
     "injected-parameters"
    ]
   },
   "outputs": [],
   "source": [
    "# Parameters\n",
    "func_name = \"Powerlaw_Eflux\"\n",
    "wide_energy_range = True\n",
    "x_scale = \"log\"\n",
    "y_scale = \"log\"\n",
    "linear_range = False\n"
   ]
  },
  {
   "cell_type": "code",
   "execution_count": 4,
   "id": "9a6db233",
   "metadata": {
    "execution": {
     "iopub.execute_input": "2025-10-01T22:35:21.842471Z",
     "iopub.status.busy": "2025-10-01T22:35:21.842295Z",
     "iopub.status.idle": "2025-10-01T22:35:21.846614Z",
     "shell.execute_reply": "2025-10-01T22:35:21.845933Z"
    },
    "lines_to_next_cell": 0,
    "nbsphinx": "hidden",
    "papermill": {
     "duration": 0.008916,
     "end_time": "2025-10-01T22:35:21.849125",
     "exception": false,
     "start_time": "2025-10-01T22:35:21.840209",
     "status": "completed"
    },
    "tags": []
   },
   "outputs": [],
   "source": [
    "func = _known_functions[func_name]()\n",
    "\n",
    "if wide_energy_range:\n",
    "\n",
    "    energy_grid = np.geomspace(1e2,1e4,500)\n",
    "    \n",
    "else:\n",
    "    \n",
    "    energy_grid = np.geomspace(2e-1,1e1,1000)\n",
    "\n",
    "if linear_range:\n",
    "\n",
    "\tenergy_grid = np.linspace(-5,5,1000)\n",
    "\n",
    "    \n",
    "blue = \"#4152E3\"\n",
    "red = \"#E3414B\"\n",
    "green = \"#41E39E\""
   ]
  },
  {
   "cell_type": "markdown",
   "id": "e4b4a9a8",
   "metadata": {
    "lines_to_next_cell": 0,
    "papermill": {
     "duration": 0.001307,
     "end_time": "2025-10-01T22:35:21.851928",
     "exception": false,
     "start_time": "2025-10-01T22:35:21.850621",
     "status": "completed"
    },
    "tags": []
   },
   "source": [
    "## Description"
   ]
  },
  {
   "cell_type": "code",
   "execution_count": 5,
   "id": "1a716617",
   "metadata": {
    "execution": {
     "iopub.execute_input": "2025-10-01T22:35:21.855672Z",
     "iopub.status.busy": "2025-10-01T22:35:21.855476Z",
     "iopub.status.idle": "2025-10-01T22:35:21.867086Z",
     "shell.execute_reply": "2025-10-01T22:35:21.866435Z"
    },
    "papermill": {
     "duration": 0.01701,
     "end_time": "2025-10-01T22:35:21.870203",
     "exception": false,
     "start_time": "2025-10-01T22:35:21.853193",
     "status": "completed"
    },
    "tags": []
   },
   "outputs": [
    {
     "data": {
      "text/html": [
       "<ul>\n",
       "\n",
       "<li>description: A  power-law where the normalization is the energy flux defined between a and b</li>\n",
       "\n",
       "<li>formula: $F~\\frac{x}{piv}^{index} $</li>\n",
       "\n",
       "<li>parameters: \n",
       "<ul>\n",
       "\n",
       "<li>F: \n",
       "<ul>\n",
       "\n",
       "<li>value: 1e-05</li>\n",
       "\n",
       "<li>desc: Normalization (energy flux at the between a and b) erg /cm2 s</li>\n",
       "\n",
       "<li>min_value: 1e-30</li>\n",
       "\n",
       "<li>max_value: 1000.0</li>\n",
       "\n",
       "<li>unit: </li>\n",
       "\n",
       "<li>is_normalization: True</li>\n",
       "\n",
       "<li>delta: 0.1</li>\n",
       "\n",
       "<li>free: True</li>\n",
       "\n",
       "</ul>\n",
       "\n",
       "</li>\n",
       "\n",
       "<li>piv: \n",
       "<ul>\n",
       "\n",
       "<li>value: 1.0</li>\n",
       "\n",
       "<li>desc: Pivot value</li>\n",
       "\n",
       "<li>min_value: None</li>\n",
       "\n",
       "<li>max_value: None</li>\n",
       "\n",
       "<li>unit: </li>\n",
       "\n",
       "<li>is_normalization: False</li>\n",
       "\n",
       "<li>delta: 0.1</li>\n",
       "\n",
       "<li>free: False</li>\n",
       "\n",
       "</ul>\n",
       "\n",
       "</li>\n",
       "\n",
       "<li>index: \n",
       "<ul>\n",
       "\n",
       "<li>value: -2.0</li>\n",
       "\n",
       "<li>desc: Photon index</li>\n",
       "\n",
       "<li>min_value: -10.0</li>\n",
       "\n",
       "<li>max_value: 10.0</li>\n",
       "\n",
       "<li>unit: </li>\n",
       "\n",
       "<li>is_normalization: False</li>\n",
       "\n",
       "<li>delta: 0.2</li>\n",
       "\n",
       "<li>free: True</li>\n",
       "\n",
       "</ul>\n",
       "\n",
       "</li>\n",
       "\n",
       "<li>a: \n",
       "<ul>\n",
       "\n",
       "<li>value: 1.0</li>\n",
       "\n",
       "<li>desc: lower energy integral bound (keV)</li>\n",
       "\n",
       "<li>min_value: 0.0</li>\n",
       "\n",
       "<li>max_value: None</li>\n",
       "\n",
       "<li>unit: </li>\n",
       "\n",
       "<li>is_normalization: False</li>\n",
       "\n",
       "<li>delta: 0.1</li>\n",
       "\n",
       "<li>free: False</li>\n",
       "\n",
       "</ul>\n",
       "\n",
       "</li>\n",
       "\n",
       "<li>b: \n",
       "<ul>\n",
       "\n",
       "<li>value: 100.0</li>\n",
       "\n",
       "<li>desc: upper energy integral bound (keV)</li>\n",
       "\n",
       "<li>min_value: 0.0</li>\n",
       "\n",
       "<li>max_value: None</li>\n",
       "\n",
       "<li>unit: </li>\n",
       "\n",
       "<li>is_normalization: False</li>\n",
       "\n",
       "<li>delta: 10.0</li>\n",
       "\n",
       "<li>free: False</li>\n",
       "\n",
       "</ul>\n",
       "\n",
       "</li>\n",
       "\n",
       "</ul>\n",
       "\n",
       "</li>\n",
       "\n",
       "</ul>\n"
      ],
      "text/plain": [
       "  * description: A  power-law where the normalization is the energy flux defined between\n",
       "    * a and b\n",
       "  * formula: $F~\\frac{x}{piv}^{index} $\n",
       "  * parameters:\n",
       "    * F:\n",
       "      * value: 1.0e-05\n",
       "      * desc: Normalization (energy flux at the between a and b) erg /cm2 s\n",
       "      * min_value: 1.0e-30\n",
       "      * max_value: 1000.0\n",
       "      * unit: ''\n",
       "      * is_normalization: true\n",
       "      * delta: 0.1\n",
       "      * free: true\n",
       "    * piv:\n",
       "      * value: 1.0\n",
       "      * desc: Pivot value\n",
       "      * min_value: null\n",
       "      * max_value: null\n",
       "      * unit: ''\n",
       "      * is_normalization: false\n",
       "      * delta: 0.1\n",
       "      * free: false\n",
       "    * index:\n",
       "      * value: -2.0\n",
       "      * desc: Photon index\n",
       "      * min_value: -10.0\n",
       "      * max_value: 10.0\n",
       "      * unit: ''\n",
       "      * is_normalization: false\n",
       "      * delta: 0.2\n",
       "      * free: true\n",
       "    * a:\n",
       "      * value: 1.0\n",
       "      * desc: lower energy integral bound (keV)\n",
       "      * min_value: 0.0\n",
       "      * max_value: null\n",
       "      * unit: ''\n",
       "      * is_normalization: false\n",
       "      * delta: 0.1\n",
       "      * free: false\n",
       "    * b:\n",
       "      * value: 100.0\n",
       "      * desc: upper energy integral bound (keV)\n",
       "      * min_value: 0.0\n",
       "      * max_value: null\n",
       "      * unit: ''\n",
       "      * is_normalization: false\n",
       "      * delta: 10.0\n",
       "      * free: false"
      ]
     },
     "metadata": {},
     "output_type": "display_data"
    }
   ],
   "source": [
    "func.display()"
   ]
  },
  {
   "cell_type": "markdown",
   "id": "03506de9",
   "metadata": {
    "papermill": {
     "duration": 0.001468,
     "end_time": "2025-10-01T22:35:21.873597",
     "exception": false,
     "start_time": "2025-10-01T22:35:21.872129",
     "status": "completed"
    },
    "tags": []
   },
   "source": [
    "## Shape \n",
    "\n",
    "The shape of the function. \n",
    "\n",
    "*If this is not a photon model but a prior or linear function then ignore the units as these docs are auto-generated*"
   ]
  },
  {
   "cell_type": "code",
   "execution_count": 6,
   "id": "00f21fc3",
   "metadata": {
    "execution": {
     "iopub.execute_input": "2025-10-01T22:35:21.877360Z",
     "iopub.status.busy": "2025-10-01T22:35:21.877177Z",
     "iopub.status.idle": "2025-10-01T22:35:22.495596Z",
     "shell.execute_reply": "2025-10-01T22:35:22.494566Z"
    },
    "papermill": {
     "duration": 0.622016,
     "end_time": "2025-10-01T22:35:22.496918",
     "exception": false,
     "start_time": "2025-10-01T22:35:21.874902",
     "status": "completed"
    },
    "tags": [
     "nbsphinx-thumbnail"
    ]
   },
   "outputs": [
    {
     "data": {
      "image/png": "[encoded data removed]",
      "text/plain": [
       "<Figure size 1040x910 with 1 Axes>"
      ]
     },
     "metadata": {},
     "output_type": "display_data"
    }
   ],
   "source": [
    "fig, ax = plt.subplots()\n",
    "\n",
    "\n",
    "ax.plot(energy_grid, func(energy_grid), color=blue)\n",
    "\n",
    "ax.set_xlabel(\"energy (keV)\")\n",
    "ax.set_ylabel(\"photon flux\")\n",
    "ax.set_xscale(x_scale)\n",
    "ax.set_yscale(y_scale)\n"
   ]
  },
  {
   "cell_type": "markdown",
   "id": "8c72a6b1",
   "metadata": {
    "lines_to_next_cell": 0,
    "papermill": {
     "duration": 0.001639,
     "end_time": "2025-10-01T22:35:22.500910",
     "exception": false,
     "start_time": "2025-10-01T22:35:22.499271",
     "status": "completed"
    },
    "tags": []
   },
   "source": [
    "## F$_{\\nu}$\n",
    "\n",
    "The F$_{\\nu}$ shape of the photon model\n",
    "*if this is not a photon model, please ignore this auto-generated plot*"
   ]
  },
  {
   "cell_type": "code",
   "execution_count": 7,
   "id": "c44829b5",
   "metadata": {
    "execution": {
     "iopub.execute_input": "2025-10-01T22:35:22.508150Z",
     "iopub.status.busy": "2025-10-01T22:35:22.507965Z",
     "iopub.status.idle": "2025-10-01T22:35:22.740123Z",
     "shell.execute_reply": "2025-10-01T22:35:22.738902Z"
    },
    "papermill": {
     "duration": 0.240425,
     "end_time": "2025-10-01T22:35:22.742881",
     "exception": false,
     "start_time": "2025-10-01T22:35:22.502456",
     "status": "completed"
    },
    "tags": []
   },
   "outputs": [
    {
     "data": {
      "image/png": "[encoded data removed]",
      "text/plain": [
       "<Figure size 1040x910 with 1 Axes>"
      ]
     },
     "metadata": {},
     "output_type": "display_data"
    }
   ],
   "source": [
    "fig, ax = plt.subplots()\n",
    "\n",
    "ax.plot(energy_grid, energy_grid * func(energy_grid), red)\n",
    "\n",
    "\n",
    "ax.set_xlabel(\"energy (keV)\")\n",
    "ax.set_ylabel(r\"energy flux (F$_{\\nu}$)\")\n",
    "ax.set_xscale(x_scale)\n",
    "ax.set_yscale(y_scale)\n",
    "\n"
   ]
  },
  {
   "cell_type": "markdown",
   "id": "88961ced",
   "metadata": {
    "papermill": {
     "duration": 0.00213,
     "end_time": "2025-10-01T22:35:22.751498",
     "exception": false,
     "start_time": "2025-10-01T22:35:22.749368",
     "status": "completed"
    },
    "tags": []
   },
   "source": [
    "## $\\nu$F$_{\\nu}$\n",
    "\n",
    "The $\\nu$F$_{\\nu}$ shape of the photon model\n",
    "*if this is not a photon model, please ignore this auto-generated plot*"
   ]
  },
  {
   "cell_type": "code",
   "execution_count": 8,
   "id": "ec1e5eed",
   "metadata": {
    "execution": {
     "iopub.execute_input": "2025-10-01T22:35:22.757480Z",
     "iopub.status.busy": "2025-10-01T22:35:22.756044Z",
     "iopub.status.idle": "2025-10-01T22:35:22.996997Z",
     "shell.execute_reply": "2025-10-01T22:35:22.986657Z"
    },
    "papermill": {
     "duration": 0.266171,
     "end_time": "2025-10-01T22:35:23.019351",
     "exception": false,
     "start_time": "2025-10-01T22:35:22.753180",
     "status": "completed"
    },
    "tags": []
   },
   "outputs": [
    {
     "data": {
      "image/png": "[encoded data removed]",
      "text/plain": [
       "<Figure size 1040x910 with 1 Axes>"
      ]
     },
     "metadata": {},
     "output_type": "display_data"
    }
   ],
   "source": [
    "fig, ax = plt.subplots()\n",
    "\n",
    "ax.plot(energy_grid, energy_grid**2 * func(energy_grid), color=green)\n",
    "\n",
    "\n",
    "ax.set_xlabel(\"energy (keV)\")\n",
    "ax.set_ylabel(r\"$\\nu$F$_{\\nu}$\")\n",
    "ax.set_xscale(x_scale)\n",
    "ax.set_yscale(y_scale)\n"
   ]
  }
 ],
 "metadata": {
  "jupytext": {
   "formats": "ipynb,md"
  },
  "kernelspec": {
   "display_name": "Python 3",
   "language": "python",
   "name": "python3"
  },
  "language_info": {
   "codemirror_mode": {
    "name": "ipython",
    "version": 3
   },
   "file_extension": ".py",
   "mimetype": "text/x-python",
   "name": "python",
   "nbconvert_exporter": "python",
   "pygments_lexer": "ipython3",
   "version": "3.9.13"
  },
  "papermill": {
   "default_parameters": {},
   "duration": 5.498304,
   "end_time": "2025-10-01T22:35:23.654109",
   "environment_variables": {},
   "exception": null,
   "input_path": "Powerlaw_Eflux.ipynb",
   "output_path": "/Users/runner/work/astromodels/astromodels/docs/notebooks/Powerlaw_Eflux.ipynb",
   "parameters": {
    "func_name": "Powerlaw_Eflux",
    "linear_range": false,
    "wide_energy_range": true,
    "x_scale": "log",
    "y_scale": "log"
   },
   "start_time": "2025-10-01T22:35:18.155805",
   "version": "2.6.0"
  }
 },
 "nbformat": 4,
 "nbformat_minor": 5
}
