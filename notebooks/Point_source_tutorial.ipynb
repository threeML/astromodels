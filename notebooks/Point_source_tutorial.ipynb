{
 "cells": [
  {
   "cell_type": "markdown",
   "id": "ee9d0447",
   "metadata": {},
   "source": [
    "# Point sources #\n",
    "\n",
    "In astromodels, a point source is described by its position in the sky\n",
    "and its spectral features.\n",
    "\n",
    "\n",
    "## Creating a point source\n",
    "\n",
    "A simple source with a power law spectrum can be created like this, using J2000 R.A. and Dec (ICRS), which is the default coordinate system:"
   ]
  },
  {
   "cell_type": "code",
   "execution_count": 1,
   "id": "25136352",
   "metadata": {
    "execution": {
     "iopub.execute_input": "2025-10-01T20:50:18.294930Z",
     "iopub.status.busy": "2025-10-01T20:50:18.294253Z",
     "iopub.status.idle": "2025-10-01T20:50:20.845838Z",
     "shell.execute_reply": "2025-10-01T20:50:20.845166Z"
    }
   },
   "outputs": [
    {
     "data": {
      "text/html": [
       "<pre style=\"white-space:pre;overflow-x:auto;line-height:normal;font-family:Menlo,'DejaVu Sans Mono',consolas,'Courier New',monospace\"><span style=\"color: #00ff00; text-decoration-color: #00ff00\">20:50:19 </span><span style=\"color: #af5fd7; text-decoration-color: #af5fd7\">WARNING </span> <span style=\"color: #c6c6c6; text-decoration-color: #c6c6c6; font-weight: bold\"> The naima package is not available. Models that depend on it will not be         </span><a href=\"file:///Users/runner/work/astromodels/astromodels/astromodels/functions/functions_1D/functions.py\" target=\"_blank\"><span style=\"color: #7f7f7f; text-decoration-color: #7f7f7f\">functions.py</span></a><span style=\"color: #7f7f7f; text-decoration-color: #7f7f7f\">:</span><a href=\"file:///Users/runner/work/astromodels/astromodels/astromodels/functions/functions_1D/functions.py#45\" target=\"_blank\"><span style=\"color: #7f7f7f; text-decoration-color: #7f7f7f\">45</span></a>\n",
       "<span style=\"color: #00ff00; text-decoration-color: #00ff00\">         </span>         <span style=\"color: #c6c6c6; text-decoration-color: #c6c6c6; font-weight: bold\">available                                                                         </span><span style=\"color: #7f7f7f; text-decoration-color: #7f7f7f\">               </span>\n",
       "</pre>\n"
      ],
      "text/plain": [
       "\u001b[38;5;46m20:50:19\u001b[0m\u001b[38;5;46m \u001b[0m\u001b[38;5;134mWARNING \u001b[0m \u001b[1;38;5;251m The naima package is not available. Models that depend on it will not be        \u001b[0m\u001b[1;38;5;251m \u001b[0m\u001b]8;id=540123;file:///Users/runner/work/astromodels/astromodels/astromodels/functions/functions_1D/functions.py\u001b\\\u001b[2mfunctions.py\u001b[0m\u001b]8;;\u001b\\\u001b[2m:\u001b[0m\u001b]8;id=479095;file:///Users/runner/work/astromodels/astromodels/astromodels/functions/functions_1D/functions.py#45\u001b\\\u001b[2m45\u001b[0m\u001b]8;;\u001b\\\n",
       "\u001b[38;5;46m         \u001b[0m         \u001b[1;38;5;251mavailable                                                                        \u001b[0m\u001b[1;38;5;251m \u001b[0m\u001b[2m               \u001b[0m\n"
      ]
     },
     "metadata": {},
     "output_type": "display_data"
    },
    {
     "data": {
      "text/html": [
       "<pre style=\"white-space:pre;overflow-x:auto;line-height:normal;font-family:Menlo,'DejaVu Sans Mono',consolas,'Courier New',monospace\"><span style=\"color: #00ff00; text-decoration-color: #00ff00\">         </span><span style=\"color: #af5fd7; text-decoration-color: #af5fd7\">WARNING </span> <span style=\"color: #c6c6c6; text-decoration-color: #c6c6c6; font-weight: bold\"> The GSL library or the pygsl wrapper cannot be loaded. Models that depend on it  </span><a href=\"file:///Users/runner/work/astromodels/astromodels/astromodels/functions/functions_1D/functions.py\" target=\"_blank\"><span style=\"color: #7f7f7f; text-decoration-color: #7f7f7f\">functions.py</span></a><span style=\"color: #7f7f7f; text-decoration-color: #7f7f7f\">:</span><a href=\"file:///Users/runner/work/astromodels/astromodels/astromodels/functions/functions_1D/functions.py#67\" target=\"_blank\"><span style=\"color: #7f7f7f; text-decoration-color: #7f7f7f\">67</span></a>\n",
       "<span style=\"color: #00ff00; text-decoration-color: #00ff00\">         </span>         <span style=\"color: #c6c6c6; text-decoration-color: #c6c6c6; font-weight: bold\">will not be available.                                                            </span><span style=\"color: #7f7f7f; text-decoration-color: #7f7f7f\">               </span>\n",
       "</pre>\n"
      ],
      "text/plain": [
       "\u001b[38;5;46m        \u001b[0m\u001b[38;5;46m \u001b[0m\u001b[38;5;134mWARNING \u001b[0m \u001b[1;38;5;251m The GSL library or the pygsl wrapper cannot be loaded. Models that depend on it \u001b[0m\u001b[1;38;5;251m \u001b[0m\u001b]8;id=691525;file:///Users/runner/work/astromodels/astromodels/astromodels/functions/functions_1D/functions.py\u001b\\\u001b[2mfunctions.py\u001b[0m\u001b]8;;\u001b\\\u001b[2m:\u001b[0m\u001b]8;id=705030;file:///Users/runner/work/astromodels/astromodels/astromodels/functions/functions_1D/functions.py#67\u001b\\\u001b[2m67\u001b[0m\u001b]8;;\u001b\\\n",
       "\u001b[38;5;46m         \u001b[0m         \u001b[1;38;5;251mwill not be available.                                                           \u001b[0m\u001b[1;38;5;251m \u001b[0m\u001b[2m               \u001b[0m\n"
      ]
     },
     "metadata": {},
     "output_type": "display_data"
    }
   ],
   "source": [
    "from astromodels import *\n",
    "simple_source_icrs = PointSource('simple_source', ra=123.2, dec=-13.2, spectral_shape=Powerlaw())"
   ]
  },
  {
   "cell_type": "markdown",
   "id": "c6c47e1f",
   "metadata": {},
   "source": [
    "We can also use Galactic coordinates:"
   ]
  },
  {
   "cell_type": "code",
   "execution_count": 2,
   "id": "a20eb2c2",
   "metadata": {
    "execution": {
     "iopub.execute_input": "2025-10-01T20:50:20.848391Z",
     "iopub.status.busy": "2025-10-01T20:50:20.848032Z",
     "iopub.status.idle": "2025-10-01T20:50:20.854562Z",
     "shell.execute_reply": "2025-10-01T20:50:20.853897Z"
    }
   },
   "outputs": [],
   "source": [
    "simple_source_gal = PointSource('simple_source', l=234.320573, b=11.365142, spectral_shape=Powerlaw())"
   ]
  },
  {
   "cell_type": "markdown",
   "id": "76707563",
   "metadata": {},
   "source": [
    "As spectral shape we can use any function or any composite function (see\n",
    "\"Creating and modifying functions\")"
   ]
  },
  {
   "cell_type": "markdown",
   "id": "8422725a",
   "metadata": {},
   "source": [
    "## Getting info about a point source\n",
    "\n",
    "Info about a point source can be obtained with the\n",
    "`.display()` method (which will use the richest representation available),\n",
    "or by printing it which will display a text-only representation:\n"
   ]
  },
  {
   "cell_type": "code",
   "execution_count": 3,
   "id": "070ddbd3",
   "metadata": {
    "execution": {
     "iopub.execute_input": "2025-10-01T20:50:20.856693Z",
     "iopub.status.busy": "2025-10-01T20:50:20.856536Z",
     "iopub.status.idle": "2025-10-01T20:50:20.863445Z",
     "shell.execute_reply": "2025-10-01T20:50:20.863038Z"
    }
   },
   "outputs": [
    {
     "data": {
      "text/html": [
       "<ul>\n",
       "\n",
       "<li>simple_source (point source): \n",
       "<ul>\n",
       "\n",
       "<li>position: \n",
       "<ul>\n",
       "\n",
       "<li>ra: \n",
       "<ul>\n",
       "\n",
       "<li>value: 123.2</li>\n",
       "\n",
       "<li>desc: Right Ascension</li>\n",
       "\n",
       "<li>min_value: 0.0</li>\n",
       "\n",
       "<li>max_value: 360.0</li>\n",
       "\n",
       "<li>unit: deg</li>\n",
       "\n",
       "<li>is_normalization: False</li>\n",
       "\n",
       "</ul>\n",
       "\n",
       "</li>\n",
       "\n",
       "<li>dec: \n",
       "<ul>\n",
       "\n",
       "<li>value: -13.2</li>\n",
       "\n",
       "<li>desc: Declination</li>\n",
       "\n",
       "<li>min_value: -90.0</li>\n",
       "\n",
       "<li>max_value: 90.0</li>\n",
       "\n",
       "<li>unit: deg</li>\n",
       "\n",
       "<li>is_normalization: False</li>\n",
       "\n",
       "</ul>\n",
       "\n",
       "</li>\n",
       "\n",
       "<li>equinox: J2000</li>\n",
       "\n",
       "</ul>\n",
       "\n",
       "</li>\n",
       "\n",
       "<li>spectrum: \n",
       "<ul>\n",
       "\n",
       "<li>main: \n",
       "<ul>\n",
       "\n",
       "<li>Powerlaw: \n",
       "<ul>\n",
       "\n",
       "<li>K: \n",
       "<ul>\n",
       "\n",
       "<li>value: 1.0</li>\n",
       "\n",
       "<li>desc: Normalization (differential flux at the pivot value)</li>\n",
       "\n",
       "<li>min_value: 1e-30</li>\n",
       "\n",
       "<li>max_value: 1000.0</li>\n",
       "\n",
       "<li>unit: keV-1 s-1 cm-2</li>\n",
       "\n",
       "<li>is_normalization: True</li>\n",
       "\n",
       "</ul>\n",
       "\n",
       "</li>\n",
       "\n",
       "<li>piv: \n",
       "<ul>\n",
       "\n",
       "<li>value: 1.0</li>\n",
       "\n",
       "<li>desc: Pivot value</li>\n",
       "\n",
       "<li>min_value: None</li>\n",
       "\n",
       "<li>max_value: None</li>\n",
       "\n",
       "<li>unit: keV</li>\n",
       "\n",
       "<li>is_normalization: False</li>\n",
       "\n",
       "</ul>\n",
       "\n",
       "</li>\n",
       "\n",
       "<li>index: \n",
       "<ul>\n",
       "\n",
       "<li>value: -2.01</li>\n",
       "\n",
       "<li>desc: Photon index</li>\n",
       "\n",
       "<li>min_value: -10.0</li>\n",
       "\n",
       "<li>max_value: 10.0</li>\n",
       "\n",
       "<li>unit: </li>\n",
       "\n",
       "<li>is_normalization: False</li>\n",
       "\n",
       "</ul>\n",
       "\n",
       "</li>\n",
       "\n",
       "</ul>\n",
       "\n",
       "</li>\n",
       "\n",
       "</ul>\n",
       "\n",
       "</li>\n",
       "\n",
       "</ul>\n",
       "\n",
       "</li>\n",
       "\n",
       "</ul>\n",
       "\n",
       "</li>\n",
       "\n",
       "</ul>\n"
      ],
      "text/plain": [
       "  * simple_source (point source):\n",
       "    * position:\n",
       "      * ra:\n",
       "        * value: 123.2\n",
       "        * desc: Right Ascension\n",
       "        * min_value: 0.0\n",
       "        * max_value: 360.0\n",
       "        * unit: deg\n",
       "        * is_normalization: false\n",
       "      * dec:\n",
       "        * value: -13.2\n",
       "        * desc: Declination\n",
       "        * min_value: -90.0\n",
       "        * max_value: 90.0\n",
       "        * unit: deg\n",
       "        * is_normalization: false\n",
       "      * equinox: J2000\n",
       "    * spectrum:\n",
       "      * main:\n",
       "        * Powerlaw:\n",
       "          * K:\n",
       "            * value: 1.0\n",
       "            * desc: Normalization (differential flux at the pivot value)\n",
       "            * min_value: 1.0e-30\n",
       "            * max_value: 1000.0\n",
       "            * unit: keV-1 s-1 cm-2\n",
       "            * is_normalization: true\n",
       "          * piv:\n",
       "            * value: 1.0\n",
       "            * desc: Pivot value\n",
       "            * min_value: null\n",
       "            * max_value: null\n",
       "            * unit: keV\n",
       "            * is_normalization: false\n",
       "          * index:\n",
       "            * value: -2.01\n",
       "            * desc: Photon index\n",
       "            * min_value: -10.0\n",
       "            * max_value: 10.0\n",
       "            * unit: ''\n",
       "            * is_normalization: false\n",
       "        * polarization: {}"
      ]
     },
     "metadata": {},
     "output_type": "display_data"
    }
   ],
   "source": [
    "simple_source_icrs.display()"
   ]
  },
  {
   "cell_type": "code",
   "execution_count": 4,
   "id": "7a1dfa61",
   "metadata": {
    "execution": {
     "iopub.execute_input": "2025-10-01T20:50:20.865592Z",
     "iopub.status.busy": "2025-10-01T20:50:20.865412Z",
     "iopub.status.idle": "2025-10-01T20:50:20.869574Z",
     "shell.execute_reply": "2025-10-01T20:50:20.869050Z"
    }
   },
   "outputs": [
    {
     "name": "stdout",
     "output_type": "stream",
     "text": [
      "  * simple_source (point source):\n",
      "    * position:\n",
      "      * ra:\n",
      "        * value: 123.2\n",
      "        * desc: Right Ascension\n",
      "        * min_value: 0.0\n",
      "        * max_value: 360.0\n",
      "        * unit: deg\n",
      "        * is_normalization: false\n",
      "      * dec:\n",
      "        * value: -13.2\n",
      "        * desc: Declination\n",
      "        * min_value: -90.0\n",
      "        * max_value: 90.0\n",
      "        * unit: deg\n",
      "        * is_normalization: false\n",
      "      * equinox: J2000\n",
      "    * spectrum:\n",
      "      * main:\n",
      "        * Powerlaw:\n",
      "          * K:\n",
      "            * value: 1.0\n",
      "            * desc: Normalization (differential flux at the pivot value)\n",
      "            * min_value: 1.0e-30\n",
      "            * max_value: 1000.0\n",
      "            * unit: keV-1 s-1 cm-2\n",
      "            * is_normalization: true\n",
      "          * piv:\n",
      "            * value: 1.0\n",
      "            * desc: Pivot value\n",
      "            * min_value: null\n",
      "            * max_value: null\n",
      "            * unit: keV\n",
      "            * is_normalization: false\n",
      "          * index:\n",
      "            * value: -2.01\n",
      "            * desc: Photon index\n",
      "            * min_value: -10.0\n",
      "            * max_value: 10.0\n",
      "            * unit: ''\n",
      "            * is_normalization: false\n",
      "        * polarization: {}\n",
      "\n"
     ]
    }
   ],
   "source": [
    "print(simple_source_icrs)"
   ]
  },
  {
   "cell_type": "markdown",
   "id": "7a996bce",
   "metadata": {},
   "source": [
    "As you can see we have created a point source with one component automatically named \"main\", with a power law spectrum, at the\n",
    "specified position."
   ]
  },
  {
   "cell_type": "markdown",
   "id": "a3353775",
   "metadata": {},
   "source": [
    "## Converting between coordinate systems\n",
    "\n",
    "By default the coordinates of the point source are displayed in the same\n",
    "system used during creation. However, you can always obtain R.A, Dec or\n",
    "L,B like this:"
   ]
  },
  {
   "cell_type": "code",
   "execution_count": 5,
   "id": "467dd4d1",
   "metadata": {
    "execution": {
     "iopub.execute_input": "2025-10-01T20:50:20.872465Z",
     "iopub.status.busy": "2025-10-01T20:50:20.872242Z",
     "iopub.status.idle": "2025-10-01T20:50:20.895086Z",
     "shell.execute_reply": "2025-10-01T20:50:20.894121Z"
    }
   },
   "outputs": [
    {
     "data": {
      "text/html": [
       "Sky direction (R.A., Dec.) = (123.20000, -13.20000) (J2000)"
      ],
      "text/plain": [
       "Sky direction (R.A., Dec.) = (123.20000, -13.20000) (J2000)"
      ]
     },
     "metadata": {},
     "output_type": "display_data"
    },
    {
     "name": "stdout",
     "output_type": "stream",
     "text": [
      "234.32058209778674 11.365144109043943\n"
     ]
    },
    {
     "data": {
      "text/html": [
       "Sky direction (l, b) = (234.32057, 11.36514) (J2000)"
      ],
      "text/plain": [
       "Sky direction (l, b) = (234.32057, 11.36514) (J2000)"
      ]
     },
     "metadata": {},
     "output_type": "display_data"
    },
    {
     "name": "stdout",
     "output_type": "stream",
     "text": [
      "123.19999334752814 -13.199993514950487\n"
     ]
    }
   ],
   "source": [
    "simple_source_icrs.position.display()\n",
    "l = simple_source_icrs.position.get_l()\n",
    "b = simple_source_icrs.position.get_b()\n",
    "print(l,b)\n",
    "\n",
    "simple_source_gal.position.display()\n",
    "ra = simple_source_gal.position.get_ra()\n",
    "dec = simple_source_gal.position.get_dec()\n",
    "print(ra,dec)"
   ]
  },
  {
   "cell_type": "markdown",
   "id": "2d91dc1e",
   "metadata": {},
   "source": [
    "For more control on the output and many more options, such as transform\n",
    "to local frames or other equinoxes, you can obtain an instance of\n",
    "[astropy.coordinates.SkyCoord](http://docs.astropy.org/en/stable/api/astropy.coordinates.SkyCoord.html) by using the `sky_coord` property of the\n",
    "position object:"
   ]
  },
  {
   "cell_type": "code",
   "execution_count": 6,
   "id": "5d5937e7",
   "metadata": {
    "execution": {
     "iopub.execute_input": "2025-10-01T20:50:20.899270Z",
     "iopub.status.busy": "2025-10-01T20:50:20.898871Z",
     "iopub.status.idle": "2025-10-01T20:50:20.911830Z",
     "shell.execute_reply": "2025-10-01T20:50:20.910870Z"
    }
   },
   "outputs": [
    {
     "name": "stdout",
     "output_type": "stream",
     "text": [
      "123.2\n"
     ]
    }
   ],
   "source": [
    "sky_coord_instance = simple_source_icrs.position.sky_coord\n",
    "ra = sky_coord_instance.transform_to('icrs').ra\n",
    "dec = sky_coord_instance.transform_to('icrs').dec\n",
    "print(ra.deg)"
   ]
  },
  {
   "cell_type": "markdown",
   "id": "dae7f14d",
   "metadata": {},
   "source": [
    "## Gotcha while accessing coordinates\n",
    "\n",
    "Please note that using `get_ra()` and `.ra` (or the equivalent methods for\n",
    "the other coordinates) is not the same. While `get_ra()` will always\n",
    "return a single float value corresponding to the R.A. of the source, the\n",
    "`.ra` property will exist only if the source has been created using R.A,\n",
    "Dec as input coordinates and will return a Parameter instance:"
   ]
  },
  {
   "cell_type": "code",
   "execution_count": 7,
   "id": "a090c770",
   "metadata": {
    "execution": {
     "iopub.execute_input": "2025-10-01T20:50:20.917380Z",
     "iopub.status.busy": "2025-10-01T20:50:20.916754Z",
     "iopub.status.idle": "2025-10-01T20:50:20.925692Z",
     "shell.execute_reply": "2025-10-01T20:50:20.925268Z"
    }
   },
   "outputs": [
    {
     "name": "stdout",
     "output_type": "stream",
     "text": [
      "<class 'astromodels.core.parameter.Parameter'>\n"
     ]
    },
    {
     "data": {
      "text/html": [
       "Parameter ra = 123.2 [deg]\n",
       "(min_value = 0.0, max_value = 360.0, delta = 12.32, free = False)"
      ],
      "text/plain": [
       "Parameter ra = 123.2 [deg]\n",
       "(min_value = 0.0, max_value = 360.0, delta = 12.32, free = False)"
      ]
     },
     "metadata": {},
     "output_type": "display_data"
    },
    {
     "data": {
      "text/html": [
       "Parameter dec = -13.2 [deg]\n",
       "(min_value = -90.0, max_value = 90.0, delta = 1.32, free = False)"
      ],
      "text/plain": [
       "Parameter dec = -13.2 [deg]\n",
       "(min_value = -90.0, max_value = 90.0, delta = 1.32, free = False)"
      ]
     },
     "metadata": {},
     "output_type": "display_data"
    }
   ],
   "source": [
    "parameter_ra = simple_source_icrs.position.ra\n",
    "parameter_dec = simple_source_icrs.position.dec\n",
    "\n",
    "print( type(parameter_ra) )\n",
    "parameter_ra.display()\n",
    "parameter_dec.display()"
   ]
  },
  {
   "cell_type": "markdown",
   "id": "cd837a23",
   "metadata": {},
   "source": [
    "The following would instead throw `AttributeError`, since `simple_source_icrs` was instanced using R.A. and Dec. and hence does not have the `l`, `b` parameters:"
   ]
  },
  {
   "cell_type": "code",
   "execution_count": 8,
   "id": "c68f53b4",
   "metadata": {
    "execution": {
     "iopub.execute_input": "2025-10-01T20:50:20.929526Z",
     "iopub.status.busy": "2025-10-01T20:50:20.929329Z",
     "iopub.status.idle": "2025-10-01T20:50:20.936061Z",
     "shell.execute_reply": "2025-10-01T20:50:20.935434Z"
    }
   },
   "outputs": [
    {
     "name": "stdout",
     "output_type": "stream",
     "text": [
      "Accessing an element l of the node that does not exist\n"
     ]
    }
   ],
   "source": [
    "try:\n",
    "    print( simple_source_icrs.position.l)\n",
    "except Exception as e:\n",
    "    print(e)"
   ]
  },
  {
   "cell_type": "markdown",
   "id": "fe71b8e6",
   "metadata": {},
   "source": [
    "In all cases, independently on how the source was instanced, you can obtain the *values* of coordinates in degrees\n",
    "as  floating point numbers using `get_ra()`, `get_dec()`, `get_l()`, `get_b()`. However, you can only directly *assign* coordinates in the same system that the source direction was originally created, e.g.:\n"
   ]
  },
  {
   "cell_type": "code",
   "execution_count": 9,
   "id": "ef25f4da",
   "metadata": {
    "execution": {
     "iopub.execute_input": "2025-10-01T20:50:20.938308Z",
     "iopub.status.busy": "2025-10-01T20:50:20.938154Z",
     "iopub.status.idle": "2025-10-01T20:50:20.946223Z",
     "shell.execute_reply": "2025-10-01T20:50:20.945455Z"
    }
   },
   "outputs": [
    {
     "data": {
      "text/html": [
       "Sky direction (R.A., Dec.) = (123.20000, -13.20000) (J2000)"
      ],
      "text/plain": [
       "Sky direction (R.A., Dec.) = (123.20000, -13.20000) (J2000)"
      ]
     },
     "metadata": {},
     "output_type": "display_data"
    },
    {
     "data": {
      "text/html": [
       "Sky direction (R.A., Dec.) = (124.20000, -14.20000) (J2000)"
      ],
      "text/plain": [
       "Sky direction (R.A., Dec.) = (124.20000, -14.20000) (J2000)"
      ]
     },
     "metadata": {},
     "output_type": "display_data"
    }
   ],
   "source": [
    "simple_source_icrs.position.display()\n",
    "simple_source_icrs.position.ra =   simple_source_icrs.position.ra.value + 1.0\n",
    "simple_source_icrs.position.dec = simple_source_icrs.position.dec.value - 1.0\n",
    "simple_source_icrs.position.display()"
   ]
  },
  {
   "cell_type": "markdown",
   "id": "c8a2d6d5",
   "metadata": {},
   "source": [
    "## Fitting the source position\n",
    "\n",
    "Source coordinates, like any parameters, can be set to be free or fixed during the fit. By default, coordinates are set to be fixed. If you would like to fit them as free parameters during the likelihood fit, they can be freed as any other parameter. Note that `param.free = True` and `param.fix = False` are equivalent. "
   ]
  },
  {
   "cell_type": "code",
   "execution_count": 10,
   "id": "28561586",
   "metadata": {
    "execution": {
     "iopub.execute_input": "2025-10-01T20:50:20.948993Z",
     "iopub.status.busy": "2025-10-01T20:50:20.948778Z",
     "iopub.status.idle": "2025-10-01T20:50:20.952850Z",
     "shell.execute_reply": "2025-10-01T20:50:20.951783Z"
    }
   },
   "outputs": [
    {
     "name": "stdout",
     "output_type": "stream",
     "text": [
      "Free parameters (before freeing position): odict_keys(['simple_source.spectrum.main.Powerlaw.K', 'simple_source.spectrum.main.Powerlaw.index'])\n",
      "Free parameters (after freeing position): odict_keys(['simple_source.spectrum.main.Powerlaw.K', 'simple_source.spectrum.main.Powerlaw.index', 'simple_source.position.ra', 'simple_source.position.dec'])\n"
     ]
    }
   ],
   "source": [
    "print(\"Free parameters (before freeing position):\", simple_source_icrs.free_parameters.keys())\n",
    "simple_source_icrs.position.ra.free = True\n",
    "simple_source_icrs.position.dec.fix = False\n",
    "print(\"Free parameters (after freeing position):\", simple_source_icrs.free_parameters.keys())\n"
   ]
  },
  {
   "cell_type": "markdown",
   "id": "d7b68396",
   "metadata": {},
   "source": [
    "For a source created in Galactic coordinates, instead use the following:"
   ]
  },
  {
   "cell_type": "code",
   "execution_count": 11,
   "id": "c96548c4",
   "metadata": {
    "execution": {
     "iopub.execute_input": "2025-10-01T20:50:20.959176Z",
     "iopub.status.busy": "2025-10-01T20:50:20.957938Z",
     "iopub.status.idle": "2025-10-01T20:50:20.964998Z",
     "shell.execute_reply": "2025-10-01T20:50:20.963954Z"
    }
   },
   "outputs": [
    {
     "name": "stdout",
     "output_type": "stream",
     "text": [
      "Free parameters (before freeing position): odict_keys(['simple_source.spectrum.main.Powerlaw.K', 'simple_source.spectrum.main.Powerlaw.index'])\n",
      "Free parameters (after freeing position): odict_keys(['simple_source.spectrum.main.Powerlaw.K', 'simple_source.spectrum.main.Powerlaw.index', 'simple_source.position.l', 'simple_source.position.b'])\n"
     ]
    }
   ],
   "source": [
    "print(\"Free parameters (before freeing position):\", simple_source_gal.free_parameters.keys())\n",
    "simple_source_gal.position.l.free = True\n",
    "simple_source_gal.position.b.fix = False\n",
    "print(\"Free parameters (after freeing position):\", simple_source_gal.free_parameters.keys())\n"
   ]
  },
  {
   "cell_type": "markdown",
   "id": "16702974",
   "metadata": {},
   "source": [
    "By default, the allowed range for the Right Ascension is from 0˚ to 360˚ and allowed declination values range from -90˚ to 90˚. **If fitting the source position, it is strongly recommended to restrict the coordinates to be inside the region of interest (ROI) at all times.** The source moving far enough from the ROI during the fit can lead to issues such as the minimizer getting \"stuck\" due to the likelihood surface being flat. For example:"
   ]
  },
  {
   "cell_type": "code",
   "execution_count": 12,
   "id": "e91e091b",
   "metadata": {
    "execution": {
     "iopub.execute_input": "2025-10-01T20:50:20.971545Z",
     "iopub.status.busy": "2025-10-01T20:50:20.971345Z",
     "iopub.status.idle": "2025-10-01T20:50:20.980676Z",
     "shell.execute_reply": "2025-10-01T20:50:20.979233Z"
    }
   },
   "outputs": [
    {
     "data": {
      "text/html": [
       "Parameter ra = 124.2 [deg]\n",
       "(min_value = 119.2, max_value = 129.2, delta = 12.32, free = True)"
      ],
      "text/plain": [
       "Parameter ra = 124.2 [deg]\n",
       "(min_value = 119.2, max_value = 129.2, delta = 12.32, free = True)"
      ]
     },
     "metadata": {},
     "output_type": "display_data"
    },
    {
     "data": {
      "text/html": [
       "Parameter dec = -14.2 [deg]\n",
       "(min_value = -19.2, max_value = -9.2, delta = 1.32, free = True)"
      ],
      "text/plain": [
       "Parameter dec = -14.2 [deg]\n",
       "(min_value = -19.2, max_value = -9.2, delta = 1.32, free = True)"
      ]
     },
     "metadata": {},
     "output_type": "display_data"
    }
   ],
   "source": [
    "simple_source_icrs.position.ra.bounds = ( simple_source_icrs.position.ra.value - 5.0, simple_source_icrs.position.ra.value + 5.0 )\n",
    "simple_source_icrs.position.dec.bounds = ( simple_source_icrs.position.dec.value - 5.0, simple_source_icrs.position.dec.value + 5.0 )\n",
    "simple_source_icrs.position.ra.display()\n",
    "simple_source_icrs.position.dec.display()\n"
   ]
  },
  {
   "cell_type": "markdown",
   "id": "ec1d8675",
   "metadata": {},
   "source": [
    "## \"Calling\" a point source\n",
    "\n",
    "Both the point source object itself as well as the compontents are callable functions who take as argument(s) an array of energies and return the differential flux dN/dE at those energies. Energies can be provided with or without units. **If no units are provided, energies are assumed to be in keV and fluxes are returned in 1/(cm2 keV s).**"
   ]
  },
  {
   "cell_type": "code",
   "execution_count": 13,
   "id": "bec674e6",
   "metadata": {
    "execution": {
     "iopub.execute_input": "2025-10-01T20:50:20.985049Z",
     "iopub.status.busy": "2025-10-01T20:50:20.984327Z",
     "iopub.status.idle": "2025-10-01T20:50:22.107940Z",
     "shell.execute_reply": "2025-10-01T20:50:22.106004Z"
    }
   },
   "outputs": [
    {
     "name": "stdout",
     "output_type": "stream",
     "text": [
      "Energy in keV:\n"
     ]
    },
    {
     "name": "stdout",
     "output_type": "stream",
     "text": [
      "With units: [1.00000000e+00 9.77237221e-03 9.54992586e-05] 1 / (keV s cm2)\n"
     ]
    },
    {
     "name": "stdout",
     "output_type": "stream",
     "text": [
      "Without units: [1.00000000e+00 9.77237221e-03 9.54992586e-05]\n",
      "With units: [1.00000000e+00 9.77237221e-03 9.54992586e-05] 1 / (keV s cm2)\n",
      "Without units: [1.00000000e+00 9.77237221e-03 9.54992586e-05]\n",
      "\n",
      "Energy in TeV:\n",
      "With units: [1.00000000e+00 9.77237221e-03 9.54992586e-05] 1 / (keV s cm2)\n",
      "With units: [1.00000000e+09 9.77237221e+06 9.54992586e+04] 1 / (TeV s cm2)\n",
      "Without units: [1.23026877e+18 1.20226443e+16 1.17489755e+14]\n"
     ]
    }
   ],
   "source": [
    "from astropy import units as u\n",
    "E = [1, 10, 100]*u.keV\n",
    "\n",
    "print(\"Energy in keV:\")\n",
    "print( \"With units:\", simple_source_icrs(E) )\n",
    "print( \"Without units:\", simple_source_icrs(E.value) )\n",
    "\n",
    "print( \"With units:\", simple_source_icrs.spectrum.main.shape(E) )\n",
    "print( \"Without units:\", simple_source_icrs.spectrum.main.shape(E.value) )\n",
    "\n",
    "print(\"\")\n",
    "print(\"Energy in TeV:\")\n",
    "E_TeV = E.to(u.TeV)\n",
    "print( \"With units:\", simple_source_icrs(E_TeV) )\n",
    "print( \"With units:\", simple_source_icrs(E_TeV).to(1/u.cm**2/u.TeV/u.s) )\n",
    "print( \"Without units:\", simple_source_icrs(E_TeV.value) )\n",
    "\n",
    "\n"
   ]
  },
  {
   "cell_type": "code",
   "execution_count": null,
   "id": "951fc089",
   "metadata": {},
   "outputs": [],
   "source": []
  }
 ],
 "metadata": {
  "jupytext": {
   "formats": "ipynb,md"
  },
  "kernelspec": {
   "display_name": "Python 3",
   "language": "python",
   "name": "python3"
  },
  "language_info": {
   "codemirror_mode": {
    "name": "ipython",
    "version": 3
   },
   "file_extension": ".py",
   "mimetype": "text/x-python",
   "name": "python",
   "nbconvert_exporter": "python",
   "pygments_lexer": "ipython3",
   "version": "3.9.13"
  }
 },
 "nbformat": 4,
 "nbformat_minor": 5
}
