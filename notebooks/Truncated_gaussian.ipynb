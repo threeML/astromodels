{
 "cells": [
  {
   "cell_type": "markdown",
   "id": "09fa8662",
   "metadata": {
    "papermill": {
     "duration": 0.001574,
     "end_time": "2025-09-27T00:39:38.896123",
     "exception": false,
     "start_time": "2025-09-27T00:39:38.894549",
     "status": "completed"
    },
    "tags": []
   },
   "source": [
    "# Truncated gaussian"
   ]
  },
  {
   "cell_type": "code",
   "execution_count": 1,
   "id": "cff294b3",
   "metadata": {
    "execution": {
     "iopub.execute_input": "2025-09-27T00:39:38.899126Z",
     "iopub.status.busy": "2025-09-27T00:39:38.898956Z",
     "iopub.status.idle": "2025-09-27T00:39:40.989249Z",
     "shell.execute_reply": "2025-09-27T00:39:40.988569Z"
    },
    "nbsphinx": "hidden",
    "papermill": {
     "duration": 2.093703,
     "end_time": "2025-09-27T00:39:40.991038",
     "exception": false,
     "start_time": "2025-09-27T00:39:38.897335",
     "status": "completed"
    },
    "tags": []
   },
   "outputs": [],
   "source": [
    "%%capture\n",
    "\n",
    "import numpy as np\n",
    "\n",
    "import matplotlib.pyplot as plt\n",
    "\n",
    "import warnings\n",
    "warnings.simplefilter(\"ignore\")\n",
    "\n",
    "from astromodels.functions.function import _known_functions\n",
    "\n",
    "\n",
    "from jupyterthemes import jtplot\n",
    "jtplot.style(context=\"talk\", fscale=1, ticks=True, grid=False)\n",
    "%matplotlib inline"
   ]
  },
  {
   "cell_type": "code",
   "execution_count": 2,
   "id": "1c36dbb7",
   "metadata": {
    "execution": {
     "iopub.execute_input": "2025-09-27T00:39:40.994622Z",
     "iopub.status.busy": "2025-09-27T00:39:40.994224Z",
     "iopub.status.idle": "2025-09-27T00:39:41.001325Z",
     "shell.execute_reply": "2025-09-27T00:39:41.000721Z"
    },
    "nbsphinx": "hidden",
    "papermill": {
     "duration": 0.010202,
     "end_time": "2025-09-27T00:39:41.002672",
     "exception": false,
     "start_time": "2025-09-27T00:39:40.992470",
     "status": "completed"
    },
    "tags": [
     "parameters"
    ]
   },
   "outputs": [],
   "source": [
    "func_name = \"TbAbs\"\n",
    "\n",
    "positive_prior = False\n"
   ]
  },
  {
   "cell_type": "code",
   "execution_count": 3,
   "id": "7cdfa726",
   "metadata": {
    "execution": {
     "iopub.execute_input": "2025-09-27T00:39:41.005734Z",
     "iopub.status.busy": "2025-09-27T00:39:41.005575Z",
     "iopub.status.idle": "2025-09-27T00:39:41.007465Z",
     "shell.execute_reply": "2025-09-27T00:39:41.007104Z"
    },
    "papermill": {
     "duration": 0.004568,
     "end_time": "2025-09-27T00:39:41.008539",
     "exception": false,
     "start_time": "2025-09-27T00:39:41.003971",
     "status": "completed"
    },
    "tags": [
     "injected-parameters"
    ]
   },
   "outputs": [],
   "source": [
    "# Parameters\n",
    "func_name = \"Truncated_gaussian\"\n",
    "positive_prior = False\n"
   ]
  },
  {
   "cell_type": "code",
   "execution_count": 4,
   "id": "bca0f6fb",
   "metadata": {
    "execution": {
     "iopub.execute_input": "2025-09-27T00:39:41.012063Z",
     "iopub.status.busy": "2025-09-27T00:39:41.011834Z",
     "iopub.status.idle": "2025-09-27T00:39:41.015634Z",
     "shell.execute_reply": "2025-09-27T00:39:41.014813Z"
    },
    "lines_to_next_cell": 0,
    "nbsphinx": "hidden",
    "papermill": {
     "duration": 0.007109,
     "end_time": "2025-09-27T00:39:41.016920",
     "exception": false,
     "start_time": "2025-09-27T00:39:41.009811",
     "status": "completed"
    },
    "tags": []
   },
   "outputs": [],
   "source": [
    "func = _known_functions[func_name]()\n",
    "\n",
    "if not positive_prior:\n",
    "\n",
    "\tenergy_grid = np.linspace(-5,5,1000)\n",
    "\n",
    "else:\n",
    "    \n",
    "    energy_grid = np.linspace(0,1,1000)\n",
    "    \n",
    "    \n",
    "    \n",
    "    \n",
    "blue = \"#4152E3\"\n",
    "red = \"#E3414B\"\n",
    "green = \"#41E39E\""
   ]
  },
  {
   "cell_type": "markdown",
   "id": "9395c3c1",
   "metadata": {
    "lines_to_next_cell": 0,
    "papermill": {
     "duration": 0.00104,
     "end_time": "2025-09-27T00:39:41.019267",
     "exception": false,
     "start_time": "2025-09-27T00:39:41.018227",
     "status": "completed"
    },
    "tags": []
   },
   "source": [
    "## Description"
   ]
  },
  {
   "cell_type": "code",
   "execution_count": 5,
   "id": "719f70ec",
   "metadata": {
    "execution": {
     "iopub.execute_input": "2025-09-27T00:39:41.022081Z",
     "iopub.status.busy": "2025-09-27T00:39:41.021908Z",
     "iopub.status.idle": "2025-09-27T00:39:41.027447Z",
     "shell.execute_reply": "2025-09-27T00:39:41.027000Z"
    },
    "papermill": {
     "duration": 0.008501,
     "end_time": "2025-09-27T00:39:41.028775",
     "exception": false,
     "start_time": "2025-09-27T00:39:41.020274",
     "status": "completed"
    },
    "tags": []
   },
   "outputs": [
    {
     "data": {
      "text/html": [
       "<ul>\n",
       "\n",
       "<li>description: A  truncated Gaussian function defined on the interval between the lower_bound (a) and upper_bound (b)</li>\n",
       "\n",
       "<li>formula: $\\begin{split}f(x;\\mu,\\sigma,a,b)=\\frac{\\frac{1}{\\sigma} \\phi\\left( \\frac{x-\\mu}{\\sigma} \\right)}{\\Phi\\left( \\frac{b-\\mu}{\\sigma} \\right) - \\Phi\\left( \\frac{a-\\mu}{\\sigma} \\right)}\\\\\\phi\\left(z\\right)= \\frac{1}{\\sqrt{2 \\pi}}\\exp\\left(-\\frac{1}{2}z^2\\right)\\\\\\Phi\\left(z\\right) =\\frac{1}{2}\\left(1+erf\\left(\\frac{z}{\\sqrt(2)}\\right)\\right)\\end{split}$</li>\n",
       "\n",
       "<li>parameters: \n",
       "<ul>\n",
       "\n",
       "<li>F: \n",
       "<ul>\n",
       "\n",
       "<li>value: 1.0</li>\n",
       "\n",
       "<li>desc: Integral between -inf and +inf. Fix this to 1 to obtain a Normal distribution</li>\n",
       "\n",
       "<li>min_value: None</li>\n",
       "\n",
       "<li>max_value: None</li>\n",
       "\n",
       "<li>unit: </li>\n",
       "\n",
       "<li>is_normalization: False</li>\n",
       "\n",
       "<li>delta: 0.1</li>\n",
       "\n",
       "<li>free: True</li>\n",
       "\n",
       "</ul>\n",
       "\n",
       "</li>\n",
       "\n",
       "<li>mu: \n",
       "<ul>\n",
       "\n",
       "<li>value: 0.0</li>\n",
       "\n",
       "<li>desc: Central value</li>\n",
       "\n",
       "<li>min_value: None</li>\n",
       "\n",
       "<li>max_value: None</li>\n",
       "\n",
       "<li>unit: </li>\n",
       "\n",
       "<li>is_normalization: False</li>\n",
       "\n",
       "<li>delta: 0.1</li>\n",
       "\n",
       "<li>free: True</li>\n",
       "\n",
       "</ul>\n",
       "\n",
       "</li>\n",
       "\n",
       "<li>sigma: \n",
       "<ul>\n",
       "\n",
       "<li>value: 1.0</li>\n",
       "\n",
       "<li>desc: standard deviation</li>\n",
       "\n",
       "<li>min_value: 1e-12</li>\n",
       "\n",
       "<li>max_value: None</li>\n",
       "\n",
       "<li>unit: </li>\n",
       "\n",
       "<li>is_normalization: False</li>\n",
       "\n",
       "<li>delta: 0.1</li>\n",
       "\n",
       "<li>free: True</li>\n",
       "\n",
       "</ul>\n",
       "\n",
       "</li>\n",
       "\n",
       "<li>lower_bound: \n",
       "<ul>\n",
       "\n",
       "<li>value: -1.0</li>\n",
       "\n",
       "<li>desc: lower bound of gaussian, setting to -np.inf results in half normal distribution</li>\n",
       "\n",
       "<li>min_value: None</li>\n",
       "\n",
       "<li>max_value: None</li>\n",
       "\n",
       "<li>unit: </li>\n",
       "\n",
       "<li>is_normalization: False</li>\n",
       "\n",
       "<li>delta: 0.1</li>\n",
       "\n",
       "<li>free: True</li>\n",
       "\n",
       "</ul>\n",
       "\n",
       "</li>\n",
       "\n",
       "<li>upper_bound: \n",
       "<ul>\n",
       "\n",
       "<li>value: 1.0</li>\n",
       "\n",
       "<li>desc: upper bound of gaussian  setting to np.inf results in half normal distribution</li>\n",
       "\n",
       "<li>min_value: None</li>\n",
       "\n",
       "<li>max_value: None</li>\n",
       "\n",
       "<li>unit: </li>\n",
       "\n",
       "<li>is_normalization: False</li>\n",
       "\n",
       "<li>delta: 0.1</li>\n",
       "\n",
       "<li>free: True</li>\n",
       "\n",
       "</ul>\n",
       "\n",
       "</li>\n",
       "\n",
       "</ul>\n",
       "\n",
       "</li>\n",
       "\n",
       "</ul>\n"
      ],
      "text/plain": [
       "  * description: A  truncated Gaussian function defined on the interval between the lower_bound\n",
       "    * (a) and upper_bound (b)\n",
       "  * formula: $\\begin{split}f(x;\\mu,\\sigma,a,b)=\\frac{\\frac{1}{\\sigma} \\phi\\left( \\frac{x-\\mu}{\\sigma}\n",
       "    * \\right)}{\\Phi\\left( \\frac{b-\\mu}{\\sigma} \\right) - \\Phi\\left( \\frac{a-\\mu}{\\sigma}\n",
       "    * \\right)}\\\\\\phi\\left(z\\right)= \\frac{1}{\\sqrt{2 \\pi}}\\exp\\left(-\\frac{1}{2}z^2\\right)\\\\\\Phi\\left(z\\right)\n",
       "    * =\\frac{1}{2}\\left(1+erf\\left(\\frac{z}{\\sqrt(2)}\\right)\\right)\\end{split}$\n",
       "  * parameters:\n",
       "    * F:\n",
       "      * value: 1.0\n",
       "      * desc: Integral between -inf and +inf. Fix this to 1 to obtain a Normal distribution\n",
       "      * min_value: null\n",
       "      * max_value: null\n",
       "      * unit: ''\n",
       "      * is_normalization: false\n",
       "      * delta: 0.1\n",
       "      * free: true\n",
       "    * mu:\n",
       "      * value: 0.0\n",
       "      * desc: Central value\n",
       "      * min_value: null\n",
       "      * max_value: null\n",
       "      * unit: ''\n",
       "      * is_normalization: false\n",
       "      * delta: 0.1\n",
       "      * free: true\n",
       "    * sigma:\n",
       "      * value: 1.0\n",
       "      * desc: standard deviation\n",
       "      * min_value: 1.0e-12\n",
       "      * max_value: null\n",
       "      * unit: ''\n",
       "      * is_normalization: false\n",
       "      * delta: 0.1\n",
       "      * free: true\n",
       "    * lower_bound:\n",
       "      * value: -1.0\n",
       "      * desc: lower bound of gaussian, setting to -np.inf results in half normal distribution\n",
       "      * min_value: null\n",
       "      * max_value: null\n",
       "      * unit: ''\n",
       "      * is_normalization: false\n",
       "      * delta: 0.1\n",
       "      * free: true\n",
       "    * upper_bound:\n",
       "      * value: 1.0\n",
       "      * desc: upper bound of gaussian  setting to np.inf results in half normal distribution\n",
       "      * min_value: null\n",
       "      * max_value: null\n",
       "      * unit: ''\n",
       "      * is_normalization: false\n",
       "      * delta: 0.1\n",
       "      * free: true"
      ]
     },
     "metadata": {},
     "output_type": "display_data"
    }
   ],
   "source": [
    "func.display()"
   ]
  },
  {
   "cell_type": "markdown",
   "id": "a66d7656",
   "metadata": {
    "papermill": {
     "duration": 0.001301,
     "end_time": "2025-09-27T00:39:41.031550",
     "exception": false,
     "start_time": "2025-09-27T00:39:41.030249",
     "status": "completed"
    },
    "tags": []
   },
   "source": [
    "## Shape \n",
    "\n",
    "The shape of the function. \n",
    "\n",
    "*If this is not a photon model but a prior or linear function then ignore the units as these docs are auto-generated*"
   ]
  },
  {
   "cell_type": "code",
   "execution_count": 6,
   "id": "50581f77",
   "metadata": {
    "execution": {
     "iopub.execute_input": "2025-09-27T00:39:41.035003Z",
     "iopub.status.busy": "2025-09-27T00:39:41.034830Z",
     "iopub.status.idle": "2025-09-27T00:39:41.133561Z",
     "shell.execute_reply": "2025-09-27T00:39:41.133035Z"
    },
    "papermill": {
     "duration": 0.101894,
     "end_time": "2025-09-27T00:39:41.134763",
     "exception": false,
     "start_time": "2025-09-27T00:39:41.032869",
     "status": "completed"
    },
    "tags": [
     "nbsphinx-thumbnail"
    ]
   },
   "outputs": [
    {
     "data": {
      "text/plain": [
       "Text(0, 0.5, 'probability')"
      ]
     },
     "execution_count": 6,
     "metadata": {},
     "output_type": "execute_result"
    },
    {
     "data": {
      "image/png": "[encoded data removed]",
      "text/plain": [
       "<Figure size 1040x910 with 1 Axes>"
      ]
     },
     "metadata": {},
     "output_type": "display_data"
    }
   ],
   "source": [
    "fig, ax = plt.subplots()\n",
    "\n",
    "\n",
    "ax.plot(energy_grid, func(energy_grid), color=blue, lw=3)\n",
    "\n",
    "ax.set_xlabel(\"x\")\n",
    "ax.set_ylabel(\"probability\")\n"
   ]
  },
  {
   "cell_type": "markdown",
   "id": "40b5df43",
   "metadata": {
    "papermill": {
     "duration": 0.001566,
     "end_time": "2025-09-27T00:39:41.138137",
     "exception": false,
     "start_time": "2025-09-27T00:39:41.136571",
     "status": "completed"
    },
    "tags": []
   },
   "source": [
    "## Random Number Generation\n",
    "\n",
    "This is how we can generate random numbers from the prior.\n"
   ]
  },
  {
   "cell_type": "code",
   "execution_count": 7,
   "id": "bc4b9ca6",
   "metadata": {
    "execution": {
     "iopub.execute_input": "2025-09-27T00:39:41.145685Z",
     "iopub.status.busy": "2025-09-27T00:39:41.145468Z",
     "iopub.status.idle": "2025-09-27T00:39:41.357144Z",
     "shell.execute_reply": "2025-09-27T00:39:41.353583Z"
    },
    "papermill": {
     "duration": 0.222619,
     "end_time": "2025-09-27T00:39:41.362147",
     "exception": false,
     "start_time": "2025-09-27T00:39:41.139528",
     "status": "completed"
    },
    "tags": []
   },
   "outputs": [
    {
     "data": {
      "text/plain": [
       "Text(0, 0.5, 'N')"
      ]
     },
     "execution_count": 7,
     "metadata": {},
     "output_type": "execute_result"
    },
    {
     "data": {
      "image/png": "[encoded data removed]",
      "text/plain": [
       "<Figure size 1040x910 with 1 Axes>"
      ]
     },
     "metadata": {},
     "output_type": "display_data"
    }
   ],
   "source": [
    "\n",
    "\n",
    "u = np.random.uniform(0,1, size=5000)\n",
    "\n",
    "draws = [func.from_unit_cube(x) for x in u]\n",
    "\n",
    "\n",
    "fig, ax = plt.subplots()\n",
    "\n",
    "\n",
    "ax.hist(draws, color=green, bins=50)\n",
    "\n",
    "ax.set_xlabel(\"value\")\n",
    "ax.set_ylabel(\"N\")\n",
    "\n"
   ]
  }
 ],
 "metadata": {
  "jupytext": {
   "formats": "ipynb,md"
  },
  "kernelspec": {
   "display_name": "Python 3 (ipykernel)",
   "language": "python",
   "name": "python3"
  },
  "language_info": {
   "codemirror_mode": {
    "name": "ipython",
    "version": 3
   },
   "file_extension": ".py",
   "mimetype": "text/x-python",
   "name": "python",
   "nbconvert_exporter": "python",
   "pygments_lexer": "ipython3",
   "version": "3.9.13"
  },
  "papermill": {
   "default_parameters": {},
   "duration": 3.666837,
   "end_time": "2025-09-27T00:39:41.830648",
   "environment_variables": {},
   "exception": null,
   "input_path": "Truncated_gaussian.ipynb",
   "output_path": "/Users/runner/work/astromodels/astromodels/docs/notebooks/Truncated_gaussian.ipynb",
   "parameters": {
    "func_name": "Truncated_gaussian",
    "positive_prior": false
   },
   "start_time": "2025-09-27T00:39:38.163811",
   "version": "2.6.0"
  }
 },
 "nbformat": 4,
 "nbformat_minor": 5
}
