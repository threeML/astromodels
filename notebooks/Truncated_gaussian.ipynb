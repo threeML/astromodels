{
 "cells": [
  {
   "cell_type": "markdown",
   "id": "36d4f57b",
   "metadata": {
    "papermill": {
     "duration": 0.001696,
     "end_time": "2025-09-24T17:08:50.555398",
     "exception": false,
     "start_time": "2025-09-24T17:08:50.553702",
     "status": "completed"
    },
    "tags": []
   },
   "source": [
    "# Truncated gaussian"
   ]
  },
  {
   "cell_type": "code",
   "execution_count": 1,
   "id": "4296538a",
   "metadata": {
    "execution": {
     "iopub.execute_input": "2025-09-24T17:08:50.562644Z",
     "iopub.status.busy": "2025-09-24T17:08:50.562236Z",
     "iopub.status.idle": "2025-09-24T17:08:53.058682Z",
     "shell.execute_reply": "2025-09-24T17:08:53.057690Z"
    },
    "nbsphinx": "hidden",
    "papermill": {
     "duration": 2.502728,
     "end_time": "2025-09-24T17:08:53.061576",
     "exception": false,
     "start_time": "2025-09-24T17:08:50.558848",
     "status": "completed"
    },
    "tags": []
   },
   "outputs": [],
   "source": [
    "%%capture\n",
    "\n",
    "import numpy as np\n",
    "\n",
    "import matplotlib.pyplot as plt\n",
    "\n",
    "import warnings\n",
    "warnings.simplefilter(\"ignore\")\n",
    "\n",
    "from astromodels.functions.function import _known_functions\n",
    "\n",
    "\n",
    "from jupyterthemes import jtplot\n",
    "jtplot.style(context=\"talk\", fscale=1, ticks=True, grid=False)\n",
    "%matplotlib inline"
   ]
  },
  {
   "cell_type": "code",
   "execution_count": 2,
   "id": "09c5a39f",
   "metadata": {
    "execution": {
     "iopub.execute_input": "2025-09-24T17:08:53.070415Z",
     "iopub.status.busy": "2025-09-24T17:08:53.069521Z",
     "iopub.status.idle": "2025-09-24T17:08:53.074208Z",
     "shell.execute_reply": "2025-09-24T17:08:53.073290Z"
    },
    "nbsphinx": "hidden",
    "papermill": {
     "duration": 0.01123,
     "end_time": "2025-09-24T17:08:53.076479",
     "exception": false,
     "start_time": "2025-09-24T17:08:53.065249",
     "status": "completed"
    },
    "tags": [
     "parameters"
    ]
   },
   "outputs": [],
   "source": [
    "func_name = \"TbAbs\"\n",
    "\n",
    "positive_prior = False\n"
   ]
  },
  {
   "cell_type": "code",
   "execution_count": 3,
   "id": "ddbbb2bc",
   "metadata": {
    "execution": {
     "iopub.execute_input": "2025-09-24T17:08:53.080568Z",
     "iopub.status.busy": "2025-09-24T17:08:53.080183Z",
     "iopub.status.idle": "2025-09-24T17:08:53.084576Z",
     "shell.execute_reply": "2025-09-24T17:08:53.083763Z"
    },
    "papermill": {
     "duration": 0.008979,
     "end_time": "2025-09-24T17:08:53.086999",
     "exception": false,
     "start_time": "2025-09-24T17:08:53.078020",
     "status": "completed"
    },
    "tags": [
     "injected-parameters"
    ]
   },
   "outputs": [],
   "source": [
    "# Parameters\n",
    "func_name = \"Truncated_gaussian\"\n",
    "positive_prior = False\n"
   ]
  },
  {
   "cell_type": "code",
   "execution_count": 4,
   "id": "2e8d3362",
   "metadata": {
    "execution": {
     "iopub.execute_input": "2025-09-24T17:08:53.095527Z",
     "iopub.status.busy": "2025-09-24T17:08:53.095126Z",
     "iopub.status.idle": "2025-09-24T17:08:53.101310Z",
     "shell.execute_reply": "2025-09-24T17:08:53.100314Z"
    },
    "lines_to_next_cell": 0,
    "nbsphinx": "hidden",
    "papermill": {
     "duration": 0.013464,
     "end_time": "2025-09-24T17:08:53.103911",
     "exception": false,
     "start_time": "2025-09-24T17:08:53.090447",
     "status": "completed"
    },
    "tags": []
   },
   "outputs": [],
   "source": [
    "func = _known_functions[func_name]()\n",
    "\n",
    "if not positive_prior:\n",
    "\n",
    "\tenergy_grid = np.linspace(-5,5,1000)\n",
    "\n",
    "else:\n",
    "    \n",
    "    energy_grid = np.linspace(0,1,1000)\n",
    "    \n",
    "    \n",
    "    \n",
    "    \n",
    "blue = \"#4152E3\"\n",
    "red = \"#E3414B\"\n",
    "green = \"#41E39E\""
   ]
  },
  {
   "cell_type": "markdown",
   "id": "b1fa11cb",
   "metadata": {
    "lines_to_next_cell": 0,
    "papermill": {
     "duration": 0.003062,
     "end_time": "2025-09-24T17:08:53.110434",
     "exception": false,
     "start_time": "2025-09-24T17:08:53.107372",
     "status": "completed"
    },
    "tags": []
   },
   "source": [
    "## Description"
   ]
  },
  {
   "cell_type": "code",
   "execution_count": 5,
   "id": "8ee0b514",
   "metadata": {
    "execution": {
     "iopub.execute_input": "2025-09-24T17:08:53.118373Z",
     "iopub.status.busy": "2025-09-24T17:08:53.117971Z",
     "iopub.status.idle": "2025-09-24T17:08:53.130480Z",
     "shell.execute_reply": "2025-09-24T17:08:53.129462Z"
    },
    "papermill": {
     "duration": 0.023825,
     "end_time": "2025-09-24T17:08:53.137189",
     "exception": false,
     "start_time": "2025-09-24T17:08:53.113364",
     "status": "completed"
    },
    "tags": []
   },
   "outputs": [
    {
     "data": {
      "text/html": [
       "<ul>\n",
       "\n",
       "<li>description: A  truncated Gaussian function defined on the interval between the lower_bound (a) and upper_bound (b)</li>\n",
       "\n",
       "<li>formula: $\\begin{split}f(x;\\mu,\\sigma,a,b)=\\frac{\\frac{1}{\\sigma} \\phi\\left( \\frac{x-\\mu}{\\sigma} \\right)}{\\Phi\\left( \\frac{b-\\mu}{\\sigma} \\right) - \\Phi\\left( \\frac{a-\\mu}{\\sigma} \\right)}\\\\\\phi\\left(z\\right)= \\frac{1}{\\sqrt{2 \\pi}}\\exp\\left(-\\frac{1}{2}z^2\\right)\\\\\\Phi\\left(z\\right) =\\frac{1}{2}\\left(1+erf\\left(\\frac{z}{\\sqrt(2)}\\right)\\right)\\end{split}$</li>\n",
       "\n",
       "<li>parameters: \n",
       "<ul>\n",
       "\n",
       "<li>F: \n",
       "<ul>\n",
       "\n",
       "<li>value: 1.0</li>\n",
       "\n",
       "<li>desc: Integral between -inf and +inf. Fix this to 1 to obtain a Normal distribution</li>\n",
       "\n",
       "<li>min_value: None</li>\n",
       "\n",
       "<li>max_value: None</li>\n",
       "\n",
       "<li>unit: </li>\n",
       "\n",
       "<li>is_normalization: False</li>\n",
       "\n",
       "<li>delta: 0.1</li>\n",
       "\n",
       "<li>free: True</li>\n",
       "\n",
       "</ul>\n",
       "\n",
       "</li>\n",
       "\n",
       "<li>mu: \n",
       "<ul>\n",
       "\n",
       "<li>value: 0.0</li>\n",
       "\n",
       "<li>desc: Central value</li>\n",
       "\n",
       "<li>min_value: None</li>\n",
       "\n",
       "<li>max_value: None</li>\n",
       "\n",
       "<li>unit: </li>\n",
       "\n",
       "<li>is_normalization: False</li>\n",
       "\n",
       "<li>delta: 0.1</li>\n",
       "\n",
       "<li>free: True</li>\n",
       "\n",
       "</ul>\n",
       "\n",
       "</li>\n",
       "\n",
       "<li>sigma: \n",
       "<ul>\n",
       "\n",
       "<li>value: 1.0</li>\n",
       "\n",
       "<li>desc: standard deviation</li>\n",
       "\n",
       "<li>min_value: 1e-12</li>\n",
       "\n",
       "<li>max_value: None</li>\n",
       "\n",
       "<li>unit: </li>\n",
       "\n",
       "<li>is_normalization: False</li>\n",
       "\n",
       "<li>delta: 0.1</li>\n",
       "\n",
       "<li>free: True</li>\n",
       "\n",
       "</ul>\n",
       "\n",
       "</li>\n",
       "\n",
       "<li>lower_bound: \n",
       "<ul>\n",
       "\n",
       "<li>value: -1.0</li>\n",
       "\n",
       "<li>desc: lower bound of gaussian, setting to -np.inf results in half normal distribution</li>\n",
       "\n",
       "<li>min_value: None</li>\n",
       "\n",
       "<li>max_value: None</li>\n",
       "\n",
       "<li>unit: </li>\n",
       "\n",
       "<li>is_normalization: False</li>\n",
       "\n",
       "<li>delta: 0.1</li>\n",
       "\n",
       "<li>free: True</li>\n",
       "\n",
       "</ul>\n",
       "\n",
       "</li>\n",
       "\n",
       "<li>upper_bound: \n",
       "<ul>\n",
       "\n",
       "<li>value: 1.0</li>\n",
       "\n",
       "<li>desc: upper bound of gaussian  setting to np.inf results in half normal distribution</li>\n",
       "\n",
       "<li>min_value: None</li>\n",
       "\n",
       "<li>max_value: None</li>\n",
       "\n",
       "<li>unit: </li>\n",
       "\n",
       "<li>is_normalization: False</li>\n",
       "\n",
       "<li>delta: 0.1</li>\n",
       "\n",
       "<li>free: True</li>\n",
       "\n",
       "</ul>\n",
       "\n",
       "</li>\n",
       "\n",
       "</ul>\n",
       "\n",
       "</li>\n",
       "\n",
       "</ul>\n"
      ],
      "text/plain": [
       "  * description: A  truncated Gaussian function defined on the interval between the lower_bound\n",
       "    * (a) and upper_bound (b)\n",
       "  * formula: $\\begin{split}f(x;\\mu,\\sigma,a,b)=\\frac{\\frac{1}{\\sigma} \\phi\\left( \\frac{x-\\mu}{\\sigma}\n",
       "    * \\right)}{\\Phi\\left( \\frac{b-\\mu}{\\sigma} \\right) - \\Phi\\left( \\frac{a-\\mu}{\\sigma}\n",
       "    * \\right)}\\\\\\phi\\left(z\\right)= \\frac{1}{\\sqrt{2 \\pi}}\\exp\\left(-\\frac{1}{2}z^2\\right)\\\\\\Phi\\left(z\\right)\n",
       "    * =\\frac{1}{2}\\left(1+erf\\left(\\frac{z}{\\sqrt(2)}\\right)\\right)\\end{split}$\n",
       "  * parameters:\n",
       "    * F:\n",
       "      * value: 1.0\n",
       "      * desc: Integral between -inf and +inf. Fix this to 1 to obtain a Normal distribution\n",
       "      * min_value: null\n",
       "      * max_value: null\n",
       "      * unit: ''\n",
       "      * is_normalization: false\n",
       "      * delta: 0.1\n",
       "      * free: true\n",
       "    * mu:\n",
       "      * value: 0.0\n",
       "      * desc: Central value\n",
       "      * min_value: null\n",
       "      * max_value: null\n",
       "      * unit: ''\n",
       "      * is_normalization: false\n",
       "      * delta: 0.1\n",
       "      * free: true\n",
       "    * sigma:\n",
       "      * value: 1.0\n",
       "      * desc: standard deviation\n",
       "      * min_value: 1.0e-12\n",
       "      * max_value: null\n",
       "      * unit: ''\n",
       "      * is_normalization: false\n",
       "      * delta: 0.1\n",
       "      * free: true\n",
       "    * lower_bound:\n",
       "      * value: -1.0\n",
       "      * desc: lower bound of gaussian, setting to -np.inf results in half normal distribution\n",
       "      * min_value: null\n",
       "      * max_value: null\n",
       "      * unit: ''\n",
       "      * is_normalization: false\n",
       "      * delta: 0.1\n",
       "      * free: true\n",
       "    * upper_bound:\n",
       "      * value: 1.0\n",
       "      * desc: upper bound of gaussian  setting to np.inf results in half normal distribution\n",
       "      * min_value: null\n",
       "      * max_value: null\n",
       "      * unit: ''\n",
       "      * is_normalization: false\n",
       "      * delta: 0.1\n",
       "      * free: true"
      ]
     },
     "metadata": {},
     "output_type": "display_data"
    }
   ],
   "source": [
    "func.display()"
   ]
  },
  {
   "cell_type": "markdown",
   "id": "62075430",
   "metadata": {
    "papermill": {
     "duration": 0.005148,
     "end_time": "2025-09-24T17:08:53.146511",
     "exception": false,
     "start_time": "2025-09-24T17:08:53.141363",
     "status": "completed"
    },
    "tags": []
   },
   "source": [
    "## Shape \n",
    "\n",
    "The shape of the function. \n",
    "\n",
    "*If this is not a photon model but a prior or linear function then ignore the units as these docs are auto-generated*"
   ]
  },
  {
   "cell_type": "code",
   "execution_count": 6,
   "id": "7dd1af84",
   "metadata": {
    "execution": {
     "iopub.execute_input": "2025-09-24T17:08:53.159325Z",
     "iopub.status.busy": "2025-09-24T17:08:53.158656Z",
     "iopub.status.idle": "2025-09-24T17:08:53.387439Z",
     "shell.execute_reply": "2025-09-24T17:08:53.385366Z"
    },
    "papermill": {
     "duration": 0.239181,
     "end_time": "2025-09-24T17:08:53.389834",
     "exception": false,
     "start_time": "2025-09-24T17:08:53.150653",
     "status": "completed"
    },
    "tags": [
     "nbsphinx-thumbnail"
    ]
   },
   "outputs": [
    {
     "data": {
      "text/plain": [
       "Text(0, 0.5, 'probability')"
      ]
     },
     "execution_count": 6,
     "metadata": {},
     "output_type": "execute_result"
    },
    {
     "data": {
      "image/png": "[encoded data removed]",
      "text/plain": [
       "<Figure size 1040x910 with 1 Axes>"
      ]
     },
     "metadata": {},
     "output_type": "display_data"
    }
   ],
   "source": [
    "fig, ax = plt.subplots()\n",
    "\n",
    "\n",
    "ax.plot(energy_grid, func(energy_grid), color=blue, lw=3)\n",
    "\n",
    "ax.set_xlabel(\"x\")\n",
    "ax.set_ylabel(\"probability\")\n"
   ]
  },
  {
   "cell_type": "markdown",
   "id": "bbe81703",
   "metadata": {
    "papermill": {
     "duration": 0.003496,
     "end_time": "2025-09-24T17:08:53.397276",
     "exception": false,
     "start_time": "2025-09-24T17:08:53.393780",
     "status": "completed"
    },
    "tags": []
   },
   "source": [
    "## Random Number Generation\n",
    "\n",
    "This is how we can generate random numbers from the prior.\n"
   ]
  },
  {
   "cell_type": "code",
   "execution_count": 7,
   "id": "3ce12ad4",
   "metadata": {
    "execution": {
     "iopub.execute_input": "2025-09-24T17:08:53.405008Z",
     "iopub.status.busy": "2025-09-24T17:08:53.404040Z",
     "iopub.status.idle": "2025-09-24T17:08:53.711020Z",
     "shell.execute_reply": "2025-09-24T17:08:53.710229Z"
    },
    "papermill": {
     "duration": 0.313405,
     "end_time": "2025-09-24T17:08:53.712348",
     "exception": false,
     "start_time": "2025-09-24T17:08:53.398943",
     "status": "completed"
    },
    "tags": []
   },
   "outputs": [
    {
     "data": {
      "text/plain": [
       "Text(0, 0.5, 'N')"
      ]
     },
     "execution_count": 7,
     "metadata": {},
     "output_type": "execute_result"
    },
    {
     "data": {
      "image/png": "[encoded data removed]",
      "text/plain": [
       "<Figure size 1040x910 with 1 Axes>"
      ]
     },
     "metadata": {},
     "output_type": "display_data"
    }
   ],
   "source": [
    "\n",
    "\n",
    "u = np.random.uniform(0,1, size=5000)\n",
    "\n",
    "draws = [func.from_unit_cube(x) for x in u]\n",
    "\n",
    "\n",
    "fig, ax = plt.subplots()\n",
    "\n",
    "\n",
    "ax.hist(draws, color=green, bins=50)\n",
    "\n",
    "ax.set_xlabel(\"value\")\n",
    "ax.set_ylabel(\"N\")\n",
    "\n"
   ]
  }
 ],
 "metadata": {
  "jupytext": {
   "formats": "ipynb,md"
  },
  "kernelspec": {
   "display_name": "Python 3 (ipykernel)",
   "language": "python",
   "name": "python3"
  },
  "language_info": {
   "codemirror_mode": {
    "name": "ipython",
    "version": 3
   },
   "file_extension": ".py",
   "mimetype": "text/x-python",
   "name": "python",
   "nbconvert_exporter": "python",
   "pygments_lexer": "ipython3",
   "version": "3.9.13"
  },
  "papermill": {
   "default_parameters": {},
   "duration": 4.346856,
   "end_time": "2025-09-24T17:08:54.250550",
   "environment_variables": {},
   "exception": null,
   "input_path": "Truncated_gaussian.ipynb",
   "output_path": "/Users/runner/work/astromodels/astromodels/docs/notebooks/Truncated_gaussian.ipynb",
   "parameters": {
    "func_name": "Truncated_gaussian",
    "positive_prior": false
   },
   "start_time": "2025-09-24T17:08:49.903694",
   "version": "2.6.0"
  }
 },
 "nbformat": 4,
 "nbformat_minor": 5
}
