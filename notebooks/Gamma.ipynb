{
 "cells": [
  {
   "cell_type": "markdown",
   "id": "e8ff6656",
   "metadata": {
    "papermill": {
     "duration": 0.001747,
     "end_time": "2025-10-01T22:38:00.833813",
     "exception": false,
     "start_time": "2025-10-01T22:38:00.832066",
     "status": "completed"
    },
    "tags": []
   },
   "source": [
    "# Gamma"
   ]
  },
  {
   "cell_type": "code",
   "execution_count": 1,
   "id": "6d8e5d19",
   "metadata": {
    "execution": {
     "iopub.execute_input": "2025-10-01T22:38:00.839380Z",
     "iopub.status.busy": "2025-10-01T22:38:00.839179Z",
     "iopub.status.idle": "2025-10-01T22:38:03.484479Z",
     "shell.execute_reply": "2025-10-01T22:38:03.483660Z"
    },
    "nbsphinx": "hidden",
    "papermill": {
     "duration": 2.650435,
     "end_time": "2025-10-01T22:38:03.486052",
     "exception": false,
     "start_time": "2025-10-01T22:38:00.835617",
     "status": "completed"
    },
    "tags": []
   },
   "outputs": [],
   "source": [
    "%%capture\n",
    "\n",
    "import numpy as np\n",
    "\n",
    "import matplotlib.pyplot as plt\n",
    "\n",
    "import warnings\n",
    "warnings.simplefilter(\"ignore\")\n",
    "\n",
    "from astromodels.functions.function import _known_functions\n",
    "\n",
    "\n",
    "from jupyterthemes import jtplot\n",
    "jtplot.style(context=\"talk\", fscale=1, ticks=True, grid=False)\n",
    "%matplotlib inline"
   ]
  },
  {
   "cell_type": "code",
   "execution_count": 2,
   "id": "7ae0ad59",
   "metadata": {
    "execution": {
     "iopub.execute_input": "2025-10-01T22:38:03.494690Z",
     "iopub.status.busy": "2025-10-01T22:38:03.494196Z",
     "iopub.status.idle": "2025-10-01T22:38:03.501519Z",
     "shell.execute_reply": "2025-10-01T22:38:03.500374Z"
    },
    "nbsphinx": "hidden",
    "papermill": {
     "duration": 0.015021,
     "end_time": "2025-10-01T22:38:03.503106",
     "exception": false,
     "start_time": "2025-10-01T22:38:03.488085",
     "status": "completed"
    },
    "tags": [
     "parameters"
    ]
   },
   "outputs": [],
   "source": [
    "func_name = \"TbAbs\"\n",
    "\n",
    "positive_prior = False\n"
   ]
  },
  {
   "cell_type": "code",
   "execution_count": 3,
   "id": "6581d382",
   "metadata": {
    "execution": {
     "iopub.execute_input": "2025-10-01T22:38:03.508984Z",
     "iopub.status.busy": "2025-10-01T22:38:03.508554Z",
     "iopub.status.idle": "2025-10-01T22:38:03.516944Z",
     "shell.execute_reply": "2025-10-01T22:38:03.515449Z"
    },
    "papermill": {
     "duration": 0.014555,
     "end_time": "2025-10-01T22:38:03.520292",
     "exception": false,
     "start_time": "2025-10-01T22:38:03.505737",
     "status": "completed"
    },
    "tags": [
     "injected-parameters"
    ]
   },
   "outputs": [],
   "source": [
    "# Parameters\n",
    "func_name = \"Gamma\"\n",
    "positive_prior = True\n"
   ]
  },
  {
   "cell_type": "code",
   "execution_count": 4,
   "id": "ec9ff502",
   "metadata": {
    "execution": {
     "iopub.execute_input": "2025-10-01T22:38:03.524771Z",
     "iopub.status.busy": "2025-10-01T22:38:03.524230Z",
     "iopub.status.idle": "2025-10-01T22:38:03.535227Z",
     "shell.execute_reply": "2025-10-01T22:38:03.533580Z"
    },
    "lines_to_next_cell": 0,
    "nbsphinx": "hidden",
    "papermill": {
     "duration": 0.016416,
     "end_time": "2025-10-01T22:38:03.538181",
     "exception": false,
     "start_time": "2025-10-01T22:38:03.521765",
     "status": "completed"
    },
    "tags": []
   },
   "outputs": [],
   "source": [
    "func = _known_functions[func_name]()\n",
    "\n",
    "if not positive_prior:\n",
    "\n",
    "\tenergy_grid = np.linspace(-5,5,1000)\n",
    "\n",
    "else:\n",
    "    \n",
    "    energy_grid = np.linspace(0,1,1000)\n",
    "    \n",
    "    \n",
    "    \n",
    "    \n",
    "blue = \"#4152E3\"\n",
    "red = \"#E3414B\"\n",
    "green = \"#41E39E\""
   ]
  },
  {
   "cell_type": "markdown",
   "id": "5f6e41a5",
   "metadata": {
    "lines_to_next_cell": 0,
    "papermill": {
     "duration": 0.001361,
     "end_time": "2025-10-01T22:38:03.542468",
     "exception": false,
     "start_time": "2025-10-01T22:38:03.541107",
     "status": "completed"
    },
    "tags": []
   },
   "source": [
    "## Description"
   ]
  },
  {
   "cell_type": "code",
   "execution_count": 5,
   "id": "f3b4f17e",
   "metadata": {
    "execution": {
     "iopub.execute_input": "2025-10-01T22:38:03.550567Z",
     "iopub.status.busy": "2025-10-01T22:38:03.547639Z",
     "iopub.status.idle": "2025-10-01T22:38:03.557435Z",
     "shell.execute_reply": "2025-10-01T22:38:03.555926Z"
    },
    "papermill": {
     "duration": 0.016688,
     "end_time": "2025-10-01T22:38:03.562155",
     "exception": false,
     "start_time": "2025-10-01T22:38:03.545467",
     "status": "completed"
    },
    "tags": []
   },
   "outputs": [
    {
     "data": {
      "text/html": [
       "<ul>\n",
       "\n",
       "<li>description: A gamma distribution function</li>\n",
       "\n",
       "<li>formula: $ f(x,\\alpha, \\beta)=\\frac{\\beta^\\alpha x^{\\alpha-1} e^{-\\beta x}}{\\Gamma(\\alpha)}$</li>\n",
       "\n",
       "<li>parameters: \n",
       "<ul>\n",
       "\n",
       "<li>alpha: \n",
       "<ul>\n",
       "\n",
       "<li>value: 0.5</li>\n",
       "\n",
       "<li>desc: first shape parameter</li>\n",
       "\n",
       "<li>min_value: 0.0</li>\n",
       "\n",
       "<li>max_value: None</li>\n",
       "\n",
       "<li>unit: </li>\n",
       "\n",
       "<li>is_normalization: False</li>\n",
       "\n",
       "<li>delta: 0.05</li>\n",
       "\n",
       "<li>free: True</li>\n",
       "\n",
       "</ul>\n",
       "\n",
       "</li>\n",
       "\n",
       "<li>beta: \n",
       "<ul>\n",
       "\n",
       "<li>value: 1.0</li>\n",
       "\n",
       "<li>desc: second shape parameter</li>\n",
       "\n",
       "<li>min_value: 0.0</li>\n",
       "\n",
       "<li>max_value: None</li>\n",
       "\n",
       "<li>unit: </li>\n",
       "\n",
       "<li>is_normalization: False</li>\n",
       "\n",
       "<li>delta: 0.1</li>\n",
       "\n",
       "<li>free: True</li>\n",
       "\n",
       "</ul>\n",
       "\n",
       "</li>\n",
       "\n",
       "</ul>\n",
       "\n",
       "</li>\n",
       "\n",
       "</ul>\n"
      ],
      "text/plain": [
       "  * description: A gamma distribution function\n",
       "  * formula: $ f(x,\\alpha, \\beta)=\\frac{\\beta^\\alpha x^{\\alpha-1} e^{-\\beta x}}{\\Gamma(\\alpha)}$\n",
       "  * parameters:\n",
       "    * alpha:\n",
       "      * value: 0.5\n",
       "      * desc: first shape parameter\n",
       "      * min_value: 0.0\n",
       "      * max_value: null\n",
       "      * unit: ''\n",
       "      * is_normalization: false\n",
       "      * delta: 0.05\n",
       "      * free: true\n",
       "    * beta:\n",
       "      * value: 1.0\n",
       "      * desc: second shape parameter\n",
       "      * min_value: 0.0\n",
       "      * max_value: null\n",
       "      * unit: ''\n",
       "      * is_normalization: false\n",
       "      * delta: 0.1\n",
       "      * free: true"
      ]
     },
     "metadata": {},
     "output_type": "display_data"
    }
   ],
   "source": [
    "func.display()"
   ]
  },
  {
   "cell_type": "markdown",
   "id": "f18c0f12",
   "metadata": {
    "papermill": {
     "duration": 0.00337,
     "end_time": "2025-10-01T22:38:03.567639",
     "exception": false,
     "start_time": "2025-10-01T22:38:03.564269",
     "status": "completed"
    },
    "tags": []
   },
   "source": [
    "## Shape \n",
    "\n",
    "The shape of the function. \n",
    "\n",
    "*If this is not a photon model but a prior or linear function then ignore the units as these docs are auto-generated*"
   ]
  },
  {
   "cell_type": "code",
   "execution_count": 6,
   "id": "50d48ecb",
   "metadata": {
    "execution": {
     "iopub.execute_input": "2025-10-01T22:38:03.573341Z",
     "iopub.status.busy": "2025-10-01T22:38:03.573102Z",
     "iopub.status.idle": "2025-10-01T22:38:03.699428Z",
     "shell.execute_reply": "2025-10-01T22:38:03.697221Z"
    },
    "papermill": {
     "duration": 0.134686,
     "end_time": "2025-10-01T22:38:03.704471",
     "exception": false,
     "start_time": "2025-10-01T22:38:03.569785",
     "status": "completed"
    },
    "tags": [
     "nbsphinx-thumbnail"
    ]
   },
   "outputs": [
    {
     "data": {
      "text/plain": [
       "Text(0, 0.5, 'probability')"
      ]
     },
     "execution_count": 6,
     "metadata": {},
     "output_type": "execute_result"
    },
    {
     "data": {
      "image/png": "[encoded data removed]",
      "text/plain": [
       "<Figure size 1040x910 with 1 Axes>"
      ]
     },
     "metadata": {},
     "output_type": "display_data"
    }
   ],
   "source": [
    "fig, ax = plt.subplots()\n",
    "\n",
    "\n",
    "ax.plot(energy_grid, func(energy_grid), color=blue, lw=3)\n",
    "\n",
    "ax.set_xlabel(\"x\")\n",
    "ax.set_ylabel(\"probability\")\n"
   ]
  },
  {
   "cell_type": "markdown",
   "id": "3f7a141a",
   "metadata": {
    "papermill": {
     "duration": 0.001749,
     "end_time": "2025-10-01T22:38:03.709310",
     "exception": false,
     "start_time": "2025-10-01T22:38:03.707561",
     "status": "completed"
    },
    "tags": []
   },
   "source": [
    "## Random Number Generation\n",
    "\n",
    "This is how we can generate random numbers from the prior.\n"
   ]
  },
  {
   "cell_type": "code",
   "execution_count": 7,
   "id": "5af6edbf",
   "metadata": {
    "execution": {
     "iopub.execute_input": "2025-10-01T22:38:03.716071Z",
     "iopub.status.busy": "2025-10-01T22:38:03.715880Z",
     "iopub.status.idle": "2025-10-01T22:38:04.181887Z",
     "shell.execute_reply": "2025-10-01T22:38:04.180515Z"
    },
    "papermill": {
     "duration": 0.472651,
     "end_time": "2025-10-01T22:38:04.183469",
     "exception": false,
     "start_time": "2025-10-01T22:38:03.710818",
     "status": "completed"
    },
    "tags": []
   },
   "outputs": [
    {
     "data": {
      "text/plain": [
       "Text(0, 0.5, 'N')"
      ]
     },
     "execution_count": 7,
     "metadata": {},
     "output_type": "execute_result"
    },
    {
     "data": {
      "image/png": "[encoded data removed]",
      "text/plain": [
       "<Figure size 1040x910 with 1 Axes>"
      ]
     },
     "metadata": {},
     "output_type": "display_data"
    }
   ],
   "source": [
    "\n",
    "\n",
    "u = np.random.uniform(0,1, size=5000)\n",
    "\n",
    "draws = [func.from_unit_cube(x) for x in u]\n",
    "\n",
    "\n",
    "fig, ax = plt.subplots()\n",
    "\n",
    "\n",
    "ax.hist(draws, color=green, bins=50)\n",
    "\n",
    "ax.set_xlabel(\"value\")\n",
    "ax.set_ylabel(\"N\")\n",
    "\n"
   ]
  }
 ],
 "metadata": {
  "jupytext": {
   "formats": "ipynb,md"
  },
  "kernelspec": {
   "display_name": "Python 3 (ipykernel)",
   "language": "python",
   "name": "python3"
  },
  "language_info": {
   "codemirror_mode": {
    "name": "ipython",
    "version": 3
   },
   "file_extension": ".py",
   "mimetype": "text/x-python",
   "name": "python",
   "nbconvert_exporter": "python",
   "pygments_lexer": "ipython3",
   "version": "3.9.13"
  },
  "papermill": {
   "default_parameters": {},
   "duration": 4.72928,
   "end_time": "2025-10-01T22:38:04.834755",
   "environment_variables": {},
   "exception": null,
   "input_path": "Gamma.ipynb",
   "output_path": "/Users/runner/work/astromodels/astromodels/docs/notebooks/Gamma.ipynb",
   "parameters": {
    "func_name": "Gamma",
    "positive_prior": true
   },
   "start_time": "2025-10-01T22:38:00.105475",
   "version": "2.6.0"
  }
 },
 "nbformat": 4,
 "nbformat_minor": 5
}
