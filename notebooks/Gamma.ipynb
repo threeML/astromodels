{
 "cells": [
  {
   "cell_type": "markdown",
   "id": "6cab0ec2",
   "metadata": {
    "papermill": {
     "duration": 0.001384,
     "end_time": "2025-10-03T18:32:45.881463",
     "exception": false,
     "start_time": "2025-10-03T18:32:45.880079",
     "status": "completed"
    },
    "tags": []
   },
   "source": [
    "# Gamma"
   ]
  },
  {
   "cell_type": "code",
   "execution_count": 1,
   "id": "0e97ff0d",
   "metadata": {
    "execution": {
     "iopub.execute_input": "2025-10-03T18:32:45.884468Z",
     "iopub.status.busy": "2025-10-03T18:32:45.884297Z",
     "iopub.status.idle": "2025-10-03T18:32:47.945546Z",
     "shell.execute_reply": "2025-10-03T18:32:47.944805Z"
    },
    "nbsphinx": "hidden",
    "papermill": {
     "duration": 2.064242,
     "end_time": "2025-10-03T18:32:47.946846",
     "exception": false,
     "start_time": "2025-10-03T18:32:45.882604",
     "status": "completed"
    },
    "tags": []
   },
   "outputs": [],
   "source": [
    "%%capture\n",
    "\n",
    "import numpy as np\n",
    "\n",
    "import matplotlib.pyplot as plt\n",
    "\n",
    "import warnings\n",
    "warnings.simplefilter(\"ignore\")\n",
    "\n",
    "from astromodels.functions.function import _known_functions\n",
    "\n",
    "\n",
    "from jupyterthemes import jtplot\n",
    "jtplot.style(context=\"talk\", fscale=1, ticks=True, grid=False)\n",
    "%matplotlib inline"
   ]
  },
  {
   "cell_type": "code",
   "execution_count": 2,
   "id": "85c94d98",
   "metadata": {
    "execution": {
     "iopub.execute_input": "2025-10-03T18:32:47.950315Z",
     "iopub.status.busy": "2025-10-03T18:32:47.949942Z",
     "iopub.status.idle": "2025-10-03T18:32:47.956282Z",
     "shell.execute_reply": "2025-10-03T18:32:47.955764Z"
    },
    "nbsphinx": "hidden",
    "papermill": {
     "duration": 0.009174,
     "end_time": "2025-10-03T18:32:47.957417",
     "exception": false,
     "start_time": "2025-10-03T18:32:47.948243",
     "status": "completed"
    },
    "tags": [
     "parameters"
    ]
   },
   "outputs": [],
   "source": [
    "func_name = \"TbAbs\"\n",
    "\n",
    "positive_prior = False\n"
   ]
  },
  {
   "cell_type": "code",
   "execution_count": 3,
   "id": "fdbd9013",
   "metadata": {
    "execution": {
     "iopub.execute_input": "2025-10-03T18:32:47.960781Z",
     "iopub.status.busy": "2025-10-03T18:32:47.960577Z",
     "iopub.status.idle": "2025-10-03T18:32:47.966994Z",
     "shell.execute_reply": "2025-10-03T18:32:47.966302Z"
    },
    "papermill": {
     "duration": 0.009689,
     "end_time": "2025-10-03T18:32:47.968494",
     "exception": false,
     "start_time": "2025-10-03T18:32:47.958805",
     "status": "completed"
    },
    "tags": [
     "injected-parameters"
    ]
   },
   "outputs": [],
   "source": [
    "# Parameters\n",
    "func_name = \"Gamma\"\n",
    "positive_prior = True\n"
   ]
  },
  {
   "cell_type": "code",
   "execution_count": 4,
   "id": "dc8f6ada",
   "metadata": {
    "execution": {
     "iopub.execute_input": "2025-10-03T18:32:47.971755Z",
     "iopub.status.busy": "2025-10-03T18:32:47.971563Z",
     "iopub.status.idle": "2025-10-03T18:32:47.974972Z",
     "shell.execute_reply": "2025-10-03T18:32:47.974406Z"
    },
    "lines_to_next_cell": 0,
    "nbsphinx": "hidden",
    "papermill": {
     "duration": 0.006319,
     "end_time": "2025-10-03T18:32:47.976099",
     "exception": false,
     "start_time": "2025-10-03T18:32:47.969780",
     "status": "completed"
    },
    "tags": []
   },
   "outputs": [],
   "source": [
    "func = _known_functions[func_name]()\n",
    "\n",
    "if not positive_prior:\n",
    "\n",
    "\tenergy_grid = np.linspace(-5,5,1000)\n",
    "\n",
    "else:\n",
    "    \n",
    "    energy_grid = np.linspace(0,1,1000)\n",
    "    \n",
    "    \n",
    "    \n",
    "    \n",
    "blue = \"#4152E3\"\n",
    "red = \"#E3414B\"\n",
    "green = \"#41E39E\""
   ]
  },
  {
   "cell_type": "markdown",
   "id": "9006973b",
   "metadata": {
    "lines_to_next_cell": 0,
    "papermill": {
     "duration": 0.001049,
     "end_time": "2025-10-03T18:32:47.978394",
     "exception": false,
     "start_time": "2025-10-03T18:32:47.977345",
     "status": "completed"
    },
    "tags": []
   },
   "source": [
    "## Description"
   ]
  },
  {
   "cell_type": "code",
   "execution_count": 5,
   "id": "e9aebef6",
   "metadata": {
    "execution": {
     "iopub.execute_input": "2025-10-03T18:32:47.981034Z",
     "iopub.status.busy": "2025-10-03T18:32:47.980885Z",
     "iopub.status.idle": "2025-10-03T18:32:47.984691Z",
     "shell.execute_reply": "2025-10-03T18:32:47.984263Z"
    },
    "papermill": {
     "duration": 0.006438,
     "end_time": "2025-10-03T18:32:47.985807",
     "exception": false,
     "start_time": "2025-10-03T18:32:47.979369",
     "status": "completed"
    },
    "tags": []
   },
   "outputs": [
    {
     "data": {
      "text/html": [
       "<ul>\n",
       "\n",
       "<li>description: A gamma distribution function</li>\n",
       "\n",
       "<li>formula: $ f(x,\\alpha, \\beta)=\\frac{\\beta^\\alpha x^{\\alpha-1} e^{-\\beta x}}{\\Gamma(\\alpha)}$</li>\n",
       "\n",
       "<li>parameters: \n",
       "<ul>\n",
       "\n",
       "<li>alpha: \n",
       "<ul>\n",
       "\n",
       "<li>value: 0.5</li>\n",
       "\n",
       "<li>desc: first shape parameter</li>\n",
       "\n",
       "<li>min_value: 0.0</li>\n",
       "\n",
       "<li>max_value: None</li>\n",
       "\n",
       "<li>unit: </li>\n",
       "\n",
       "<li>is_normalization: False</li>\n",
       "\n",
       "<li>delta: 0.05</li>\n",
       "\n",
       "<li>free: True</li>\n",
       "\n",
       "</ul>\n",
       "\n",
       "</li>\n",
       "\n",
       "<li>beta: \n",
       "<ul>\n",
       "\n",
       "<li>value: 1.0</li>\n",
       "\n",
       "<li>desc: second shape parameter</li>\n",
       "\n",
       "<li>min_value: 0.0</li>\n",
       "\n",
       "<li>max_value: None</li>\n",
       "\n",
       "<li>unit: </li>\n",
       "\n",
       "<li>is_normalization: False</li>\n",
       "\n",
       "<li>delta: 0.1</li>\n",
       "\n",
       "<li>free: True</li>\n",
       "\n",
       "</ul>\n",
       "\n",
       "</li>\n",
       "\n",
       "</ul>\n",
       "\n",
       "</li>\n",
       "\n",
       "</ul>\n"
      ],
      "text/plain": [
       "  * description: A gamma distribution function\n",
       "  * formula: $ f(x,\\alpha, \\beta)=\\frac{\\beta^\\alpha x^{\\alpha-1} e^{-\\beta x}}{\\Gamma(\\alpha)}$\n",
       "  * parameters:\n",
       "    * alpha:\n",
       "      * value: 0.5\n",
       "      * desc: first shape parameter\n",
       "      * min_value: 0.0\n",
       "      * max_value: null\n",
       "      * unit: ''\n",
       "      * is_normalization: false\n",
       "      * delta: 0.05\n",
       "      * free: true\n",
       "    * beta:\n",
       "      * value: 1.0\n",
       "      * desc: second shape parameter\n",
       "      * min_value: 0.0\n",
       "      * max_value: null\n",
       "      * unit: ''\n",
       "      * is_normalization: false\n",
       "      * delta: 0.1\n",
       "      * free: true"
      ]
     },
     "metadata": {},
     "output_type": "display_data"
    }
   ],
   "source": [
    "func.display()"
   ]
  },
  {
   "cell_type": "markdown",
   "id": "c907da9e",
   "metadata": {
    "papermill": {
     "duration": 0.00112,
     "end_time": "2025-10-03T18:32:47.988129",
     "exception": false,
     "start_time": "2025-10-03T18:32:47.987009",
     "status": "completed"
    },
    "tags": []
   },
   "source": [
    "## Shape \n",
    "\n",
    "The shape of the function. \n",
    "\n",
    "*If this is not a photon model but a prior or linear function then ignore the units as these docs are auto-generated*"
   ]
  },
  {
   "cell_type": "code",
   "execution_count": 6,
   "id": "f7e90231",
   "metadata": {
    "execution": {
     "iopub.execute_input": "2025-10-03T18:32:47.991059Z",
     "iopub.status.busy": "2025-10-03T18:32:47.990911Z",
     "iopub.status.idle": "2025-10-03T18:32:48.072142Z",
     "shell.execute_reply": "2025-10-03T18:32:48.071753Z"
    },
    "papermill": {
     "duration": 0.084028,
     "end_time": "2025-10-03T18:32:48.073362",
     "exception": false,
     "start_time": "2025-10-03T18:32:47.989334",
     "status": "completed"
    },
    "tags": [
     "nbsphinx-thumbnail"
    ]
   },
   "outputs": [
    {
     "data": {
      "text/plain": [
       "Text(0, 0.5, 'probability')"
      ]
     },
     "execution_count": 6,
     "metadata": {},
     "output_type": "execute_result"
    },
    {
     "data": {
      "image/png": "[encoded data removed]",
      "text/plain": [
       "<Figure size 1040x910 with 1 Axes>"
      ]
     },
     "metadata": {},
     "output_type": "display_data"
    }
   ],
   "source": [
    "fig, ax = plt.subplots()\n",
    "\n",
    "\n",
    "ax.plot(energy_grid, func(energy_grid), color=blue, lw=3)\n",
    "\n",
    "ax.set_xlabel(\"x\")\n",
    "ax.set_ylabel(\"probability\")\n"
   ]
  },
  {
   "cell_type": "markdown",
   "id": "63f8c65f",
   "metadata": {
    "papermill": {
     "duration": 0.001409,
     "end_time": "2025-10-03T18:32:48.076434",
     "exception": false,
     "start_time": "2025-10-03T18:32:48.075025",
     "status": "completed"
    },
    "tags": []
   },
   "source": [
    "## Random Number Generation\n",
    "\n",
    "This is how we can generate random numbers from the prior.\n"
   ]
  },
  {
   "cell_type": "code",
   "execution_count": 7,
   "id": "6ba6fb4e",
   "metadata": {
    "execution": {
     "iopub.execute_input": "2025-10-03T18:32:48.079789Z",
     "iopub.status.busy": "2025-10-03T18:32:48.079647Z",
     "iopub.status.idle": "2025-10-03T18:32:48.383380Z",
     "shell.execute_reply": "2025-10-03T18:32:48.382038Z"
    },
    "papermill": {
     "duration": 0.306682,
     "end_time": "2025-10-03T18:32:48.384419",
     "exception": false,
     "start_time": "2025-10-03T18:32:48.077737",
     "status": "completed"
    },
    "tags": []
   },
   "outputs": [
    {
     "data": {
      "text/plain": [
       "Text(0, 0.5, 'N')"
      ]
     },
     "execution_count": 7,
     "metadata": {},
     "output_type": "execute_result"
    },
    {
     "data": {
      "image/png": "[encoded data removed]",
      "text/plain": [
       "<Figure size 1040x910 with 1 Axes>"
      ]
     },
     "metadata": {},
     "output_type": "display_data"
    }
   ],
   "source": [
    "\n",
    "\n",
    "u = np.random.uniform(0,1, size=5000)\n",
    "\n",
    "draws = [func.from_unit_cube(x) for x in u]\n",
    "\n",
    "\n",
    "fig, ax = plt.subplots()\n",
    "\n",
    "\n",
    "ax.hist(draws, color=green, bins=50)\n",
    "\n",
    "ax.set_xlabel(\"value\")\n",
    "ax.set_ylabel(\"N\")\n",
    "\n"
   ]
  }
 ],
 "metadata": {
  "jupytext": {
   "formats": "ipynb,md"
  },
  "kernelspec": {
   "display_name": "Python 3 (ipykernel)",
   "language": "python",
   "name": "python3"
  },
  "language_info": {
   "codemirror_mode": {
    "name": "ipython",
    "version": 3
   },
   "file_extension": ".py",
   "mimetype": "text/x-python",
   "name": "python",
   "nbconvert_exporter": "python",
   "pygments_lexer": "ipython3",
   "version": "3.9.13"
  },
  "papermill": {
   "default_parameters": {},
   "duration": 3.569009,
   "end_time": "2025-10-03T18:32:48.818640",
   "environment_variables": {},
   "exception": null,
   "input_path": "Gamma.ipynb",
   "output_path": "/Users/runner/work/astromodels/astromodels/docs/notebooks/Gamma.ipynb",
   "parameters": {
    "func_name": "Gamma",
    "positive_prior": true
   },
   "start_time": "2025-10-03T18:32:45.249631",
   "version": "2.6.0"
  }
 },
 "nbformat": 4,
 "nbformat_minor": 5
}
