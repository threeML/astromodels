{
 "cells": [
  {
   "cell_type": "markdown",
   "id": "3582aa83",
   "metadata": {
    "papermill": {
     "duration": 0.005765,
     "end_time": "2025-09-26T21:05:54.025694",
     "exception": false,
     "start_time": "2025-09-26T21:05:54.019929",
     "status": "completed"
    },
    "tags": []
   },
   "source": [
    "# Gamma"
   ]
  },
  {
   "cell_type": "code",
   "execution_count": 1,
   "id": "77cdb766",
   "metadata": {
    "execution": {
     "iopub.execute_input": "2025-09-26T21:05:54.035510Z",
     "iopub.status.busy": "2025-09-26T21:05:54.034824Z",
     "iopub.status.idle": "2025-09-26T21:05:55.789388Z",
     "shell.execute_reply": "2025-09-26T21:05:55.788852Z"
    },
    "nbsphinx": "hidden",
    "papermill": {
     "duration": 1.76097,
     "end_time": "2025-09-26T21:05:55.790751",
     "exception": false,
     "start_time": "2025-09-26T21:05:54.029781",
     "status": "completed"
    },
    "tags": []
   },
   "outputs": [],
   "source": [
    "%%capture\n",
    "\n",
    "import numpy as np\n",
    "\n",
    "import matplotlib.pyplot as plt\n",
    "\n",
    "import warnings\n",
    "warnings.simplefilter(\"ignore\")\n",
    "\n",
    "from astromodels.functions.function import _known_functions\n",
    "\n",
    "\n",
    "from jupyterthemes import jtplot\n",
    "jtplot.style(context=\"talk\", fscale=1, ticks=True, grid=False)\n",
    "%matplotlib inline"
   ]
  },
  {
   "cell_type": "code",
   "execution_count": 2,
   "id": "269d46e9",
   "metadata": {
    "execution": {
     "iopub.execute_input": "2025-09-26T21:05:55.793957Z",
     "iopub.status.busy": "2025-09-26T21:05:55.793665Z",
     "iopub.status.idle": "2025-09-26T21:05:55.801810Z",
     "shell.execute_reply": "2025-09-26T21:05:55.801422Z"
    },
    "nbsphinx": "hidden",
    "papermill": {
     "duration": 0.011001,
     "end_time": "2025-09-26T21:05:55.803133",
     "exception": false,
     "start_time": "2025-09-26T21:05:55.792132",
     "status": "completed"
    },
    "tags": [
     "parameters"
    ]
   },
   "outputs": [],
   "source": [
    "func_name = \"TbAbs\"\n",
    "\n",
    "positive_prior = False\n"
   ]
  },
  {
   "cell_type": "code",
   "execution_count": 3,
   "id": "4ad0c281",
   "metadata": {
    "execution": {
     "iopub.execute_input": "2025-09-26T21:05:55.805850Z",
     "iopub.status.busy": "2025-09-26T21:05:55.805721Z",
     "iopub.status.idle": "2025-09-26T21:05:55.813126Z",
     "shell.execute_reply": "2025-09-26T21:05:55.812710Z"
    },
    "papermill": {
     "duration": 0.009904,
     "end_time": "2025-09-26T21:05:55.814191",
     "exception": false,
     "start_time": "2025-09-26T21:05:55.804287",
     "status": "completed"
    },
    "tags": [
     "injected-parameters"
    ]
   },
   "outputs": [],
   "source": [
    "# Parameters\n",
    "func_name = \"Gamma\"\n",
    "positive_prior = True\n"
   ]
  },
  {
   "cell_type": "code",
   "execution_count": 4,
   "id": "f997d946",
   "metadata": {
    "execution": {
     "iopub.execute_input": "2025-09-26T21:05:55.816864Z",
     "iopub.status.busy": "2025-09-26T21:05:55.816735Z",
     "iopub.status.idle": "2025-09-26T21:05:55.819395Z",
     "shell.execute_reply": "2025-09-26T21:05:55.819022Z"
    },
    "lines_to_next_cell": 0,
    "nbsphinx": "hidden",
    "papermill": {
     "duration": 0.005129,
     "end_time": "2025-09-26T21:05:55.820371",
     "exception": false,
     "start_time": "2025-09-26T21:05:55.815242",
     "status": "completed"
    },
    "tags": []
   },
   "outputs": [],
   "source": [
    "func = _known_functions[func_name]()\n",
    "\n",
    "if not positive_prior:\n",
    "\n",
    "\tenergy_grid = np.linspace(-5,5,1000)\n",
    "\n",
    "else:\n",
    "    \n",
    "    energy_grid = np.linspace(0,1,1000)\n",
    "    \n",
    "    \n",
    "    \n",
    "    \n",
    "blue = \"#4152E3\"\n",
    "red = \"#E3414B\"\n",
    "green = \"#41E39E\""
   ]
  },
  {
   "cell_type": "markdown",
   "id": "c047cf70",
   "metadata": {
    "lines_to_next_cell": 0,
    "papermill": {
     "duration": 0.000984,
     "end_time": "2025-09-26T21:05:55.822399",
     "exception": false,
     "start_time": "2025-09-26T21:05:55.821415",
     "status": "completed"
    },
    "tags": []
   },
   "source": [
    "## Description"
   ]
  },
  {
   "cell_type": "code",
   "execution_count": 5,
   "id": "59d9a7fa",
   "metadata": {
    "execution": {
     "iopub.execute_input": "2025-09-26T21:05:55.824876Z",
     "iopub.status.busy": "2025-09-26T21:05:55.824752Z",
     "iopub.status.idle": "2025-09-26T21:05:55.828336Z",
     "shell.execute_reply": "2025-09-26T21:05:55.827854Z"
    },
    "papermill": {
     "duration": 0.00594,
     "end_time": "2025-09-26T21:05:55.829317",
     "exception": false,
     "start_time": "2025-09-26T21:05:55.823377",
     "status": "completed"
    },
    "tags": []
   },
   "outputs": [
    {
     "data": {
      "text/html": [
       "<ul>\n",
       "\n",
       "<li>description: A gamma distribution function</li>\n",
       "\n",
       "<li>formula: $ f(x,\\alpha, \\beta)=\\frac{\\beta^\\alpha x^{\\alpha-1} e^{-\\beta x}}{\\Gamma(\\alpha)}$</li>\n",
       "\n",
       "<li>parameters: \n",
       "<ul>\n",
       "\n",
       "<li>alpha: \n",
       "<ul>\n",
       "\n",
       "<li>value: 0.5</li>\n",
       "\n",
       "<li>desc: first shape parameter</li>\n",
       "\n",
       "<li>min_value: 0.0</li>\n",
       "\n",
       "<li>max_value: None</li>\n",
       "\n",
       "<li>unit: </li>\n",
       "\n",
       "<li>is_normalization: False</li>\n",
       "\n",
       "<li>delta: 0.05</li>\n",
       "\n",
       "<li>free: True</li>\n",
       "\n",
       "</ul>\n",
       "\n",
       "</li>\n",
       "\n",
       "<li>beta: \n",
       "<ul>\n",
       "\n",
       "<li>value: 1.0</li>\n",
       "\n",
       "<li>desc: second shape parameter</li>\n",
       "\n",
       "<li>min_value: 0.0</li>\n",
       "\n",
       "<li>max_value: None</li>\n",
       "\n",
       "<li>unit: </li>\n",
       "\n",
       "<li>is_normalization: False</li>\n",
       "\n",
       "<li>delta: 0.1</li>\n",
       "\n",
       "<li>free: True</li>\n",
       "\n",
       "</ul>\n",
       "\n",
       "</li>\n",
       "\n",
       "</ul>\n",
       "\n",
       "</li>\n",
       "\n",
       "</ul>\n"
      ],
      "text/plain": [
       "  * description: A gamma distribution function\n",
       "  * formula: $ f(x,\\alpha, \\beta)=\\frac{\\beta^\\alpha x^{\\alpha-1} e^{-\\beta x}}{\\Gamma(\\alpha)}$\n",
       "  * parameters:\n",
       "    * alpha:\n",
       "      * value: 0.5\n",
       "      * desc: first shape parameter\n",
       "      * min_value: 0.0\n",
       "      * max_value: null\n",
       "      * unit: ''\n",
       "      * is_normalization: false\n",
       "      * delta: 0.05\n",
       "      * free: true\n",
       "    * beta:\n",
       "      * value: 1.0\n",
       "      * desc: second shape parameter\n",
       "      * min_value: 0.0\n",
       "      * max_value: null\n",
       "      * unit: ''\n",
       "      * is_normalization: false\n",
       "      * delta: 0.1\n",
       "      * free: true"
      ]
     },
     "metadata": {},
     "output_type": "display_data"
    }
   ],
   "source": [
    "func.display()"
   ]
  },
  {
   "cell_type": "markdown",
   "id": "7f349def",
   "metadata": {
    "papermill": {
     "duration": 0.001079,
     "end_time": "2025-09-26T21:05:55.831546",
     "exception": false,
     "start_time": "2025-09-26T21:05:55.830467",
     "status": "completed"
    },
    "tags": []
   },
   "source": [
    "## Shape \n",
    "\n",
    "The shape of the function. \n",
    "\n",
    "*If this is not a photon model but a prior or linear function then ignore the units as these docs are auto-generated*"
   ]
  },
  {
   "cell_type": "code",
   "execution_count": 6,
   "id": "edadefaf",
   "metadata": {
    "execution": {
     "iopub.execute_input": "2025-09-26T21:05:55.834314Z",
     "iopub.status.busy": "2025-09-26T21:05:55.834189Z",
     "iopub.status.idle": "2025-09-26T21:05:55.914436Z",
     "shell.execute_reply": "2025-09-26T21:05:55.914092Z"
    },
    "papermill": {
     "duration": 0.082959,
     "end_time": "2025-09-26T21:05:55.915658",
     "exception": false,
     "start_time": "2025-09-26T21:05:55.832699",
     "status": "completed"
    },
    "tags": [
     "nbsphinx-thumbnail"
    ]
   },
   "outputs": [
    {
     "data": {
      "text/plain": [
       "Text(0, 0.5, 'probability')"
      ]
     },
     "execution_count": 6,
     "metadata": {},
     "output_type": "execute_result"
    },
    {
     "data": {
      "image/png": "[encoded data removed]",
      "text/plain": [
       "<Figure size 1040x910 with 1 Axes>"
      ]
     },
     "metadata": {},
     "output_type": "display_data"
    }
   ],
   "source": [
    "fig, ax = plt.subplots()\n",
    "\n",
    "\n",
    "ax.plot(energy_grid, func(energy_grid), color=blue, lw=3)\n",
    "\n",
    "ax.set_xlabel(\"x\")\n",
    "ax.set_ylabel(\"probability\")\n"
   ]
  },
  {
   "cell_type": "markdown",
   "id": "e1fcc54c",
   "metadata": {
    "papermill": {
     "duration": 0.001347,
     "end_time": "2025-09-26T21:05:55.918637",
     "exception": false,
     "start_time": "2025-09-26T21:05:55.917290",
     "status": "completed"
    },
    "tags": []
   },
   "source": [
    "## Random Number Generation\n",
    "\n",
    "This is how we can generate random numbers from the prior.\n"
   ]
  },
  {
   "cell_type": "code",
   "execution_count": 7,
   "id": "feb538b1",
   "metadata": {
    "execution": {
     "iopub.execute_input": "2025-09-26T21:05:55.921882Z",
     "iopub.status.busy": "2025-09-26T21:05:55.921743Z",
     "iopub.status.idle": "2025-09-26T21:05:56.262972Z",
     "shell.execute_reply": "2025-09-26T21:05:56.247679Z"
    },
    "papermill": {
     "duration": 0.344408,
     "end_time": "2025-09-26T21:05:56.264324",
     "exception": false,
     "start_time": "2025-09-26T21:05:55.919916",
     "status": "completed"
    },
    "tags": []
   },
   "outputs": [
    {
     "data": {
      "text/plain": [
       "Text(0, 0.5, 'N')"
      ]
     },
     "execution_count": 7,
     "metadata": {},
     "output_type": "execute_result"
    },
    {
     "data": {
      "image/png": "[encoded data removed]",
      "text/plain": [
       "<Figure size 1040x910 with 1 Axes>"
      ]
     },
     "metadata": {},
     "output_type": "display_data"
    }
   ],
   "source": [
    "\n",
    "\n",
    "u = np.random.uniform(0,1, size=5000)\n",
    "\n",
    "draws = [func.from_unit_cube(x) for x in u]\n",
    "\n",
    "\n",
    "fig, ax = plt.subplots()\n",
    "\n",
    "\n",
    "ax.hist(draws, color=green, bins=50)\n",
    "\n",
    "ax.set_xlabel(\"value\")\n",
    "ax.set_ylabel(\"N\")\n",
    "\n"
   ]
  }
 ],
 "metadata": {
  "jupytext": {
   "formats": "ipynb,md"
  },
  "kernelspec": {
   "display_name": "Python 3 (ipykernel)",
   "language": "python",
   "name": "python3"
  },
  "language_info": {
   "codemirror_mode": {
    "name": "ipython",
    "version": 3
   },
   "file_extension": ".py",
   "mimetype": "text/x-python",
   "name": "python",
   "nbconvert_exporter": "python",
   "pygments_lexer": "ipython3",
   "version": "3.9.13"
  },
  "papermill": {
   "default_parameters": {},
   "duration": 3.117336,
   "end_time": "2025-09-26T21:05:56.592666",
   "environment_variables": {},
   "exception": null,
   "input_path": "Gamma.ipynb",
   "output_path": "/Users/runner/work/astromodels/astromodels/docs/notebooks/Gamma.ipynb",
   "parameters": {
    "func_name": "Gamma",
    "positive_prior": true
   },
   "start_time": "2025-09-26T21:05:53.475330",
   "version": "2.6.0"
  }
 },
 "nbformat": 4,
 "nbformat_minor": 5
}
