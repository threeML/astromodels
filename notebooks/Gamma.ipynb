{
 "cells": [
  {
   "cell_type": "markdown",
   "id": "882a4e75",
   "metadata": {
    "papermill": {
     "duration": 0.003432,
     "end_time": "2025-09-27T03:51:46.569973",
     "exception": false,
     "start_time": "2025-09-27T03:51:46.566541",
     "status": "completed"
    },
    "tags": []
   },
   "source": [
    "# Gamma"
   ]
  },
  {
   "cell_type": "code",
   "execution_count": 1,
   "id": "556a8a07",
   "metadata": {
    "execution": {
     "iopub.execute_input": "2025-09-27T03:51:46.574339Z",
     "iopub.status.busy": "2025-09-27T03:51:46.574090Z",
     "iopub.status.idle": "2025-09-27T03:51:49.669796Z",
     "shell.execute_reply": "2025-09-27T03:51:49.668332Z"
    },
    "nbsphinx": "hidden",
    "papermill": {
     "duration": 3.10135,
     "end_time": "2025-09-27T03:51:49.672996",
     "exception": false,
     "start_time": "2025-09-27T03:51:46.571646",
     "status": "completed"
    },
    "tags": []
   },
   "outputs": [],
   "source": [
    "%%capture\n",
    "\n",
    "import numpy as np\n",
    "\n",
    "import matplotlib.pyplot as plt\n",
    "\n",
    "import warnings\n",
    "warnings.simplefilter(\"ignore\")\n",
    "\n",
    "from astromodels.functions.function import _known_functions\n",
    "\n",
    "\n",
    "from jupyterthemes import jtplot\n",
    "jtplot.style(context=\"talk\", fscale=1, ticks=True, grid=False)\n",
    "%matplotlib inline"
   ]
  },
  {
   "cell_type": "code",
   "execution_count": 2,
   "id": "fd7a3e80",
   "metadata": {
    "execution": {
     "iopub.execute_input": "2025-09-27T03:51:49.681272Z",
     "iopub.status.busy": "2025-09-27T03:51:49.680674Z",
     "iopub.status.idle": "2025-09-27T03:51:49.687943Z",
     "shell.execute_reply": "2025-09-27T03:51:49.687293Z"
    },
    "nbsphinx": "hidden",
    "papermill": {
     "duration": 0.01322,
     "end_time": "2025-09-27T03:51:49.689370",
     "exception": false,
     "start_time": "2025-09-27T03:51:49.676150",
     "status": "completed"
    },
    "tags": [
     "parameters"
    ]
   },
   "outputs": [],
   "source": [
    "func_name = \"TbAbs\"\n",
    "\n",
    "positive_prior = False\n"
   ]
  },
  {
   "cell_type": "code",
   "execution_count": 3,
   "id": "b2f4c902",
   "metadata": {
    "execution": {
     "iopub.execute_input": "2025-09-27T03:51:49.693696Z",
     "iopub.status.busy": "2025-09-27T03:51:49.693520Z",
     "iopub.status.idle": "2025-09-27T03:51:49.697479Z",
     "shell.execute_reply": "2025-09-27T03:51:49.696760Z"
    },
    "papermill": {
     "duration": 0.007221,
     "end_time": "2025-09-27T03:51:49.698763",
     "exception": false,
     "start_time": "2025-09-27T03:51:49.691542",
     "status": "completed"
    },
    "tags": [
     "injected-parameters"
    ]
   },
   "outputs": [],
   "source": [
    "# Parameters\n",
    "func_name = \"Gamma\"\n",
    "positive_prior = True\n"
   ]
  },
  {
   "cell_type": "code",
   "execution_count": 4,
   "id": "c6fcc983",
   "metadata": {
    "execution": {
     "iopub.execute_input": "2025-09-27T03:51:49.703317Z",
     "iopub.status.busy": "2025-09-27T03:51:49.702997Z",
     "iopub.status.idle": "2025-09-27T03:51:49.710345Z",
     "shell.execute_reply": "2025-09-27T03:51:49.709635Z"
    },
    "lines_to_next_cell": 0,
    "nbsphinx": "hidden",
    "papermill": {
     "duration": 0.012049,
     "end_time": "2025-09-27T03:51:49.712147",
     "exception": false,
     "start_time": "2025-09-27T03:51:49.700098",
     "status": "completed"
    },
    "tags": []
   },
   "outputs": [],
   "source": [
    "func = _known_functions[func_name]()\n",
    "\n",
    "if not positive_prior:\n",
    "\n",
    "\tenergy_grid = np.linspace(-5,5,1000)\n",
    "\n",
    "else:\n",
    "    \n",
    "    energy_grid = np.linspace(0,1,1000)\n",
    "    \n",
    "    \n",
    "    \n",
    "    \n",
    "blue = \"#4152E3\"\n",
    "red = \"#E3414B\"\n",
    "green = \"#41E39E\""
   ]
  },
  {
   "cell_type": "markdown",
   "id": "60dd075f",
   "metadata": {
    "lines_to_next_cell": 0,
    "papermill": {
     "duration": 0.001391,
     "end_time": "2025-09-27T03:51:49.715084",
     "exception": false,
     "start_time": "2025-09-27T03:51:49.713693",
     "status": "completed"
    },
    "tags": []
   },
   "source": [
    "## Description"
   ]
  },
  {
   "cell_type": "code",
   "execution_count": 5,
   "id": "19edde3b",
   "metadata": {
    "execution": {
     "iopub.execute_input": "2025-09-27T03:51:49.719485Z",
     "iopub.status.busy": "2025-09-27T03:51:49.718983Z",
     "iopub.status.idle": "2025-09-27T03:51:49.726486Z",
     "shell.execute_reply": "2025-09-27T03:51:49.725265Z"
    },
    "papermill": {
     "duration": 0.011676,
     "end_time": "2025-09-27T03:51:49.728077",
     "exception": false,
     "start_time": "2025-09-27T03:51:49.716401",
     "status": "completed"
    },
    "tags": []
   },
   "outputs": [
    {
     "data": {
      "text/html": [
       "<ul>\n",
       "\n",
       "<li>description: A gamma distribution function</li>\n",
       "\n",
       "<li>formula: $ f(x,\\alpha, \\beta)=\\frac{\\beta^\\alpha x^{\\alpha-1} e^{-\\beta x}}{\\Gamma(\\alpha)}$</li>\n",
       "\n",
       "<li>parameters: \n",
       "<ul>\n",
       "\n",
       "<li>alpha: \n",
       "<ul>\n",
       "\n",
       "<li>value: 0.5</li>\n",
       "\n",
       "<li>desc: first shape parameter</li>\n",
       "\n",
       "<li>min_value: 0.0</li>\n",
       "\n",
       "<li>max_value: None</li>\n",
       "\n",
       "<li>unit: </li>\n",
       "\n",
       "<li>is_normalization: False</li>\n",
       "\n",
       "<li>delta: 0.05</li>\n",
       "\n",
       "<li>free: True</li>\n",
       "\n",
       "</ul>\n",
       "\n",
       "</li>\n",
       "\n",
       "<li>beta: \n",
       "<ul>\n",
       "\n",
       "<li>value: 1.0</li>\n",
       "\n",
       "<li>desc: second shape parameter</li>\n",
       "\n",
       "<li>min_value: 0.0</li>\n",
       "\n",
       "<li>max_value: None</li>\n",
       "\n",
       "<li>unit: </li>\n",
       "\n",
       "<li>is_normalization: False</li>\n",
       "\n",
       "<li>delta: 0.1</li>\n",
       "\n",
       "<li>free: True</li>\n",
       "\n",
       "</ul>\n",
       "\n",
       "</li>\n",
       "\n",
       "</ul>\n",
       "\n",
       "</li>\n",
       "\n",
       "</ul>\n"
      ],
      "text/plain": [
       "  * description: A gamma distribution function\n",
       "  * formula: $ f(x,\\alpha, \\beta)=\\frac{\\beta^\\alpha x^{\\alpha-1} e^{-\\beta x}}{\\Gamma(\\alpha)}$\n",
       "  * parameters:\n",
       "    * alpha:\n",
       "      * value: 0.5\n",
       "      * desc: first shape parameter\n",
       "      * min_value: 0.0\n",
       "      * max_value: null\n",
       "      * unit: ''\n",
       "      * is_normalization: false\n",
       "      * delta: 0.05\n",
       "      * free: true\n",
       "    * beta:\n",
       "      * value: 1.0\n",
       "      * desc: second shape parameter\n",
       "      * min_value: 0.0\n",
       "      * max_value: null\n",
       "      * unit: ''\n",
       "      * is_normalization: false\n",
       "      * delta: 0.1\n",
       "      * free: true"
      ]
     },
     "metadata": {},
     "output_type": "display_data"
    }
   ],
   "source": [
    "func.display()"
   ]
  },
  {
   "cell_type": "markdown",
   "id": "bd31ca48",
   "metadata": {
    "papermill": {
     "duration": 0.0017,
     "end_time": "2025-09-27T03:51:49.731517",
     "exception": false,
     "start_time": "2025-09-27T03:51:49.729817",
     "status": "completed"
    },
    "tags": []
   },
   "source": [
    "## Shape \n",
    "\n",
    "The shape of the function. \n",
    "\n",
    "*If this is not a photon model but a prior or linear function then ignore the units as these docs are auto-generated*"
   ]
  },
  {
   "cell_type": "code",
   "execution_count": 6,
   "id": "a40b4318",
   "metadata": {
    "execution": {
     "iopub.execute_input": "2025-09-27T03:51:49.737634Z",
     "iopub.status.busy": "2025-09-27T03:51:49.737114Z",
     "iopub.status.idle": "2025-09-27T03:51:49.863609Z",
     "shell.execute_reply": "2025-09-27T03:51:49.862215Z"
    },
    "papermill": {
     "duration": 0.132188,
     "end_time": "2025-09-27T03:51:49.865932",
     "exception": false,
     "start_time": "2025-09-27T03:51:49.733744",
     "status": "completed"
    },
    "tags": [
     "nbsphinx-thumbnail"
    ]
   },
   "outputs": [
    {
     "data": {
      "text/plain": [
       "Text(0, 0.5, 'probability')"
      ]
     },
     "execution_count": 6,
     "metadata": {},
     "output_type": "execute_result"
    },
    {
     "data": {
      "image/png": "[encoded data removed]",
      "text/plain": [
       "<Figure size 1040x910 with 1 Axes>"
      ]
     },
     "metadata": {},
     "output_type": "display_data"
    }
   ],
   "source": [
    "fig, ax = plt.subplots()\n",
    "\n",
    "\n",
    "ax.plot(energy_grid, func(energy_grid), color=blue, lw=3)\n",
    "\n",
    "ax.set_xlabel(\"x\")\n",
    "ax.set_ylabel(\"probability\")\n"
   ]
  },
  {
   "cell_type": "markdown",
   "id": "71d83402",
   "metadata": {
    "papermill": {
     "duration": 0.002361,
     "end_time": "2025-09-27T03:51:49.871440",
     "exception": false,
     "start_time": "2025-09-27T03:51:49.869079",
     "status": "completed"
    },
    "tags": []
   },
   "source": [
    "## Random Number Generation\n",
    "\n",
    "This is how we can generate random numbers from the prior.\n"
   ]
  },
  {
   "cell_type": "code",
   "execution_count": 7,
   "id": "80ff78d2",
   "metadata": {
    "execution": {
     "iopub.execute_input": "2025-09-27T03:51:49.884265Z",
     "iopub.status.busy": "2025-09-27T03:51:49.884074Z",
     "iopub.status.idle": "2025-09-27T03:51:50.236741Z",
     "shell.execute_reply": "2025-09-27T03:51:50.236178Z"
    },
    "papermill": {
     "duration": 0.360115,
     "end_time": "2025-09-27T03:51:50.237983",
     "exception": false,
     "start_time": "2025-09-27T03:51:49.877868",
     "status": "completed"
    },
    "tags": []
   },
   "outputs": [
    {
     "data": {
      "text/plain": [
       "Text(0, 0.5, 'N')"
      ]
     },
     "execution_count": 7,
     "metadata": {},
     "output_type": "execute_result"
    },
    {
     "data": {
      "image/png": "[encoded data removed]",
      "text/plain": [
       "<Figure size 1040x910 with 1 Axes>"
      ]
     },
     "metadata": {},
     "output_type": "display_data"
    }
   ],
   "source": [
    "\n",
    "\n",
    "u = np.random.uniform(0,1, size=5000)\n",
    "\n",
    "draws = [func.from_unit_cube(x) for x in u]\n",
    "\n",
    "\n",
    "fig, ax = plt.subplots()\n",
    "\n",
    "\n",
    "ax.hist(draws, color=green, bins=50)\n",
    "\n",
    "ax.set_xlabel(\"value\")\n",
    "ax.set_ylabel(\"N\")\n",
    "\n"
   ]
  }
 ],
 "metadata": {
  "jupytext": {
   "formats": "ipynb,md"
  },
  "kernelspec": {
   "display_name": "Python 3 (ipykernel)",
   "language": "python",
   "name": "python3"
  },
  "language_info": {
   "codemirror_mode": {
    "name": "ipython",
    "version": 3
   },
   "file_extension": ".py",
   "mimetype": "text/x-python",
   "name": "python",
   "nbconvert_exporter": "python",
   "pygments_lexer": "ipython3",
   "version": "3.9.13"
  },
  "papermill": {
   "default_parameters": {},
   "duration": 5.278876,
   "end_time": "2025-09-27T03:51:50.875449",
   "environment_variables": {},
   "exception": null,
   "input_path": "Gamma.ipynb",
   "output_path": "/Users/runner/work/astromodels/astromodels/docs/notebooks/Gamma.ipynb",
   "parameters": {
    "func_name": "Gamma",
    "positive_prior": true
   },
   "start_time": "2025-09-27T03:51:45.596573",
   "version": "2.6.0"
  }
 },
 "nbformat": 4,
 "nbformat_minor": 5
}
