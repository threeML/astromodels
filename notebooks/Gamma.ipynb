{
 "cells": [
  {
   "cell_type": "markdown",
   "id": "0932ab42",
   "metadata": {
    "papermill": {
     "duration": 0.004464,
     "end_time": "2025-10-03T17:17:11.538705",
     "exception": false,
     "start_time": "2025-10-03T17:17:11.534241",
     "status": "completed"
    },
    "tags": []
   },
   "source": [
    "# Gamma"
   ]
  },
  {
   "cell_type": "code",
   "execution_count": 1,
   "id": "eef80674",
   "metadata": {
    "execution": {
     "iopub.execute_input": "2025-10-03T17:17:11.549239Z",
     "iopub.status.busy": "2025-10-03T17:17:11.549016Z",
     "iopub.status.idle": "2025-10-03T17:17:14.135004Z",
     "shell.execute_reply": "2025-10-03T17:17:14.134412Z"
    },
    "nbsphinx": "hidden",
    "papermill": {
     "duration": 2.593253,
     "end_time": "2025-10-03T17:17:14.136495",
     "exception": false,
     "start_time": "2025-10-03T17:17:11.543242",
     "status": "completed"
    },
    "tags": []
   },
   "outputs": [],
   "source": [
    "%%capture\n",
    "\n",
    "import numpy as np\n",
    "\n",
    "import matplotlib.pyplot as plt\n",
    "\n",
    "import warnings\n",
    "warnings.simplefilter(\"ignore\")\n",
    "\n",
    "from astromodels.functions.function import _known_functions\n",
    "\n",
    "\n",
    "from jupyterthemes import jtplot\n",
    "jtplot.style(context=\"talk\", fscale=1, ticks=True, grid=False)\n",
    "%matplotlib inline"
   ]
  },
  {
   "cell_type": "code",
   "execution_count": 2,
   "id": "e44cfc58",
   "metadata": {
    "execution": {
     "iopub.execute_input": "2025-10-03T17:17:14.140721Z",
     "iopub.status.busy": "2025-10-03T17:17:14.140313Z",
     "iopub.status.idle": "2025-10-03T17:17:14.142639Z",
     "shell.execute_reply": "2025-10-03T17:17:14.142250Z"
    },
    "nbsphinx": "hidden",
    "papermill": {
     "duration": 0.005802,
     "end_time": "2025-10-03T17:17:14.143733",
     "exception": false,
     "start_time": "2025-10-03T17:17:14.137931",
     "status": "completed"
    },
    "tags": [
     "parameters"
    ]
   },
   "outputs": [],
   "source": [
    "func_name = \"TbAbs\"\n",
    "\n",
    "positive_prior = False\n"
   ]
  },
  {
   "cell_type": "code",
   "execution_count": 3,
   "id": "c0e088ca",
   "metadata": {
    "execution": {
     "iopub.execute_input": "2025-10-03T17:17:14.146828Z",
     "iopub.status.busy": "2025-10-03T17:17:14.146674Z",
     "iopub.status.idle": "2025-10-03T17:17:14.148738Z",
     "shell.execute_reply": "2025-10-03T17:17:14.148314Z"
    },
    "papermill": {
     "duration": 0.004725,
     "end_time": "2025-10-03T17:17:14.149749",
     "exception": false,
     "start_time": "2025-10-03T17:17:14.145024",
     "status": "completed"
    },
    "tags": [
     "injected-parameters"
    ]
   },
   "outputs": [],
   "source": [
    "# Parameters\n",
    "func_name = \"Gamma\"\n",
    "positive_prior = True\n"
   ]
  },
  {
   "cell_type": "code",
   "execution_count": 4,
   "id": "1f97f9a8",
   "metadata": {
    "execution": {
     "iopub.execute_input": "2025-10-03T17:17:14.152933Z",
     "iopub.status.busy": "2025-10-03T17:17:14.152723Z",
     "iopub.status.idle": "2025-10-03T17:17:14.160164Z",
     "shell.execute_reply": "2025-10-03T17:17:14.159358Z"
    },
    "lines_to_next_cell": 0,
    "nbsphinx": "hidden",
    "papermill": {
     "duration": 0.010722,
     "end_time": "2025-10-03T17:17:14.161722",
     "exception": false,
     "start_time": "2025-10-03T17:17:14.151000",
     "status": "completed"
    },
    "tags": []
   },
   "outputs": [],
   "source": [
    "func = _known_functions[func_name]()\n",
    "\n",
    "if not positive_prior:\n",
    "\n",
    "\tenergy_grid = np.linspace(-5,5,1000)\n",
    "\n",
    "else:\n",
    "    \n",
    "    energy_grid = np.linspace(0,1,1000)\n",
    "    \n",
    "    \n",
    "    \n",
    "    \n",
    "blue = \"#4152E3\"\n",
    "red = \"#E3414B\"\n",
    "green = \"#41E39E\""
   ]
  },
  {
   "cell_type": "markdown",
   "id": "735750c6",
   "metadata": {
    "lines_to_next_cell": 0,
    "papermill": {
     "duration": 0.001071,
     "end_time": "2025-10-03T17:17:14.164149",
     "exception": false,
     "start_time": "2025-10-03T17:17:14.163078",
     "status": "completed"
    },
    "tags": []
   },
   "source": [
    "## Description"
   ]
  },
  {
   "cell_type": "code",
   "execution_count": 5,
   "id": "6e595d5b",
   "metadata": {
    "execution": {
     "iopub.execute_input": "2025-10-03T17:17:14.168230Z",
     "iopub.status.busy": "2025-10-03T17:17:14.168023Z",
     "iopub.status.idle": "2025-10-03T17:17:14.172736Z",
     "shell.execute_reply": "2025-10-03T17:17:14.172275Z"
    },
    "papermill": {
     "duration": 0.008581,
     "end_time": "2025-10-03T17:17:14.174012",
     "exception": false,
     "start_time": "2025-10-03T17:17:14.165431",
     "status": "completed"
    },
    "tags": []
   },
   "outputs": [
    {
     "data": {
      "text/html": [
       "<ul>\n",
       "\n",
       "<li>description: A gamma distribution function</li>\n",
       "\n",
       "<li>formula: $ f(x,\\alpha, \\beta)=\\frac{\\beta^\\alpha x^{\\alpha-1} e^{-\\beta x}}{\\Gamma(\\alpha)}$</li>\n",
       "\n",
       "<li>parameters: \n",
       "<ul>\n",
       "\n",
       "<li>alpha: \n",
       "<ul>\n",
       "\n",
       "<li>value: 0.5</li>\n",
       "\n",
       "<li>desc: first shape parameter</li>\n",
       "\n",
       "<li>min_value: 0.0</li>\n",
       "\n",
       "<li>max_value: None</li>\n",
       "\n",
       "<li>unit: </li>\n",
       "\n",
       "<li>is_normalization: False</li>\n",
       "\n",
       "<li>delta: 0.05</li>\n",
       "\n",
       "<li>free: True</li>\n",
       "\n",
       "</ul>\n",
       "\n",
       "</li>\n",
       "\n",
       "<li>beta: \n",
       "<ul>\n",
       "\n",
       "<li>value: 1.0</li>\n",
       "\n",
       "<li>desc: second shape parameter</li>\n",
       "\n",
       "<li>min_value: 0.0</li>\n",
       "\n",
       "<li>max_value: None</li>\n",
       "\n",
       "<li>unit: </li>\n",
       "\n",
       "<li>is_normalization: False</li>\n",
       "\n",
       "<li>delta: 0.1</li>\n",
       "\n",
       "<li>free: True</li>\n",
       "\n",
       "</ul>\n",
       "\n",
       "</li>\n",
       "\n",
       "</ul>\n",
       "\n",
       "</li>\n",
       "\n",
       "</ul>\n"
      ],
      "text/plain": [
       "  * description: A gamma distribution function\n",
       "  * formula: $ f(x,\\alpha, \\beta)=\\frac{\\beta^\\alpha x^{\\alpha-1} e^{-\\beta x}}{\\Gamma(\\alpha)}$\n",
       "  * parameters:\n",
       "    * alpha:\n",
       "      * value: 0.5\n",
       "      * desc: first shape parameter\n",
       "      * min_value: 0.0\n",
       "      * max_value: null\n",
       "      * unit: ''\n",
       "      * is_normalization: false\n",
       "      * delta: 0.05\n",
       "      * free: true\n",
       "    * beta:\n",
       "      * value: 1.0\n",
       "      * desc: second shape parameter\n",
       "      * min_value: 0.0\n",
       "      * max_value: null\n",
       "      * unit: ''\n",
       "      * is_normalization: false\n",
       "      * delta: 0.1\n",
       "      * free: true"
      ]
     },
     "metadata": {},
     "output_type": "display_data"
    }
   ],
   "source": [
    "func.display()"
   ]
  },
  {
   "cell_type": "markdown",
   "id": "5bc400e8",
   "metadata": {
    "papermill": {
     "duration": 0.001245,
     "end_time": "2025-10-03T17:17:14.176698",
     "exception": false,
     "start_time": "2025-10-03T17:17:14.175453",
     "status": "completed"
    },
    "tags": []
   },
   "source": [
    "## Shape \n",
    "\n",
    "The shape of the function. \n",
    "\n",
    "*If this is not a photon model but a prior or linear function then ignore the units as these docs are auto-generated*"
   ]
  },
  {
   "cell_type": "code",
   "execution_count": 6,
   "id": "cb0463f2",
   "metadata": {
    "execution": {
     "iopub.execute_input": "2025-10-03T17:17:14.180142Z",
     "iopub.status.busy": "2025-10-03T17:17:14.179960Z",
     "iopub.status.idle": "2025-10-03T17:17:14.300742Z",
     "shell.execute_reply": "2025-10-03T17:17:14.300277Z"
    },
    "papermill": {
     "duration": 0.123788,
     "end_time": "2025-10-03T17:17:14.301883",
     "exception": false,
     "start_time": "2025-10-03T17:17:14.178095",
     "status": "completed"
    },
    "tags": [
     "nbsphinx-thumbnail"
    ]
   },
   "outputs": [
    {
     "data": {
      "text/plain": [
       "Text(0, 0.5, 'probability')"
      ]
     },
     "execution_count": 6,
     "metadata": {},
     "output_type": "execute_result"
    },
    {
     "data": {
      "image/png": "[encoded data removed]",
      "text/plain": [
       "<Figure size 1040x910 with 1 Axes>"
      ]
     },
     "metadata": {},
     "output_type": "display_data"
    }
   ],
   "source": [
    "fig, ax = plt.subplots()\n",
    "\n",
    "\n",
    "ax.plot(energy_grid, func(energy_grid), color=blue, lw=3)\n",
    "\n",
    "ax.set_xlabel(\"x\")\n",
    "ax.set_ylabel(\"probability\")\n"
   ]
  },
  {
   "cell_type": "markdown",
   "id": "bd72534c",
   "metadata": {
    "papermill": {
     "duration": 0.001406,
     "end_time": "2025-10-03T17:17:14.305036",
     "exception": false,
     "start_time": "2025-10-03T17:17:14.303630",
     "status": "completed"
    },
    "tags": []
   },
   "source": [
    "## Random Number Generation\n",
    "\n",
    "This is how we can generate random numbers from the prior.\n"
   ]
  },
  {
   "cell_type": "code",
   "execution_count": 7,
   "id": "95f19b3d",
   "metadata": {
    "execution": {
     "iopub.execute_input": "2025-10-03T17:17:14.308436Z",
     "iopub.status.busy": "2025-10-03T17:17:14.308280Z",
     "iopub.status.idle": "2025-10-03T17:17:14.785862Z",
     "shell.execute_reply": "2025-10-03T17:17:14.785164Z"
    },
    "papermill": {
     "duration": 0.485191,
     "end_time": "2025-10-03T17:17:14.791575",
     "exception": false,
     "start_time": "2025-10-03T17:17:14.306384",
     "status": "completed"
    },
    "tags": []
   },
   "outputs": [
    {
     "data": {
      "text/plain": [
       "Text(0, 0.5, 'N')"
      ]
     },
     "execution_count": 7,
     "metadata": {},
     "output_type": "execute_result"
    },
    {
     "data": {
      "image/png": "[encoded data removed]",
      "text/plain": [
       "<Figure size 1040x910 with 1 Axes>"
      ]
     },
     "metadata": {},
     "output_type": "display_data"
    }
   ],
   "source": [
    "\n",
    "\n",
    "u = np.random.uniform(0,1, size=5000)\n",
    "\n",
    "draws = [func.from_unit_cube(x) for x in u]\n",
    "\n",
    "\n",
    "fig, ax = plt.subplots()\n",
    "\n",
    "\n",
    "ax.hist(draws, color=green, bins=50)\n",
    "\n",
    "ax.set_xlabel(\"value\")\n",
    "ax.set_ylabel(\"N\")\n",
    "\n"
   ]
  }
 ],
 "metadata": {
  "jupytext": {
   "formats": "ipynb,md"
  },
  "kernelspec": {
   "display_name": "Python 3 (ipykernel)",
   "language": "python",
   "name": "python3"
  },
  "language_info": {
   "codemirror_mode": {
    "name": "ipython",
    "version": 3
   },
   "file_extension": ".py",
   "mimetype": "text/x-python",
   "name": "python",
   "nbconvert_exporter": "python",
   "pygments_lexer": "ipython3",
   "version": "3.9.13"
  },
  "papermill": {
   "default_parameters": {},
   "duration": 4.873975,
   "end_time": "2025-10-03T17:17:15.376026",
   "environment_variables": {},
   "exception": null,
   "input_path": "Gamma.ipynb",
   "output_path": "/Users/runner/work/astromodels/astromodels/docs/notebooks/Gamma.ipynb",
   "parameters": {
    "func_name": "Gamma",
    "positive_prior": true
   },
   "start_time": "2025-10-03T17:17:10.502051",
   "version": "2.6.0"
  }
 },
 "nbformat": 4,
 "nbformat_minor": 5
}
