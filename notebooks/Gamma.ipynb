{
 "cells": [
  {
   "cell_type": "markdown",
   "id": "6a5e17ee",
   "metadata": {
    "papermill": {
     "duration": 0.001635,
     "end_time": "2025-10-03T16:33:29.810814",
     "exception": false,
     "start_time": "2025-10-03T16:33:29.809179",
     "status": "completed"
    },
    "tags": []
   },
   "source": [
    "# Gamma"
   ]
  },
  {
   "cell_type": "code",
   "execution_count": 1,
   "id": "cc6b3649",
   "metadata": {
    "execution": {
     "iopub.execute_input": "2025-10-03T16:33:29.813928Z",
     "iopub.status.busy": "2025-10-03T16:33:29.813759Z",
     "iopub.status.idle": "2025-10-03T16:33:32.003445Z",
     "shell.execute_reply": "2025-10-03T16:33:32.002577Z"
    },
    "nbsphinx": "hidden",
    "papermill": {
     "duration": 2.193743,
     "end_time": "2025-10-03T16:33:32.005859",
     "exception": false,
     "start_time": "2025-10-03T16:33:29.812116",
     "status": "completed"
    },
    "tags": []
   },
   "outputs": [],
   "source": [
    "%%capture\n",
    "\n",
    "import numpy as np\n",
    "\n",
    "import matplotlib.pyplot as plt\n",
    "\n",
    "import warnings\n",
    "warnings.simplefilter(\"ignore\")\n",
    "\n",
    "from astromodels.functions.function import _known_functions\n",
    "\n",
    "\n",
    "from jupyterthemes import jtplot\n",
    "jtplot.style(context=\"talk\", fscale=1, ticks=True, grid=False)\n",
    "%matplotlib inline"
   ]
  },
  {
   "cell_type": "code",
   "execution_count": 2,
   "id": "c4f238c9",
   "metadata": {
    "execution": {
     "iopub.execute_input": "2025-10-03T16:33:32.011132Z",
     "iopub.status.busy": "2025-10-03T16:33:32.010674Z",
     "iopub.status.idle": "2025-10-03T16:33:32.013329Z",
     "shell.execute_reply": "2025-10-03T16:33:32.012683Z"
    },
    "nbsphinx": "hidden",
    "papermill": {
     "duration": 0.006845,
     "end_time": "2025-10-03T16:33:32.015081",
     "exception": false,
     "start_time": "2025-10-03T16:33:32.008236",
     "status": "completed"
    },
    "tags": [
     "parameters"
    ]
   },
   "outputs": [],
   "source": [
    "func_name = \"TbAbs\"\n",
    "\n",
    "positive_prior = False\n"
   ]
  },
  {
   "cell_type": "code",
   "execution_count": 3,
   "id": "18203472",
   "metadata": {
    "execution": {
     "iopub.execute_input": "2025-10-03T16:33:32.018723Z",
     "iopub.status.busy": "2025-10-03T16:33:32.018522Z",
     "iopub.status.idle": "2025-10-03T16:33:32.020783Z",
     "shell.execute_reply": "2025-10-03T16:33:32.020284Z"
    },
    "papermill": {
     "duration": 0.005636,
     "end_time": "2025-10-03T16:33:32.022207",
     "exception": false,
     "start_time": "2025-10-03T16:33:32.016571",
     "status": "completed"
    },
    "tags": [
     "injected-parameters"
    ]
   },
   "outputs": [],
   "source": [
    "# Parameters\n",
    "func_name = \"Gamma\"\n",
    "positive_prior = True\n"
   ]
  },
  {
   "cell_type": "code",
   "execution_count": 4,
   "id": "50d7e5b6",
   "metadata": {
    "execution": {
     "iopub.execute_input": "2025-10-03T16:33:32.025554Z",
     "iopub.status.busy": "2025-10-03T16:33:32.025375Z",
     "iopub.status.idle": "2025-10-03T16:33:32.034015Z",
     "shell.execute_reply": "2025-10-03T16:33:32.032993Z"
    },
    "lines_to_next_cell": 0,
    "nbsphinx": "hidden",
    "papermill": {
     "duration": 0.012171,
     "end_time": "2025-10-03T16:33:32.035726",
     "exception": false,
     "start_time": "2025-10-03T16:33:32.023555",
     "status": "completed"
    },
    "tags": []
   },
   "outputs": [],
   "source": [
    "func = _known_functions[func_name]()\n",
    "\n",
    "if not positive_prior:\n",
    "\n",
    "\tenergy_grid = np.linspace(-5,5,1000)\n",
    "\n",
    "else:\n",
    "    \n",
    "    energy_grid = np.linspace(0,1,1000)\n",
    "    \n",
    "    \n",
    "    \n",
    "    \n",
    "blue = \"#4152E3\"\n",
    "red = \"#E3414B\"\n",
    "green = \"#41E39E\""
   ]
  },
  {
   "cell_type": "markdown",
   "id": "5ff3a23d",
   "metadata": {
    "lines_to_next_cell": 0,
    "papermill": {
     "duration": 0.001114,
     "end_time": "2025-10-03T16:33:32.038196",
     "exception": false,
     "start_time": "2025-10-03T16:33:32.037082",
     "status": "completed"
    },
    "tags": []
   },
   "source": [
    "## Description"
   ]
  },
  {
   "cell_type": "code",
   "execution_count": 5,
   "id": "eb49e6d6",
   "metadata": {
    "execution": {
     "iopub.execute_input": "2025-10-03T16:33:32.041186Z",
     "iopub.status.busy": "2025-10-03T16:33:32.040988Z",
     "iopub.status.idle": "2025-10-03T16:33:32.045562Z",
     "shell.execute_reply": "2025-10-03T16:33:32.044974Z"
    },
    "papermill": {
     "duration": 0.00781,
     "end_time": "2025-10-03T16:33:32.047061",
     "exception": false,
     "start_time": "2025-10-03T16:33:32.039251",
     "status": "completed"
    },
    "tags": []
   },
   "outputs": [
    {
     "data": {
      "text/html": [
       "<ul>\n",
       "\n",
       "<li>description: A gamma distribution function</li>\n",
       "\n",
       "<li>formula: $ f(x,\\alpha, \\beta)=\\frac{\\beta^\\alpha x^{\\alpha-1} e^{-\\beta x}}{\\Gamma(\\alpha)}$</li>\n",
       "\n",
       "<li>parameters: \n",
       "<ul>\n",
       "\n",
       "<li>alpha: \n",
       "<ul>\n",
       "\n",
       "<li>value: 0.5</li>\n",
       "\n",
       "<li>desc: first shape parameter</li>\n",
       "\n",
       "<li>min_value: 0.0</li>\n",
       "\n",
       "<li>max_value: None</li>\n",
       "\n",
       "<li>unit: </li>\n",
       "\n",
       "<li>is_normalization: False</li>\n",
       "\n",
       "<li>delta: 0.05</li>\n",
       "\n",
       "<li>free: True</li>\n",
       "\n",
       "</ul>\n",
       "\n",
       "</li>\n",
       "\n",
       "<li>beta: \n",
       "<ul>\n",
       "\n",
       "<li>value: 1.0</li>\n",
       "\n",
       "<li>desc: second shape parameter</li>\n",
       "\n",
       "<li>min_value: 0.0</li>\n",
       "\n",
       "<li>max_value: None</li>\n",
       "\n",
       "<li>unit: </li>\n",
       "\n",
       "<li>is_normalization: False</li>\n",
       "\n",
       "<li>delta: 0.1</li>\n",
       "\n",
       "<li>free: True</li>\n",
       "\n",
       "</ul>\n",
       "\n",
       "</li>\n",
       "\n",
       "</ul>\n",
       "\n",
       "</li>\n",
       "\n",
       "</ul>\n"
      ],
      "text/plain": [
       "  * description: A gamma distribution function\n",
       "  * formula: $ f(x,\\alpha, \\beta)=\\frac{\\beta^\\alpha x^{\\alpha-1} e^{-\\beta x}}{\\Gamma(\\alpha)}$\n",
       "  * parameters:\n",
       "    * alpha:\n",
       "      * value: 0.5\n",
       "      * desc: first shape parameter\n",
       "      * min_value: 0.0\n",
       "      * max_value: null\n",
       "      * unit: ''\n",
       "      * is_normalization: false\n",
       "      * delta: 0.05\n",
       "      * free: true\n",
       "    * beta:\n",
       "      * value: 1.0\n",
       "      * desc: second shape parameter\n",
       "      * min_value: 0.0\n",
       "      * max_value: null\n",
       "      * unit: ''\n",
       "      * is_normalization: false\n",
       "      * delta: 0.1\n",
       "      * free: true"
      ]
     },
     "metadata": {},
     "output_type": "display_data"
    }
   ],
   "source": [
    "func.display()"
   ]
  },
  {
   "cell_type": "markdown",
   "id": "d8da941d",
   "metadata": {
    "papermill": {
     "duration": 0.001264,
     "end_time": "2025-10-03T16:33:32.049856",
     "exception": false,
     "start_time": "2025-10-03T16:33:32.048592",
     "status": "completed"
    },
    "tags": []
   },
   "source": [
    "## Shape \n",
    "\n",
    "The shape of the function. \n",
    "\n",
    "*If this is not a photon model but a prior or linear function then ignore the units as these docs are auto-generated*"
   ]
  },
  {
   "cell_type": "code",
   "execution_count": 6,
   "id": "a7579604",
   "metadata": {
    "execution": {
     "iopub.execute_input": "2025-10-03T16:33:32.053265Z",
     "iopub.status.busy": "2025-10-03T16:33:32.053078Z",
     "iopub.status.idle": "2025-10-03T16:33:32.160986Z",
     "shell.execute_reply": "2025-10-03T16:33:32.159691Z"
    },
    "papermill": {
     "duration": 0.11114,
     "end_time": "2025-10-03T16:33:32.162306",
     "exception": false,
     "start_time": "2025-10-03T16:33:32.051166",
     "status": "completed"
    },
    "tags": [
     "nbsphinx-thumbnail"
    ]
   },
   "outputs": [
    {
     "data": {
      "text/plain": [
       "Text(0, 0.5, 'probability')"
      ]
     },
     "execution_count": 6,
     "metadata": {},
     "output_type": "execute_result"
    },
    {
     "data": {
      "image/png": "[encoded data removed]",
      "text/plain": [
       "<Figure size 1040x910 with 1 Axes>"
      ]
     },
     "metadata": {},
     "output_type": "display_data"
    }
   ],
   "source": [
    "fig, ax = plt.subplots()\n",
    "\n",
    "\n",
    "ax.plot(energy_grid, func(energy_grid), color=blue, lw=3)\n",
    "\n",
    "ax.set_xlabel(\"x\")\n",
    "ax.set_ylabel(\"probability\")\n"
   ]
  },
  {
   "cell_type": "markdown",
   "id": "3fc7decc",
   "metadata": {
    "papermill": {
     "duration": 0.001429,
     "end_time": "2025-10-03T16:33:32.166510",
     "exception": false,
     "start_time": "2025-10-03T16:33:32.165081",
     "status": "completed"
    },
    "tags": []
   },
   "source": [
    "## Random Number Generation\n",
    "\n",
    "This is how we can generate random numbers from the prior.\n"
   ]
  },
  {
   "cell_type": "code",
   "execution_count": 7,
   "id": "cae42f40",
   "metadata": {
    "execution": {
     "iopub.execute_input": "2025-10-03T16:33:32.176295Z",
     "iopub.status.busy": "2025-10-03T16:33:32.175463Z",
     "iopub.status.idle": "2025-10-03T16:33:32.582994Z",
     "shell.execute_reply": "2025-10-03T16:33:32.582147Z"
    },
    "papermill": {
     "duration": 0.414721,
     "end_time": "2025-10-03T16:33:32.584239",
     "exception": false,
     "start_time": "2025-10-03T16:33:32.169518",
     "status": "completed"
    },
    "tags": []
   },
   "outputs": [
    {
     "data": {
      "text/plain": [
       "Text(0, 0.5, 'N')"
      ]
     },
     "execution_count": 7,
     "metadata": {},
     "output_type": "execute_result"
    },
    {
     "data": {
      "image/png": "[encoded data removed]",
      "text/plain": [
       "<Figure size 1040x910 with 1 Axes>"
      ]
     },
     "metadata": {},
     "output_type": "display_data"
    }
   ],
   "source": [
    "\n",
    "\n",
    "u = np.random.uniform(0,1, size=5000)\n",
    "\n",
    "draws = [func.from_unit_cube(x) for x in u]\n",
    "\n",
    "\n",
    "fig, ax = plt.subplots()\n",
    "\n",
    "\n",
    "ax.hist(draws, color=green, bins=50)\n",
    "\n",
    "ax.set_xlabel(\"value\")\n",
    "ax.set_ylabel(\"N\")\n",
    "\n"
   ]
  }
 ],
 "metadata": {
  "jupytext": {
   "formats": "ipynb,md"
  },
  "kernelspec": {
   "display_name": "Python 3 (ipykernel)",
   "language": "python",
   "name": "python3"
  },
  "language_info": {
   "codemirror_mode": {
    "name": "ipython",
    "version": 3
   },
   "file_extension": ".py",
   "mimetype": "text/x-python",
   "name": "python",
   "nbconvert_exporter": "python",
   "pygments_lexer": "ipython3",
   "version": "3.9.13"
  },
  "papermill": {
   "default_parameters": {},
   "duration": 4.058949,
   "end_time": "2025-10-03T16:33:33.113865",
   "environment_variables": {},
   "exception": null,
   "input_path": "Gamma.ipynb",
   "output_path": "/Users/runner/work/astromodels/astromodels/docs/notebooks/Gamma.ipynb",
   "parameters": {
    "func_name": "Gamma",
    "positive_prior": true
   },
   "start_time": "2025-10-03T16:33:29.054916",
   "version": "2.6.0"
  }
 },
 "nbformat": 4,
 "nbformat_minor": 5
}
