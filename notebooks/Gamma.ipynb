{
 "cells": [
  {
   "cell_type": "markdown",
   "id": "8e91846b",
   "metadata": {
    "papermill": {
     "duration": 0.001513,
     "end_time": "2025-10-02T21:52:21.025775",
     "exception": false,
     "start_time": "2025-10-02T21:52:21.024262",
     "status": "completed"
    },
    "tags": []
   },
   "source": [
    "# Gamma"
   ]
  },
  {
   "cell_type": "code",
   "execution_count": 1,
   "id": "61a24aa1",
   "metadata": {
    "execution": {
     "iopub.execute_input": "2025-10-02T21:52:21.028917Z",
     "iopub.status.busy": "2025-10-02T21:52:21.028732Z",
     "iopub.status.idle": "2025-10-02T21:52:23.172901Z",
     "shell.execute_reply": "2025-10-02T21:52:23.172234Z"
    },
    "nbsphinx": "hidden",
    "papermill": {
     "duration": 2.147449,
     "end_time": "2025-10-02T21:52:23.174433",
     "exception": false,
     "start_time": "2025-10-02T21:52:21.026984",
     "status": "completed"
    },
    "tags": []
   },
   "outputs": [],
   "source": [
    "%%capture\n",
    "\n",
    "import numpy as np\n",
    "\n",
    "import matplotlib.pyplot as plt\n",
    "\n",
    "import warnings\n",
    "warnings.simplefilter(\"ignore\")\n",
    "\n",
    "from astromodels.functions.function import _known_functions\n",
    "\n",
    "\n",
    "from jupyterthemes import jtplot\n",
    "jtplot.style(context=\"talk\", fscale=1, ticks=True, grid=False)\n",
    "%matplotlib inline"
   ]
  },
  {
   "cell_type": "code",
   "execution_count": 2,
   "id": "bae163b9",
   "metadata": {
    "execution": {
     "iopub.execute_input": "2025-10-02T21:52:23.178104Z",
     "iopub.status.busy": "2025-10-02T21:52:23.177635Z",
     "iopub.status.idle": "2025-10-02T21:52:23.180057Z",
     "shell.execute_reply": "2025-10-02T21:52:23.179621Z"
    },
    "nbsphinx": "hidden",
    "papermill": {
     "duration": 0.005628,
     "end_time": "2025-10-02T21:52:23.181528",
     "exception": false,
     "start_time": "2025-10-02T21:52:23.175900",
     "status": "completed"
    },
    "tags": [
     "parameters"
    ]
   },
   "outputs": [],
   "source": [
    "func_name = \"TbAbs\"\n",
    "\n",
    "positive_prior = False\n"
   ]
  },
  {
   "cell_type": "code",
   "execution_count": 3,
   "id": "384191a7",
   "metadata": {
    "execution": {
     "iopub.execute_input": "2025-10-02T21:52:23.187189Z",
     "iopub.status.busy": "2025-10-02T21:52:23.186963Z",
     "iopub.status.idle": "2025-10-02T21:52:23.195268Z",
     "shell.execute_reply": "2025-10-02T21:52:23.194701Z"
    },
    "papermill": {
     "duration": 0.013692,
     "end_time": "2025-10-02T21:52:23.196616",
     "exception": false,
     "start_time": "2025-10-02T21:52:23.182924",
     "status": "completed"
    },
    "tags": [
     "injected-parameters"
    ]
   },
   "outputs": [],
   "source": [
    "# Parameters\n",
    "func_name = \"Gamma\"\n",
    "positive_prior = True\n"
   ]
  },
  {
   "cell_type": "code",
   "execution_count": 4,
   "id": "5fe6b235",
   "metadata": {
    "execution": {
     "iopub.execute_input": "2025-10-02T21:52:23.199782Z",
     "iopub.status.busy": "2025-10-02T21:52:23.199621Z",
     "iopub.status.idle": "2025-10-02T21:52:23.208750Z",
     "shell.execute_reply": "2025-10-02T21:52:23.208182Z"
    },
    "lines_to_next_cell": 0,
    "nbsphinx": "hidden",
    "papermill": {
     "duration": 0.012379,
     "end_time": "2025-10-02T21:52:23.210334",
     "exception": false,
     "start_time": "2025-10-02T21:52:23.197955",
     "status": "completed"
    },
    "tags": []
   },
   "outputs": [],
   "source": [
    "func = _known_functions[func_name]()\n",
    "\n",
    "if not positive_prior:\n",
    "\n",
    "\tenergy_grid = np.linspace(-5,5,1000)\n",
    "\n",
    "else:\n",
    "    \n",
    "    energy_grid = np.linspace(0,1,1000)\n",
    "    \n",
    "    \n",
    "    \n",
    "    \n",
    "blue = \"#4152E3\"\n",
    "red = \"#E3414B\"\n",
    "green = \"#41E39E\""
   ]
  },
  {
   "cell_type": "markdown",
   "id": "a7933037",
   "metadata": {
    "lines_to_next_cell": 0,
    "papermill": {
     "duration": 0.00115,
     "end_time": "2025-10-02T21:52:23.212770",
     "exception": false,
     "start_time": "2025-10-02T21:52:23.211620",
     "status": "completed"
    },
    "tags": []
   },
   "source": [
    "## Description"
   ]
  },
  {
   "cell_type": "code",
   "execution_count": 5,
   "id": "6a91e0b0",
   "metadata": {
    "execution": {
     "iopub.execute_input": "2025-10-02T21:52:23.216001Z",
     "iopub.status.busy": "2025-10-02T21:52:23.215827Z",
     "iopub.status.idle": "2025-10-02T21:52:23.224037Z",
     "shell.execute_reply": "2025-10-02T21:52:23.223421Z"
    },
    "papermill": {
     "duration": 0.011484,
     "end_time": "2025-10-02T21:52:23.225348",
     "exception": false,
     "start_time": "2025-10-02T21:52:23.213864",
     "status": "completed"
    },
    "tags": []
   },
   "outputs": [
    {
     "data": {
      "text/html": [
       "<ul>\n",
       "\n",
       "<li>description: A gamma distribution function</li>\n",
       "\n",
       "<li>formula: $ f(x,\\alpha, \\beta)=\\frac{\\beta^\\alpha x^{\\alpha-1} e^{-\\beta x}}{\\Gamma(\\alpha)}$</li>\n",
       "\n",
       "<li>parameters: \n",
       "<ul>\n",
       "\n",
       "<li>alpha: \n",
       "<ul>\n",
       "\n",
       "<li>value: 0.5</li>\n",
       "\n",
       "<li>desc: first shape parameter</li>\n",
       "\n",
       "<li>min_value: 0.0</li>\n",
       "\n",
       "<li>max_value: None</li>\n",
       "\n",
       "<li>unit: </li>\n",
       "\n",
       "<li>is_normalization: False</li>\n",
       "\n",
       "<li>delta: 0.05</li>\n",
       "\n",
       "<li>free: True</li>\n",
       "\n",
       "</ul>\n",
       "\n",
       "</li>\n",
       "\n",
       "<li>beta: \n",
       "<ul>\n",
       "\n",
       "<li>value: 1.0</li>\n",
       "\n",
       "<li>desc: second shape parameter</li>\n",
       "\n",
       "<li>min_value: 0.0</li>\n",
       "\n",
       "<li>max_value: None</li>\n",
       "\n",
       "<li>unit: </li>\n",
       "\n",
       "<li>is_normalization: False</li>\n",
       "\n",
       "<li>delta: 0.1</li>\n",
       "\n",
       "<li>free: True</li>\n",
       "\n",
       "</ul>\n",
       "\n",
       "</li>\n",
       "\n",
       "</ul>\n",
       "\n",
       "</li>\n",
       "\n",
       "</ul>\n"
      ],
      "text/plain": [
       "  * description: A gamma distribution function\n",
       "  * formula: $ f(x,\\alpha, \\beta)=\\frac{\\beta^\\alpha x^{\\alpha-1} e^{-\\beta x}}{\\Gamma(\\alpha)}$\n",
       "  * parameters:\n",
       "    * alpha:\n",
       "      * value: 0.5\n",
       "      * desc: first shape parameter\n",
       "      * min_value: 0.0\n",
       "      * max_value: null\n",
       "      * unit: ''\n",
       "      * is_normalization: false\n",
       "      * delta: 0.05\n",
       "      * free: true\n",
       "    * beta:\n",
       "      * value: 1.0\n",
       "      * desc: second shape parameter\n",
       "      * min_value: 0.0\n",
       "      * max_value: null\n",
       "      * unit: ''\n",
       "      * is_normalization: false\n",
       "      * delta: 0.1\n",
       "      * free: true"
      ]
     },
     "metadata": {},
     "output_type": "display_data"
    }
   ],
   "source": [
    "func.display()"
   ]
  },
  {
   "cell_type": "markdown",
   "id": "2e758aca",
   "metadata": {
    "papermill": {
     "duration": 0.001231,
     "end_time": "2025-10-02T21:52:23.228076",
     "exception": false,
     "start_time": "2025-10-02T21:52:23.226845",
     "status": "completed"
    },
    "tags": []
   },
   "source": [
    "## Shape \n",
    "\n",
    "The shape of the function. \n",
    "\n",
    "*If this is not a photon model but a prior or linear function then ignore the units as these docs are auto-generated*"
   ]
  },
  {
   "cell_type": "code",
   "execution_count": 6,
   "id": "fe8ed9fe",
   "metadata": {
    "execution": {
     "iopub.execute_input": "2025-10-02T21:52:23.231231Z",
     "iopub.status.busy": "2025-10-02T21:52:23.231064Z",
     "iopub.status.idle": "2025-10-02T21:52:23.370090Z",
     "shell.execute_reply": "2025-10-02T21:52:23.365625Z"
    },
    "papermill": {
     "duration": 0.142202,
     "end_time": "2025-10-02T21:52:23.371474",
     "exception": false,
     "start_time": "2025-10-02T21:52:23.229272",
     "status": "completed"
    },
    "tags": [
     "nbsphinx-thumbnail"
    ]
   },
   "outputs": [
    {
     "data": {
      "text/plain": [
       "Text(0, 0.5, 'probability')"
      ]
     },
     "execution_count": 6,
     "metadata": {},
     "output_type": "execute_result"
    },
    {
     "data": {
      "image/png": "[encoded data removed]",
      "text/plain": [
       "<Figure size 1040x910 with 1 Axes>"
      ]
     },
     "metadata": {},
     "output_type": "display_data"
    }
   ],
   "source": [
    "fig, ax = plt.subplots()\n",
    "\n",
    "\n",
    "ax.plot(energy_grid, func(energy_grid), color=blue, lw=3)\n",
    "\n",
    "ax.set_xlabel(\"x\")\n",
    "ax.set_ylabel(\"probability\")\n"
   ]
  },
  {
   "cell_type": "markdown",
   "id": "b2f8d9d8",
   "metadata": {
    "papermill": {
     "duration": 0.001554,
     "end_time": "2025-10-02T21:52:23.374841",
     "exception": false,
     "start_time": "2025-10-02T21:52:23.373287",
     "status": "completed"
    },
    "tags": []
   },
   "source": [
    "## Random Number Generation\n",
    "\n",
    "This is how we can generate random numbers from the prior.\n"
   ]
  },
  {
   "cell_type": "code",
   "execution_count": 7,
   "id": "b5c7e8f1",
   "metadata": {
    "execution": {
     "iopub.execute_input": "2025-10-02T21:52:23.378831Z",
     "iopub.status.busy": "2025-10-02T21:52:23.378486Z",
     "iopub.status.idle": "2025-10-02T21:52:23.933151Z",
     "shell.execute_reply": "2025-10-02T21:52:23.931777Z"
    },
    "papermill": {
     "duration": 0.558132,
     "end_time": "2025-10-02T21:52:23.934308",
     "exception": false,
     "start_time": "2025-10-02T21:52:23.376176",
     "status": "completed"
    },
    "tags": []
   },
   "outputs": [
    {
     "data": {
      "text/plain": [
       "Text(0, 0.5, 'N')"
      ]
     },
     "execution_count": 7,
     "metadata": {},
     "output_type": "execute_result"
    },
    {
     "data": {
      "image/png": "[encoded data removed]",
      "text/plain": [
       "<Figure size 1040x910 with 1 Axes>"
      ]
     },
     "metadata": {},
     "output_type": "display_data"
    }
   ],
   "source": [
    "\n",
    "\n",
    "u = np.random.uniform(0,1, size=5000)\n",
    "\n",
    "draws = [func.from_unit_cube(x) for x in u]\n",
    "\n",
    "\n",
    "fig, ax = plt.subplots()\n",
    "\n",
    "\n",
    "ax.hist(draws, color=green, bins=50)\n",
    "\n",
    "ax.set_xlabel(\"value\")\n",
    "ax.set_ylabel(\"N\")\n",
    "\n"
   ]
  }
 ],
 "metadata": {
  "jupytext": {
   "formats": "ipynb,md"
  },
  "kernelspec": {
   "display_name": "Python 3 (ipykernel)",
   "language": "python",
   "name": "python3"
  },
  "language_info": {
   "codemirror_mode": {
    "name": "ipython",
    "version": 3
   },
   "file_extension": ".py",
   "mimetype": "text/x-python",
   "name": "python",
   "nbconvert_exporter": "python",
   "pygments_lexer": "ipython3",
   "version": "3.9.13"
  },
  "papermill": {
   "default_parameters": {},
   "duration": 3.894127,
   "end_time": "2025-10-02T21:52:24.364496",
   "environment_variables": {},
   "exception": null,
   "input_path": "Gamma.ipynb",
   "output_path": "/Users/runner/work/astromodels/astromodels/docs/notebooks/Gamma.ipynb",
   "parameters": {
    "func_name": "Gamma",
    "positive_prior": true
   },
   "start_time": "2025-10-02T21:52:20.470369",
   "version": "2.6.0"
  }
 },
 "nbformat": 4,
 "nbformat_minor": 5
}
