{
 "cells": [
  {
   "cell_type": "markdown",
   "id": "e7157997",
   "metadata": {
    "papermill": {
     "duration": 0.00147,
     "end_time": "2025-09-26T22:01:43.415617",
     "exception": false,
     "start_time": "2025-09-26T22:01:43.414147",
     "status": "completed"
    },
    "tags": []
   },
   "source": [
    "# Gamma"
   ]
  },
  {
   "cell_type": "code",
   "execution_count": 1,
   "id": "300bd4e9",
   "metadata": {
    "execution": {
     "iopub.execute_input": "2025-09-26T22:01:43.418609Z",
     "iopub.status.busy": "2025-09-26T22:01:43.418431Z",
     "iopub.status.idle": "2025-09-26T22:01:45.507495Z",
     "shell.execute_reply": "2025-09-26T22:01:45.506877Z"
    },
    "nbsphinx": "hidden",
    "papermill": {
     "duration": 2.092693,
     "end_time": "2025-09-26T22:01:45.509495",
     "exception": false,
     "start_time": "2025-09-26T22:01:43.416802",
     "status": "completed"
    },
    "tags": []
   },
   "outputs": [],
   "source": [
    "%%capture\n",
    "\n",
    "import numpy as np\n",
    "\n",
    "import matplotlib.pyplot as plt\n",
    "\n",
    "import warnings\n",
    "warnings.simplefilter(\"ignore\")\n",
    "\n",
    "from astromodels.functions.function import _known_functions\n",
    "\n",
    "\n",
    "from jupyterthemes import jtplot\n",
    "jtplot.style(context=\"talk\", fscale=1, ticks=True, grid=False)\n",
    "%matplotlib inline"
   ]
  },
  {
   "cell_type": "code",
   "execution_count": 2,
   "id": "ca69b244",
   "metadata": {
    "execution": {
     "iopub.execute_input": "2025-09-26T22:01:45.513217Z",
     "iopub.status.busy": "2025-09-26T22:01:45.512747Z",
     "iopub.status.idle": "2025-09-26T22:01:45.515216Z",
     "shell.execute_reply": "2025-09-26T22:01:45.514812Z"
    },
    "nbsphinx": "hidden",
    "papermill": {
     "duration": 0.005571,
     "end_time": "2025-09-26T22:01:45.516476",
     "exception": false,
     "start_time": "2025-09-26T22:01:45.510905",
     "status": "completed"
    },
    "tags": [
     "parameters"
    ]
   },
   "outputs": [],
   "source": [
    "func_name = \"TbAbs\"\n",
    "\n",
    "positive_prior = False\n"
   ]
  },
  {
   "cell_type": "code",
   "execution_count": 3,
   "id": "39dad0dc",
   "metadata": {
    "execution": {
     "iopub.execute_input": "2025-09-26T22:01:45.519401Z",
     "iopub.status.busy": "2025-09-26T22:01:45.519245Z",
     "iopub.status.idle": "2025-09-26T22:01:45.525282Z",
     "shell.execute_reply": "2025-09-26T22:01:45.524777Z"
    },
    "papermill": {
     "duration": 0.008719,
     "end_time": "2025-09-26T22:01:45.526482",
     "exception": false,
     "start_time": "2025-09-26T22:01:45.517763",
     "status": "completed"
    },
    "tags": [
     "injected-parameters"
    ]
   },
   "outputs": [],
   "source": [
    "# Parameters\n",
    "func_name = \"Gamma\"\n",
    "positive_prior = True\n"
   ]
  },
  {
   "cell_type": "code",
   "execution_count": 4,
   "id": "15d5f96d",
   "metadata": {
    "execution": {
     "iopub.execute_input": "2025-09-26T22:01:45.529527Z",
     "iopub.status.busy": "2025-09-26T22:01:45.529372Z",
     "iopub.status.idle": "2025-09-26T22:01:45.532297Z",
     "shell.execute_reply": "2025-09-26T22:01:45.531894Z"
    },
    "lines_to_next_cell": 0,
    "nbsphinx": "hidden",
    "papermill": {
     "duration": 0.005743,
     "end_time": "2025-09-26T22:01:45.533554",
     "exception": false,
     "start_time": "2025-09-26T22:01:45.527811",
     "status": "completed"
    },
    "tags": []
   },
   "outputs": [],
   "source": [
    "func = _known_functions[func_name]()\n",
    "\n",
    "if not positive_prior:\n",
    "\n",
    "\tenergy_grid = np.linspace(-5,5,1000)\n",
    "\n",
    "else:\n",
    "    \n",
    "    energy_grid = np.linspace(0,1,1000)\n",
    "    \n",
    "    \n",
    "    \n",
    "    \n",
    "blue = \"#4152E3\"\n",
    "red = \"#E3414B\"\n",
    "green = \"#41E39E\""
   ]
  },
  {
   "cell_type": "markdown",
   "id": "09793175",
   "metadata": {
    "lines_to_next_cell": 0,
    "papermill": {
     "duration": 0.001145,
     "end_time": "2025-09-26T22:01:45.535903",
     "exception": false,
     "start_time": "2025-09-26T22:01:45.534758",
     "status": "completed"
    },
    "tags": []
   },
   "source": [
    "## Description"
   ]
  },
  {
   "cell_type": "code",
   "execution_count": 5,
   "id": "4506f1b6",
   "metadata": {
    "execution": {
     "iopub.execute_input": "2025-09-26T22:01:45.538953Z",
     "iopub.status.busy": "2025-09-26T22:01:45.538758Z",
     "iopub.status.idle": "2025-09-26T22:01:45.543422Z",
     "shell.execute_reply": "2025-09-26T22:01:45.542950Z"
    },
    "papermill": {
     "duration": 0.007763,
     "end_time": "2025-09-26T22:01:45.544796",
     "exception": false,
     "start_time": "2025-09-26T22:01:45.537033",
     "status": "completed"
    },
    "tags": []
   },
   "outputs": [
    {
     "data": {
      "text/html": [
       "<ul>\n",
       "\n",
       "<li>description: A gamma distribution function</li>\n",
       "\n",
       "<li>formula: $ f(x,\\alpha, \\beta)=\\frac{\\beta^\\alpha x^{\\alpha-1} e^{-\\beta x}}{\\Gamma(\\alpha)}$</li>\n",
       "\n",
       "<li>parameters: \n",
       "<ul>\n",
       "\n",
       "<li>alpha: \n",
       "<ul>\n",
       "\n",
       "<li>value: 0.5</li>\n",
       "\n",
       "<li>desc: first shape parameter</li>\n",
       "\n",
       "<li>min_value: 0.0</li>\n",
       "\n",
       "<li>max_value: None</li>\n",
       "\n",
       "<li>unit: </li>\n",
       "\n",
       "<li>is_normalization: False</li>\n",
       "\n",
       "<li>delta: 0.05</li>\n",
       "\n",
       "<li>free: True</li>\n",
       "\n",
       "</ul>\n",
       "\n",
       "</li>\n",
       "\n",
       "<li>beta: \n",
       "<ul>\n",
       "\n",
       "<li>value: 1.0</li>\n",
       "\n",
       "<li>desc: second shape parameter</li>\n",
       "\n",
       "<li>min_value: 0.0</li>\n",
       "\n",
       "<li>max_value: None</li>\n",
       "\n",
       "<li>unit: </li>\n",
       "\n",
       "<li>is_normalization: False</li>\n",
       "\n",
       "<li>delta: 0.1</li>\n",
       "\n",
       "<li>free: True</li>\n",
       "\n",
       "</ul>\n",
       "\n",
       "</li>\n",
       "\n",
       "</ul>\n",
       "\n",
       "</li>\n",
       "\n",
       "</ul>\n"
      ],
      "text/plain": [
       "  * description: A gamma distribution function\n",
       "  * formula: $ f(x,\\alpha, \\beta)=\\frac{\\beta^\\alpha x^{\\alpha-1} e^{-\\beta x}}{\\Gamma(\\alpha)}$\n",
       "  * parameters:\n",
       "    * alpha:\n",
       "      * value: 0.5\n",
       "      * desc: first shape parameter\n",
       "      * min_value: 0.0\n",
       "      * max_value: null\n",
       "      * unit: ''\n",
       "      * is_normalization: false\n",
       "      * delta: 0.05\n",
       "      * free: true\n",
       "    * beta:\n",
       "      * value: 1.0\n",
       "      * desc: second shape parameter\n",
       "      * min_value: 0.0\n",
       "      * max_value: null\n",
       "      * unit: ''\n",
       "      * is_normalization: false\n",
       "      * delta: 0.1\n",
       "      * free: true"
      ]
     },
     "metadata": {},
     "output_type": "display_data"
    }
   ],
   "source": [
    "func.display()"
   ]
  },
  {
   "cell_type": "markdown",
   "id": "13e0aba8",
   "metadata": {
    "papermill": {
     "duration": 0.001384,
     "end_time": "2025-09-26T22:01:45.547624",
     "exception": false,
     "start_time": "2025-09-26T22:01:45.546240",
     "status": "completed"
    },
    "tags": []
   },
   "source": [
    "## Shape \n",
    "\n",
    "The shape of the function. \n",
    "\n",
    "*If this is not a photon model but a prior or linear function then ignore the units as these docs are auto-generated*"
   ]
  },
  {
   "cell_type": "code",
   "execution_count": 6,
   "id": "28b81642",
   "metadata": {
    "execution": {
     "iopub.execute_input": "2025-09-26T22:01:45.551131Z",
     "iopub.status.busy": "2025-09-26T22:01:45.550954Z",
     "iopub.status.idle": "2025-09-26T22:01:45.668505Z",
     "shell.execute_reply": "2025-09-26T22:01:45.665182Z"
    },
    "papermill": {
     "duration": 0.12065,
     "end_time": "2025-09-26T22:01:45.669650",
     "exception": false,
     "start_time": "2025-09-26T22:01:45.549000",
     "status": "completed"
    },
    "tags": [
     "nbsphinx-thumbnail"
    ]
   },
   "outputs": [
    {
     "data": {
      "text/plain": [
       "Text(0, 0.5, 'probability')"
      ]
     },
     "execution_count": 6,
     "metadata": {},
     "output_type": "execute_result"
    },
    {
     "data": {
      "image/png": "[encoded data removed]",
      "text/plain": [
       "<Figure size 1040x910 with 1 Axes>"
      ]
     },
     "metadata": {},
     "output_type": "display_data"
    }
   ],
   "source": [
    "fig, ax = plt.subplots()\n",
    "\n",
    "\n",
    "ax.plot(energy_grid, func(energy_grid), color=blue, lw=3)\n",
    "\n",
    "ax.set_xlabel(\"x\")\n",
    "ax.set_ylabel(\"probability\")\n"
   ]
  },
  {
   "cell_type": "markdown",
   "id": "d5447ba6",
   "metadata": {
    "papermill": {
     "duration": 0.001371,
     "end_time": "2025-09-26T22:01:45.672730",
     "exception": false,
     "start_time": "2025-09-26T22:01:45.671359",
     "status": "completed"
    },
    "tags": []
   },
   "source": [
    "## Random Number Generation\n",
    "\n",
    "This is how we can generate random numbers from the prior.\n"
   ]
  },
  {
   "cell_type": "code",
   "execution_count": 7,
   "id": "7a9a6e6e",
   "metadata": {
    "execution": {
     "iopub.execute_input": "2025-09-26T22:01:45.680002Z",
     "iopub.status.busy": "2025-09-26T22:01:45.678127Z",
     "iopub.status.idle": "2025-09-26T22:01:46.109070Z",
     "shell.execute_reply": "2025-09-26T22:01:46.107951Z"
    },
    "papermill": {
     "duration": 0.436084,
     "end_time": "2025-09-26T22:01:46.110154",
     "exception": false,
     "start_time": "2025-09-26T22:01:45.674070",
     "status": "completed"
    },
    "tags": []
   },
   "outputs": [
    {
     "data": {
      "text/plain": [
       "Text(0, 0.5, 'N')"
      ]
     },
     "execution_count": 7,
     "metadata": {},
     "output_type": "execute_result"
    },
    {
     "data": {
      "image/png": "[encoded data removed]",
      "text/plain": [
       "<Figure size 1040x910 with 1 Axes>"
      ]
     },
     "metadata": {},
     "output_type": "display_data"
    }
   ],
   "source": [
    "\n",
    "\n",
    "u = np.random.uniform(0,1, size=5000)\n",
    "\n",
    "draws = [func.from_unit_cube(x) for x in u]\n",
    "\n",
    "\n",
    "fig, ax = plt.subplots()\n",
    "\n",
    "\n",
    "ax.hist(draws, color=green, bins=50)\n",
    "\n",
    "ax.set_xlabel(\"value\")\n",
    "ax.set_ylabel(\"N\")\n",
    "\n"
   ]
  }
 ],
 "metadata": {
  "jupytext": {
   "formats": "ipynb,md"
  },
  "kernelspec": {
   "display_name": "Python 3 (ipykernel)",
   "language": "python",
   "name": "python3"
  },
  "language_info": {
   "codemirror_mode": {
    "name": "ipython",
    "version": 3
   },
   "file_extension": ".py",
   "mimetype": "text/x-python",
   "name": "python",
   "nbconvert_exporter": "python",
   "pygments_lexer": "ipython3",
   "version": "3.9.13"
  },
  "papermill": {
   "default_parameters": {},
   "duration": 3.849186,
   "end_time": "2025-09-26T22:01:46.540202",
   "environment_variables": {},
   "exception": null,
   "input_path": "Gamma.ipynb",
   "output_path": "/Users/runner/work/astromodels/astromodels/docs/notebooks/Gamma.ipynb",
   "parameters": {
    "func_name": "Gamma",
    "positive_prior": true
   },
   "start_time": "2025-09-26T22:01:42.691016",
   "version": "2.6.0"
  }
 },
 "nbformat": 4,
 "nbformat_minor": 5
}
