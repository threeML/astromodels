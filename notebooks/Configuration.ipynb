{
 "cells": [
  {
   "cell_type": "markdown",
   "id": "239d7421",
   "metadata": {},
   "source": [
    "# Configuration\n",
    "\n",
    "`astromodels` includes a configuration that allows users to set certain variables from the beginning"
   ]
  },
  {
   "cell_type": "code",
   "execution_count": 1,
   "id": "e94bb779",
   "metadata": {
    "execution": {
     "iopub.execute_input": "2025-09-23T20:00:05.137588Z",
     "iopub.status.busy": "2025-09-23T20:00:05.137484Z",
     "iopub.status.idle": "2025-09-23T20:00:06.954397Z",
     "shell.execute_reply": "2025-09-23T20:00:06.953825Z"
    }
   },
   "outputs": [
    {
     "data": {
      "text/html": [
       "<pre style=\"white-space:pre;overflow-x:auto;line-height:normal;font-family:Menlo,'DejaVu Sans Mono',consolas,'Courier New',monospace\"><span style=\"color: #00ff00; text-decoration-color: #00ff00\">20:00:06 </span><span style=\"color: #af5fd7; text-decoration-color: #af5fd7\">WARNING </span> <span style=\"color: #c6c6c6; text-decoration-color: #c6c6c6; font-weight: bold\"> The naima package is not available. Models that depend on it will not be         </span><a href=\"file:///Users/runner/work/astromodels/astromodels/astromodels/functions/functions_1D/functions.py\" target=\"_blank\"><span style=\"color: #7f7f7f; text-decoration-color: #7f7f7f\">functions.py</span></a><span style=\"color: #7f7f7f; text-decoration-color: #7f7f7f\">:</span><a href=\"file:///Users/runner/work/astromodels/astromodels/astromodels/functions/functions_1D/functions.py#48\" target=\"_blank\"><span style=\"color: #7f7f7f; text-decoration-color: #7f7f7f\">48</span></a>\n",
       "<span style=\"color: #00ff00; text-decoration-color: #00ff00\">         </span>         <span style=\"color: #c6c6c6; text-decoration-color: #c6c6c6; font-weight: bold\">available                                                                         </span><span style=\"color: #7f7f7f; text-decoration-color: #7f7f7f\">               </span>\n",
       "</pre>\n"
      ],
      "text/plain": [
       "\u001b[38;5;46m20:00:06\u001b[0m\u001b[38;5;46m \u001b[0m\u001b[38;5;134mWARNING \u001b[0m \u001b[1;38;5;251m The naima package is not available. Models that depend on it will not be        \u001b[0m\u001b[1;38;5;251m \u001b[0m\u001b]8;id=710450;file:///Users/runner/work/astromodels/astromodels/astromodels/functions/functions_1D/functions.py\u001b\\\u001b[2mfunctions.py\u001b[0m\u001b]8;;\u001b\\\u001b[2m:\u001b[0m\u001b]8;id=724969;file:///Users/runner/work/astromodels/astromodels/astromodels/functions/functions_1D/functions.py#48\u001b\\\u001b[2m48\u001b[0m\u001b]8;;\u001b\\\n",
       "\u001b[38;5;46m         \u001b[0m         \u001b[1;38;5;251mavailable                                                                        \u001b[0m\u001b[1;38;5;251m \u001b[0m\u001b[2m               \u001b[0m\n"
      ]
     },
     "metadata": {},
     "output_type": "display_data"
    },
    {
     "data": {
      "text/html": [
       "<pre style=\"white-space:pre;overflow-x:auto;line-height:normal;font-family:Menlo,'DejaVu Sans Mono',consolas,'Courier New',monospace\"><span style=\"color: #00ff00; text-decoration-color: #00ff00\">         </span><span style=\"color: #af5fd7; text-decoration-color: #af5fd7\">WARNING </span> <span style=\"color: #c6c6c6; text-decoration-color: #c6c6c6; font-weight: bold\"> The GSL library or the pygsl wrapper cannot be loaded. Models that depend on it  </span><a href=\"file:///Users/runner/work/astromodels/astromodels/astromodels/functions/functions_1D/functions.py\" target=\"_blank\"><span style=\"color: #7f7f7f; text-decoration-color: #7f7f7f\">functions.py</span></a><span style=\"color: #7f7f7f; text-decoration-color: #7f7f7f\">:</span><a href=\"file:///Users/runner/work/astromodels/astromodels/astromodels/functions/functions_1D/functions.py#70\" target=\"_blank\"><span style=\"color: #7f7f7f; text-decoration-color: #7f7f7f\">70</span></a>\n",
       "<span style=\"color: #00ff00; text-decoration-color: #00ff00\">         </span>         <span style=\"color: #c6c6c6; text-decoration-color: #c6c6c6; font-weight: bold\">will not be available.                                                            </span><span style=\"color: #7f7f7f; text-decoration-color: #7f7f7f\">               </span>\n",
       "</pre>\n"
      ],
      "text/plain": [
       "\u001b[38;5;46m        \u001b[0m\u001b[38;5;46m \u001b[0m\u001b[38;5;134mWARNING \u001b[0m \u001b[1;38;5;251m The GSL library or the pygsl wrapper cannot be loaded. Models that depend on it \u001b[0m\u001b[1;38;5;251m \u001b[0m\u001b]8;id=106463;file:///Users/runner/work/astromodels/astromodels/astromodels/functions/functions_1D/functions.py\u001b\\\u001b[2mfunctions.py\u001b[0m\u001b]8;;\u001b\\\u001b[2m:\u001b[0m\u001b]8;id=297287;file:///Users/runner/work/astromodels/astromodels/astromodels/functions/functions_1D/functions.py#70\u001b\\\u001b[2m70\u001b[0m\u001b]8;;\u001b\\\n",
       "\u001b[38;5;46m         \u001b[0m         \u001b[1;38;5;251mwill not be available.                                                           \u001b[0m\u001b[1;38;5;251m \u001b[0m\u001b[2m               \u001b[0m\n"
      ]
     },
     "metadata": {},
     "output_type": "display_data"
    }
   ],
   "source": [
    "from astromodels import astromodels_config, show_configuration"
   ]
  },
  {
   "cell_type": "code",
   "execution_count": 2,
   "id": "5c04075f",
   "metadata": {
    "execution": {
     "iopub.execute_input": "2025-09-23T20:00:06.956680Z",
     "iopub.status.busy": "2025-09-23T20:00:06.956374Z",
     "iopub.status.idle": "2025-09-23T20:00:06.965182Z",
     "shell.execute_reply": "2025-09-23T20:00:06.964753Z"
    }
   },
   "outputs": [
    {
     "data": {
      "text/html": [
       "<pre style=\"white-space:pre;overflow-x:auto;line-height:normal;font-family:Menlo,'DejaVu Sans Mono',consolas,'Courier New',monospace\"><span style=\"color: #af5fd7; text-decoration-color: #af5fd7; font-weight: bold\">config</span>\n",
       "<span style=\"color: #af5fd7; text-decoration-color: #af5fd7\">┣━━ </span><span style=\"color: #af5fd7; text-decoration-color: #af5fd7; font-weight: bold\">logging</span>\n",
       "<span style=\"color: #af5fd7; text-decoration-color: #af5fd7\">┃   ┣━━ </span><span style=\"color: #00ffaf; text-decoration-color: #00ffaf; font-weight: bold\">path: </span><span style=\"color: #5f87ff; text-decoration-color: #5f87ff; font-weight: bold\">~/.astromodels/log</span>\n",
       "<span style=\"color: #af5fd7; text-decoration-color: #af5fd7\">┃   ┣━━ </span><span style=\"color: #00ffaf; text-decoration-color: #00ffaf; font-weight: bold\">developer: </span><span style=\"color: #5f87ff; text-decoration-color: #5f87ff; font-weight: bold\">False</span>\n",
       "<span style=\"color: #af5fd7; text-decoration-color: #af5fd7\">┃   ┣━━ </span><span style=\"color: #00ffaf; text-decoration-color: #00ffaf; font-weight: bold\">usr: </span><span style=\"color: #5f87ff; text-decoration-color: #5f87ff; font-weight: bold\">True</span>\n",
       "<span style=\"color: #af5fd7; text-decoration-color: #af5fd7\">┃   ┣━━ </span><span style=\"color: #00ffaf; text-decoration-color: #00ffaf; font-weight: bold\">console: </span><span style=\"color: #5f87ff; text-decoration-color: #5f87ff; font-weight: bold\">True</span>\n",
       "<span style=\"color: #af5fd7; text-decoration-color: #af5fd7\">┃   ┣━━ </span><span style=\"color: #00ffaf; text-decoration-color: #00ffaf; font-weight: bold\">level: </span><span style=\"color: #5f87ff; text-decoration-color: #5f87ff; font-weight: bold\">20</span>\n",
       "<span style=\"color: #af5fd7; text-decoration-color: #af5fd7\">┃   ┣━━ </span><span style=\"color: #00ffaf; text-decoration-color: #00ffaf; font-weight: bold\">startup_warnings: </span><span style=\"color: #5f87ff; text-decoration-color: #5f87ff; font-weight: bold\">True</span>\n",
       "<span style=\"color: #af5fd7; text-decoration-color: #af5fd7\">┃   ┣━━ </span><span style=\"color: #00ffaf; text-decoration-color: #00ffaf; font-weight: bold\">info_style: </span><span style=\"color: #5f87ff; text-decoration-color: #5f87ff; font-weight: bold\">medium_spring_green</span>\n",
       "<span style=\"color: #af5fd7; text-decoration-color: #af5fd7\">┃   ┣━━ </span><span style=\"color: #00ffaf; text-decoration-color: #00ffaf; font-weight: bold\">warn_style: </span><span style=\"color: #5f87ff; text-decoration-color: #5f87ff; font-weight: bold\">medium_orchid</span>\n",
       "<span style=\"color: #af5fd7; text-decoration-color: #af5fd7\">┃   ┣━━ </span><span style=\"color: #00ffaf; text-decoration-color: #00ffaf; font-weight: bold\">error_style: </span><span style=\"color: #5f87ff; text-decoration-color: #5f87ff; font-weight: bold\">blink bold bright_red</span>\n",
       "<span style=\"color: #af5fd7; text-decoration-color: #af5fd7\">┃   ┣━━ </span><span style=\"color: #00ffaf; text-decoration-color: #00ffaf; font-weight: bold\">debug_style: </span><span style=\"color: #5f87ff; text-decoration-color: #5f87ff; font-weight: bold\">blue_violet</span>\n",
       "<span style=\"color: #af5fd7; text-decoration-color: #af5fd7\">┃   ┗━━ </span><span style=\"color: #00ffaf; text-decoration-color: #00ffaf; font-weight: bold\">message_style: </span><span style=\"color: #5f87ff; text-decoration-color: #5f87ff; font-weight: bold\">bold grey78</span>\n",
       "<span style=\"color: #af5fd7; text-decoration-color: #af5fd7\">┣━━ </span><span style=\"color: #af5fd7; text-decoration-color: #af5fd7; font-weight: bold\">absorption_models</span>\n",
       "<span style=\"color: #af5fd7; text-decoration-color: #af5fd7\">┃   ┣━━ </span><span style=\"color: #00ffaf; text-decoration-color: #00ffaf; font-weight: bold\">tbabs_table: </span><span style=\"color: #5f87ff; text-decoration-color: #5f87ff; font-weight: bold\">AbsTables.WILM</span>\n",
       "<span style=\"color: #af5fd7; text-decoration-color: #af5fd7\">┃   ┣━━ </span><span style=\"color: #00ffaf; text-decoration-color: #00ffaf; font-weight: bold\">phabs_table: </span><span style=\"color: #5f87ff; text-decoration-color: #5f87ff; font-weight: bold\">AbsTables.AG89</span>\n",
       "<span style=\"color: #af5fd7; text-decoration-color: #af5fd7\">┃   ┗━━ </span><span style=\"color: #00ffaf; text-decoration-color: #00ffaf; font-weight: bold\">ebl_table: </span><span style=\"color: #5f87ff; text-decoration-color: #5f87ff; font-weight: bold\">EBLTable.dominguez</span>\n",
       "<span style=\"color: #af5fd7; text-decoration-color: #af5fd7\">┗━━ </span><span style=\"color: #af5fd7; text-decoration-color: #af5fd7; font-weight: bold\">modeling</span>\n",
       "<span style=\"color: #af5fd7; text-decoration-color: #af5fd7\">    ┣━━ </span><span style=\"color: #00ffaf; text-decoration-color: #00ffaf; font-weight: bold\">use_memoization: </span><span style=\"color: #5f87ff; text-decoration-color: #5f87ff; font-weight: bold\">True</span>\n",
       "<span style=\"color: #af5fd7; text-decoration-color: #af5fd7\">    ┣━━ </span><span style=\"color: #00ffaf; text-decoration-color: #00ffaf; font-weight: bold\">use_parameter_transforms: </span><span style=\"color: #5f87ff; text-decoration-color: #5f87ff; font-weight: bold\">True</span>\n",
       "<span style=\"color: #af5fd7; text-decoration-color: #af5fd7\">    ┗━━ </span><span style=\"color: #00ffaf; text-decoration-color: #00ffaf; font-weight: bold\">ignore_parameter_bounds: </span><span style=\"color: #5f87ff; text-decoration-color: #5f87ff; font-weight: bold\">False</span>\n",
       "</pre>\n"
      ],
      "text/plain": [
       "\u001b[1;38;5;134mconfig\u001b[0m\n",
       "\u001b[38;5;134m┣━━ \u001b[0m\u001b[1;38;5;134mlogging\u001b[0m\n",
       "\u001b[38;5;134m┃   \u001b[0m\u001b[38;5;134m┣━━ \u001b[0m\u001b[1;38;5;49mpath: \u001b[0m\u001b[1;5;38;5;69m~/.astromodels/log\u001b[0m\n",
       "\u001b[38;5;134m┃   \u001b[0m\u001b[38;5;134m┣━━ \u001b[0m\u001b[1;38;5;49mdeveloper: \u001b[0m\u001b[1;5;38;5;69mFalse\u001b[0m\n",
       "\u001b[38;5;134m┃   \u001b[0m\u001b[38;5;134m┣━━ \u001b[0m\u001b[1;38;5;49musr: \u001b[0m\u001b[1;5;38;5;69mTrue\u001b[0m\n",
       "\u001b[38;5;134m┃   \u001b[0m\u001b[38;5;134m┣━━ \u001b[0m\u001b[1;38;5;49mconsole: \u001b[0m\u001b[1;5;38;5;69mTrue\u001b[0m\n",
       "\u001b[38;5;134m┃   \u001b[0m\u001b[38;5;134m┣━━ \u001b[0m\u001b[1;38;5;49mlevel: \u001b[0m\u001b[1;5;38;5;69m20\u001b[0m\n",
       "\u001b[38;5;134m┃   \u001b[0m\u001b[38;5;134m┣━━ \u001b[0m\u001b[1;38;5;49mstartup_warnings: \u001b[0m\u001b[1;5;38;5;69mTrue\u001b[0m\n",
       "\u001b[38;5;134m┃   \u001b[0m\u001b[38;5;134m┣━━ \u001b[0m\u001b[1;38;5;49minfo_style: \u001b[0m\u001b[1;5;38;5;69mmedium_spring_green\u001b[0m\n",
       "\u001b[38;5;134m┃   \u001b[0m\u001b[38;5;134m┣━━ \u001b[0m\u001b[1;38;5;49mwarn_style: \u001b[0m\u001b[1;5;38;5;69mmedium_orchid\u001b[0m\n",
       "\u001b[38;5;134m┃   \u001b[0m\u001b[38;5;134m┣━━ \u001b[0m\u001b[1;38;5;49merror_style: \u001b[0m\u001b[1;5;38;5;69mblink bold bright_red\u001b[0m\n",
       "\u001b[38;5;134m┃   \u001b[0m\u001b[38;5;134m┣━━ \u001b[0m\u001b[1;38;5;49mdebug_style: \u001b[0m\u001b[1;5;38;5;69mblue_violet\u001b[0m\n",
       "\u001b[38;5;134m┃   \u001b[0m\u001b[38;5;134m┗━━ \u001b[0m\u001b[1;38;5;49mmessage_style: \u001b[0m\u001b[1;5;38;5;69mbold grey78\u001b[0m\n",
       "\u001b[38;5;134m┣━━ \u001b[0m\u001b[1;38;5;134mabsorption_models\u001b[0m\n",
       "\u001b[38;5;134m┃   \u001b[0m\u001b[38;5;134m┣━━ \u001b[0m\u001b[1;38;5;49mtbabs_table: \u001b[0m\u001b[1;5;38;5;69mAbsTables.WILM\u001b[0m\n",
       "\u001b[38;5;134m┃   \u001b[0m\u001b[38;5;134m┣━━ \u001b[0m\u001b[1;38;5;49mphabs_table: \u001b[0m\u001b[1;5;38;5;69mAbsTables.AG89\u001b[0m\n",
       "\u001b[38;5;134m┃   \u001b[0m\u001b[38;5;134m┗━━ \u001b[0m\u001b[1;38;5;49mebl_table: \u001b[0m\u001b[1;5;38;5;69mEBLTable.dominguez\u001b[0m\n",
       "\u001b[38;5;134m┗━━ \u001b[0m\u001b[1;38;5;134mmodeling\u001b[0m\n",
       "\u001b[38;5;134m    \u001b[0m\u001b[38;5;134m┣━━ \u001b[0m\u001b[1;38;5;49muse_memoization: \u001b[0m\u001b[1;5;38;5;69mTrue\u001b[0m\n",
       "\u001b[38;5;134m    \u001b[0m\u001b[38;5;134m┣━━ \u001b[0m\u001b[1;38;5;49muse_parameter_transforms: \u001b[0m\u001b[1;5;38;5;69mTrue\u001b[0m\n",
       "\u001b[38;5;134m    \u001b[0m\u001b[38;5;134m┗━━ \u001b[0m\u001b[1;38;5;49mignore_parameter_bounds: \u001b[0m\u001b[1;5;38;5;69mFalse\u001b[0m\n"
      ]
     },
     "execution_count": 2,
     "metadata": {},
     "output_type": "execute_result"
    }
   ],
   "source": [
    "show_configuration()"
   ]
  },
  {
   "cell_type": "markdown",
   "id": "9a575dfa",
   "metadata": {},
   "source": [
    "The configuration can be accessed and altered during runtime:"
   ]
  },
  {
   "cell_type": "code",
   "execution_count": 3,
   "id": "a3f7f61a",
   "metadata": {
    "execution": {
     "iopub.execute_input": "2025-09-23T20:00:06.967126Z",
     "iopub.status.busy": "2025-09-23T20:00:06.967000Z",
     "iopub.status.idle": "2025-09-23T20:00:06.969069Z",
     "shell.execute_reply": "2025-09-23T20:00:06.968651Z"
    }
   },
   "outputs": [],
   "source": [
    "astromodels_config.modeling.use_memoization = False"
   ]
  },
  {
   "cell_type": "code",
   "execution_count": 4,
   "id": "724a067a",
   "metadata": {
    "execution": {
     "iopub.execute_input": "2025-09-23T20:00:06.970845Z",
     "iopub.status.busy": "2025-09-23T20:00:06.970742Z",
     "iopub.status.idle": "2025-09-23T20:00:06.975068Z",
     "shell.execute_reply": "2025-09-23T20:00:06.974678Z"
    }
   },
   "outputs": [
    {
     "data": {
      "text/html": [
       "<pre style=\"white-space:pre;overflow-x:auto;line-height:normal;font-family:Menlo,'DejaVu Sans Mono',consolas,'Courier New',monospace\"><span style=\"color: #af5fd7; text-decoration-color: #af5fd7; font-weight: bold\">config</span>\n",
       "<span style=\"color: #af5fd7; text-decoration-color: #af5fd7\">┣━━ </span><span style=\"color: #af5fd7; text-decoration-color: #af5fd7; font-weight: bold\">logging</span>\n",
       "<span style=\"color: #af5fd7; text-decoration-color: #af5fd7\">┃   ┣━━ </span><span style=\"color: #00ffaf; text-decoration-color: #00ffaf; font-weight: bold\">path: </span><span style=\"color: #5f87ff; text-decoration-color: #5f87ff; font-weight: bold\">~/.astromodels/log</span>\n",
       "<span style=\"color: #af5fd7; text-decoration-color: #af5fd7\">┃   ┣━━ </span><span style=\"color: #00ffaf; text-decoration-color: #00ffaf; font-weight: bold\">developer: </span><span style=\"color: #5f87ff; text-decoration-color: #5f87ff; font-weight: bold\">False</span>\n",
       "<span style=\"color: #af5fd7; text-decoration-color: #af5fd7\">┃   ┣━━ </span><span style=\"color: #00ffaf; text-decoration-color: #00ffaf; font-weight: bold\">usr: </span><span style=\"color: #5f87ff; text-decoration-color: #5f87ff; font-weight: bold\">True</span>\n",
       "<span style=\"color: #af5fd7; text-decoration-color: #af5fd7\">┃   ┣━━ </span><span style=\"color: #00ffaf; text-decoration-color: #00ffaf; font-weight: bold\">console: </span><span style=\"color: #5f87ff; text-decoration-color: #5f87ff; font-weight: bold\">True</span>\n",
       "<span style=\"color: #af5fd7; text-decoration-color: #af5fd7\">┃   ┣━━ </span><span style=\"color: #00ffaf; text-decoration-color: #00ffaf; font-weight: bold\">level: </span><span style=\"color: #5f87ff; text-decoration-color: #5f87ff; font-weight: bold\">20</span>\n",
       "<span style=\"color: #af5fd7; text-decoration-color: #af5fd7\">┃   ┣━━ </span><span style=\"color: #00ffaf; text-decoration-color: #00ffaf; font-weight: bold\">startup_warnings: </span><span style=\"color: #5f87ff; text-decoration-color: #5f87ff; font-weight: bold\">True</span>\n",
       "<span style=\"color: #af5fd7; text-decoration-color: #af5fd7\">┃   ┣━━ </span><span style=\"color: #00ffaf; text-decoration-color: #00ffaf; font-weight: bold\">info_style: </span><span style=\"color: #5f87ff; text-decoration-color: #5f87ff; font-weight: bold\">medium_spring_green</span>\n",
       "<span style=\"color: #af5fd7; text-decoration-color: #af5fd7\">┃   ┣━━ </span><span style=\"color: #00ffaf; text-decoration-color: #00ffaf; font-weight: bold\">warn_style: </span><span style=\"color: #5f87ff; text-decoration-color: #5f87ff; font-weight: bold\">medium_orchid</span>\n",
       "<span style=\"color: #af5fd7; text-decoration-color: #af5fd7\">┃   ┣━━ </span><span style=\"color: #00ffaf; text-decoration-color: #00ffaf; font-weight: bold\">error_style: </span><span style=\"color: #5f87ff; text-decoration-color: #5f87ff; font-weight: bold\">blink bold bright_red</span>\n",
       "<span style=\"color: #af5fd7; text-decoration-color: #af5fd7\">┃   ┣━━ </span><span style=\"color: #00ffaf; text-decoration-color: #00ffaf; font-weight: bold\">debug_style: </span><span style=\"color: #5f87ff; text-decoration-color: #5f87ff; font-weight: bold\">blue_violet</span>\n",
       "<span style=\"color: #af5fd7; text-decoration-color: #af5fd7\">┃   ┗━━ </span><span style=\"color: #00ffaf; text-decoration-color: #00ffaf; font-weight: bold\">message_style: </span><span style=\"color: #5f87ff; text-decoration-color: #5f87ff; font-weight: bold\">bold grey78</span>\n",
       "<span style=\"color: #af5fd7; text-decoration-color: #af5fd7\">┣━━ </span><span style=\"color: #af5fd7; text-decoration-color: #af5fd7; font-weight: bold\">absorption_models</span>\n",
       "<span style=\"color: #af5fd7; text-decoration-color: #af5fd7\">┃   ┣━━ </span><span style=\"color: #00ffaf; text-decoration-color: #00ffaf; font-weight: bold\">tbabs_table: </span><span style=\"color: #5f87ff; text-decoration-color: #5f87ff; font-weight: bold\">AbsTables.WILM</span>\n",
       "<span style=\"color: #af5fd7; text-decoration-color: #af5fd7\">┃   ┣━━ </span><span style=\"color: #00ffaf; text-decoration-color: #00ffaf; font-weight: bold\">phabs_table: </span><span style=\"color: #5f87ff; text-decoration-color: #5f87ff; font-weight: bold\">AbsTables.AG89</span>\n",
       "<span style=\"color: #af5fd7; text-decoration-color: #af5fd7\">┃   ┗━━ </span><span style=\"color: #00ffaf; text-decoration-color: #00ffaf; font-weight: bold\">ebl_table: </span><span style=\"color: #5f87ff; text-decoration-color: #5f87ff; font-weight: bold\">EBLTable.dominguez</span>\n",
       "<span style=\"color: #af5fd7; text-decoration-color: #af5fd7\">┗━━ </span><span style=\"color: #af5fd7; text-decoration-color: #af5fd7; font-weight: bold\">modeling</span>\n",
       "<span style=\"color: #af5fd7; text-decoration-color: #af5fd7\">    ┣━━ </span><span style=\"color: #00ffaf; text-decoration-color: #00ffaf; font-weight: bold\">use_memoization: </span><span style=\"color: #5f87ff; text-decoration-color: #5f87ff; font-weight: bold\">False</span>\n",
       "<span style=\"color: #af5fd7; text-decoration-color: #af5fd7\">    ┣━━ </span><span style=\"color: #00ffaf; text-decoration-color: #00ffaf; font-weight: bold\">use_parameter_transforms: </span><span style=\"color: #5f87ff; text-decoration-color: #5f87ff; font-weight: bold\">True</span>\n",
       "<span style=\"color: #af5fd7; text-decoration-color: #af5fd7\">    ┗━━ </span><span style=\"color: #00ffaf; text-decoration-color: #00ffaf; font-weight: bold\">ignore_parameter_bounds: </span><span style=\"color: #5f87ff; text-decoration-color: #5f87ff; font-weight: bold\">False</span>\n",
       "</pre>\n"
      ],
      "text/plain": [
       "\u001b[1;38;5;134mconfig\u001b[0m\n",
       "\u001b[38;5;134m┣━━ \u001b[0m\u001b[1;38;5;134mlogging\u001b[0m\n",
       "\u001b[38;5;134m┃   \u001b[0m\u001b[38;5;134m┣━━ \u001b[0m\u001b[1;38;5;49mpath: \u001b[0m\u001b[1;5;38;5;69m~/.astromodels/log\u001b[0m\n",
       "\u001b[38;5;134m┃   \u001b[0m\u001b[38;5;134m┣━━ \u001b[0m\u001b[1;38;5;49mdeveloper: \u001b[0m\u001b[1;5;38;5;69mFalse\u001b[0m\n",
       "\u001b[38;5;134m┃   \u001b[0m\u001b[38;5;134m┣━━ \u001b[0m\u001b[1;38;5;49musr: \u001b[0m\u001b[1;5;38;5;69mTrue\u001b[0m\n",
       "\u001b[38;5;134m┃   \u001b[0m\u001b[38;5;134m┣━━ \u001b[0m\u001b[1;38;5;49mconsole: \u001b[0m\u001b[1;5;38;5;69mTrue\u001b[0m\n",
       "\u001b[38;5;134m┃   \u001b[0m\u001b[38;5;134m┣━━ \u001b[0m\u001b[1;38;5;49mlevel: \u001b[0m\u001b[1;5;38;5;69m20\u001b[0m\n",
       "\u001b[38;5;134m┃   \u001b[0m\u001b[38;5;134m┣━━ \u001b[0m\u001b[1;38;5;49mstartup_warnings: \u001b[0m\u001b[1;5;38;5;69mTrue\u001b[0m\n",
       "\u001b[38;5;134m┃   \u001b[0m\u001b[38;5;134m┣━━ \u001b[0m\u001b[1;38;5;49minfo_style: \u001b[0m\u001b[1;5;38;5;69mmedium_spring_green\u001b[0m\n",
       "\u001b[38;5;134m┃   \u001b[0m\u001b[38;5;134m┣━━ \u001b[0m\u001b[1;38;5;49mwarn_style: \u001b[0m\u001b[1;5;38;5;69mmedium_orchid\u001b[0m\n",
       "\u001b[38;5;134m┃   \u001b[0m\u001b[38;5;134m┣━━ \u001b[0m\u001b[1;38;5;49merror_style: \u001b[0m\u001b[1;5;38;5;69mblink bold bright_red\u001b[0m\n",
       "\u001b[38;5;134m┃   \u001b[0m\u001b[38;5;134m┣━━ \u001b[0m\u001b[1;38;5;49mdebug_style: \u001b[0m\u001b[1;5;38;5;69mblue_violet\u001b[0m\n",
       "\u001b[38;5;134m┃   \u001b[0m\u001b[38;5;134m┗━━ \u001b[0m\u001b[1;38;5;49mmessage_style: \u001b[0m\u001b[1;5;38;5;69mbold grey78\u001b[0m\n",
       "\u001b[38;5;134m┣━━ \u001b[0m\u001b[1;38;5;134mabsorption_models\u001b[0m\n",
       "\u001b[38;5;134m┃   \u001b[0m\u001b[38;5;134m┣━━ \u001b[0m\u001b[1;38;5;49mtbabs_table: \u001b[0m\u001b[1;5;38;5;69mAbsTables.WILM\u001b[0m\n",
       "\u001b[38;5;134m┃   \u001b[0m\u001b[38;5;134m┣━━ \u001b[0m\u001b[1;38;5;49mphabs_table: \u001b[0m\u001b[1;5;38;5;69mAbsTables.AG89\u001b[0m\n",
       "\u001b[38;5;134m┃   \u001b[0m\u001b[38;5;134m┗━━ \u001b[0m\u001b[1;38;5;49mebl_table: \u001b[0m\u001b[1;5;38;5;69mEBLTable.dominguez\u001b[0m\n",
       "\u001b[38;5;134m┗━━ \u001b[0m\u001b[1;38;5;134mmodeling\u001b[0m\n",
       "\u001b[38;5;134m    \u001b[0m\u001b[38;5;134m┣━━ \u001b[0m\u001b[1;38;5;49muse_memoization: \u001b[0m\u001b[1;5;38;5;69mFalse\u001b[0m\n",
       "\u001b[38;5;134m    \u001b[0m\u001b[38;5;134m┣━━ \u001b[0m\u001b[1;38;5;49muse_parameter_transforms: \u001b[0m\u001b[1;5;38;5;69mTrue\u001b[0m\n",
       "\u001b[38;5;134m    \u001b[0m\u001b[38;5;134m┗━━ \u001b[0m\u001b[1;38;5;49mignore_parameter_bounds: \u001b[0m\u001b[1;5;38;5;69mFalse\u001b[0m\n"
      ]
     },
     "execution_count": 4,
     "metadata": {},
     "output_type": "execute_result"
    }
   ],
   "source": [
    "show_configuration()"
   ]
  },
  {
   "cell_type": "markdown",
   "id": "fccf16ff",
   "metadata": {},
   "source": [
    "The user can create a configuration YAML file with any name and the extension `.yml` and place it in the `~/.config/astromodels/` folder. An example file:\n",
    "\n",
    "\n",
    "```yaml\n",
    "logging:\n",
    "    developer: False # do not store debug log file\n",
    "    usr: True # store a log file\n",
    "    console: True # print logs to screen\n",
    "    level: DEBUG # turn on debug message\n",
    "\n",
    "\n",
    "modeling:\n",
    "    use_parameter_transforms: no # turn off parameter transforms\n",
    "    ignore_parameter_bounds: yes # ignore parameter bounds \n",
    "\n",
    "```\n",
    "\n",
    "Not all options are required to be set and the defaults will be applied to anything not set. "
   ]
  },
  {
   "cell_type": "markdown",
   "id": "4dbe9da1",
   "metadata": {},
   "source": [
    "## Configuration options\n",
    "\n",
    "There are a few special configuration options\n",
    "\n",
    "### use_memoization\n",
    "\n",
    "By default, astromodels functions *memoize* or cache their output. This is useful for various processes like optimization as speeds of the evaluation of repeated function calls with the same values. However, there is a slight overhead when caching values and when performing Bayesian fits, this can slow down the evaluation as chance of hitting the exact same values more than once should be low. Thus, it is possible to turn of memoization directly in the configuration.\n",
    "\n",
    "### use\\_parameter_transforms\n",
    "\n",
    "Parameters can have transforms assigned to them. These transforms are used during optimization to transform the parameter into a different space, such as log10. However, this may not be desirable and is not needed (or used) during Bayesian fits. There is also a small overhead in computing these transforms. Thus, this can be turned off via the configuration.\n",
    "\n",
    "### ignore\\_parameter_bounds\n",
    "\n",
    "The bounds of parameters can be used in during optimization but are not used during Bayesian fits (*the prior on a parameter controls its bounds if any*). Thus, it is possible to turn off errors occuring from trying to set parameters outside of thier bounds in the configuration. \n",
    "\n"
   ]
  }
 ],
 "metadata": {
  "kernelspec": {
   "display_name": "Python 3 (ipykernel)",
   "language": "python",
   "name": "python3"
  },
  "language_info": {
   "codemirror_mode": {
    "name": "ipython",
    "version": 3
   },
   "file_extension": ".py",
   "mimetype": "text/x-python",
   "name": "python",
   "nbconvert_exporter": "python",
   "pygments_lexer": "ipython3",
   "version": "3.9.13"
  }
 },
 "nbformat": 4,
 "nbformat_minor": 5
}
