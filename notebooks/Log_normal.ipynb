{
 "cells": [
  {
   "cell_type": "markdown",
   "id": "798ccf97",
   "metadata": {
    "papermill": {
     "duration": 0.001931,
     "end_time": "2025-10-02T21:52:03.763801",
     "exception": false,
     "start_time": "2025-10-02T21:52:03.761870",
     "status": "completed"
    },
    "tags": []
   },
   "source": [
    "# Log normal"
   ]
  },
  {
   "cell_type": "code",
   "execution_count": 1,
   "id": "4fa4404e",
   "metadata": {
    "execution": {
     "iopub.execute_input": "2025-10-02T21:52:03.767410Z",
     "iopub.status.busy": "2025-10-02T21:52:03.767217Z",
     "iopub.status.idle": "2025-10-02T21:52:06.144204Z",
     "shell.execute_reply": "2025-10-02T21:52:06.143607Z"
    },
    "nbsphinx": "hidden",
    "papermill": {
     "duration": 2.380581,
     "end_time": "2025-10-02T21:52:06.145709",
     "exception": false,
     "start_time": "2025-10-02T21:52:03.765128",
     "status": "completed"
    },
    "tags": []
   },
   "outputs": [],
   "source": [
    "%%capture\n",
    "\n",
    "import numpy as np\n",
    "\n",
    "import matplotlib.pyplot as plt\n",
    "\n",
    "import warnings\n",
    "warnings.simplefilter(\"ignore\")\n",
    "\n",
    "from astromodels.functions.function import _known_functions\n",
    "\n",
    "\n",
    "from jupyterthemes import jtplot\n",
    "jtplot.style(context=\"talk\", fscale=1, ticks=True, grid=False)\n",
    "%matplotlib inline"
   ]
  },
  {
   "cell_type": "code",
   "execution_count": 2,
   "id": "476df8f4",
   "metadata": {
    "execution": {
     "iopub.execute_input": "2025-10-02T21:52:06.149229Z",
     "iopub.status.busy": "2025-10-02T21:52:06.148840Z",
     "iopub.status.idle": "2025-10-02T21:52:06.151194Z",
     "shell.execute_reply": "2025-10-02T21:52:06.150736Z"
    },
    "nbsphinx": "hidden",
    "papermill": {
     "duration": 0.005697,
     "end_time": "2025-10-02T21:52:06.152770",
     "exception": false,
     "start_time": "2025-10-02T21:52:06.147073",
     "status": "completed"
    },
    "tags": [
     "parameters"
    ]
   },
   "outputs": [],
   "source": [
    "func_name = \"TbAbs\"\n",
    "\n",
    "positive_prior = False\n"
   ]
  },
  {
   "cell_type": "code",
   "execution_count": 3,
   "id": "887134fa",
   "metadata": {
    "execution": {
     "iopub.execute_input": "2025-10-02T21:52:06.155931Z",
     "iopub.status.busy": "2025-10-02T21:52:06.155768Z",
     "iopub.status.idle": "2025-10-02T21:52:06.161761Z",
     "shell.execute_reply": "2025-10-02T21:52:06.161342Z"
    },
    "papermill": {
     "duration": 0.00887,
     "end_time": "2025-10-02T21:52:06.162899",
     "exception": false,
     "start_time": "2025-10-02T21:52:06.154029",
     "status": "completed"
    },
    "tags": [
     "injected-parameters"
    ]
   },
   "outputs": [],
   "source": [
    "# Parameters\n",
    "func_name = \"Log_normal\"\n",
    "positive_prior = True\n"
   ]
  },
  {
   "cell_type": "code",
   "execution_count": 4,
   "id": "2e2c469e",
   "metadata": {
    "execution": {
     "iopub.execute_input": "2025-10-02T21:52:06.165711Z",
     "iopub.status.busy": "2025-10-02T21:52:06.165582Z",
     "iopub.status.idle": "2025-10-02T21:52:06.168339Z",
     "shell.execute_reply": "2025-10-02T21:52:06.167978Z"
    },
    "lines_to_next_cell": 0,
    "nbsphinx": "hidden",
    "papermill": {
     "duration": 0.005227,
     "end_time": "2025-10-02T21:52:06.169343",
     "exception": false,
     "start_time": "2025-10-02T21:52:06.164116",
     "status": "completed"
    },
    "tags": []
   },
   "outputs": [],
   "source": [
    "func = _known_functions[func_name]()\n",
    "\n",
    "if not positive_prior:\n",
    "\n",
    "\tenergy_grid = np.linspace(-5,5,1000)\n",
    "\n",
    "else:\n",
    "    \n",
    "    energy_grid = np.linspace(0,1,1000)\n",
    "    \n",
    "    \n",
    "    \n",
    "    \n",
    "blue = \"#4152E3\"\n",
    "red = \"#E3414B\"\n",
    "green = \"#41E39E\""
   ]
  },
  {
   "cell_type": "markdown",
   "id": "8efc4ab1",
   "metadata": {
    "lines_to_next_cell": 0,
    "papermill": {
     "duration": 0.001016,
     "end_time": "2025-10-02T21:52:06.171391",
     "exception": false,
     "start_time": "2025-10-02T21:52:06.170375",
     "status": "completed"
    },
    "tags": []
   },
   "source": [
    "## Description"
   ]
  },
  {
   "cell_type": "code",
   "execution_count": 5,
   "id": "cbd23da9",
   "metadata": {
    "execution": {
     "iopub.execute_input": "2025-10-02T21:52:06.174491Z",
     "iopub.status.busy": "2025-10-02T21:52:06.174301Z",
     "iopub.status.idle": "2025-10-02T21:52:06.179048Z",
     "shell.execute_reply": "2025-10-02T21:52:06.178632Z"
    },
    "papermill": {
     "duration": 0.007761,
     "end_time": "2025-10-02T21:52:06.180229",
     "exception": false,
     "start_time": "2025-10-02T21:52:06.172468",
     "status": "completed"
    },
    "tags": []
   },
   "outputs": [
    {
     "data": {
      "text/html": [
       "<ul>\n",
       "\n",
       "<li>description: A log normal function</li>\n",
       "\n",
       "<li>formula: $K\\frac{1}{x\\sigma\\sqrt{2\\pi}}\\exp{\\frac{(\\log x/piv-\\mu/piv)^2} {2~(\\sigma)^2}} $</li>\n",
       "\n",
       "<li>parameters: \n",
       "<ul>\n",
       "\n",
       "<li>F: \n",
       "<ul>\n",
       "\n",
       "<li>value: 1.0</li>\n",
       "\n",
       "<li>desc: Integral between 0and +inf. Fix this to 1 to obtain a log Normal distribution</li>\n",
       "\n",
       "<li>min_value: None</li>\n",
       "\n",
       "<li>max_value: None</li>\n",
       "\n",
       "<li>unit: </li>\n",
       "\n",
       "<li>is_normalization: False</li>\n",
       "\n",
       "<li>delta: 0.1</li>\n",
       "\n",
       "<li>free: True</li>\n",
       "\n",
       "</ul>\n",
       "\n",
       "</li>\n",
       "\n",
       "<li>mu: \n",
       "<ul>\n",
       "\n",
       "<li>value: 0.0</li>\n",
       "\n",
       "<li>desc: Central value</li>\n",
       "\n",
       "<li>min_value: None</li>\n",
       "\n",
       "<li>max_value: None</li>\n",
       "\n",
       "<li>unit: </li>\n",
       "\n",
       "<li>is_normalization: False</li>\n",
       "\n",
       "<li>delta: 0.1</li>\n",
       "\n",
       "<li>free: True</li>\n",
       "\n",
       "</ul>\n",
       "\n",
       "</li>\n",
       "\n",
       "<li>sigma: \n",
       "<ul>\n",
       "\n",
       "<li>value: 1.0</li>\n",
       "\n",
       "<li>desc: standard deviation</li>\n",
       "\n",
       "<li>min_value: 1e-12</li>\n",
       "\n",
       "<li>max_value: None</li>\n",
       "\n",
       "<li>unit: </li>\n",
       "\n",
       "<li>is_normalization: False</li>\n",
       "\n",
       "<li>delta: 0.1</li>\n",
       "\n",
       "<li>free: True</li>\n",
       "\n",
       "</ul>\n",
       "\n",
       "</li>\n",
       "\n",
       "<li>piv: \n",
       "<ul>\n",
       "\n",
       "<li>value: 1.0</li>\n",
       "\n",
       "<li>desc: pivot. Leave this to 1 for a proper log normal distribution</li>\n",
       "\n",
       "<li>min_value: None</li>\n",
       "\n",
       "<li>max_value: None</li>\n",
       "\n",
       "<li>unit: </li>\n",
       "\n",
       "<li>is_normalization: False</li>\n",
       "\n",
       "<li>delta: 0.1</li>\n",
       "\n",
       "<li>free: False</li>\n",
       "\n",
       "</ul>\n",
       "\n",
       "</li>\n",
       "\n",
       "</ul>\n",
       "\n",
       "</li>\n",
       "\n",
       "</ul>\n"
      ],
      "text/plain": [
       "  * description: A log normal function\n",
       "  * formula: $K\\frac{1}{x\\sigma\\sqrt{2\\pi}}\\exp{\\frac{(\\log x/piv-\\mu/piv)^2} {2~(\\sigma)^2}}\n",
       "    * $\n",
       "  * parameters:\n",
       "    * F:\n",
       "      * value: 1.0\n",
       "      * desc: Integral between 0and +inf. Fix this to 1 to obtain a log Normal distribution\n",
       "      * min_value: null\n",
       "      * max_value: null\n",
       "      * unit: ''\n",
       "      * is_normalization: false\n",
       "      * delta: 0.1\n",
       "      * free: true\n",
       "    * mu:\n",
       "      * value: 0.0\n",
       "      * desc: Central value\n",
       "      * min_value: null\n",
       "      * max_value: null\n",
       "      * unit: ''\n",
       "      * is_normalization: false\n",
       "      * delta: 0.1\n",
       "      * free: true\n",
       "    * sigma:\n",
       "      * value: 1.0\n",
       "      * desc: standard deviation\n",
       "      * min_value: 1.0e-12\n",
       "      * max_value: null\n",
       "      * unit: ''\n",
       "      * is_normalization: false\n",
       "      * delta: 0.1\n",
       "      * free: true\n",
       "    * piv:\n",
       "      * value: 1.0\n",
       "      * desc: pivot. Leave this to 1 for a proper log normal distribution\n",
       "      * min_value: null\n",
       "      * max_value: null\n",
       "      * unit: ''\n",
       "      * is_normalization: false\n",
       "      * delta: 0.1\n",
       "      * free: false"
      ]
     },
     "metadata": {},
     "output_type": "display_data"
    }
   ],
   "source": [
    "func.display()"
   ]
  },
  {
   "cell_type": "markdown",
   "id": "c9f34ace",
   "metadata": {
    "papermill": {
     "duration": 0.001217,
     "end_time": "2025-10-02T21:52:06.182895",
     "exception": false,
     "start_time": "2025-10-02T21:52:06.181678",
     "status": "completed"
    },
    "tags": []
   },
   "source": [
    "## Shape \n",
    "\n",
    "The shape of the function. \n",
    "\n",
    "*If this is not a photon model but a prior or linear function then ignore the units as these docs are auto-generated*"
   ]
  },
  {
   "cell_type": "code",
   "execution_count": 6,
   "id": "df9ebdc5",
   "metadata": {
    "execution": {
     "iopub.execute_input": "2025-10-02T21:52:06.186181Z",
     "iopub.status.busy": "2025-10-02T21:52:06.186006Z",
     "iopub.status.idle": "2025-10-02T21:52:06.312537Z",
     "shell.execute_reply": "2025-10-02T21:52:06.308189Z"
    },
    "papermill": {
     "duration": 0.129566,
     "end_time": "2025-10-02T21:52:06.313748",
     "exception": false,
     "start_time": "2025-10-02T21:52:06.184182",
     "status": "completed"
    },
    "tags": [
     "nbsphinx-thumbnail"
    ]
   },
   "outputs": [
    {
     "data": {
      "text/plain": [
       "Text(0, 0.5, 'probability')"
      ]
     },
     "execution_count": 6,
     "metadata": {},
     "output_type": "execute_result"
    },
    {
     "data": {
      "image/png": "[encoded data removed]",
      "text/plain": [
       "<Figure size 1040x910 with 1 Axes>"
      ]
     },
     "metadata": {},
     "output_type": "display_data"
    }
   ],
   "source": [
    "fig, ax = plt.subplots()\n",
    "\n",
    "\n",
    "ax.plot(energy_grid, func(energy_grid), color=blue, lw=3)\n",
    "\n",
    "ax.set_xlabel(\"x\")\n",
    "ax.set_ylabel(\"probability\")\n"
   ]
  },
  {
   "cell_type": "markdown",
   "id": "b7465dab",
   "metadata": {
    "papermill": {
     "duration": 0.001449,
     "end_time": "2025-10-02T21:52:06.316939",
     "exception": false,
     "start_time": "2025-10-02T21:52:06.315490",
     "status": "completed"
    },
    "tags": []
   },
   "source": [
    "## Random Number Generation\n",
    "\n",
    "This is how we can generate random numbers from the prior.\n"
   ]
  },
  {
   "cell_type": "code",
   "execution_count": 7,
   "id": "b7748ed1",
   "metadata": {
    "execution": {
     "iopub.execute_input": "2025-10-02T21:52:06.323636Z",
     "iopub.status.busy": "2025-10-02T21:52:06.323211Z",
     "iopub.status.idle": "2025-10-02T21:52:06.481490Z",
     "shell.execute_reply": "2025-10-02T21:52:06.480913Z"
    },
    "papermill": {
     "duration": 0.164555,
     "end_time": "2025-10-02T21:52:06.482877",
     "exception": false,
     "start_time": "2025-10-02T21:52:06.318322",
     "status": "completed"
    },
    "tags": []
   },
   "outputs": [
    {
     "data": {
      "text/plain": [
       "Text(0, 0.5, 'N')"
      ]
     },
     "execution_count": 7,
     "metadata": {},
     "output_type": "execute_result"
    },
    {
     "data": {
      "image/png": "[encoded data removed]",
      "text/plain": [
       "<Figure size 1040x910 with 1 Axes>"
      ]
     },
     "metadata": {},
     "output_type": "display_data"
    }
   ],
   "source": [
    "\n",
    "\n",
    "u = np.random.uniform(0,1, size=5000)\n",
    "\n",
    "draws = [func.from_unit_cube(x) for x in u]\n",
    "\n",
    "\n",
    "fig, ax = plt.subplots()\n",
    "\n",
    "\n",
    "ax.hist(draws, color=green, bins=50)\n",
    "\n",
    "ax.set_xlabel(\"value\")\n",
    "ax.set_ylabel(\"N\")\n",
    "\n"
   ]
  }
 ],
 "metadata": {
  "jupytext": {
   "formats": "ipynb,md"
  },
  "kernelspec": {
   "display_name": "Python 3 (ipykernel)",
   "language": "python",
   "name": "python3"
  },
  "language_info": {
   "codemirror_mode": {
    "name": "ipython",
    "version": 3
   },
   "file_extension": ".py",
   "mimetype": "text/x-python",
   "name": "python",
   "nbconvert_exporter": "python",
   "pygments_lexer": "ipython3",
   "version": "3.9.13"
  },
  "papermill": {
   "default_parameters": {},
   "duration": 4.018262,
   "end_time": "2025-10-02T21:52:07.011012",
   "environment_variables": {},
   "exception": null,
   "input_path": "Log_normal.ipynb",
   "output_path": "/Users/runner/work/astromodels/astromodels/docs/notebooks/Log_normal.ipynb",
   "parameters": {
    "func_name": "Log_normal",
    "positive_prior": true
   },
   "start_time": "2025-10-02T21:52:02.992750",
   "version": "2.6.0"
  }
 },
 "nbformat": 4,
 "nbformat_minor": 5
}
