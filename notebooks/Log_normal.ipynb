{
 "cells": [
  {
   "cell_type": "markdown",
   "id": "bc9c8015",
   "metadata": {
    "papermill": {
     "duration": 0.007489,
     "end_time": "2025-09-27T00:39:48.424637",
     "exception": false,
     "start_time": "2025-09-27T00:39:48.417148",
     "status": "completed"
    },
    "tags": []
   },
   "source": [
    "# Log normal"
   ]
  },
  {
   "cell_type": "code",
   "execution_count": 1,
   "id": "a8b6d441",
   "metadata": {
    "execution": {
     "iopub.execute_input": "2025-09-27T00:39:48.434820Z",
     "iopub.status.busy": "2025-09-27T00:39:48.434410Z",
     "iopub.status.idle": "2025-09-27T00:39:50.155783Z",
     "shell.execute_reply": "2025-09-27T00:39:50.155225Z"
    },
    "nbsphinx": "hidden",
    "papermill": {
     "duration": 1.727599,
     "end_time": "2025-09-27T00:39:50.157135",
     "exception": false,
     "start_time": "2025-09-27T00:39:48.429536",
     "status": "completed"
    },
    "tags": []
   },
   "outputs": [],
   "source": [
    "%%capture\n",
    "\n",
    "import numpy as np\n",
    "\n",
    "import matplotlib.pyplot as plt\n",
    "\n",
    "import warnings\n",
    "warnings.simplefilter(\"ignore\")\n",
    "\n",
    "from astromodels.functions.function import _known_functions\n",
    "\n",
    "\n",
    "from jupyterthemes import jtplot\n",
    "jtplot.style(context=\"talk\", fscale=1, ticks=True, grid=False)\n",
    "%matplotlib inline"
   ]
  },
  {
   "cell_type": "code",
   "execution_count": 2,
   "id": "48741aa9",
   "metadata": {
    "execution": {
     "iopub.execute_input": "2025-09-27T00:39:50.160210Z",
     "iopub.status.busy": "2025-09-27T00:39:50.159897Z",
     "iopub.status.idle": "2025-09-27T00:39:50.168097Z",
     "shell.execute_reply": "2025-09-27T00:39:50.167733Z"
    },
    "nbsphinx": "hidden",
    "papermill": {
     "duration": 0.010886,
     "end_time": "2025-09-27T00:39:50.169267",
     "exception": false,
     "start_time": "2025-09-27T00:39:50.158381",
     "status": "completed"
    },
    "tags": [
     "parameters"
    ]
   },
   "outputs": [],
   "source": [
    "func_name = \"TbAbs\"\n",
    "\n",
    "positive_prior = False\n"
   ]
  },
  {
   "cell_type": "code",
   "execution_count": 3,
   "id": "1709b032",
   "metadata": {
    "execution": {
     "iopub.execute_input": "2025-09-27T00:39:50.171753Z",
     "iopub.status.busy": "2025-09-27T00:39:50.171634Z",
     "iopub.status.idle": "2025-09-27T00:39:50.179401Z",
     "shell.execute_reply": "2025-09-27T00:39:50.179017Z"
    },
    "papermill": {
     "duration": 0.010129,
     "end_time": "2025-09-27T00:39:50.180419",
     "exception": false,
     "start_time": "2025-09-27T00:39:50.170290",
     "status": "completed"
    },
    "tags": [
     "injected-parameters"
    ]
   },
   "outputs": [],
   "source": [
    "# Parameters\n",
    "func_name = \"Log_normal\"\n",
    "positive_prior = True\n"
   ]
  },
  {
   "cell_type": "code",
   "execution_count": 4,
   "id": "87f4f86d",
   "metadata": {
    "execution": {
     "iopub.execute_input": "2025-09-27T00:39:50.183085Z",
     "iopub.status.busy": "2025-09-27T00:39:50.182968Z",
     "iopub.status.idle": "2025-09-27T00:39:50.185609Z",
     "shell.execute_reply": "2025-09-27T00:39:50.185249Z"
    },
    "lines_to_next_cell": 0,
    "nbsphinx": "hidden",
    "papermill": {
     "duration": 0.005091,
     "end_time": "2025-09-27T00:39:50.186619",
     "exception": false,
     "start_time": "2025-09-27T00:39:50.181528",
     "status": "completed"
    },
    "tags": []
   },
   "outputs": [],
   "source": [
    "func = _known_functions[func_name]()\n",
    "\n",
    "if not positive_prior:\n",
    "\n",
    "\tenergy_grid = np.linspace(-5,5,1000)\n",
    "\n",
    "else:\n",
    "    \n",
    "    energy_grid = np.linspace(0,1,1000)\n",
    "    \n",
    "    \n",
    "    \n",
    "    \n",
    "blue = \"#4152E3\"\n",
    "red = \"#E3414B\"\n",
    "green = \"#41E39E\""
   ]
  },
  {
   "cell_type": "markdown",
   "id": "81c54904",
   "metadata": {
    "lines_to_next_cell": 0,
    "papermill": {
     "duration": 0.000983,
     "end_time": "2025-09-27T00:39:50.188612",
     "exception": false,
     "start_time": "2025-09-27T00:39:50.187629",
     "status": "completed"
    },
    "tags": []
   },
   "source": [
    "## Description"
   ]
  },
  {
   "cell_type": "code",
   "execution_count": 5,
   "id": "68f496aa",
   "metadata": {
    "execution": {
     "iopub.execute_input": "2025-09-27T00:39:50.191055Z",
     "iopub.status.busy": "2025-09-27T00:39:50.190930Z",
     "iopub.status.idle": "2025-09-27T00:39:50.201140Z",
     "shell.execute_reply": "2025-09-27T00:39:50.200737Z"
    },
    "papermill": {
     "duration": 0.012538,
     "end_time": "2025-09-27T00:39:50.202110",
     "exception": false,
     "start_time": "2025-09-27T00:39:50.189572",
     "status": "completed"
    },
    "tags": []
   },
   "outputs": [
    {
     "data": {
      "text/html": [
       "<ul>\n",
       "\n",
       "<li>description: A log normal function</li>\n",
       "\n",
       "<li>formula: $K\\frac{1}{x\\sigma\\sqrt{2\\pi}}\\exp{\\frac{(\\log x/piv-\\mu/piv)^2} {2~(\\sigma)^2}} $</li>\n",
       "\n",
       "<li>parameters: \n",
       "<ul>\n",
       "\n",
       "<li>F: \n",
       "<ul>\n",
       "\n",
       "<li>value: 1.0</li>\n",
       "\n",
       "<li>desc: Integral between 0and +inf. Fix this to 1 to obtain a log Normal distribution</li>\n",
       "\n",
       "<li>min_value: None</li>\n",
       "\n",
       "<li>max_value: None</li>\n",
       "\n",
       "<li>unit: </li>\n",
       "\n",
       "<li>is_normalization: False</li>\n",
       "\n",
       "<li>delta: 0.1</li>\n",
       "\n",
       "<li>free: True</li>\n",
       "\n",
       "</ul>\n",
       "\n",
       "</li>\n",
       "\n",
       "<li>mu: \n",
       "<ul>\n",
       "\n",
       "<li>value: 0.0</li>\n",
       "\n",
       "<li>desc: Central value</li>\n",
       "\n",
       "<li>min_value: None</li>\n",
       "\n",
       "<li>max_value: None</li>\n",
       "\n",
       "<li>unit: </li>\n",
       "\n",
       "<li>is_normalization: False</li>\n",
       "\n",
       "<li>delta: 0.1</li>\n",
       "\n",
       "<li>free: True</li>\n",
       "\n",
       "</ul>\n",
       "\n",
       "</li>\n",
       "\n",
       "<li>sigma: \n",
       "<ul>\n",
       "\n",
       "<li>value: 1.0</li>\n",
       "\n",
       "<li>desc: standard deviation</li>\n",
       "\n",
       "<li>min_value: 1e-12</li>\n",
       "\n",
       "<li>max_value: None</li>\n",
       "\n",
       "<li>unit: </li>\n",
       "\n",
       "<li>is_normalization: False</li>\n",
       "\n",
       "<li>delta: 0.1</li>\n",
       "\n",
       "<li>free: True</li>\n",
       "\n",
       "</ul>\n",
       "\n",
       "</li>\n",
       "\n",
       "<li>piv: \n",
       "<ul>\n",
       "\n",
       "<li>value: 1.0</li>\n",
       "\n",
       "<li>desc: pivot. Leave this to 1 for a proper log normal distribution</li>\n",
       "\n",
       "<li>min_value: None</li>\n",
       "\n",
       "<li>max_value: None</li>\n",
       "\n",
       "<li>unit: </li>\n",
       "\n",
       "<li>is_normalization: False</li>\n",
       "\n",
       "<li>delta: 0.1</li>\n",
       "\n",
       "<li>free: False</li>\n",
       "\n",
       "</ul>\n",
       "\n",
       "</li>\n",
       "\n",
       "</ul>\n",
       "\n",
       "</li>\n",
       "\n",
       "</ul>\n"
      ],
      "text/plain": [
       "  * description: A log normal function\n",
       "  * formula: $K\\frac{1}{x\\sigma\\sqrt{2\\pi}}\\exp{\\frac{(\\log x/piv-\\mu/piv)^2} {2~(\\sigma)^2}}\n",
       "    * $\n",
       "  * parameters:\n",
       "    * F:\n",
       "      * value: 1.0\n",
       "      * desc: Integral between 0and +inf. Fix this to 1 to obtain a log Normal distribution\n",
       "      * min_value: null\n",
       "      * max_value: null\n",
       "      * unit: ''\n",
       "      * is_normalization: false\n",
       "      * delta: 0.1\n",
       "      * free: true\n",
       "    * mu:\n",
       "      * value: 0.0\n",
       "      * desc: Central value\n",
       "      * min_value: null\n",
       "      * max_value: null\n",
       "      * unit: ''\n",
       "      * is_normalization: false\n",
       "      * delta: 0.1\n",
       "      * free: true\n",
       "    * sigma:\n",
       "      * value: 1.0\n",
       "      * desc: standard deviation\n",
       "      * min_value: 1.0e-12\n",
       "      * max_value: null\n",
       "      * unit: ''\n",
       "      * is_normalization: false\n",
       "      * delta: 0.1\n",
       "      * free: true\n",
       "    * piv:\n",
       "      * value: 1.0\n",
       "      * desc: pivot. Leave this to 1 for a proper log normal distribution\n",
       "      * min_value: null\n",
       "      * max_value: null\n",
       "      * unit: ''\n",
       "      * is_normalization: false\n",
       "      * delta: 0.1\n",
       "      * free: false"
      ]
     },
     "metadata": {},
     "output_type": "display_data"
    }
   ],
   "source": [
    "func.display()"
   ]
  },
  {
   "cell_type": "markdown",
   "id": "be7abe99",
   "metadata": {
    "papermill": {
     "duration": 0.001108,
     "end_time": "2025-09-27T00:39:50.204421",
     "exception": false,
     "start_time": "2025-09-27T00:39:50.203313",
     "status": "completed"
    },
    "tags": []
   },
   "source": [
    "## Shape \n",
    "\n",
    "The shape of the function. \n",
    "\n",
    "*If this is not a photon model but a prior or linear function then ignore the units as these docs are auto-generated*"
   ]
  },
  {
   "cell_type": "code",
   "execution_count": 6,
   "id": "befca4a9",
   "metadata": {
    "execution": {
     "iopub.execute_input": "2025-09-27T00:39:50.207132Z",
     "iopub.status.busy": "2025-09-27T00:39:50.207011Z",
     "iopub.status.idle": "2025-09-27T00:39:50.290560Z",
     "shell.execute_reply": "2025-09-27T00:39:50.290165Z"
    },
    "papermill": {
     "duration": 0.08621,
     "end_time": "2025-09-27T00:39:50.291723",
     "exception": false,
     "start_time": "2025-09-27T00:39:50.205513",
     "status": "completed"
    },
    "tags": [
     "nbsphinx-thumbnail"
    ]
   },
   "outputs": [
    {
     "data": {
      "text/plain": [
       "Text(0, 0.5, 'probability')"
      ]
     },
     "execution_count": 6,
     "metadata": {},
     "output_type": "execute_result"
    },
    {
     "data": {
      "image/png": "[encoded data removed]",
      "text/plain": [
       "<Figure size 1040x910 with 1 Axes>"
      ]
     },
     "metadata": {},
     "output_type": "display_data"
    }
   ],
   "source": [
    "fig, ax = plt.subplots()\n",
    "\n",
    "\n",
    "ax.plot(energy_grid, func(energy_grid), color=blue, lw=3)\n",
    "\n",
    "ax.set_xlabel(\"x\")\n",
    "ax.set_ylabel(\"probability\")\n"
   ]
  },
  {
   "cell_type": "markdown",
   "id": "8c6ec05e",
   "metadata": {
    "papermill": {
     "duration": 0.001372,
     "end_time": "2025-09-27T00:39:50.294772",
     "exception": false,
     "start_time": "2025-09-27T00:39:50.293400",
     "status": "completed"
    },
    "tags": []
   },
   "source": [
    "## Random Number Generation\n",
    "\n",
    "This is how we can generate random numbers from the prior.\n"
   ]
  },
  {
   "cell_type": "code",
   "execution_count": 7,
   "id": "666dc300",
   "metadata": {
    "execution": {
     "iopub.execute_input": "2025-09-27T00:39:50.298031Z",
     "iopub.status.busy": "2025-09-27T00:39:50.297890Z",
     "iopub.status.idle": "2025-09-27T00:39:50.400205Z",
     "shell.execute_reply": "2025-09-27T00:39:50.399812Z"
    },
    "papermill": {
     "duration": 0.105311,
     "end_time": "2025-09-27T00:39:50.401411",
     "exception": false,
     "start_time": "2025-09-27T00:39:50.296100",
     "status": "completed"
    },
    "tags": []
   },
   "outputs": [
    {
     "data": {
      "text/plain": [
       "Text(0, 0.5, 'N')"
      ]
     },
     "execution_count": 7,
     "metadata": {},
     "output_type": "execute_result"
    },
    {
     "data": {
      "image/png": "[encoded data removed]",
      "text/plain": [
       "<Figure size 1040x910 with 1 Axes>"
      ]
     },
     "metadata": {},
     "output_type": "display_data"
    }
   ],
   "source": [
    "\n",
    "\n",
    "u = np.random.uniform(0,1, size=5000)\n",
    "\n",
    "draws = [func.from_unit_cube(x) for x in u]\n",
    "\n",
    "\n",
    "fig, ax = plt.subplots()\n",
    "\n",
    "\n",
    "ax.hist(draws, color=green, bins=50)\n",
    "\n",
    "ax.set_xlabel(\"value\")\n",
    "ax.set_ylabel(\"N\")\n",
    "\n"
   ]
  }
 ],
 "metadata": {
  "jupytext": {
   "formats": "ipynb,md"
  },
  "kernelspec": {
   "display_name": "Python 3 (ipykernel)",
   "language": "python",
   "name": "python3"
  },
  "language_info": {
   "codemirror_mode": {
    "name": "ipython",
    "version": 3
   },
   "file_extension": ".py",
   "mimetype": "text/x-python",
   "name": "python",
   "nbconvert_exporter": "python",
   "pygments_lexer": "ipython3",
   "version": "3.9.13"
  },
  "papermill": {
   "default_parameters": {},
   "duration": 3.039676,
   "end_time": "2025-09-27T00:39:50.731209",
   "environment_variables": {},
   "exception": null,
   "input_path": "Log_normal.ipynb",
   "output_path": "/Users/runner/work/astromodels/astromodels/docs/notebooks/Log_normal.ipynb",
   "parameters": {
    "func_name": "Log_normal",
    "positive_prior": true
   },
   "start_time": "2025-09-27T00:39:47.691533",
   "version": "2.6.0"
  }
 },
 "nbformat": 4,
 "nbformat_minor": 5
}
