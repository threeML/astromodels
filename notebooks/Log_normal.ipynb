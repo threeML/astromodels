{
 "cells": [
  {
   "cell_type": "markdown",
   "id": "b956721b",
   "metadata": {
    "papermill": {
     "duration": 0.004207,
     "end_time": "2025-10-03T17:30:51.099630",
     "exception": false,
     "start_time": "2025-10-03T17:30:51.095423",
     "status": "completed"
    },
    "tags": []
   },
   "source": [
    "# Log normal"
   ]
  },
  {
   "cell_type": "code",
   "execution_count": 1,
   "id": "6fdb123c",
   "metadata": {
    "execution": {
     "iopub.execute_input": "2025-10-03T17:30:51.105178Z",
     "iopub.status.busy": "2025-10-03T17:30:51.104715Z",
     "iopub.status.idle": "2025-10-03T17:30:53.591398Z",
     "shell.execute_reply": "2025-10-03T17:30:53.589745Z"
    },
    "nbsphinx": "hidden",
    "papermill": {
     "duration": 2.494065,
     "end_time": "2025-10-03T17:30:53.595347",
     "exception": false,
     "start_time": "2025-10-03T17:30:51.101282",
     "status": "completed"
    },
    "tags": []
   },
   "outputs": [],
   "source": [
    "%%capture\n",
    "\n",
    "import numpy as np\n",
    "\n",
    "import matplotlib.pyplot as plt\n",
    "\n",
    "import warnings\n",
    "warnings.simplefilter(\"ignore\")\n",
    "\n",
    "from astromodels.functions.function import _known_functions\n",
    "\n",
    "\n",
    "from jupyterthemes import jtplot\n",
    "jtplot.style(context=\"talk\", fscale=1, ticks=True, grid=False)\n",
    "%matplotlib inline"
   ]
  },
  {
   "cell_type": "code",
   "execution_count": 2,
   "id": "4b6077d9",
   "metadata": {
    "execution": {
     "iopub.execute_input": "2025-10-03T17:30:53.604194Z",
     "iopub.status.busy": "2025-10-03T17:30:53.603353Z",
     "iopub.status.idle": "2025-10-03T17:30:53.608741Z",
     "shell.execute_reply": "2025-10-03T17:30:53.607533Z"
    },
    "nbsphinx": "hidden",
    "papermill": {
     "duration": 0.011482,
     "end_time": "2025-10-03T17:30:53.611424",
     "exception": false,
     "start_time": "2025-10-03T17:30:53.599942",
     "status": "completed"
    },
    "tags": [
     "parameters"
    ]
   },
   "outputs": [],
   "source": [
    "func_name = \"TbAbs\"\n",
    "\n",
    "positive_prior = False\n"
   ]
  },
  {
   "cell_type": "code",
   "execution_count": 3,
   "id": "9d646243",
   "metadata": {
    "execution": {
     "iopub.execute_input": "2025-10-03T17:30:53.617560Z",
     "iopub.status.busy": "2025-10-03T17:30:53.617113Z",
     "iopub.status.idle": "2025-10-03T17:30:53.621436Z",
     "shell.execute_reply": "2025-10-03T17:30:53.620353Z"
    },
    "papermill": {
     "duration": 0.010968,
     "end_time": "2025-10-03T17:30:53.625573",
     "exception": false,
     "start_time": "2025-10-03T17:30:53.614605",
     "status": "completed"
    },
    "tags": [
     "injected-parameters"
    ]
   },
   "outputs": [],
   "source": [
    "# Parameters\n",
    "func_name = \"Log_normal\"\n",
    "positive_prior = True\n"
   ]
  },
  {
   "cell_type": "code",
   "execution_count": 4,
   "id": "07ef4089",
   "metadata": {
    "execution": {
     "iopub.execute_input": "2025-10-03T17:30:53.634332Z",
     "iopub.status.busy": "2025-10-03T17:30:53.633935Z",
     "iopub.status.idle": "2025-10-03T17:30:53.645047Z",
     "shell.execute_reply": "2025-10-03T17:30:53.644005Z"
    },
    "lines_to_next_cell": 0,
    "nbsphinx": "hidden",
    "papermill": {
     "duration": 0.022565,
     "end_time": "2025-10-03T17:30:53.651959",
     "exception": false,
     "start_time": "2025-10-03T17:30:53.629394",
     "status": "completed"
    },
    "tags": []
   },
   "outputs": [],
   "source": [
    "func = _known_functions[func_name]()\n",
    "\n",
    "if not positive_prior:\n",
    "\n",
    "\tenergy_grid = np.linspace(-5,5,1000)\n",
    "\n",
    "else:\n",
    "    \n",
    "    energy_grid = np.linspace(0,1,1000)\n",
    "    \n",
    "    \n",
    "    \n",
    "    \n",
    "blue = \"#4152E3\"\n",
    "red = \"#E3414B\"\n",
    "green = \"#41E39E\""
   ]
  },
  {
   "cell_type": "markdown",
   "id": "fb83d508",
   "metadata": {
    "lines_to_next_cell": 0,
    "papermill": {
     "duration": 0.003888,
     "end_time": "2025-10-03T17:30:53.661696",
     "exception": false,
     "start_time": "2025-10-03T17:30:53.657808",
     "status": "completed"
    },
    "tags": []
   },
   "source": [
    "## Description"
   ]
  },
  {
   "cell_type": "code",
   "execution_count": 5,
   "id": "7056bbc0",
   "metadata": {
    "execution": {
     "iopub.execute_input": "2025-10-03T17:30:53.672429Z",
     "iopub.status.busy": "2025-10-03T17:30:53.672176Z",
     "iopub.status.idle": "2025-10-03T17:30:53.683254Z",
     "shell.execute_reply": "2025-10-03T17:30:53.681745Z"
    },
    "papermill": {
     "duration": 0.025621,
     "end_time": "2025-10-03T17:30:53.688821",
     "exception": false,
     "start_time": "2025-10-03T17:30:53.663200",
     "status": "completed"
    },
    "tags": []
   },
   "outputs": [
    {
     "data": {
      "text/html": [
       "<ul>\n",
       "\n",
       "<li>description: A log normal function</li>\n",
       "\n",
       "<li>formula: $K\\frac{1}{x\\sigma\\sqrt{2\\pi}}\\exp{\\frac{(\\log x/piv-\\mu/piv)^2} {2~(\\sigma)^2}} $</li>\n",
       "\n",
       "<li>parameters: \n",
       "<ul>\n",
       "\n",
       "<li>F: \n",
       "<ul>\n",
       "\n",
       "<li>value: 1.0</li>\n",
       "\n",
       "<li>desc: Integral between 0and +inf. Fix this to 1 to obtain a log Normal distribution</li>\n",
       "\n",
       "<li>min_value: None</li>\n",
       "\n",
       "<li>max_value: None</li>\n",
       "\n",
       "<li>unit: </li>\n",
       "\n",
       "<li>is_normalization: False</li>\n",
       "\n",
       "<li>delta: 0.1</li>\n",
       "\n",
       "<li>free: True</li>\n",
       "\n",
       "</ul>\n",
       "\n",
       "</li>\n",
       "\n",
       "<li>mu: \n",
       "<ul>\n",
       "\n",
       "<li>value: 0.0</li>\n",
       "\n",
       "<li>desc: Central value</li>\n",
       "\n",
       "<li>min_value: None</li>\n",
       "\n",
       "<li>max_value: None</li>\n",
       "\n",
       "<li>unit: </li>\n",
       "\n",
       "<li>is_normalization: False</li>\n",
       "\n",
       "<li>delta: 0.1</li>\n",
       "\n",
       "<li>free: True</li>\n",
       "\n",
       "</ul>\n",
       "\n",
       "</li>\n",
       "\n",
       "<li>sigma: \n",
       "<ul>\n",
       "\n",
       "<li>value: 1.0</li>\n",
       "\n",
       "<li>desc: standard deviation</li>\n",
       "\n",
       "<li>min_value: 1e-12</li>\n",
       "\n",
       "<li>max_value: None</li>\n",
       "\n",
       "<li>unit: </li>\n",
       "\n",
       "<li>is_normalization: False</li>\n",
       "\n",
       "<li>delta: 0.1</li>\n",
       "\n",
       "<li>free: True</li>\n",
       "\n",
       "</ul>\n",
       "\n",
       "</li>\n",
       "\n",
       "<li>piv: \n",
       "<ul>\n",
       "\n",
       "<li>value: 1.0</li>\n",
       "\n",
       "<li>desc: pivot. Leave this to 1 for a proper log normal distribution</li>\n",
       "\n",
       "<li>min_value: None</li>\n",
       "\n",
       "<li>max_value: None</li>\n",
       "\n",
       "<li>unit: </li>\n",
       "\n",
       "<li>is_normalization: False</li>\n",
       "\n",
       "<li>delta: 0.1</li>\n",
       "\n",
       "<li>free: False</li>\n",
       "\n",
       "</ul>\n",
       "\n",
       "</li>\n",
       "\n",
       "</ul>\n",
       "\n",
       "</li>\n",
       "\n",
       "</ul>\n"
      ],
      "text/plain": [
       "  * description: A log normal function\n",
       "  * formula: $K\\frac{1}{x\\sigma\\sqrt{2\\pi}}\\exp{\\frac{(\\log x/piv-\\mu/piv)^2} {2~(\\sigma)^2}}\n",
       "    * $\n",
       "  * parameters:\n",
       "    * F:\n",
       "      * value: 1.0\n",
       "      * desc: Integral between 0and +inf. Fix this to 1 to obtain a log Normal distribution\n",
       "      * min_value: null\n",
       "      * max_value: null\n",
       "      * unit: ''\n",
       "      * is_normalization: false\n",
       "      * delta: 0.1\n",
       "      * free: true\n",
       "    * mu:\n",
       "      * value: 0.0\n",
       "      * desc: Central value\n",
       "      * min_value: null\n",
       "      * max_value: null\n",
       "      * unit: ''\n",
       "      * is_normalization: false\n",
       "      * delta: 0.1\n",
       "      * free: true\n",
       "    * sigma:\n",
       "      * value: 1.0\n",
       "      * desc: standard deviation\n",
       "      * min_value: 1.0e-12\n",
       "      * max_value: null\n",
       "      * unit: ''\n",
       "      * is_normalization: false\n",
       "      * delta: 0.1\n",
       "      * free: true\n",
       "    * piv:\n",
       "      * value: 1.0\n",
       "      * desc: pivot. Leave this to 1 for a proper log normal distribution\n",
       "      * min_value: null\n",
       "      * max_value: null\n",
       "      * unit: ''\n",
       "      * is_normalization: false\n",
       "      * delta: 0.1\n",
       "      * free: false"
      ]
     },
     "metadata": {},
     "output_type": "display_data"
    }
   ],
   "source": [
    "func.display()"
   ]
  },
  {
   "cell_type": "markdown",
   "id": "4c82176e",
   "metadata": {
    "papermill": {
     "duration": 0.001994,
     "end_time": "2025-10-03T17:30:53.692487",
     "exception": false,
     "start_time": "2025-10-03T17:30:53.690493",
     "status": "completed"
    },
    "tags": []
   },
   "source": [
    "## Shape \n",
    "\n",
    "The shape of the function. \n",
    "\n",
    "*If this is not a photon model but a prior or linear function then ignore the units as these docs are auto-generated*"
   ]
  },
  {
   "cell_type": "code",
   "execution_count": 6,
   "id": "b30cc62f",
   "metadata": {
    "execution": {
     "iopub.execute_input": "2025-10-03T17:30:53.704001Z",
     "iopub.status.busy": "2025-10-03T17:30:53.703472Z",
     "iopub.status.idle": "2025-10-03T17:30:53.845660Z",
     "shell.execute_reply": "2025-10-03T17:30:53.841119Z"
    },
    "papermill": {
     "duration": 0.163291,
     "end_time": "2025-10-03T17:30:53.861796",
     "exception": false,
     "start_time": "2025-10-03T17:30:53.698505",
     "status": "completed"
    },
    "tags": [
     "nbsphinx-thumbnail"
    ]
   },
   "outputs": [
    {
     "data": {
      "text/plain": [
       "Text(0, 0.5, 'probability')"
      ]
     },
     "execution_count": 6,
     "metadata": {},
     "output_type": "execute_result"
    },
    {
     "data": {
      "image/png": "[encoded data removed]",
      "text/plain": [
       "<Figure size 1040x910 with 1 Axes>"
      ]
     },
     "metadata": {},
     "output_type": "display_data"
    }
   ],
   "source": [
    "fig, ax = plt.subplots()\n",
    "\n",
    "\n",
    "ax.plot(energy_grid, func(energy_grid), color=blue, lw=3)\n",
    "\n",
    "ax.set_xlabel(\"x\")\n",
    "ax.set_ylabel(\"probability\")\n"
   ]
  },
  {
   "cell_type": "markdown",
   "id": "1b839c12",
   "metadata": {
    "papermill": {
     "duration": 0.002021,
     "end_time": "2025-10-03T17:30:53.865900",
     "exception": false,
     "start_time": "2025-10-03T17:30:53.863879",
     "status": "completed"
    },
    "tags": []
   },
   "source": [
    "## Random Number Generation\n",
    "\n",
    "This is how we can generate random numbers from the prior.\n"
   ]
  },
  {
   "cell_type": "code",
   "execution_count": 7,
   "id": "726a932d",
   "metadata": {
    "execution": {
     "iopub.execute_input": "2025-10-03T17:30:53.870337Z",
     "iopub.status.busy": "2025-10-03T17:30:53.869970Z",
     "iopub.status.idle": "2025-10-03T17:30:54.066181Z",
     "shell.execute_reply": "2025-10-03T17:30:54.043805Z"
    },
    "papermill": {
     "duration": 0.218806,
     "end_time": "2025-10-03T17:30:54.086384",
     "exception": false,
     "start_time": "2025-10-03T17:30:53.867578",
     "status": "completed"
    },
    "tags": []
   },
   "outputs": [
    {
     "data": {
      "text/plain": [
       "Text(0, 0.5, 'N')"
      ]
     },
     "execution_count": 7,
     "metadata": {},
     "output_type": "execute_result"
    },
    {
     "data": {
      "image/png": "[encoded data removed]",
      "text/plain": [
       "<Figure size 1040x910 with 1 Axes>"
      ]
     },
     "metadata": {},
     "output_type": "display_data"
    }
   ],
   "source": [
    "\n",
    "\n",
    "u = np.random.uniform(0,1, size=5000)\n",
    "\n",
    "draws = [func.from_unit_cube(x) for x in u]\n",
    "\n",
    "\n",
    "fig, ax = plt.subplots()\n",
    "\n",
    "\n",
    "ax.hist(draws, color=green, bins=50)\n",
    "\n",
    "ax.set_xlabel(\"value\")\n",
    "ax.set_ylabel(\"N\")\n",
    "\n"
   ]
  }
 ],
 "metadata": {
  "jupytext": {
   "formats": "ipynb,md"
  },
  "kernelspec": {
   "display_name": "Python 3 (ipykernel)",
   "language": "python",
   "name": "python3"
  },
  "language_info": {
   "codemirror_mode": {
    "name": "ipython",
    "version": 3
   },
   "file_extension": ".py",
   "mimetype": "text/x-python",
   "name": "python",
   "nbconvert_exporter": "python",
   "pygments_lexer": "ipython3",
   "version": "3.9.13"
  },
  "papermill": {
   "default_parameters": {},
   "duration": 4.167241,
   "end_time": "2025-10-03T17:30:54.638852",
   "environment_variables": {},
   "exception": null,
   "input_path": "Log_normal.ipynb",
   "output_path": "/Users/runner/work/astromodels/astromodels/docs/notebooks/Log_normal.ipynb",
   "parameters": {
    "func_name": "Log_normal",
    "positive_prior": true
   },
   "start_time": "2025-10-03T17:30:50.471611",
   "version": "2.6.0"
  }
 },
 "nbformat": 4,
 "nbformat_minor": 5
}
