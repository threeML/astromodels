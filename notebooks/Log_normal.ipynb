{
 "cells": [
  {
   "cell_type": "markdown",
   "id": "cf2b52c2",
   "metadata": {
    "papermill": {
     "duration": 0.002201,
     "end_time": "2025-10-03T17:16:50.166543",
     "exception": false,
     "start_time": "2025-10-03T17:16:50.164342",
     "status": "completed"
    },
    "tags": []
   },
   "source": [
    "# Log normal"
   ]
  },
  {
   "cell_type": "code",
   "execution_count": 1,
   "id": "eacc8e75",
   "metadata": {
    "execution": {
     "iopub.execute_input": "2025-10-03T17:16:50.175688Z",
     "iopub.status.busy": "2025-10-03T17:16:50.175479Z",
     "iopub.status.idle": "2025-10-03T17:16:53.536169Z",
     "shell.execute_reply": "2025-10-03T17:16:53.534624Z"
    },
    "nbsphinx": "hidden",
    "papermill": {
     "duration": 3.369716,
     "end_time": "2025-10-03T17:16:53.539881",
     "exception": false,
     "start_time": "2025-10-03T17:16:50.170165",
     "status": "completed"
    },
    "tags": []
   },
   "outputs": [],
   "source": [
    "%%capture\n",
    "\n",
    "import numpy as np\n",
    "\n",
    "import matplotlib.pyplot as plt\n",
    "\n",
    "import warnings\n",
    "warnings.simplefilter(\"ignore\")\n",
    "\n",
    "from astromodels.functions.function import _known_functions\n",
    "\n",
    "\n",
    "from jupyterthemes import jtplot\n",
    "jtplot.style(context=\"talk\", fscale=1, ticks=True, grid=False)\n",
    "%matplotlib inline"
   ]
  },
  {
   "cell_type": "code",
   "execution_count": 2,
   "id": "4fc994d2",
   "metadata": {
    "execution": {
     "iopub.execute_input": "2025-10-03T17:16:53.546812Z",
     "iopub.status.busy": "2025-10-03T17:16:53.546248Z",
     "iopub.status.idle": "2025-10-03T17:16:53.551151Z",
     "shell.execute_reply": "2025-10-03T17:16:53.549810Z"
    },
    "nbsphinx": "hidden",
    "papermill": {
     "duration": 0.010049,
     "end_time": "2025-10-03T17:16:53.553726",
     "exception": false,
     "start_time": "2025-10-03T17:16:53.543677",
     "status": "completed"
    },
    "tags": [
     "parameters"
    ]
   },
   "outputs": [],
   "source": [
    "func_name = \"TbAbs\"\n",
    "\n",
    "positive_prior = False\n"
   ]
  },
  {
   "cell_type": "code",
   "execution_count": 3,
   "id": "f41b5892",
   "metadata": {
    "execution": {
     "iopub.execute_input": "2025-10-03T17:16:53.558749Z",
     "iopub.status.busy": "2025-10-03T17:16:53.558489Z",
     "iopub.status.idle": "2025-10-03T17:16:53.566018Z",
     "shell.execute_reply": "2025-10-03T17:16:53.564466Z"
    },
    "papermill": {
     "duration": 0.012585,
     "end_time": "2025-10-03T17:16:53.568192",
     "exception": false,
     "start_time": "2025-10-03T17:16:53.555607",
     "status": "completed"
    },
    "tags": [
     "injected-parameters"
    ]
   },
   "outputs": [],
   "source": [
    "# Parameters\n",
    "func_name = \"Log_normal\"\n",
    "positive_prior = True\n"
   ]
  },
  {
   "cell_type": "code",
   "execution_count": 4,
   "id": "e7dde98d",
   "metadata": {
    "execution": {
     "iopub.execute_input": "2025-10-03T17:16:53.572868Z",
     "iopub.status.busy": "2025-10-03T17:16:53.572285Z",
     "iopub.status.idle": "2025-10-03T17:16:53.583598Z",
     "shell.execute_reply": "2025-10-03T17:16:53.582788Z"
    },
    "lines_to_next_cell": 0,
    "nbsphinx": "hidden",
    "papermill": {
     "duration": 0.01757,
     "end_time": "2025-10-03T17:16:53.587382",
     "exception": false,
     "start_time": "2025-10-03T17:16:53.569812",
     "status": "completed"
    },
    "tags": []
   },
   "outputs": [],
   "source": [
    "func = _known_functions[func_name]()\n",
    "\n",
    "if not positive_prior:\n",
    "\n",
    "\tenergy_grid = np.linspace(-5,5,1000)\n",
    "\n",
    "else:\n",
    "    \n",
    "    energy_grid = np.linspace(0,1,1000)\n",
    "    \n",
    "    \n",
    "    \n",
    "    \n",
    "blue = \"#4152E3\"\n",
    "red = \"#E3414B\"\n",
    "green = \"#41E39E\""
   ]
  },
  {
   "cell_type": "markdown",
   "id": "be79a39a",
   "metadata": {
    "lines_to_next_cell": 0,
    "papermill": {
     "duration": 0.003215,
     "end_time": "2025-10-03T17:16:53.594714",
     "exception": false,
     "start_time": "2025-10-03T17:16:53.591499",
     "status": "completed"
    },
    "tags": []
   },
   "source": [
    "## Description"
   ]
  },
  {
   "cell_type": "code",
   "execution_count": 5,
   "id": "5af26b3d",
   "metadata": {
    "execution": {
     "iopub.execute_input": "2025-10-03T17:16:53.600276Z",
     "iopub.status.busy": "2025-10-03T17:16:53.599975Z",
     "iopub.status.idle": "2025-10-03T17:16:53.609213Z",
     "shell.execute_reply": "2025-10-03T17:16:53.607764Z"
    },
    "papermill": {
     "duration": 0.015294,
     "end_time": "2025-10-03T17:16:53.611267",
     "exception": false,
     "start_time": "2025-10-03T17:16:53.595973",
     "status": "completed"
    },
    "tags": []
   },
   "outputs": [
    {
     "data": {
      "text/html": [
       "<ul>\n",
       "\n",
       "<li>description: A log normal function</li>\n",
       "\n",
       "<li>formula: $K\\frac{1}{x\\sigma\\sqrt{2\\pi}}\\exp{\\frac{(\\log x/piv-\\mu/piv)^2} {2~(\\sigma)^2}} $</li>\n",
       "\n",
       "<li>parameters: \n",
       "<ul>\n",
       "\n",
       "<li>F: \n",
       "<ul>\n",
       "\n",
       "<li>value: 1.0</li>\n",
       "\n",
       "<li>desc: Integral between 0and +inf. Fix this to 1 to obtain a log Normal distribution</li>\n",
       "\n",
       "<li>min_value: None</li>\n",
       "\n",
       "<li>max_value: None</li>\n",
       "\n",
       "<li>unit: </li>\n",
       "\n",
       "<li>is_normalization: False</li>\n",
       "\n",
       "<li>delta: 0.1</li>\n",
       "\n",
       "<li>free: True</li>\n",
       "\n",
       "</ul>\n",
       "\n",
       "</li>\n",
       "\n",
       "<li>mu: \n",
       "<ul>\n",
       "\n",
       "<li>value: 0.0</li>\n",
       "\n",
       "<li>desc: Central value</li>\n",
       "\n",
       "<li>min_value: None</li>\n",
       "\n",
       "<li>max_value: None</li>\n",
       "\n",
       "<li>unit: </li>\n",
       "\n",
       "<li>is_normalization: False</li>\n",
       "\n",
       "<li>delta: 0.1</li>\n",
       "\n",
       "<li>free: True</li>\n",
       "\n",
       "</ul>\n",
       "\n",
       "</li>\n",
       "\n",
       "<li>sigma: \n",
       "<ul>\n",
       "\n",
       "<li>value: 1.0</li>\n",
       "\n",
       "<li>desc: standard deviation</li>\n",
       "\n",
       "<li>min_value: 1e-12</li>\n",
       "\n",
       "<li>max_value: None</li>\n",
       "\n",
       "<li>unit: </li>\n",
       "\n",
       "<li>is_normalization: False</li>\n",
       "\n",
       "<li>delta: 0.1</li>\n",
       "\n",
       "<li>free: True</li>\n",
       "\n",
       "</ul>\n",
       "\n",
       "</li>\n",
       "\n",
       "<li>piv: \n",
       "<ul>\n",
       "\n",
       "<li>value: 1.0</li>\n",
       "\n",
       "<li>desc: pivot. Leave this to 1 for a proper log normal distribution</li>\n",
       "\n",
       "<li>min_value: None</li>\n",
       "\n",
       "<li>max_value: None</li>\n",
       "\n",
       "<li>unit: </li>\n",
       "\n",
       "<li>is_normalization: False</li>\n",
       "\n",
       "<li>delta: 0.1</li>\n",
       "\n",
       "<li>free: False</li>\n",
       "\n",
       "</ul>\n",
       "\n",
       "</li>\n",
       "\n",
       "</ul>\n",
       "\n",
       "</li>\n",
       "\n",
       "</ul>\n"
      ],
      "text/plain": [
       "  * description: A log normal function\n",
       "  * formula: $K\\frac{1}{x\\sigma\\sqrt{2\\pi}}\\exp{\\frac{(\\log x/piv-\\mu/piv)^2} {2~(\\sigma)^2}}\n",
       "    * $\n",
       "  * parameters:\n",
       "    * F:\n",
       "      * value: 1.0\n",
       "      * desc: Integral between 0and +inf. Fix this to 1 to obtain a log Normal distribution\n",
       "      * min_value: null\n",
       "      * max_value: null\n",
       "      * unit: ''\n",
       "      * is_normalization: false\n",
       "      * delta: 0.1\n",
       "      * free: true\n",
       "    * mu:\n",
       "      * value: 0.0\n",
       "      * desc: Central value\n",
       "      * min_value: null\n",
       "      * max_value: null\n",
       "      * unit: ''\n",
       "      * is_normalization: false\n",
       "      * delta: 0.1\n",
       "      * free: true\n",
       "    * sigma:\n",
       "      * value: 1.0\n",
       "      * desc: standard deviation\n",
       "      * min_value: 1.0e-12\n",
       "      * max_value: null\n",
       "      * unit: ''\n",
       "      * is_normalization: false\n",
       "      * delta: 0.1\n",
       "      * free: true\n",
       "    * piv:\n",
       "      * value: 1.0\n",
       "      * desc: pivot. Leave this to 1 for a proper log normal distribution\n",
       "      * min_value: null\n",
       "      * max_value: null\n",
       "      * unit: ''\n",
       "      * is_normalization: false\n",
       "      * delta: 0.1\n",
       "      * free: false"
      ]
     },
     "metadata": {},
     "output_type": "display_data"
    }
   ],
   "source": [
    "func.display()"
   ]
  },
  {
   "cell_type": "markdown",
   "id": "eb6556fb",
   "metadata": {
    "papermill": {
     "duration": 0.003901,
     "end_time": "2025-10-03T17:16:53.617051",
     "exception": false,
     "start_time": "2025-10-03T17:16:53.613150",
     "status": "completed"
    },
    "tags": []
   },
   "source": [
    "## Shape \n",
    "\n",
    "The shape of the function. \n",
    "\n",
    "*If this is not a photon model but a prior or linear function then ignore the units as these docs are auto-generated*"
   ]
  },
  {
   "cell_type": "code",
   "execution_count": 6,
   "id": "237245c9",
   "metadata": {
    "execution": {
     "iopub.execute_input": "2025-10-03T17:16:53.622453Z",
     "iopub.status.busy": "2025-10-03T17:16:53.622253Z",
     "iopub.status.idle": "2025-10-03T17:16:53.805608Z",
     "shell.execute_reply": "2025-10-03T17:16:53.800264Z"
    },
    "papermill": {
     "duration": 0.189911,
     "end_time": "2025-10-03T17:16:53.808711",
     "exception": false,
     "start_time": "2025-10-03T17:16:53.618800",
     "status": "completed"
    },
    "tags": [
     "nbsphinx-thumbnail"
    ]
   },
   "outputs": [
    {
     "data": {
      "text/plain": [
       "Text(0, 0.5, 'probability')"
      ]
     },
     "execution_count": 6,
     "metadata": {},
     "output_type": "execute_result"
    },
    {
     "data": {
      "image/png": "[encoded data removed]",
      "text/plain": [
       "<Figure size 1040x910 with 1 Axes>"
      ]
     },
     "metadata": {},
     "output_type": "display_data"
    }
   ],
   "source": [
    "fig, ax = plt.subplots()\n",
    "\n",
    "\n",
    "ax.plot(energy_grid, func(energy_grid), color=blue, lw=3)\n",
    "\n",
    "ax.set_xlabel(\"x\")\n",
    "ax.set_ylabel(\"probability\")\n"
   ]
  },
  {
   "cell_type": "markdown",
   "id": "5afb5ee8",
   "metadata": {
    "papermill": {
     "duration": 0.00441,
     "end_time": "2025-10-03T17:16:53.818568",
     "exception": false,
     "start_time": "2025-10-03T17:16:53.814158",
     "status": "completed"
    },
    "tags": []
   },
   "source": [
    "## Random Number Generation\n",
    "\n",
    "This is how we can generate random numbers from the prior.\n"
   ]
  },
  {
   "cell_type": "code",
   "execution_count": 7,
   "id": "7fad8a36",
   "metadata": {
    "execution": {
     "iopub.execute_input": "2025-10-03T17:16:53.830093Z",
     "iopub.status.busy": "2025-10-03T17:16:53.829745Z",
     "iopub.status.idle": "2025-10-03T17:16:54.065197Z",
     "shell.execute_reply": "2025-10-03T17:16:54.062274Z"
    },
    "papermill": {
     "duration": 0.242573,
     "end_time": "2025-10-03T17:16:54.066432",
     "exception": false,
     "start_time": "2025-10-03T17:16:53.823859",
     "status": "completed"
    },
    "tags": []
   },
   "outputs": [
    {
     "data": {
      "text/plain": [
       "Text(0, 0.5, 'N')"
      ]
     },
     "execution_count": 7,
     "metadata": {},
     "output_type": "execute_result"
    },
    {
     "data": {
      "image/png": "[encoded data removed]",
      "text/plain": [
       "<Figure size 1040x910 with 1 Axes>"
      ]
     },
     "metadata": {},
     "output_type": "display_data"
    }
   ],
   "source": [
    "\n",
    "\n",
    "u = np.random.uniform(0,1, size=5000)\n",
    "\n",
    "draws = [func.from_unit_cube(x) for x in u]\n",
    "\n",
    "\n",
    "fig, ax = plt.subplots()\n",
    "\n",
    "\n",
    "ax.hist(draws, color=green, bins=50)\n",
    "\n",
    "ax.set_xlabel(\"value\")\n",
    "ax.set_ylabel(\"N\")\n",
    "\n"
   ]
  }
 ],
 "metadata": {
  "jupytext": {
   "formats": "ipynb,md"
  },
  "kernelspec": {
   "display_name": "Python 3 (ipykernel)",
   "language": "python",
   "name": "python3"
  },
  "language_info": {
   "codemirror_mode": {
    "name": "ipython",
    "version": 3
   },
   "file_extension": ".py",
   "mimetype": "text/x-python",
   "name": "python",
   "nbconvert_exporter": "python",
   "pygments_lexer": "ipython3",
   "version": "3.9.13"
  },
  "papermill": {
   "default_parameters": {},
   "duration": 5.802093,
   "end_time": "2025-10-03T17:16:54.694378",
   "environment_variables": {},
   "exception": null,
   "input_path": "Log_normal.ipynb",
   "output_path": "/Users/runner/work/astromodels/astromodels/docs/notebooks/Log_normal.ipynb",
   "parameters": {
    "func_name": "Log_normal",
    "positive_prior": true
   },
   "start_time": "2025-10-03T17:16:48.892285",
   "version": "2.6.0"
  }
 },
 "nbformat": 4,
 "nbformat_minor": 5
}
