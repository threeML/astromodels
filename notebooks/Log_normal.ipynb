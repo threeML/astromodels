{
 "cells": [
  {
   "cell_type": "markdown",
   "id": "c3799186",
   "metadata": {
    "papermill": {
     "duration": 0.001395,
     "end_time": "2025-09-27T01:13:18.591484",
     "exception": false,
     "start_time": "2025-09-27T01:13:18.590089",
     "status": "completed"
    },
    "tags": []
   },
   "source": [
    "# Log normal"
   ]
  },
  {
   "cell_type": "code",
   "execution_count": 1,
   "id": "b2e199b2",
   "metadata": {
    "execution": {
     "iopub.execute_input": "2025-09-27T01:13:18.594630Z",
     "iopub.status.busy": "2025-09-27T01:13:18.594460Z",
     "iopub.status.idle": "2025-09-27T01:13:20.709989Z",
     "shell.execute_reply": "2025-09-27T01:13:20.708899Z"
    },
    "nbsphinx": "hidden",
    "papermill": {
     "duration": 2.119141,
     "end_time": "2025-09-27T01:13:20.711826",
     "exception": false,
     "start_time": "2025-09-27T01:13:18.592685",
     "status": "completed"
    },
    "tags": []
   },
   "outputs": [],
   "source": [
    "%%capture\n",
    "\n",
    "import numpy as np\n",
    "\n",
    "import matplotlib.pyplot as plt\n",
    "\n",
    "import warnings\n",
    "warnings.simplefilter(\"ignore\")\n",
    "\n",
    "from astromodels.functions.function import _known_functions\n",
    "\n",
    "\n",
    "from jupyterthemes import jtplot\n",
    "jtplot.style(context=\"talk\", fscale=1, ticks=True, grid=False)\n",
    "%matplotlib inline"
   ]
  },
  {
   "cell_type": "code",
   "execution_count": 2,
   "id": "8bd1e164",
   "metadata": {
    "execution": {
     "iopub.execute_input": "2025-09-27T01:13:20.727929Z",
     "iopub.status.busy": "2025-09-27T01:13:20.726552Z",
     "iopub.status.idle": "2025-09-27T01:13:20.735483Z",
     "shell.execute_reply": "2025-09-27T01:13:20.734663Z"
    },
    "nbsphinx": "hidden",
    "papermill": {
     "duration": 0.019513,
     "end_time": "2025-09-27T01:13:20.737821",
     "exception": false,
     "start_time": "2025-09-27T01:13:20.718308",
     "status": "completed"
    },
    "tags": [
     "parameters"
    ]
   },
   "outputs": [],
   "source": [
    "func_name = \"TbAbs\"\n",
    "\n",
    "positive_prior = False\n"
   ]
  },
  {
   "cell_type": "code",
   "execution_count": 3,
   "id": "36bcb788",
   "metadata": {
    "execution": {
     "iopub.execute_input": "2025-09-27T01:13:20.747627Z",
     "iopub.status.busy": "2025-09-27T01:13:20.747446Z",
     "iopub.status.idle": "2025-09-27T01:13:20.751384Z",
     "shell.execute_reply": "2025-09-27T01:13:20.750463Z"
    },
    "papermill": {
     "duration": 0.007732,
     "end_time": "2025-09-27T01:13:20.752839",
     "exception": false,
     "start_time": "2025-09-27T01:13:20.745107",
     "status": "completed"
    },
    "tags": [
     "injected-parameters"
    ]
   },
   "outputs": [],
   "source": [
    "# Parameters\n",
    "func_name = \"Log_normal\"\n",
    "positive_prior = True\n"
   ]
  },
  {
   "cell_type": "code",
   "execution_count": 4,
   "id": "f2bf93a7",
   "metadata": {
    "execution": {
     "iopub.execute_input": "2025-09-27T01:13:20.756332Z",
     "iopub.status.busy": "2025-09-27T01:13:20.756157Z",
     "iopub.status.idle": "2025-09-27T01:13:20.763085Z",
     "shell.execute_reply": "2025-09-27T01:13:20.762514Z"
    },
    "lines_to_next_cell": 0,
    "nbsphinx": "hidden",
    "papermill": {
     "duration": 0.010455,
     "end_time": "2025-09-27T01:13:20.764702",
     "exception": false,
     "start_time": "2025-09-27T01:13:20.754247",
     "status": "completed"
    },
    "tags": []
   },
   "outputs": [],
   "source": [
    "func = _known_functions[func_name]()\n",
    "\n",
    "if not positive_prior:\n",
    "\n",
    "\tenergy_grid = np.linspace(-5,5,1000)\n",
    "\n",
    "else:\n",
    "    \n",
    "    energy_grid = np.linspace(0,1,1000)\n",
    "    \n",
    "    \n",
    "    \n",
    "    \n",
    "blue = \"#4152E3\"\n",
    "red = \"#E3414B\"\n",
    "green = \"#41E39E\""
   ]
  },
  {
   "cell_type": "markdown",
   "id": "47183255",
   "metadata": {
    "lines_to_next_cell": 0,
    "papermill": {
     "duration": 0.006593,
     "end_time": "2025-09-27T01:13:20.778163",
     "exception": false,
     "start_time": "2025-09-27T01:13:20.771570",
     "status": "completed"
    },
    "tags": []
   },
   "source": [
    "## Description"
   ]
  },
  {
   "cell_type": "code",
   "execution_count": 5,
   "id": "ea5786e8",
   "metadata": {
    "execution": {
     "iopub.execute_input": "2025-09-27T01:13:20.792828Z",
     "iopub.status.busy": "2025-09-27T01:13:20.792363Z",
     "iopub.status.idle": "2025-09-27T01:13:20.805281Z",
     "shell.execute_reply": "2025-09-27T01:13:20.804176Z"
    },
    "papermill": {
     "duration": 0.022703,
     "end_time": "2025-09-27T01:13:20.807371",
     "exception": false,
     "start_time": "2025-09-27T01:13:20.784668",
     "status": "completed"
    },
    "tags": []
   },
   "outputs": [
    {
     "data": {
      "text/html": [
       "<ul>\n",
       "\n",
       "<li>description: A log normal function</li>\n",
       "\n",
       "<li>formula: $K\\frac{1}{x\\sigma\\sqrt{2\\pi}}\\exp{\\frac{(\\log x/piv-\\mu/piv)^2} {2~(\\sigma)^2}} $</li>\n",
       "\n",
       "<li>parameters: \n",
       "<ul>\n",
       "\n",
       "<li>F: \n",
       "<ul>\n",
       "\n",
       "<li>value: 1.0</li>\n",
       "\n",
       "<li>desc: Integral between 0and +inf. Fix this to 1 to obtain a log Normal distribution</li>\n",
       "\n",
       "<li>min_value: None</li>\n",
       "\n",
       "<li>max_value: None</li>\n",
       "\n",
       "<li>unit: </li>\n",
       "\n",
       "<li>is_normalization: False</li>\n",
       "\n",
       "<li>delta: 0.1</li>\n",
       "\n",
       "<li>free: True</li>\n",
       "\n",
       "</ul>\n",
       "\n",
       "</li>\n",
       "\n",
       "<li>mu: \n",
       "<ul>\n",
       "\n",
       "<li>value: 0.0</li>\n",
       "\n",
       "<li>desc: Central value</li>\n",
       "\n",
       "<li>min_value: None</li>\n",
       "\n",
       "<li>max_value: None</li>\n",
       "\n",
       "<li>unit: </li>\n",
       "\n",
       "<li>is_normalization: False</li>\n",
       "\n",
       "<li>delta: 0.1</li>\n",
       "\n",
       "<li>free: True</li>\n",
       "\n",
       "</ul>\n",
       "\n",
       "</li>\n",
       "\n",
       "<li>sigma: \n",
       "<ul>\n",
       "\n",
       "<li>value: 1.0</li>\n",
       "\n",
       "<li>desc: standard deviation</li>\n",
       "\n",
       "<li>min_value: 1e-12</li>\n",
       "\n",
       "<li>max_value: None</li>\n",
       "\n",
       "<li>unit: </li>\n",
       "\n",
       "<li>is_normalization: False</li>\n",
       "\n",
       "<li>delta: 0.1</li>\n",
       "\n",
       "<li>free: True</li>\n",
       "\n",
       "</ul>\n",
       "\n",
       "</li>\n",
       "\n",
       "<li>piv: \n",
       "<ul>\n",
       "\n",
       "<li>value: 1.0</li>\n",
       "\n",
       "<li>desc: pivot. Leave this to 1 for a proper log normal distribution</li>\n",
       "\n",
       "<li>min_value: None</li>\n",
       "\n",
       "<li>max_value: None</li>\n",
       "\n",
       "<li>unit: </li>\n",
       "\n",
       "<li>is_normalization: False</li>\n",
       "\n",
       "<li>delta: 0.1</li>\n",
       "\n",
       "<li>free: False</li>\n",
       "\n",
       "</ul>\n",
       "\n",
       "</li>\n",
       "\n",
       "</ul>\n",
       "\n",
       "</li>\n",
       "\n",
       "</ul>\n"
      ],
      "text/plain": [
       "  * description: A log normal function\n",
       "  * formula: $K\\frac{1}{x\\sigma\\sqrt{2\\pi}}\\exp{\\frac{(\\log x/piv-\\mu/piv)^2} {2~(\\sigma)^2}}\n",
       "    * $\n",
       "  * parameters:\n",
       "    * F:\n",
       "      * value: 1.0\n",
       "      * desc: Integral between 0and +inf. Fix this to 1 to obtain a log Normal distribution\n",
       "      * min_value: null\n",
       "      * max_value: null\n",
       "      * unit: ''\n",
       "      * is_normalization: false\n",
       "      * delta: 0.1\n",
       "      * free: true\n",
       "    * mu:\n",
       "      * value: 0.0\n",
       "      * desc: Central value\n",
       "      * min_value: null\n",
       "      * max_value: null\n",
       "      * unit: ''\n",
       "      * is_normalization: false\n",
       "      * delta: 0.1\n",
       "      * free: true\n",
       "    * sigma:\n",
       "      * value: 1.0\n",
       "      * desc: standard deviation\n",
       "      * min_value: 1.0e-12\n",
       "      * max_value: null\n",
       "      * unit: ''\n",
       "      * is_normalization: false\n",
       "      * delta: 0.1\n",
       "      * free: true\n",
       "    * piv:\n",
       "      * value: 1.0\n",
       "      * desc: pivot. Leave this to 1 for a proper log normal distribution\n",
       "      * min_value: null\n",
       "      * max_value: null\n",
       "      * unit: ''\n",
       "      * is_normalization: false\n",
       "      * delta: 0.1\n",
       "      * free: false"
      ]
     },
     "metadata": {},
     "output_type": "display_data"
    }
   ],
   "source": [
    "func.display()"
   ]
  },
  {
   "cell_type": "markdown",
   "id": "34bcf36c",
   "metadata": {
    "papermill": {
     "duration": 0.002107,
     "end_time": "2025-09-27T01:13:20.815425",
     "exception": false,
     "start_time": "2025-09-27T01:13:20.813318",
     "status": "completed"
    },
    "tags": []
   },
   "source": [
    "## Shape \n",
    "\n",
    "The shape of the function. \n",
    "\n",
    "*If this is not a photon model but a prior or linear function then ignore the units as these docs are auto-generated*"
   ]
  },
  {
   "cell_type": "code",
   "execution_count": 6,
   "id": "7f857b64",
   "metadata": {
    "execution": {
     "iopub.execute_input": "2025-09-27T01:13:20.819335Z",
     "iopub.status.busy": "2025-09-27T01:13:20.819150Z",
     "iopub.status.idle": "2025-09-27T01:13:21.118957Z",
     "shell.execute_reply": "2025-09-27T01:13:21.118613Z"
    },
    "papermill": {
     "duration": 0.303342,
     "end_time": "2025-09-27T01:13:21.120262",
     "exception": false,
     "start_time": "2025-09-27T01:13:20.816920",
     "status": "completed"
    },
    "tags": [
     "nbsphinx-thumbnail"
    ]
   },
   "outputs": [
    {
     "data": {
      "text/plain": [
       "Text(0, 0.5, 'probability')"
      ]
     },
     "execution_count": 6,
     "metadata": {},
     "output_type": "execute_result"
    },
    {
     "data": {
      "image/png": "[encoded data removed]",
      "text/plain": [
       "<Figure size 1040x910 with 1 Axes>"
      ]
     },
     "metadata": {},
     "output_type": "display_data"
    }
   ],
   "source": [
    "fig, ax = plt.subplots()\n",
    "\n",
    "\n",
    "ax.plot(energy_grid, func(energy_grid), color=blue, lw=3)\n",
    "\n",
    "ax.set_xlabel(\"x\")\n",
    "ax.set_ylabel(\"probability\")\n"
   ]
  },
  {
   "cell_type": "markdown",
   "id": "a3cb9c32",
   "metadata": {
    "papermill": {
     "duration": 0.001745,
     "end_time": "2025-09-27T01:13:21.123839",
     "exception": false,
     "start_time": "2025-09-27T01:13:21.122094",
     "status": "completed"
    },
    "tags": []
   },
   "source": [
    "## Random Number Generation\n",
    "\n",
    "This is how we can generate random numbers from the prior.\n"
   ]
  },
  {
   "cell_type": "code",
   "execution_count": 7,
   "id": "2196890c",
   "metadata": {
    "execution": {
     "iopub.execute_input": "2025-09-27T01:13:21.128863Z",
     "iopub.status.busy": "2025-09-27T01:13:21.128633Z",
     "iopub.status.idle": "2025-09-27T01:13:21.390867Z",
     "shell.execute_reply": "2025-09-27T01:13:21.384888Z"
    },
    "papermill": {
     "duration": 0.266897,
     "end_time": "2025-09-27T01:13:21.392383",
     "exception": false,
     "start_time": "2025-09-27T01:13:21.125486",
     "status": "completed"
    },
    "tags": []
   },
   "outputs": [
    {
     "data": {
      "text/plain": [
       "Text(0, 0.5, 'N')"
      ]
     },
     "execution_count": 7,
     "metadata": {},
     "output_type": "execute_result"
    },
    {
     "data": {
      "image/png": "[encoded data removed]",
      "text/plain": [
       "<Figure size 1040x910 with 1 Axes>"
      ]
     },
     "metadata": {},
     "output_type": "display_data"
    }
   ],
   "source": [
    "\n",
    "\n",
    "u = np.random.uniform(0,1, size=5000)\n",
    "\n",
    "draws = [func.from_unit_cube(x) for x in u]\n",
    "\n",
    "\n",
    "fig, ax = plt.subplots()\n",
    "\n",
    "\n",
    "ax.hist(draws, color=green, bins=50)\n",
    "\n",
    "ax.set_xlabel(\"value\")\n",
    "ax.set_ylabel(\"N\")\n",
    "\n"
   ]
  }
 ],
 "metadata": {
  "jupytext": {
   "formats": "ipynb,md"
  },
  "kernelspec": {
   "display_name": "Python 3 (ipykernel)",
   "language": "python",
   "name": "python3"
  },
  "language_info": {
   "codemirror_mode": {
    "name": "ipython",
    "version": 3
   },
   "file_extension": ".py",
   "mimetype": "text/x-python",
   "name": "python",
   "nbconvert_exporter": "python",
   "pygments_lexer": "ipython3",
   "version": "3.9.13"
  },
  "papermill": {
   "default_parameters": {},
   "duration": 4.043695,
   "end_time": "2025-09-27T01:13:21.925543",
   "environment_variables": {},
   "exception": null,
   "input_path": "Log_normal.ipynb",
   "output_path": "/Users/runner/work/astromodels/astromodels/docs/notebooks/Log_normal.ipynb",
   "parameters": {
    "func_name": "Log_normal",
    "positive_prior": true
   },
   "start_time": "2025-09-27T01:13:17.881848",
   "version": "2.6.0"
  }
 },
 "nbformat": 4,
 "nbformat_minor": 5
}
