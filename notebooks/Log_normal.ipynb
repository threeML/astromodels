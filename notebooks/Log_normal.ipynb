{
 "cells": [
  {
   "cell_type": "markdown",
   "id": "752226ef",
   "metadata": {
    "papermill": {
     "duration": 0.001477,
     "end_time": "2025-09-27T00:21:13.275191",
     "exception": false,
     "start_time": "2025-09-27T00:21:13.273714",
     "status": "completed"
    },
    "tags": []
   },
   "source": [
    "# Log normal"
   ]
  },
  {
   "cell_type": "code",
   "execution_count": 1,
   "id": "3c72fb89",
   "metadata": {
    "execution": {
     "iopub.execute_input": "2025-09-27T00:21:13.278084Z",
     "iopub.status.busy": "2025-09-27T00:21:13.277921Z",
     "iopub.status.idle": "2025-09-27T00:21:15.212221Z",
     "shell.execute_reply": "2025-09-27T00:21:15.211487Z"
    },
    "nbsphinx": "hidden",
    "papermill": {
     "duration": 1.937708,
     "end_time": "2025-09-27T00:21:15.214058",
     "exception": false,
     "start_time": "2025-09-27T00:21:13.276350",
     "status": "completed"
    },
    "tags": []
   },
   "outputs": [],
   "source": [
    "%%capture\n",
    "\n",
    "import numpy as np\n",
    "\n",
    "import matplotlib.pyplot as plt\n",
    "\n",
    "import warnings\n",
    "warnings.simplefilter(\"ignore\")\n",
    "\n",
    "from astromodels.functions.function import _known_functions\n",
    "\n",
    "\n",
    "from jupyterthemes import jtplot\n",
    "jtplot.style(context=\"talk\", fscale=1, ticks=True, grid=False)\n",
    "%matplotlib inline"
   ]
  },
  {
   "cell_type": "code",
   "execution_count": 2,
   "id": "1971e479",
   "metadata": {
    "execution": {
     "iopub.execute_input": "2025-09-27T00:21:15.217654Z",
     "iopub.status.busy": "2025-09-27T00:21:15.217246Z",
     "iopub.status.idle": "2025-09-27T00:21:15.225761Z",
     "shell.execute_reply": "2025-09-27T00:21:15.225181Z"
    },
    "nbsphinx": "hidden",
    "papermill": {
     "duration": 0.011471,
     "end_time": "2025-09-27T00:21:15.227008",
     "exception": false,
     "start_time": "2025-09-27T00:21:15.215537",
     "status": "completed"
    },
    "tags": [
     "parameters"
    ]
   },
   "outputs": [],
   "source": [
    "func_name = \"TbAbs\"\n",
    "\n",
    "positive_prior = False\n"
   ]
  },
  {
   "cell_type": "code",
   "execution_count": 3,
   "id": "22734281",
   "metadata": {
    "execution": {
     "iopub.execute_input": "2025-09-27T00:21:15.229984Z",
     "iopub.status.busy": "2025-09-27T00:21:15.229834Z",
     "iopub.status.idle": "2025-09-27T00:21:15.237844Z",
     "shell.execute_reply": "2025-09-27T00:21:15.237354Z"
    },
    "papermill": {
     "duration": 0.010784,
     "end_time": "2025-09-27T00:21:15.239043",
     "exception": false,
     "start_time": "2025-09-27T00:21:15.228259",
     "status": "completed"
    },
    "tags": [
     "injected-parameters"
    ]
   },
   "outputs": [],
   "source": [
    "# Parameters\n",
    "func_name = \"Log_normal\"\n",
    "positive_prior = True\n"
   ]
  },
  {
   "cell_type": "code",
   "execution_count": 4,
   "id": "f74509db",
   "metadata": {
    "execution": {
     "iopub.execute_input": "2025-09-27T00:21:15.241995Z",
     "iopub.status.busy": "2025-09-27T00:21:15.241857Z",
     "iopub.status.idle": "2025-09-27T00:21:15.244850Z",
     "shell.execute_reply": "2025-09-27T00:21:15.244413Z"
    },
    "lines_to_next_cell": 0,
    "nbsphinx": "hidden",
    "papermill": {
     "duration": 0.005638,
     "end_time": "2025-09-27T00:21:15.245994",
     "exception": false,
     "start_time": "2025-09-27T00:21:15.240356",
     "status": "completed"
    },
    "tags": []
   },
   "outputs": [],
   "source": [
    "func = _known_functions[func_name]()\n",
    "\n",
    "if not positive_prior:\n",
    "\n",
    "\tenergy_grid = np.linspace(-5,5,1000)\n",
    "\n",
    "else:\n",
    "    \n",
    "    energy_grid = np.linspace(0,1,1000)\n",
    "    \n",
    "    \n",
    "    \n",
    "    \n",
    "blue = \"#4152E3\"\n",
    "red = \"#E3414B\"\n",
    "green = \"#41E39E\""
   ]
  },
  {
   "cell_type": "markdown",
   "id": "7399c4ed",
   "metadata": {
    "lines_to_next_cell": 0,
    "papermill": {
     "duration": 0.001073,
     "end_time": "2025-09-27T00:21:15.248287",
     "exception": false,
     "start_time": "2025-09-27T00:21:15.247214",
     "status": "completed"
    },
    "tags": []
   },
   "source": [
    "## Description"
   ]
  },
  {
   "cell_type": "code",
   "execution_count": 5,
   "id": "8b305eba",
   "metadata": {
    "execution": {
     "iopub.execute_input": "2025-09-27T00:21:15.251049Z",
     "iopub.status.busy": "2025-09-27T00:21:15.250898Z",
     "iopub.status.idle": "2025-09-27T00:21:15.255348Z",
     "shell.execute_reply": "2025-09-27T00:21:15.254952Z"
    },
    "papermill": {
     "duration": 0.00728,
     "end_time": "2025-09-27T00:21:15.256570",
     "exception": false,
     "start_time": "2025-09-27T00:21:15.249290",
     "status": "completed"
    },
    "tags": []
   },
   "outputs": [
    {
     "data": {
      "text/html": [
       "<ul>\n",
       "\n",
       "<li>description: A log normal function</li>\n",
       "\n",
       "<li>formula: $K\\frac{1}{x\\sigma\\sqrt{2\\pi}}\\exp{\\frac{(\\log x/piv-\\mu/piv)^2} {2~(\\sigma)^2}} $</li>\n",
       "\n",
       "<li>parameters: \n",
       "<ul>\n",
       "\n",
       "<li>F: \n",
       "<ul>\n",
       "\n",
       "<li>value: 1.0</li>\n",
       "\n",
       "<li>desc: Integral between 0and +inf. Fix this to 1 to obtain a log Normal distribution</li>\n",
       "\n",
       "<li>min_value: None</li>\n",
       "\n",
       "<li>max_value: None</li>\n",
       "\n",
       "<li>unit: </li>\n",
       "\n",
       "<li>is_normalization: False</li>\n",
       "\n",
       "<li>delta: 0.1</li>\n",
       "\n",
       "<li>free: True</li>\n",
       "\n",
       "</ul>\n",
       "\n",
       "</li>\n",
       "\n",
       "<li>mu: \n",
       "<ul>\n",
       "\n",
       "<li>value: 0.0</li>\n",
       "\n",
       "<li>desc: Central value</li>\n",
       "\n",
       "<li>min_value: None</li>\n",
       "\n",
       "<li>max_value: None</li>\n",
       "\n",
       "<li>unit: </li>\n",
       "\n",
       "<li>is_normalization: False</li>\n",
       "\n",
       "<li>delta: 0.1</li>\n",
       "\n",
       "<li>free: True</li>\n",
       "\n",
       "</ul>\n",
       "\n",
       "</li>\n",
       "\n",
       "<li>sigma: \n",
       "<ul>\n",
       "\n",
       "<li>value: 1.0</li>\n",
       "\n",
       "<li>desc: standard deviation</li>\n",
       "\n",
       "<li>min_value: 1e-12</li>\n",
       "\n",
       "<li>max_value: None</li>\n",
       "\n",
       "<li>unit: </li>\n",
       "\n",
       "<li>is_normalization: False</li>\n",
       "\n",
       "<li>delta: 0.1</li>\n",
       "\n",
       "<li>free: True</li>\n",
       "\n",
       "</ul>\n",
       "\n",
       "</li>\n",
       "\n",
       "<li>piv: \n",
       "<ul>\n",
       "\n",
       "<li>value: 1.0</li>\n",
       "\n",
       "<li>desc: pivot. Leave this to 1 for a proper log normal distribution</li>\n",
       "\n",
       "<li>min_value: None</li>\n",
       "\n",
       "<li>max_value: None</li>\n",
       "\n",
       "<li>unit: </li>\n",
       "\n",
       "<li>is_normalization: False</li>\n",
       "\n",
       "<li>delta: 0.1</li>\n",
       "\n",
       "<li>free: False</li>\n",
       "\n",
       "</ul>\n",
       "\n",
       "</li>\n",
       "\n",
       "</ul>\n",
       "\n",
       "</li>\n",
       "\n",
       "</ul>\n"
      ],
      "text/plain": [
       "  * description: A log normal function\n",
       "  * formula: $K\\frac{1}{x\\sigma\\sqrt{2\\pi}}\\exp{\\frac{(\\log x/piv-\\mu/piv)^2} {2~(\\sigma)^2}}\n",
       "    * $\n",
       "  * parameters:\n",
       "    * F:\n",
       "      * value: 1.0\n",
       "      * desc: Integral between 0and +inf. Fix this to 1 to obtain a log Normal distribution\n",
       "      * min_value: null\n",
       "      * max_value: null\n",
       "      * unit: ''\n",
       "      * is_normalization: false\n",
       "      * delta: 0.1\n",
       "      * free: true\n",
       "    * mu:\n",
       "      * value: 0.0\n",
       "      * desc: Central value\n",
       "      * min_value: null\n",
       "      * max_value: null\n",
       "      * unit: ''\n",
       "      * is_normalization: false\n",
       "      * delta: 0.1\n",
       "      * free: true\n",
       "    * sigma:\n",
       "      * value: 1.0\n",
       "      * desc: standard deviation\n",
       "      * min_value: 1.0e-12\n",
       "      * max_value: null\n",
       "      * unit: ''\n",
       "      * is_normalization: false\n",
       "      * delta: 0.1\n",
       "      * free: true\n",
       "    * piv:\n",
       "      * value: 1.0\n",
       "      * desc: pivot. Leave this to 1 for a proper log normal distribution\n",
       "      * min_value: null\n",
       "      * max_value: null\n",
       "      * unit: ''\n",
       "      * is_normalization: false\n",
       "      * delta: 0.1\n",
       "      * free: false"
      ]
     },
     "metadata": {},
     "output_type": "display_data"
    }
   ],
   "source": [
    "func.display()"
   ]
  },
  {
   "cell_type": "markdown",
   "id": "3a1e6cee",
   "metadata": {
    "papermill": {
     "duration": 0.001174,
     "end_time": "2025-09-27T00:21:15.259135",
     "exception": false,
     "start_time": "2025-09-27T00:21:15.257961",
     "status": "completed"
    },
    "tags": []
   },
   "source": [
    "## Shape \n",
    "\n",
    "The shape of the function. \n",
    "\n",
    "*If this is not a photon model but a prior or linear function then ignore the units as these docs are auto-generated*"
   ]
  },
  {
   "cell_type": "code",
   "execution_count": 6,
   "id": "45c1ac0a",
   "metadata": {
    "execution": {
     "iopub.execute_input": "2025-09-27T00:21:15.262193Z",
     "iopub.status.busy": "2025-09-27T00:21:15.262014Z",
     "iopub.status.idle": "2025-09-27T00:21:15.350856Z",
     "shell.execute_reply": "2025-09-27T00:21:15.350290Z"
    },
    "papermill": {
     "duration": 0.092288,
     "end_time": "2025-09-27T00:21:15.352545",
     "exception": false,
     "start_time": "2025-09-27T00:21:15.260257",
     "status": "completed"
    },
    "tags": [
     "nbsphinx-thumbnail"
    ]
   },
   "outputs": [
    {
     "data": {
      "text/plain": [
       "Text(0, 0.5, 'probability')"
      ]
     },
     "execution_count": 6,
     "metadata": {},
     "output_type": "execute_result"
    },
    {
     "data": {
      "image/png": "[encoded data removed]",
      "text/plain": [
       "<Figure size 1040x910 with 1 Axes>"
      ]
     },
     "metadata": {},
     "output_type": "display_data"
    }
   ],
   "source": [
    "fig, ax = plt.subplots()\n",
    "\n",
    "\n",
    "ax.plot(energy_grid, func(energy_grid), color=blue, lw=3)\n",
    "\n",
    "ax.set_xlabel(\"x\")\n",
    "ax.set_ylabel(\"probability\")\n"
   ]
  },
  {
   "cell_type": "markdown",
   "id": "010462e9",
   "metadata": {
    "papermill": {
     "duration": 0.001761,
     "end_time": "2025-09-27T00:21:15.356136",
     "exception": false,
     "start_time": "2025-09-27T00:21:15.354375",
     "status": "completed"
    },
    "tags": []
   },
   "source": [
    "## Random Number Generation\n",
    "\n",
    "This is how we can generate random numbers from the prior.\n"
   ]
  },
  {
   "cell_type": "code",
   "execution_count": 7,
   "id": "e0d00704",
   "metadata": {
    "execution": {
     "iopub.execute_input": "2025-09-27T00:21:15.360604Z",
     "iopub.status.busy": "2025-09-27T00:21:15.360427Z",
     "iopub.status.idle": "2025-09-27T00:21:15.476887Z",
     "shell.execute_reply": "2025-09-27T00:21:15.476337Z"
    },
    "papermill": {
     "duration": 0.120245,
     "end_time": "2025-09-27T00:21:15.478143",
     "exception": false,
     "start_time": "2025-09-27T00:21:15.357898",
     "status": "completed"
    },
    "tags": []
   },
   "outputs": [
    {
     "data": {
      "text/plain": [
       "Text(0, 0.5, 'N')"
      ]
     },
     "execution_count": 7,
     "metadata": {},
     "output_type": "execute_result"
    },
    {
     "data": {
      "image/png": "[encoded data removed]",
      "text/plain": [
       "<Figure size 1040x910 with 1 Axes>"
      ]
     },
     "metadata": {},
     "output_type": "display_data"
    }
   ],
   "source": [
    "\n",
    "\n",
    "u = np.random.uniform(0,1, size=5000)\n",
    "\n",
    "draws = [func.from_unit_cube(x) for x in u]\n",
    "\n",
    "\n",
    "fig, ax = plt.subplots()\n",
    "\n",
    "\n",
    "ax.hist(draws, color=green, bins=50)\n",
    "\n",
    "ax.set_xlabel(\"value\")\n",
    "ax.set_ylabel(\"N\")\n",
    "\n"
   ]
  }
 ],
 "metadata": {
  "jupytext": {
   "formats": "ipynb,md"
  },
  "kernelspec": {
   "display_name": "Python 3 (ipykernel)",
   "language": "python",
   "name": "python3"
  },
  "language_info": {
   "codemirror_mode": {
    "name": "ipython",
    "version": 3
   },
   "file_extension": ".py",
   "mimetype": "text/x-python",
   "name": "python",
   "nbconvert_exporter": "python",
   "pygments_lexer": "ipython3",
   "version": "3.9.13"
  },
  "papermill": {
   "default_parameters": {},
   "duration": 3.418182,
   "end_time": "2025-09-27T00:21:15.903546",
   "environment_variables": {},
   "exception": null,
   "input_path": "Log_normal.ipynb",
   "output_path": "/Users/runner/work/astromodels/astromodels/docs/notebooks/Log_normal.ipynb",
   "parameters": {
    "func_name": "Log_normal",
    "positive_prior": true
   },
   "start_time": "2025-09-27T00:21:12.485364",
   "version": "2.6.0"
  }
 },
 "nbformat": 4,
 "nbformat_minor": 5
}
