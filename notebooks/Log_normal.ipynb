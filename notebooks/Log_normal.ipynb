{
 "cells": [
  {
   "cell_type": "markdown",
   "id": "ecd72d87",
   "metadata": {
    "papermill": {
     "duration": 0.001507,
     "end_time": "2025-09-26T18:53:48.637120",
     "exception": false,
     "start_time": "2025-09-26T18:53:48.635613",
     "status": "completed"
    },
    "tags": []
   },
   "source": [
    "# Log normal"
   ]
  },
  {
   "cell_type": "code",
   "execution_count": 1,
   "id": "cba097a2",
   "metadata": {
    "execution": {
     "iopub.execute_input": "2025-09-26T18:53:48.646878Z",
     "iopub.status.busy": "2025-09-26T18:53:48.646479Z",
     "iopub.status.idle": "2025-09-26T18:53:51.442288Z",
     "shell.execute_reply": "2025-09-26T18:53:51.440782Z"
    },
    "nbsphinx": "hidden",
    "papermill": {
     "duration": 2.804482,
     "end_time": "2025-09-26T18:53:51.444923",
     "exception": false,
     "start_time": "2025-09-26T18:53:48.640441",
     "status": "completed"
    },
    "tags": []
   },
   "outputs": [],
   "source": [
    "%%capture\n",
    "\n",
    "import numpy as np\n",
    "\n",
    "import matplotlib.pyplot as plt\n",
    "\n",
    "import warnings\n",
    "warnings.simplefilter(\"ignore\")\n",
    "\n",
    "from astromodels.functions.function import _known_functions\n",
    "\n",
    "\n",
    "from jupyterthemes import jtplot\n",
    "jtplot.style(context=\"talk\", fscale=1, ticks=True, grid=False)\n",
    "%matplotlib inline"
   ]
  },
  {
   "cell_type": "code",
   "execution_count": 2,
   "id": "e2586f85",
   "metadata": {
    "execution": {
     "iopub.execute_input": "2025-09-26T18:53:51.450092Z",
     "iopub.status.busy": "2025-09-26T18:53:51.449257Z",
     "iopub.status.idle": "2025-09-26T18:53:51.453095Z",
     "shell.execute_reply": "2025-09-26T18:53:51.452463Z"
    },
    "nbsphinx": "hidden",
    "papermill": {
     "duration": 0.00823,
     "end_time": "2025-09-26T18:53:51.454504",
     "exception": false,
     "start_time": "2025-09-26T18:53:51.446274",
     "status": "completed"
    },
    "tags": [
     "parameters"
    ]
   },
   "outputs": [],
   "source": [
    "func_name = \"TbAbs\"\n",
    "\n",
    "positive_prior = False\n"
   ]
  },
  {
   "cell_type": "code",
   "execution_count": 3,
   "id": "b6298933",
   "metadata": {
    "execution": {
     "iopub.execute_input": "2025-09-26T18:53:51.457472Z",
     "iopub.status.busy": "2025-09-26T18:53:51.457312Z",
     "iopub.status.idle": "2025-09-26T18:53:51.459354Z",
     "shell.execute_reply": "2025-09-26T18:53:51.458984Z"
    },
    "papermill": {
     "duration": 0.004648,
     "end_time": "2025-09-26T18:53:51.460354",
     "exception": false,
     "start_time": "2025-09-26T18:53:51.455706",
     "status": "completed"
    },
    "tags": [
     "injected-parameters"
    ]
   },
   "outputs": [],
   "source": [
    "# Parameters\n",
    "func_name = \"Log_normal\"\n",
    "positive_prior = True\n"
   ]
  },
  {
   "cell_type": "code",
   "execution_count": 4,
   "id": "14e4c34f",
   "metadata": {
    "execution": {
     "iopub.execute_input": "2025-09-26T18:53:51.463093Z",
     "iopub.status.busy": "2025-09-26T18:53:51.462962Z",
     "iopub.status.idle": "2025-09-26T18:53:51.469278Z",
     "shell.execute_reply": "2025-09-26T18:53:51.468362Z"
    },
    "lines_to_next_cell": 0,
    "nbsphinx": "hidden",
    "papermill": {
     "duration": 0.010178,
     "end_time": "2025-09-26T18:53:51.471740",
     "exception": false,
     "start_time": "2025-09-26T18:53:51.461562",
     "status": "completed"
    },
    "tags": []
   },
   "outputs": [],
   "source": [
    "func = _known_functions[func_name]()\n",
    "\n",
    "if not positive_prior:\n",
    "\n",
    "\tenergy_grid = np.linspace(-5,5,1000)\n",
    "\n",
    "else:\n",
    "    \n",
    "    energy_grid = np.linspace(0,1,1000)\n",
    "    \n",
    "    \n",
    "    \n",
    "    \n",
    "blue = \"#4152E3\"\n",
    "red = \"#E3414B\"\n",
    "green = \"#41E39E\""
   ]
  },
  {
   "cell_type": "markdown",
   "id": "dc33f48b",
   "metadata": {
    "lines_to_next_cell": 0,
    "papermill": {
     "duration": 0.002899,
     "end_time": "2025-09-26T18:53:51.477855",
     "exception": false,
     "start_time": "2025-09-26T18:53:51.474956",
     "status": "completed"
    },
    "tags": []
   },
   "source": [
    "## Description"
   ]
  },
  {
   "cell_type": "code",
   "execution_count": 5,
   "id": "1cb4c2f0",
   "metadata": {
    "execution": {
     "iopub.execute_input": "2025-09-26T18:53:51.481455Z",
     "iopub.status.busy": "2025-09-26T18:53:51.481242Z",
     "iopub.status.idle": "2025-09-26T18:53:51.488840Z",
     "shell.execute_reply": "2025-09-26T18:53:51.487162Z"
    },
    "papermill": {
     "duration": 0.012433,
     "end_time": "2025-09-26T18:53:51.491940",
     "exception": false,
     "start_time": "2025-09-26T18:53:51.479507",
     "status": "completed"
    },
    "tags": []
   },
   "outputs": [
    {
     "data": {
      "text/html": [
       "<ul>\n",
       "\n",
       "<li>description: A log normal function</li>\n",
       "\n",
       "<li>formula: $K\\frac{1}{x\\sigma\\sqrt{2\\pi}}\\exp{\\frac{(\\log x/piv-\\mu/piv)^2} {2~(\\sigma)^2}} $</li>\n",
       "\n",
       "<li>parameters: \n",
       "<ul>\n",
       "\n",
       "<li>F: \n",
       "<ul>\n",
       "\n",
       "<li>value: 1.0</li>\n",
       "\n",
       "<li>desc: Integral between 0and +inf. Fix this to 1 to obtain a log Normal distribution</li>\n",
       "\n",
       "<li>min_value: None</li>\n",
       "\n",
       "<li>max_value: None</li>\n",
       "\n",
       "<li>unit: </li>\n",
       "\n",
       "<li>is_normalization: False</li>\n",
       "\n",
       "<li>delta: 0.1</li>\n",
       "\n",
       "<li>free: True</li>\n",
       "\n",
       "</ul>\n",
       "\n",
       "</li>\n",
       "\n",
       "<li>mu: \n",
       "<ul>\n",
       "\n",
       "<li>value: 0.0</li>\n",
       "\n",
       "<li>desc: Central value</li>\n",
       "\n",
       "<li>min_value: None</li>\n",
       "\n",
       "<li>max_value: None</li>\n",
       "\n",
       "<li>unit: </li>\n",
       "\n",
       "<li>is_normalization: False</li>\n",
       "\n",
       "<li>delta: 0.1</li>\n",
       "\n",
       "<li>free: True</li>\n",
       "\n",
       "</ul>\n",
       "\n",
       "</li>\n",
       "\n",
       "<li>sigma: \n",
       "<ul>\n",
       "\n",
       "<li>value: 1.0</li>\n",
       "\n",
       "<li>desc: standard deviation</li>\n",
       "\n",
       "<li>min_value: 1e-12</li>\n",
       "\n",
       "<li>max_value: None</li>\n",
       "\n",
       "<li>unit: </li>\n",
       "\n",
       "<li>is_normalization: False</li>\n",
       "\n",
       "<li>delta: 0.1</li>\n",
       "\n",
       "<li>free: True</li>\n",
       "\n",
       "</ul>\n",
       "\n",
       "</li>\n",
       "\n",
       "<li>piv: \n",
       "<ul>\n",
       "\n",
       "<li>value: 1.0</li>\n",
       "\n",
       "<li>desc: pivot. Leave this to 1 for a proper log normal distribution</li>\n",
       "\n",
       "<li>min_value: None</li>\n",
       "\n",
       "<li>max_value: None</li>\n",
       "\n",
       "<li>unit: </li>\n",
       "\n",
       "<li>is_normalization: False</li>\n",
       "\n",
       "<li>delta: 0.1</li>\n",
       "\n",
       "<li>free: False</li>\n",
       "\n",
       "</ul>\n",
       "\n",
       "</li>\n",
       "\n",
       "</ul>\n",
       "\n",
       "</li>\n",
       "\n",
       "</ul>\n"
      ],
      "text/plain": [
       "  * description: A log normal function\n",
       "  * formula: $K\\frac{1}{x\\sigma\\sqrt{2\\pi}}\\exp{\\frac{(\\log x/piv-\\mu/piv)^2} {2~(\\sigma)^2}}\n",
       "    * $\n",
       "  * parameters:\n",
       "    * F:\n",
       "      * value: 1.0\n",
       "      * desc: Integral between 0and +inf. Fix this to 1 to obtain a log Normal distribution\n",
       "      * min_value: null\n",
       "      * max_value: null\n",
       "      * unit: ''\n",
       "      * is_normalization: false\n",
       "      * delta: 0.1\n",
       "      * free: true\n",
       "    * mu:\n",
       "      * value: 0.0\n",
       "      * desc: Central value\n",
       "      * min_value: null\n",
       "      * max_value: null\n",
       "      * unit: ''\n",
       "      * is_normalization: false\n",
       "      * delta: 0.1\n",
       "      * free: true\n",
       "    * sigma:\n",
       "      * value: 1.0\n",
       "      * desc: standard deviation\n",
       "      * min_value: 1.0e-12\n",
       "      * max_value: null\n",
       "      * unit: ''\n",
       "      * is_normalization: false\n",
       "      * delta: 0.1\n",
       "      * free: true\n",
       "    * piv:\n",
       "      * value: 1.0\n",
       "      * desc: pivot. Leave this to 1 for a proper log normal distribution\n",
       "      * min_value: null\n",
       "      * max_value: null\n",
       "      * unit: ''\n",
       "      * is_normalization: false\n",
       "      * delta: 0.1\n",
       "      * free: false"
      ]
     },
     "metadata": {},
     "output_type": "display_data"
    }
   ],
   "source": [
    "func.display()"
   ]
  },
  {
   "cell_type": "markdown",
   "id": "0323af60",
   "metadata": {
    "papermill": {
     "duration": 0.001826,
     "end_time": "2025-09-26T18:53:51.497792",
     "exception": false,
     "start_time": "2025-09-26T18:53:51.495966",
     "status": "completed"
    },
    "tags": []
   },
   "source": [
    "## Shape \n",
    "\n",
    "The shape of the function. \n",
    "\n",
    "*If this is not a photon model but a prior or linear function then ignore the units as these docs are auto-generated*"
   ]
  },
  {
   "cell_type": "code",
   "execution_count": 6,
   "id": "d4d7fc46",
   "metadata": {
    "execution": {
     "iopub.execute_input": "2025-09-26T18:53:51.502174Z",
     "iopub.status.busy": "2025-09-26T18:53:51.501126Z",
     "iopub.status.idle": "2025-09-26T18:53:51.665691Z",
     "shell.execute_reply": "2025-09-26T18:53:51.664016Z"
    },
    "papermill": {
     "duration": 0.169937,
     "end_time": "2025-09-26T18:53:51.668908",
     "exception": false,
     "start_time": "2025-09-26T18:53:51.498971",
     "status": "completed"
    },
    "tags": [
     "nbsphinx-thumbnail"
    ]
   },
   "outputs": [
    {
     "data": {
      "text/plain": [
       "Text(0, 0.5, 'probability')"
      ]
     },
     "execution_count": 6,
     "metadata": {},
     "output_type": "execute_result"
    },
    {
     "data": {
      "image/png": "[encoded data removed]",
      "text/plain": [
       "<Figure size 1040x910 with 1 Axes>"
      ]
     },
     "metadata": {},
     "output_type": "display_data"
    }
   ],
   "source": [
    "fig, ax = plt.subplots()\n",
    "\n",
    "\n",
    "ax.plot(energy_grid, func(energy_grid), color=blue, lw=3)\n",
    "\n",
    "ax.set_xlabel(\"x\")\n",
    "ax.set_ylabel(\"probability\")\n"
   ]
  },
  {
   "cell_type": "markdown",
   "id": "2f78a08d",
   "metadata": {
    "papermill": {
     "duration": 0.003996,
     "end_time": "2025-09-26T18:53:51.674603",
     "exception": false,
     "start_time": "2025-09-26T18:53:51.670607",
     "status": "completed"
    },
    "tags": []
   },
   "source": [
    "## Random Number Generation\n",
    "\n",
    "This is how we can generate random numbers from the prior.\n"
   ]
  },
  {
   "cell_type": "code",
   "execution_count": 7,
   "id": "977cc44d",
   "metadata": {
    "execution": {
     "iopub.execute_input": "2025-09-26T18:53:51.679381Z",
     "iopub.status.busy": "2025-09-26T18:53:51.678951Z",
     "iopub.status.idle": "2025-09-26T18:53:51.909237Z",
     "shell.execute_reply": "2025-09-26T18:53:51.908182Z"
    },
    "papermill": {
     "duration": 0.234253,
     "end_time": "2025-09-26T18:53:51.910682",
     "exception": false,
     "start_time": "2025-09-26T18:53:51.676429",
     "status": "completed"
    },
    "tags": []
   },
   "outputs": [
    {
     "data": {
      "text/plain": [
       "Text(0, 0.5, 'N')"
      ]
     },
     "execution_count": 7,
     "metadata": {},
     "output_type": "execute_result"
    },
    {
     "data": {
      "image/png": "[encoded data removed]",
      "text/plain": [
       "<Figure size 1040x910 with 1 Axes>"
      ]
     },
     "metadata": {},
     "output_type": "display_data"
    }
   ],
   "source": [
    "\n",
    "\n",
    "u = np.random.uniform(0,1, size=5000)\n",
    "\n",
    "draws = [func.from_unit_cube(x) for x in u]\n",
    "\n",
    "\n",
    "fig, ax = plt.subplots()\n",
    "\n",
    "\n",
    "ax.hist(draws, color=green, bins=50)\n",
    "\n",
    "ax.set_xlabel(\"value\")\n",
    "ax.set_ylabel(\"N\")\n",
    "\n"
   ]
  }
 ],
 "metadata": {
  "jupytext": {
   "formats": "ipynb,md"
  },
  "kernelspec": {
   "display_name": "Python 3 (ipykernel)",
   "language": "python",
   "name": "python3"
  },
  "language_info": {
   "codemirror_mode": {
    "name": "ipython",
    "version": 3
   },
   "file_extension": ".py",
   "mimetype": "text/x-python",
   "name": "python",
   "nbconvert_exporter": "python",
   "pygments_lexer": "ipython3",
   "version": "3.9.13"
  },
  "papermill": {
   "default_parameters": {},
   "duration": 4.448426,
   "end_time": "2025-09-26T18:53:52.449192",
   "environment_variables": {},
   "exception": null,
   "input_path": "Log_normal.ipynb",
   "output_path": "/Users/runner/work/astromodels/astromodels/docs/notebooks/Log_normal.ipynb",
   "parameters": {
    "func_name": "Log_normal",
    "positive_prior": true
   },
   "start_time": "2025-09-26T18:53:48.000766",
   "version": "2.6.0"
  }
 },
 "nbformat": 4,
 "nbformat_minor": 5
}
