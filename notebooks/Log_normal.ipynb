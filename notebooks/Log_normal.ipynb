{
 "cells": [
  {
   "cell_type": "markdown",
   "id": "40c0eaa7",
   "metadata": {
    "papermill": {
     "duration": 0.006903,
     "end_time": "2025-09-26T18:34:59.328325",
     "exception": false,
     "start_time": "2025-09-26T18:34:59.321422",
     "status": "completed"
    },
    "tags": []
   },
   "source": [
    "# Log normal"
   ]
  },
  {
   "cell_type": "code",
   "execution_count": 1,
   "id": "c427f477",
   "metadata": {
    "execution": {
     "iopub.execute_input": "2025-09-26T18:34:59.342008Z",
     "iopub.status.busy": "2025-09-26T18:34:59.341475Z",
     "iopub.status.idle": "2025-09-26T18:35:01.101101Z",
     "shell.execute_reply": "2025-09-26T18:35:01.100562Z"
    },
    "nbsphinx": "hidden",
    "papermill": {
     "duration": 1.767816,
     "end_time": "2025-09-26T18:35:01.102466",
     "exception": false,
     "start_time": "2025-09-26T18:34:59.334650",
     "status": "completed"
    },
    "tags": []
   },
   "outputs": [],
   "source": [
    "%%capture\n",
    "\n",
    "import numpy as np\n",
    "\n",
    "import matplotlib.pyplot as plt\n",
    "\n",
    "import warnings\n",
    "warnings.simplefilter(\"ignore\")\n",
    "\n",
    "from astromodels.functions.function import _known_functions\n",
    "\n",
    "\n",
    "from jupyterthemes import jtplot\n",
    "jtplot.style(context=\"talk\", fscale=1, ticks=True, grid=False)\n",
    "%matplotlib inline"
   ]
  },
  {
   "cell_type": "code",
   "execution_count": 2,
   "id": "d13c9cff",
   "metadata": {
    "execution": {
     "iopub.execute_input": "2025-09-26T18:35:01.105654Z",
     "iopub.status.busy": "2025-09-26T18:35:01.105357Z",
     "iopub.status.idle": "2025-09-26T18:35:01.107412Z",
     "shell.execute_reply": "2025-09-26T18:35:01.107048Z"
    },
    "nbsphinx": "hidden",
    "papermill": {
     "duration": 0.004658,
     "end_time": "2025-09-26T18:35:01.108438",
     "exception": false,
     "start_time": "2025-09-26T18:35:01.103780",
     "status": "completed"
    },
    "tags": [
     "parameters"
    ]
   },
   "outputs": [],
   "source": [
    "func_name = \"TbAbs\"\n",
    "\n",
    "positive_prior = False\n"
   ]
  },
  {
   "cell_type": "code",
   "execution_count": 3,
   "id": "7bccde07",
   "metadata": {
    "execution": {
     "iopub.execute_input": "2025-09-26T18:35:01.110986Z",
     "iopub.status.busy": "2025-09-26T18:35:01.110853Z",
     "iopub.status.idle": "2025-09-26T18:35:01.117751Z",
     "shell.execute_reply": "2025-09-26T18:35:01.117356Z"
    },
    "papermill": {
     "duration": 0.009363,
     "end_time": "2025-09-26T18:35:01.118805",
     "exception": false,
     "start_time": "2025-09-26T18:35:01.109442",
     "status": "completed"
    },
    "tags": [
     "injected-parameters"
    ]
   },
   "outputs": [],
   "source": [
    "# Parameters\n",
    "func_name = \"Log_normal\"\n",
    "positive_prior = True\n"
   ]
  },
  {
   "cell_type": "code",
   "execution_count": 4,
   "id": "917b9aac",
   "metadata": {
    "execution": {
     "iopub.execute_input": "2025-09-26T18:35:01.121383Z",
     "iopub.status.busy": "2025-09-26T18:35:01.121260Z",
     "iopub.status.idle": "2025-09-26T18:35:01.130104Z",
     "shell.execute_reply": "2025-09-26T18:35:01.129696Z"
    },
    "lines_to_next_cell": 0,
    "nbsphinx": "hidden",
    "papermill": {
     "duration": 0.011358,
     "end_time": "2025-09-26T18:35:01.131218",
     "exception": false,
     "start_time": "2025-09-26T18:35:01.119860",
     "status": "completed"
    },
    "tags": []
   },
   "outputs": [],
   "source": [
    "func = _known_functions[func_name]()\n",
    "\n",
    "if not positive_prior:\n",
    "\n",
    "\tenergy_grid = np.linspace(-5,5,1000)\n",
    "\n",
    "else:\n",
    "    \n",
    "    energy_grid = np.linspace(0,1,1000)\n",
    "    \n",
    "    \n",
    "    \n",
    "    \n",
    "blue = \"#4152E3\"\n",
    "red = \"#E3414B\"\n",
    "green = \"#41E39E\""
   ]
  },
  {
   "cell_type": "markdown",
   "id": "be82ebb2",
   "metadata": {
    "lines_to_next_cell": 0,
    "papermill": {
     "duration": 0.001017,
     "end_time": "2025-09-26T18:35:01.133328",
     "exception": false,
     "start_time": "2025-09-26T18:35:01.132311",
     "status": "completed"
    },
    "tags": []
   },
   "source": [
    "## Description"
   ]
  },
  {
   "cell_type": "code",
   "execution_count": 5,
   "id": "49084ac0",
   "metadata": {
    "execution": {
     "iopub.execute_input": "2025-09-26T18:35:01.135826Z",
     "iopub.status.busy": "2025-09-26T18:35:01.135692Z",
     "iopub.status.idle": "2025-09-26T18:35:01.145019Z",
     "shell.execute_reply": "2025-09-26T18:35:01.144595Z"
    },
    "papermill": {
     "duration": 0.011739,
     "end_time": "2025-09-26T18:35:01.146051",
     "exception": false,
     "start_time": "2025-09-26T18:35:01.134312",
     "status": "completed"
    },
    "tags": []
   },
   "outputs": [
    {
     "data": {
      "text/html": [
       "<ul>\n",
       "\n",
       "<li>description: A log normal function</li>\n",
       "\n",
       "<li>formula: $K\\frac{1}{x\\sigma\\sqrt{2\\pi}}\\exp{\\frac{(\\log x/piv-\\mu/piv)^2} {2~(\\sigma)^2}} $</li>\n",
       "\n",
       "<li>parameters: \n",
       "<ul>\n",
       "\n",
       "<li>F: \n",
       "<ul>\n",
       "\n",
       "<li>value: 1.0</li>\n",
       "\n",
       "<li>desc: Integral between 0and +inf. Fix this to 1 to obtain a log Normal distribution</li>\n",
       "\n",
       "<li>min_value: None</li>\n",
       "\n",
       "<li>max_value: None</li>\n",
       "\n",
       "<li>unit: </li>\n",
       "\n",
       "<li>is_normalization: False</li>\n",
       "\n",
       "<li>delta: 0.1</li>\n",
       "\n",
       "<li>free: True</li>\n",
       "\n",
       "</ul>\n",
       "\n",
       "</li>\n",
       "\n",
       "<li>mu: \n",
       "<ul>\n",
       "\n",
       "<li>value: 0.0</li>\n",
       "\n",
       "<li>desc: Central value</li>\n",
       "\n",
       "<li>min_value: None</li>\n",
       "\n",
       "<li>max_value: None</li>\n",
       "\n",
       "<li>unit: </li>\n",
       "\n",
       "<li>is_normalization: False</li>\n",
       "\n",
       "<li>delta: 0.1</li>\n",
       "\n",
       "<li>free: True</li>\n",
       "\n",
       "</ul>\n",
       "\n",
       "</li>\n",
       "\n",
       "<li>sigma: \n",
       "<ul>\n",
       "\n",
       "<li>value: 1.0</li>\n",
       "\n",
       "<li>desc: standard deviation</li>\n",
       "\n",
       "<li>min_value: 1e-12</li>\n",
       "\n",
       "<li>max_value: None</li>\n",
       "\n",
       "<li>unit: </li>\n",
       "\n",
       "<li>is_normalization: False</li>\n",
       "\n",
       "<li>delta: 0.1</li>\n",
       "\n",
       "<li>free: True</li>\n",
       "\n",
       "</ul>\n",
       "\n",
       "</li>\n",
       "\n",
       "<li>piv: \n",
       "<ul>\n",
       "\n",
       "<li>value: 1.0</li>\n",
       "\n",
       "<li>desc: pivot. Leave this to 1 for a proper log normal distribution</li>\n",
       "\n",
       "<li>min_value: None</li>\n",
       "\n",
       "<li>max_value: None</li>\n",
       "\n",
       "<li>unit: </li>\n",
       "\n",
       "<li>is_normalization: False</li>\n",
       "\n",
       "<li>delta: 0.1</li>\n",
       "\n",
       "<li>free: False</li>\n",
       "\n",
       "</ul>\n",
       "\n",
       "</li>\n",
       "\n",
       "</ul>\n",
       "\n",
       "</li>\n",
       "\n",
       "</ul>\n"
      ],
      "text/plain": [
       "  * description: A log normal function\n",
       "  * formula: $K\\frac{1}{x\\sigma\\sqrt{2\\pi}}\\exp{\\frac{(\\log x/piv-\\mu/piv)^2} {2~(\\sigma)^2}}\n",
       "    * $\n",
       "  * parameters:\n",
       "    * F:\n",
       "      * value: 1.0\n",
       "      * desc: Integral between 0and +inf. Fix this to 1 to obtain a log Normal distribution\n",
       "      * min_value: null\n",
       "      * max_value: null\n",
       "      * unit: ''\n",
       "      * is_normalization: false\n",
       "      * delta: 0.1\n",
       "      * free: true\n",
       "    * mu:\n",
       "      * value: 0.0\n",
       "      * desc: Central value\n",
       "      * min_value: null\n",
       "      * max_value: null\n",
       "      * unit: ''\n",
       "      * is_normalization: false\n",
       "      * delta: 0.1\n",
       "      * free: true\n",
       "    * sigma:\n",
       "      * value: 1.0\n",
       "      * desc: standard deviation\n",
       "      * min_value: 1.0e-12\n",
       "      * max_value: null\n",
       "      * unit: ''\n",
       "      * is_normalization: false\n",
       "      * delta: 0.1\n",
       "      * free: true\n",
       "    * piv:\n",
       "      * value: 1.0\n",
       "      * desc: pivot. Leave this to 1 for a proper log normal distribution\n",
       "      * min_value: null\n",
       "      * max_value: null\n",
       "      * unit: ''\n",
       "      * is_normalization: false\n",
       "      * delta: 0.1\n",
       "      * free: false"
      ]
     },
     "metadata": {},
     "output_type": "display_data"
    }
   ],
   "source": [
    "func.display()"
   ]
  },
  {
   "cell_type": "markdown",
   "id": "0d695286",
   "metadata": {
    "papermill": {
     "duration": 0.001217,
     "end_time": "2025-09-26T18:35:01.148481",
     "exception": false,
     "start_time": "2025-09-26T18:35:01.147264",
     "status": "completed"
    },
    "tags": []
   },
   "source": [
    "## Shape \n",
    "\n",
    "The shape of the function. \n",
    "\n",
    "*If this is not a photon model but a prior or linear function then ignore the units as these docs are auto-generated*"
   ]
  },
  {
   "cell_type": "code",
   "execution_count": 6,
   "id": "7900703f",
   "metadata": {
    "execution": {
     "iopub.execute_input": "2025-09-26T18:35:01.151252Z",
     "iopub.status.busy": "2025-09-26T18:35:01.151120Z",
     "iopub.status.idle": "2025-09-26T18:35:01.234810Z",
     "shell.execute_reply": "2025-09-26T18:35:01.234371Z"
    },
    "papermill": {
     "duration": 0.086324,
     "end_time": "2025-09-26T18:35:01.235949",
     "exception": false,
     "start_time": "2025-09-26T18:35:01.149625",
     "status": "completed"
    },
    "tags": [
     "nbsphinx-thumbnail"
    ]
   },
   "outputs": [
    {
     "data": {
      "text/plain": [
       "Text(0, 0.5, 'probability')"
      ]
     },
     "execution_count": 6,
     "metadata": {},
     "output_type": "execute_result"
    },
    {
     "data": {
      "image/png": "[encoded data removed]",
      "text/plain": [
       "<Figure size 1040x910 with 1 Axes>"
      ]
     },
     "metadata": {},
     "output_type": "display_data"
    }
   ],
   "source": [
    "fig, ax = plt.subplots()\n",
    "\n",
    "\n",
    "ax.plot(energy_grid, func(energy_grid), color=blue, lw=3)\n",
    "\n",
    "ax.set_xlabel(\"x\")\n",
    "ax.set_ylabel(\"probability\")\n"
   ]
  },
  {
   "cell_type": "markdown",
   "id": "c0fa61a1",
   "metadata": {
    "papermill": {
     "duration": 0.00143,
     "end_time": "2025-09-26T18:35:01.239055",
     "exception": false,
     "start_time": "2025-09-26T18:35:01.237625",
     "status": "completed"
    },
    "tags": []
   },
   "source": [
    "## Random Number Generation\n",
    "\n",
    "This is how we can generate random numbers from the prior.\n"
   ]
  },
  {
   "cell_type": "code",
   "execution_count": 7,
   "id": "bd3f1207",
   "metadata": {
    "execution": {
     "iopub.execute_input": "2025-09-26T18:35:01.242592Z",
     "iopub.status.busy": "2025-09-26T18:35:01.242457Z",
     "iopub.status.idle": "2025-09-26T18:35:01.346895Z",
     "shell.execute_reply": "2025-09-26T18:35:01.346512Z"
    },
    "papermill": {
     "duration": 0.107636,
     "end_time": "2025-09-26T18:35:01.348169",
     "exception": false,
     "start_time": "2025-09-26T18:35:01.240533",
     "status": "completed"
    },
    "tags": []
   },
   "outputs": [
    {
     "data": {
      "text/plain": [
       "Text(0, 0.5, 'N')"
      ]
     },
     "execution_count": 7,
     "metadata": {},
     "output_type": "execute_result"
    },
    {
     "data": {
      "image/png": "[encoded data removed]",
      "text/plain": [
       "<Figure size 1040x910 with 1 Axes>"
      ]
     },
     "metadata": {},
     "output_type": "display_data"
    }
   ],
   "source": [
    "\n",
    "\n",
    "u = np.random.uniform(0,1, size=5000)\n",
    "\n",
    "draws = [func.from_unit_cube(x) for x in u]\n",
    "\n",
    "\n",
    "fig, ax = plt.subplots()\n",
    "\n",
    "\n",
    "ax.hist(draws, color=green, bins=50)\n",
    "\n",
    "ax.set_xlabel(\"value\")\n",
    "ax.set_ylabel(\"N\")\n",
    "\n"
   ]
  }
 ],
 "metadata": {
  "jupytext": {
   "formats": "ipynb,md"
  },
  "kernelspec": {
   "display_name": "Python 3 (ipykernel)",
   "language": "python",
   "name": "python3"
  },
  "language_info": {
   "codemirror_mode": {
    "name": "ipython",
    "version": 3
   },
   "file_extension": ".py",
   "mimetype": "text/x-python",
   "name": "python",
   "nbconvert_exporter": "python",
   "pygments_lexer": "ipython3",
   "version": "3.9.13"
  },
  "papermill": {
   "default_parameters": {},
   "duration": 3.191056,
   "end_time": "2025-09-26T18:35:01.686963",
   "environment_variables": {},
   "exception": null,
   "input_path": "Log_normal.ipynb",
   "output_path": "/Users/runner/work/astromodels/astromodels/docs/notebooks/Log_normal.ipynb",
   "parameters": {
    "func_name": "Log_normal",
    "positive_prior": true
   },
   "start_time": "2025-09-26T18:34:58.495907",
   "version": "2.6.0"
  }
 },
 "nbformat": 4,
 "nbformat_minor": 5
}
