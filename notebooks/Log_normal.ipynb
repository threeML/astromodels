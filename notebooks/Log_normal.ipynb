{
 "cells": [
  {
   "cell_type": "markdown",
   "id": "71d7c378",
   "metadata": {
    "papermill": {
     "duration": 0.001546,
     "end_time": "2025-09-23T21:48:38.181565",
     "exception": false,
     "start_time": "2025-09-23T21:48:38.180019",
     "status": "completed"
    },
    "tags": []
   },
   "source": [
    "# Log normal"
   ]
  },
  {
   "cell_type": "code",
   "execution_count": 1,
   "id": "28912618",
   "metadata": {
    "execution": {
     "iopub.execute_input": "2025-09-23T21:48:38.184906Z",
     "iopub.status.busy": "2025-09-23T21:48:38.184725Z",
     "iopub.status.idle": "2025-09-23T21:48:40.416260Z",
     "shell.execute_reply": "2025-09-23T21:48:40.415448Z"
    },
    "nbsphinx": "hidden",
    "papermill": {
     "duration": 2.234923,
     "end_time": "2025-09-23T21:48:40.417760",
     "exception": false,
     "start_time": "2025-09-23T21:48:38.182837",
     "status": "completed"
    },
    "tags": []
   },
   "outputs": [],
   "source": [
    "%%capture\n",
    "\n",
    "import numpy as np\n",
    "\n",
    "import matplotlib.pyplot as plt\n",
    "\n",
    "import warnings\n",
    "warnings.simplefilter(\"ignore\")\n",
    "\n",
    "from astromodels.functions.function import _known_functions\n",
    "\n",
    "\n",
    "from jupyterthemes import jtplot\n",
    "jtplot.style(context=\"talk\", fscale=1, ticks=True, grid=False)\n",
    "%matplotlib inline"
   ]
  },
  {
   "cell_type": "code",
   "execution_count": 2,
   "id": "bef4f5ae",
   "metadata": {
    "execution": {
     "iopub.execute_input": "2025-09-23T21:48:40.421332Z",
     "iopub.status.busy": "2025-09-23T21:48:40.420954Z",
     "iopub.status.idle": "2025-09-23T21:48:40.423366Z",
     "shell.execute_reply": "2025-09-23T21:48:40.422970Z"
    },
    "nbsphinx": "hidden",
    "papermill": {
     "duration": 0.005321,
     "end_time": "2025-09-23T21:48:40.424419",
     "exception": false,
     "start_time": "2025-09-23T21:48:40.419098",
     "status": "completed"
    },
    "tags": [
     "parameters"
    ]
   },
   "outputs": [],
   "source": [
    "func_name = \"TbAbs\"\n",
    "\n",
    "positive_prior = False\n"
   ]
  },
  {
   "cell_type": "code",
   "execution_count": 3,
   "id": "de89748c",
   "metadata": {
    "execution": {
     "iopub.execute_input": "2025-09-23T21:48:40.427849Z",
     "iopub.status.busy": "2025-09-23T21:48:40.427614Z",
     "iopub.status.idle": "2025-09-23T21:48:40.431489Z",
     "shell.execute_reply": "2025-09-23T21:48:40.431069Z"
    },
    "papermill": {
     "duration": 0.006914,
     "end_time": "2025-09-23T21:48:40.432594",
     "exception": false,
     "start_time": "2025-09-23T21:48:40.425680",
     "status": "completed"
    },
    "tags": [
     "injected-parameters"
    ]
   },
   "outputs": [],
   "source": [
    "# Parameters\n",
    "func_name = \"Log_normal\"\n",
    "positive_prior = True\n"
   ]
  },
  {
   "cell_type": "code",
   "execution_count": 4,
   "id": "e9a2b8a1",
   "metadata": {
    "execution": {
     "iopub.execute_input": "2025-09-23T21:48:40.435573Z",
     "iopub.status.busy": "2025-09-23T21:48:40.435417Z",
     "iopub.status.idle": "2025-09-23T21:48:40.438435Z",
     "shell.execute_reply": "2025-09-23T21:48:40.438015Z"
    },
    "lines_to_next_cell": 0,
    "nbsphinx": "hidden",
    "papermill": {
     "duration": 0.005646,
     "end_time": "2025-09-23T21:48:40.439472",
     "exception": false,
     "start_time": "2025-09-23T21:48:40.433826",
     "status": "completed"
    },
    "tags": []
   },
   "outputs": [],
   "source": [
    "func = _known_functions[func_name]()\n",
    "\n",
    "if not positive_prior:\n",
    "\n",
    "\tenergy_grid = np.linspace(-5,5,1000)\n",
    "\n",
    "else:\n",
    "    \n",
    "    energy_grid = np.linspace(0,1,1000)\n",
    "    \n",
    "    \n",
    "    \n",
    "    \n",
    "blue = \"#4152E3\"\n",
    "red = \"#E3414B\"\n",
    "green = \"#41E39E\""
   ]
  },
  {
   "cell_type": "markdown",
   "id": "169576fa",
   "metadata": {
    "lines_to_next_cell": 0,
    "papermill": {
     "duration": 0.001114,
     "end_time": "2025-09-23T21:48:40.441875",
     "exception": false,
     "start_time": "2025-09-23T21:48:40.440761",
     "status": "completed"
    },
    "tags": []
   },
   "source": [
    "## Description"
   ]
  },
  {
   "cell_type": "code",
   "execution_count": 5,
   "id": "230abb36",
   "metadata": {
    "execution": {
     "iopub.execute_input": "2025-09-23T21:48:40.444935Z",
     "iopub.status.busy": "2025-09-23T21:48:40.444762Z",
     "iopub.status.idle": "2025-09-23T21:48:40.449918Z",
     "shell.execute_reply": "2025-09-23T21:48:40.449523Z"
    },
    "papermill": {
     "duration": 0.00815,
     "end_time": "2025-09-23T21:48:40.451175",
     "exception": false,
     "start_time": "2025-09-23T21:48:40.443025",
     "status": "completed"
    },
    "tags": []
   },
   "outputs": [
    {
     "data": {
      "text/html": [
       "<ul>\n",
       "\n",
       "<li>description: A log normal function</li>\n",
       "\n",
       "<li>formula: $K\\frac{1}{x\\sigma\\sqrt{2\\pi}}\\exp{\\frac{(\\log x/piv-\\mu/piv)^2} {2~(\\sigma)^2}} $</li>\n",
       "\n",
       "<li>parameters: \n",
       "<ul>\n",
       "\n",
       "<li>F: \n",
       "<ul>\n",
       "\n",
       "<li>value: 1.0</li>\n",
       "\n",
       "<li>desc: Integral between 0and +inf. Fix this to 1 to obtain a log Normal distribution</li>\n",
       "\n",
       "<li>min_value: None</li>\n",
       "\n",
       "<li>max_value: None</li>\n",
       "\n",
       "<li>unit: </li>\n",
       "\n",
       "<li>is_normalization: False</li>\n",
       "\n",
       "<li>delta: 0.1</li>\n",
       "\n",
       "<li>free: True</li>\n",
       "\n",
       "</ul>\n",
       "\n",
       "</li>\n",
       "\n",
       "<li>mu: \n",
       "<ul>\n",
       "\n",
       "<li>value: 0.0</li>\n",
       "\n",
       "<li>desc: Central value</li>\n",
       "\n",
       "<li>min_value: None</li>\n",
       "\n",
       "<li>max_value: None</li>\n",
       "\n",
       "<li>unit: </li>\n",
       "\n",
       "<li>is_normalization: False</li>\n",
       "\n",
       "<li>delta: 0.1</li>\n",
       "\n",
       "<li>free: True</li>\n",
       "\n",
       "</ul>\n",
       "\n",
       "</li>\n",
       "\n",
       "<li>sigma: \n",
       "<ul>\n",
       "\n",
       "<li>value: 1.0</li>\n",
       "\n",
       "<li>desc: standard deviation</li>\n",
       "\n",
       "<li>min_value: 1e-12</li>\n",
       "\n",
       "<li>max_value: None</li>\n",
       "\n",
       "<li>unit: </li>\n",
       "\n",
       "<li>is_normalization: False</li>\n",
       "\n",
       "<li>delta: 0.1</li>\n",
       "\n",
       "<li>free: True</li>\n",
       "\n",
       "</ul>\n",
       "\n",
       "</li>\n",
       "\n",
       "<li>piv: \n",
       "<ul>\n",
       "\n",
       "<li>value: 1.0</li>\n",
       "\n",
       "<li>desc: pivot. Leave this to 1 for a proper log normal distribution</li>\n",
       "\n",
       "<li>min_value: None</li>\n",
       "\n",
       "<li>max_value: None</li>\n",
       "\n",
       "<li>unit: </li>\n",
       "\n",
       "<li>is_normalization: False</li>\n",
       "\n",
       "<li>delta: 0.1</li>\n",
       "\n",
       "<li>free: False</li>\n",
       "\n",
       "</ul>\n",
       "\n",
       "</li>\n",
       "\n",
       "</ul>\n",
       "\n",
       "</li>\n",
       "\n",
       "</ul>\n"
      ],
      "text/plain": [
       "  * description: A log normal function\n",
       "  * formula: $K\\frac{1}{x\\sigma\\sqrt{2\\pi}}\\exp{\\frac{(\\log x/piv-\\mu/piv)^2} {2~(\\sigma)^2}}\n",
       "    * $\n",
       "  * parameters:\n",
       "    * F:\n",
       "      * value: 1.0\n",
       "      * desc: Integral between 0and +inf. Fix this to 1 to obtain a log Normal distribution\n",
       "      * min_value: null\n",
       "      * max_value: null\n",
       "      * unit: ''\n",
       "      * is_normalization: false\n",
       "      * delta: 0.1\n",
       "      * free: true\n",
       "    * mu:\n",
       "      * value: 0.0\n",
       "      * desc: Central value\n",
       "      * min_value: null\n",
       "      * max_value: null\n",
       "      * unit: ''\n",
       "      * is_normalization: false\n",
       "      * delta: 0.1\n",
       "      * free: true\n",
       "    * sigma:\n",
       "      * value: 1.0\n",
       "      * desc: standard deviation\n",
       "      * min_value: 1.0e-12\n",
       "      * max_value: null\n",
       "      * unit: ''\n",
       "      * is_normalization: false\n",
       "      * delta: 0.1\n",
       "      * free: true\n",
       "    * piv:\n",
       "      * value: 1.0\n",
       "      * desc: pivot. Leave this to 1 for a proper log normal distribution\n",
       "      * min_value: null\n",
       "      * max_value: null\n",
       "      * unit: ''\n",
       "      * is_normalization: false\n",
       "      * delta: 0.1\n",
       "      * free: false"
      ]
     },
     "metadata": {},
     "output_type": "display_data"
    }
   ],
   "source": [
    "func.display()"
   ]
  },
  {
   "cell_type": "markdown",
   "id": "3695a7bb",
   "metadata": {
    "papermill": {
     "duration": 0.001258,
     "end_time": "2025-09-23T21:48:40.453937",
     "exception": false,
     "start_time": "2025-09-23T21:48:40.452679",
     "status": "completed"
    },
    "tags": []
   },
   "source": [
    "## Shape \n",
    "\n",
    "The shape of the function. \n",
    "\n",
    "*If this is not a photon model but a prior or linear function then ignore the units as these docs are auto-generated*"
   ]
  },
  {
   "cell_type": "code",
   "execution_count": 6,
   "id": "4f37338a",
   "metadata": {
    "execution": {
     "iopub.execute_input": "2025-09-23T21:48:40.457588Z",
     "iopub.status.busy": "2025-09-23T21:48:40.457320Z",
     "iopub.status.idle": "2025-09-23T21:48:40.574546Z",
     "shell.execute_reply": "2025-09-23T21:48:40.574081Z"
    },
    "papermill": {
     "duration": 0.136882,
     "end_time": "2025-09-23T21:48:40.592053",
     "exception": false,
     "start_time": "2025-09-23T21:48:40.455171",
     "status": "completed"
    },
    "tags": [
     "nbsphinx-thumbnail"
    ]
   },
   "outputs": [
    {
     "data": {
      "text/plain": [
       "Text(0, 0.5, 'probability')"
      ]
     },
     "execution_count": 6,
     "metadata": {},
     "output_type": "execute_result"
    },
    {
     "data": {
      "image/png": "[encoded data removed]",
      "text/plain": [
       "<Figure size 1040x910 with 1 Axes>"
      ]
     },
     "metadata": {},
     "output_type": "display_data"
    }
   ],
   "source": [
    "fig, ax = plt.subplots()\n",
    "\n",
    "\n",
    "ax.plot(energy_grid, func(energy_grid), color=blue, lw=3)\n",
    "\n",
    "ax.set_xlabel(\"x\")\n",
    "ax.set_ylabel(\"probability\")\n"
   ]
  },
  {
   "cell_type": "markdown",
   "id": "a84f26b7",
   "metadata": {
    "papermill": {
     "duration": 0.004029,
     "end_time": "2025-09-23T21:48:40.597808",
     "exception": false,
     "start_time": "2025-09-23T21:48:40.593779",
     "status": "completed"
    },
    "tags": []
   },
   "source": [
    "## Random Number Generation\n",
    "\n",
    "This is how we can generate random numbers from the prior.\n"
   ]
  },
  {
   "cell_type": "code",
   "execution_count": 7,
   "id": "5ba7c7d0",
   "metadata": {
    "execution": {
     "iopub.execute_input": "2025-09-23T21:48:40.602736Z",
     "iopub.status.busy": "2025-09-23T21:48:40.602570Z",
     "iopub.status.idle": "2025-09-23T21:48:40.790876Z",
     "shell.execute_reply": "2025-09-23T21:48:40.790376Z"
    },
    "papermill": {
     "duration": 0.192723,
     "end_time": "2025-09-23T21:48:40.791958",
     "exception": false,
     "start_time": "2025-09-23T21:48:40.599235",
     "status": "completed"
    },
    "tags": []
   },
   "outputs": [
    {
     "data": {
      "text/plain": [
       "Text(0, 0.5, 'N')"
      ]
     },
     "execution_count": 7,
     "metadata": {},
     "output_type": "execute_result"
    },
    {
     "data": {
      "image/png": "[encoded data removed]",
      "text/plain": [
       "<Figure size 1040x910 with 1 Axes>"
      ]
     },
     "metadata": {},
     "output_type": "display_data"
    }
   ],
   "source": [
    "\n",
    "\n",
    "u = np.random.uniform(0,1, size=5000)\n",
    "\n",
    "draws = [func.from_unit_cube(x) for x in u]\n",
    "\n",
    "\n",
    "fig, ax = plt.subplots()\n",
    "\n",
    "\n",
    "ax.hist(draws, color=green, bins=50)\n",
    "\n",
    "ax.set_xlabel(\"value\")\n",
    "ax.set_ylabel(\"N\")\n",
    "\n"
   ]
  }
 ],
 "metadata": {
  "jupytext": {
   "formats": "ipynb,md"
  },
  "kernelspec": {
   "display_name": "Python 3 (ipykernel)",
   "language": "python",
   "name": "python3"
  },
  "language_info": {
   "codemirror_mode": {
    "name": "ipython",
    "version": 3
   },
   "file_extension": ".py",
   "mimetype": "text/x-python",
   "name": "python",
   "nbconvert_exporter": "python",
   "pygments_lexer": "ipython3",
   "version": "3.9.13"
  },
  "papermill": {
   "default_parameters": {},
   "duration": 3.640212,
   "end_time": "2025-09-23T21:48:41.221639",
   "environment_variables": {},
   "exception": null,
   "input_path": "Log_normal.ipynb",
   "output_path": "/Users/runner/work/astromodels/astromodels/docs/notebooks/Log_normal.ipynb",
   "parameters": {
    "func_name": "Log_normal",
    "positive_prior": true
   },
   "start_time": "2025-09-23T21:48:37.581427",
   "version": "2.6.0"
  }
 },
 "nbformat": 4,
 "nbformat_minor": 5
}
