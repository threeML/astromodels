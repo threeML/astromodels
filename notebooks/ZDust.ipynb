{
 "cells": [
  {
   "cell_type": "markdown",
   "id": "7294fcc0",
   "metadata": {
    "papermill": {
     "duration": 0.007278,
     "end_time": "2025-09-27T03:48:39.830467",
     "exception": false,
     "start_time": "2025-09-27T03:48:39.823189",
     "status": "completed"
    },
    "tags": []
   },
   "source": [
    "# ZDust"
   ]
  },
  {
   "cell_type": "code",
   "execution_count": 1,
   "id": "d37fc305",
   "metadata": {
    "execution": {
     "iopub.execute_input": "2025-09-27T03:48:39.846703Z",
     "iopub.status.busy": "2025-09-27T03:48:39.846072Z",
     "iopub.status.idle": "2025-09-27T03:48:43.022773Z",
     "shell.execute_reply": "2025-09-27T03:48:43.021534Z"
    },
    "nbsphinx": "hidden",
    "papermill": {
     "duration": 3.187037,
     "end_time": "2025-09-27T03:48:43.024602",
     "exception": false,
     "start_time": "2025-09-27T03:48:39.837565",
     "status": "completed"
    },
    "tags": []
   },
   "outputs": [],
   "source": [
    "%%capture\n",
    "\n",
    "import numpy as np\n",
    "\n",
    "import matplotlib.pyplot as plt\n",
    "\n",
    "import warnings\n",
    "warnings.simplefilter(\"ignore\")\n",
    "\n",
    "from astromodels.functions.function import _known_functions\n",
    "\n",
    "\n",
    "from jupyterthemes import jtplot\n",
    "jtplot.style(context=\"talk\", fscale=1, ticks=True, grid=False)\n",
    "%matplotlib inline"
   ]
  },
  {
   "cell_type": "code",
   "execution_count": 2,
   "id": "a2c56c54",
   "metadata": {
    "execution": {
     "iopub.execute_input": "2025-09-27T03:48:43.029286Z",
     "iopub.status.busy": "2025-09-27T03:48:43.028773Z",
     "iopub.status.idle": "2025-09-27T03:48:43.035210Z",
     "shell.execute_reply": "2025-09-27T03:48:43.034010Z"
    },
    "nbsphinx": "hidden",
    "papermill": {
     "duration": 0.010909,
     "end_time": "2025-09-27T03:48:43.037191",
     "exception": false,
     "start_time": "2025-09-27T03:48:43.026282",
     "status": "completed"
    },
    "tags": [
     "parameters"
    ]
   },
   "outputs": [],
   "source": [
    "func_name = \"TbAbs\"\n",
    "\n",
    "x_scale=\"log\"\n",
    "y_scale=\"log\"\n",
    "\n",
    "linear_range = False\n",
    "\n",
    "wide_energy_range = False"
   ]
  },
  {
   "cell_type": "code",
   "execution_count": 3,
   "id": "cb9245cb",
   "metadata": {
    "execution": {
     "iopub.execute_input": "2025-09-27T03:48:43.042453Z",
     "iopub.status.busy": "2025-09-27T03:48:43.041952Z",
     "iopub.status.idle": "2025-09-27T03:48:43.050926Z",
     "shell.execute_reply": "2025-09-27T03:48:43.050103Z"
    },
    "papermill": {
     "duration": 0.01373,
     "end_time": "2025-09-27T03:48:43.052643",
     "exception": false,
     "start_time": "2025-09-27T03:48:43.038913",
     "status": "completed"
    },
    "tags": [
     "injected-parameters"
    ]
   },
   "outputs": [],
   "source": [
    "# Parameters\n",
    "func_name = \"ZDust\"\n",
    "wide_energy_range = True\n",
    "x_scale = \"log\"\n",
    "y_scale = \"log\"\n",
    "linear_range = False\n"
   ]
  },
  {
   "cell_type": "code",
   "execution_count": 4,
   "id": "efae3f73",
   "metadata": {
    "execution": {
     "iopub.execute_input": "2025-09-27T03:48:43.060359Z",
     "iopub.status.busy": "2025-09-27T03:48:43.060153Z",
     "iopub.status.idle": "2025-09-27T03:48:43.069084Z",
     "shell.execute_reply": "2025-09-27T03:48:43.068007Z"
    },
    "lines_to_next_cell": 0,
    "nbsphinx": "hidden",
    "papermill": {
     "duration": 0.013004,
     "end_time": "2025-09-27T03:48:43.070564",
     "exception": false,
     "start_time": "2025-09-27T03:48:43.057560",
     "status": "completed"
    },
    "tags": []
   },
   "outputs": [],
   "source": [
    "func = _known_functions[func_name]()\n",
    "\n",
    "if wide_energy_range:\n",
    "\n",
    "    energy_grid = np.geomspace(1e2,1e4,500)\n",
    "    \n",
    "else:\n",
    "    \n",
    "    energy_grid = np.geomspace(2e-1,1e1,1000)\n",
    "\n",
    "if linear_range:\n",
    "\n",
    "\tenergy_grid = np.linspace(-5,5,1000)\n",
    "\n",
    "    \n",
    "blue = \"#4152E3\"\n",
    "red = \"#E3414B\"\n",
    "green = \"#41E39E\""
   ]
  },
  {
   "cell_type": "markdown",
   "id": "ada105d7",
   "metadata": {
    "lines_to_next_cell": 0,
    "papermill": {
     "duration": 0.001391,
     "end_time": "2025-09-27T03:48:43.073612",
     "exception": false,
     "start_time": "2025-09-27T03:48:43.072221",
     "status": "completed"
    },
    "tags": []
   },
   "source": [
    "## Description"
   ]
  },
  {
   "cell_type": "code",
   "execution_count": 5,
   "id": "e0c9dcc3",
   "metadata": {
    "execution": {
     "iopub.execute_input": "2025-09-27T03:48:43.077638Z",
     "iopub.status.busy": "2025-09-27T03:48:43.077147Z",
     "iopub.status.idle": "2025-09-27T03:48:43.085368Z",
     "shell.execute_reply": "2025-09-27T03:48:43.084792Z"
    },
    "papermill": {
     "duration": 0.011723,
     "end_time": "2025-09-27T03:48:43.086618",
     "exception": false,
     "start_time": "2025-09-27T03:48:43.074895",
     "status": "completed"
    },
    "tags": []
   },
   "outputs": [
    {
     "data": {
      "text/html": [
       "<ul>\n",
       "\n",
       "<li>description: Extinction by dust grains from Pei (1992), suitable for IR, optical and UV energy bands, including the full energy ranges of the Swift UVOT and XMM-Newton OM detectors. Three models are included which characterize the extinction curves of (1) the Milky Way, (2) the LMC and (3) the SMC. The models can be modified by redshift and can therefore be applied to extragalactic sources. The transmission is set to unity shortward of 912 Angstroms in the rest frame of the dust. This is incorrect physically but does allow the model to be used in combination with an X-ray photoelectric absorption model such as phabs. Parameter 1 (method) describes which extinction curve (MW, LMC or SMC) will be constructed and should never be allowed to float during a fit. The extinction at V, A(V) = E(B-V) x Rv. Rv should typically remain frozen for a fit. Standard values for Rv are MW = 3.08, LMC = 3.16 and SMC = 2.93 (from table 2 of Pei 1992), although these may not be applicable to more distant dusty sources.</li>\n",
       "\n",
       "<li>formula: $n.a.$</li>\n",
       "\n",
       "<li>parameters: \n",
       "<ul>\n",
       "\n",
       "<li>e_bmv: \n",
       "<ul>\n",
       "\n",
       "<li>value: 1.0</li>\n",
       "\n",
       "<li>desc: color excess</li>\n",
       "\n",
       "<li>min_value: 0.0</li>\n",
       "\n",
       "<li>max_value: None</li>\n",
       "\n",
       "<li>unit: </li>\n",
       "\n",
       "<li>is_normalization: False</li>\n",
       "\n",
       "<li>delta: 0.1</li>\n",
       "\n",
       "<li>free: True</li>\n",
       "\n",
       "</ul>\n",
       "\n",
       "</li>\n",
       "\n",
       "<li>rv: \n",
       "<ul>\n",
       "\n",
       "<li>value: 3.08</li>\n",
       "\n",
       "<li>desc: ratio of total to selective extinction</li>\n",
       "\n",
       "<li>min_value: None</li>\n",
       "\n",
       "<li>max_value: None</li>\n",
       "\n",
       "<li>unit: </li>\n",
       "\n",
       "<li>is_normalization: False</li>\n",
       "\n",
       "<li>delta: 0.1</li>\n",
       "\n",
       "<li>free: False</li>\n",
       "\n",
       "</ul>\n",
       "\n",
       "</li>\n",
       "\n",
       "<li>redshift: \n",
       "<ul>\n",
       "\n",
       "<li>value: 0.0</li>\n",
       "\n",
       "<li>desc: the redshift of the source</li>\n",
       "\n",
       "<li>min_value: 0.0</li>\n",
       "\n",
       "<li>max_value: 15.0</li>\n",
       "\n",
       "<li>unit: </li>\n",
       "\n",
       "<li>is_normalization: False</li>\n",
       "\n",
       "<li>delta: 0.1</li>\n",
       "\n",
       "<li>free: False</li>\n",
       "\n",
       "</ul>\n",
       "\n",
       "</li>\n",
       "\n",
       "<li>extinction_law: \n",
       "<ul>\n",
       "\n",
       "<li>value: mw</li>\n",
       "\n",
       "<li>desc: the abundance table for the model</li>\n",
       "\n",
       "<li>allowed values: ['mw', 'lmc', 'smc']</li>\n",
       "\n",
       "<li>defer: False</li>\n",
       "\n",
       "<li>function: _set_extinction_law</li>\n",
       "\n",
       "</ul>\n",
       "\n",
       "</li>\n",
       "\n",
       "</ul>\n",
       "\n",
       "</li>\n",
       "\n",
       "</ul>\n"
      ],
      "text/plain": [
       "  * description: Extinction by dust grains from Pei (1992), suitable for IR, optical and\n",
       "    * UV energy bands, including the full energy ranges of the Swift UVOT and XMM-Newton\n",
       "    * OM detectors. Three models are included which characterize the extinction curves\n",
       "    * of (1) the Milky Way, (2) the LMC and (3) the SMC. The models can be modified by\n",
       "    * redshift and can therefore be applied to extragalactic sources. The transmission\n",
       "    * is set to unity shortward of 912 Angstroms in the rest frame of the dust. This is\n",
       "    * incorrect physically but does allow the model to be used in combination with an\n",
       "    * X-ray photoelectric absorption model such as phabs. Parameter 1 (method) describes\n",
       "    * which extinction curve (MW, LMC or SMC) will be constructed and should never be\n",
       "    * allowed to float during a fit. The extinction at V, A(V) = E(B-V) x Rv. Rv should\n",
       "    * typically remain frozen for a fit. Standard values for Rv are MW = 3.08, LMC = 3.16\n",
       "    * and SMC = 2.93 (from table 2 of Pei 1992), although these may not be applicable\n",
       "    * to more distant dusty sources.\n",
       "  * formula: $n.a.$\n",
       "  * parameters:\n",
       "    * e_bmv:\n",
       "      * value: 1.0\n",
       "      * desc: color excess\n",
       "      * min_value: 0.0\n",
       "      * max_value: null\n",
       "      * unit: ''\n",
       "      * is_normalization: false\n",
       "      * delta: 0.1\n",
       "      * free: true\n",
       "    * rv:\n",
       "      * value: 3.08\n",
       "      * desc: ratio of total to selective extinction\n",
       "      * min_value: null\n",
       "      * max_value: null\n",
       "      * unit: ''\n",
       "      * is_normalization: false\n",
       "      * delta: 0.1\n",
       "      * free: false\n",
       "    * redshift:\n",
       "      * value: 0.0\n",
       "      * desc: the redshift of the source\n",
       "      * min_value: 0.0\n",
       "      * max_value: 15.0\n",
       "      * unit: ''\n",
       "      * is_normalization: false\n",
       "      * delta: 0.1\n",
       "      * free: false\n",
       "    * extinction_law:\n",
       "      * value: mw\n",
       "      * desc: the abundance table for the model\n",
       "      * allowed values:\n",
       "      * - mw\n",
       "      * - lmc\n",
       "      * - smc\n",
       "      * defer: false\n",
       "      * function: _set_extinction_law"
      ]
     },
     "metadata": {},
     "output_type": "display_data"
    }
   ],
   "source": [
    "func.display()"
   ]
  },
  {
   "cell_type": "markdown",
   "id": "e0088527",
   "metadata": {
    "papermill": {
     "duration": 0.001725,
     "end_time": "2025-09-27T03:48:43.090081",
     "exception": false,
     "start_time": "2025-09-27T03:48:43.088356",
     "status": "completed"
    },
    "tags": []
   },
   "source": [
    "## Shape \n",
    "\n",
    "The shape of the function. \n",
    "\n",
    "*If this is not a photon model but a prior or linear function then ignore the units as these docs are auto-generated*"
   ]
  },
  {
   "cell_type": "code",
   "execution_count": 6,
   "id": "3787930b",
   "metadata": {
    "execution": {
     "iopub.execute_input": "2025-09-27T03:48:43.094223Z",
     "iopub.status.busy": "2025-09-27T03:48:43.094023Z",
     "iopub.status.idle": "2025-09-27T03:48:44.198335Z",
     "shell.execute_reply": "2025-09-27T03:48:44.197273Z"
    },
    "papermill": {
     "duration": 1.109272,
     "end_time": "2025-09-27T03:48:44.200914",
     "exception": false,
     "start_time": "2025-09-27T03:48:43.091642",
     "status": "completed"
    },
    "tags": [
     "nbsphinx-thumbnail"
    ]
   },
   "outputs": [
    {
     "data": {
      "image/png": "[encoded data removed]",
      "text/plain": [
       "<Figure size 1040x910 with 1 Axes>"
      ]
     },
     "metadata": {},
     "output_type": "display_data"
    }
   ],
   "source": [
    "fig, ax = plt.subplots()\n",
    "\n",
    "\n",
    "ax.plot(energy_grid, func(energy_grid), color=blue)\n",
    "\n",
    "ax.set_xlabel(\"energy (keV)\")\n",
    "ax.set_ylabel(\"photon flux\")\n",
    "ax.set_xscale(x_scale)\n",
    "ax.set_yscale(y_scale)\n"
   ]
  },
  {
   "cell_type": "markdown",
   "id": "037aaba2",
   "metadata": {
    "lines_to_next_cell": 0,
    "papermill": {
     "duration": 0.004398,
     "end_time": "2025-09-27T03:48:44.216100",
     "exception": false,
     "start_time": "2025-09-27T03:48:44.211702",
     "status": "completed"
    },
    "tags": []
   },
   "source": [
    "## F$_{\\nu}$\n",
    "\n",
    "The F$_{\\nu}$ shape of the photon model\n",
    "*if this is not a photon model, please ignore this auto-generated plot*"
   ]
  },
  {
   "cell_type": "code",
   "execution_count": 7,
   "id": "8c105dfa",
   "metadata": {
    "execution": {
     "iopub.execute_input": "2025-09-27T03:48:44.222483Z",
     "iopub.status.busy": "2025-09-27T03:48:44.222224Z",
     "iopub.status.idle": "2025-09-27T03:48:44.583774Z",
     "shell.execute_reply": "2025-09-27T03:48:44.580620Z"
    },
    "papermill": {
     "duration": 0.367767,
     "end_time": "2025-09-27T03:48:44.585643",
     "exception": false,
     "start_time": "2025-09-27T03:48:44.217876",
     "status": "completed"
    },
    "tags": []
   },
   "outputs": [
    {
     "data": {
      "image/png": "[encoded data removed]",
      "text/plain": [
       "<Figure size 1040x910 with 1 Axes>"
      ]
     },
     "metadata": {},
     "output_type": "display_data"
    }
   ],
   "source": [
    "fig, ax = plt.subplots()\n",
    "\n",
    "ax.plot(energy_grid, energy_grid * func(energy_grid), red)\n",
    "\n",
    "\n",
    "ax.set_xlabel(\"energy (keV)\")\n",
    "ax.set_ylabel(r\"energy flux (F$_{\\nu}$)\")\n",
    "ax.set_xscale(x_scale)\n",
    "ax.set_yscale(y_scale)\n",
    "\n"
   ]
  },
  {
   "cell_type": "markdown",
   "id": "ef73186e",
   "metadata": {
    "papermill": {
     "duration": 0.003474,
     "end_time": "2025-09-27T03:48:44.591403",
     "exception": false,
     "start_time": "2025-09-27T03:48:44.587929",
     "status": "completed"
    },
    "tags": []
   },
   "source": [
    "## $\\nu$F$_{\\nu}$\n",
    "\n",
    "The $\\nu$F$_{\\nu}$ shape of the photon model\n",
    "*if this is not a photon model, please ignore this auto-generated plot*"
   ]
  },
  {
   "cell_type": "code",
   "execution_count": 8,
   "id": "df1d03ba",
   "metadata": {
    "execution": {
     "iopub.execute_input": "2025-09-27T03:48:44.602794Z",
     "iopub.status.busy": "2025-09-27T03:48:44.602588Z",
     "iopub.status.idle": "2025-09-27T03:48:44.949291Z",
     "shell.execute_reply": "2025-09-27T03:48:44.948706Z"
    },
    "papermill": {
     "duration": 0.354842,
     "end_time": "2025-09-27T03:48:44.950610",
     "exception": false,
     "start_time": "2025-09-27T03:48:44.595768",
     "status": "completed"
    },
    "tags": []
   },
   "outputs": [
    {
     "data": {
      "image/png": "[encoded data removed]",
      "text/plain": [
       "<Figure size 1040x910 with 1 Axes>"
      ]
     },
     "metadata": {},
     "output_type": "display_data"
    }
   ],
   "source": [
    "fig, ax = plt.subplots()\n",
    "\n",
    "ax.plot(energy_grid, energy_grid**2 * func(energy_grid), color=green)\n",
    "\n",
    "\n",
    "ax.set_xlabel(\"energy (keV)\")\n",
    "ax.set_ylabel(r\"$\\nu$F$_{\\nu}$\")\n",
    "ax.set_xscale(x_scale)\n",
    "ax.set_yscale(y_scale)\n"
   ]
  }
 ],
 "metadata": {
  "jupytext": {
   "formats": "ipynb,md"
  },
  "kernelspec": {
   "display_name": "Python 3",
   "language": "python",
   "name": "python3"
  },
  "language_info": {
   "codemirror_mode": {
    "name": "ipython",
    "version": 3
   },
   "file_extension": ".py",
   "mimetype": "text/x-python",
   "name": "python",
   "nbconvert_exporter": "python",
   "pygments_lexer": "ipython3",
   "version": "3.9.13"
  },
  "papermill": {
   "default_parameters": {},
   "duration": 6.516302,
   "end_time": "2025-09-27T03:48:45.584132",
   "environment_variables": {},
   "exception": null,
   "input_path": "ZDust.ipynb",
   "output_path": "/Users/runner/work/astromodels/astromodels/docs/notebooks/ZDust.ipynb",
   "parameters": {
    "func_name": "ZDust",
    "linear_range": false,
    "wide_energy_range": true,
    "x_scale": "log",
    "y_scale": "log"
   },
   "start_time": "2025-09-27T03:48:39.067830",
   "version": "2.6.0"
  }
 },
 "nbformat": 4,
 "nbformat_minor": 5
}
