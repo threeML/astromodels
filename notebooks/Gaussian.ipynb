{
 "cells": [
  {
   "cell_type": "markdown",
   "id": "cbc6694d",
   "metadata": {
    "papermill": {
     "duration": 0.001671,
     "end_time": "2025-10-03T17:16:27.619913",
     "exception": false,
     "start_time": "2025-10-03T17:16:27.618242",
     "status": "completed"
    },
    "tags": []
   },
   "source": [
    "# Gaussian"
   ]
  },
  {
   "cell_type": "code",
   "execution_count": 1,
   "id": "0bbcdb1c",
   "metadata": {
    "execution": {
     "iopub.execute_input": "2025-10-03T17:16:27.626912Z",
     "iopub.status.busy": "2025-10-03T17:16:27.626733Z",
     "iopub.status.idle": "2025-10-03T17:16:30.693590Z",
     "shell.execute_reply": "2025-10-03T17:16:30.692793Z"
    },
    "nbsphinx": "hidden",
    "papermill": {
     "duration": 3.073287,
     "end_time": "2025-10-03T17:16:30.695185",
     "exception": false,
     "start_time": "2025-10-03T17:16:27.621898",
     "status": "completed"
    },
    "tags": []
   },
   "outputs": [],
   "source": [
    "%%capture\n",
    "\n",
    "import numpy as np\n",
    "\n",
    "import matplotlib.pyplot as plt\n",
    "\n",
    "import warnings\n",
    "warnings.simplefilter(\"ignore\")\n",
    "\n",
    "from astromodels.functions.function import _known_functions\n",
    "\n",
    "\n",
    "from jupyterthemes import jtplot\n",
    "jtplot.style(context=\"talk\", fscale=1, ticks=True, grid=False)\n",
    "%matplotlib inline"
   ]
  },
  {
   "cell_type": "code",
   "execution_count": 2,
   "id": "0c1a4ea8",
   "metadata": {
    "execution": {
     "iopub.execute_input": "2025-10-03T17:16:30.699272Z",
     "iopub.status.busy": "2025-10-03T17:16:30.698843Z",
     "iopub.status.idle": "2025-10-03T17:16:30.703359Z",
     "shell.execute_reply": "2025-10-03T17:16:30.702783Z"
    },
    "nbsphinx": "hidden",
    "papermill": {
     "duration": 0.00846,
     "end_time": "2025-10-03T17:16:30.705157",
     "exception": false,
     "start_time": "2025-10-03T17:16:30.696697",
     "status": "completed"
    },
    "tags": [
     "parameters"
    ]
   },
   "outputs": [],
   "source": [
    "func_name = \"TbAbs\"\n",
    "\n",
    "positive_prior = False\n"
   ]
  },
  {
   "cell_type": "code",
   "execution_count": 3,
   "id": "59913e65",
   "metadata": {
    "execution": {
     "iopub.execute_input": "2025-10-03T17:16:30.710519Z",
     "iopub.status.busy": "2025-10-03T17:16:30.710323Z",
     "iopub.status.idle": "2025-10-03T17:16:30.713418Z",
     "shell.execute_reply": "2025-10-03T17:16:30.712897Z"
    },
    "papermill": {
     "duration": 0.008054,
     "end_time": "2025-10-03T17:16:30.715656",
     "exception": false,
     "start_time": "2025-10-03T17:16:30.707602",
     "status": "completed"
    },
    "tags": [
     "injected-parameters"
    ]
   },
   "outputs": [],
   "source": [
    "# Parameters\n",
    "func_name = \"Gaussian\"\n",
    "positive_prior = False\n"
   ]
  },
  {
   "cell_type": "code",
   "execution_count": 4,
   "id": "8f03e7da",
   "metadata": {
    "execution": {
     "iopub.execute_input": "2025-10-03T17:16:30.721651Z",
     "iopub.status.busy": "2025-10-03T17:16:30.721469Z",
     "iopub.status.idle": "2025-10-03T17:16:30.728143Z",
     "shell.execute_reply": "2025-10-03T17:16:30.727521Z"
    },
    "lines_to_next_cell": 0,
    "nbsphinx": "hidden",
    "papermill": {
     "duration": 0.010641,
     "end_time": "2025-10-03T17:16:30.729900",
     "exception": false,
     "start_time": "2025-10-03T17:16:30.719259",
     "status": "completed"
    },
    "tags": []
   },
   "outputs": [],
   "source": [
    "func = _known_functions[func_name]()\n",
    "\n",
    "if not positive_prior:\n",
    "\n",
    "\tenergy_grid = np.linspace(-5,5,1000)\n",
    "\n",
    "else:\n",
    "    \n",
    "    energy_grid = np.linspace(0,1,1000)\n",
    "    \n",
    "    \n",
    "    \n",
    "    \n",
    "blue = \"#4152E3\"\n",
    "red = \"#E3414B\"\n",
    "green = \"#41E39E\""
   ]
  },
  {
   "cell_type": "markdown",
   "id": "cf2d841e",
   "metadata": {
    "lines_to_next_cell": 0,
    "papermill": {
     "duration": 0.001957,
     "end_time": "2025-10-03T17:16:30.734693",
     "exception": false,
     "start_time": "2025-10-03T17:16:30.732736",
     "status": "completed"
    },
    "tags": []
   },
   "source": [
    "## Description"
   ]
  },
  {
   "cell_type": "code",
   "execution_count": 5,
   "id": "291d8d67",
   "metadata": {
    "execution": {
     "iopub.execute_input": "2025-10-03T17:16:30.738203Z",
     "iopub.status.busy": "2025-10-03T17:16:30.738021Z",
     "iopub.status.idle": "2025-10-03T17:16:30.749211Z",
     "shell.execute_reply": "2025-10-03T17:16:30.748074Z"
    },
    "papermill": {
     "duration": 0.014824,
     "end_time": "2025-10-03T17:16:30.750751",
     "exception": false,
     "start_time": "2025-10-03T17:16:30.735927",
     "status": "completed"
    },
    "tags": []
   },
   "outputs": [
    {
     "data": {
      "text/html": [
       "<ul>\n",
       "\n",
       "<li>description: A Gaussian function</li>\n",
       "\n",
       "<li>formula: $ K \\frac{1}{\\sigma \\sqrt{2 \\pi}}\\exp{\\frac{(x-\\mu)^2}{2~(\\sigma)^2}} $</li>\n",
       "\n",
       "<li>parameters: \n",
       "<ul>\n",
       "\n",
       "<li>F: \n",
       "<ul>\n",
       "\n",
       "<li>value: 1.0</li>\n",
       "\n",
       "<li>desc: Integral between -inf and +inf. Fix this to 1 to obtain a Normal distribution</li>\n",
       "\n",
       "<li>min_value: None</li>\n",
       "\n",
       "<li>max_value: None</li>\n",
       "\n",
       "<li>unit: </li>\n",
       "\n",
       "<li>is_normalization: False</li>\n",
       "\n",
       "<li>delta: 0.1</li>\n",
       "\n",
       "<li>free: True</li>\n",
       "\n",
       "</ul>\n",
       "\n",
       "</li>\n",
       "\n",
       "<li>mu: \n",
       "<ul>\n",
       "\n",
       "<li>value: 0.0</li>\n",
       "\n",
       "<li>desc: Central value</li>\n",
       "\n",
       "<li>min_value: None</li>\n",
       "\n",
       "<li>max_value: None</li>\n",
       "\n",
       "<li>unit: </li>\n",
       "\n",
       "<li>is_normalization: False</li>\n",
       "\n",
       "<li>delta: 0.1</li>\n",
       "\n",
       "<li>free: True</li>\n",
       "\n",
       "</ul>\n",
       "\n",
       "</li>\n",
       "\n",
       "<li>sigma: \n",
       "<ul>\n",
       "\n",
       "<li>value: 1.0</li>\n",
       "\n",
       "<li>desc: standard deviation</li>\n",
       "\n",
       "<li>min_value: 1e-12</li>\n",
       "\n",
       "<li>max_value: None</li>\n",
       "\n",
       "<li>unit: </li>\n",
       "\n",
       "<li>is_normalization: False</li>\n",
       "\n",
       "<li>delta: 0.1</li>\n",
       "\n",
       "<li>free: True</li>\n",
       "\n",
       "</ul>\n",
       "\n",
       "</li>\n",
       "\n",
       "</ul>\n",
       "\n",
       "</li>\n",
       "\n",
       "</ul>\n"
      ],
      "text/plain": [
       "  * description: A Gaussian function\n",
       "  * formula: $ K \\frac{1}{\\sigma \\sqrt{2 \\pi}}\\exp{\\frac{(x-\\mu)^2}{2~(\\sigma)^2}} $\n",
       "  * parameters:\n",
       "    * F:\n",
       "      * value: 1.0\n",
       "      * desc: Integral between -inf and +inf. Fix this to 1 to obtain a Normal distribution\n",
       "      * min_value: null\n",
       "      * max_value: null\n",
       "      * unit: ''\n",
       "      * is_normalization: false\n",
       "      * delta: 0.1\n",
       "      * free: true\n",
       "    * mu:\n",
       "      * value: 0.0\n",
       "      * desc: Central value\n",
       "      * min_value: null\n",
       "      * max_value: null\n",
       "      * unit: ''\n",
       "      * is_normalization: false\n",
       "      * delta: 0.1\n",
       "      * free: true\n",
       "    * sigma:\n",
       "      * value: 1.0\n",
       "      * desc: standard deviation\n",
       "      * min_value: 1.0e-12\n",
       "      * max_value: null\n",
       "      * unit: ''\n",
       "      * is_normalization: false\n",
       "      * delta: 0.1\n",
       "      * free: true"
      ]
     },
     "metadata": {},
     "output_type": "display_data"
    }
   ],
   "source": [
    "func.display()"
   ]
  },
  {
   "cell_type": "markdown",
   "id": "dd6e83eb",
   "metadata": {
    "papermill": {
     "duration": 0.001212,
     "end_time": "2025-10-03T17:16:30.753491",
     "exception": false,
     "start_time": "2025-10-03T17:16:30.752279",
     "status": "completed"
    },
    "tags": []
   },
   "source": [
    "## Shape \n",
    "\n",
    "The shape of the function. \n",
    "\n",
    "*If this is not a photon model but a prior or linear function then ignore the units as these docs are auto-generated*"
   ]
  },
  {
   "cell_type": "code",
   "execution_count": 6,
   "id": "d7488c1f",
   "metadata": {
    "execution": {
     "iopub.execute_input": "2025-10-03T17:16:30.757125Z",
     "iopub.status.busy": "2025-10-03T17:16:30.756940Z",
     "iopub.status.idle": "2025-10-03T17:16:30.890421Z",
     "shell.execute_reply": "2025-10-03T17:16:30.889687Z"
    },
    "papermill": {
     "duration": 0.13713,
     "end_time": "2025-10-03T17:16:30.891966",
     "exception": false,
     "start_time": "2025-10-03T17:16:30.754836",
     "status": "completed"
    },
    "tags": [
     "nbsphinx-thumbnail"
    ]
   },
   "outputs": [
    {
     "data": {
      "text/plain": [
       "Text(0, 0.5, 'probability')"
      ]
     },
     "execution_count": 6,
     "metadata": {},
     "output_type": "execute_result"
    },
    {
     "data": {
      "image/png": "[encoded data removed]",
      "text/plain": [
       "<Figure size 1040x910 with 1 Axes>"
      ]
     },
     "metadata": {},
     "output_type": "display_data"
    }
   ],
   "source": [
    "fig, ax = plt.subplots()\n",
    "\n",
    "\n",
    "ax.plot(energy_grid, func(energy_grid), color=blue, lw=3)\n",
    "\n",
    "ax.set_xlabel(\"x\")\n",
    "ax.set_ylabel(\"probability\")\n"
   ]
  },
  {
   "cell_type": "markdown",
   "id": "fcea625b",
   "metadata": {
    "papermill": {
     "duration": 0.001966,
     "end_time": "2025-10-03T17:16:30.895977",
     "exception": false,
     "start_time": "2025-10-03T17:16:30.894011",
     "status": "completed"
    },
    "tags": []
   },
   "source": [
    "## Random Number Generation\n",
    "\n",
    "This is how we can generate random numbers from the prior.\n"
   ]
  },
  {
   "cell_type": "code",
   "execution_count": 7,
   "id": "0c1dd078",
   "metadata": {
    "execution": {
     "iopub.execute_input": "2025-10-03T17:16:30.903797Z",
     "iopub.status.busy": "2025-10-03T17:16:30.902340Z",
     "iopub.status.idle": "2025-10-03T17:16:31.091811Z",
     "shell.execute_reply": "2025-10-03T17:16:31.090921Z"
    },
    "papermill": {
     "duration": 0.196205,
     "end_time": "2025-10-03T17:16:31.093763",
     "exception": false,
     "start_time": "2025-10-03T17:16:30.897558",
     "status": "completed"
    },
    "tags": []
   },
   "outputs": [
    {
     "data": {
      "text/plain": [
       "Text(0, 0.5, 'N')"
      ]
     },
     "execution_count": 7,
     "metadata": {},
     "output_type": "execute_result"
    },
    {
     "data": {
      "image/png": "[encoded data removed]",
      "text/plain": [
       "<Figure size 1040x910 with 1 Axes>"
      ]
     },
     "metadata": {},
     "output_type": "display_data"
    }
   ],
   "source": [
    "\n",
    "\n",
    "u = np.random.uniform(0,1, size=5000)\n",
    "\n",
    "draws = [func.from_unit_cube(x) for x in u]\n",
    "\n",
    "\n",
    "fig, ax = plt.subplots()\n",
    "\n",
    "\n",
    "ax.hist(draws, color=green, bins=50)\n",
    "\n",
    "ax.set_xlabel(\"value\")\n",
    "ax.set_ylabel(\"N\")\n",
    "\n"
   ]
  }
 ],
 "metadata": {
  "jupytext": {
   "formats": "ipynb,md"
  },
  "kernelspec": {
   "display_name": "Python 3 (ipykernel)",
   "language": "python",
   "name": "python3"
  },
  "language_info": {
   "codemirror_mode": {
    "name": "ipython",
    "version": 3
   },
   "file_extension": ".py",
   "mimetype": "text/x-python",
   "name": "python",
   "nbconvert_exporter": "python",
   "pygments_lexer": "ipython3",
   "version": "3.9.13"
  },
  "papermill": {
   "default_parameters": {},
   "duration": 4.958176,
   "end_time": "2025-10-03T17:16:31.728731",
   "environment_variables": {},
   "exception": null,
   "input_path": "Gaussian.ipynb",
   "output_path": "/Users/runner/work/astromodels/astromodels/docs/notebooks/Gaussian.ipynb",
   "parameters": {
    "func_name": "Gaussian",
    "positive_prior": false
   },
   "start_time": "2025-10-03T17:16:26.770555",
   "version": "2.6.0"
  }
 },
 "nbformat": 4,
 "nbformat_minor": 5
}
