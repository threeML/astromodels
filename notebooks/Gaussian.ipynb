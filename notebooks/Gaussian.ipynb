{
 "cells": [
  {
   "cell_type": "markdown",
   "id": "345f508b",
   "metadata": {
    "papermill": {
     "duration": 0.002306,
     "end_time": "2025-10-03T16:32:47.631274",
     "exception": false,
     "start_time": "2025-10-03T16:32:47.628968",
     "status": "completed"
    },
    "tags": []
   },
   "source": [
    "# Gaussian"
   ]
  },
  {
   "cell_type": "code",
   "execution_count": 1,
   "id": "463aca46",
   "metadata": {
    "execution": {
     "iopub.execute_input": "2025-10-03T16:32:47.635671Z",
     "iopub.status.busy": "2025-10-03T16:32:47.635428Z",
     "iopub.status.idle": "2025-10-03T16:32:51.703668Z",
     "shell.execute_reply": "2025-10-03T16:32:51.702223Z"
    },
    "nbsphinx": "hidden",
    "papermill": {
     "duration": 4.076688,
     "end_time": "2025-10-03T16:32:51.709639",
     "exception": false,
     "start_time": "2025-10-03T16:32:47.632951",
     "status": "completed"
    },
    "tags": []
   },
   "outputs": [],
   "source": [
    "%%capture\n",
    "\n",
    "import numpy as np\n",
    "\n",
    "import matplotlib.pyplot as plt\n",
    "\n",
    "import warnings\n",
    "warnings.simplefilter(\"ignore\")\n",
    "\n",
    "from astromodels.functions.function import _known_functions\n",
    "\n",
    "\n",
    "from jupyterthemes import jtplot\n",
    "jtplot.style(context=\"talk\", fscale=1, ticks=True, grid=False)\n",
    "%matplotlib inline"
   ]
  },
  {
   "cell_type": "code",
   "execution_count": 2,
   "id": "52876cc3",
   "metadata": {
    "execution": {
     "iopub.execute_input": "2025-10-03T16:32:51.722642Z",
     "iopub.status.busy": "2025-10-03T16:32:51.721630Z",
     "iopub.status.idle": "2025-10-03T16:32:51.726326Z",
     "shell.execute_reply": "2025-10-03T16:32:51.725740Z"
    },
    "nbsphinx": "hidden",
    "papermill": {
     "duration": 0.010773,
     "end_time": "2025-10-03T16:32:51.728728",
     "exception": false,
     "start_time": "2025-10-03T16:32:51.717955",
     "status": "completed"
    },
    "tags": [
     "parameters"
    ]
   },
   "outputs": [],
   "source": [
    "func_name = \"TbAbs\"\n",
    "\n",
    "positive_prior = False\n"
   ]
  },
  {
   "cell_type": "code",
   "execution_count": 3,
   "id": "c2ed122e",
   "metadata": {
    "execution": {
     "iopub.execute_input": "2025-10-03T16:32:51.732940Z",
     "iopub.status.busy": "2025-10-03T16:32:51.732734Z",
     "iopub.status.idle": "2025-10-03T16:32:51.737275Z",
     "shell.execute_reply": "2025-10-03T16:32:51.735316Z"
    },
    "papermill": {
     "duration": 0.010058,
     "end_time": "2025-10-03T16:32:51.740284",
     "exception": false,
     "start_time": "2025-10-03T16:32:51.730226",
     "status": "completed"
    },
    "tags": [
     "injected-parameters"
    ]
   },
   "outputs": [],
   "source": [
    "# Parameters\n",
    "func_name = \"Gaussian\"\n",
    "positive_prior = False\n"
   ]
  },
  {
   "cell_type": "code",
   "execution_count": 4,
   "id": "12a1a5a6",
   "metadata": {
    "execution": {
     "iopub.execute_input": "2025-10-03T16:32:51.748088Z",
     "iopub.status.busy": "2025-10-03T16:32:51.747870Z",
     "iopub.status.idle": "2025-10-03T16:32:51.753337Z",
     "shell.execute_reply": "2025-10-03T16:32:51.752781Z"
    },
    "lines_to_next_cell": 0,
    "nbsphinx": "hidden",
    "papermill": {
     "duration": 0.013954,
     "end_time": "2025-10-03T16:32:51.756328",
     "exception": false,
     "start_time": "2025-10-03T16:32:51.742374",
     "status": "completed"
    },
    "tags": []
   },
   "outputs": [],
   "source": [
    "func = _known_functions[func_name]()\n",
    "\n",
    "if not positive_prior:\n",
    "\n",
    "\tenergy_grid = np.linspace(-5,5,1000)\n",
    "\n",
    "else:\n",
    "    \n",
    "    energy_grid = np.linspace(0,1,1000)\n",
    "    \n",
    "    \n",
    "    \n",
    "    \n",
    "blue = \"#4152E3\"\n",
    "red = \"#E3414B\"\n",
    "green = \"#41E39E\""
   ]
  },
  {
   "cell_type": "markdown",
   "id": "96a1561d",
   "metadata": {
    "lines_to_next_cell": 0,
    "papermill": {
     "duration": 0.001677,
     "end_time": "2025-10-03T16:32:51.760021",
     "exception": false,
     "start_time": "2025-10-03T16:32:51.758344",
     "status": "completed"
    },
    "tags": []
   },
   "source": [
    "## Description"
   ]
  },
  {
   "cell_type": "code",
   "execution_count": 5,
   "id": "3923cefa",
   "metadata": {
    "execution": {
     "iopub.execute_input": "2025-10-03T16:32:51.767018Z",
     "iopub.status.busy": "2025-10-03T16:32:51.766426Z",
     "iopub.status.idle": "2025-10-03T16:32:51.777343Z",
     "shell.execute_reply": "2025-10-03T16:32:51.775895Z"
    },
    "papermill": {
     "duration": 0.026929,
     "end_time": "2025-10-03T16:32:51.788436",
     "exception": false,
     "start_time": "2025-10-03T16:32:51.761507",
     "status": "completed"
    },
    "tags": []
   },
   "outputs": [
    {
     "data": {
      "text/html": [
       "<ul>\n",
       "\n",
       "<li>description: A Gaussian function</li>\n",
       "\n",
       "<li>formula: $ K \\frac{1}{\\sigma \\sqrt{2 \\pi}}\\exp{\\frac{(x-\\mu)^2}{2~(\\sigma)^2}} $</li>\n",
       "\n",
       "<li>parameters: \n",
       "<ul>\n",
       "\n",
       "<li>F: \n",
       "<ul>\n",
       "\n",
       "<li>value: 1.0</li>\n",
       "\n",
       "<li>desc: Integral between -inf and +inf. Fix this to 1 to obtain a Normal distribution</li>\n",
       "\n",
       "<li>min_value: None</li>\n",
       "\n",
       "<li>max_value: None</li>\n",
       "\n",
       "<li>unit: </li>\n",
       "\n",
       "<li>is_normalization: False</li>\n",
       "\n",
       "<li>delta: 0.1</li>\n",
       "\n",
       "<li>free: True</li>\n",
       "\n",
       "</ul>\n",
       "\n",
       "</li>\n",
       "\n",
       "<li>mu: \n",
       "<ul>\n",
       "\n",
       "<li>value: 0.0</li>\n",
       "\n",
       "<li>desc: Central value</li>\n",
       "\n",
       "<li>min_value: None</li>\n",
       "\n",
       "<li>max_value: None</li>\n",
       "\n",
       "<li>unit: </li>\n",
       "\n",
       "<li>is_normalization: False</li>\n",
       "\n",
       "<li>delta: 0.1</li>\n",
       "\n",
       "<li>free: True</li>\n",
       "\n",
       "</ul>\n",
       "\n",
       "</li>\n",
       "\n",
       "<li>sigma: \n",
       "<ul>\n",
       "\n",
       "<li>value: 1.0</li>\n",
       "\n",
       "<li>desc: standard deviation</li>\n",
       "\n",
       "<li>min_value: 1e-12</li>\n",
       "\n",
       "<li>max_value: None</li>\n",
       "\n",
       "<li>unit: </li>\n",
       "\n",
       "<li>is_normalization: False</li>\n",
       "\n",
       "<li>delta: 0.1</li>\n",
       "\n",
       "<li>free: True</li>\n",
       "\n",
       "</ul>\n",
       "\n",
       "</li>\n",
       "\n",
       "</ul>\n",
       "\n",
       "</li>\n",
       "\n",
       "</ul>\n"
      ],
      "text/plain": [
       "  * description: A Gaussian function\n",
       "  * formula: $ K \\frac{1}{\\sigma \\sqrt{2 \\pi}}\\exp{\\frac{(x-\\mu)^2}{2~(\\sigma)^2}} $\n",
       "  * parameters:\n",
       "    * F:\n",
       "      * value: 1.0\n",
       "      * desc: Integral between -inf and +inf. Fix this to 1 to obtain a Normal distribution\n",
       "      * min_value: null\n",
       "      * max_value: null\n",
       "      * unit: ''\n",
       "      * is_normalization: false\n",
       "      * delta: 0.1\n",
       "      * free: true\n",
       "    * mu:\n",
       "      * value: 0.0\n",
       "      * desc: Central value\n",
       "      * min_value: null\n",
       "      * max_value: null\n",
       "      * unit: ''\n",
       "      * is_normalization: false\n",
       "      * delta: 0.1\n",
       "      * free: true\n",
       "    * sigma:\n",
       "      * value: 1.0\n",
       "      * desc: standard deviation\n",
       "      * min_value: 1.0e-12\n",
       "      * max_value: null\n",
       "      * unit: ''\n",
       "      * is_normalization: false\n",
       "      * delta: 0.1\n",
       "      * free: true"
      ]
     },
     "metadata": {},
     "output_type": "display_data"
    }
   ],
   "source": [
    "func.display()"
   ]
  },
  {
   "cell_type": "markdown",
   "id": "a23acb49",
   "metadata": {
    "papermill": {
     "duration": 0.001758,
     "end_time": "2025-10-03T16:32:51.791924",
     "exception": false,
     "start_time": "2025-10-03T16:32:51.790166",
     "status": "completed"
    },
    "tags": []
   },
   "source": [
    "## Shape \n",
    "\n",
    "The shape of the function. \n",
    "\n",
    "*If this is not a photon model but a prior or linear function then ignore the units as these docs are auto-generated*"
   ]
  },
  {
   "cell_type": "code",
   "execution_count": 6,
   "id": "4fd7135c",
   "metadata": {
    "execution": {
     "iopub.execute_input": "2025-10-03T16:32:51.797160Z",
     "iopub.status.busy": "2025-10-03T16:32:51.796923Z",
     "iopub.status.idle": "2025-10-03T16:32:52.098663Z",
     "shell.execute_reply": "2025-10-03T16:32:52.097601Z"
    },
    "papermill": {
     "duration": 0.30765,
     "end_time": "2025-10-03T16:32:52.101746",
     "exception": false,
     "start_time": "2025-10-03T16:32:51.794096",
     "status": "completed"
    },
    "tags": [
     "nbsphinx-thumbnail"
    ]
   },
   "outputs": [
    {
     "data": {
      "text/plain": [
       "Text(0, 0.5, 'probability')"
      ]
     },
     "execution_count": 6,
     "metadata": {},
     "output_type": "execute_result"
    },
    {
     "data": {
      "image/png": "[encoded data removed]",
      "text/plain": [
       "<Figure size 1040x910 with 1 Axes>"
      ]
     },
     "metadata": {},
     "output_type": "display_data"
    }
   ],
   "source": [
    "fig, ax = plt.subplots()\n",
    "\n",
    "\n",
    "ax.plot(energy_grid, func(energy_grid), color=blue, lw=3)\n",
    "\n",
    "ax.set_xlabel(\"x\")\n",
    "ax.set_ylabel(\"probability\")\n"
   ]
  },
  {
   "cell_type": "markdown",
   "id": "2af7373b",
   "metadata": {
    "papermill": {
     "duration": 0.002666,
     "end_time": "2025-10-03T16:32:52.107170",
     "exception": false,
     "start_time": "2025-10-03T16:32:52.104504",
     "status": "completed"
    },
    "tags": []
   },
   "source": [
    "## Random Number Generation\n",
    "\n",
    "This is how we can generate random numbers from the prior.\n"
   ]
  },
  {
   "cell_type": "code",
   "execution_count": 7,
   "id": "614077cb",
   "metadata": {
    "execution": {
     "iopub.execute_input": "2025-10-03T16:32:52.122591Z",
     "iopub.status.busy": "2025-10-03T16:32:52.122010Z",
     "iopub.status.idle": "2025-10-03T16:32:52.522471Z",
     "shell.execute_reply": "2025-10-03T16:32:52.521158Z"
    },
    "papermill": {
     "duration": 0.412576,
     "end_time": "2025-10-03T16:32:52.525705",
     "exception": false,
     "start_time": "2025-10-03T16:32:52.113129",
     "status": "completed"
    },
    "tags": []
   },
   "outputs": [
    {
     "data": {
      "text/plain": [
       "Text(0, 0.5, 'N')"
      ]
     },
     "execution_count": 7,
     "metadata": {},
     "output_type": "execute_result"
    },
    {
     "data": {
      "image/png": "[encoded data removed]",
      "text/plain": [
       "<Figure size 1040x910 with 1 Axes>"
      ]
     },
     "metadata": {},
     "output_type": "display_data"
    }
   ],
   "source": [
    "\n",
    "\n",
    "u = np.random.uniform(0,1, size=5000)\n",
    "\n",
    "draws = [func.from_unit_cube(x) for x in u]\n",
    "\n",
    "\n",
    "fig, ax = plt.subplots()\n",
    "\n",
    "\n",
    "ax.hist(draws, color=green, bins=50)\n",
    "\n",
    "ax.set_xlabel(\"value\")\n",
    "ax.set_ylabel(\"N\")\n",
    "\n"
   ]
  }
 ],
 "metadata": {
  "jupytext": {
   "formats": "ipynb,md"
  },
  "kernelspec": {
   "display_name": "Python 3 (ipykernel)",
   "language": "python",
   "name": "python3"
  },
  "language_info": {
   "codemirror_mode": {
    "name": "ipython",
    "version": 3
   },
   "file_extension": ".py",
   "mimetype": "text/x-python",
   "name": "python",
   "nbconvert_exporter": "python",
   "pygments_lexer": "ipython3",
   "version": "3.9.13"
  },
  "papermill": {
   "default_parameters": {},
   "duration": 6.490758,
   "end_time": "2025-10-03T16:32:53.267493",
   "environment_variables": {},
   "exception": null,
   "input_path": "Gaussian.ipynb",
   "output_path": "/Users/runner/work/astromodels/astromodels/docs/notebooks/Gaussian.ipynb",
   "parameters": {
    "func_name": "Gaussian",
    "positive_prior": false
   },
   "start_time": "2025-10-03T16:32:46.776735",
   "version": "2.6.0"
  }
 },
 "nbformat": 4,
 "nbformat_minor": 5
}
