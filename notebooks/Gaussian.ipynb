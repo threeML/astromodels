{
 "cells": [
  {
   "cell_type": "markdown",
   "id": "1ce73081",
   "metadata": {
    "papermill": {
     "duration": 0.001456,
     "end_time": "2025-09-23T21:48:24.652213",
     "exception": false,
     "start_time": "2025-09-23T21:48:24.650757",
     "status": "completed"
    },
    "tags": []
   },
   "source": [
    "# Gaussian"
   ]
  },
  {
   "cell_type": "code",
   "execution_count": 1,
   "id": "93fb2307",
   "metadata": {
    "execution": {
     "iopub.execute_input": "2025-09-23T21:48:24.655349Z",
     "iopub.status.busy": "2025-09-23T21:48:24.655178Z",
     "iopub.status.idle": "2025-09-23T21:48:26.670048Z",
     "shell.execute_reply": "2025-09-23T21:48:26.669497Z"
    },
    "nbsphinx": "hidden",
    "papermill": {
     "duration": 2.018018,
     "end_time": "2025-09-23T21:48:26.671501",
     "exception": false,
     "start_time": "2025-09-23T21:48:24.653483",
     "status": "completed"
    },
    "tags": []
   },
   "outputs": [],
   "source": [
    "%%capture\n",
    "\n",
    "import numpy as np\n",
    "\n",
    "import matplotlib.pyplot as plt\n",
    "\n",
    "import warnings\n",
    "warnings.simplefilter(\"ignore\")\n",
    "\n",
    "from astromodels.functions.function import _known_functions\n",
    "\n",
    "\n",
    "from jupyterthemes import jtplot\n",
    "jtplot.style(context=\"talk\", fscale=1, ticks=True, grid=False)\n",
    "%matplotlib inline"
   ]
  },
  {
   "cell_type": "code",
   "execution_count": 2,
   "id": "a1ab4bc6",
   "metadata": {
    "execution": {
     "iopub.execute_input": "2025-09-23T21:48:26.674785Z",
     "iopub.status.busy": "2025-09-23T21:48:26.674481Z",
     "iopub.status.idle": "2025-09-23T21:48:26.676514Z",
     "shell.execute_reply": "2025-09-23T21:48:26.676148Z"
    },
    "nbsphinx": "hidden",
    "papermill": {
     "duration": 0.004684,
     "end_time": "2025-09-23T21:48:26.677538",
     "exception": false,
     "start_time": "2025-09-23T21:48:26.672854",
     "status": "completed"
    },
    "tags": [
     "parameters"
    ]
   },
   "outputs": [],
   "source": [
    "func_name = \"TbAbs\"\n",
    "\n",
    "positive_prior = False\n"
   ]
  },
  {
   "cell_type": "code",
   "execution_count": 3,
   "id": "87768424",
   "metadata": {
    "execution": {
     "iopub.execute_input": "2025-09-23T21:48:26.680033Z",
     "iopub.status.busy": "2025-09-23T21:48:26.679907Z",
     "iopub.status.idle": "2025-09-23T21:48:26.687108Z",
     "shell.execute_reply": "2025-09-23T21:48:26.686672Z"
    },
    "papermill": {
     "duration": 0.009646,
     "end_time": "2025-09-23T21:48:26.688175",
     "exception": false,
     "start_time": "2025-09-23T21:48:26.678529",
     "status": "completed"
    },
    "tags": [
     "injected-parameters"
    ]
   },
   "outputs": [],
   "source": [
    "# Parameters\n",
    "func_name = \"Gaussian\"\n",
    "positive_prior = False\n"
   ]
  },
  {
   "cell_type": "code",
   "execution_count": 4,
   "id": "cc479424",
   "metadata": {
    "execution": {
     "iopub.execute_input": "2025-09-23T21:48:26.690722Z",
     "iopub.status.busy": "2025-09-23T21:48:26.690600Z",
     "iopub.status.idle": "2025-09-23T21:48:26.699569Z",
     "shell.execute_reply": "2025-09-23T21:48:26.699128Z"
    },
    "lines_to_next_cell": 0,
    "nbsphinx": "hidden",
    "papermill": {
     "duration": 0.011509,
     "end_time": "2025-09-23T21:48:26.700732",
     "exception": false,
     "start_time": "2025-09-23T21:48:26.689223",
     "status": "completed"
    },
    "tags": []
   },
   "outputs": [],
   "source": [
    "func = _known_functions[func_name]()\n",
    "\n",
    "if not positive_prior:\n",
    "\n",
    "\tenergy_grid = np.linspace(-5,5,1000)\n",
    "\n",
    "else:\n",
    "    \n",
    "    energy_grid = np.linspace(0,1,1000)\n",
    "    \n",
    "    \n",
    "    \n",
    "    \n",
    "blue = \"#4152E3\"\n",
    "red = \"#E3414B\"\n",
    "green = \"#41E39E\""
   ]
  },
  {
   "cell_type": "markdown",
   "id": "1847a4ff",
   "metadata": {
    "lines_to_next_cell": 0,
    "papermill": {
     "duration": 0.001098,
     "end_time": "2025-09-23T21:48:26.703005",
     "exception": false,
     "start_time": "2025-09-23T21:48:26.701907",
     "status": "completed"
    },
    "tags": []
   },
   "source": [
    "## Description"
   ]
  },
  {
   "cell_type": "code",
   "execution_count": 5,
   "id": "f7f6bef2",
   "metadata": {
    "execution": {
     "iopub.execute_input": "2025-09-23T21:48:26.705542Z",
     "iopub.status.busy": "2025-09-23T21:48:26.705414Z",
     "iopub.status.idle": "2025-09-23T21:48:26.709462Z",
     "shell.execute_reply": "2025-09-23T21:48:26.708953Z"
    },
    "papermill": {
     "duration": 0.006641,
     "end_time": "2025-09-23T21:48:26.710653",
     "exception": false,
     "start_time": "2025-09-23T21:48:26.704012",
     "status": "completed"
    },
    "tags": []
   },
   "outputs": [
    {
     "data": {
      "text/html": [
       "<ul>\n",
       "\n",
       "<li>description: A Gaussian function</li>\n",
       "\n",
       "<li>formula: $ K \\frac{1}{\\sigma \\sqrt{2 \\pi}}\\exp{\\frac{(x-\\mu)^2}{2~(\\sigma)^2}} $</li>\n",
       "\n",
       "<li>parameters: \n",
       "<ul>\n",
       "\n",
       "<li>F: \n",
       "<ul>\n",
       "\n",
       "<li>value: 1.0</li>\n",
       "\n",
       "<li>desc: Integral between -inf and +inf. Fix this to 1 to obtain a Normal distribution</li>\n",
       "\n",
       "<li>min_value: None</li>\n",
       "\n",
       "<li>max_value: None</li>\n",
       "\n",
       "<li>unit: </li>\n",
       "\n",
       "<li>is_normalization: False</li>\n",
       "\n",
       "<li>delta: 0.1</li>\n",
       "\n",
       "<li>free: True</li>\n",
       "\n",
       "</ul>\n",
       "\n",
       "</li>\n",
       "\n",
       "<li>mu: \n",
       "<ul>\n",
       "\n",
       "<li>value: 0.0</li>\n",
       "\n",
       "<li>desc: Central value</li>\n",
       "\n",
       "<li>min_value: None</li>\n",
       "\n",
       "<li>max_value: None</li>\n",
       "\n",
       "<li>unit: </li>\n",
       "\n",
       "<li>is_normalization: False</li>\n",
       "\n",
       "<li>delta: 0.1</li>\n",
       "\n",
       "<li>free: True</li>\n",
       "\n",
       "</ul>\n",
       "\n",
       "</li>\n",
       "\n",
       "<li>sigma: \n",
       "<ul>\n",
       "\n",
       "<li>value: 1.0</li>\n",
       "\n",
       "<li>desc: standard deviation</li>\n",
       "\n",
       "<li>min_value: 1e-12</li>\n",
       "\n",
       "<li>max_value: None</li>\n",
       "\n",
       "<li>unit: </li>\n",
       "\n",
       "<li>is_normalization: False</li>\n",
       "\n",
       "<li>delta: 0.1</li>\n",
       "\n",
       "<li>free: True</li>\n",
       "\n",
       "</ul>\n",
       "\n",
       "</li>\n",
       "\n",
       "</ul>\n",
       "\n",
       "</li>\n",
       "\n",
       "</ul>\n"
      ],
      "text/plain": [
       "  * description: A Gaussian function\n",
       "  * formula: $ K \\frac{1}{\\sigma \\sqrt{2 \\pi}}\\exp{\\frac{(x-\\mu)^2}{2~(\\sigma)^2}} $\n",
       "  * parameters:\n",
       "    * F:\n",
       "      * value: 1.0\n",
       "      * desc: Integral between -inf and +inf. Fix this to 1 to obtain a Normal distribution\n",
       "      * min_value: null\n",
       "      * max_value: null\n",
       "      * unit: ''\n",
       "      * is_normalization: false\n",
       "      * delta: 0.1\n",
       "      * free: true\n",
       "    * mu:\n",
       "      * value: 0.0\n",
       "      * desc: Central value\n",
       "      * min_value: null\n",
       "      * max_value: null\n",
       "      * unit: ''\n",
       "      * is_normalization: false\n",
       "      * delta: 0.1\n",
       "      * free: true\n",
       "    * sigma:\n",
       "      * value: 1.0\n",
       "      * desc: standard deviation\n",
       "      * min_value: 1.0e-12\n",
       "      * max_value: null\n",
       "      * unit: ''\n",
       "      * is_normalization: false\n",
       "      * delta: 0.1\n",
       "      * free: true"
      ]
     },
     "metadata": {},
     "output_type": "display_data"
    }
   ],
   "source": [
    "func.display()"
   ]
  },
  {
   "cell_type": "markdown",
   "id": "d6e75727",
   "metadata": {
    "papermill": {
     "duration": 0.001153,
     "end_time": "2025-09-23T21:48:26.713035",
     "exception": false,
     "start_time": "2025-09-23T21:48:26.711882",
     "status": "completed"
    },
    "tags": []
   },
   "source": [
    "## Shape \n",
    "\n",
    "The shape of the function. \n",
    "\n",
    "*If this is not a photon model but a prior or linear function then ignore the units as these docs are auto-generated*"
   ]
  },
  {
   "cell_type": "code",
   "execution_count": 6,
   "id": "f64900a1",
   "metadata": {
    "execution": {
     "iopub.execute_input": "2025-09-23T21:48:26.715837Z",
     "iopub.status.busy": "2025-09-23T21:48:26.715700Z",
     "iopub.status.idle": "2025-09-23T21:48:26.797242Z",
     "shell.execute_reply": "2025-09-23T21:48:26.796905Z"
    },
    "papermill": {
     "duration": 0.084392,
     "end_time": "2025-09-23T21:48:26.798465",
     "exception": false,
     "start_time": "2025-09-23T21:48:26.714073",
     "status": "completed"
    },
    "tags": [
     "nbsphinx-thumbnail"
    ]
   },
   "outputs": [
    {
     "data": {
      "text/plain": [
       "Text(0, 0.5, 'probability')"
      ]
     },
     "execution_count": 6,
     "metadata": {},
     "output_type": "execute_result"
    },
    {
     "data": {
      "image/png": "[encoded data removed]",
      "text/plain": [
       "<Figure size 1040x910 with 1 Axes>"
      ]
     },
     "metadata": {},
     "output_type": "display_data"
    }
   ],
   "source": [
    "fig, ax = plt.subplots()\n",
    "\n",
    "\n",
    "ax.plot(energy_grid, func(energy_grid), color=blue, lw=3)\n",
    "\n",
    "ax.set_xlabel(\"x\")\n",
    "ax.set_ylabel(\"probability\")\n"
   ]
  },
  {
   "cell_type": "markdown",
   "id": "e9201008",
   "metadata": {
    "papermill": {
     "duration": 0.001689,
     "end_time": "2025-09-23T21:48:26.801883",
     "exception": false,
     "start_time": "2025-09-23T21:48:26.800194",
     "status": "completed"
    },
    "tags": []
   },
   "source": [
    "## Random Number Generation\n",
    "\n",
    "This is how we can generate random numbers from the prior.\n"
   ]
  },
  {
   "cell_type": "code",
   "execution_count": 7,
   "id": "cf0b0adc",
   "metadata": {
    "execution": {
     "iopub.execute_input": "2025-09-23T21:48:26.805381Z",
     "iopub.status.busy": "2025-09-23T21:48:26.805245Z",
     "iopub.status.idle": "2025-09-23T21:48:26.902724Z",
     "shell.execute_reply": "2025-09-23T21:48:26.902370Z"
    },
    "papermill": {
     "duration": 0.100794,
     "end_time": "2025-09-23T21:48:26.904111",
     "exception": false,
     "start_time": "2025-09-23T21:48:26.803317",
     "status": "completed"
    },
    "tags": []
   },
   "outputs": [
    {
     "data": {
      "text/plain": [
       "Text(0, 0.5, 'N')"
      ]
     },
     "execution_count": 7,
     "metadata": {},
     "output_type": "execute_result"
    },
    {
     "data": {
      "image/png": "[encoded data removed]",
      "text/plain": [
       "<Figure size 1040x910 with 1 Axes>"
      ]
     },
     "metadata": {},
     "output_type": "display_data"
    }
   ],
   "source": [
    "\n",
    "\n",
    "u = np.random.uniform(0,1, size=5000)\n",
    "\n",
    "draws = [func.from_unit_cube(x) for x in u]\n",
    "\n",
    "\n",
    "fig, ax = plt.subplots()\n",
    "\n",
    "\n",
    "ax.hist(draws, color=green, bins=50)\n",
    "\n",
    "ax.set_xlabel(\"value\")\n",
    "ax.set_ylabel(\"N\")\n",
    "\n"
   ]
  }
 ],
 "metadata": {
  "jupytext": {
   "formats": "ipynb,md"
  },
  "kernelspec": {
   "display_name": "Python 3 (ipykernel)",
   "language": "python",
   "name": "python3"
  },
  "language_info": {
   "codemirror_mode": {
    "name": "ipython",
    "version": 3
   },
   "file_extension": ".py",
   "mimetype": "text/x-python",
   "name": "python",
   "nbconvert_exporter": "python",
   "pygments_lexer": "ipython3",
   "version": "3.9.13"
  },
  "papermill": {
   "default_parameters": {},
   "duration": 3.413326,
   "end_time": "2025-09-23T21:48:27.329693",
   "environment_variables": {},
   "exception": null,
   "input_path": "Gaussian.ipynb",
   "output_path": "/Users/runner/work/astromodels/astromodels/docs/notebooks/Gaussian.ipynb",
   "parameters": {
    "func_name": "Gaussian",
    "positive_prior": false
   },
   "start_time": "2025-09-23T21:48:23.916367",
   "version": "2.6.0"
  }
 },
 "nbformat": 4,
 "nbformat_minor": 5
}
