{
 "cells": [
  {
   "cell_type": "markdown",
   "id": "41fde951",
   "metadata": {
    "papermill": {
     "duration": 0.002768,
     "end_time": "2025-09-23T20:58:52.436376",
     "exception": false,
     "start_time": "2025-09-23T20:58:52.433608",
     "status": "completed"
    },
    "tags": []
   },
   "source": [
    "# Gaussian"
   ]
  },
  {
   "cell_type": "code",
   "execution_count": 1,
   "id": "751498f5",
   "metadata": {
    "execution": {
     "iopub.execute_input": "2025-09-23T20:58:52.449563Z",
     "iopub.status.busy": "2025-09-23T20:58:52.449069Z",
     "iopub.status.idle": "2025-09-23T20:58:55.979448Z",
     "shell.execute_reply": "2025-09-23T20:58:55.977994Z"
    },
    "nbsphinx": "hidden",
    "papermill": {
     "duration": 3.538994,
     "end_time": "2025-09-23T20:58:55.983254",
     "exception": false,
     "start_time": "2025-09-23T20:58:52.444260",
     "status": "completed"
    },
    "tags": []
   },
   "outputs": [],
   "source": [
    "%%capture\n",
    "\n",
    "import numpy as np\n",
    "\n",
    "import matplotlib.pyplot as plt\n",
    "\n",
    "import warnings\n",
    "warnings.simplefilter(\"ignore\")\n",
    "\n",
    "from astromodels.functions.function import _known_functions\n",
    "\n",
    "\n",
    "from jupyterthemes import jtplot\n",
    "jtplot.style(context=\"talk\", fscale=1, ticks=True, grid=False)\n",
    "%matplotlib inline"
   ]
  },
  {
   "cell_type": "code",
   "execution_count": 2,
   "id": "674d1631",
   "metadata": {
    "execution": {
     "iopub.execute_input": "2025-09-23T20:58:55.989634Z",
     "iopub.status.busy": "2025-09-23T20:58:55.988524Z",
     "iopub.status.idle": "2025-09-23T20:58:55.993976Z",
     "shell.execute_reply": "2025-09-23T20:58:55.992724Z"
    },
    "nbsphinx": "hidden",
    "papermill": {
     "duration": 0.010682,
     "end_time": "2025-09-23T20:58:55.996401",
     "exception": false,
     "start_time": "2025-09-23T20:58:55.985719",
     "status": "completed"
    },
    "tags": [
     "parameters"
    ]
   },
   "outputs": [],
   "source": [
    "func_name = \"TbAbs\"\n",
    "\n",
    "positive_prior = False\n"
   ]
  },
  {
   "cell_type": "code",
   "execution_count": 3,
   "id": "1a9f5202",
   "metadata": {
    "execution": {
     "iopub.execute_input": "2025-09-23T20:58:56.001121Z",
     "iopub.status.busy": "2025-09-23T20:58:56.000941Z",
     "iopub.status.idle": "2025-09-23T20:58:56.004094Z",
     "shell.execute_reply": "2025-09-23T20:58:56.003468Z"
    },
    "papermill": {
     "duration": 0.007131,
     "end_time": "2025-09-23T20:58:56.006057",
     "exception": false,
     "start_time": "2025-09-23T20:58:55.998926",
     "status": "completed"
    },
    "tags": [
     "injected-parameters"
    ]
   },
   "outputs": [],
   "source": [
    "# Parameters\n",
    "func_name = \"Gaussian\"\n",
    "positive_prior = False\n"
   ]
  },
  {
   "cell_type": "code",
   "execution_count": 4,
   "id": "ceb08b97",
   "metadata": {
    "execution": {
     "iopub.execute_input": "2025-09-23T20:58:56.010706Z",
     "iopub.status.busy": "2025-09-23T20:58:56.010526Z",
     "iopub.status.idle": "2025-09-23T20:58:56.014305Z",
     "shell.execute_reply": "2025-09-23T20:58:56.013825Z"
    },
    "lines_to_next_cell": 0,
    "nbsphinx": "hidden",
    "papermill": {
     "duration": 0.00756,
     "end_time": "2025-09-23T20:58:56.016135",
     "exception": false,
     "start_time": "2025-09-23T20:58:56.008575",
     "status": "completed"
    },
    "tags": []
   },
   "outputs": [],
   "source": [
    "func = _known_functions[func_name]()\n",
    "\n",
    "if not positive_prior:\n",
    "\n",
    "\tenergy_grid = np.linspace(-5,5,1000)\n",
    "\n",
    "else:\n",
    "    \n",
    "    energy_grid = np.linspace(0,1,1000)\n",
    "    \n",
    "    \n",
    "    \n",
    "    \n",
    "blue = \"#4152E3\"\n",
    "red = \"#E3414B\"\n",
    "green = \"#41E39E\""
   ]
  },
  {
   "cell_type": "markdown",
   "id": "486b22d0",
   "metadata": {
    "lines_to_next_cell": 0,
    "papermill": {
     "duration": 0.001326,
     "end_time": "2025-09-23T20:58:56.020415",
     "exception": false,
     "start_time": "2025-09-23T20:58:56.019089",
     "status": "completed"
    },
    "tags": []
   },
   "source": [
    "## Description"
   ]
  },
  {
   "cell_type": "code",
   "execution_count": 5,
   "id": "6127e6d5",
   "metadata": {
    "execution": {
     "iopub.execute_input": "2025-09-23T20:58:56.024159Z",
     "iopub.status.busy": "2025-09-23T20:58:56.023971Z",
     "iopub.status.idle": "2025-09-23T20:58:56.030119Z",
     "shell.execute_reply": "2025-09-23T20:58:56.029077Z"
    },
    "papermill": {
     "duration": 0.011128,
     "end_time": "2025-09-23T20:58:56.033012",
     "exception": false,
     "start_time": "2025-09-23T20:58:56.021884",
     "status": "completed"
    },
    "tags": []
   },
   "outputs": [
    {
     "data": {
      "text/html": [
       "<ul>\n",
       "\n",
       "<li>description: A Gaussian function</li>\n",
       "\n",
       "<li>formula: $ K \\frac{1}{\\sigma \\sqrt{2 \\pi}}\\exp{\\frac{(x-\\mu)^2}{2~(\\sigma)^2}} $</li>\n",
       "\n",
       "<li>parameters: \n",
       "<ul>\n",
       "\n",
       "<li>F: \n",
       "<ul>\n",
       "\n",
       "<li>value: 1.0</li>\n",
       "\n",
       "<li>desc: Integral between -inf and +inf. Fix this to 1 to obtain a Normal distribution</li>\n",
       "\n",
       "<li>min_value: None</li>\n",
       "\n",
       "<li>max_value: None</li>\n",
       "\n",
       "<li>unit: </li>\n",
       "\n",
       "<li>is_normalization: False</li>\n",
       "\n",
       "<li>delta: 0.1</li>\n",
       "\n",
       "<li>free: True</li>\n",
       "\n",
       "</ul>\n",
       "\n",
       "</li>\n",
       "\n",
       "<li>mu: \n",
       "<ul>\n",
       "\n",
       "<li>value: 0.0</li>\n",
       "\n",
       "<li>desc: Central value</li>\n",
       "\n",
       "<li>min_value: None</li>\n",
       "\n",
       "<li>max_value: None</li>\n",
       "\n",
       "<li>unit: </li>\n",
       "\n",
       "<li>is_normalization: False</li>\n",
       "\n",
       "<li>delta: 0.1</li>\n",
       "\n",
       "<li>free: True</li>\n",
       "\n",
       "</ul>\n",
       "\n",
       "</li>\n",
       "\n",
       "<li>sigma: \n",
       "<ul>\n",
       "\n",
       "<li>value: 1.0</li>\n",
       "\n",
       "<li>desc: standard deviation</li>\n",
       "\n",
       "<li>min_value: 1e-12</li>\n",
       "\n",
       "<li>max_value: None</li>\n",
       "\n",
       "<li>unit: </li>\n",
       "\n",
       "<li>is_normalization: False</li>\n",
       "\n",
       "<li>delta: 0.1</li>\n",
       "\n",
       "<li>free: True</li>\n",
       "\n",
       "</ul>\n",
       "\n",
       "</li>\n",
       "\n",
       "</ul>\n",
       "\n",
       "</li>\n",
       "\n",
       "</ul>\n"
      ],
      "text/plain": [
       "  * description: A Gaussian function\n",
       "  * formula: $ K \\frac{1}{\\sigma \\sqrt{2 \\pi}}\\exp{\\frac{(x-\\mu)^2}{2~(\\sigma)^2}} $\n",
       "  * parameters:\n",
       "    * F:\n",
       "      * value: 1.0\n",
       "      * desc: Integral between -inf and +inf. Fix this to 1 to obtain a Normal distribution\n",
       "      * min_value: null\n",
       "      * max_value: null\n",
       "      * unit: ''\n",
       "      * is_normalization: false\n",
       "      * delta: 0.1\n",
       "      * free: true\n",
       "    * mu:\n",
       "      * value: 0.0\n",
       "      * desc: Central value\n",
       "      * min_value: null\n",
       "      * max_value: null\n",
       "      * unit: ''\n",
       "      * is_normalization: false\n",
       "      * delta: 0.1\n",
       "      * free: true\n",
       "    * sigma:\n",
       "      * value: 1.0\n",
       "      * desc: standard deviation\n",
       "      * min_value: 1.0e-12\n",
       "      * max_value: null\n",
       "      * unit: ''\n",
       "      * is_normalization: false\n",
       "      * delta: 0.1\n",
       "      * free: true"
      ]
     },
     "metadata": {},
     "output_type": "display_data"
    }
   ],
   "source": [
    "func.display()"
   ]
  },
  {
   "cell_type": "markdown",
   "id": "520bf2a7",
   "metadata": {
    "papermill": {
     "duration": 0.002061,
     "end_time": "2025-09-23T20:58:56.037687",
     "exception": false,
     "start_time": "2025-09-23T20:58:56.035626",
     "status": "completed"
    },
    "tags": []
   },
   "source": [
    "## Shape \n",
    "\n",
    "The shape of the function. \n",
    "\n",
    "*If this is not a photon model but a prior or linear function then ignore the units as these docs are auto-generated*"
   ]
  },
  {
   "cell_type": "code",
   "execution_count": 6,
   "id": "7cb951f0",
   "metadata": {
    "execution": {
     "iopub.execute_input": "2025-09-23T20:58:56.043832Z",
     "iopub.status.busy": "2025-09-23T20:58:56.043646Z",
     "iopub.status.idle": "2025-09-23T20:58:56.218015Z",
     "shell.execute_reply": "2025-09-23T20:58:56.217361Z"
    },
    "papermill": {
     "duration": 0.178511,
     "end_time": "2025-09-23T20:58:56.219586",
     "exception": false,
     "start_time": "2025-09-23T20:58:56.041075",
     "status": "completed"
    },
    "tags": [
     "nbsphinx-thumbnail"
    ]
   },
   "outputs": [
    {
     "data": {
      "text/plain": [
       "Text(0, 0.5, 'probability')"
      ]
     },
     "execution_count": 6,
     "metadata": {},
     "output_type": "execute_result"
    },
    {
     "data": {
      "image/png": "[encoded data removed]",
      "text/plain": [
       "<Figure size 1040x910 with 1 Axes>"
      ]
     },
     "metadata": {},
     "output_type": "display_data"
    }
   ],
   "source": [
    "fig, ax = plt.subplots()\n",
    "\n",
    "\n",
    "ax.plot(energy_grid, func(energy_grid), color=blue, lw=3)\n",
    "\n",
    "ax.set_xlabel(\"x\")\n",
    "ax.set_ylabel(\"probability\")\n"
   ]
  },
  {
   "cell_type": "markdown",
   "id": "294a4112",
   "metadata": {
    "papermill": {
     "duration": 0.004852,
     "end_time": "2025-09-23T20:58:56.228017",
     "exception": false,
     "start_time": "2025-09-23T20:58:56.223165",
     "status": "completed"
    },
    "tags": []
   },
   "source": [
    "## Random Number Generation\n",
    "\n",
    "This is how we can generate random numbers from the prior.\n"
   ]
  },
  {
   "cell_type": "code",
   "execution_count": 7,
   "id": "78f9e410",
   "metadata": {
    "execution": {
     "iopub.execute_input": "2025-09-23T20:58:56.238988Z",
     "iopub.status.busy": "2025-09-23T20:58:56.238477Z",
     "iopub.status.idle": "2025-09-23T20:58:56.547819Z",
     "shell.execute_reply": "2025-09-23T20:58:56.545092Z"
    },
    "papermill": {
     "duration": 0.31742,
     "end_time": "2025-09-23T20:58:56.549068",
     "exception": false,
     "start_time": "2025-09-23T20:58:56.231648",
     "status": "completed"
    },
    "tags": []
   },
   "outputs": [
    {
     "data": {
      "text/plain": [
       "Text(0, 0.5, 'N')"
      ]
     },
     "execution_count": 7,
     "metadata": {},
     "output_type": "execute_result"
    },
    {
     "data": {
      "image/png": "[encoded data removed]",
      "text/plain": [
       "<Figure size 1040x910 with 1 Axes>"
      ]
     },
     "metadata": {},
     "output_type": "display_data"
    }
   ],
   "source": [
    "\n",
    "\n",
    "u = np.random.uniform(0,1, size=5000)\n",
    "\n",
    "draws = [func.from_unit_cube(x) for x in u]\n",
    "\n",
    "\n",
    "fig, ax = plt.subplots()\n",
    "\n",
    "\n",
    "ax.hist(draws, color=green, bins=50)\n",
    "\n",
    "ax.set_xlabel(\"value\")\n",
    "ax.set_ylabel(\"N\")\n",
    "\n"
   ]
  }
 ],
 "metadata": {
  "jupytext": {
   "formats": "ipynb,md"
  },
  "kernelspec": {
   "display_name": "Python 3 (ipykernel)",
   "language": "python",
   "name": "python3"
  },
  "language_info": {
   "codemirror_mode": {
    "name": "ipython",
    "version": 3
   },
   "file_extension": ".py",
   "mimetype": "text/x-python",
   "name": "python",
   "nbconvert_exporter": "python",
   "pygments_lexer": "ipython3",
   "version": "3.9.13"
  },
  "papermill": {
   "default_parameters": {},
   "duration": 5.609008,
   "end_time": "2025-09-23T20:58:57.291006",
   "environment_variables": {},
   "exception": null,
   "input_path": "Gaussian.ipynb",
   "output_path": "/Users/runner/work/astromodels/astromodels/docs/notebooks/Gaussian.ipynb",
   "parameters": {
    "func_name": "Gaussian",
    "positive_prior": false
   },
   "start_time": "2025-09-23T20:58:51.681998",
   "version": "2.6.0"
  }
 },
 "nbformat": 4,
 "nbformat_minor": 5
}
