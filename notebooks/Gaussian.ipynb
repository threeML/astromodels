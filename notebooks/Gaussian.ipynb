{
 "cells": [
  {
   "cell_type": "markdown",
   "id": "d311d5b2",
   "metadata": {
    "papermill": {
     "duration": 0.007259,
     "end_time": "2025-09-24T17:08:46.403870",
     "exception": false,
     "start_time": "2025-09-24T17:08:46.396611",
     "status": "completed"
    },
    "tags": []
   },
   "source": [
    "# Gaussian"
   ]
  },
  {
   "cell_type": "code",
   "execution_count": 1,
   "id": "8c9815ac",
   "metadata": {
    "execution": {
     "iopub.execute_input": "2025-09-24T17:08:46.415295Z",
     "iopub.status.busy": "2025-09-24T17:08:46.414791Z",
     "iopub.status.idle": "2025-09-24T17:08:48.788824Z",
     "shell.execute_reply": "2025-09-24T17:08:48.787118Z"
    },
    "nbsphinx": "hidden",
    "papermill": {
     "duration": 2.382769,
     "end_time": "2025-09-24T17:08:48.791854",
     "exception": false,
     "start_time": "2025-09-24T17:08:46.409085",
     "status": "completed"
    },
    "tags": []
   },
   "outputs": [],
   "source": [
    "%%capture\n",
    "\n",
    "import numpy as np\n",
    "\n",
    "import matplotlib.pyplot as plt\n",
    "\n",
    "import warnings\n",
    "warnings.simplefilter(\"ignore\")\n",
    "\n",
    "from astromodels.functions.function import _known_functions\n",
    "\n",
    "\n",
    "from jupyterthemes import jtplot\n",
    "jtplot.style(context=\"talk\", fscale=1, ticks=True, grid=False)\n",
    "%matplotlib inline"
   ]
  },
  {
   "cell_type": "code",
   "execution_count": 2,
   "id": "19f179d6",
   "metadata": {
    "execution": {
     "iopub.execute_input": "2025-09-24T17:08:48.796857Z",
     "iopub.status.busy": "2025-09-24T17:08:48.796069Z",
     "iopub.status.idle": "2025-09-24T17:08:48.807439Z",
     "shell.execute_reply": "2025-09-24T17:08:48.806524Z"
    },
    "nbsphinx": "hidden",
    "papermill": {
     "duration": 0.016545,
     "end_time": "2025-09-24T17:08:48.809893",
     "exception": false,
     "start_time": "2025-09-24T17:08:48.793348",
     "status": "completed"
    },
    "tags": [
     "parameters"
    ]
   },
   "outputs": [],
   "source": [
    "func_name = \"TbAbs\"\n",
    "\n",
    "positive_prior = False\n"
   ]
  },
  {
   "cell_type": "code",
   "execution_count": 3,
   "id": "ecdee336",
   "metadata": {
    "execution": {
     "iopub.execute_input": "2025-09-24T17:08:48.818808Z",
     "iopub.status.busy": "2025-09-24T17:08:48.818265Z",
     "iopub.status.idle": "2025-09-24T17:08:48.823682Z",
     "shell.execute_reply": "2025-09-24T17:08:48.822518Z"
    },
    "papermill": {
     "duration": 0.01335,
     "end_time": "2025-09-24T17:08:48.826561",
     "exception": false,
     "start_time": "2025-09-24T17:08:48.813211",
     "status": "completed"
    },
    "tags": [
     "injected-parameters"
    ]
   },
   "outputs": [],
   "source": [
    "# Parameters\n",
    "func_name = \"Gaussian\"\n",
    "positive_prior = False\n"
   ]
  },
  {
   "cell_type": "code",
   "execution_count": 4,
   "id": "f5e8319b",
   "metadata": {
    "execution": {
     "iopub.execute_input": "2025-09-24T17:08:48.835208Z",
     "iopub.status.busy": "2025-09-24T17:08:48.834768Z",
     "iopub.status.idle": "2025-09-24T17:08:48.848749Z",
     "shell.execute_reply": "2025-09-24T17:08:48.847749Z"
    },
    "lines_to_next_cell": 0,
    "nbsphinx": "hidden",
    "papermill": {
     "duration": 0.02086,
     "end_time": "2025-09-24T17:08:48.851006",
     "exception": false,
     "start_time": "2025-09-24T17:08:48.830146",
     "status": "completed"
    },
    "tags": []
   },
   "outputs": [],
   "source": [
    "func = _known_functions[func_name]()\n",
    "\n",
    "if not positive_prior:\n",
    "\n",
    "\tenergy_grid = np.linspace(-5,5,1000)\n",
    "\n",
    "else:\n",
    "    \n",
    "    energy_grid = np.linspace(0,1,1000)\n",
    "    \n",
    "    \n",
    "    \n",
    "    \n",
    "blue = \"#4152E3\"\n",
    "red = \"#E3414B\"\n",
    "green = \"#41E39E\""
   ]
  },
  {
   "cell_type": "markdown",
   "id": "da22c374",
   "metadata": {
    "lines_to_next_cell": 0,
    "papermill": {
     "duration": 0.001298,
     "end_time": "2025-09-24T17:08:48.855270",
     "exception": false,
     "start_time": "2025-09-24T17:08:48.853972",
     "status": "completed"
    },
    "tags": []
   },
   "source": [
    "## Description"
   ]
  },
  {
   "cell_type": "code",
   "execution_count": 5,
   "id": "347424fd",
   "metadata": {
    "execution": {
     "iopub.execute_input": "2025-09-24T17:08:48.859608Z",
     "iopub.status.busy": "2025-09-24T17:08:48.858785Z",
     "iopub.status.idle": "2025-09-24T17:08:48.871057Z",
     "shell.execute_reply": "2025-09-24T17:08:48.869782Z"
    },
    "papermill": {
     "duration": 0.017239,
     "end_time": "2025-09-24T17:08:48.873719",
     "exception": false,
     "start_time": "2025-09-24T17:08:48.856480",
     "status": "completed"
    },
    "tags": []
   },
   "outputs": [
    {
     "data": {
      "text/html": [
       "<ul>\n",
       "\n",
       "<li>description: A Gaussian function</li>\n",
       "\n",
       "<li>formula: $ K \\frac{1}{\\sigma \\sqrt{2 \\pi}}\\exp{\\frac{(x-\\mu)^2}{2~(\\sigma)^2}} $</li>\n",
       "\n",
       "<li>parameters: \n",
       "<ul>\n",
       "\n",
       "<li>F: \n",
       "<ul>\n",
       "\n",
       "<li>value: 1.0</li>\n",
       "\n",
       "<li>desc: Integral between -inf and +inf. Fix this to 1 to obtain a Normal distribution</li>\n",
       "\n",
       "<li>min_value: None</li>\n",
       "\n",
       "<li>max_value: None</li>\n",
       "\n",
       "<li>unit: </li>\n",
       "\n",
       "<li>is_normalization: False</li>\n",
       "\n",
       "<li>delta: 0.1</li>\n",
       "\n",
       "<li>free: True</li>\n",
       "\n",
       "</ul>\n",
       "\n",
       "</li>\n",
       "\n",
       "<li>mu: \n",
       "<ul>\n",
       "\n",
       "<li>value: 0.0</li>\n",
       "\n",
       "<li>desc: Central value</li>\n",
       "\n",
       "<li>min_value: None</li>\n",
       "\n",
       "<li>max_value: None</li>\n",
       "\n",
       "<li>unit: </li>\n",
       "\n",
       "<li>is_normalization: False</li>\n",
       "\n",
       "<li>delta: 0.1</li>\n",
       "\n",
       "<li>free: True</li>\n",
       "\n",
       "</ul>\n",
       "\n",
       "</li>\n",
       "\n",
       "<li>sigma: \n",
       "<ul>\n",
       "\n",
       "<li>value: 1.0</li>\n",
       "\n",
       "<li>desc: standard deviation</li>\n",
       "\n",
       "<li>min_value: 1e-12</li>\n",
       "\n",
       "<li>max_value: None</li>\n",
       "\n",
       "<li>unit: </li>\n",
       "\n",
       "<li>is_normalization: False</li>\n",
       "\n",
       "<li>delta: 0.1</li>\n",
       "\n",
       "<li>free: True</li>\n",
       "\n",
       "</ul>\n",
       "\n",
       "</li>\n",
       "\n",
       "</ul>\n",
       "\n",
       "</li>\n",
       "\n",
       "</ul>\n"
      ],
      "text/plain": [
       "  * description: A Gaussian function\n",
       "  * formula: $ K \\frac{1}{\\sigma \\sqrt{2 \\pi}}\\exp{\\frac{(x-\\mu)^2}{2~(\\sigma)^2}} $\n",
       "  * parameters:\n",
       "    * F:\n",
       "      * value: 1.0\n",
       "      * desc: Integral between -inf and +inf. Fix this to 1 to obtain a Normal distribution\n",
       "      * min_value: null\n",
       "      * max_value: null\n",
       "      * unit: ''\n",
       "      * is_normalization: false\n",
       "      * delta: 0.1\n",
       "      * free: true\n",
       "    * mu:\n",
       "      * value: 0.0\n",
       "      * desc: Central value\n",
       "      * min_value: null\n",
       "      * max_value: null\n",
       "      * unit: ''\n",
       "      * is_normalization: false\n",
       "      * delta: 0.1\n",
       "      * free: true\n",
       "    * sigma:\n",
       "      * value: 1.0\n",
       "      * desc: standard deviation\n",
       "      * min_value: 1.0e-12\n",
       "      * max_value: null\n",
       "      * unit: ''\n",
       "      * is_normalization: false\n",
       "      * delta: 0.1\n",
       "      * free: true"
      ]
     },
     "metadata": {},
     "output_type": "display_data"
    }
   ],
   "source": [
    "func.display()"
   ]
  },
  {
   "cell_type": "markdown",
   "id": "8a1e2feb",
   "metadata": {
    "papermill": {
     "duration": 0.00341,
     "end_time": "2025-09-24T17:08:48.881129",
     "exception": false,
     "start_time": "2025-09-24T17:08:48.877719",
     "status": "completed"
    },
    "tags": []
   },
   "source": [
    "## Shape \n",
    "\n",
    "The shape of the function. \n",
    "\n",
    "*If this is not a photon model but a prior or linear function then ignore the units as these docs are auto-generated*"
   ]
  },
  {
   "cell_type": "code",
   "execution_count": 6,
   "id": "8ef4eef3",
   "metadata": {
    "execution": {
     "iopub.execute_input": "2025-09-24T17:08:48.888307Z",
     "iopub.status.busy": "2025-09-24T17:08:48.887903Z",
     "iopub.status.idle": "2025-09-24T17:08:49.102401Z",
     "shell.execute_reply": "2025-09-24T17:08:49.101166Z"
    },
    "papermill": {
     "duration": 0.220843,
     "end_time": "2025-09-24T17:08:49.105939",
     "exception": false,
     "start_time": "2025-09-24T17:08:48.885096",
     "status": "completed"
    },
    "tags": [
     "nbsphinx-thumbnail"
    ]
   },
   "outputs": [
    {
     "data": {
      "text/plain": [
       "Text(0, 0.5, 'probability')"
      ]
     },
     "execution_count": 6,
     "metadata": {},
     "output_type": "execute_result"
    },
    {
     "data": {
      "image/png": "[encoded data removed]",
      "text/plain": [
       "<Figure size 1040x910 with 1 Axes>"
      ]
     },
     "metadata": {},
     "output_type": "display_data"
    }
   ],
   "source": [
    "fig, ax = plt.subplots()\n",
    "\n",
    "\n",
    "ax.plot(energy_grid, func(energy_grid), color=blue, lw=3)\n",
    "\n",
    "ax.set_xlabel(\"x\")\n",
    "ax.set_ylabel(\"probability\")\n"
   ]
  },
  {
   "cell_type": "markdown",
   "id": "8b68a60d",
   "metadata": {
    "papermill": {
     "duration": 0.003322,
     "end_time": "2025-09-24T17:08:49.112125",
     "exception": false,
     "start_time": "2025-09-24T17:08:49.108803",
     "status": "completed"
    },
    "tags": []
   },
   "source": [
    "## Random Number Generation\n",
    "\n",
    "This is how we can generate random numbers from the prior.\n"
   ]
  },
  {
   "cell_type": "code",
   "execution_count": 7,
   "id": "33c17013",
   "metadata": {
    "execution": {
     "iopub.execute_input": "2025-09-24T17:08:49.117257Z",
     "iopub.status.busy": "2025-09-24T17:08:49.116952Z",
     "iopub.status.idle": "2025-09-24T17:08:49.348053Z",
     "shell.execute_reply": "2025-09-24T17:08:49.346857Z"
    },
    "papermill": {
     "duration": 0.236074,
     "end_time": "2025-09-24T17:08:49.350300",
     "exception": false,
     "start_time": "2025-09-24T17:08:49.114226",
     "status": "completed"
    },
    "tags": []
   },
   "outputs": [
    {
     "data": {
      "text/plain": [
       "Text(0, 0.5, 'N')"
      ]
     },
     "execution_count": 7,
     "metadata": {},
     "output_type": "execute_result"
    },
    {
     "data": {
      "image/png": "[encoded data removed]",
      "text/plain": [
       "<Figure size 1040x910 with 1 Axes>"
      ]
     },
     "metadata": {},
     "output_type": "display_data"
    }
   ],
   "source": [
    "\n",
    "\n",
    "u = np.random.uniform(0,1, size=5000)\n",
    "\n",
    "draws = [func.from_unit_cube(x) for x in u]\n",
    "\n",
    "\n",
    "fig, ax = plt.subplots()\n",
    "\n",
    "\n",
    "ax.hist(draws, color=green, bins=50)\n",
    "\n",
    "ax.set_xlabel(\"value\")\n",
    "ax.set_ylabel(\"N\")\n",
    "\n"
   ]
  }
 ],
 "metadata": {
  "jupytext": {
   "formats": "ipynb,md"
  },
  "kernelspec": {
   "display_name": "Python 3 (ipykernel)",
   "language": "python",
   "name": "python3"
  },
  "language_info": {
   "codemirror_mode": {
    "name": "ipython",
    "version": 3
   },
   "file_extension": ".py",
   "mimetype": "text/x-python",
   "name": "python",
   "nbconvert_exporter": "python",
   "pygments_lexer": "ipython3",
   "version": "3.9.13"
  },
  "papermill": {
   "default_parameters": {},
   "duration": 4.249518,
   "end_time": "2025-09-24T17:08:49.884720",
   "environment_variables": {},
   "exception": null,
   "input_path": "Gaussian.ipynb",
   "output_path": "/Users/runner/work/astromodels/astromodels/docs/notebooks/Gaussian.ipynb",
   "parameters": {
    "func_name": "Gaussian",
    "positive_prior": false
   },
   "start_time": "2025-09-24T17:08:45.635202",
   "version": "2.6.0"
  }
 },
 "nbformat": 4,
 "nbformat_minor": 5
}
