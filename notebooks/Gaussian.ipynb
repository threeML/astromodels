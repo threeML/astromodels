{
 "cells": [
  {
   "cell_type": "markdown",
   "id": "1d28eb37",
   "metadata": {
    "papermill": {
     "duration": 0.001616,
     "end_time": "2025-10-01T20:54:09.859458",
     "exception": false,
     "start_time": "2025-10-01T20:54:09.857842",
     "status": "completed"
    },
    "tags": []
   },
   "source": [
    "# Gaussian"
   ]
  },
  {
   "cell_type": "code",
   "execution_count": 1,
   "id": "48f4e778",
   "metadata": {
    "execution": {
     "iopub.execute_input": "2025-10-01T20:54:09.863387Z",
     "iopub.status.busy": "2025-10-01T20:54:09.863201Z",
     "iopub.status.idle": "2025-10-01T20:54:12.627724Z",
     "shell.execute_reply": "2025-10-01T20:54:12.626442Z"
    },
    "nbsphinx": "hidden",
    "papermill": {
     "duration": 2.768454,
     "end_time": "2025-10-01T20:54:12.629642",
     "exception": false,
     "start_time": "2025-10-01T20:54:09.861188",
     "status": "completed"
    },
    "tags": []
   },
   "outputs": [],
   "source": [
    "%%capture\n",
    "\n",
    "import numpy as np\n",
    "\n",
    "import matplotlib.pyplot as plt\n",
    "\n",
    "import warnings\n",
    "warnings.simplefilter(\"ignore\")\n",
    "\n",
    "from astromodels.functions.function import _known_functions\n",
    "\n",
    "\n",
    "from jupyterthemes import jtplot\n",
    "jtplot.style(context=\"talk\", fscale=1, ticks=True, grid=False)\n",
    "%matplotlib inline"
   ]
  },
  {
   "cell_type": "code",
   "execution_count": 2,
   "id": "d460b722",
   "metadata": {
    "execution": {
     "iopub.execute_input": "2025-10-01T20:54:12.633806Z",
     "iopub.status.busy": "2025-10-01T20:54:12.633375Z",
     "iopub.status.idle": "2025-10-01T20:54:12.640208Z",
     "shell.execute_reply": "2025-10-01T20:54:12.639464Z"
    },
    "nbsphinx": "hidden",
    "papermill": {
     "duration": 0.010348,
     "end_time": "2025-10-01T20:54:12.641619",
     "exception": false,
     "start_time": "2025-10-01T20:54:12.631271",
     "status": "completed"
    },
    "tags": [
     "parameters"
    ]
   },
   "outputs": [],
   "source": [
    "func_name = \"TbAbs\"\n",
    "\n",
    "positive_prior = False\n"
   ]
  },
  {
   "cell_type": "code",
   "execution_count": 3,
   "id": "3d4c7ef9",
   "metadata": {
    "execution": {
     "iopub.execute_input": "2025-10-01T20:54:12.649535Z",
     "iopub.status.busy": "2025-10-01T20:54:12.649346Z",
     "iopub.status.idle": "2025-10-01T20:54:12.656156Z",
     "shell.execute_reply": "2025-10-01T20:54:12.655470Z"
    },
    "papermill": {
     "duration": 0.018869,
     "end_time": "2025-10-01T20:54:12.662080",
     "exception": false,
     "start_time": "2025-10-01T20:54:12.643211",
     "status": "completed"
    },
    "tags": [
     "injected-parameters"
    ]
   },
   "outputs": [],
   "source": [
    "# Parameters\n",
    "func_name = \"Gaussian\"\n",
    "positive_prior = False\n"
   ]
  },
  {
   "cell_type": "code",
   "execution_count": 4,
   "id": "0a486f6f",
   "metadata": {
    "execution": {
     "iopub.execute_input": "2025-10-01T20:54:12.665961Z",
     "iopub.status.busy": "2025-10-01T20:54:12.665750Z",
     "iopub.status.idle": "2025-10-01T20:54:12.674355Z",
     "shell.execute_reply": "2025-10-01T20:54:12.673106Z"
    },
    "lines_to_next_cell": 0,
    "nbsphinx": "hidden",
    "papermill": {
     "duration": 0.012676,
     "end_time": "2025-10-01T20:54:12.676226",
     "exception": false,
     "start_time": "2025-10-01T20:54:12.663550",
     "status": "completed"
    },
    "tags": []
   },
   "outputs": [],
   "source": [
    "func = _known_functions[func_name]()\n",
    "\n",
    "if not positive_prior:\n",
    "\n",
    "\tenergy_grid = np.linspace(-5,5,1000)\n",
    "\n",
    "else:\n",
    "    \n",
    "    energy_grid = np.linspace(0,1,1000)\n",
    "    \n",
    "    \n",
    "    \n",
    "    \n",
    "blue = \"#4152E3\"\n",
    "red = \"#E3414B\"\n",
    "green = \"#41E39E\""
   ]
  },
  {
   "cell_type": "markdown",
   "id": "57846784",
   "metadata": {
    "lines_to_next_cell": 0,
    "papermill": {
     "duration": 0.001362,
     "end_time": "2025-10-01T20:54:12.678980",
     "exception": false,
     "start_time": "2025-10-01T20:54:12.677618",
     "status": "completed"
    },
    "tags": []
   },
   "source": [
    "## Description"
   ]
  },
  {
   "cell_type": "code",
   "execution_count": 5,
   "id": "d1916db0",
   "metadata": {
    "execution": {
     "iopub.execute_input": "2025-10-01T20:54:12.682412Z",
     "iopub.status.busy": "2025-10-01T20:54:12.682197Z",
     "iopub.status.idle": "2025-10-01T20:54:12.694401Z",
     "shell.execute_reply": "2025-10-01T20:54:12.692821Z"
    },
    "papermill": {
     "duration": 0.019328,
     "end_time": "2025-10-01T20:54:12.699518",
     "exception": false,
     "start_time": "2025-10-01T20:54:12.680190",
     "status": "completed"
    },
    "tags": []
   },
   "outputs": [
    {
     "data": {
      "text/html": [
       "<ul>\n",
       "\n",
       "<li>description: A Gaussian function</li>\n",
       "\n",
       "<li>formula: $ K \\frac{1}{\\sigma \\sqrt{2 \\pi}}\\exp{\\frac{(x-\\mu)^2}{2~(\\sigma)^2}} $</li>\n",
       "\n",
       "<li>parameters: \n",
       "<ul>\n",
       "\n",
       "<li>F: \n",
       "<ul>\n",
       "\n",
       "<li>value: 1.0</li>\n",
       "\n",
       "<li>desc: Integral between -inf and +inf. Fix this to 1 to obtain a Normal distribution</li>\n",
       "\n",
       "<li>min_value: None</li>\n",
       "\n",
       "<li>max_value: None</li>\n",
       "\n",
       "<li>unit: </li>\n",
       "\n",
       "<li>is_normalization: False</li>\n",
       "\n",
       "<li>delta: 0.1</li>\n",
       "\n",
       "<li>free: True</li>\n",
       "\n",
       "</ul>\n",
       "\n",
       "</li>\n",
       "\n",
       "<li>mu: \n",
       "<ul>\n",
       "\n",
       "<li>value: 0.0</li>\n",
       "\n",
       "<li>desc: Central value</li>\n",
       "\n",
       "<li>min_value: None</li>\n",
       "\n",
       "<li>max_value: None</li>\n",
       "\n",
       "<li>unit: </li>\n",
       "\n",
       "<li>is_normalization: False</li>\n",
       "\n",
       "<li>delta: 0.1</li>\n",
       "\n",
       "<li>free: True</li>\n",
       "\n",
       "</ul>\n",
       "\n",
       "</li>\n",
       "\n",
       "<li>sigma: \n",
       "<ul>\n",
       "\n",
       "<li>value: 1.0</li>\n",
       "\n",
       "<li>desc: standard deviation</li>\n",
       "\n",
       "<li>min_value: 1e-12</li>\n",
       "\n",
       "<li>max_value: None</li>\n",
       "\n",
       "<li>unit: </li>\n",
       "\n",
       "<li>is_normalization: False</li>\n",
       "\n",
       "<li>delta: 0.1</li>\n",
       "\n",
       "<li>free: True</li>\n",
       "\n",
       "</ul>\n",
       "\n",
       "</li>\n",
       "\n",
       "</ul>\n",
       "\n",
       "</li>\n",
       "\n",
       "</ul>\n"
      ],
      "text/plain": [
       "  * description: A Gaussian function\n",
       "  * formula: $ K \\frac{1}{\\sigma \\sqrt{2 \\pi}}\\exp{\\frac{(x-\\mu)^2}{2~(\\sigma)^2}} $\n",
       "  * parameters:\n",
       "    * F:\n",
       "      * value: 1.0\n",
       "      * desc: Integral between -inf and +inf. Fix this to 1 to obtain a Normal distribution\n",
       "      * min_value: null\n",
       "      * max_value: null\n",
       "      * unit: ''\n",
       "      * is_normalization: false\n",
       "      * delta: 0.1\n",
       "      * free: true\n",
       "    * mu:\n",
       "      * value: 0.0\n",
       "      * desc: Central value\n",
       "      * min_value: null\n",
       "      * max_value: null\n",
       "      * unit: ''\n",
       "      * is_normalization: false\n",
       "      * delta: 0.1\n",
       "      * free: true\n",
       "    * sigma:\n",
       "      * value: 1.0\n",
       "      * desc: standard deviation\n",
       "      * min_value: 1.0e-12\n",
       "      * max_value: null\n",
       "      * unit: ''\n",
       "      * is_normalization: false\n",
       "      * delta: 0.1\n",
       "      * free: true"
      ]
     },
     "metadata": {},
     "output_type": "display_data"
    }
   ],
   "source": [
    "func.display()"
   ]
  },
  {
   "cell_type": "markdown",
   "id": "f67105dc",
   "metadata": {
    "papermill": {
     "duration": 0.001902,
     "end_time": "2025-10-01T20:54:12.704194",
     "exception": false,
     "start_time": "2025-10-01T20:54:12.702292",
     "status": "completed"
    },
    "tags": []
   },
   "source": [
    "## Shape \n",
    "\n",
    "The shape of the function. \n",
    "\n",
    "*If this is not a photon model but a prior or linear function then ignore the units as these docs are auto-generated*"
   ]
  },
  {
   "cell_type": "code",
   "execution_count": 6,
   "id": "1570fba8",
   "metadata": {
    "execution": {
     "iopub.execute_input": "2025-10-01T20:54:12.712325Z",
     "iopub.status.busy": "2025-10-01T20:54:12.709704Z",
     "iopub.status.idle": "2025-10-01T20:54:12.842492Z",
     "shell.execute_reply": "2025-10-01T20:54:12.839127Z"
    },
    "papermill": {
     "duration": 0.138739,
     "end_time": "2025-10-01T20:54:12.844791",
     "exception": false,
     "start_time": "2025-10-01T20:54:12.706052",
     "status": "completed"
    },
    "tags": [
     "nbsphinx-thumbnail"
    ]
   },
   "outputs": [
    {
     "data": {
      "text/plain": [
       "Text(0, 0.5, 'probability')"
      ]
     },
     "execution_count": 6,
     "metadata": {},
     "output_type": "execute_result"
    },
    {
     "data": {
      "image/png": "[encoded data removed]",
      "text/plain": [
       "<Figure size 1040x910 with 1 Axes>"
      ]
     },
     "metadata": {},
     "output_type": "display_data"
    }
   ],
   "source": [
    "fig, ax = plt.subplots()\n",
    "\n",
    "\n",
    "ax.plot(energy_grid, func(energy_grid), color=blue, lw=3)\n",
    "\n",
    "ax.set_xlabel(\"x\")\n",
    "ax.set_ylabel(\"probability\")\n"
   ]
  },
  {
   "cell_type": "markdown",
   "id": "e9d4a7a6",
   "metadata": {
    "papermill": {
     "duration": 0.004113,
     "end_time": "2025-10-01T20:54:12.855466",
     "exception": false,
     "start_time": "2025-10-01T20:54:12.851353",
     "status": "completed"
    },
    "tags": []
   },
   "source": [
    "## Random Number Generation\n",
    "\n",
    "This is how we can generate random numbers from the prior.\n"
   ]
  },
  {
   "cell_type": "code",
   "execution_count": 7,
   "id": "c089bb28",
   "metadata": {
    "execution": {
     "iopub.execute_input": "2025-10-01T20:54:12.862656Z",
     "iopub.status.busy": "2025-10-01T20:54:12.862169Z",
     "iopub.status.idle": "2025-10-01T20:54:13.012038Z",
     "shell.execute_reply": "2025-10-01T20:54:13.010671Z"
    },
    "papermill": {
     "duration": 0.165937,
     "end_time": "2025-10-01T20:54:13.025256",
     "exception": false,
     "start_time": "2025-10-01T20:54:12.859319",
     "status": "completed"
    },
    "tags": []
   },
   "outputs": [
    {
     "data": {
      "text/plain": [
       "Text(0, 0.5, 'N')"
      ]
     },
     "execution_count": 7,
     "metadata": {},
     "output_type": "execute_result"
    },
    {
     "data": {
      "image/png": "[encoded data removed]",
      "text/plain": [
       "<Figure size 1040x910 with 1 Axes>"
      ]
     },
     "metadata": {},
     "output_type": "display_data"
    }
   ],
   "source": [
    "\n",
    "\n",
    "u = np.random.uniform(0,1, size=5000)\n",
    "\n",
    "draws = [func.from_unit_cube(x) for x in u]\n",
    "\n",
    "\n",
    "fig, ax = plt.subplots()\n",
    "\n",
    "\n",
    "ax.hist(draws, color=green, bins=50)\n",
    "\n",
    "ax.set_xlabel(\"value\")\n",
    "ax.set_ylabel(\"N\")\n",
    "\n"
   ]
  }
 ],
 "metadata": {
  "jupytext": {
   "formats": "ipynb,md"
  },
  "kernelspec": {
   "display_name": "Python 3 (ipykernel)",
   "language": "python",
   "name": "python3"
  },
  "language_info": {
   "codemirror_mode": {
    "name": "ipython",
    "version": 3
   },
   "file_extension": ".py",
   "mimetype": "text/x-python",
   "name": "python",
   "nbconvert_exporter": "python",
   "pygments_lexer": "ipython3",
   "version": "3.9.13"
  },
  "papermill": {
   "default_parameters": {},
   "duration": 4.46301,
   "end_time": "2025-10-01T20:54:13.666524",
   "environment_variables": {},
   "exception": null,
   "input_path": "Gaussian.ipynb",
   "output_path": "/Users/runner/work/astromodels/astromodels/docs/notebooks/Gaussian.ipynb",
   "parameters": {
    "func_name": "Gaussian",
    "positive_prior": false
   },
   "start_time": "2025-10-01T20:54:09.203514",
   "version": "2.6.0"
  }
 },
 "nbformat": 4,
 "nbformat_minor": 5
}
