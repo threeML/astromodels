{
 "cells": [
  {
   "cell_type": "markdown",
   "id": "fd99566d",
   "metadata": {
    "papermill": {
     "duration": 0.00154,
     "end_time": "2025-09-23T21:48:34.604491",
     "exception": false,
     "start_time": "2025-09-23T21:48:34.602951",
     "status": "completed"
    },
    "tags": []
   },
   "source": [
    "# Cosine Prior"
   ]
  },
  {
   "cell_type": "code",
   "execution_count": 1,
   "id": "7ef3b85d",
   "metadata": {
    "execution": {
     "iopub.execute_input": "2025-09-23T21:48:34.608344Z",
     "iopub.status.busy": "2025-09-23T21:48:34.608074Z",
     "iopub.status.idle": "2025-09-23T21:48:36.660280Z",
     "shell.execute_reply": "2025-09-23T21:48:36.659752Z"
    },
    "nbsphinx": "hidden",
    "papermill": {
     "duration": 2.0557,
     "end_time": "2025-09-23T21:48:36.661585",
     "exception": false,
     "start_time": "2025-09-23T21:48:34.605885",
     "status": "completed"
    },
    "tags": []
   },
   "outputs": [],
   "source": [
    "%%capture\n",
    "\n",
    "import numpy as np\n",
    "\n",
    "import matplotlib.pyplot as plt\n",
    "\n",
    "import warnings\n",
    "warnings.simplefilter(\"ignore\")\n",
    "\n",
    "from astromodels.functions.function import _known_functions\n",
    "\n",
    "\n",
    "from jupyterthemes import jtplot\n",
    "jtplot.style(context=\"talk\", fscale=1, ticks=True, grid=False)\n",
    "%matplotlib inline"
   ]
  },
  {
   "cell_type": "code",
   "execution_count": 2,
   "id": "83492720",
   "metadata": {
    "execution": {
     "iopub.execute_input": "2025-09-23T21:48:36.665181Z",
     "iopub.status.busy": "2025-09-23T21:48:36.664779Z",
     "iopub.status.idle": "2025-09-23T21:48:36.671172Z",
     "shell.execute_reply": "2025-09-23T21:48:36.670623Z"
    },
    "nbsphinx": "hidden",
    "papermill": {
     "duration": 0.009407,
     "end_time": "2025-09-23T21:48:36.672349",
     "exception": false,
     "start_time": "2025-09-23T21:48:36.662942",
     "status": "completed"
    },
    "tags": [
     "parameters"
    ]
   },
   "outputs": [],
   "source": [
    "func_name = \"TbAbs\"\n",
    "\n",
    "positive_prior = False\n"
   ]
  },
  {
   "cell_type": "code",
   "execution_count": 3,
   "id": "59565aae",
   "metadata": {
    "execution": {
     "iopub.execute_input": "2025-09-23T21:48:36.675868Z",
     "iopub.status.busy": "2025-09-23T21:48:36.675688Z",
     "iopub.status.idle": "2025-09-23T21:48:36.681021Z",
     "shell.execute_reply": "2025-09-23T21:48:36.680386Z"
    },
    "papermill": {
     "duration": 0.008817,
     "end_time": "2025-09-23T21:48:36.682418",
     "exception": false,
     "start_time": "2025-09-23T21:48:36.673601",
     "status": "completed"
    },
    "tags": [
     "injected-parameters"
    ]
   },
   "outputs": [],
   "source": [
    "# Parameters\n",
    "func_name = \"Cosine_Prior\"\n",
    "positive_prior = False\n"
   ]
  },
  {
   "cell_type": "code",
   "execution_count": 4,
   "id": "15c5a492",
   "metadata": {
    "execution": {
     "iopub.execute_input": "2025-09-23T21:48:36.685886Z",
     "iopub.status.busy": "2025-09-23T21:48:36.685707Z",
     "iopub.status.idle": "2025-09-23T21:48:36.691653Z",
     "shell.execute_reply": "2025-09-23T21:48:36.691081Z"
    },
    "lines_to_next_cell": 0,
    "nbsphinx": "hidden",
    "papermill": {
     "duration": 0.009144,
     "end_time": "2025-09-23T21:48:36.692855",
     "exception": false,
     "start_time": "2025-09-23T21:48:36.683711",
     "status": "completed"
    },
    "tags": []
   },
   "outputs": [],
   "source": [
    "func = _known_functions[func_name]()\n",
    "\n",
    "if not positive_prior:\n",
    "\n",
    "\tenergy_grid = np.linspace(-5,5,1000)\n",
    "\n",
    "else:\n",
    "    \n",
    "    energy_grid = np.linspace(0,1,1000)\n",
    "    \n",
    "    \n",
    "    \n",
    "    \n",
    "blue = \"#4152E3\"\n",
    "red = \"#E3414B\"\n",
    "green = \"#41E39E\""
   ]
  },
  {
   "cell_type": "markdown",
   "id": "c3944bf5",
   "metadata": {
    "lines_to_next_cell": 0,
    "papermill": {
     "duration": 0.001057,
     "end_time": "2025-09-23T21:48:36.695186",
     "exception": false,
     "start_time": "2025-09-23T21:48:36.694129",
     "status": "completed"
    },
    "tags": []
   },
   "source": [
    "## Description"
   ]
  },
  {
   "cell_type": "code",
   "execution_count": 5,
   "id": "731ed42c",
   "metadata": {
    "execution": {
     "iopub.execute_input": "2025-09-23T21:48:36.698269Z",
     "iopub.status.busy": "2025-09-23T21:48:36.698110Z",
     "iopub.status.idle": "2025-09-23T21:48:36.705121Z",
     "shell.execute_reply": "2025-09-23T21:48:36.704636Z"
    },
    "papermill": {
     "duration": 0.009885,
     "end_time": "2025-09-23T21:48:36.706276",
     "exception": false,
     "start_time": "2025-09-23T21:48:36.696391",
     "status": "completed"
    },
    "tags": []
   },
   "outputs": [
    {
     "data": {
      "text/html": [
       "<ul>\n",
       "\n",
       "<li>description: A function which is constant on the interval angular interval of cosine</li>\n",
       "\n",
       "<li>formula: $\\cos(x)$</li>\n",
       "\n",
       "<li>parameters: \n",
       "<ul>\n",
       "\n",
       "<li>lower_bound: \n",
       "<ul>\n",
       "\n",
       "<li>value: -90.0</li>\n",
       "\n",
       "<li>desc: Lower bound for the interval</li>\n",
       "\n",
       "<li>min_value: -inf</li>\n",
       "\n",
       "<li>max_value: inf</li>\n",
       "\n",
       "<li>unit: </li>\n",
       "\n",
       "<li>is_normalization: False</li>\n",
       "\n",
       "<li>delta: 9.0</li>\n",
       "\n",
       "<li>free: True</li>\n",
       "\n",
       "</ul>\n",
       "\n",
       "</li>\n",
       "\n",
       "<li>upper_bound: \n",
       "<ul>\n",
       "\n",
       "<li>value: 90.0</li>\n",
       "\n",
       "<li>desc: Upper bound for the interval</li>\n",
       "\n",
       "<li>min_value: -inf</li>\n",
       "\n",
       "<li>max_value: inf</li>\n",
       "\n",
       "<li>unit: </li>\n",
       "\n",
       "<li>is_normalization: False</li>\n",
       "\n",
       "<li>delta: 9.0</li>\n",
       "\n",
       "<li>free: True</li>\n",
       "\n",
       "</ul>\n",
       "\n",
       "</li>\n",
       "\n",
       "<li>value: \n",
       "<ul>\n",
       "\n",
       "<li>value: 1.0</li>\n",
       "\n",
       "<li>desc: Value in the interval</li>\n",
       "\n",
       "<li>min_value: None</li>\n",
       "\n",
       "<li>max_value: None</li>\n",
       "\n",
       "<li>unit: </li>\n",
       "\n",
       "<li>is_normalization: False</li>\n",
       "\n",
       "<li>delta: 0.1</li>\n",
       "\n",
       "<li>free: True</li>\n",
       "\n",
       "</ul>\n",
       "\n",
       "</li>\n",
       "\n",
       "</ul>\n",
       "\n",
       "</li>\n",
       "\n",
       "</ul>\n"
      ],
      "text/plain": [
       "  * description: A function which is constant on the interval angular interval of cosine\n",
       "  * formula: $\\cos(x)$\n",
       "  * parameters:\n",
       "    * lower_bound:\n",
       "      * value: -90.0\n",
       "      * desc: Lower bound for the interval\n",
       "      * min_value: -.inf\n",
       "      * max_value: .inf\n",
       "      * unit: ''\n",
       "      * is_normalization: false\n",
       "      * delta: 9.0\n",
       "      * free: true\n",
       "    * upper_bound:\n",
       "      * value: 90.0\n",
       "      * desc: Upper bound for the interval\n",
       "      * min_value: -.inf\n",
       "      * max_value: .inf\n",
       "      * unit: ''\n",
       "      * is_normalization: false\n",
       "      * delta: 9.0\n",
       "      * free: true\n",
       "    * value:\n",
       "      * value: 1.0\n",
       "      * desc: Value in the interval\n",
       "      * min_value: null\n",
       "      * max_value: null\n",
       "      * unit: ''\n",
       "      * is_normalization: false\n",
       "      * delta: 0.1\n",
       "      * free: true"
      ]
     },
     "metadata": {},
     "output_type": "display_data"
    }
   ],
   "source": [
    "func.display()"
   ]
  },
  {
   "cell_type": "markdown",
   "id": "5d097754",
   "metadata": {
    "papermill": {
     "duration": 0.001372,
     "end_time": "2025-09-23T21:48:36.709238",
     "exception": false,
     "start_time": "2025-09-23T21:48:36.707866",
     "status": "completed"
    },
    "tags": []
   },
   "source": [
    "## Shape \n",
    "\n",
    "The shape of the function. \n",
    "\n",
    "*If this is not a photon model but a prior or linear function then ignore the units as these docs are auto-generated*"
   ]
  },
  {
   "cell_type": "code",
   "execution_count": 6,
   "id": "3a552999",
   "metadata": {
    "execution": {
     "iopub.execute_input": "2025-09-23T21:48:36.712447Z",
     "iopub.status.busy": "2025-09-23T21:48:36.712262Z",
     "iopub.status.idle": "2025-09-23T21:48:36.843346Z",
     "shell.execute_reply": "2025-09-23T21:48:36.839948Z"
    },
    "papermill": {
     "duration": 0.134108,
     "end_time": "2025-09-23T21:48:36.844555",
     "exception": false,
     "start_time": "2025-09-23T21:48:36.710447",
     "status": "completed"
    },
    "tags": [
     "nbsphinx-thumbnail"
    ]
   },
   "outputs": [
    {
     "data": {
      "text/plain": [
       "Text(0, 0.5, 'probability')"
      ]
     },
     "execution_count": 6,
     "metadata": {},
     "output_type": "execute_result"
    },
    {
     "data": {
      "image/png": "[encoded data removed]",
      "text/plain": [
       "<Figure size 1040x910 with 1 Axes>"
      ]
     },
     "metadata": {},
     "output_type": "display_data"
    }
   ],
   "source": [
    "fig, ax = plt.subplots()\n",
    "\n",
    "\n",
    "ax.plot(energy_grid, func(energy_grid), color=blue, lw=3)\n",
    "\n",
    "ax.set_xlabel(\"x\")\n",
    "ax.set_ylabel(\"probability\")\n"
   ]
  },
  {
   "cell_type": "markdown",
   "id": "0d87f73e",
   "metadata": {
    "papermill": {
     "duration": 0.001548,
     "end_time": "2025-09-23T21:48:36.848023",
     "exception": false,
     "start_time": "2025-09-23T21:48:36.846475",
     "status": "completed"
    },
    "tags": []
   },
   "source": [
    "## Random Number Generation\n",
    "\n",
    "This is how we can generate random numbers from the prior.\n"
   ]
  },
  {
   "cell_type": "code",
   "execution_count": 7,
   "id": "1ae00e4a",
   "metadata": {
    "execution": {
     "iopub.execute_input": "2025-09-23T21:48:36.851978Z",
     "iopub.status.busy": "2025-09-23T21:48:36.851810Z",
     "iopub.status.idle": "2025-09-23T21:48:37.039313Z",
     "shell.execute_reply": "2025-09-23T21:48:37.038326Z"
    },
    "papermill": {
     "duration": 0.191066,
     "end_time": "2025-09-23T21:48:37.040592",
     "exception": false,
     "start_time": "2025-09-23T21:48:36.849526",
     "status": "completed"
    },
    "tags": []
   },
   "outputs": [
    {
     "data": {
      "text/plain": [
       "Text(0, 0.5, 'N')"
      ]
     },
     "execution_count": 7,
     "metadata": {},
     "output_type": "execute_result"
    },
    {
     "data": {
      "image/png": "[encoded data removed]",
      "text/plain": [
       "<Figure size 1040x910 with 1 Axes>"
      ]
     },
     "metadata": {},
     "output_type": "display_data"
    }
   ],
   "source": [
    "\n",
    "\n",
    "u = np.random.uniform(0,1, size=5000)\n",
    "\n",
    "draws = [func.from_unit_cube(x) for x in u]\n",
    "\n",
    "\n",
    "fig, ax = plt.subplots()\n",
    "\n",
    "\n",
    "ax.hist(draws, color=green, bins=50)\n",
    "\n",
    "ax.set_xlabel(\"value\")\n",
    "ax.set_ylabel(\"N\")\n",
    "\n"
   ]
  }
 ],
 "metadata": {
  "jupytext": {
   "formats": "ipynb,md"
  },
  "kernelspec": {
   "display_name": "Python 3 (ipykernel)",
   "language": "python",
   "name": "python3"
  },
  "language_info": {
   "codemirror_mode": {
    "name": "ipython",
    "version": 3
   },
   "file_extension": ".py",
   "mimetype": "text/x-python",
   "name": "python",
   "nbconvert_exporter": "python",
   "pygments_lexer": "ipython3",
   "version": "3.9.13"
  },
  "papermill": {
   "default_parameters": {},
   "duration": 3.569257,
   "end_time": "2025-09-23T21:48:37.570845",
   "environment_variables": {},
   "exception": null,
   "input_path": "Cosine_Prior.ipynb",
   "output_path": "/Users/runner/work/astromodels/astromodels/docs/notebooks/Cosine_Prior.ipynb",
   "parameters": {
    "func_name": "Cosine_Prior",
    "positive_prior": false
   },
   "start_time": "2025-09-23T21:48:34.001588",
   "version": "2.6.0"
  }
 },
 "nbformat": 4,
 "nbformat_minor": 5
}
