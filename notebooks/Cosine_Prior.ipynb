{
 "cells": [
  {
   "cell_type": "markdown",
   "id": "f89f690c",
   "metadata": {
    "papermill": {
     "duration": 0.001576,
     "end_time": "2025-10-01T23:26:24.145467",
     "exception": false,
     "start_time": "2025-10-01T23:26:24.143891",
     "status": "completed"
    },
    "tags": []
   },
   "source": [
    "# Cosine Prior"
   ]
  },
  {
   "cell_type": "code",
   "execution_count": 1,
   "id": "ed9b4c35",
   "metadata": {
    "execution": {
     "iopub.execute_input": "2025-10-01T23:26:24.148859Z",
     "iopub.status.busy": "2025-10-01T23:26:24.148678Z",
     "iopub.status.idle": "2025-10-01T23:26:26.226300Z",
     "shell.execute_reply": "2025-10-01T23:26:26.225738Z"
    },
    "nbsphinx": "hidden",
    "papermill": {
     "duration": 2.080947,
     "end_time": "2025-10-01T23:26:26.227700",
     "exception": false,
     "start_time": "2025-10-01T23:26:24.146753",
     "status": "completed"
    },
    "tags": []
   },
   "outputs": [],
   "source": [
    "%%capture\n",
    "\n",
    "import numpy as np\n",
    "\n",
    "import matplotlib.pyplot as plt\n",
    "\n",
    "import warnings\n",
    "warnings.simplefilter(\"ignore\")\n",
    "\n",
    "from astromodels.functions.function import _known_functions\n",
    "\n",
    "\n",
    "from jupyterthemes import jtplot\n",
    "jtplot.style(context=\"talk\", fscale=1, ticks=True, grid=False)\n",
    "%matplotlib inline"
   ]
  },
  {
   "cell_type": "code",
   "execution_count": 2,
   "id": "546504d1",
   "metadata": {
    "execution": {
     "iopub.execute_input": "2025-10-01T23:26:26.230953Z",
     "iopub.status.busy": "2025-10-01T23:26:26.230594Z",
     "iopub.status.idle": "2025-10-01T23:26:26.232711Z",
     "shell.execute_reply": "2025-10-01T23:26:26.232331Z"
    },
    "nbsphinx": "hidden",
    "papermill": {
     "duration": 0.004752,
     "end_time": "2025-10-01T23:26:26.233745",
     "exception": false,
     "start_time": "2025-10-01T23:26:26.228993",
     "status": "completed"
    },
    "tags": [
     "parameters"
    ]
   },
   "outputs": [],
   "source": [
    "func_name = \"TbAbs\"\n",
    "\n",
    "positive_prior = False\n"
   ]
  },
  {
   "cell_type": "code",
   "execution_count": 3,
   "id": "ec54922a",
   "metadata": {
    "execution": {
     "iopub.execute_input": "2025-10-01T23:26:26.236404Z",
     "iopub.status.busy": "2025-10-01T23:26:26.236274Z",
     "iopub.status.idle": "2025-10-01T23:26:26.242742Z",
     "shell.execute_reply": "2025-10-01T23:26:26.242312Z"
    },
    "papermill": {
     "duration": 0.009064,
     "end_time": "2025-10-01T23:26:26.243868",
     "exception": false,
     "start_time": "2025-10-01T23:26:26.234804",
     "status": "completed"
    },
    "tags": [
     "injected-parameters"
    ]
   },
   "outputs": [],
   "source": [
    "# Parameters\n",
    "func_name = \"Cosine_Prior\"\n",
    "positive_prior = False\n"
   ]
  },
  {
   "cell_type": "code",
   "execution_count": 4,
   "id": "6dbbff78",
   "metadata": {
    "execution": {
     "iopub.execute_input": "2025-10-01T23:26:26.246617Z",
     "iopub.status.busy": "2025-10-01T23:26:26.246474Z",
     "iopub.status.idle": "2025-10-01T23:26:26.253997Z",
     "shell.execute_reply": "2025-10-01T23:26:26.253502Z"
    },
    "lines_to_next_cell": 0,
    "nbsphinx": "hidden",
    "papermill": {
     "duration": 0.010355,
     "end_time": "2025-10-01T23:26:26.255329",
     "exception": false,
     "start_time": "2025-10-01T23:26:26.244974",
     "status": "completed"
    },
    "tags": []
   },
   "outputs": [],
   "source": [
    "func = _known_functions[func_name]()\n",
    "\n",
    "if not positive_prior:\n",
    "\n",
    "\tenergy_grid = np.linspace(-5,5,1000)\n",
    "\n",
    "else:\n",
    "    \n",
    "    energy_grid = np.linspace(0,1,1000)\n",
    "    \n",
    "    \n",
    "    \n",
    "    \n",
    "blue = \"#4152E3\"\n",
    "red = \"#E3414B\"\n",
    "green = \"#41E39E\""
   ]
  },
  {
   "cell_type": "markdown",
   "id": "aa3753c6",
   "metadata": {
    "lines_to_next_cell": 0,
    "papermill": {
     "duration": 0.001234,
     "end_time": "2025-10-01T23:26:26.257913",
     "exception": false,
     "start_time": "2025-10-01T23:26:26.256679",
     "status": "completed"
    },
    "tags": []
   },
   "source": [
    "## Description"
   ]
  },
  {
   "cell_type": "code",
   "execution_count": 5,
   "id": "89c960d9",
   "metadata": {
    "execution": {
     "iopub.execute_input": "2025-10-01T23:26:26.261031Z",
     "iopub.status.busy": "2025-10-01T23:26:26.260858Z",
     "iopub.status.idle": "2025-10-01T23:26:26.265767Z",
     "shell.execute_reply": "2025-10-01T23:26:26.265347Z"
    },
    "papermill": {
     "duration": 0.007884,
     "end_time": "2025-10-01T23:26:26.266913",
     "exception": false,
     "start_time": "2025-10-01T23:26:26.259029",
     "status": "completed"
    },
    "tags": []
   },
   "outputs": [
    {
     "data": {
      "text/html": [
       "<ul>\n",
       "\n",
       "<li>description: A function which is constant on the interval angular interval of cosine</li>\n",
       "\n",
       "<li>formula: $\\cos(x)$</li>\n",
       "\n",
       "<li>parameters: \n",
       "<ul>\n",
       "\n",
       "<li>lower_bound: \n",
       "<ul>\n",
       "\n",
       "<li>value: -90.0</li>\n",
       "\n",
       "<li>desc: Lower bound for the interval</li>\n",
       "\n",
       "<li>min_value: -inf</li>\n",
       "\n",
       "<li>max_value: inf</li>\n",
       "\n",
       "<li>unit: </li>\n",
       "\n",
       "<li>is_normalization: False</li>\n",
       "\n",
       "<li>delta: 9.0</li>\n",
       "\n",
       "<li>free: True</li>\n",
       "\n",
       "</ul>\n",
       "\n",
       "</li>\n",
       "\n",
       "<li>upper_bound: \n",
       "<ul>\n",
       "\n",
       "<li>value: 90.0</li>\n",
       "\n",
       "<li>desc: Upper bound for the interval</li>\n",
       "\n",
       "<li>min_value: -inf</li>\n",
       "\n",
       "<li>max_value: inf</li>\n",
       "\n",
       "<li>unit: </li>\n",
       "\n",
       "<li>is_normalization: False</li>\n",
       "\n",
       "<li>delta: 9.0</li>\n",
       "\n",
       "<li>free: True</li>\n",
       "\n",
       "</ul>\n",
       "\n",
       "</li>\n",
       "\n",
       "<li>value: \n",
       "<ul>\n",
       "\n",
       "<li>value: 1.0</li>\n",
       "\n",
       "<li>desc: Value in the interval</li>\n",
       "\n",
       "<li>min_value: None</li>\n",
       "\n",
       "<li>max_value: None</li>\n",
       "\n",
       "<li>unit: </li>\n",
       "\n",
       "<li>is_normalization: False</li>\n",
       "\n",
       "<li>delta: 0.1</li>\n",
       "\n",
       "<li>free: True</li>\n",
       "\n",
       "</ul>\n",
       "\n",
       "</li>\n",
       "\n",
       "</ul>\n",
       "\n",
       "</li>\n",
       "\n",
       "</ul>\n"
      ],
      "text/plain": [
       "  * description: A function which is constant on the interval angular interval of cosine\n",
       "  * formula: $\\cos(x)$\n",
       "  * parameters:\n",
       "    * lower_bound:\n",
       "      * value: -90.0\n",
       "      * desc: Lower bound for the interval\n",
       "      * min_value: -.inf\n",
       "      * max_value: .inf\n",
       "      * unit: ''\n",
       "      * is_normalization: false\n",
       "      * delta: 9.0\n",
       "      * free: true\n",
       "    * upper_bound:\n",
       "      * value: 90.0\n",
       "      * desc: Upper bound for the interval\n",
       "      * min_value: -.inf\n",
       "      * max_value: .inf\n",
       "      * unit: ''\n",
       "      * is_normalization: false\n",
       "      * delta: 9.0\n",
       "      * free: true\n",
       "    * value:\n",
       "      * value: 1.0\n",
       "      * desc: Value in the interval\n",
       "      * min_value: null\n",
       "      * max_value: null\n",
       "      * unit: ''\n",
       "      * is_normalization: false\n",
       "      * delta: 0.1\n",
       "      * free: true"
      ]
     },
     "metadata": {},
     "output_type": "display_data"
    }
   ],
   "source": [
    "func.display()"
   ]
  },
  {
   "cell_type": "markdown",
   "id": "73cb2070",
   "metadata": {
    "papermill": {
     "duration": 0.001212,
     "end_time": "2025-10-01T23:26:26.269503",
     "exception": false,
     "start_time": "2025-10-01T23:26:26.268291",
     "status": "completed"
    },
    "tags": []
   },
   "source": [
    "## Shape \n",
    "\n",
    "The shape of the function. \n",
    "\n",
    "*If this is not a photon model but a prior or linear function then ignore the units as these docs are auto-generated*"
   ]
  },
  {
   "cell_type": "code",
   "execution_count": 6,
   "id": "caa30d8d",
   "metadata": {
    "execution": {
     "iopub.execute_input": "2025-10-01T23:26:26.272576Z",
     "iopub.status.busy": "2025-10-01T23:26:26.272391Z",
     "iopub.status.idle": "2025-10-01T23:26:26.454936Z",
     "shell.execute_reply": "2025-10-01T23:26:26.452530Z"
    },
    "papermill": {
     "duration": 0.185316,
     "end_time": "2025-10-01T23:26:26.455950",
     "exception": false,
     "start_time": "2025-10-01T23:26:26.270634",
     "status": "completed"
    },
    "tags": [
     "nbsphinx-thumbnail"
    ]
   },
   "outputs": [
    {
     "data": {
      "text/plain": [
       "Text(0, 0.5, 'probability')"
      ]
     },
     "execution_count": 6,
     "metadata": {},
     "output_type": "execute_result"
    },
    {
     "data": {
      "image/png": "[encoded data removed]",
      "text/plain": [
       "<Figure size 1040x910 with 1 Axes>"
      ]
     },
     "metadata": {},
     "output_type": "display_data"
    }
   ],
   "source": [
    "fig, ax = plt.subplots()\n",
    "\n",
    "\n",
    "ax.plot(energy_grid, func(energy_grid), color=blue, lw=3)\n",
    "\n",
    "ax.set_xlabel(\"x\")\n",
    "ax.set_ylabel(\"probability\")\n"
   ]
  },
  {
   "cell_type": "markdown",
   "id": "7931380c",
   "metadata": {
    "papermill": {
     "duration": 0.001443,
     "end_time": "2025-10-01T23:26:26.459174",
     "exception": false,
     "start_time": "2025-10-01T23:26:26.457731",
     "status": "completed"
    },
    "tags": []
   },
   "source": [
    "## Random Number Generation\n",
    "\n",
    "This is how we can generate random numbers from the prior.\n"
   ]
  },
  {
   "cell_type": "code",
   "execution_count": 7,
   "id": "474ef190",
   "metadata": {
    "execution": {
     "iopub.execute_input": "2025-10-01T23:26:26.464276Z",
     "iopub.status.busy": "2025-10-01T23:26:26.462834Z",
     "iopub.status.idle": "2025-10-01T23:26:26.644405Z",
     "shell.execute_reply": "2025-10-01T23:26:26.642958Z"
    },
    "papermill": {
     "duration": 0.213809,
     "end_time": "2025-10-01T23:26:26.674358",
     "exception": false,
     "start_time": "2025-10-01T23:26:26.460549",
     "status": "completed"
    },
    "tags": []
   },
   "outputs": [
    {
     "data": {
      "text/plain": [
       "Text(0, 0.5, 'N')"
      ]
     },
     "execution_count": 7,
     "metadata": {},
     "output_type": "execute_result"
    },
    {
     "data": {
      "image/png": "[encoded data removed]",
      "text/plain": [
       "<Figure size 1040x910 with 1 Axes>"
      ]
     },
     "metadata": {},
     "output_type": "display_data"
    }
   ],
   "source": [
    "\n",
    "\n",
    "u = np.random.uniform(0,1, size=5000)\n",
    "\n",
    "draws = [func.from_unit_cube(x) for x in u]\n",
    "\n",
    "\n",
    "fig, ax = plt.subplots()\n",
    "\n",
    "\n",
    "ax.hist(draws, color=green, bins=50)\n",
    "\n",
    "ax.set_xlabel(\"value\")\n",
    "ax.set_ylabel(\"N\")\n",
    "\n"
   ]
  }
 ],
 "metadata": {
  "jupytext": {
   "formats": "ipynb,md"
  },
  "kernelspec": {
   "display_name": "Python 3 (ipykernel)",
   "language": "python",
   "name": "python3"
  },
  "language_info": {
   "codemirror_mode": {
    "name": "ipython",
    "version": 3
   },
   "file_extension": ".py",
   "mimetype": "text/x-python",
   "name": "python",
   "nbconvert_exporter": "python",
   "pygments_lexer": "ipython3",
   "version": "3.9.13"
  },
  "papermill": {
   "default_parameters": {},
   "duration": 3.563559,
   "end_time": "2025-10-01T23:26:27.107432",
   "environment_variables": {},
   "exception": null,
   "input_path": "Cosine_Prior.ipynb",
   "output_path": "/Users/runner/work/astromodels/astromodels/docs/notebooks/Cosine_Prior.ipynb",
   "parameters": {
    "func_name": "Cosine_Prior",
    "positive_prior": false
   },
   "start_time": "2025-10-01T23:26:23.543873",
   "version": "2.6.0"
  }
 },
 "nbformat": 4,
 "nbformat_minor": 5
}
