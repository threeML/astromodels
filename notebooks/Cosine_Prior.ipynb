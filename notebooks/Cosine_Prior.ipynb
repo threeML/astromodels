{
 "cells": [
  {
   "cell_type": "markdown",
   "id": "5a0e6d4f",
   "metadata": {
    "papermill": {
     "duration": 0.002642,
     "end_time": "2025-10-03T18:32:27.057117",
     "exception": false,
     "start_time": "2025-10-03T18:32:27.054475",
     "status": "completed"
    },
    "tags": []
   },
   "source": [
    "# Cosine Prior"
   ]
  },
  {
   "cell_type": "code",
   "execution_count": 1,
   "id": "807abc0a",
   "metadata": {
    "execution": {
     "iopub.execute_input": "2025-10-03T18:32:27.061909Z",
     "iopub.status.busy": "2025-10-03T18:32:27.061743Z",
     "iopub.status.idle": "2025-10-03T18:32:29.133600Z",
     "shell.execute_reply": "2025-10-03T18:32:29.132833Z"
    },
    "nbsphinx": "hidden",
    "papermill": {
     "duration": 2.075656,
     "end_time": "2025-10-03T18:32:29.134848",
     "exception": false,
     "start_time": "2025-10-03T18:32:27.059192",
     "status": "completed"
    },
    "tags": []
   },
   "outputs": [],
   "source": [
    "%%capture\n",
    "\n",
    "import numpy as np\n",
    "\n",
    "import matplotlib.pyplot as plt\n",
    "\n",
    "import warnings\n",
    "warnings.simplefilter(\"ignore\")\n",
    "\n",
    "from astromodels.functions.function import _known_functions\n",
    "\n",
    "\n",
    "from jupyterthemes import jtplot\n",
    "jtplot.style(context=\"talk\", fscale=1, ticks=True, grid=False)\n",
    "%matplotlib inline"
   ]
  },
  {
   "cell_type": "code",
   "execution_count": 2,
   "id": "b27621d3",
   "metadata": {
    "execution": {
     "iopub.execute_input": "2025-10-03T18:32:29.143396Z",
     "iopub.status.busy": "2025-10-03T18:32:29.142952Z",
     "iopub.status.idle": "2025-10-03T18:32:29.148445Z",
     "shell.execute_reply": "2025-10-03T18:32:29.147205Z"
    },
    "nbsphinx": "hidden",
    "papermill": {
     "duration": 0.014477,
     "end_time": "2025-10-03T18:32:29.150777",
     "exception": false,
     "start_time": "2025-10-03T18:32:29.136300",
     "status": "completed"
    },
    "tags": [
     "parameters"
    ]
   },
   "outputs": [],
   "source": [
    "func_name = \"TbAbs\"\n",
    "\n",
    "positive_prior = False\n"
   ]
  },
  {
   "cell_type": "code",
   "execution_count": 3,
   "id": "5c2ca26c",
   "metadata": {
    "execution": {
     "iopub.execute_input": "2025-10-03T18:32:29.155819Z",
     "iopub.status.busy": "2025-10-03T18:32:29.155473Z",
     "iopub.status.idle": "2025-10-03T18:32:29.157671Z",
     "shell.execute_reply": "2025-10-03T18:32:29.157297Z"
    },
    "papermill": {
     "duration": 0.006542,
     "end_time": "2025-10-03T18:32:29.158685",
     "exception": false,
     "start_time": "2025-10-03T18:32:29.152143",
     "status": "completed"
    },
    "tags": [
     "injected-parameters"
    ]
   },
   "outputs": [],
   "source": [
    "# Parameters\n",
    "func_name = \"Cosine_Prior\"\n",
    "positive_prior = False\n"
   ]
  },
  {
   "cell_type": "code",
   "execution_count": 4,
   "id": "55cfc8f0",
   "metadata": {
    "execution": {
     "iopub.execute_input": "2025-10-03T18:32:29.162036Z",
     "iopub.status.busy": "2025-10-03T18:32:29.161860Z",
     "iopub.status.idle": "2025-10-03T18:32:29.169715Z",
     "shell.execute_reply": "2025-10-03T18:32:29.169086Z"
    },
    "lines_to_next_cell": 0,
    "nbsphinx": "hidden",
    "papermill": {
     "duration": 0.011169,
     "end_time": "2025-10-03T18:32:29.171162",
     "exception": false,
     "start_time": "2025-10-03T18:32:29.159993",
     "status": "completed"
    },
    "tags": []
   },
   "outputs": [],
   "source": [
    "func = _known_functions[func_name]()\n",
    "\n",
    "if not positive_prior:\n",
    "\n",
    "\tenergy_grid = np.linspace(-5,5,1000)\n",
    "\n",
    "else:\n",
    "    \n",
    "    energy_grid = np.linspace(0,1,1000)\n",
    "    \n",
    "    \n",
    "    \n",
    "    \n",
    "blue = \"#4152E3\"\n",
    "red = \"#E3414B\"\n",
    "green = \"#41E39E\""
   ]
  },
  {
   "cell_type": "markdown",
   "id": "be79ae7d",
   "metadata": {
    "lines_to_next_cell": 0,
    "papermill": {
     "duration": 0.003234,
     "end_time": "2025-10-03T18:32:29.175784",
     "exception": false,
     "start_time": "2025-10-03T18:32:29.172550",
     "status": "completed"
    },
    "tags": []
   },
   "source": [
    "## Description"
   ]
  },
  {
   "cell_type": "code",
   "execution_count": 5,
   "id": "2240af06",
   "metadata": {
    "execution": {
     "iopub.execute_input": "2025-10-03T18:32:29.182433Z",
     "iopub.status.busy": "2025-10-03T18:32:29.181924Z",
     "iopub.status.idle": "2025-10-03T18:32:29.192922Z",
     "shell.execute_reply": "2025-10-03T18:32:29.192344Z"
    },
    "papermill": {
     "duration": 0.016948,
     "end_time": "2025-10-03T18:32:29.195034",
     "exception": false,
     "start_time": "2025-10-03T18:32:29.178086",
     "status": "completed"
    },
    "tags": []
   },
   "outputs": [
    {
     "data": {
      "text/html": [
       "<ul>\n",
       "\n",
       "<li>description: A function which is constant on the interval angular interval of cosine</li>\n",
       "\n",
       "<li>formula: $\\cos(x)$</li>\n",
       "\n",
       "<li>parameters: \n",
       "<ul>\n",
       "\n",
       "<li>lower_bound: \n",
       "<ul>\n",
       "\n",
       "<li>value: -90.0</li>\n",
       "\n",
       "<li>desc: Lower bound for the interval</li>\n",
       "\n",
       "<li>min_value: -inf</li>\n",
       "\n",
       "<li>max_value: inf</li>\n",
       "\n",
       "<li>unit: </li>\n",
       "\n",
       "<li>is_normalization: False</li>\n",
       "\n",
       "<li>delta: 9.0</li>\n",
       "\n",
       "<li>free: True</li>\n",
       "\n",
       "</ul>\n",
       "\n",
       "</li>\n",
       "\n",
       "<li>upper_bound: \n",
       "<ul>\n",
       "\n",
       "<li>value: 90.0</li>\n",
       "\n",
       "<li>desc: Upper bound for the interval</li>\n",
       "\n",
       "<li>min_value: -inf</li>\n",
       "\n",
       "<li>max_value: inf</li>\n",
       "\n",
       "<li>unit: </li>\n",
       "\n",
       "<li>is_normalization: False</li>\n",
       "\n",
       "<li>delta: 9.0</li>\n",
       "\n",
       "<li>free: True</li>\n",
       "\n",
       "</ul>\n",
       "\n",
       "</li>\n",
       "\n",
       "<li>value: \n",
       "<ul>\n",
       "\n",
       "<li>value: 1.0</li>\n",
       "\n",
       "<li>desc: Value in the interval</li>\n",
       "\n",
       "<li>min_value: None</li>\n",
       "\n",
       "<li>max_value: None</li>\n",
       "\n",
       "<li>unit: </li>\n",
       "\n",
       "<li>is_normalization: False</li>\n",
       "\n",
       "<li>delta: 0.1</li>\n",
       "\n",
       "<li>free: True</li>\n",
       "\n",
       "</ul>\n",
       "\n",
       "</li>\n",
       "\n",
       "</ul>\n",
       "\n",
       "</li>\n",
       "\n",
       "</ul>\n"
      ],
      "text/plain": [
       "  * description: A function which is constant on the interval angular interval of cosine\n",
       "  * formula: $\\cos(x)$\n",
       "  * parameters:\n",
       "    * lower_bound:\n",
       "      * value: -90.0\n",
       "      * desc: Lower bound for the interval\n",
       "      * min_value: -.inf\n",
       "      * max_value: .inf\n",
       "      * unit: ''\n",
       "      * is_normalization: false\n",
       "      * delta: 9.0\n",
       "      * free: true\n",
       "    * upper_bound:\n",
       "      * value: 90.0\n",
       "      * desc: Upper bound for the interval\n",
       "      * min_value: -.inf\n",
       "      * max_value: .inf\n",
       "      * unit: ''\n",
       "      * is_normalization: false\n",
       "      * delta: 9.0\n",
       "      * free: true\n",
       "    * value:\n",
       "      * value: 1.0\n",
       "      * desc: Value in the interval\n",
       "      * min_value: null\n",
       "      * max_value: null\n",
       "      * unit: ''\n",
       "      * is_normalization: false\n",
       "      * delta: 0.1\n",
       "      * free: true"
      ]
     },
     "metadata": {},
     "output_type": "display_data"
    }
   ],
   "source": [
    "func.display()"
   ]
  },
  {
   "cell_type": "markdown",
   "id": "e8b7ea27",
   "metadata": {
    "papermill": {
     "duration": 0.003934,
     "end_time": "2025-10-03T18:32:29.203360",
     "exception": false,
     "start_time": "2025-10-03T18:32:29.199426",
     "status": "completed"
    },
    "tags": []
   },
   "source": [
    "## Shape \n",
    "\n",
    "The shape of the function. \n",
    "\n",
    "*If this is not a photon model but a prior or linear function then ignore the units as these docs are auto-generated*"
   ]
  },
  {
   "cell_type": "code",
   "execution_count": 6,
   "id": "9d901b52",
   "metadata": {
    "execution": {
     "iopub.execute_input": "2025-10-03T18:32:29.207106Z",
     "iopub.status.busy": "2025-10-03T18:32:29.206924Z",
     "iopub.status.idle": "2025-10-03T18:32:29.299249Z",
     "shell.execute_reply": "2025-10-03T18:32:29.297231Z"
    },
    "papermill": {
     "duration": 0.095739,
     "end_time": "2025-10-03T18:32:29.300478",
     "exception": false,
     "start_time": "2025-10-03T18:32:29.204739",
     "status": "completed"
    },
    "tags": [
     "nbsphinx-thumbnail"
    ]
   },
   "outputs": [
    {
     "data": {
      "text/plain": [
       "Text(0, 0.5, 'probability')"
      ]
     },
     "execution_count": 6,
     "metadata": {},
     "output_type": "execute_result"
    },
    {
     "data": {
      "image/png": "[encoded data removed]",
      "text/plain": [
       "<Figure size 1040x910 with 1 Axes>"
      ]
     },
     "metadata": {},
     "output_type": "display_data"
    }
   ],
   "source": [
    "fig, ax = plt.subplots()\n",
    "\n",
    "\n",
    "ax.plot(energy_grid, func(energy_grid), color=blue, lw=3)\n",
    "\n",
    "ax.set_xlabel(\"x\")\n",
    "ax.set_ylabel(\"probability\")\n"
   ]
  },
  {
   "cell_type": "markdown",
   "id": "ab8571b9",
   "metadata": {
    "papermill": {
     "duration": 0.001549,
     "end_time": "2025-10-03T18:32:29.303851",
     "exception": false,
     "start_time": "2025-10-03T18:32:29.302302",
     "status": "completed"
    },
    "tags": []
   },
   "source": [
    "## Random Number Generation\n",
    "\n",
    "This is how we can generate random numbers from the prior.\n"
   ]
  },
  {
   "cell_type": "code",
   "execution_count": 7,
   "id": "03762217",
   "metadata": {
    "execution": {
     "iopub.execute_input": "2025-10-03T18:32:29.307865Z",
     "iopub.status.busy": "2025-10-03T18:32:29.307720Z",
     "iopub.status.idle": "2025-10-03T18:32:29.422996Z",
     "shell.execute_reply": "2025-10-03T18:32:29.422658Z"
    },
    "papermill": {
     "duration": 0.11904,
     "end_time": "2025-10-03T18:32:29.424352",
     "exception": false,
     "start_time": "2025-10-03T18:32:29.305312",
     "status": "completed"
    },
    "tags": []
   },
   "outputs": [
    {
     "data": {
      "text/plain": [
       "Text(0, 0.5, 'N')"
      ]
     },
     "execution_count": 7,
     "metadata": {},
     "output_type": "execute_result"
    },
    {
     "data": {
      "image/png": "[encoded data removed]",
      "text/plain": [
       "<Figure size 1040x910 with 1 Axes>"
      ]
     },
     "metadata": {},
     "output_type": "display_data"
    }
   ],
   "source": [
    "\n",
    "\n",
    "u = np.random.uniform(0,1, size=5000)\n",
    "\n",
    "draws = [func.from_unit_cube(x) for x in u]\n",
    "\n",
    "\n",
    "fig, ax = plt.subplots()\n",
    "\n",
    "\n",
    "ax.hist(draws, color=green, bins=50)\n",
    "\n",
    "ax.set_xlabel(\"value\")\n",
    "ax.set_ylabel(\"N\")\n",
    "\n"
   ]
  }
 ],
 "metadata": {
  "jupytext": {
   "formats": "ipynb,md"
  },
  "kernelspec": {
   "display_name": "Python 3 (ipykernel)",
   "language": "python",
   "name": "python3"
  },
  "language_info": {
   "codemirror_mode": {
    "name": "ipython",
    "version": 3
   },
   "file_extension": ".py",
   "mimetype": "text/x-python",
   "name": "python",
   "nbconvert_exporter": "python",
   "pygments_lexer": "ipython3",
   "version": "3.9.13"
  },
  "papermill": {
   "default_parameters": {},
   "duration": 3.384842,
   "end_time": "2025-10-03T18:32:29.849805",
   "environment_variables": {},
   "exception": null,
   "input_path": "Cosine_Prior.ipynb",
   "output_path": "/Users/runner/work/astromodels/astromodels/docs/notebooks/Cosine_Prior.ipynb",
   "parameters": {
    "func_name": "Cosine_Prior",
    "positive_prior": false
   },
   "start_time": "2025-10-03T18:32:26.464963",
   "version": "2.6.0"
  }
 },
 "nbformat": 4,
 "nbformat_minor": 5
}
