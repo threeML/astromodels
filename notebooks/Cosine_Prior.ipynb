{
 "cells": [
  {
   "cell_type": "markdown",
   "id": "31277025",
   "metadata": {
    "papermill": {
     "duration": 0.001708,
     "end_time": "2025-10-02T21:52:00.423326",
     "exception": false,
     "start_time": "2025-10-02T21:52:00.421618",
     "status": "completed"
    },
    "tags": []
   },
   "source": [
    "# Cosine Prior"
   ]
  },
  {
   "cell_type": "code",
   "execution_count": 1,
   "id": "4224744a",
   "metadata": {
    "execution": {
     "iopub.execute_input": "2025-10-02T21:52:00.426479Z",
     "iopub.status.busy": "2025-10-02T21:52:00.426276Z",
     "iopub.status.idle": "2025-10-02T21:52:02.301845Z",
     "shell.execute_reply": "2025-10-02T21:52:02.301229Z"
    },
    "nbsphinx": "hidden",
    "papermill": {
     "duration": 1.878742,
     "end_time": "2025-10-02T21:52:02.303321",
     "exception": false,
     "start_time": "2025-10-02T21:52:00.424579",
     "status": "completed"
    },
    "tags": []
   },
   "outputs": [],
   "source": [
    "%%capture\n",
    "\n",
    "import numpy as np\n",
    "\n",
    "import matplotlib.pyplot as plt\n",
    "\n",
    "import warnings\n",
    "warnings.simplefilter(\"ignore\")\n",
    "\n",
    "from astromodels.functions.function import _known_functions\n",
    "\n",
    "\n",
    "from jupyterthemes import jtplot\n",
    "jtplot.style(context=\"talk\", fscale=1, ticks=True, grid=False)\n",
    "%matplotlib inline"
   ]
  },
  {
   "cell_type": "code",
   "execution_count": 2,
   "id": "670a722e",
   "metadata": {
    "execution": {
     "iopub.execute_input": "2025-10-02T21:52:02.306773Z",
     "iopub.status.busy": "2025-10-02T21:52:02.306382Z",
     "iopub.status.idle": "2025-10-02T21:52:02.308682Z",
     "shell.execute_reply": "2025-10-02T21:52:02.308264Z"
    },
    "nbsphinx": "hidden",
    "papermill": {
     "duration": 0.005129,
     "end_time": "2025-10-02T21:52:02.309790",
     "exception": false,
     "start_time": "2025-10-02T21:52:02.304661",
     "status": "completed"
    },
    "tags": [
     "parameters"
    ]
   },
   "outputs": [],
   "source": [
    "func_name = \"TbAbs\"\n",
    "\n",
    "positive_prior = False\n"
   ]
  },
  {
   "cell_type": "code",
   "execution_count": 3,
   "id": "ae6b4677",
   "metadata": {
    "execution": {
     "iopub.execute_input": "2025-10-02T21:52:02.312398Z",
     "iopub.status.busy": "2025-10-02T21:52:02.312268Z",
     "iopub.status.idle": "2025-10-02T21:52:02.318228Z",
     "shell.execute_reply": "2025-10-02T21:52:02.317824Z"
    },
    "papermill": {
     "duration": 0.008407,
     "end_time": "2025-10-02T21:52:02.319270",
     "exception": false,
     "start_time": "2025-10-02T21:52:02.310863",
     "status": "completed"
    },
    "tags": [
     "injected-parameters"
    ]
   },
   "outputs": [],
   "source": [
    "# Parameters\n",
    "func_name = \"Cosine_Prior\"\n",
    "positive_prior = False\n"
   ]
  },
  {
   "cell_type": "code",
   "execution_count": 4,
   "id": "2d0bc827",
   "metadata": {
    "execution": {
     "iopub.execute_input": "2025-10-02T21:52:02.321776Z",
     "iopub.status.busy": "2025-10-02T21:52:02.321654Z",
     "iopub.status.idle": "2025-10-02T21:52:02.330449Z",
     "shell.execute_reply": "2025-10-02T21:52:02.330010Z"
    },
    "lines_to_next_cell": 0,
    "nbsphinx": "hidden",
    "papermill": {
     "duration": 0.011192,
     "end_time": "2025-10-02T21:52:02.331480",
     "exception": false,
     "start_time": "2025-10-02T21:52:02.320288",
     "status": "completed"
    },
    "tags": []
   },
   "outputs": [],
   "source": [
    "func = _known_functions[func_name]()\n",
    "\n",
    "if not positive_prior:\n",
    "\n",
    "\tenergy_grid = np.linspace(-5,5,1000)\n",
    "\n",
    "else:\n",
    "    \n",
    "    energy_grid = np.linspace(0,1,1000)\n",
    "    \n",
    "    \n",
    "    \n",
    "    \n",
    "blue = \"#4152E3\"\n",
    "red = \"#E3414B\"\n",
    "green = \"#41E39E\""
   ]
  },
  {
   "cell_type": "markdown",
   "id": "16626c14",
   "metadata": {
    "lines_to_next_cell": 0,
    "papermill": {
     "duration": 0.001019,
     "end_time": "2025-10-02T21:52:02.333604",
     "exception": false,
     "start_time": "2025-10-02T21:52:02.332585",
     "status": "completed"
    },
    "tags": []
   },
   "source": [
    "## Description"
   ]
  },
  {
   "cell_type": "code",
   "execution_count": 5,
   "id": "8dcc53d7",
   "metadata": {
    "execution": {
     "iopub.execute_input": "2025-10-02T21:52:02.336157Z",
     "iopub.status.busy": "2025-10-02T21:52:02.336030Z",
     "iopub.status.idle": "2025-10-02T21:52:02.339896Z",
     "shell.execute_reply": "2025-10-02T21:52:02.339418Z"
    },
    "papermill": {
     "duration": 0.006366,
     "end_time": "2025-10-02T21:52:02.340967",
     "exception": false,
     "start_time": "2025-10-02T21:52:02.334601",
     "status": "completed"
    },
    "tags": []
   },
   "outputs": [
    {
     "data": {
      "text/html": [
       "<ul>\n",
       "\n",
       "<li>description: A function which is constant on the interval angular interval of cosine</li>\n",
       "\n",
       "<li>formula: $\\cos(x)$</li>\n",
       "\n",
       "<li>parameters: \n",
       "<ul>\n",
       "\n",
       "<li>lower_bound: \n",
       "<ul>\n",
       "\n",
       "<li>value: -90.0</li>\n",
       "\n",
       "<li>desc: Lower bound for the interval</li>\n",
       "\n",
       "<li>min_value: -inf</li>\n",
       "\n",
       "<li>max_value: inf</li>\n",
       "\n",
       "<li>unit: </li>\n",
       "\n",
       "<li>is_normalization: False</li>\n",
       "\n",
       "<li>delta: 9.0</li>\n",
       "\n",
       "<li>free: True</li>\n",
       "\n",
       "</ul>\n",
       "\n",
       "</li>\n",
       "\n",
       "<li>upper_bound: \n",
       "<ul>\n",
       "\n",
       "<li>value: 90.0</li>\n",
       "\n",
       "<li>desc: Upper bound for the interval</li>\n",
       "\n",
       "<li>min_value: -inf</li>\n",
       "\n",
       "<li>max_value: inf</li>\n",
       "\n",
       "<li>unit: </li>\n",
       "\n",
       "<li>is_normalization: False</li>\n",
       "\n",
       "<li>delta: 9.0</li>\n",
       "\n",
       "<li>free: True</li>\n",
       "\n",
       "</ul>\n",
       "\n",
       "</li>\n",
       "\n",
       "<li>value: \n",
       "<ul>\n",
       "\n",
       "<li>value: 1.0</li>\n",
       "\n",
       "<li>desc: Value in the interval</li>\n",
       "\n",
       "<li>min_value: None</li>\n",
       "\n",
       "<li>max_value: None</li>\n",
       "\n",
       "<li>unit: </li>\n",
       "\n",
       "<li>is_normalization: False</li>\n",
       "\n",
       "<li>delta: 0.1</li>\n",
       "\n",
       "<li>free: True</li>\n",
       "\n",
       "</ul>\n",
       "\n",
       "</li>\n",
       "\n",
       "</ul>\n",
       "\n",
       "</li>\n",
       "\n",
       "</ul>\n"
      ],
      "text/plain": [
       "  * description: A function which is constant on the interval angular interval of cosine\n",
       "  * formula: $\\cos(x)$\n",
       "  * parameters:\n",
       "    * lower_bound:\n",
       "      * value: -90.0\n",
       "      * desc: Lower bound for the interval\n",
       "      * min_value: -.inf\n",
       "      * max_value: .inf\n",
       "      * unit: ''\n",
       "      * is_normalization: false\n",
       "      * delta: 9.0\n",
       "      * free: true\n",
       "    * upper_bound:\n",
       "      * value: 90.0\n",
       "      * desc: Upper bound for the interval\n",
       "      * min_value: -.inf\n",
       "      * max_value: .inf\n",
       "      * unit: ''\n",
       "      * is_normalization: false\n",
       "      * delta: 9.0\n",
       "      * free: true\n",
       "    * value:\n",
       "      * value: 1.0\n",
       "      * desc: Value in the interval\n",
       "      * min_value: null\n",
       "      * max_value: null\n",
       "      * unit: ''\n",
       "      * is_normalization: false\n",
       "      * delta: 0.1\n",
       "      * free: true"
      ]
     },
     "metadata": {},
     "output_type": "display_data"
    }
   ],
   "source": [
    "func.display()"
   ]
  },
  {
   "cell_type": "markdown",
   "id": "37de8895",
   "metadata": {
    "papermill": {
     "duration": 0.001169,
     "end_time": "2025-10-02T21:52:02.343286",
     "exception": false,
     "start_time": "2025-10-02T21:52:02.342117",
     "status": "completed"
    },
    "tags": []
   },
   "source": [
    "## Shape \n",
    "\n",
    "The shape of the function. \n",
    "\n",
    "*If this is not a photon model but a prior or linear function then ignore the units as these docs are auto-generated*"
   ]
  },
  {
   "cell_type": "code",
   "execution_count": 6,
   "id": "8f358ce8",
   "metadata": {
    "execution": {
     "iopub.execute_input": "2025-10-02T21:52:02.346200Z",
     "iopub.status.busy": "2025-10-02T21:52:02.346049Z",
     "iopub.status.idle": "2025-10-02T21:52:02.426919Z",
     "shell.execute_reply": "2025-10-02T21:52:02.426602Z"
    },
    "papermill": {
     "duration": 0.083708,
     "end_time": "2025-10-02T21:52:02.428195",
     "exception": false,
     "start_time": "2025-10-02T21:52:02.344487",
     "status": "completed"
    },
    "tags": [
     "nbsphinx-thumbnail"
    ]
   },
   "outputs": [
    {
     "data": {
      "text/plain": [
       "Text(0, 0.5, 'probability')"
      ]
     },
     "execution_count": 6,
     "metadata": {},
     "output_type": "execute_result"
    },
    {
     "data": {
      "image/png": "[encoded data removed]",
      "text/plain": [
       "<Figure size 1040x910 with 1 Axes>"
      ]
     },
     "metadata": {},
     "output_type": "display_data"
    }
   ],
   "source": [
    "fig, ax = plt.subplots()\n",
    "\n",
    "\n",
    "ax.plot(energy_grid, func(energy_grid), color=blue, lw=3)\n",
    "\n",
    "ax.set_xlabel(\"x\")\n",
    "ax.set_ylabel(\"probability\")\n"
   ]
  },
  {
   "cell_type": "markdown",
   "id": "8aaf81a6",
   "metadata": {
    "papermill": {
     "duration": 0.00159,
     "end_time": "2025-10-02T21:52:02.431942",
     "exception": false,
     "start_time": "2025-10-02T21:52:02.430352",
     "status": "completed"
    },
    "tags": []
   },
   "source": [
    "## Random Number Generation\n",
    "\n",
    "This is how we can generate random numbers from the prior.\n"
   ]
  },
  {
   "cell_type": "code",
   "execution_count": 7,
   "id": "5d70d4d9",
   "metadata": {
    "execution": {
     "iopub.execute_input": "2025-10-02T21:52:02.435514Z",
     "iopub.status.busy": "2025-10-02T21:52:02.435373Z",
     "iopub.status.idle": "2025-10-02T21:52:02.553844Z",
     "shell.execute_reply": "2025-10-02T21:52:02.552990Z"
    },
    "papermill": {
     "duration": 0.121621,
     "end_time": "2025-10-02T21:52:02.555020",
     "exception": false,
     "start_time": "2025-10-02T21:52:02.433399",
     "status": "completed"
    },
    "tags": []
   },
   "outputs": [
    {
     "data": {
      "text/plain": [
       "Text(0, 0.5, 'N')"
      ]
     },
     "execution_count": 7,
     "metadata": {},
     "output_type": "execute_result"
    },
    {
     "data": {
      "image/png": "[encoded data removed]",
      "text/plain": [
       "<Figure size 1040x910 with 1 Axes>"
      ]
     },
     "metadata": {},
     "output_type": "display_data"
    }
   ],
   "source": [
    "\n",
    "\n",
    "u = np.random.uniform(0,1, size=5000)\n",
    "\n",
    "draws = [func.from_unit_cube(x) for x in u]\n",
    "\n",
    "\n",
    "fig, ax = plt.subplots()\n",
    "\n",
    "\n",
    "ax.hist(draws, color=green, bins=50)\n",
    "\n",
    "ax.set_xlabel(\"value\")\n",
    "ax.set_ylabel(\"N\")\n",
    "\n"
   ]
  }
 ],
 "metadata": {
  "jupytext": {
   "formats": "ipynb,md"
  },
  "kernelspec": {
   "display_name": "Python 3 (ipykernel)",
   "language": "python",
   "name": "python3"
  },
  "language_info": {
   "codemirror_mode": {
    "name": "ipython",
    "version": 3
   },
   "file_extension": ".py",
   "mimetype": "text/x-python",
   "name": "python",
   "nbconvert_exporter": "python",
   "pygments_lexer": "ipython3",
   "version": "3.9.13"
  },
  "papermill": {
   "default_parameters": {},
   "duration": 3.277069,
   "end_time": "2025-10-02T21:52:02.980330",
   "environment_variables": {},
   "exception": null,
   "input_path": "Cosine_Prior.ipynb",
   "output_path": "/Users/runner/work/astromodels/astromodels/docs/notebooks/Cosine_Prior.ipynb",
   "parameters": {
    "func_name": "Cosine_Prior",
    "positive_prior": false
   },
   "start_time": "2025-10-02T21:51:59.703261",
   "version": "2.6.0"
  }
 },
 "nbformat": 4,
 "nbformat_minor": 5
}
