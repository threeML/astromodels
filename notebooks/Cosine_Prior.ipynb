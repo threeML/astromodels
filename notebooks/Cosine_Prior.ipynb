{
 "cells": [
  {
   "cell_type": "markdown",
   "id": "15770648",
   "metadata": {
    "papermill": {
     "duration": 0.002257,
     "end_time": "2025-10-03T17:16:44.191475",
     "exception": false,
     "start_time": "2025-10-03T17:16:44.189218",
     "status": "completed"
    },
    "tags": []
   },
   "source": [
    "# Cosine Prior"
   ]
  },
  {
   "cell_type": "code",
   "execution_count": 1,
   "id": "2ed2acb6",
   "metadata": {
    "execution": {
     "iopub.execute_input": "2025-10-03T17:16:44.195500Z",
     "iopub.status.busy": "2025-10-03T17:16:44.195310Z",
     "iopub.status.idle": "2025-10-03T17:16:47.586279Z",
     "shell.execute_reply": "2025-10-03T17:16:47.584979Z"
    },
    "nbsphinx": "hidden",
    "papermill": {
     "duration": 3.401152,
     "end_time": "2025-10-03T17:16:47.594297",
     "exception": false,
     "start_time": "2025-10-03T17:16:44.193145",
     "status": "completed"
    },
    "tags": []
   },
   "outputs": [],
   "source": [
    "%%capture\n",
    "\n",
    "import numpy as np\n",
    "\n",
    "import matplotlib.pyplot as plt\n",
    "\n",
    "import warnings\n",
    "warnings.simplefilter(\"ignore\")\n",
    "\n",
    "from astromodels.functions.function import _known_functions\n",
    "\n",
    "\n",
    "from jupyterthemes import jtplot\n",
    "jtplot.style(context=\"talk\", fscale=1, ticks=True, grid=False)\n",
    "%matplotlib inline"
   ]
  },
  {
   "cell_type": "code",
   "execution_count": 2,
   "id": "7403555f",
   "metadata": {
    "execution": {
     "iopub.execute_input": "2025-10-03T17:16:47.622809Z",
     "iopub.status.busy": "2025-10-03T17:16:47.622277Z",
     "iopub.status.idle": "2025-10-03T17:16:47.625715Z",
     "shell.execute_reply": "2025-10-03T17:16:47.625225Z"
    },
    "nbsphinx": "hidden",
    "papermill": {
     "duration": 0.023334,
     "end_time": "2025-10-03T17:16:47.628193",
     "exception": false,
     "start_time": "2025-10-03T17:16:47.604859",
     "status": "completed"
    },
    "tags": [
     "parameters"
    ]
   },
   "outputs": [],
   "source": [
    "func_name = \"TbAbs\"\n",
    "\n",
    "positive_prior = False\n"
   ]
  },
  {
   "cell_type": "code",
   "execution_count": 3,
   "id": "012c96ab",
   "metadata": {
    "execution": {
     "iopub.execute_input": "2025-10-03T17:16:47.631985Z",
     "iopub.status.busy": "2025-10-03T17:16:47.631798Z",
     "iopub.status.idle": "2025-10-03T17:16:47.636965Z",
     "shell.execute_reply": "2025-10-03T17:16:47.635393Z"
    },
    "papermill": {
     "duration": 0.010068,
     "end_time": "2025-10-03T17:16:47.639783",
     "exception": false,
     "start_time": "2025-10-03T17:16:47.629715",
     "status": "completed"
    },
    "tags": [
     "injected-parameters"
    ]
   },
   "outputs": [],
   "source": [
    "# Parameters\n",
    "func_name = \"Cosine_Prior\"\n",
    "positive_prior = False\n"
   ]
  },
  {
   "cell_type": "code",
   "execution_count": 4,
   "id": "16bd74c3",
   "metadata": {
    "execution": {
     "iopub.execute_input": "2025-10-03T17:16:47.644211Z",
     "iopub.status.busy": "2025-10-03T17:16:47.643751Z",
     "iopub.status.idle": "2025-10-03T17:16:47.651285Z",
     "shell.execute_reply": "2025-10-03T17:16:47.650221Z"
    },
    "lines_to_next_cell": 0,
    "nbsphinx": "hidden",
    "papermill": {
     "duration": 0.012783,
     "end_time": "2025-10-03T17:16:47.654057",
     "exception": false,
     "start_time": "2025-10-03T17:16:47.641274",
     "status": "completed"
    },
    "tags": []
   },
   "outputs": [],
   "source": [
    "func = _known_functions[func_name]()\n",
    "\n",
    "if not positive_prior:\n",
    "\n",
    "\tenergy_grid = np.linspace(-5,5,1000)\n",
    "\n",
    "else:\n",
    "    \n",
    "    energy_grid = np.linspace(0,1,1000)\n",
    "    \n",
    "    \n",
    "    \n",
    "    \n",
    "blue = \"#4152E3\"\n",
    "red = \"#E3414B\"\n",
    "green = \"#41E39E\""
   ]
  },
  {
   "cell_type": "markdown",
   "id": "2e8560b0",
   "metadata": {
    "lines_to_next_cell": 0,
    "papermill": {
     "duration": 0.002583,
     "end_time": "2025-10-03T17:16:47.658170",
     "exception": false,
     "start_time": "2025-10-03T17:16:47.655587",
     "status": "completed"
    },
    "tags": []
   },
   "source": [
    "## Description"
   ]
  },
  {
   "cell_type": "code",
   "execution_count": 5,
   "id": "90bd01a7",
   "metadata": {
    "execution": {
     "iopub.execute_input": "2025-10-03T17:16:47.663687Z",
     "iopub.status.busy": "2025-10-03T17:16:47.663499Z",
     "iopub.status.idle": "2025-10-03T17:16:47.669441Z",
     "shell.execute_reply": "2025-10-03T17:16:47.668491Z"
    },
    "papermill": {
     "duration": 0.012344,
     "end_time": "2025-10-03T17:16:47.672186",
     "exception": false,
     "start_time": "2025-10-03T17:16:47.659842",
     "status": "completed"
    },
    "tags": []
   },
   "outputs": [
    {
     "data": {
      "text/html": [
       "<ul>\n",
       "\n",
       "<li>description: A function which is constant on the interval angular interval of cosine</li>\n",
       "\n",
       "<li>formula: $\\cos(x)$</li>\n",
       "\n",
       "<li>parameters: \n",
       "<ul>\n",
       "\n",
       "<li>lower_bound: \n",
       "<ul>\n",
       "\n",
       "<li>value: -90.0</li>\n",
       "\n",
       "<li>desc: Lower bound for the interval</li>\n",
       "\n",
       "<li>min_value: -inf</li>\n",
       "\n",
       "<li>max_value: inf</li>\n",
       "\n",
       "<li>unit: </li>\n",
       "\n",
       "<li>is_normalization: False</li>\n",
       "\n",
       "<li>delta: 9.0</li>\n",
       "\n",
       "<li>free: True</li>\n",
       "\n",
       "</ul>\n",
       "\n",
       "</li>\n",
       "\n",
       "<li>upper_bound: \n",
       "<ul>\n",
       "\n",
       "<li>value: 90.0</li>\n",
       "\n",
       "<li>desc: Upper bound for the interval</li>\n",
       "\n",
       "<li>min_value: -inf</li>\n",
       "\n",
       "<li>max_value: inf</li>\n",
       "\n",
       "<li>unit: </li>\n",
       "\n",
       "<li>is_normalization: False</li>\n",
       "\n",
       "<li>delta: 9.0</li>\n",
       "\n",
       "<li>free: True</li>\n",
       "\n",
       "</ul>\n",
       "\n",
       "</li>\n",
       "\n",
       "<li>value: \n",
       "<ul>\n",
       "\n",
       "<li>value: 1.0</li>\n",
       "\n",
       "<li>desc: Value in the interval</li>\n",
       "\n",
       "<li>min_value: None</li>\n",
       "\n",
       "<li>max_value: None</li>\n",
       "\n",
       "<li>unit: </li>\n",
       "\n",
       "<li>is_normalization: False</li>\n",
       "\n",
       "<li>delta: 0.1</li>\n",
       "\n",
       "<li>free: True</li>\n",
       "\n",
       "</ul>\n",
       "\n",
       "</li>\n",
       "\n",
       "</ul>\n",
       "\n",
       "</li>\n",
       "\n",
       "</ul>\n"
      ],
      "text/plain": [
       "  * description: A function which is constant on the interval angular interval of cosine\n",
       "  * formula: $\\cos(x)$\n",
       "  * parameters:\n",
       "    * lower_bound:\n",
       "      * value: -90.0\n",
       "      * desc: Lower bound for the interval\n",
       "      * min_value: -.inf\n",
       "      * max_value: .inf\n",
       "      * unit: ''\n",
       "      * is_normalization: false\n",
       "      * delta: 9.0\n",
       "      * free: true\n",
       "    * upper_bound:\n",
       "      * value: 90.0\n",
       "      * desc: Upper bound for the interval\n",
       "      * min_value: -.inf\n",
       "      * max_value: .inf\n",
       "      * unit: ''\n",
       "      * is_normalization: false\n",
       "      * delta: 9.0\n",
       "      * free: true\n",
       "    * value:\n",
       "      * value: 1.0\n",
       "      * desc: Value in the interval\n",
       "      * min_value: null\n",
       "      * max_value: null\n",
       "      * unit: ''\n",
       "      * is_normalization: false\n",
       "      * delta: 0.1\n",
       "      * free: true"
      ]
     },
     "metadata": {},
     "output_type": "display_data"
    }
   ],
   "source": [
    "func.display()"
   ]
  },
  {
   "cell_type": "markdown",
   "id": "95ef78c1",
   "metadata": {
    "papermill": {
     "duration": 0.001529,
     "end_time": "2025-10-03T17:16:47.676571",
     "exception": false,
     "start_time": "2025-10-03T17:16:47.675042",
     "status": "completed"
    },
    "tags": []
   },
   "source": [
    "## Shape \n",
    "\n",
    "The shape of the function. \n",
    "\n",
    "*If this is not a photon model but a prior or linear function then ignore the units as these docs are auto-generated*"
   ]
  },
  {
   "cell_type": "code",
   "execution_count": 6,
   "id": "c3de92ab",
   "metadata": {
    "execution": {
     "iopub.execute_input": "2025-10-03T17:16:47.684623Z",
     "iopub.status.busy": "2025-10-03T17:16:47.684108Z",
     "iopub.status.idle": "2025-10-03T17:16:47.843867Z",
     "shell.execute_reply": "2025-10-03T17:16:47.841035Z"
    },
    "papermill": {
     "duration": 0.167055,
     "end_time": "2025-10-03T17:16:47.846787",
     "exception": false,
     "start_time": "2025-10-03T17:16:47.679732",
     "status": "completed"
    },
    "tags": [
     "nbsphinx-thumbnail"
    ]
   },
   "outputs": [
    {
     "data": {
      "text/plain": [
       "Text(0, 0.5, 'probability')"
      ]
     },
     "execution_count": 6,
     "metadata": {},
     "output_type": "execute_result"
    },
    {
     "data": {
      "image/png": "[encoded data removed]",
      "text/plain": [
       "<Figure size 1040x910 with 1 Axes>"
      ]
     },
     "metadata": {},
     "output_type": "display_data"
    }
   ],
   "source": [
    "fig, ax = plt.subplots()\n",
    "\n",
    "\n",
    "ax.plot(energy_grid, func(energy_grid), color=blue, lw=3)\n",
    "\n",
    "ax.set_xlabel(\"x\")\n",
    "ax.set_ylabel(\"probability\")\n"
   ]
  },
  {
   "cell_type": "markdown",
   "id": "8727c28a",
   "metadata": {
    "papermill": {
     "duration": 0.003015,
     "end_time": "2025-10-03T17:16:47.854041",
     "exception": false,
     "start_time": "2025-10-03T17:16:47.851026",
     "status": "completed"
    },
    "tags": []
   },
   "source": [
    "## Random Number Generation\n",
    "\n",
    "This is how we can generate random numbers from the prior.\n"
   ]
  },
  {
   "cell_type": "code",
   "execution_count": 7,
   "id": "6e141734",
   "metadata": {
    "execution": {
     "iopub.execute_input": "2025-10-03T17:16:47.864183Z",
     "iopub.status.busy": "2025-10-03T17:16:47.863475Z",
     "iopub.status.idle": "2025-10-03T17:16:48.090853Z",
     "shell.execute_reply": "2025-10-03T17:16:48.090124Z"
    },
    "papermill": {
     "duration": 0.235541,
     "end_time": "2025-10-03T17:16:48.092486",
     "exception": false,
     "start_time": "2025-10-03T17:16:47.856945",
     "status": "completed"
    },
    "tags": []
   },
   "outputs": [
    {
     "data": {
      "text/plain": [
       "Text(0, 0.5, 'N')"
      ]
     },
     "execution_count": 7,
     "metadata": {},
     "output_type": "execute_result"
    },
    {
     "data": {
      "image/png": "[encoded data removed]",
      "text/plain": [
       "<Figure size 1040x910 with 1 Axes>"
      ]
     },
     "metadata": {},
     "output_type": "display_data"
    }
   ],
   "source": [
    "\n",
    "\n",
    "u = np.random.uniform(0,1, size=5000)\n",
    "\n",
    "draws = [func.from_unit_cube(x) for x in u]\n",
    "\n",
    "\n",
    "fig, ax = plt.subplots()\n",
    "\n",
    "\n",
    "ax.hist(draws, color=green, bins=50)\n",
    "\n",
    "ax.set_xlabel(\"value\")\n",
    "ax.set_ylabel(\"N\")\n",
    "\n"
   ]
  }
 ],
 "metadata": {
  "jupytext": {
   "formats": "ipynb,md"
  },
  "kernelspec": {
   "display_name": "Python 3 (ipykernel)",
   "language": "python",
   "name": "python3"
  },
  "language_info": {
   "codemirror_mode": {
    "name": "ipython",
    "version": 3
   },
   "file_extension": ".py",
   "mimetype": "text/x-python",
   "name": "python",
   "nbconvert_exporter": "python",
   "pygments_lexer": "ipython3",
   "version": "3.9.13"
  },
  "papermill": {
   "default_parameters": {},
   "duration": 5.661082,
   "end_time": "2025-10-03T17:16:48.872974",
   "environment_variables": {},
   "exception": null,
   "input_path": "Cosine_Prior.ipynb",
   "output_path": "/Users/runner/work/astromodels/astromodels/docs/notebooks/Cosine_Prior.ipynb",
   "parameters": {
    "func_name": "Cosine_Prior",
    "positive_prior": false
   },
   "start_time": "2025-10-03T17:16:43.211892",
   "version": "2.6.0"
  }
 },
 "nbformat": 4,
 "nbformat_minor": 5
}
