{
 "cells": [
  {
   "cell_type": "markdown",
   "id": "502fa267",
   "metadata": {},
   "source": [
    "# Additional features for scripts and applications\n",
    "\n",
    "In this document we describe some features of the astromodels package which are useful for non-interactive environment such as scripts or applications\n",
    "\n",
    "First let’s import astromodels and let’s load a model from a file, which we will use as example:"
   ]
  },
  {
   "cell_type": "code",
   "execution_count": 1,
   "id": "84e9465d",
   "metadata": {
    "execution": {
     "iopub.execute_input": "2025-09-23T20:53:18.319918Z",
     "iopub.status.busy": "2025-09-23T20:53:18.319526Z",
     "iopub.status.idle": "2025-09-23T20:53:21.689623Z",
     "shell.execute_reply": "2025-09-23T20:53:21.688622Z"
    }
   },
   "outputs": [
    {
     "data": {
      "text/html": [
       "<pre style=\"white-space:pre;overflow-x:auto;line-height:normal;font-family:Menlo,'DejaVu Sans Mono',consolas,'Courier New',monospace\"><span style=\"color: #00ff00; text-decoration-color: #00ff00\">20:53:20 </span><span style=\"color: #af5fd7; text-decoration-color: #af5fd7\">WARNING </span> <span style=\"color: #c6c6c6; text-decoration-color: #c6c6c6; font-weight: bold\"> The naima package is not available. Models that depend on it will not be         </span><a href=\"file:///Users/runner/work/astromodels/astromodels/astromodels/functions/functions_1D/functions.py\" target=\"_blank\"><span style=\"color: #7f7f7f; text-decoration-color: #7f7f7f\">functions.py</span></a><span style=\"color: #7f7f7f; text-decoration-color: #7f7f7f\">:</span><a href=\"file:///Users/runner/work/astromodels/astromodels/astromodels/functions/functions_1D/functions.py#48\" target=\"_blank\"><span style=\"color: #7f7f7f; text-decoration-color: #7f7f7f\">48</span></a>\n",
       "<span style=\"color: #00ff00; text-decoration-color: #00ff00\">         </span>         <span style=\"color: #c6c6c6; text-decoration-color: #c6c6c6; font-weight: bold\">available                                                                         </span><span style=\"color: #7f7f7f; text-decoration-color: #7f7f7f\">               </span>\n",
       "</pre>\n"
      ],
      "text/plain": [
       "\u001b[38;5;46m20:53:20\u001b[0m\u001b[38;5;46m \u001b[0m\u001b[38;5;134mWARNING \u001b[0m \u001b[1;38;5;251m The naima package is not available. Models that depend on it will not be        \u001b[0m\u001b[1;38;5;251m \u001b[0m\u001b]8;id=176020;file:///Users/runner/work/astromodels/astromodels/astromodels/functions/functions_1D/functions.py\u001b\\\u001b[2mfunctions.py\u001b[0m\u001b]8;;\u001b\\\u001b[2m:\u001b[0m\u001b]8;id=567319;file:///Users/runner/work/astromodels/astromodels/astromodels/functions/functions_1D/functions.py#48\u001b\\\u001b[2m48\u001b[0m\u001b]8;;\u001b\\\n",
       "\u001b[38;5;46m         \u001b[0m         \u001b[1;38;5;251mavailable                                                                        \u001b[0m\u001b[1;38;5;251m \u001b[0m\u001b[2m               \u001b[0m\n"
      ]
     },
     "metadata": {},
     "output_type": "display_data"
    },
    {
     "data": {
      "text/html": [
       "<pre style=\"white-space:pre;overflow-x:auto;line-height:normal;font-family:Menlo,'DejaVu Sans Mono',consolas,'Courier New',monospace\"><span style=\"color: #00ff00; text-decoration-color: #00ff00\">         </span><span style=\"color: #af5fd7; text-decoration-color: #af5fd7\">WARNING </span> <span style=\"color: #c6c6c6; text-decoration-color: #c6c6c6; font-weight: bold\"> The GSL library or the pygsl wrapper cannot be loaded. Models that depend on it  </span><a href=\"file:///Users/runner/work/astromodels/astromodels/astromodels/functions/functions_1D/functions.py\" target=\"_blank\"><span style=\"color: #7f7f7f; text-decoration-color: #7f7f7f\">functions.py</span></a><span style=\"color: #7f7f7f; text-decoration-color: #7f7f7f\">:</span><a href=\"file:///Users/runner/work/astromodels/astromodels/astromodels/functions/functions_1D/functions.py#70\" target=\"_blank\"><span style=\"color: #7f7f7f; text-decoration-color: #7f7f7f\">70</span></a>\n",
       "<span style=\"color: #00ff00; text-decoration-color: #00ff00\">         </span>         <span style=\"color: #c6c6c6; text-decoration-color: #c6c6c6; font-weight: bold\">will not be available.                                                            </span><span style=\"color: #7f7f7f; text-decoration-color: #7f7f7f\">               </span>\n",
       "</pre>\n"
      ],
      "text/plain": [
       "\u001b[38;5;46m        \u001b[0m\u001b[38;5;46m \u001b[0m\u001b[38;5;134mWARNING \u001b[0m \u001b[1;38;5;251m The GSL library or the pygsl wrapper cannot be loaded. Models that depend on it \u001b[0m\u001b[1;38;5;251m \u001b[0m\u001b]8;id=54226;file:///Users/runner/work/astromodels/astromodels/astromodels/functions/functions_1D/functions.py\u001b\\\u001b[2mfunctions.py\u001b[0m\u001b]8;;\u001b\\\u001b[2m:\u001b[0m\u001b]8;id=359027;file:///Users/runner/work/astromodels/astromodels/astromodels/functions/functions_1D/functions.py#70\u001b\\\u001b[2m70\u001b[0m\u001b]8;;\u001b\\\n",
       "\u001b[38;5;46m         \u001b[0m         \u001b[1;38;5;251mwill not be available.                                                           \u001b[0m\u001b[1;38;5;251m \u001b[0m\u001b[2m               \u001b[0m\n"
      ]
     },
     "metadata": {},
     "output_type": "display_data"
    }
   ],
   "source": [
    "from astromodels import *"
   ]
  },
  {
   "cell_type": "code",
   "execution_count": 2,
   "id": "f07daa25",
   "metadata": {
    "execution": {
     "iopub.execute_input": "2025-09-23T20:53:21.697020Z",
     "iopub.status.busy": "2025-09-23T20:53:21.696093Z",
     "iopub.status.idle": "2025-09-23T20:53:21.732464Z",
     "shell.execute_reply": "2025-09-23T20:53:21.731365Z"
    }
   },
   "outputs": [],
   "source": [
    "my_model = load_model(\"my_model.yml\")"
   ]
  },
  {
   "cell_type": "markdown",
   "id": "5ef0d9fe",
   "metadata": {},
   "source": [
    "## Get dictionaries of point and extended sources\n",
    "\n",
    "If you don’t know the details (such as names) of the sources contained in the model, you can obtain dictionaries of point sources and extended sources like:"
   ]
  },
  {
   "cell_type": "code",
   "execution_count": 3,
   "id": "96217b18",
   "metadata": {
    "execution": {
     "iopub.execute_input": "2025-09-23T20:53:21.736313Z",
     "iopub.status.busy": "2025-09-23T20:53:21.736095Z",
     "iopub.status.idle": "2025-09-23T20:53:21.739840Z",
     "shell.execute_reply": "2025-09-23T20:53:21.738843Z"
    }
   },
   "outputs": [
    {
     "name": "stdout",
     "output_type": "stream",
     "text": [
      "odict_keys(['source_1', 'source_2'])\n",
      "odict_keys([])\n"
     ]
    }
   ],
   "source": [
    "point_sources = my_model.point_sources\n",
    "extended_sources = my_model.extended_sources\n",
    "\n",
    "# Print the names of the point sources\n",
    "print(point_sources.keys())\n",
    "\n",
    "# Print the names of the extended sources\n",
    "print(extended_sources.keys())"
   ]
  },
  {
   "cell_type": "markdown",
   "id": "f312bca0",
   "metadata": {},
   "source": [
    "You can use these dictionaries as usual. For example, you can loop over all point sources and print their position:"
   ]
  },
  {
   "cell_type": "code",
   "execution_count": 4,
   "id": "d13d896e",
   "metadata": {
    "execution": {
     "iopub.execute_input": "2025-09-23T20:53:21.743141Z",
     "iopub.status.busy": "2025-09-23T20:53:21.742984Z",
     "iopub.status.idle": "2025-09-23T20:53:21.748911Z",
     "shell.execute_reply": "2025-09-23T20:53:21.748282Z"
    }
   },
   "outputs": [
    {
     "name": "stdout",
     "output_type": "stream",
     "text": [
      "The model contain point source source_1 at Sky direction (R.A., Dec.) = (125.60000, -75.30000) (J2000)\n",
      "The model contain point source source_2 at Sky direction (l, b) = (11.25000, -22.50000) (J2000)\n"
     ]
    }
   ],
   "source": [
    "for source_name, point_source in point_sources.items():\n",
    "\n",
    "    print(\"The model contain point source %s at %s\" % (source_name, point_source.position))"
   ]
  },
  {
   "cell_type": "markdown",
   "id": "3713054e",
   "metadata": {},
   "source": [
    "## Accessing components and spectral shapes with no previous information\n",
    "\n",
    "Similarly you can access components and their spectral shapes (i.e., functions) without knowing the names in advance. A dictionary containing the components of a given source can be obtained with:"
   ]
  },
  {
   "cell_type": "code",
   "execution_count": 5,
   "id": "b42620e6",
   "metadata": {
    "execution": {
     "iopub.execute_input": "2025-09-23T20:53:21.751529Z",
     "iopub.status.busy": "2025-09-23T20:53:21.751385Z",
     "iopub.status.idle": "2025-09-23T20:53:21.758263Z",
     "shell.execute_reply": "2025-09-23T20:53:21.757294Z"
    }
   },
   "outputs": [
    {
     "name": "stdout",
     "output_type": "stream",
     "text": [
      "odict_keys(['synchrotron', 'IC'])\n"
     ]
    }
   ],
   "source": [
    "components = my_model.source_2.components\n",
    "print(components.keys())"
   ]
  },
  {
   "cell_type": "markdown",
   "id": "dfd8e601",
   "metadata": {},
   "source": [
    "So now we can loop over all the sources and print their components:"
   ]
  },
  {
   "cell_type": "code",
   "execution_count": 6,
   "id": "06355fab",
   "metadata": {
    "execution": {
     "iopub.execute_input": "2025-09-23T20:53:21.762138Z",
     "iopub.status.busy": "2025-09-23T20:53:21.761936Z",
     "iopub.status.idle": "2025-09-23T20:53:21.766100Z",
     "shell.execute_reply": "2025-09-23T20:53:21.765122Z"
    }
   },
   "outputs": [
    {
     "name": "stdout",
     "output_type": "stream",
     "text": [
      "Point source source_1 has components odict_keys(['main'])\n",
      "Point source source_2 has components odict_keys(['synchrotron', 'IC'])\n"
     ]
    }
   ],
   "source": [
    "for source_name, point_source in my_model.point_sources.items():\n",
    "\n",
    "    print(\"Point source %s has components %s\" % (source_name, point_source.components.keys()))"
   ]
  },
  {
   "cell_type": "markdown",
   "id": "4897a0a0",
   "metadata": {},
   "source": [
    "With a fully-qualified path, you would need to know the name of the function to access its parameters. Instead, you can use the generic name “shape”. For example these two statements point to the same function instance:"
   ]
  },
  {
   "cell_type": "code",
   "execution_count": 7,
   "id": "6c14a1c5",
   "metadata": {
    "execution": {
     "iopub.execute_input": "2025-09-23T20:53:21.769331Z",
     "iopub.status.busy": "2025-09-23T20:53:21.769053Z",
     "iopub.status.idle": "2025-09-23T20:53:21.774587Z",
     "shell.execute_reply": "2025-09-23T20:53:21.773158Z"
    }
   },
   "outputs": [
    {
     "data": {
      "text/plain": [
       "True"
      ]
     },
     "execution_count": 7,
     "metadata": {},
     "output_type": "execute_result"
    }
   ],
   "source": [
    "my_model.source_1.spectrum.main.Powerlaw == my_model.source_1.spectrum.main.shape\n"
   ]
  },
  {
   "cell_type": "markdown",
   "id": "429f34ce",
   "metadata": {},
   "source": [
    "Once you have a function instance, you can obtain a dictionary of its parameters as:"
   ]
  },
  {
   "cell_type": "code",
   "execution_count": 8,
   "id": "de045826",
   "metadata": {
    "execution": {
     "iopub.execute_input": "2025-09-23T20:53:21.778936Z",
     "iopub.status.busy": "2025-09-23T20:53:21.778711Z",
     "iopub.status.idle": "2025-09-23T20:53:21.781543Z",
     "shell.execute_reply": "2025-09-23T20:53:21.780909Z"
    }
   },
   "outputs": [
    {
     "name": "stdout",
     "output_type": "stream",
     "text": [
      "odict_keys(['K', 'piv', 'index'])\n"
     ]
    }
   ],
   "source": [
    "parameters = my_model.source_1.spectrum.main.Powerlaw.parameters\n",
    "print(parameters.keys())"
   ]
  },
  {
   "cell_type": "markdown",
   "id": "0433d9be",
   "metadata": {},
   "source": [
    "Putting it all together, let’s loop over all sources in our model, then over each component in each source, then over each parameter in each component:"
   ]
  },
  {
   "cell_type": "code",
   "execution_count": 9,
   "id": "b7693e6f",
   "metadata": {
    "execution": {
     "iopub.execute_input": "2025-09-23T20:53:21.784888Z",
     "iopub.status.busy": "2025-09-23T20:53:21.784740Z",
     "iopub.status.idle": "2025-09-23T20:53:21.788184Z",
     "shell.execute_reply": "2025-09-23T20:53:21.787428Z"
    }
   },
   "outputs": [
    {
     "name": "stdout",
     "output_type": "stream",
     "text": [
      "Found source source_1\n",
      "  Position of point source: Sky direction (R.A., Dec.) = (125.60000, -75.30000) (J2000)\n",
      "    Found component main\n",
      "      Found parameter K\n",
      "      Found parameter piv\n",
      "      Found parameter index\n",
      "Found source source_2\n",
      "  Position of point source: Sky direction (l, b) = (11.25000, -22.50000) (J2000)\n",
      "    Found component synchrotron\n",
      "      Found parameter K\n",
      "      Found parameter piv\n",
      "      Found parameter index\n",
      "    Found component IC\n",
      "      Found parameter K\n",
      "      Found parameter piv\n",
      "      Found parameter index\n"
     ]
    }
   ],
   "source": [
    "for source_name, point_source in my_model.point_sources.items():\n",
    "\n",
    "    print(\"Found source %s\" % source_name)\n",
    "\n",
    "    print(\"  Position of point source: %s\" % point_source.position)\n",
    "\n",
    "    for component_name, component in point_source.components.items():\n",
    "\n",
    "        print(\"    Found component %s\" % component_name)\n",
    "\n",
    "        for parameter_name, parameter in component.shape.parameters.items():\n",
    "\n",
    "            print(\"      Found parameter %s\" % parameter_name)"
   ]
  },
  {
   "cell_type": "markdown",
   "id": "c13d0c40",
   "metadata": {},
   "source": [
    "Let’s now plot the differential flux between 1 and 100 keV of all components from all sources:\n",
    "\n"
   ]
  },
  {
   "cell_type": "code",
   "execution_count": 10,
   "id": "142e10da",
   "metadata": {
    "execution": {
     "iopub.execute_input": "2025-09-23T20:53:21.791078Z",
     "iopub.status.busy": "2025-09-23T20:53:21.790927Z",
     "iopub.status.idle": "2025-09-23T20:53:24.568185Z",
     "shell.execute_reply": "2025-09-23T20:53:24.566324Z"
    }
   },
   "outputs": [
    {
     "data": {
      "text/plain": [
       "Text(0, 0.5, 'Flux (ph cm$^{-2}$ s$^{-1}$ keV$^{-1}$')"
      ]
     },
     "execution_count": 10,
     "metadata": {},
     "output_type": "execute_result"
    },
    {
     "data": {
      "image/png": "[encoded data removed]",
      "text/plain": [
       "<Figure size 1040x910 with 1 Axes>"
      ]
     },
     "metadata": {},
     "output_type": "display_data"
    }
   ],
   "source": [
    "import numpy as np\n",
    "import matplotlib.pyplot as plt\n",
    "%matplotlib inline\n",
    "from jupyterthemes import jtplot\n",
    "jtplot.style(context=\"talk\", fscale=1, ticks=True, grid=False)\n",
    "\n",
    "fig, ax = plt.subplots()\n",
    "\n",
    "\n",
    "# Prepare 100 energies logarithmicall spaced between 1 and 100 keV\n",
    "energies = np.geomspace(1,100,100)\n",
    "\n",
    "# Now loop over all point sources and plot them\n",
    "for source_name, point_source in my_model.point_sources.items():\n",
    "\n",
    "    # Plot the sum of all components for this source\n",
    "\n",
    "    ax.loglog(energies, point_source(energies),label=source_name)\n",
    "\n",
    "    # If there is more than one component, plot them also separately\n",
    "\n",
    "    if len(point_source.components) > 1:\n",
    "\n",
    "        for component_name, component in point_source.components.items():\n",
    "\n",
    "            ax.loglog(energies,component.shape(energies),'--',label=\"%s of %s\" %(component_name, source_name))\n",
    "\n",
    "# Add a legend\n",
    "ax.legend(loc=0,frameon=False)\n",
    "\n",
    "ax.set_xlabel(\"Energy (keV)\")\n",
    "ax.set_ylabel(r\"Flux (ph cm$^{-2}$ s$^{-1}$ keV$^{-1}$\")"
   ]
  },
  {
   "cell_type": "markdown",
   "id": "c5d19dfd",
   "metadata": {},
   "source": [
    "## Getting the path of an element and using it programmatically\n",
    "\n",
    "Whenever you have an element from the model, you can get its fully-qualified path by using the .path property. This for example will print the path of all the parameters in the model:"
   ]
  },
  {
   "cell_type": "code",
   "execution_count": 11,
   "id": "b92f8010",
   "metadata": {
    "execution": {
     "iopub.execute_input": "2025-09-23T20:53:24.573341Z",
     "iopub.status.busy": "2025-09-23T20:53:24.572755Z",
     "iopub.status.idle": "2025-09-23T20:53:24.578786Z",
     "shell.execute_reply": "2025-09-23T20:53:24.577870Z"
    }
   },
   "outputs": [
    {
     "name": "stdout",
     "output_type": "stream",
     "text": [
      "source_1.spectrum.main.Powerlaw.K\n",
      "source_1.spectrum.main.Powerlaw.piv\n",
      "source_1.spectrum.main.Powerlaw.index\n",
      "source_2.spectrum.synchrotron.Powerlaw.K\n",
      "source_2.spectrum.synchrotron.Powerlaw.piv\n",
      "source_2.spectrum.synchrotron.Powerlaw.index\n",
      "source_2.spectrum.IC.Powerlaw.K\n",
      "source_2.spectrum.IC.Powerlaw.piv\n",
      "source_2.spectrum.IC.Powerlaw.index\n"
     ]
    }
   ],
   "source": [
    "for source_name, point_source in my_model.point_sources.items():\n",
    "\n",
    "    for component_name, component in point_source.components.items():\n",
    "\n",
    "        for parameter_name, parameter in component.shape.parameters.items():\n",
    "\n",
    "            print(parameter.path)"
   ]
  },
  {
   "cell_type": "markdown",
   "id": "df9ebc06",
   "metadata": {},
   "source": [
    "If you have a path of an element in a string, you can use it to access the element by using the [] operator of the Model class like this:"
   ]
  },
  {
   "cell_type": "code",
   "execution_count": 12,
   "id": "0f2e91fa",
   "metadata": {
    "execution": {
     "iopub.execute_input": "2025-09-23T20:53:24.583851Z",
     "iopub.status.busy": "2025-09-23T20:53:24.583390Z",
     "iopub.status.idle": "2025-09-23T20:53:24.592222Z",
     "shell.execute_reply": "2025-09-23T20:53:24.591063Z"
    }
   },
   "outputs": [
    {
     "name": "stdout",
     "output_type": "stream",
     "text": [
      "Parameter K = 0.8 [1 / (keV s cm2)]\n",
      "(min_value = 1e-30, max_value = 1000.0, delta = 0.1, free = True)\n"
     ]
    }
   ],
   "source": [
    "my_path = 'source_2.spectrum.IC.Powerlaw.K'\n",
    "\n",
    "K = my_model[my_path]\n",
    "\n",
    "print(K)"
   ]
  },
  {
   "cell_type": "markdown",
   "id": "c2c1edf7",
   "metadata": {},
   "source": [
    "## Alternative way of accessing the information in the model\n",
    "\n",
    "We present here an alternative way to get information from the model without using dictionaries, and using instead source IDs. A source ID is just an ordinal number, separate for point sources and extended sources. Hence, the first point source has ID 0, the second point source has ID 1, and so on. Similarly, the first extended source has ID 0, the second has ID 1 and so on:"
   ]
  },
  {
   "cell_type": "code",
   "execution_count": 13,
   "id": "69d5f553",
   "metadata": {
    "execution": {
     "iopub.execute_input": "2025-09-23T20:53:24.596594Z",
     "iopub.status.busy": "2025-09-23T20:53:24.596219Z",
     "iopub.status.idle": "2025-09-23T20:53:24.605909Z",
     "shell.execute_reply": "2025-09-23T20:53:24.604830Z"
    }
   },
   "outputs": [
    {
     "name": "stdout",
     "output_type": "stream",
     "text": [
      "The first point source is called source_1\n",
      "The second point source is called source_2\n",
      "Point source ID 0 has name source_1\n",
      "Point source ID 1 has name source_2\n"
     ]
    }
   ],
   "source": [
    "# Get the number of point sources and of extended sources\n",
    "\n",
    "n_pts = my_model.get_number_of_point_sources()\n",
    "n_ext = my_model.get_number_of_extended_sources()\n",
    "\n",
    "# Get the name of the first point source\n",
    "\n",
    "print(\"The first point source is called %s\" % my_model.get_point_source_name(0))\n",
    "print(\"The second point source is called %s\" % my_model.get_point_source_name(1))\n",
    "\n",
    "# Of course you can achieve the same in a loop\n",
    "\n",
    "for id in range(n_pts):\n",
    "\n",
    "    print(\"Point source ID %s has name %s\" % (id, my_model.get_point_source_name(id)))"
   ]
  },
  {
   "cell_type": "markdown",
   "id": "f544724e",
   "metadata": {},
   "source": [
    "Once you have the ID of a source, you can obtain information about it with these methods of the Model class:"
   ]
  },
  {
   "cell_type": "code",
   "execution_count": 14,
   "id": "4928e0cb",
   "metadata": {
    "execution": {
     "iopub.execute_input": "2025-09-23T20:53:24.609787Z",
     "iopub.status.busy": "2025-09-23T20:53:24.609602Z",
     "iopub.status.idle": "2025-09-23T20:53:24.617683Z",
     "shell.execute_reply": "2025-09-23T20:53:24.617020Z"
    }
   },
   "outputs": [],
   "source": [
    "src_id = 1\n",
    "\n",
    "src_name = my_model.get_point_source_name(src_id)\n",
    "\n",
    "ra, dec = my_model.get_point_source_position(src_id) # This will always return ra,dec\n",
    "\n",
    "# Prepare 100 energies logarithmically spaced between 1 and 100 keV\n",
    "energies = np.logspace(0,2,100)\n",
    "\n",
    "differential_flux = my_model.get_point_source_fluxes(src_id, energies)\n",
    "\n",
    "# Similar methods exist for extended sources (to be completed)"
   ]
  },
  {
   "cell_type": "markdown",
   "id": "429c9b20",
   "metadata": {},
   "source": [
    "Depending on your application you might find these methods more convenient that interrogating the sources directly. Note however that some features are not available through this interface. For example, it is not possible to get information about different components through these methods."
   ]
  },
  {
   "cell_type": "code",
   "execution_count": null,
   "id": "1da68805",
   "metadata": {},
   "outputs": [],
   "source": []
  }
 ],
 "metadata": {
  "jupytext": {
   "formats": "ipynb,md"
  },
  "kernelspec": {
   "display_name": "Python 3",
   "language": "python",
   "name": "python3"
  },
  "language_info": {
   "codemirror_mode": {
    "name": "ipython",
    "version": 3
   },
   "file_extension": ".py",
   "mimetype": "text/x-python",
   "name": "python",
   "nbconvert_exporter": "python",
   "pygments_lexer": "ipython3",
   "version": "3.9.13"
  }
 },
 "nbformat": 4,
 "nbformat_minor": 5
}
